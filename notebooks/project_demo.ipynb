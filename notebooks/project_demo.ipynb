{
 "cells": [
  {
   "cell_type": "code",
   "execution_count": null,
   "metadata": {},
   "outputs": [],
   "source": [
    "import numpy as np \n",
    "import matplotlib.pyplot as plt\n",
    "import pandas as pd\n",
    "\n",
    "from scipy.optimize import newton\n",
    "\n",
    "from utils import *\n",
    "\n",
    "from ipywidgets import interact\n",
    "\n",
    "import torch\n",
    "from torch import nn\n",
    "import torch.nn.functional as F"
   ]
  },
  {
   "cell_type": "code",
   "execution_count": null,
   "metadata": {},
   "outputs": [],
   "source": [
    "device = 'cuda' if torch.cuda.is_available() else 'cpu'\n",
    "print('Using {} device'.format(device))"
   ]
  },
  {
   "cell_type": "code",
   "execution_count": null,
   "metadata": {},
   "outputs": [],
   "source": [
    "from matplotlib.image import imread\n",
    "\n",
    "data = imread('../data/mondrian_small.jpg').sum(axis=2)\n",
    "data = data/data.max()\n",
    "im_true = torch.Tensor(data)\n",
    "im_true = im_true.to(device=device)\n",
    "\n",
    "plt.imshow(im_true.cpu().detach().numpy(), 'Greys_r')"
   ]
  },
  {
   "cell_type": "code",
   "execution_count": null,
   "metadata": {},
   "outputs": [],
   "source": [
    "im_true.shape"
   ]
  },
  {
   "cell_type": "code",
   "execution_count": null,
   "metadata": {},
   "outputs": [],
   "source": [
    "shape = im_true.shape"
   ]
  },
  {
   "cell_type": "code",
   "execution_count": null,
   "metadata": {},
   "outputs": [],
   "source": [
    "class MatrixFactorization(torch.nn.Module):\n",
    "    def __init__(self, rows, cols, n_factors=10):\n",
    "        super().__init__()\n",
    "        self.row_embedding = torch.nn.parameter.Parameter(torch.rand(rows, n_factors), requires_grad=True)\n",
    "        self.col_embedding = torch.nn.parameter.Parameter(torch.rand(n_factors, cols), requires_grad=True)\n",
    "\n",
    "    def forward(self):\n",
    "        return torch.matmul( self.row_embedding, self.col_embedding )"
   ]
  },
  {
   "cell_type": "code",
   "execution_count": null,
   "metadata": {},
   "outputs": [],
   "source": [
    "im_true.shape"
   ]
  },
  {
   "cell_type": "code",
   "execution_count": null,
   "metadata": {},
   "outputs": [],
   "source": [
    "mf = MatrixFactorization(100, 100, 10).to(device=device)"
   ]
  },
  {
   "cell_type": "code",
   "execution_count": null,
   "metadata": {},
   "outputs": [],
   "source": [
    "import torch.optim as optim\n",
    "\n",
    "criterion = nn.MSELoss()\n",
    "optimizer = optim.SGD(mf.parameters(), lr=0.001)"
   ]
  },
  {
   "cell_type": "code",
   "execution_count": null,
   "metadata": {},
   "outputs": [],
   "source": [
    "for epoch in range(100000):\n",
    "    \n",
    "    optimizer.zero_grad()\n",
    "\n",
    "    output = mf.forward()\n",
    "    loss = criterion(output,im_true)\n",
    "    loss.backward()\n",
    "    optimizer.step()\n",
    "\n",
    "    if epoch % 10000 == 0:\n",
    "        print(loss)"
   ]
  },
  {
   "cell_type": "code",
   "execution_count": null,
   "metadata": {},
   "outputs": [],
   "source": [
    "torch.norm((mf.row_embedding @ mf.col_embedding) - im_true)"
   ]
  },
  {
   "cell_type": "code",
   "execution_count": null,
   "metadata": {},
   "outputs": [],
   "source": [
    "plt.imshow( (mf.row_embedding @ mf.col_embedding).cpu().detach().numpy() , cmap='Greys_r')"
   ]
  },
  {
   "cell_type": "code",
   "execution_count": null,
   "metadata": {},
   "outputs": [],
   "source": [
    "mf2 = MatrixFactorization(100, 100, 10).to(device=device)"
   ]
  },
  {
   "cell_type": "code",
   "execution_count": null,
   "metadata": {},
   "outputs": [],
   "source": [
    "def laplacian_loss(X):\n",
    "    added_dims = torch.unsqueeze(torch.unsqueeze(X,dim=0),dim=0)\n",
    "    laplacian_kernel = torch.Tensor([[ [[0.,-1.,0.],[-1.,2.,-1.],[0.,-1.,0.]] ]]).to(device=device)\n",
    "\n",
    "    return F.conv2d(added_dims, laplacian_kernel).pow(2).sum()\n",
    "    \n",
    "criterion = nn.MSELoss()\n",
    "optimizer = optim.SGD(mf2.parameters(), lr=0.001)"
   ]
  },
  {
   "cell_type": "code",
   "execution_count": null,
   "metadata": {},
   "outputs": [],
   "source": [
    "def total_variation_loss(X):\n",
    "    \"\"\"\n",
    "    This loss function returns the sum of the L1 total variations of each generated feature.\n",
    "    \"\"\"\n",
    "    \n",
    "    # get masked features\n",
    "    # reshape back to 3D, filling gaps with zeros\n",
    "    # compute total variation across each feature\n",
    "    # sum TV values for each feature\n",
    "    \n",
    "    #multimask = torch.stack( [mask]*100, dim=4 ) # stack the mask into the channel dimension to make filtering easier\n",
    "    \n",
    "    #x[~multimask] = 0.0 # set all values that are outside the mask to zero\n",
    "    \n",
    "    x_diffs = X[1:, :] - X[:-1, :]\n",
    "    \n",
    "    y_diffs = X[:, 1:] - X[:, :-1]\n",
    "    \n",
    "    TV = x_diffs.abs().sum() + y_diffs.abs().sum()\n",
    "    \n",
    "    return TV"
   ]
  },
  {
   "cell_type": "code",
   "execution_count": null,
   "metadata": {},
   "outputs": [],
   "source": [
    "for epoch in range(100000):\n",
    "    \n",
    "    optimizer.zero_grad()\n",
    "\n",
    "    output = mf2.forward()\n",
    "    loss = criterion(output, im_true) + 0.0001*laplacian_loss(output) + 0.0001*total_variation_loss(output)\n",
    "    loss.backward()\n",
    "    optimizer.step()\n",
    "\n",
    "    if epoch % 10000 == 0:\n",
    "        print(loss)"
   ]
  },
  {
   "cell_type": "code",
   "execution_count": null,
   "metadata": {},
   "outputs": [],
   "source": [
    "plt.imshow(output.cpu().detach().numpy(), 'Greys_r')"
   ]
  },
  {
   "cell_type": "code",
   "execution_count": null,
   "metadata": {},
   "outputs": [],
   "source": [
    "torch.linalg.norm((mf.row_embedding @ mf.col_embedding) - im_true)"
   ]
  },
  {
   "cell_type": "code",
   "execution_count": null,
   "metadata": {},
   "outputs": [],
   "source": []
  }
 ],
 "metadata": {
  "interpreter": {
   "hash": "22ee4ece52021b4a120b95b326dd7a4d7938576e919f53927a7959ab5d7e1e45"
  },
  "kernelspec": {
   "display_name": "spatialSFT",
   "language": "python",
   "name": "python3"
  },
  "language_info": {
   "codemirror_mode": {
    "name": "ipython",
    "version": 3
   },
   "file_extension": ".py",
   "mimetype": "text/x-python",
   "name": "python",
   "nbconvert_exporter": "python",
   "pygments_lexer": "ipython3",
   "version": "3.8.6"
  }
 },
 "nbformat": 4,
 "nbformat_minor": 2
}
