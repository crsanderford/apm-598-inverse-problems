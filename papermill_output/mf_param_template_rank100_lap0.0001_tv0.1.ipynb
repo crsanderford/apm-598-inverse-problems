{
 "cells": [
  {
   "cell_type": "markdown",
   "id": "890014ba",
   "metadata": {
    "papermill": {
     "duration": 0.016804,
     "end_time": "2022-04-25T17:13:47.018109",
     "exception": false,
     "start_time": "2022-04-25T17:13:47.001305",
     "status": "completed"
    },
    "tags": []
   },
   "source": [
    "### setup"
   ]
  },
  {
   "cell_type": "code",
   "execution_count": 1,
   "id": "0f505f3a",
   "metadata": {
    "execution": {
     "iopub.execute_input": "2022-04-25T17:13:47.057496Z",
     "iopub.status.busy": "2022-04-25T17:13:47.057111Z",
     "iopub.status.idle": "2022-04-25T17:13:55.434466Z",
     "shell.execute_reply": "2022-04-25T17:13:55.433908Z"
    },
    "papermill": {
     "duration": 8.397884,
     "end_time": "2022-04-25T17:13:55.434630",
     "exception": false,
     "start_time": "2022-04-25T17:13:47.036746",
     "status": "completed"
    },
    "tags": []
   },
   "outputs": [],
   "source": [
    "import numpy as np \n",
    "import matplotlib.pyplot as plt\n",
    "import pandas as pd\n",
    "\n",
    "import scipy\n",
    "\n",
    "\n",
    "from utils import *\n",
    "from pytorch_sparse_utils import *\n",
    "\n",
    "\n",
    "import torch\n",
    "from torch import nn\n",
    "import torch.nn.functional as F"
   ]
  },
  {
   "cell_type": "markdown",
   "id": "7525dd2f",
   "metadata": {
    "papermill": {
     "duration": 0.014992,
     "end_time": "2022-04-25T17:13:55.466204",
     "exception": false,
     "start_time": "2022-04-25T17:13:55.451212",
     "status": "completed"
    },
    "tags": []
   },
   "source": [
    "### set parameters"
   ]
  },
  {
   "cell_type": "code",
   "execution_count": 2,
   "id": "fb0737f4",
   "metadata": {
    "execution": {
     "iopub.execute_input": "2022-04-25T17:13:55.498691Z",
     "iopub.status.busy": "2022-04-25T17:13:55.498259Z",
     "iopub.status.idle": "2022-04-25T17:13:55.501131Z",
     "shell.execute_reply": "2022-04-25T17:13:55.500708Z"
    },
    "papermill": {
     "duration": 0.020604,
     "end_time": "2022-04-25T17:13:55.501237",
     "exception": false,
     "start_time": "2022-04-25T17:13:55.480633",
     "status": "completed"
    },
    "tags": [
     "parameters"
    ]
   },
   "outputs": [],
   "source": [
    "DECOMP_RANK = 10\n",
    "LAPLACIAN_PARAM = 0.001\n",
    "TV_PARAM = 0.001"
   ]
  },
  {
   "cell_type": "code",
   "execution_count": 3,
   "id": "840bbab7",
   "metadata": {
    "execution": {
     "iopub.execute_input": "2022-04-25T17:13:55.537251Z",
     "iopub.status.busy": "2022-04-25T17:13:55.536684Z",
     "iopub.status.idle": "2022-04-25T17:13:55.538974Z",
     "shell.execute_reply": "2022-04-25T17:13:55.538508Z"
    },
    "papermill": {
     "duration": 0.023277,
     "end_time": "2022-04-25T17:13:55.539080",
     "exception": false,
     "start_time": "2022-04-25T17:13:55.515803",
     "status": "completed"
    },
    "tags": [
     "injected-parameters"
    ]
   },
   "outputs": [],
   "source": [
    "# Parameters\n",
    "DECOMP_RANK = 100\n",
    "LAPLACIAN_PARAM = 0.0001\n",
    "TV_PARAM = 0.1\n"
   ]
  },
  {
   "cell_type": "code",
   "execution_count": 4,
   "id": "8cef5907",
   "metadata": {
    "execution": {
     "iopub.execute_input": "2022-04-25T17:13:55.573816Z",
     "iopub.status.busy": "2022-04-25T17:13:55.573433Z",
     "iopub.status.idle": "2022-04-25T17:14:13.434796Z",
     "shell.execute_reply": "2022-04-25T17:14:13.434461Z"
    },
    "papermill": {
     "duration": 17.878021,
     "end_time": "2022-04-25T17:14:13.435083",
     "exception": false,
     "start_time": "2022-04-25T17:13:55.557062",
     "status": "completed"
    },
    "tags": []
   },
   "outputs": [
    {
     "name": "stdout",
     "output_type": "stream",
     "text": [
      "Using cuda device\n"
     ]
    }
   ],
   "source": [
    "device = 'cuda' if torch.cuda.is_available() else 'cpu'\n",
    "print('Using {} device'.format(device))"
   ]
  },
  {
   "cell_type": "markdown",
   "id": "ae1c3dc8",
   "metadata": {
    "papermill": {
     "duration": 0.01451,
     "end_time": "2022-04-25T17:14:13.465087",
     "exception": false,
     "start_time": "2022-04-25T17:14:13.450577",
     "status": "completed"
    },
    "tags": []
   },
   "source": [
    "### loading data"
   ]
  },
  {
   "cell_type": "code",
   "execution_count": 5,
   "id": "12f4b335",
   "metadata": {
    "execution": {
     "iopub.execute_input": "2022-04-25T17:14:13.499709Z",
     "iopub.status.busy": "2022-04-25T17:14:13.499168Z",
     "iopub.status.idle": "2022-04-25T17:14:15.773681Z",
     "shell.execute_reply": "2022-04-25T17:14:15.774007Z"
    },
    "papermill": {
     "duration": 2.293936,
     "end_time": "2022-04-25T17:14:15.774129",
     "exception": false,
     "start_time": "2022-04-25T17:14:13.480193",
     "status": "completed"
    },
    "tags": []
   },
   "outputs": [
    {
     "data": {
      "text/html": [
       "<div>\n",
       "<style scoped>\n",
       "    .dataframe tbody tr th:only-of-type {\n",
       "        vertical-align: middle;\n",
       "    }\n",
       "\n",
       "    .dataframe tbody tr th {\n",
       "        vertical-align: top;\n",
       "    }\n",
       "\n",
       "    .dataframe thead th {\n",
       "        text-align: right;\n",
       "    }\n",
       "</style>\n",
       "<table border=\"1\" class=\"dataframe\">\n",
       "  <thead>\n",
       "    <tr style=\"text-align: right;\">\n",
       "      <th></th>\n",
       "      <th>1110008P14Rik</th>\n",
       "      <th>1500009C09Rik</th>\n",
       "      <th>1500012F01Rik</th>\n",
       "      <th>1700020I14Rik</th>\n",
       "      <th>2010107E04Rik</th>\n",
       "      <th>2010300C02Rik</th>\n",
       "      <th>2210016L21Rik</th>\n",
       "      <th>2310036O22Rik</th>\n",
       "      <th>2900011O08Rik</th>\n",
       "      <th>3110035E14Rik</th>\n",
       "      <th>...</th>\n",
       "      <th>Zrsr1</th>\n",
       "      <th>Zwint</th>\n",
       "      <th>mt-Co1</th>\n",
       "      <th>mt-Cytb</th>\n",
       "      <th>mt-Nd1</th>\n",
       "      <th>mt-Nd2</th>\n",
       "      <th>mt-Nd4</th>\n",
       "      <th>mt-Nd5</th>\n",
       "      <th>mt-Rnr1</th>\n",
       "      <th>mt-Rnr2</th>\n",
       "    </tr>\n",
       "  </thead>\n",
       "  <tbody>\n",
       "    <tr>\n",
       "      <th>AAAAAAAGGTAGTA</th>\n",
       "      <td>0</td>\n",
       "      <td>0</td>\n",
       "      <td>0</td>\n",
       "      <td>0</td>\n",
       "      <td>0</td>\n",
       "      <td>0</td>\n",
       "      <td>0</td>\n",
       "      <td>0</td>\n",
       "      <td>0</td>\n",
       "      <td>0</td>\n",
       "      <td>...</td>\n",
       "      <td>0</td>\n",
       "      <td>0</td>\n",
       "      <td>0</td>\n",
       "      <td>0</td>\n",
       "      <td>0</td>\n",
       "      <td>0</td>\n",
       "      <td>0</td>\n",
       "      <td>0</td>\n",
       "      <td>1</td>\n",
       "      <td>0</td>\n",
       "    </tr>\n",
       "    <tr>\n",
       "      <th>AAAAAAAGTCCCAA</th>\n",
       "      <td>0</td>\n",
       "      <td>0</td>\n",
       "      <td>0</td>\n",
       "      <td>0</td>\n",
       "      <td>0</td>\n",
       "      <td>0</td>\n",
       "      <td>0</td>\n",
       "      <td>0</td>\n",
       "      <td>0</td>\n",
       "      <td>0</td>\n",
       "      <td>...</td>\n",
       "      <td>0</td>\n",
       "      <td>0</td>\n",
       "      <td>2</td>\n",
       "      <td>2</td>\n",
       "      <td>5</td>\n",
       "      <td>0</td>\n",
       "      <td>1</td>\n",
       "      <td>0</td>\n",
       "      <td>2</td>\n",
       "      <td>4</td>\n",
       "    </tr>\n",
       "    <tr>\n",
       "      <th>AAAAAAATCTTAGT</th>\n",
       "      <td>0</td>\n",
       "      <td>0</td>\n",
       "      <td>0</td>\n",
       "      <td>0</td>\n",
       "      <td>0</td>\n",
       "      <td>0</td>\n",
       "      <td>0</td>\n",
       "      <td>0</td>\n",
       "      <td>0</td>\n",
       "      <td>0</td>\n",
       "      <td>...</td>\n",
       "      <td>0</td>\n",
       "      <td>0</td>\n",
       "      <td>0</td>\n",
       "      <td>0</td>\n",
       "      <td>0</td>\n",
       "      <td>0</td>\n",
       "      <td>0</td>\n",
       "      <td>0</td>\n",
       "      <td>0</td>\n",
       "      <td>0</td>\n",
       "    </tr>\n",
       "    <tr>\n",
       "      <th>AAAAAACATCTTTC</th>\n",
       "      <td>0</td>\n",
       "      <td>0</td>\n",
       "      <td>0</td>\n",
       "      <td>0</td>\n",
       "      <td>0</td>\n",
       "      <td>0</td>\n",
       "      <td>0</td>\n",
       "      <td>0</td>\n",
       "      <td>0</td>\n",
       "      <td>0</td>\n",
       "      <td>...</td>\n",
       "      <td>0</td>\n",
       "      <td>0</td>\n",
       "      <td>0</td>\n",
       "      <td>0</td>\n",
       "      <td>0</td>\n",
       "      <td>0</td>\n",
       "      <td>0</td>\n",
       "      <td>0</td>\n",
       "      <td>1</td>\n",
       "      <td>0</td>\n",
       "    </tr>\n",
       "    <tr>\n",
       "      <th>AAAAAACGAAATAG</th>\n",
       "      <td>0</td>\n",
       "      <td>0</td>\n",
       "      <td>0</td>\n",
       "      <td>0</td>\n",
       "      <td>0</td>\n",
       "      <td>0</td>\n",
       "      <td>0</td>\n",
       "      <td>0</td>\n",
       "      <td>0</td>\n",
       "      <td>0</td>\n",
       "      <td>...</td>\n",
       "      <td>0</td>\n",
       "      <td>0</td>\n",
       "      <td>1</td>\n",
       "      <td>0</td>\n",
       "      <td>0</td>\n",
       "      <td>0</td>\n",
       "      <td>0</td>\n",
       "      <td>0</td>\n",
       "      <td>0</td>\n",
       "      <td>0</td>\n",
       "    </tr>\n",
       "  </tbody>\n",
       "</table>\n",
       "<p>5 rows × 1222 columns</p>\n",
       "</div>"
      ],
      "text/plain": [
       "                1110008P14Rik  1500009C09Rik  1500012F01Rik  1700020I14Rik  \\\n",
       "AAAAAAAGGTAGTA              0              0              0              0   \n",
       "AAAAAAAGTCCCAA              0              0              0              0   \n",
       "AAAAAAATCTTAGT              0              0              0              0   \n",
       "AAAAAACATCTTTC              0              0              0              0   \n",
       "AAAAAACGAAATAG              0              0              0              0   \n",
       "\n",
       "                2010107E04Rik  2010300C02Rik  2210016L21Rik  2310036O22Rik  \\\n",
       "AAAAAAAGGTAGTA              0              0              0              0   \n",
       "AAAAAAAGTCCCAA              0              0              0              0   \n",
       "AAAAAAATCTTAGT              0              0              0              0   \n",
       "AAAAAACATCTTTC              0              0              0              0   \n",
       "AAAAAACGAAATAG              0              0              0              0   \n",
       "\n",
       "                2900011O08Rik  3110035E14Rik  ...  Zrsr1  Zwint  mt-Co1  \\\n",
       "AAAAAAAGGTAGTA              0              0  ...      0      0       0   \n",
       "AAAAAAAGTCCCAA              0              0  ...      0      0       2   \n",
       "AAAAAAATCTTAGT              0              0  ...      0      0       0   \n",
       "AAAAAACATCTTTC              0              0  ...      0      0       0   \n",
       "AAAAAACGAAATAG              0              0  ...      0      0       1   \n",
       "\n",
       "                mt-Cytb  mt-Nd1  mt-Nd2  mt-Nd4  mt-Nd5  mt-Rnr1  mt-Rnr2  \n",
       "AAAAAAAGGTAGTA        0       0       0       0       0        1        0  \n",
       "AAAAAAAGTCCCAA        2       5       0       1       0        2        4  \n",
       "AAAAAAATCTTAGT        0       0       0       0       0        0        0  \n",
       "AAAAAACATCTTTC        0       0       0       0       0        1        0  \n",
       "AAAAAACGAAATAG        0       0       0       0       0        0        0  \n",
       "\n",
       "[5 rows x 1222 columns]"
      ]
     },
     "execution_count": 5,
     "metadata": {},
     "output_type": "execute_result"
    }
   ],
   "source": [
    "bead_reads_subset = pd.read_csv('./data/bead_reads_subset.csv', index_col='Unnamed: 0')\n",
    "bead_reads_subset.head()"
   ]
  },
  {
   "cell_type": "code",
   "execution_count": 6,
   "id": "242c46f8",
   "metadata": {
    "execution": {
     "iopub.execute_input": "2022-04-25T17:14:15.813231Z",
     "iopub.status.busy": "2022-04-25T17:14:15.812867Z",
     "iopub.status.idle": "2022-04-25T17:14:16.358908Z",
     "shell.execute_reply": "2022-04-25T17:14:16.359343Z"
    },
    "papermill": {
     "duration": 0.569281,
     "end_time": "2022-04-25T17:14:16.359494",
     "exception": false,
     "start_time": "2022-04-25T17:14:15.790213",
     "status": "completed"
    },
    "tags": []
   },
   "outputs": [],
   "source": [
    "data_scipy_sparse = scipy.sparse.coo_matrix( bead_reads_subset.to_numpy() )"
   ]
  },
  {
   "cell_type": "code",
   "execution_count": 7,
   "id": "29c03c35",
   "metadata": {
    "execution": {
     "iopub.execute_input": "2022-04-25T17:14:16.394430Z",
     "iopub.status.busy": "2022-04-25T17:14:16.394050Z",
     "iopub.status.idle": "2022-04-25T17:14:23.877753Z",
     "shell.execute_reply": "2022-04-25T17:14:23.877395Z"
    },
    "papermill": {
     "duration": 7.502631,
     "end_time": "2022-04-25T17:14:23.877852",
     "exception": false,
     "start_time": "2022-04-25T17:14:16.375221",
     "status": "completed"
    },
    "tags": []
   },
   "outputs": [],
   "source": [
    "data_sparse_tensor = scipy_sparse_to_pytorch_sparse(data_scipy_sparse).to(device=device)"
   ]
  },
  {
   "cell_type": "code",
   "execution_count": 8,
   "id": "9b576ab2",
   "metadata": {
    "execution": {
     "iopub.execute_input": "2022-04-25T17:14:23.912600Z",
     "iopub.status.busy": "2022-04-25T17:14:23.912164Z",
     "iopub.status.idle": "2022-04-25T17:14:23.919652Z",
     "shell.execute_reply": "2022-04-25T17:14:23.919945Z"
    },
    "papermill": {
     "duration": 0.026423,
     "end_time": "2022-04-25T17:14:23.920041",
     "exception": false,
     "start_time": "2022-04-25T17:14:23.893618",
     "status": "completed"
    },
    "tags": []
   },
   "outputs": [
    {
     "data": {
      "text/plain": [
       "tensor(indices=tensor([[    0,     0,     0,  ..., 53207, 53207, 53207],\n",
       "                       [   84,   412,   528,  ...,  1219,  1220,  1221]]),\n",
       "       values=tensor([ 1.,  1.,  1.,  ..., 12., 26., 71.]),\n",
       "       device='cuda:0', size=(53208, 1222), nnz=9552845, layout=torch.sparse_coo)"
      ]
     },
     "execution_count": 8,
     "metadata": {},
     "output_type": "execute_result"
    }
   ],
   "source": [
    "data_sparse_tensor"
   ]
  },
  {
   "cell_type": "code",
   "execution_count": 9,
   "id": "f9045bc2",
   "metadata": {
    "execution": {
     "iopub.execute_input": "2022-04-25T17:14:23.953803Z",
     "iopub.status.busy": "2022-04-25T17:14:23.953324Z",
     "iopub.status.idle": "2022-04-25T17:14:23.955964Z",
     "shell.execute_reply": "2022-04-25T17:14:23.955577Z"
    },
    "papermill": {
     "duration": 0.020843,
     "end_time": "2022-04-25T17:14:23.956075",
     "exception": false,
     "start_time": "2022-04-25T17:14:23.935232",
     "status": "completed"
    },
    "tags": []
   },
   "outputs": [],
   "source": [
    "data_dense_tensor = data_sparse_tensor.to_dense()"
   ]
  },
  {
   "cell_type": "code",
   "execution_count": 10,
   "id": "92f48b62",
   "metadata": {
    "execution": {
     "iopub.execute_input": "2022-04-25T17:14:23.994821Z",
     "iopub.status.busy": "2022-04-25T17:14:23.994258Z",
     "iopub.status.idle": "2022-04-25T17:14:24.127930Z",
     "shell.execute_reply": "2022-04-25T17:14:24.128354Z"
    },
    "papermill": {
     "duration": 0.156403,
     "end_time": "2022-04-25T17:14:24.128550",
     "exception": false,
     "start_time": "2022-04-25T17:14:23.972147",
     "status": "completed"
    },
    "tags": []
   },
   "outputs": [],
   "source": [
    "mask_scipy_sparse = (data_scipy_sparse != 0).astype(np.int64).tocoo()"
   ]
  },
  {
   "cell_type": "code",
   "execution_count": 11,
   "id": "a39c95e4",
   "metadata": {
    "execution": {
     "iopub.execute_input": "2022-04-25T17:14:24.166010Z",
     "iopub.status.busy": "2022-04-25T17:14:24.165438Z",
     "iopub.status.idle": "2022-04-25T17:14:24.206237Z",
     "shell.execute_reply": "2022-04-25T17:14:24.205817Z"
    },
    "papermill": {
     "duration": 0.061147,
     "end_time": "2022-04-25T17:14:24.206351",
     "exception": false,
     "start_time": "2022-04-25T17:14:24.145204",
     "status": "completed"
    },
    "tags": []
   },
   "outputs": [],
   "source": [
    "mask_sparse_tensor = scipy_sparse_to_pytorch_sparse(mask_scipy_sparse)"
   ]
  },
  {
   "cell_type": "code",
   "execution_count": 12,
   "id": "d05823f1",
   "metadata": {
    "execution": {
     "iopub.execute_input": "2022-04-25T17:14:24.240512Z",
     "iopub.status.busy": "2022-04-25T17:14:24.240056Z",
     "iopub.status.idle": "2022-04-25T17:14:25.212667Z",
     "shell.execute_reply": "2022-04-25T17:14:25.212329Z"
    },
    "papermill": {
     "duration": 0.990995,
     "end_time": "2022-04-25T17:14:25.212760",
     "exception": false,
     "start_time": "2022-04-25T17:14:24.221765",
     "status": "completed"
    },
    "tags": []
   },
   "outputs": [],
   "source": [
    "mask_dense_tensor = mask_sparse_tensor.to_dense().bool()"
   ]
  },
  {
   "cell_type": "code",
   "execution_count": 13,
   "id": "52e1bf46",
   "metadata": {
    "execution": {
     "iopub.execute_input": "2022-04-25T17:14:25.247664Z",
     "iopub.status.busy": "2022-04-25T17:14:25.247282Z",
     "iopub.status.idle": "2022-04-25T17:14:49.491404Z",
     "shell.execute_reply": "2022-04-25T17:14:49.491771Z"
    },
    "papermill": {
     "duration": 24.263149,
     "end_time": "2022-04-25T17:14:49.491933",
     "exception": false,
     "start_time": "2022-04-25T17:14:25.228784",
     "status": "completed"
    },
    "tags": []
   },
   "outputs": [],
   "source": [
    "distances = np.load('./data/macosko_distance_matrix.npy')"
   ]
  },
  {
   "cell_type": "code",
   "execution_count": 14,
   "id": "34f69d92",
   "metadata": {
    "execution": {
     "iopub.execute_input": "2022-04-25T17:14:49.531611Z",
     "iopub.status.busy": "2022-04-25T17:14:49.531026Z",
     "iopub.status.idle": "2022-04-25T17:14:57.430826Z",
     "shell.execute_reply": "2022-04-25T17:14:57.431369Z"
    },
    "papermill": {
     "duration": 7.921017,
     "end_time": "2022-04-25T17:14:57.431546",
     "exception": false,
     "start_time": "2022-04-25T17:14:49.510529",
     "status": "completed"
    },
    "tags": []
   },
   "outputs": [],
   "source": [
    "adjacency = scipy.sparse.coo_matrix( distances <= 20 , dtype=np.float32)\n",
    "degree = scipy.sparse.diags( adjacency.sum(axis=0).A1 )\n",
    "laplacian = (degree - adjacency).tocoo()"
   ]
  },
  {
   "cell_type": "code",
   "execution_count": 15,
   "id": "42521e71",
   "metadata": {
    "execution": {
     "iopub.execute_input": "2022-04-25T17:14:57.472218Z",
     "iopub.status.busy": "2022-04-25T17:14:57.470549Z",
     "iopub.status.idle": "2022-04-25T17:14:57.475994Z",
     "shell.execute_reply": "2022-04-25T17:14:57.476293Z"
    },
    "papermill": {
     "duration": 0.025582,
     "end_time": "2022-04-25T17:14:57.476398",
     "exception": false,
     "start_time": "2022-04-25T17:14:57.450816",
     "status": "completed"
    },
    "tags": []
   },
   "outputs": [],
   "source": [
    "adjacency_sparse_tensor = scipy_sparse_to_pytorch_sparse(adjacency)"
   ]
  },
  {
   "cell_type": "code",
   "execution_count": 16,
   "id": "6085d9be",
   "metadata": {
    "execution": {
     "iopub.execute_input": "2022-04-25T17:14:57.510963Z",
     "iopub.status.busy": "2022-04-25T17:14:57.510585Z",
     "iopub.status.idle": "2022-04-25T17:14:59.671360Z",
     "shell.execute_reply": "2022-04-25T17:14:59.671684Z"
    },
    "papermill": {
     "duration": 2.17974,
     "end_time": "2022-04-25T17:14:59.671818",
     "exception": false,
     "start_time": "2022-04-25T17:14:57.492078",
     "status": "completed"
    },
    "tags": []
   },
   "outputs": [],
   "source": [
    "adjacency_dense_tensor = adjacency_sparse_tensor.to_dense()"
   ]
  },
  {
   "cell_type": "code",
   "execution_count": 17,
   "id": "bf82f1ee",
   "metadata": {
    "execution": {
     "iopub.execute_input": "2022-04-25T17:14:59.716200Z",
     "iopub.status.busy": "2022-04-25T17:14:59.715834Z",
     "iopub.status.idle": "2022-04-25T17:14:59.717448Z",
     "shell.execute_reply": "2022-04-25T17:14:59.717160Z"
    },
    "papermill": {
     "duration": 0.029057,
     "end_time": "2022-04-25T17:14:59.717526",
     "exception": false,
     "start_time": "2022-04-25T17:14:59.688469",
     "status": "completed"
    },
    "tags": []
   },
   "outputs": [],
   "source": [
    "def laplacian_loss(x, x_lap):\n",
    "    \n",
    "    lap_sum = 0\n",
    "    for ii in range(x.shape[1]):\n",
    "        lap_sum = lap_sum + (x[:,ii].T @ x_lap @ x[:,ii])\n",
    "        \n",
    "    return lap_sum"
   ]
  },
  {
   "cell_type": "code",
   "execution_count": 18,
   "id": "31e6adc1",
   "metadata": {
    "execution": {
     "iopub.execute_input": "2022-04-25T17:14:59.769627Z",
     "iopub.status.busy": "2022-04-25T17:14:59.769268Z",
     "iopub.status.idle": "2022-04-25T17:14:59.786941Z",
     "shell.execute_reply": "2022-04-25T17:14:59.786553Z"
    },
    "papermill": {
     "duration": 0.046463,
     "end_time": "2022-04-25T17:14:59.787019",
     "exception": false,
     "start_time": "2022-04-25T17:14:59.740556",
     "status": "completed"
    },
    "tags": []
   },
   "outputs": [],
   "source": [
    "mf = MatrixFactorization(mask_sparse_tensor.shape[0], mask_sparse_tensor.shape[1], DECOMP_RANK).to(device=device)"
   ]
  },
  {
   "cell_type": "code",
   "execution_count": 19,
   "id": "09131ac3",
   "metadata": {
    "execution": {
     "iopub.execute_input": "2022-04-25T17:14:59.832454Z",
     "iopub.status.busy": "2022-04-25T17:14:59.831955Z",
     "iopub.status.idle": "2022-04-25T17:14:59.832983Z",
     "shell.execute_reply": "2022-04-25T17:14:59.833266Z"
    },
    "papermill": {
     "duration": 0.029624,
     "end_time": "2022-04-25T17:14:59.833397",
     "exception": false,
     "start_time": "2022-04-25T17:14:59.803773",
     "status": "completed"
    },
    "tags": []
   },
   "outputs": [],
   "source": [
    "import torch.optim as optim\n",
    "\n",
    "optimizer = optim.Adam(mf.parameters(), lr=0.001)"
   ]
  },
  {
   "cell_type": "code",
   "execution_count": 20,
   "id": "9246850c",
   "metadata": {
    "execution": {
     "iopub.execute_input": "2022-04-25T17:14:59.896086Z",
     "iopub.status.busy": "2022-04-25T17:14:59.895532Z",
     "iopub.status.idle": "2022-04-25T18:15:59.125289Z",
     "shell.execute_reply": "2022-04-25T18:15:59.125888Z"
    },
    "papermill": {
     "duration": 3659.264733,
     "end_time": "2022-04-25T18:15:59.126041",
     "exception": false,
     "start_time": "2022-04-25T17:14:59.861308",
     "status": "completed"
    },
    "tags": []
   },
   "outputs": [
    {
     "name": "stdout",
     "output_type": "stream",
     "text": [
      "0\n",
      "215980318.0\n"
     ]
    },
    {
     "name": "stdout",
     "output_type": "stream",
     "text": [
      "1\n",
      "215790387.0\n"
     ]
    },
    {
     "name": "stdout",
     "output_type": "stream",
     "text": [
      "2\n",
      "215301188.0\n"
     ]
    },
    {
     "name": "stdout",
     "output_type": "stream",
     "text": [
      "3\n",
      "214379467.0\n"
     ]
    },
    {
     "name": "stdout",
     "output_type": "stream",
     "text": [
      "4\n",
      "212952082.0\n"
     ]
    },
    {
     "name": "stdout",
     "output_type": "stream",
     "text": [
      "5\n",
      "211011296.0\n"
     ]
    },
    {
     "name": "stdout",
     "output_type": "stream",
     "text": [
      "6\n",
      "208581776.0\n"
     ]
    },
    {
     "name": "stdout",
     "output_type": "stream",
     "text": [
      "7\n",
      "205744507.0\n"
     ]
    },
    {
     "name": "stdout",
     "output_type": "stream",
     "text": [
      "8\n",
      "202620269.0\n"
     ]
    },
    {
     "name": "stdout",
     "output_type": "stream",
     "text": [
      "9\n",
      "199345393.0\n"
     ]
    },
    {
     "name": "stdout",
     "output_type": "stream",
     "text": [
      "10\n",
      "196069543.0\n"
     ]
    },
    {
     "name": "stdout",
     "output_type": "stream",
     "text": [
      "11\n",
      "192940208.0\n"
     ]
    },
    {
     "name": "stdout",
     "output_type": "stream",
     "text": [
      "12\n",
      "190086012.0\n"
     ]
    },
    {
     "name": "stdout",
     "output_type": "stream",
     "text": [
      "13\n",
      "187561953.0\n"
     ]
    },
    {
     "name": "stdout",
     "output_type": "stream",
     "text": [
      "14\n",
      "185370822.0\n"
     ]
    },
    {
     "name": "stdout",
     "output_type": "stream",
     "text": [
      "15\n",
      "183504966.0\n"
     ]
    },
    {
     "name": "stdout",
     "output_type": "stream",
     "text": [
      "16\n",
      "181872338.0\n"
     ]
    },
    {
     "name": "stdout",
     "output_type": "stream",
     "text": [
      "17\n",
      "180412304.0\n"
     ]
    },
    {
     "name": "stdout",
     "output_type": "stream",
     "text": [
      "18\n",
      "179083583.0\n"
     ]
    },
    {
     "name": "stdout",
     "output_type": "stream",
     "text": [
      "19\n",
      "177817527.0\n"
     ]
    },
    {
     "name": "stdout",
     "output_type": "stream",
     "text": [
      "20\n",
      "176622105.0\n"
     ]
    },
    {
     "name": "stdout",
     "output_type": "stream",
     "text": [
      "21\n",
      "175463004.0\n"
     ]
    },
    {
     "name": "stdout",
     "output_type": "stream",
     "text": [
      "22\n",
      "174360860.5\n"
     ]
    },
    {
     "name": "stdout",
     "output_type": "stream",
     "text": [
      "23\n",
      "173281931.0\n"
     ]
    },
    {
     "name": "stdout",
     "output_type": "stream",
     "text": [
      "24\n",
      "172232895.0\n"
     ]
    },
    {
     "name": "stdout",
     "output_type": "stream",
     "text": [
      "25\n",
      "171218911.0\n"
     ]
    },
    {
     "name": "stdout",
     "output_type": "stream",
     "text": [
      "26\n",
      "170219898.0\n"
     ]
    },
    {
     "name": "stdout",
     "output_type": "stream",
     "text": [
      "27\n",
      "169250668.0\n"
     ]
    },
    {
     "name": "stdout",
     "output_type": "stream",
     "text": [
      "28\n",
      "168290478.0\n"
     ]
    },
    {
     "name": "stdout",
     "output_type": "stream",
     "text": [
      "29\n",
      "167359592.5\n"
     ]
    },
    {
     "name": "stdout",
     "output_type": "stream",
     "text": [
      "30\n",
      "166437486.0\n"
     ]
    },
    {
     "name": "stdout",
     "output_type": "stream",
     "text": [
      "31\n",
      "165529511.0\n"
     ]
    },
    {
     "name": "stdout",
     "output_type": "stream",
     "text": [
      "32\n",
      "164637209.0\n"
     ]
    },
    {
     "name": "stdout",
     "output_type": "stream",
     "text": [
      "33\n",
      "163761379.5\n"
     ]
    },
    {
     "name": "stdout",
     "output_type": "stream",
     "text": [
      "34\n",
      "162894152.0\n"
     ]
    },
    {
     "name": "stdout",
     "output_type": "stream",
     "text": [
      "35\n",
      "162041492.0\n"
     ]
    },
    {
     "name": "stdout",
     "output_type": "stream",
     "text": [
      "36\n",
      "161204758.0\n"
     ]
    },
    {
     "name": "stdout",
     "output_type": "stream",
     "text": [
      "37\n",
      "160377410.5\n"
     ]
    },
    {
     "name": "stdout",
     "output_type": "stream",
     "text": [
      "38\n",
      "159554403.0\n"
     ]
    },
    {
     "name": "stdout",
     "output_type": "stream",
     "text": [
      "39\n",
      "158746195.0\n"
     ]
    },
    {
     "name": "stdout",
     "output_type": "stream",
     "text": [
      "40\n",
      "157941641.0\n"
     ]
    },
    {
     "name": "stdout",
     "output_type": "stream",
     "text": [
      "41\n",
      "157162457.0\n"
     ]
    },
    {
     "name": "stdout",
     "output_type": "stream",
     "text": [
      "42\n",
      "156386610.0\n"
     ]
    },
    {
     "name": "stdout",
     "output_type": "stream",
     "text": [
      "43\n",
      "155617314.0\n"
     ]
    },
    {
     "name": "stdout",
     "output_type": "stream",
     "text": [
      "44\n",
      "154859232.0\n"
     ]
    },
    {
     "name": "stdout",
     "output_type": "stream",
     "text": [
      "45\n",
      "154114649.0\n"
     ]
    },
    {
     "name": "stdout",
     "output_type": "stream",
     "text": [
      "46\n",
      "153378806.0\n"
     ]
    },
    {
     "name": "stdout",
     "output_type": "stream",
     "text": [
      "47\n",
      "152651312.0\n"
     ]
    },
    {
     "name": "stdout",
     "output_type": "stream",
     "text": [
      "48\n",
      "151938161.0\n"
     ]
    },
    {
     "name": "stdout",
     "output_type": "stream",
     "text": [
      "49\n",
      "151238180.5\n"
     ]
    }
   ],
   "source": [
    "losses = []\n",
    "\n",
    "for epoch in range(50):\n",
    "    \n",
    "    batcher = data_adjacency_batcher(data_dense_tensor, adjacency_dense_tensor, 5000)\n",
    "    \n",
    "    total_loss = 0\n",
    "    \n",
    "    \n",
    "    for (data_batch, mask_batch, adjacency_batch, row_batch) in batcher:\n",
    "        \n",
    "        \n",
    "        \n",
    "        data_batch = data_batch.to(device=device)\n",
    "        mask_batch = mask_batch.to(device=device)\n",
    "        adjacency_batch = adjacency_batch.to(device=device)\n",
    "        row_batch = row_batch.to(device=device)\n",
    "        \n",
    "        laplacian_tensor = adjacency_to_laplacian(adjacency_batch).to(device=device)\n",
    "    \n",
    "        optimizer.zero_grad()\n",
    "\n",
    "        output = mf.forward(row_batch, torch.arange(0, data_batch.shape[1]))\n",
    "        \n",
    "        L1_laplacian_tensor = adjacency_to_laplacian(adjacency_to_L1_adjacency(output, adjacency_batch, 0.001, device)).to(device=device)\n",
    "        \n",
    "        loss = squared_loss(data_batch[mask_batch], output[mask_batch]) + LAPLACIAN_PARAM*laplacian_loss(output, laplacian_tensor) + TV_PARAM*laplacian_loss(output, L1_laplacian_tensor)\n",
    "        loss.backward()\n",
    "        optimizer.step()\n",
    "        \n",
    "        total_loss += loss.item()\n",
    "        \n",
    "\n",
    "    if epoch % 1 == 0:\n",
    "        print(epoch)\n",
    "        print(total_loss)\n",
    "        \n",
    "    losses.append(total_loss)"
   ]
  },
  {
   "cell_type": "code",
   "execution_count": 21,
   "id": "0692ac05",
   "metadata": {
    "execution": {
     "iopub.execute_input": "2022-04-25T18:15:59.204192Z",
     "iopub.status.busy": "2022-04-25T18:15:59.201947Z",
     "iopub.status.idle": "2022-04-25T18:15:59.206362Z",
     "shell.execute_reply": "2022-04-25T18:15:59.205955Z"
    },
    "papermill": {
     "duration": 0.049146,
     "end_time": "2022-04-25T18:15:59.206469",
     "exception": false,
     "start_time": "2022-04-25T18:15:59.157323",
     "status": "completed"
    },
    "tags": []
   },
   "outputs": [
    {
     "data": {
      "text/plain": [
       "7910705.5"
      ]
     },
     "execution_count": 21,
     "metadata": {},
     "output_type": "execute_result"
    }
   ],
   "source": [
    "loss.item()"
   ]
  },
  {
   "cell_type": "code",
   "execution_count": 22,
   "id": "8f3d407d",
   "metadata": {
    "execution": {
     "iopub.execute_input": "2022-04-25T18:15:59.271575Z",
     "iopub.status.busy": "2022-04-25T18:15:59.271086Z",
     "iopub.status.idle": "2022-04-25T18:15:59.284814Z",
     "shell.execute_reply": "2022-04-25T18:15:59.284402Z"
    },
    "papermill": {
     "duration": 0.049183,
     "end_time": "2022-04-25T18:15:59.284969",
     "exception": false,
     "start_time": "2022-04-25T18:15:59.235786",
     "status": "completed"
    },
    "tags": []
   },
   "outputs": [],
   "source": [
    "np.save(f'./results/loss_curves/mf_rank{DECOMP_RANK}_L{LAPLACIAN_PARAM}_TV{TV_PARAM}_losses', np.array(losses))"
   ]
  },
  {
   "cell_type": "code",
   "execution_count": 23,
   "id": "57ee5ba0",
   "metadata": {
    "execution": {
     "iopub.execute_input": "2022-04-25T18:15:59.361304Z",
     "iopub.status.busy": "2022-04-25T18:15:59.360874Z",
     "iopub.status.idle": "2022-04-25T18:15:59.510156Z",
     "shell.execute_reply": "2022-04-25T18:15:59.509644Z"
    },
    "papermill": {
     "duration": 0.195308,
     "end_time": "2022-04-25T18:15:59.510325",
     "exception": false,
     "start_time": "2022-04-25T18:15:59.315017",
     "status": "completed"
    },
    "tags": []
   },
   "outputs": [],
   "source": [
    "torch.save(mf.state_dict(), f'./results/saved_models/mf_rank{DECOMP_RANK}_L{LAPLACIAN_PARAM}_TV{TV_PARAM}_state')"
   ]
  },
  {
   "cell_type": "code",
   "execution_count": 24,
   "id": "0ea0f85c",
   "metadata": {
    "execution": {
     "iopub.execute_input": "2022-04-25T18:15:59.576171Z",
     "iopub.status.busy": "2022-04-25T18:15:59.575374Z",
     "iopub.status.idle": "2022-04-25T18:17:37.527134Z",
     "shell.execute_reply": "2022-04-25T18:17:37.526768Z"
    },
    "papermill": {
     "duration": 97.983141,
     "end_time": "2022-04-25T18:17:37.527233",
     "exception": false,
     "start_time": "2022-04-25T18:15:59.544092",
     "status": "completed"
    },
    "tags": []
   },
   "outputs": [],
   "source": [
    "final_output = mf.forward(torch.arange(0, data_dense_tensor.shape[0]), torch.arange(0, data_dense_tensor.shape[1]))\n",
    "\n",
    "final_squared_error = squared_loss(data_dense_tensor, final_output)\n",
    "final_laplacian = laplacian_loss(final_output, adjacency_to_laplacian(adjacency_dense_tensor).to(device=device))\n",
    "final_TV =  laplacian_loss(final_output, adjacency_to_laplacian(adjacency_to_L1_adjacency(final_output, adjacency_dense_tensor, 0.001, device)).to(device=device))"
   ]
  },
  {
   "cell_type": "code",
   "execution_count": 25,
   "id": "4059d71d",
   "metadata": {
    "execution": {
     "iopub.execute_input": "2022-04-25T18:17:37.589703Z",
     "iopub.status.busy": "2022-04-25T18:17:37.589331Z",
     "iopub.status.idle": "2022-04-25T18:17:38.662285Z",
     "shell.execute_reply": "2022-04-25T18:17:38.661874Z"
    },
    "papermill": {
     "duration": 1.104525,
     "end_time": "2022-04-25T18:17:38.662386",
     "exception": false,
     "start_time": "2022-04-25T18:17:37.557861",
     "status": "completed"
    },
    "tags": []
   },
   "outputs": [],
   "source": [
    "np.save(f'./results/final_losses/mf_rank{DECOMP_RANK}_L{LAPLACIAN_PARAM}_TV{TV_PARAM}_losses', np.array([final_squared_error.item(), final_laplacian.item(), final_TV.item()]))"
   ]
  },
  {
   "cell_type": "code",
   "execution_count": null,
   "id": "557fb549",
   "metadata": {
    "papermill": {
     "duration": 0.025046,
     "end_time": "2022-04-25T18:17:38.713288",
     "exception": false,
     "start_time": "2022-04-25T18:17:38.688242",
     "status": "completed"
    },
    "tags": []
   },
   "outputs": [],
   "source": []
  }
 ],
 "metadata": {
  "interpreter": {
   "hash": "22ee4ece52021b4a120b95b326dd7a4d7938576e919f53927a7959ab5d7e1e45"
  },
  "kernelspec": {
   "display_name": "spatialSFT",
   "language": "python",
   "name": "spatialsft"
  },
  "language_info": {
   "codemirror_mode": {
    "name": "ipython",
    "version": 3
   },
   "file_extension": ".py",
   "mimetype": "text/x-python",
   "name": "python",
   "nbconvert_exporter": "python",
   "pygments_lexer": "ipython3",
   "version": "3.8.0"
  },
  "papermill": {
   "default_parameters": {},
   "duration": 3841.672365,
   "end_time": "2022-04-25T18:17:45.554569",
   "environment_variables": {},
   "exception": null,
   "input_path": "./notebooks/mf_param_template.ipynb",
   "output_path": "./papermill_output/mf_param_template_rank100_lap0.0001_tv0.1.ipynb",
   "parameters": {
    "DECOMP_RANK": 100,
    "LAPLACIAN_PARAM": 0.0001,
    "TV_PARAM": 0.1
   },
   "start_time": "2022-04-25T17:13:43.882204",
   "version": "2.3.4"
  }
 },
 "nbformat": 4,
 "nbformat_minor": 5
}