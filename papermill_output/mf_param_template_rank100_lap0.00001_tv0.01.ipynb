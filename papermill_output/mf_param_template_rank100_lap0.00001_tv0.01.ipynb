{
 "cells": [
  {
   "cell_type": "markdown",
   "id": "0446e23c",
   "metadata": {
    "papermill": {
     "duration": 0.062836,
     "end_time": "2022-04-26T01:43:15.932157",
     "exception": false,
     "start_time": "2022-04-26T01:43:15.869321",
     "status": "completed"
    },
    "tags": []
   },
   "source": [
    "### setup"
   ]
  },
  {
   "cell_type": "code",
   "execution_count": 1,
   "id": "1e0e3f41",
   "metadata": {
    "execution": {
     "iopub.execute_input": "2022-04-26T01:43:16.018094Z",
     "iopub.status.busy": "2022-04-26T01:43:16.010475Z",
     "iopub.status.idle": "2022-04-26T01:43:26.007764Z",
     "shell.execute_reply": "2022-04-26T01:43:26.005750Z"
    },
    "papermill": {
     "duration": 10.046321,
     "end_time": "2022-04-26T01:43:26.008091",
     "exception": false,
     "start_time": "2022-04-26T01:43:15.961770",
     "status": "completed"
    },
    "tags": []
   },
   "outputs": [],
   "source": [
    "import numpy as np \n",
    "import matplotlib.pyplot as plt\n",
    "import pandas as pd\n",
    "\n",
    "import scipy\n",
    "\n",
    "\n",
    "from utils import *\n",
    "from pytorch_sparse_utils import *\n",
    "\n",
    "\n",
    "import torch\n",
    "from torch import nn\n",
    "import torch.nn.functional as F"
   ]
  },
  {
   "cell_type": "markdown",
   "id": "34bdc7d1",
   "metadata": {
    "papermill": {
     "duration": 0.076829,
     "end_time": "2022-04-26T01:43:26.237377",
     "exception": false,
     "start_time": "2022-04-26T01:43:26.160548",
     "status": "completed"
    },
    "tags": []
   },
   "source": [
    "### set parameters"
   ]
  },
  {
   "cell_type": "code",
   "execution_count": 2,
   "id": "ee7309f3",
   "metadata": {
    "execution": {
     "iopub.execute_input": "2022-04-26T01:43:26.320481Z",
     "iopub.status.busy": "2022-04-26T01:43:26.319546Z",
     "iopub.status.idle": "2022-04-26T01:43:26.323806Z",
     "shell.execute_reply": "2022-04-26T01:43:26.322924Z"
    },
    "papermill": {
     "duration": 0.054108,
     "end_time": "2022-04-26T01:43:26.323969",
     "exception": false,
     "start_time": "2022-04-26T01:43:26.269861",
     "status": "completed"
    },
    "tags": [
     "parameters"
    ]
   },
   "outputs": [],
   "source": [
    "DECOMP_RANK = 10\n",
    "LAPLACIAN_PARAM = 0.001\n",
    "TV_PARAM = 0.001"
   ]
  },
  {
   "cell_type": "code",
   "execution_count": 3,
   "id": "046cf0c9",
   "metadata": {
    "execution": {
     "iopub.execute_input": "2022-04-26T01:43:26.397632Z",
     "iopub.status.busy": "2022-04-26T01:43:26.396184Z",
     "iopub.status.idle": "2022-04-26T01:43:26.400259Z",
     "shell.execute_reply": "2022-04-26T01:43:26.399037Z"
    },
    "papermill": {
     "duration": 0.052076,
     "end_time": "2022-04-26T01:43:26.400458",
     "exception": false,
     "start_time": "2022-04-26T01:43:26.348382",
     "status": "completed"
    },
    "tags": [
     "injected-parameters"
    ]
   },
   "outputs": [],
   "source": [
    "# Parameters\n",
    "DECOMP_RANK = 100\n",
    "LAPLACIAN_PARAM = 1e-05\n",
    "TV_PARAM = 0.01\n"
   ]
  },
  {
   "cell_type": "code",
   "execution_count": 4,
   "id": "37554eee",
   "metadata": {
    "execution": {
     "iopub.execute_input": "2022-04-26T01:43:26.673966Z",
     "iopub.status.busy": "2022-04-26T01:43:26.658139Z",
     "iopub.status.idle": "2022-04-26T01:43:26.781481Z",
     "shell.execute_reply": "2022-04-26T01:43:26.782733Z"
    },
    "papermill": {
     "duration": 0.349708,
     "end_time": "2022-04-26T01:43:26.783989",
     "exception": false,
     "start_time": "2022-04-26T01:43:26.434281",
     "status": "completed"
    },
    "tags": []
   },
   "outputs": [
    {
     "name": "stdout",
     "output_type": "stream",
     "text": [
      "Using cuda device\n"
     ]
    }
   ],
   "source": [
    "device = 'cuda' if torch.cuda.is_available() else 'cpu'\n",
    "print('Using {} device'.format(device))"
   ]
  },
  {
   "cell_type": "markdown",
   "id": "178f8513",
   "metadata": {
    "papermill": {
     "duration": 0.046572,
     "end_time": "2022-04-26T01:43:27.000744",
     "exception": false,
     "start_time": "2022-04-26T01:43:26.954172",
     "status": "completed"
    },
    "tags": []
   },
   "source": [
    "### loading data"
   ]
  },
  {
   "cell_type": "code",
   "execution_count": 5,
   "id": "4e7f48b6",
   "metadata": {
    "execution": {
     "iopub.execute_input": "2022-04-26T01:43:27.083381Z",
     "iopub.status.busy": "2022-04-26T01:43:27.082437Z",
     "iopub.status.idle": "2022-04-26T01:43:30.289097Z",
     "shell.execute_reply": "2022-04-26T01:43:30.290234Z"
    },
    "papermill": {
     "duration": 3.250854,
     "end_time": "2022-04-26T01:43:30.290538",
     "exception": false,
     "start_time": "2022-04-26T01:43:27.039684",
     "status": "completed"
    },
    "tags": []
   },
   "outputs": [
    {
     "data": {
      "text/html": [
       "<div>\n",
       "<style scoped>\n",
       "    .dataframe tbody tr th:only-of-type {\n",
       "        vertical-align: middle;\n",
       "    }\n",
       "\n",
       "    .dataframe tbody tr th {\n",
       "        vertical-align: top;\n",
       "    }\n",
       "\n",
       "    .dataframe thead th {\n",
       "        text-align: right;\n",
       "    }\n",
       "</style>\n",
       "<table border=\"1\" class=\"dataframe\">\n",
       "  <thead>\n",
       "    <tr style=\"text-align: right;\">\n",
       "      <th></th>\n",
       "      <th>1110008P14Rik</th>\n",
       "      <th>1500009C09Rik</th>\n",
       "      <th>1500012F01Rik</th>\n",
       "      <th>1700020I14Rik</th>\n",
       "      <th>2010107E04Rik</th>\n",
       "      <th>2010300C02Rik</th>\n",
       "      <th>2210016L21Rik</th>\n",
       "      <th>2310036O22Rik</th>\n",
       "      <th>2900011O08Rik</th>\n",
       "      <th>3110035E14Rik</th>\n",
       "      <th>...</th>\n",
       "      <th>Zrsr1</th>\n",
       "      <th>Zwint</th>\n",
       "      <th>mt-Co1</th>\n",
       "      <th>mt-Cytb</th>\n",
       "      <th>mt-Nd1</th>\n",
       "      <th>mt-Nd2</th>\n",
       "      <th>mt-Nd4</th>\n",
       "      <th>mt-Nd5</th>\n",
       "      <th>mt-Rnr1</th>\n",
       "      <th>mt-Rnr2</th>\n",
       "    </tr>\n",
       "  </thead>\n",
       "  <tbody>\n",
       "    <tr>\n",
       "      <th>AAAAAAAGGTAGTA</th>\n",
       "      <td>0</td>\n",
       "      <td>0</td>\n",
       "      <td>0</td>\n",
       "      <td>0</td>\n",
       "      <td>0</td>\n",
       "      <td>0</td>\n",
       "      <td>0</td>\n",
       "      <td>0</td>\n",
       "      <td>0</td>\n",
       "      <td>0</td>\n",
       "      <td>...</td>\n",
       "      <td>0</td>\n",
       "      <td>0</td>\n",
       "      <td>0</td>\n",
       "      <td>0</td>\n",
       "      <td>0</td>\n",
       "      <td>0</td>\n",
       "      <td>0</td>\n",
       "      <td>0</td>\n",
       "      <td>1</td>\n",
       "      <td>0</td>\n",
       "    </tr>\n",
       "    <tr>\n",
       "      <th>AAAAAAAGTCCCAA</th>\n",
       "      <td>0</td>\n",
       "      <td>0</td>\n",
       "      <td>0</td>\n",
       "      <td>0</td>\n",
       "      <td>0</td>\n",
       "      <td>0</td>\n",
       "      <td>0</td>\n",
       "      <td>0</td>\n",
       "      <td>0</td>\n",
       "      <td>0</td>\n",
       "      <td>...</td>\n",
       "      <td>0</td>\n",
       "      <td>0</td>\n",
       "      <td>2</td>\n",
       "      <td>2</td>\n",
       "      <td>5</td>\n",
       "      <td>0</td>\n",
       "      <td>1</td>\n",
       "      <td>0</td>\n",
       "      <td>2</td>\n",
       "      <td>4</td>\n",
       "    </tr>\n",
       "    <tr>\n",
       "      <th>AAAAAAATCTTAGT</th>\n",
       "      <td>0</td>\n",
       "      <td>0</td>\n",
       "      <td>0</td>\n",
       "      <td>0</td>\n",
       "      <td>0</td>\n",
       "      <td>0</td>\n",
       "      <td>0</td>\n",
       "      <td>0</td>\n",
       "      <td>0</td>\n",
       "      <td>0</td>\n",
       "      <td>...</td>\n",
       "      <td>0</td>\n",
       "      <td>0</td>\n",
       "      <td>0</td>\n",
       "      <td>0</td>\n",
       "      <td>0</td>\n",
       "      <td>0</td>\n",
       "      <td>0</td>\n",
       "      <td>0</td>\n",
       "      <td>0</td>\n",
       "      <td>0</td>\n",
       "    </tr>\n",
       "    <tr>\n",
       "      <th>AAAAAACATCTTTC</th>\n",
       "      <td>0</td>\n",
       "      <td>0</td>\n",
       "      <td>0</td>\n",
       "      <td>0</td>\n",
       "      <td>0</td>\n",
       "      <td>0</td>\n",
       "      <td>0</td>\n",
       "      <td>0</td>\n",
       "      <td>0</td>\n",
       "      <td>0</td>\n",
       "      <td>...</td>\n",
       "      <td>0</td>\n",
       "      <td>0</td>\n",
       "      <td>0</td>\n",
       "      <td>0</td>\n",
       "      <td>0</td>\n",
       "      <td>0</td>\n",
       "      <td>0</td>\n",
       "      <td>0</td>\n",
       "      <td>1</td>\n",
       "      <td>0</td>\n",
       "    </tr>\n",
       "    <tr>\n",
       "      <th>AAAAAACGAAATAG</th>\n",
       "      <td>0</td>\n",
       "      <td>0</td>\n",
       "      <td>0</td>\n",
       "      <td>0</td>\n",
       "      <td>0</td>\n",
       "      <td>0</td>\n",
       "      <td>0</td>\n",
       "      <td>0</td>\n",
       "      <td>0</td>\n",
       "      <td>0</td>\n",
       "      <td>...</td>\n",
       "      <td>0</td>\n",
       "      <td>0</td>\n",
       "      <td>1</td>\n",
       "      <td>0</td>\n",
       "      <td>0</td>\n",
       "      <td>0</td>\n",
       "      <td>0</td>\n",
       "      <td>0</td>\n",
       "      <td>0</td>\n",
       "      <td>0</td>\n",
       "    </tr>\n",
       "  </tbody>\n",
       "</table>\n",
       "<p>5 rows × 1222 columns</p>\n",
       "</div>"
      ],
      "text/plain": [
       "                1110008P14Rik  1500009C09Rik  1500012F01Rik  1700020I14Rik  \\\n",
       "AAAAAAAGGTAGTA              0              0              0              0   \n",
       "AAAAAAAGTCCCAA              0              0              0              0   \n",
       "AAAAAAATCTTAGT              0              0              0              0   \n",
       "AAAAAACATCTTTC              0              0              0              0   \n",
       "AAAAAACGAAATAG              0              0              0              0   \n",
       "\n",
       "                2010107E04Rik  2010300C02Rik  2210016L21Rik  2310036O22Rik  \\\n",
       "AAAAAAAGGTAGTA              0              0              0              0   \n",
       "AAAAAAAGTCCCAA              0              0              0              0   \n",
       "AAAAAAATCTTAGT              0              0              0              0   \n",
       "AAAAAACATCTTTC              0              0              0              0   \n",
       "AAAAAACGAAATAG              0              0              0              0   \n",
       "\n",
       "                2900011O08Rik  3110035E14Rik  ...  Zrsr1  Zwint  mt-Co1  \\\n",
       "AAAAAAAGGTAGTA              0              0  ...      0      0       0   \n",
       "AAAAAAAGTCCCAA              0              0  ...      0      0       2   \n",
       "AAAAAAATCTTAGT              0              0  ...      0      0       0   \n",
       "AAAAAACATCTTTC              0              0  ...      0      0       0   \n",
       "AAAAAACGAAATAG              0              0  ...      0      0       1   \n",
       "\n",
       "                mt-Cytb  mt-Nd1  mt-Nd2  mt-Nd4  mt-Nd5  mt-Rnr1  mt-Rnr2  \n",
       "AAAAAAAGGTAGTA        0       0       0       0       0        1        0  \n",
       "AAAAAAAGTCCCAA        2       5       0       1       0        2        4  \n",
       "AAAAAAATCTTAGT        0       0       0       0       0        0        0  \n",
       "AAAAAACATCTTTC        0       0       0       0       0        1        0  \n",
       "AAAAAACGAAATAG        0       0       0       0       0        0        0  \n",
       "\n",
       "[5 rows x 1222 columns]"
      ]
     },
     "execution_count": 5,
     "metadata": {},
     "output_type": "execute_result"
    }
   ],
   "source": [
    "bead_reads_subset = pd.read_csv('./data/bead_reads_subset.csv', index_col='Unnamed: 0')\n",
    "bead_reads_subset.head()"
   ]
  },
  {
   "cell_type": "code",
   "execution_count": 6,
   "id": "bdbf3612",
   "metadata": {
    "execution": {
     "iopub.execute_input": "2022-04-26T01:43:30.372793Z",
     "iopub.status.busy": "2022-04-26T01:43:30.371662Z",
     "iopub.status.idle": "2022-04-26T01:43:31.194574Z",
     "shell.execute_reply": "2022-04-26T01:43:31.193145Z"
    },
    "papermill": {
     "duration": 0.866676,
     "end_time": "2022-04-26T01:43:31.194847",
     "exception": false,
     "start_time": "2022-04-26T01:43:30.328171",
     "status": "completed"
    },
    "tags": []
   },
   "outputs": [],
   "source": [
    "data_scipy_sparse = scipy.sparse.coo_matrix( bead_reads_subset.to_numpy() )"
   ]
  },
  {
   "cell_type": "code",
   "execution_count": 7,
   "id": "2e701b46",
   "metadata": {
    "execution": {
     "iopub.execute_input": "2022-04-26T01:43:31.353054Z",
     "iopub.status.busy": "2022-04-26T01:43:31.351939Z",
     "iopub.status.idle": "2022-04-26T01:43:37.576539Z",
     "shell.execute_reply": "2022-04-26T01:43:37.575218Z"
    },
    "papermill": {
     "duration": 6.280038,
     "end_time": "2022-04-26T01:43:37.576801",
     "exception": false,
     "start_time": "2022-04-26T01:43:31.296763",
     "status": "completed"
    },
    "tags": []
   },
   "outputs": [],
   "source": [
    "data_sparse_tensor = scipy_sparse_to_pytorch_sparse(data_scipy_sparse).to(device=device)"
   ]
  },
  {
   "cell_type": "code",
   "execution_count": 8,
   "id": "4607fb01",
   "metadata": {
    "execution": {
     "iopub.execute_input": "2022-04-26T01:43:37.657511Z",
     "iopub.status.busy": "2022-04-26T01:43:37.656614Z",
     "iopub.status.idle": "2022-04-26T01:43:37.667923Z",
     "shell.execute_reply": "2022-04-26T01:43:37.667078Z"
    },
    "papermill": {
     "duration": 0.051874,
     "end_time": "2022-04-26T01:43:37.668063",
     "exception": false,
     "start_time": "2022-04-26T01:43:37.616189",
     "status": "completed"
    },
    "tags": []
   },
   "outputs": [
    {
     "data": {
      "text/plain": [
       "tensor(indices=tensor([[    0,     0,     0,  ..., 53207, 53207, 53207],\n",
       "                       [   84,   412,   528,  ...,  1219,  1220,  1221]]),\n",
       "       values=tensor([ 1.,  1.,  1.,  ..., 12., 26., 71.]),\n",
       "       device='cuda:0', size=(53208, 1222), nnz=9552845, layout=torch.sparse_coo)"
      ]
     },
     "execution_count": 8,
     "metadata": {},
     "output_type": "execute_result"
    }
   ],
   "source": [
    "data_sparse_tensor"
   ]
  },
  {
   "cell_type": "code",
   "execution_count": 9,
   "id": "5a94bf37",
   "metadata": {
    "execution": {
     "iopub.execute_input": "2022-04-26T01:43:37.725664Z",
     "iopub.status.busy": "2022-04-26T01:43:37.725028Z",
     "iopub.status.idle": "2022-04-26T01:43:37.731519Z",
     "shell.execute_reply": "2022-04-26T01:43:37.730971Z"
    },
    "papermill": {
     "duration": 0.036822,
     "end_time": "2022-04-26T01:43:37.731622",
     "exception": false,
     "start_time": "2022-04-26T01:43:37.694800",
     "status": "completed"
    },
    "tags": []
   },
   "outputs": [],
   "source": [
    "data_dense_tensor = data_sparse_tensor.to_dense()"
   ]
  },
  {
   "cell_type": "code",
   "execution_count": 10,
   "id": "83469bae",
   "metadata": {
    "execution": {
     "iopub.execute_input": "2022-04-26T01:43:37.778797Z",
     "iopub.status.busy": "2022-04-26T01:43:37.778273Z",
     "iopub.status.idle": "2022-04-26T01:43:38.112745Z",
     "shell.execute_reply": "2022-04-26T01:43:38.111389Z"
    },
    "papermill": {
     "duration": 0.360797,
     "end_time": "2022-04-26T01:43:38.113012",
     "exception": false,
     "start_time": "2022-04-26T01:43:37.752215",
     "status": "completed"
    },
    "tags": []
   },
   "outputs": [],
   "source": [
    "mask_scipy_sparse = (data_scipy_sparse != 0).astype(np.int64).tocoo()"
   ]
  },
  {
   "cell_type": "code",
   "execution_count": 11,
   "id": "f19e7c2b",
   "metadata": {
    "execution": {
     "iopub.execute_input": "2022-04-26T01:43:38.190469Z",
     "iopub.status.busy": "2022-04-26T01:43:38.189611Z",
     "iopub.status.idle": "2022-04-26T01:43:38.276624Z",
     "shell.execute_reply": "2022-04-26T01:43:38.275964Z"
    },
    "papermill": {
     "duration": 0.123747,
     "end_time": "2022-04-26T01:43:38.276753",
     "exception": false,
     "start_time": "2022-04-26T01:43:38.153006",
     "status": "completed"
    },
    "tags": []
   },
   "outputs": [],
   "source": [
    "mask_sparse_tensor = scipy_sparse_to_pytorch_sparse(mask_scipy_sparse)"
   ]
  },
  {
   "cell_type": "code",
   "execution_count": 12,
   "id": "71c72017",
   "metadata": {
    "execution": {
     "iopub.execute_input": "2022-04-26T01:43:38.336474Z",
     "iopub.status.busy": "2022-04-26T01:43:38.335664Z",
     "iopub.status.idle": "2022-04-26T01:43:40.214082Z",
     "shell.execute_reply": "2022-04-26T01:43:40.214488Z"
    },
    "papermill": {
     "duration": 1.914617,
     "end_time": "2022-04-26T01:43:40.214635",
     "exception": false,
     "start_time": "2022-04-26T01:43:38.300018",
     "status": "completed"
    },
    "tags": []
   },
   "outputs": [],
   "source": [
    "mask_dense_tensor = mask_sparse_tensor.to_dense().bool()"
   ]
  },
  {
   "cell_type": "code",
   "execution_count": 13,
   "id": "d93e9c3b",
   "metadata": {
    "execution": {
     "iopub.execute_input": "2022-04-26T01:43:40.254501Z",
     "iopub.status.busy": "2022-04-26T01:43:40.253847Z",
     "iopub.status.idle": "2022-04-26T01:44:03.319666Z",
     "shell.execute_reply": "2022-04-26T01:44:03.316216Z"
    },
    "papermill": {
     "duration": 23.089586,
     "end_time": "2022-04-26T01:44:03.319944",
     "exception": false,
     "start_time": "2022-04-26T01:43:40.230358",
     "status": "completed"
    },
    "tags": []
   },
   "outputs": [],
   "source": [
    "distances = np.load('./data/macosko_distance_matrix.npy')"
   ]
  },
  {
   "cell_type": "code",
   "execution_count": 14,
   "id": "9ebb2e34",
   "metadata": {
    "execution": {
     "iopub.execute_input": "2022-04-26T01:44:03.417240Z",
     "iopub.status.busy": "2022-04-26T01:44:03.409492Z",
     "iopub.status.idle": "2022-04-26T01:44:12.181040Z",
     "shell.execute_reply": "2022-04-26T01:44:12.179715Z"
    },
    "papermill": {
     "duration": 8.819966,
     "end_time": "2022-04-26T01:44:12.181288",
     "exception": false,
     "start_time": "2022-04-26T01:44:03.361322",
     "status": "completed"
    },
    "tags": []
   },
   "outputs": [],
   "source": [
    "adjacency = scipy.sparse.coo_matrix( distances <= 20 , dtype=np.float32)\n",
    "degree = scipy.sparse.diags( adjacency.sum(axis=0).A1 )\n",
    "laplacian = (degree - adjacency).tocoo()"
   ]
  },
  {
   "cell_type": "code",
   "execution_count": 15,
   "id": "65c1f965",
   "metadata": {
    "execution": {
     "iopub.execute_input": "2022-04-26T01:44:12.310007Z",
     "iopub.status.busy": "2022-04-26T01:44:12.262270Z",
     "iopub.status.idle": "2022-04-26T01:44:12.333377Z",
     "shell.execute_reply": "2022-04-26T01:44:12.332682Z"
    },
    "papermill": {
     "duration": 0.109295,
     "end_time": "2022-04-26T01:44:12.333496",
     "exception": false,
     "start_time": "2022-04-26T01:44:12.224201",
     "status": "completed"
    },
    "tags": []
   },
   "outputs": [],
   "source": [
    "adjacency_sparse_tensor = scipy_sparse_to_pytorch_sparse(adjacency)"
   ]
  },
  {
   "cell_type": "code",
   "execution_count": 16,
   "id": "19119c84",
   "metadata": {
    "execution": {
     "iopub.execute_input": "2022-04-26T01:44:12.536413Z",
     "iopub.status.busy": "2022-04-26T01:44:12.534708Z",
     "iopub.status.idle": "2022-04-26T01:44:14.411850Z",
     "shell.execute_reply": "2022-04-26T01:44:14.412940Z"
    },
    "papermill": {
     "duration": 1.982816,
     "end_time": "2022-04-26T01:44:14.413653",
     "exception": false,
     "start_time": "2022-04-26T01:44:12.430837",
     "status": "completed"
    },
    "tags": []
   },
   "outputs": [],
   "source": [
    "adjacency_dense_tensor = adjacency_sparse_tensor.to_dense()"
   ]
  },
  {
   "cell_type": "code",
   "execution_count": 17,
   "id": "f8ea1a67",
   "metadata": {
    "execution": {
     "iopub.execute_input": "2022-04-26T01:44:14.455976Z",
     "iopub.status.busy": "2022-04-26T01:44:14.450522Z",
     "iopub.status.idle": "2022-04-26T01:44:14.457373Z",
     "shell.execute_reply": "2022-04-26T01:44:14.457682Z"
    },
    "papermill": {
     "duration": 0.025826,
     "end_time": "2022-04-26T01:44:14.457775",
     "exception": false,
     "start_time": "2022-04-26T01:44:14.431949",
     "status": "completed"
    },
    "tags": []
   },
   "outputs": [],
   "source": [
    "def laplacian_loss(x, x_lap):\n",
    "    \n",
    "    lap_sum = 0\n",
    "    for ii in range(x.shape[1]):\n",
    "        lap_sum = lap_sum + (x[:,ii].T @ x_lap @ x[:,ii])\n",
    "        \n",
    "    return lap_sum"
   ]
  },
  {
   "cell_type": "code",
   "execution_count": 18,
   "id": "8138fc66",
   "metadata": {
    "execution": {
     "iopub.execute_input": "2022-04-26T01:44:14.500766Z",
     "iopub.status.busy": "2022-04-26T01:44:14.500342Z",
     "iopub.status.idle": "2022-04-26T01:44:14.634346Z",
     "shell.execute_reply": "2022-04-26T01:44:14.633293Z"
    },
    "papermill": {
     "duration": 0.158347,
     "end_time": "2022-04-26T01:44:14.634434",
     "exception": false,
     "start_time": "2022-04-26T01:44:14.476087",
     "status": "completed"
    },
    "tags": []
   },
   "outputs": [],
   "source": [
    "mf = MatrixFactorization(mask_sparse_tensor.shape[0], mask_sparse_tensor.shape[1], DECOMP_RANK).to(device=device)"
   ]
  },
  {
   "cell_type": "code",
   "execution_count": 19,
   "id": "0d4943b4",
   "metadata": {
    "execution": {
     "iopub.execute_input": "2022-04-26T01:44:14.671253Z",
     "iopub.status.busy": "2022-04-26T01:44:14.670758Z",
     "iopub.status.idle": "2022-04-26T01:44:14.671976Z",
     "shell.execute_reply": "2022-04-26T01:44:14.671603Z"
    },
    "papermill": {
     "duration": 0.020274,
     "end_time": "2022-04-26T01:44:14.672051",
     "exception": false,
     "start_time": "2022-04-26T01:44:14.651777",
     "status": "completed"
    },
    "tags": []
   },
   "outputs": [],
   "source": [
    "import torch.optim as optim\n",
    "\n",
    "optimizer = optim.Adam(mf.parameters(), lr=0.001)"
   ]
  },
  {
   "cell_type": "code",
   "execution_count": 20,
   "id": "4b1713be",
   "metadata": {
    "execution": {
     "iopub.execute_input": "2022-04-26T01:44:14.706530Z",
     "iopub.status.busy": "2022-04-26T01:44:14.706088Z"
    },
    "papermill": {
     "duration": null,
     "end_time": null,
     "exception": false,
     "start_time": "2022-04-26T01:44:14.687091",
     "status": "running"
    },
    "tags": []
   },
   "outputs": [
    {
     "name": "stdout",
     "output_type": "stream",
     "text": [
      "0\n",
      "215980314.0\n"
     ]
    },
    {
     "name": "stdout",
     "output_type": "stream",
     "text": [
      "1\n",
      "215790147.0\n"
     ]
    },
    {
     "name": "stdout",
     "output_type": "stream",
     "text": [
      "2\n",
      "215300983.0\n"
     ]
    },
    {
     "name": "stdout",
     "output_type": "stream",
     "text": [
      "3\n",
      "214376079.0\n"
     ]
    },
    {
     "name": "stdout",
     "output_type": "stream",
     "text": [
      "4\n",
      "212949414.0\n"
     ]
    },
    {
     "name": "stdout",
     "output_type": "stream",
     "text": [
      "5\n",
      "211010024.0\n"
     ]
    },
    {
     "name": "stdout",
     "output_type": "stream",
     "text": [
      "6\n",
      "208579377.0\n"
     ]
    },
    {
     "name": "stdout",
     "output_type": "stream",
     "text": [
      "7\n",
      "205734836.0\n"
     ]
    },
    {
     "name": "stdout",
     "output_type": "stream",
     "text": [
      "8\n",
      "202614714.0\n"
     ]
    },
    {
     "name": "stdout",
     "output_type": "stream",
     "text": [
      "9\n",
      "199341661.0\n"
     ]
    },
    {
     "name": "stdout",
     "output_type": "stream",
     "text": [
      "10\n",
      "196074250.0\n"
     ]
    },
    {
     "name": "stdout",
     "output_type": "stream",
     "text": [
      "11\n",
      "192948619.0\n"
     ]
    },
    {
     "name": "stdout",
     "output_type": "stream",
     "text": [
      "12\n",
      "190093294.0\n"
     ]
    },
    {
     "name": "stdout",
     "output_type": "stream",
     "text": [
      "13\n",
      "187551245.0\n"
     ]
    },
    {
     "name": "stdout",
     "output_type": "stream",
     "text": [
      "14\n",
      "185379588.0\n"
     ]
    }
   ],
   "source": [
    "losses = []\n",
    "\n",
    "for epoch in range(50):\n",
    "    \n",
    "    batcher = data_adjacency_batcher(data_dense_tensor, adjacency_dense_tensor, 5000)\n",
    "    \n",
    "    total_loss = 0\n",
    "    \n",
    "    \n",
    "    for (data_batch, mask_batch, adjacency_batch, row_batch) in batcher:\n",
    "        \n",
    "        \n",
    "        \n",
    "        data_batch = data_batch.to(device=device)\n",
    "        mask_batch = mask_batch.to(device=device)\n",
    "        adjacency_batch = adjacency_batch.to(device=device)\n",
    "        row_batch = row_batch.to(device=device)\n",
    "        \n",
    "        laplacian_tensor = adjacency_to_laplacian(adjacency_batch).to(device=device)\n",
    "    \n",
    "        optimizer.zero_grad()\n",
    "\n",
    "        output = mf.forward(row_batch, torch.arange(0, data_batch.shape[1]))\n",
    "        \n",
    "        L1_laplacian_tensor = adjacency_to_laplacian(adjacency_to_L1_adjacency(output, adjacency_batch, 0.001, device)).to(device=device)\n",
    "        \n",
    "        loss = squared_loss(data_batch[mask_batch], output[mask_batch]) + LAPLACIAN_PARAM*laplacian_loss(output, laplacian_tensor) + TV_PARAM*laplacian_loss(output, L1_laplacian_tensor)\n",
    "        loss.backward()\n",
    "        optimizer.step()\n",
    "        \n",
    "        total_loss += loss.item()\n",
    "        \n",
    "\n",
    "    if epoch % 1 == 0:\n",
    "        print(epoch)\n",
    "        print(total_loss)\n",
    "        \n",
    "    losses.append(total_loss)"
   ]
  },
  {
   "cell_type": "code",
   "execution_count": null,
   "id": "1e233419",
   "metadata": {
    "papermill": {
     "duration": null,
     "end_time": null,
     "exception": null,
     "start_time": null,
     "status": "pending"
    },
    "tags": []
   },
   "outputs": [],
   "source": [
    "loss.item()"
   ]
  },
  {
   "cell_type": "code",
   "execution_count": null,
   "id": "d1a4217b",
   "metadata": {
    "papermill": {
     "duration": null,
     "end_time": null,
     "exception": null,
     "start_time": null,
     "status": "pending"
    },
    "tags": []
   },
   "outputs": [],
   "source": [
    "np.save(f'./results/loss_curves/mf_rank{DECOMP_RANK}_L{LAPLACIAN_PARAM}_TV{TV_PARAM}_losses', np.array(losses))"
   ]
  },
  {
   "cell_type": "code",
   "execution_count": null,
   "id": "a6a7e035",
   "metadata": {
    "papermill": {
     "duration": null,
     "end_time": null,
     "exception": null,
     "start_time": null,
     "status": "pending"
    },
    "tags": []
   },
   "outputs": [],
   "source": [
    "torch.save(mf.state_dict(), f'./results/saved_models/mf_rank{DECOMP_RANK}_L{LAPLACIAN_PARAM}_TV{TV_PARAM}_state')"
   ]
  },
  {
   "cell_type": "code",
   "execution_count": null,
   "id": "c039ea6e",
   "metadata": {
    "papermill": {
     "duration": null,
     "end_time": null,
     "exception": null,
     "start_time": null,
     "status": "pending"
    },
    "tags": []
   },
   "outputs": [],
   "source": [
    "final_output = mf.forward(torch.arange(0, data_dense_tensor.shape[0]), torch.arange(0, data_dense_tensor.shape[1]))\n",
    "\n",
    "final_squared_error = squared_loss(data_dense_tensor, final_output)\n",
    "final_laplacian = laplacian_loss(final_output, adjacency_to_laplacian(adjacency_dense_tensor).to(device=device))\n",
    "final_TV =  laplacian_loss(final_output, adjacency_to_laplacian(adjacency_to_L1_adjacency(final_output, adjacency_dense_tensor, 0.001, device)).to(device=device))"
   ]
  },
  {
   "cell_type": "code",
   "execution_count": null,
   "id": "b19095b3",
   "metadata": {
    "papermill": {
     "duration": null,
     "end_time": null,
     "exception": null,
     "start_time": null,
     "status": "pending"
    },
    "tags": []
   },
   "outputs": [],
   "source": [
    "np.save(f'./results/final_losses/mf_rank{DECOMP_RANK}_L{LAPLACIAN_PARAM}_TV{TV_PARAM}_losses', np.array([final_squared_error.item(), final_laplacian.item(), final_TV.item()]))"
   ]
  },
  {
   "cell_type": "code",
   "execution_count": null,
   "id": "b670b6f7",
   "metadata": {
    "papermill": {
     "duration": null,
     "end_time": null,
     "exception": null,
     "start_time": null,
     "status": "pending"
    },
    "tags": []
   },
   "outputs": [],
   "source": []
  }
 ],
 "metadata": {
  "interpreter": {
   "hash": "22ee4ece52021b4a120b95b326dd7a4d7938576e919f53927a7959ab5d7e1e45"
  },
  "kernelspec": {
   "display_name": "spatialSFT",
   "language": "python",
   "name": "spatialsft"
  },
  "language_info": {
   "codemirror_mode": {
    "name": "ipython",
    "version": 3
   },
   "file_extension": ".py",
   "mimetype": "text/x-python",
   "name": "python",
   "nbconvert_exporter": "python",
   "pygments_lexer": "ipython3",
   "version": "3.8.0"
  },
  "papermill": {
   "default_parameters": {},
   "duration": null,
   "end_time": null,
   "environment_variables": {},
   "exception": null,
   "input_path": "./notebooks/mf_param_template.ipynb",
   "output_path": "./papermill_output/mf_param_template_rank100_lap0.00001_tv0.01.ipynb",
   "parameters": {
    "DECOMP_RANK": 100,
    "LAPLACIAN_PARAM": 1e-05,
    "TV_PARAM": 0.01
   },
   "start_time": "2022-04-26T01:43:10.590516",
   "version": "2.3.4"
  }
 },
 "nbformat": 4,
 "nbformat_minor": 5
}