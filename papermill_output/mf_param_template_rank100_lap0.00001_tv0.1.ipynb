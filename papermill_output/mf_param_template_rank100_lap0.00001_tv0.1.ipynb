{
 "cells": [
  {
   "cell_type": "markdown",
   "id": "6c0a2927",
   "metadata": {
    "papermill": {
     "duration": 0.038178,
     "end_time": "2022-04-26T04:06:53.030052",
     "exception": false,
     "start_time": "2022-04-26T04:06:52.991874",
     "status": "completed"
    },
    "tags": []
   },
   "source": [
    "### setup"
   ]
  },
  {
   "cell_type": "code",
   "execution_count": 1,
   "id": "a8a11eac",
   "metadata": {
    "execution": {
     "iopub.execute_input": "2022-04-26T04:06:53.102635Z",
     "iopub.status.busy": "2022-04-26T04:06:53.101826Z",
     "iopub.status.idle": "2022-04-26T04:07:02.975252Z",
     "shell.execute_reply": "2022-04-26T04:07:02.972708Z"
    },
    "papermill": {
     "duration": 9.916066,
     "end_time": "2022-04-26T04:07:02.975576",
     "exception": false,
     "start_time": "2022-04-26T04:06:53.059510",
     "status": "completed"
    },
    "tags": []
   },
   "outputs": [],
   "source": [
    "import numpy as np \n",
    "import matplotlib.pyplot as plt\n",
    "import pandas as pd\n",
    "\n",
    "import scipy\n",
    "\n",
    "\n",
    "from utils import *\n",
    "from pytorch_sparse_utils import *\n",
    "\n",
    "\n",
    "import torch\n",
    "from torch import nn\n",
    "import torch.nn.functional as F"
   ]
  },
  {
   "cell_type": "markdown",
   "id": "95e2dd63",
   "metadata": {
    "papermill": {
     "duration": 0.029089,
     "end_time": "2022-04-26T04:07:03.041509",
     "exception": false,
     "start_time": "2022-04-26T04:07:03.012420",
     "status": "completed"
    },
    "tags": []
   },
   "source": [
    "### set parameters"
   ]
  },
  {
   "cell_type": "code",
   "execution_count": 2,
   "id": "147e7f4b",
   "metadata": {
    "execution": {
     "iopub.execute_input": "2022-04-26T04:07:03.095199Z",
     "iopub.status.busy": "2022-04-26T04:07:03.094449Z",
     "iopub.status.idle": "2022-04-26T04:07:03.097290Z",
     "shell.execute_reply": "2022-04-26T04:07:03.096659Z"
    },
    "papermill": {
     "duration": 0.030336,
     "end_time": "2022-04-26T04:07:03.097423",
     "exception": false,
     "start_time": "2022-04-26T04:07:03.067087",
     "status": "completed"
    },
    "tags": [
     "parameters"
    ]
   },
   "outputs": [],
   "source": [
    "DECOMP_RANK = 10\n",
    "LAPLACIAN_PARAM = 0.001\n",
    "TV_PARAM = 0.001"
   ]
  },
  {
   "cell_type": "code",
   "execution_count": 3,
   "id": "f9bbadab",
   "metadata": {
    "execution": {
     "iopub.execute_input": "2022-04-26T04:07:03.142467Z",
     "iopub.status.busy": "2022-04-26T04:07:03.141841Z",
     "iopub.status.idle": "2022-04-26T04:07:03.144665Z",
     "shell.execute_reply": "2022-04-26T04:07:03.145096Z"
    },
    "papermill": {
     "duration": 0.02744,
     "end_time": "2022-04-26T04:07:03.145227",
     "exception": false,
     "start_time": "2022-04-26T04:07:03.117787",
     "status": "completed"
    },
    "tags": [
     "injected-parameters"
    ]
   },
   "outputs": [],
   "source": [
    "# Parameters\n",
    "DECOMP_RANK = 100\n",
    "LAPLACIAN_PARAM = 1e-05\n",
    "TV_PARAM = 0.1\n"
   ]
  },
  {
   "cell_type": "code",
   "execution_count": 4,
   "id": "9cc28e8d",
   "metadata": {
    "execution": {
     "iopub.execute_input": "2022-04-26T04:07:05.819146Z",
     "iopub.status.busy": "2022-04-26T04:07:05.817696Z",
     "iopub.status.idle": "2022-04-26T04:07:05.825596Z",
     "shell.execute_reply": "2022-04-26T04:07:05.826451Z"
    },
    "papermill": {
     "duration": 2.660285,
     "end_time": "2022-04-26T04:07:05.826822",
     "exception": false,
     "start_time": "2022-04-26T04:07:03.166537",
     "status": "completed"
    },
    "tags": []
   },
   "outputs": [
    {
     "name": "stdout",
     "output_type": "stream",
     "text": [
      "Using cuda device\n"
     ]
    }
   ],
   "source": [
    "device = 'cuda' if torch.cuda.is_available() else 'cpu'\n",
    "print('Using {} device'.format(device))"
   ]
  },
  {
   "cell_type": "markdown",
   "id": "dbc38796",
   "metadata": {
    "papermill": {
     "duration": 0.024523,
     "end_time": "2022-04-26T04:07:05.880211",
     "exception": false,
     "start_time": "2022-04-26T04:07:05.855688",
     "status": "completed"
    },
    "tags": []
   },
   "source": [
    "### loading data"
   ]
  },
  {
   "cell_type": "code",
   "execution_count": 5,
   "id": "fb6f5406",
   "metadata": {
    "execution": {
     "iopub.execute_input": "2022-04-26T04:07:05.930240Z",
     "iopub.status.busy": "2022-04-26T04:07:05.926592Z",
     "iopub.status.idle": "2022-04-26T04:07:09.160117Z",
     "shell.execute_reply": "2022-04-26T04:07:09.161189Z"
    },
    "papermill": {
     "duration": 3.259045,
     "end_time": "2022-04-26T04:07:09.161500",
     "exception": false,
     "start_time": "2022-04-26T04:07:05.902455",
     "status": "completed"
    },
    "tags": []
   },
   "outputs": [
    {
     "data": {
      "text/html": [
       "<div>\n",
       "<style scoped>\n",
       "    .dataframe tbody tr th:only-of-type {\n",
       "        vertical-align: middle;\n",
       "    }\n",
       "\n",
       "    .dataframe tbody tr th {\n",
       "        vertical-align: top;\n",
       "    }\n",
       "\n",
       "    .dataframe thead th {\n",
       "        text-align: right;\n",
       "    }\n",
       "</style>\n",
       "<table border=\"1\" class=\"dataframe\">\n",
       "  <thead>\n",
       "    <tr style=\"text-align: right;\">\n",
       "      <th></th>\n",
       "      <th>1110008P14Rik</th>\n",
       "      <th>1500009C09Rik</th>\n",
       "      <th>1500012F01Rik</th>\n",
       "      <th>1700020I14Rik</th>\n",
       "      <th>2010107E04Rik</th>\n",
       "      <th>2010300C02Rik</th>\n",
       "      <th>2210016L21Rik</th>\n",
       "      <th>2310036O22Rik</th>\n",
       "      <th>2900011O08Rik</th>\n",
       "      <th>3110035E14Rik</th>\n",
       "      <th>...</th>\n",
       "      <th>Zrsr1</th>\n",
       "      <th>Zwint</th>\n",
       "      <th>mt-Co1</th>\n",
       "      <th>mt-Cytb</th>\n",
       "      <th>mt-Nd1</th>\n",
       "      <th>mt-Nd2</th>\n",
       "      <th>mt-Nd4</th>\n",
       "      <th>mt-Nd5</th>\n",
       "      <th>mt-Rnr1</th>\n",
       "      <th>mt-Rnr2</th>\n",
       "    </tr>\n",
       "  </thead>\n",
       "  <tbody>\n",
       "    <tr>\n",
       "      <th>AAAAAAAGGTAGTA</th>\n",
       "      <td>0</td>\n",
       "      <td>0</td>\n",
       "      <td>0</td>\n",
       "      <td>0</td>\n",
       "      <td>0</td>\n",
       "      <td>0</td>\n",
       "      <td>0</td>\n",
       "      <td>0</td>\n",
       "      <td>0</td>\n",
       "      <td>0</td>\n",
       "      <td>...</td>\n",
       "      <td>0</td>\n",
       "      <td>0</td>\n",
       "      <td>0</td>\n",
       "      <td>0</td>\n",
       "      <td>0</td>\n",
       "      <td>0</td>\n",
       "      <td>0</td>\n",
       "      <td>0</td>\n",
       "      <td>1</td>\n",
       "      <td>0</td>\n",
       "    </tr>\n",
       "    <tr>\n",
       "      <th>AAAAAAAGTCCCAA</th>\n",
       "      <td>0</td>\n",
       "      <td>0</td>\n",
       "      <td>0</td>\n",
       "      <td>0</td>\n",
       "      <td>0</td>\n",
       "      <td>0</td>\n",
       "      <td>0</td>\n",
       "      <td>0</td>\n",
       "      <td>0</td>\n",
       "      <td>0</td>\n",
       "      <td>...</td>\n",
       "      <td>0</td>\n",
       "      <td>0</td>\n",
       "      <td>2</td>\n",
       "      <td>2</td>\n",
       "      <td>5</td>\n",
       "      <td>0</td>\n",
       "      <td>1</td>\n",
       "      <td>0</td>\n",
       "      <td>2</td>\n",
       "      <td>4</td>\n",
       "    </tr>\n",
       "    <tr>\n",
       "      <th>AAAAAAATCTTAGT</th>\n",
       "      <td>0</td>\n",
       "      <td>0</td>\n",
       "      <td>0</td>\n",
       "      <td>0</td>\n",
       "      <td>0</td>\n",
       "      <td>0</td>\n",
       "      <td>0</td>\n",
       "      <td>0</td>\n",
       "      <td>0</td>\n",
       "      <td>0</td>\n",
       "      <td>...</td>\n",
       "      <td>0</td>\n",
       "      <td>0</td>\n",
       "      <td>0</td>\n",
       "      <td>0</td>\n",
       "      <td>0</td>\n",
       "      <td>0</td>\n",
       "      <td>0</td>\n",
       "      <td>0</td>\n",
       "      <td>0</td>\n",
       "      <td>0</td>\n",
       "    </tr>\n",
       "    <tr>\n",
       "      <th>AAAAAACATCTTTC</th>\n",
       "      <td>0</td>\n",
       "      <td>0</td>\n",
       "      <td>0</td>\n",
       "      <td>0</td>\n",
       "      <td>0</td>\n",
       "      <td>0</td>\n",
       "      <td>0</td>\n",
       "      <td>0</td>\n",
       "      <td>0</td>\n",
       "      <td>0</td>\n",
       "      <td>...</td>\n",
       "      <td>0</td>\n",
       "      <td>0</td>\n",
       "      <td>0</td>\n",
       "      <td>0</td>\n",
       "      <td>0</td>\n",
       "      <td>0</td>\n",
       "      <td>0</td>\n",
       "      <td>0</td>\n",
       "      <td>1</td>\n",
       "      <td>0</td>\n",
       "    </tr>\n",
       "    <tr>\n",
       "      <th>AAAAAACGAAATAG</th>\n",
       "      <td>0</td>\n",
       "      <td>0</td>\n",
       "      <td>0</td>\n",
       "      <td>0</td>\n",
       "      <td>0</td>\n",
       "      <td>0</td>\n",
       "      <td>0</td>\n",
       "      <td>0</td>\n",
       "      <td>0</td>\n",
       "      <td>0</td>\n",
       "      <td>...</td>\n",
       "      <td>0</td>\n",
       "      <td>0</td>\n",
       "      <td>1</td>\n",
       "      <td>0</td>\n",
       "      <td>0</td>\n",
       "      <td>0</td>\n",
       "      <td>0</td>\n",
       "      <td>0</td>\n",
       "      <td>0</td>\n",
       "      <td>0</td>\n",
       "    </tr>\n",
       "  </tbody>\n",
       "</table>\n",
       "<p>5 rows × 1222 columns</p>\n",
       "</div>"
      ],
      "text/plain": [
       "                1110008P14Rik  1500009C09Rik  1500012F01Rik  1700020I14Rik  \\\n",
       "AAAAAAAGGTAGTA              0              0              0              0   \n",
       "AAAAAAAGTCCCAA              0              0              0              0   \n",
       "AAAAAAATCTTAGT              0              0              0              0   \n",
       "AAAAAACATCTTTC              0              0              0              0   \n",
       "AAAAAACGAAATAG              0              0              0              0   \n",
       "\n",
       "                2010107E04Rik  2010300C02Rik  2210016L21Rik  2310036O22Rik  \\\n",
       "AAAAAAAGGTAGTA              0              0              0              0   \n",
       "AAAAAAAGTCCCAA              0              0              0              0   \n",
       "AAAAAAATCTTAGT              0              0              0              0   \n",
       "AAAAAACATCTTTC              0              0              0              0   \n",
       "AAAAAACGAAATAG              0              0              0              0   \n",
       "\n",
       "                2900011O08Rik  3110035E14Rik  ...  Zrsr1  Zwint  mt-Co1  \\\n",
       "AAAAAAAGGTAGTA              0              0  ...      0      0       0   \n",
       "AAAAAAAGTCCCAA              0              0  ...      0      0       2   \n",
       "AAAAAAATCTTAGT              0              0  ...      0      0       0   \n",
       "AAAAAACATCTTTC              0              0  ...      0      0       0   \n",
       "AAAAAACGAAATAG              0              0  ...      0      0       1   \n",
       "\n",
       "                mt-Cytb  mt-Nd1  mt-Nd2  mt-Nd4  mt-Nd5  mt-Rnr1  mt-Rnr2  \n",
       "AAAAAAAGGTAGTA        0       0       0       0       0        1        0  \n",
       "AAAAAAAGTCCCAA        2       5       0       1       0        2        4  \n",
       "AAAAAAATCTTAGT        0       0       0       0       0        0        0  \n",
       "AAAAAACATCTTTC        0       0       0       0       0        1        0  \n",
       "AAAAAACGAAATAG        0       0       0       0       0        0        0  \n",
       "\n",
       "[5 rows x 1222 columns]"
      ]
     },
     "execution_count": 5,
     "metadata": {},
     "output_type": "execute_result"
    }
   ],
   "source": [
    "bead_reads_subset = pd.read_csv('./data/bead_reads_subset.csv', index_col='Unnamed: 0')\n",
    "bead_reads_subset.head()"
   ]
  },
  {
   "cell_type": "code",
   "execution_count": 6,
   "id": "28322854",
   "metadata": {
    "execution": {
     "iopub.execute_input": "2022-04-26T04:07:09.233564Z",
     "iopub.status.busy": "2022-04-26T04:07:09.232539Z",
     "iopub.status.idle": "2022-04-26T04:07:09.976510Z",
     "shell.execute_reply": "2022-04-26T04:07:09.974997Z"
    },
    "papermill": {
     "duration": 0.780296,
     "end_time": "2022-04-26T04:07:09.976792",
     "exception": false,
     "start_time": "2022-04-26T04:07:09.196496",
     "status": "completed"
    },
    "tags": []
   },
   "outputs": [],
   "source": [
    "data_scipy_sparse = scipy.sparse.coo_matrix( bead_reads_subset.to_numpy() )"
   ]
  },
  {
   "cell_type": "code",
   "execution_count": 7,
   "id": "0cec8ba8",
   "metadata": {
    "execution": {
     "iopub.execute_input": "2022-04-26T04:07:10.052811Z",
     "iopub.status.busy": "2022-04-26T04:07:10.051841Z",
     "iopub.status.idle": "2022-04-26T04:07:16.977191Z",
     "shell.execute_reply": "2022-04-26T04:07:16.975322Z"
    },
    "papermill": {
     "duration": 6.961881,
     "end_time": "2022-04-26T04:07:16.977487",
     "exception": false,
     "start_time": "2022-04-26T04:07:10.015606",
     "status": "completed"
    },
    "tags": []
   },
   "outputs": [],
   "source": [
    "data_sparse_tensor = scipy_sparse_to_pytorch_sparse(data_scipy_sparse).to(device=device)"
   ]
  },
  {
   "cell_type": "code",
   "execution_count": 8,
   "id": "25aa2128",
   "metadata": {
    "execution": {
     "iopub.execute_input": "2022-04-26T04:07:17.054651Z",
     "iopub.status.busy": "2022-04-26T04:07:17.053679Z",
     "iopub.status.idle": "2022-04-26T04:07:17.064704Z",
     "shell.execute_reply": "2022-04-26T04:07:17.063990Z"
    },
    "papermill": {
     "duration": 0.047227,
     "end_time": "2022-04-26T04:07:17.064864",
     "exception": false,
     "start_time": "2022-04-26T04:07:17.017637",
     "status": "completed"
    },
    "tags": []
   },
   "outputs": [
    {
     "data": {
      "text/plain": [
       "tensor(indices=tensor([[    0,     0,     0,  ..., 53207, 53207, 53207],\n",
       "                       [   84,   412,   528,  ...,  1219,  1220,  1221]]),\n",
       "       values=tensor([ 1.,  1.,  1.,  ..., 12., 26., 71.]),\n",
       "       device='cuda:0', size=(53208, 1222), nnz=9552845, layout=torch.sparse_coo)"
      ]
     },
     "execution_count": 8,
     "metadata": {},
     "output_type": "execute_result"
    }
   ],
   "source": [
    "data_sparse_tensor"
   ]
  },
  {
   "cell_type": "code",
   "execution_count": 9,
   "id": "346a0d56",
   "metadata": {
    "execution": {
     "iopub.execute_input": "2022-04-26T04:07:17.121300Z",
     "iopub.status.busy": "2022-04-26T04:07:17.120642Z",
     "iopub.status.idle": "2022-04-26T04:07:17.126941Z",
     "shell.execute_reply": "2022-04-26T04:07:17.126388Z"
    },
    "papermill": {
     "duration": 0.036941,
     "end_time": "2022-04-26T04:07:17.127070",
     "exception": false,
     "start_time": "2022-04-26T04:07:17.090129",
     "status": "completed"
    },
    "tags": []
   },
   "outputs": [],
   "source": [
    "data_dense_tensor = data_sparse_tensor.to_dense()"
   ]
  },
  {
   "cell_type": "code",
   "execution_count": 10,
   "id": "62aca336",
   "metadata": {
    "execution": {
     "iopub.execute_input": "2022-04-26T04:07:17.338455Z",
     "iopub.status.busy": "2022-04-26T04:07:17.336941Z",
     "iopub.status.idle": "2022-04-26T04:07:17.738270Z",
     "shell.execute_reply": "2022-04-26T04:07:17.736833Z"
    },
    "papermill": {
     "duration": 0.503931,
     "end_time": "2022-04-26T04:07:17.738546",
     "exception": false,
     "start_time": "2022-04-26T04:07:17.234615",
     "status": "completed"
    },
    "tags": []
   },
   "outputs": [],
   "source": [
    "mask_scipy_sparse = (data_scipy_sparse != 0).astype(np.int64).tocoo()"
   ]
  },
  {
   "cell_type": "code",
   "execution_count": 11,
   "id": "3c6a1b84",
   "metadata": {
    "execution": {
     "iopub.execute_input": "2022-04-26T04:07:17.816355Z",
     "iopub.status.busy": "2022-04-26T04:07:17.815416Z",
     "iopub.status.idle": "2022-04-26T04:07:17.932133Z",
     "shell.execute_reply": "2022-04-26T04:07:17.931260Z"
    },
    "papermill": {
     "duration": 0.15457,
     "end_time": "2022-04-26T04:07:17.932308",
     "exception": false,
     "start_time": "2022-04-26T04:07:17.777738",
     "status": "completed"
    },
    "tags": []
   },
   "outputs": [],
   "source": [
    "mask_sparse_tensor = scipy_sparse_to_pytorch_sparse(mask_scipy_sparse)"
   ]
  },
  {
   "cell_type": "code",
   "execution_count": 12,
   "id": "0b85ec0d",
   "metadata": {
    "execution": {
     "iopub.execute_input": "2022-04-26T04:07:17.987419Z",
     "iopub.status.busy": "2022-04-26T04:07:17.986624Z",
     "iopub.status.idle": "2022-04-26T04:07:19.347169Z",
     "shell.execute_reply": "2022-04-26T04:07:19.345459Z"
    },
    "papermill": {
     "duration": 1.389331,
     "end_time": "2022-04-26T04:07:19.347423",
     "exception": false,
     "start_time": "2022-04-26T04:07:17.958092",
     "status": "completed"
    },
    "tags": []
   },
   "outputs": [],
   "source": [
    "mask_dense_tensor = mask_sparse_tensor.to_dense().bool()"
   ]
  },
  {
   "cell_type": "code",
   "execution_count": 13,
   "id": "dee8f899",
   "metadata": {
    "execution": {
     "iopub.execute_input": "2022-04-26T04:07:19.424909Z",
     "iopub.status.busy": "2022-04-26T04:07:19.423961Z",
     "iopub.status.idle": "2022-04-26T04:07:40.801147Z",
     "shell.execute_reply": "2022-04-26T04:07:40.799202Z"
    },
    "papermill": {
     "duration": 21.417139,
     "end_time": "2022-04-26T04:07:40.801486",
     "exception": false,
     "start_time": "2022-04-26T04:07:19.384347",
     "status": "completed"
    },
    "tags": []
   },
   "outputs": [],
   "source": [
    "distances = np.load('./data/macosko_distance_matrix.npy')"
   ]
  },
  {
   "cell_type": "code",
   "execution_count": 14,
   "id": "597c8ff2",
   "metadata": {
    "execution": {
     "iopub.execute_input": "2022-04-26T04:07:40.881546Z",
     "iopub.status.busy": "2022-04-26T04:07:40.880631Z",
     "iopub.status.idle": "2022-04-26T04:07:50.722965Z",
     "shell.execute_reply": "2022-04-26T04:07:50.720735Z"
    },
    "papermill": {
     "duration": 9.880434,
     "end_time": "2022-04-26T04:07:50.723236",
     "exception": false,
     "start_time": "2022-04-26T04:07:40.842802",
     "status": "completed"
    },
    "tags": []
   },
   "outputs": [],
   "source": [
    "adjacency = scipy.sparse.coo_matrix( distances <= 20 , dtype=np.float32)\n",
    "degree = scipy.sparse.diags( adjacency.sum(axis=0).A1 )\n",
    "laplacian = (degree - adjacency).tocoo()"
   ]
  },
  {
   "cell_type": "code",
   "execution_count": 15,
   "id": "57c30f0d",
   "metadata": {
    "execution": {
     "iopub.execute_input": "2022-04-26T04:07:50.801882Z",
     "iopub.status.busy": "2022-04-26T04:07:50.800946Z",
     "iopub.status.idle": "2022-04-26T04:07:50.807586Z",
     "shell.execute_reply": "2022-04-26T04:07:50.808092Z"
    },
    "papermill": {
     "duration": 0.045525,
     "end_time": "2022-04-26T04:07:50.808263",
     "exception": false,
     "start_time": "2022-04-26T04:07:50.762738",
     "status": "completed"
    },
    "tags": []
   },
   "outputs": [],
   "source": [
    "adjacency_sparse_tensor = scipy_sparse_to_pytorch_sparse(adjacency)"
   ]
  },
  {
   "cell_type": "code",
   "execution_count": 16,
   "id": "413c09ba",
   "metadata": {
    "execution": {
     "iopub.execute_input": "2022-04-26T04:07:50.855985Z",
     "iopub.status.busy": "2022-04-26T04:07:50.854781Z",
     "iopub.status.idle": "2022-04-26T04:07:52.858860Z",
     "shell.execute_reply": "2022-04-26T04:07:52.859212Z"
    },
    "papermill": {
     "duration": 2.029377,
     "end_time": "2022-04-26T04:07:52.859371",
     "exception": false,
     "start_time": "2022-04-26T04:07:50.829994",
     "status": "completed"
    },
    "tags": []
   },
   "outputs": [],
   "source": [
    "adjacency_dense_tensor = adjacency_sparse_tensor.to_dense()"
   ]
  },
  {
   "cell_type": "code",
   "execution_count": 17,
   "id": "a89a69e1",
   "metadata": {
    "execution": {
     "iopub.execute_input": "2022-04-26T04:07:52.910671Z",
     "iopub.status.busy": "2022-04-26T04:07:52.909473Z",
     "iopub.status.idle": "2022-04-26T04:07:52.912476Z",
     "shell.execute_reply": "2022-04-26T04:07:52.911505Z"
    },
    "papermill": {
     "duration": 0.033787,
     "end_time": "2022-04-26T04:07:52.912660",
     "exception": false,
     "start_time": "2022-04-26T04:07:52.878873",
     "status": "completed"
    },
    "tags": []
   },
   "outputs": [],
   "source": [
    "def laplacian_loss(x, x_lap):\n",
    "    \n",
    "    lap_sum = 0\n",
    "    for ii in range(x.shape[1]):\n",
    "        lap_sum = lap_sum + (x[:,ii].T @ x_lap @ x[:,ii])\n",
    "        \n",
    "    return lap_sum"
   ]
  },
  {
   "cell_type": "code",
   "execution_count": 18,
   "id": "49d966aa",
   "metadata": {
    "execution": {
     "iopub.execute_input": "2022-04-26T04:07:52.973529Z",
     "iopub.status.busy": "2022-04-26T04:07:52.972777Z",
     "iopub.status.idle": "2022-04-26T04:07:53.074204Z",
     "shell.execute_reply": "2022-04-26T04:07:53.074618Z"
    },
    "papermill": {
     "duration": 0.130225,
     "end_time": "2022-04-26T04:07:53.074778",
     "exception": false,
     "start_time": "2022-04-26T04:07:52.944553",
     "status": "completed"
    },
    "tags": []
   },
   "outputs": [],
   "source": [
    "mf = MatrixFactorization(mask_sparse_tensor.shape[0], mask_sparse_tensor.shape[1], DECOMP_RANK).to(device=device)"
   ]
  },
  {
   "cell_type": "code",
   "execution_count": 19,
   "id": "25bb2901",
   "metadata": {
    "execution": {
     "iopub.execute_input": "2022-04-26T04:07:53.123048Z",
     "iopub.status.busy": "2022-04-26T04:07:53.122562Z",
     "iopub.status.idle": "2022-04-26T04:07:53.127991Z",
     "shell.execute_reply": "2022-04-26T04:07:53.128373Z"
    },
    "papermill": {
     "duration": 0.027202,
     "end_time": "2022-04-26T04:07:53.128492",
     "exception": false,
     "start_time": "2022-04-26T04:07:53.101290",
     "status": "completed"
    },
    "tags": []
   },
   "outputs": [],
   "source": [
    "import torch.optim as optim\n",
    "\n",
    "optimizer = optim.Adam(mf.parameters(), lr=0.001)"
   ]
  },
  {
   "cell_type": "code",
   "execution_count": 20,
   "id": "467f32bb",
   "metadata": {
    "execution": {
     "iopub.execute_input": "2022-04-26T04:07:53.169081Z",
     "iopub.status.busy": "2022-04-26T04:07:53.168585Z"
    },
    "papermill": {
     "duration": null,
     "end_time": null,
     "exception": false,
     "start_time": "2022-04-26T04:07:53.146452",
     "status": "running"
    },
    "tags": []
   },
   "outputs": [
    {
     "name": "stdout",
     "output_type": "stream",
     "text": [
      "0\n",
      "215980288.0\n"
     ]
    },
    {
     "name": "stdout",
     "output_type": "stream",
     "text": [
      "1\n",
      "215792002.0\n"
     ]
    },
    {
     "name": "stdout",
     "output_type": "stream",
     "text": [
      "2\n",
      "215300642.0\n"
     ]
    },
    {
     "name": "stdout",
     "output_type": "stream",
     "text": [
      "3\n",
      "214377775.0\n"
     ]
    },
    {
     "name": "stdout",
     "output_type": "stream",
     "text": [
      "4\n",
      "212951800.0\n"
     ]
    },
    {
     "name": "stdout",
     "output_type": "stream",
     "text": [
      "5\n",
      "211007882.0\n"
     ]
    },
    {
     "name": "stdout",
     "output_type": "stream",
     "text": [
      "6\n",
      "208580374.0\n"
     ]
    },
    {
     "name": "stdout",
     "output_type": "stream",
     "text": [
      "7\n",
      "205744313.0\n"
     ]
    },
    {
     "name": "stdout",
     "output_type": "stream",
     "text": [
      "8\n",
      "202625211.0\n"
     ]
    },
    {
     "name": "stdout",
     "output_type": "stream",
     "text": [
      "9\n",
      "199338864.0\n"
     ]
    },
    {
     "name": "stdout",
     "output_type": "stream",
     "text": [
      "10\n",
      "196065538.0\n"
     ]
    },
    {
     "name": "stdout",
     "output_type": "stream",
     "text": [
      "11\n",
      "192945677.0\n"
     ]
    },
    {
     "name": "stdout",
     "output_type": "stream",
     "text": [
      "12\n",
      "190097131.0\n"
     ]
    },
    {
     "name": "stdout",
     "output_type": "stream",
     "text": [
      "13\n",
      "187558941.0\n"
     ]
    },
    {
     "name": "stdout",
     "output_type": "stream",
     "text": [
      "14\n",
      "185377494.0\n"
     ]
    },
    {
     "name": "stdout",
     "output_type": "stream",
     "text": [
      "15\n",
      "183511407.0\n"
     ]
    },
    {
     "name": "stdout",
     "output_type": "stream",
     "text": [
      "16\n",
      "181877341.5\n"
     ]
    }
   ],
   "source": [
    "losses = []\n",
    "\n",
    "for epoch in range(50):\n",
    "    \n",
    "    batcher = data_adjacency_batcher(data_dense_tensor, adjacency_dense_tensor, 5000)\n",
    "    \n",
    "    total_loss = 0\n",
    "    \n",
    "    \n",
    "    for (data_batch, mask_batch, adjacency_batch, row_batch) in batcher:\n",
    "        \n",
    "        \n",
    "        \n",
    "        data_batch = data_batch.to(device=device)\n",
    "        mask_batch = mask_batch.to(device=device)\n",
    "        adjacency_batch = adjacency_batch.to(device=device)\n",
    "        row_batch = row_batch.to(device=device)\n",
    "        \n",
    "        laplacian_tensor = adjacency_to_laplacian(adjacency_batch).to(device=device)\n",
    "    \n",
    "        optimizer.zero_grad()\n",
    "\n",
    "        output = mf.forward(row_batch, torch.arange(0, data_batch.shape[1]))\n",
    "        \n",
    "        L1_laplacian_tensor = adjacency_to_laplacian(adjacency_to_L1_adjacency(output, adjacency_batch, 0.001, device)).to(device=device)\n",
    "        \n",
    "        loss = squared_loss(data_batch[mask_batch], output[mask_batch]) + LAPLACIAN_PARAM*laplacian_loss(output, laplacian_tensor) + TV_PARAM*laplacian_loss(output, L1_laplacian_tensor)\n",
    "        loss.backward()\n",
    "        optimizer.step()\n",
    "        \n",
    "        total_loss += loss.item()\n",
    "        \n",
    "\n",
    "    if epoch % 1 == 0:\n",
    "        print(epoch)\n",
    "        print(total_loss)\n",
    "        \n",
    "    losses.append(total_loss)"
   ]
  },
  {
   "cell_type": "code",
   "execution_count": null,
   "id": "3b9b5377",
   "metadata": {
    "papermill": {
     "duration": null,
     "end_time": null,
     "exception": null,
     "start_time": null,
     "status": "pending"
    },
    "tags": []
   },
   "outputs": [],
   "source": [
    "loss.item()"
   ]
  },
  {
   "cell_type": "code",
   "execution_count": null,
   "id": "fb1f47c9",
   "metadata": {
    "papermill": {
     "duration": null,
     "end_time": null,
     "exception": null,
     "start_time": null,
     "status": "pending"
    },
    "tags": []
   },
   "outputs": [],
   "source": [
    "np.save(f'./results/loss_curves/mf_rank{DECOMP_RANK}_L{LAPLACIAN_PARAM}_TV{TV_PARAM}_losses', np.array(losses))"
   ]
  },
  {
   "cell_type": "code",
   "execution_count": null,
   "id": "57502d19",
   "metadata": {
    "papermill": {
     "duration": null,
     "end_time": null,
     "exception": null,
     "start_time": null,
     "status": "pending"
    },
    "tags": []
   },
   "outputs": [],
   "source": [
    "torch.save(mf.state_dict(), f'./results/saved_models/mf_rank{DECOMP_RANK}_L{LAPLACIAN_PARAM}_TV{TV_PARAM}_state')"
   ]
  },
  {
   "cell_type": "code",
   "execution_count": null,
   "id": "eb237823",
   "metadata": {
    "papermill": {
     "duration": null,
     "end_time": null,
     "exception": null,
     "start_time": null,
     "status": "pending"
    },
    "tags": []
   },
   "outputs": [],
   "source": [
    "final_output = mf.forward(torch.arange(0, data_dense_tensor.shape[0]), torch.arange(0, data_dense_tensor.shape[1]))\n",
    "\n",
    "final_squared_error = squared_loss(data_dense_tensor, final_output)\n",
    "final_laplacian = laplacian_loss(final_output, adjacency_to_laplacian(adjacency_dense_tensor).to(device=device))\n",
    "final_TV =  laplacian_loss(final_output, adjacency_to_laplacian(adjacency_to_L1_adjacency(final_output, adjacency_dense_tensor, 0.001, 'cpu')).to(device=device))"
   ]
  },
  {
   "cell_type": "code",
   "execution_count": null,
   "id": "0c1fd9e3",
   "metadata": {
    "papermill": {
     "duration": null,
     "end_time": null,
     "exception": null,
     "start_time": null,
     "status": "pending"
    },
    "tags": []
   },
   "outputs": [],
   "source": [
    "np.save(f'./results/final_losses/mf_rank{DECOMP_RANK}_L{LAPLACIAN_PARAM}_TV{TV_PARAM}_losses', np.array([final_squared_error.item(), final_laplacian.item(), final_TV.item()]))"
   ]
  },
  {
   "cell_type": "code",
   "execution_count": null,
   "id": "074033e2",
   "metadata": {
    "papermill": {
     "duration": null,
     "end_time": null,
     "exception": null,
     "start_time": null,
     "status": "pending"
    },
    "tags": []
   },
   "outputs": [],
   "source": []
  }
 ],
 "metadata": {
  "interpreter": {
   "hash": "22ee4ece52021b4a120b95b326dd7a4d7938576e919f53927a7959ab5d7e1e45"
  },
  "kernelspec": {
   "display_name": "spatialSFT",
   "language": "python",
   "name": "spatialsft"
  },
  "language_info": {
   "codemirror_mode": {
    "name": "ipython",
    "version": 3
   },
   "file_extension": ".py",
   "mimetype": "text/x-python",
   "name": "python",
   "nbconvert_exporter": "python",
   "pygments_lexer": "ipython3",
   "version": "3.8.0"
  },
  "papermill": {
   "default_parameters": {},
   "duration": null,
   "end_time": null,
   "environment_variables": {},
   "exception": null,
   "input_path": "./notebooks/mf_param_template.ipynb",
   "output_path": "./papermill_output/mf_param_template_rank100_lap0.00001_tv0.1.ipynb",
   "parameters": {
    "DECOMP_RANK": 100,
    "LAPLACIAN_PARAM": 1e-05,
    "TV_PARAM": 0.1
   },
   "start_time": "2022-04-26T04:06:48.201836",
   "version": "2.3.4"
  }
 },
 "nbformat": 4,
 "nbformat_minor": 5
}