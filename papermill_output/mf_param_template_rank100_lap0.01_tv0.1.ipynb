{
 "cells": [
  {
   "cell_type": "markdown",
   "id": "c417e710",
   "metadata": {
    "papermill": {
     "duration": 0.016357,
     "end_time": "2022-04-25T06:28:33.438701",
     "exception": false,
     "start_time": "2022-04-25T06:28:33.422344",
     "status": "completed"
    },
    "tags": []
   },
   "source": [
    "### setup"
   ]
  },
  {
   "cell_type": "code",
   "execution_count": 1,
   "id": "99b81b06",
   "metadata": {
    "execution": {
     "iopub.execute_input": "2022-04-25T06:28:33.473017Z",
     "iopub.status.busy": "2022-04-25T06:28:33.472644Z",
     "iopub.status.idle": "2022-04-25T06:28:41.200249Z",
     "shell.execute_reply": "2022-04-25T06:28:41.200588Z"
    },
    "papermill": {
     "duration": 7.747336,
     "end_time": "2022-04-25T06:28:41.200784",
     "exception": false,
     "start_time": "2022-04-25T06:28:33.453448",
     "status": "completed"
    },
    "tags": []
   },
   "outputs": [],
   "source": [
    "import numpy as np \n",
    "import matplotlib.pyplot as plt\n",
    "import pandas as pd\n",
    "\n",
    "import scipy\n",
    "\n",
    "\n",
    "from utils import *\n",
    "from pytorch_sparse_utils import *\n",
    "\n",
    "\n",
    "import torch\n",
    "from torch import nn\n",
    "import torch.nn.functional as F"
   ]
  },
  {
   "cell_type": "markdown",
   "id": "ca9b5992",
   "metadata": {
    "papermill": {
     "duration": 0.014075,
     "end_time": "2022-04-25T06:28:41.230231",
     "exception": false,
     "start_time": "2022-04-25T06:28:41.216156",
     "status": "completed"
    },
    "tags": []
   },
   "source": [
    "### set parameters"
   ]
  },
  {
   "cell_type": "code",
   "execution_count": 2,
   "id": "3d1197b3",
   "metadata": {
    "execution": {
     "iopub.execute_input": "2022-04-25T06:28:41.261468Z",
     "iopub.status.busy": "2022-04-25T06:28:41.261085Z",
     "iopub.status.idle": "2022-04-25T06:28:41.263308Z",
     "shell.execute_reply": "2022-04-25T06:28:41.262946Z"
    },
    "papermill": {
     "duration": 0.019299,
     "end_time": "2022-04-25T06:28:41.263378",
     "exception": false,
     "start_time": "2022-04-25T06:28:41.244079",
     "status": "completed"
    },
    "tags": [
     "parameters"
    ]
   },
   "outputs": [],
   "source": [
    "DECOMP_RANK = 10\n",
    "LAPLACIAN_PARAM = 0.001\n",
    "TV_PARAM = 0.001"
   ]
  },
  {
   "cell_type": "code",
   "execution_count": 3,
   "id": "123675e8",
   "metadata": {
    "execution": {
     "iopub.execute_input": "2022-04-25T06:28:41.293248Z",
     "iopub.status.busy": "2022-04-25T06:28:41.292666Z",
     "iopub.status.idle": "2022-04-25T06:28:41.295857Z",
     "shell.execute_reply": "2022-04-25T06:28:41.296159Z"
    },
    "papermill": {
     "duration": 0.018716,
     "end_time": "2022-04-25T06:28:41.296243",
     "exception": false,
     "start_time": "2022-04-25T06:28:41.277527",
     "status": "completed"
    },
    "tags": [
     "injected-parameters"
    ]
   },
   "outputs": [],
   "source": [
    "# Parameters\n",
    "DECOMP_RANK = 100\n",
    "LAPLACIAN_PARAM = 0.01\n",
    "TV_PARAM = 0.1\n"
   ]
  },
  {
   "cell_type": "code",
   "execution_count": 4,
   "id": "8886eea1",
   "metadata": {
    "execution": {
     "iopub.execute_input": "2022-04-25T06:28:41.327168Z",
     "iopub.status.busy": "2022-04-25T06:28:41.326485Z",
     "iopub.status.idle": "2022-04-25T06:28:59.186536Z",
     "shell.execute_reply": "2022-04-25T06:28:59.186200Z"
    },
    "papermill": {
     "duration": 17.87506,
     "end_time": "2022-04-25T06:28:59.186627",
     "exception": false,
     "start_time": "2022-04-25T06:28:41.311567",
     "status": "completed"
    },
    "tags": []
   },
   "outputs": [
    {
     "name": "stdout",
     "output_type": "stream",
     "text": [
      "Using cuda device\n"
     ]
    }
   ],
   "source": [
    "device = 'cuda' if torch.cuda.is_available() else 'cpu'\n",
    "print('Using {} device'.format(device))"
   ]
  },
  {
   "cell_type": "markdown",
   "id": "38c9ea7d",
   "metadata": {
    "papermill": {
     "duration": 0.014328,
     "end_time": "2022-04-25T06:28:59.216086",
     "exception": false,
     "start_time": "2022-04-25T06:28:59.201758",
     "status": "completed"
    },
    "tags": []
   },
   "source": [
    "### loading data"
   ]
  },
  {
   "cell_type": "code",
   "execution_count": 5,
   "id": "d05349c0",
   "metadata": {
    "execution": {
     "iopub.execute_input": "2022-04-25T06:28:59.250345Z",
     "iopub.status.busy": "2022-04-25T06:28:59.249972Z",
     "iopub.status.idle": "2022-04-25T06:29:01.496872Z",
     "shell.execute_reply": "2022-04-25T06:29:01.497176Z"
    },
    "papermill": {
     "duration": 2.266833,
     "end_time": "2022-04-25T06:29:01.497284",
     "exception": false,
     "start_time": "2022-04-25T06:28:59.230451",
     "status": "completed"
    },
    "tags": []
   },
   "outputs": [
    {
     "data": {
      "text/html": [
       "<div>\n",
       "<style scoped>\n",
       "    .dataframe tbody tr th:only-of-type {\n",
       "        vertical-align: middle;\n",
       "    }\n",
       "\n",
       "    .dataframe tbody tr th {\n",
       "        vertical-align: top;\n",
       "    }\n",
       "\n",
       "    .dataframe thead th {\n",
       "        text-align: right;\n",
       "    }\n",
       "</style>\n",
       "<table border=\"1\" class=\"dataframe\">\n",
       "  <thead>\n",
       "    <tr style=\"text-align: right;\">\n",
       "      <th></th>\n",
       "      <th>1110008P14Rik</th>\n",
       "      <th>1500009C09Rik</th>\n",
       "      <th>1500012F01Rik</th>\n",
       "      <th>1700020I14Rik</th>\n",
       "      <th>2010107E04Rik</th>\n",
       "      <th>2010300C02Rik</th>\n",
       "      <th>2210016L21Rik</th>\n",
       "      <th>2310036O22Rik</th>\n",
       "      <th>2900011O08Rik</th>\n",
       "      <th>3110035E14Rik</th>\n",
       "      <th>...</th>\n",
       "      <th>Zrsr1</th>\n",
       "      <th>Zwint</th>\n",
       "      <th>mt-Co1</th>\n",
       "      <th>mt-Cytb</th>\n",
       "      <th>mt-Nd1</th>\n",
       "      <th>mt-Nd2</th>\n",
       "      <th>mt-Nd4</th>\n",
       "      <th>mt-Nd5</th>\n",
       "      <th>mt-Rnr1</th>\n",
       "      <th>mt-Rnr2</th>\n",
       "    </tr>\n",
       "  </thead>\n",
       "  <tbody>\n",
       "    <tr>\n",
       "      <th>AAAAAAAGGTAGTA</th>\n",
       "      <td>0</td>\n",
       "      <td>0</td>\n",
       "      <td>0</td>\n",
       "      <td>0</td>\n",
       "      <td>0</td>\n",
       "      <td>0</td>\n",
       "      <td>0</td>\n",
       "      <td>0</td>\n",
       "      <td>0</td>\n",
       "      <td>0</td>\n",
       "      <td>...</td>\n",
       "      <td>0</td>\n",
       "      <td>0</td>\n",
       "      <td>0</td>\n",
       "      <td>0</td>\n",
       "      <td>0</td>\n",
       "      <td>0</td>\n",
       "      <td>0</td>\n",
       "      <td>0</td>\n",
       "      <td>1</td>\n",
       "      <td>0</td>\n",
       "    </tr>\n",
       "    <tr>\n",
       "      <th>AAAAAAAGTCCCAA</th>\n",
       "      <td>0</td>\n",
       "      <td>0</td>\n",
       "      <td>0</td>\n",
       "      <td>0</td>\n",
       "      <td>0</td>\n",
       "      <td>0</td>\n",
       "      <td>0</td>\n",
       "      <td>0</td>\n",
       "      <td>0</td>\n",
       "      <td>0</td>\n",
       "      <td>...</td>\n",
       "      <td>0</td>\n",
       "      <td>0</td>\n",
       "      <td>2</td>\n",
       "      <td>2</td>\n",
       "      <td>5</td>\n",
       "      <td>0</td>\n",
       "      <td>1</td>\n",
       "      <td>0</td>\n",
       "      <td>2</td>\n",
       "      <td>4</td>\n",
       "    </tr>\n",
       "    <tr>\n",
       "      <th>AAAAAAATCTTAGT</th>\n",
       "      <td>0</td>\n",
       "      <td>0</td>\n",
       "      <td>0</td>\n",
       "      <td>0</td>\n",
       "      <td>0</td>\n",
       "      <td>0</td>\n",
       "      <td>0</td>\n",
       "      <td>0</td>\n",
       "      <td>0</td>\n",
       "      <td>0</td>\n",
       "      <td>...</td>\n",
       "      <td>0</td>\n",
       "      <td>0</td>\n",
       "      <td>0</td>\n",
       "      <td>0</td>\n",
       "      <td>0</td>\n",
       "      <td>0</td>\n",
       "      <td>0</td>\n",
       "      <td>0</td>\n",
       "      <td>0</td>\n",
       "      <td>0</td>\n",
       "    </tr>\n",
       "    <tr>\n",
       "      <th>AAAAAACATCTTTC</th>\n",
       "      <td>0</td>\n",
       "      <td>0</td>\n",
       "      <td>0</td>\n",
       "      <td>0</td>\n",
       "      <td>0</td>\n",
       "      <td>0</td>\n",
       "      <td>0</td>\n",
       "      <td>0</td>\n",
       "      <td>0</td>\n",
       "      <td>0</td>\n",
       "      <td>...</td>\n",
       "      <td>0</td>\n",
       "      <td>0</td>\n",
       "      <td>0</td>\n",
       "      <td>0</td>\n",
       "      <td>0</td>\n",
       "      <td>0</td>\n",
       "      <td>0</td>\n",
       "      <td>0</td>\n",
       "      <td>1</td>\n",
       "      <td>0</td>\n",
       "    </tr>\n",
       "    <tr>\n",
       "      <th>AAAAAACGAAATAG</th>\n",
       "      <td>0</td>\n",
       "      <td>0</td>\n",
       "      <td>0</td>\n",
       "      <td>0</td>\n",
       "      <td>0</td>\n",
       "      <td>0</td>\n",
       "      <td>0</td>\n",
       "      <td>0</td>\n",
       "      <td>0</td>\n",
       "      <td>0</td>\n",
       "      <td>...</td>\n",
       "      <td>0</td>\n",
       "      <td>0</td>\n",
       "      <td>1</td>\n",
       "      <td>0</td>\n",
       "      <td>0</td>\n",
       "      <td>0</td>\n",
       "      <td>0</td>\n",
       "      <td>0</td>\n",
       "      <td>0</td>\n",
       "      <td>0</td>\n",
       "    </tr>\n",
       "  </tbody>\n",
       "</table>\n",
       "<p>5 rows × 1222 columns</p>\n",
       "</div>"
      ],
      "text/plain": [
       "                1110008P14Rik  1500009C09Rik  1500012F01Rik  1700020I14Rik  \\\n",
       "AAAAAAAGGTAGTA              0              0              0              0   \n",
       "AAAAAAAGTCCCAA              0              0              0              0   \n",
       "AAAAAAATCTTAGT              0              0              0              0   \n",
       "AAAAAACATCTTTC              0              0              0              0   \n",
       "AAAAAACGAAATAG              0              0              0              0   \n",
       "\n",
       "                2010107E04Rik  2010300C02Rik  2210016L21Rik  2310036O22Rik  \\\n",
       "AAAAAAAGGTAGTA              0              0              0              0   \n",
       "AAAAAAAGTCCCAA              0              0              0              0   \n",
       "AAAAAAATCTTAGT              0              0              0              0   \n",
       "AAAAAACATCTTTC              0              0              0              0   \n",
       "AAAAAACGAAATAG              0              0              0              0   \n",
       "\n",
       "                2900011O08Rik  3110035E14Rik  ...  Zrsr1  Zwint  mt-Co1  \\\n",
       "AAAAAAAGGTAGTA              0              0  ...      0      0       0   \n",
       "AAAAAAAGTCCCAA              0              0  ...      0      0       2   \n",
       "AAAAAAATCTTAGT              0              0  ...      0      0       0   \n",
       "AAAAAACATCTTTC              0              0  ...      0      0       0   \n",
       "AAAAAACGAAATAG              0              0  ...      0      0       1   \n",
       "\n",
       "                mt-Cytb  mt-Nd1  mt-Nd2  mt-Nd4  mt-Nd5  mt-Rnr1  mt-Rnr2  \n",
       "AAAAAAAGGTAGTA        0       0       0       0       0        1        0  \n",
       "AAAAAAAGTCCCAA        2       5       0       1       0        2        4  \n",
       "AAAAAAATCTTAGT        0       0       0       0       0        0        0  \n",
       "AAAAAACATCTTTC        0       0       0       0       0        1        0  \n",
       "AAAAAACGAAATAG        0       0       0       0       0        0        0  \n",
       "\n",
       "[5 rows x 1222 columns]"
      ]
     },
     "execution_count": 5,
     "metadata": {},
     "output_type": "execute_result"
    }
   ],
   "source": [
    "bead_reads_subset = pd.read_csv('./data/bead_reads_subset.csv', index_col='Unnamed: 0')\n",
    "bead_reads_subset.head()"
   ]
  },
  {
   "cell_type": "code",
   "execution_count": 6,
   "id": "a49c1cce",
   "metadata": {
    "execution": {
     "iopub.execute_input": "2022-04-25T06:29:01.532618Z",
     "iopub.status.busy": "2022-04-25T06:29:01.531191Z",
     "iopub.status.idle": "2022-04-25T06:29:02.086900Z",
     "shell.execute_reply": "2022-04-25T06:29:02.086541Z"
    },
    "papermill": {
     "duration": 0.573364,
     "end_time": "2022-04-25T06:29:02.086999",
     "exception": false,
     "start_time": "2022-04-25T06:29:01.513635",
     "status": "completed"
    },
    "tags": []
   },
   "outputs": [],
   "source": [
    "data_scipy_sparse = scipy.sparse.coo_matrix( bead_reads_subset.to_numpy() )"
   ]
  },
  {
   "cell_type": "code",
   "execution_count": 7,
   "id": "3d5e819e",
   "metadata": {
    "execution": {
     "iopub.execute_input": "2022-04-25T06:29:02.122025Z",
     "iopub.status.busy": "2022-04-25T06:29:02.121654Z",
     "iopub.status.idle": "2022-04-25T06:29:09.719270Z",
     "shell.execute_reply": "2022-04-25T06:29:09.718922Z"
    },
    "papermill": {
     "duration": 7.616767,
     "end_time": "2022-04-25T06:29:09.719361",
     "exception": false,
     "start_time": "2022-04-25T06:29:02.102594",
     "status": "completed"
    },
    "tags": []
   },
   "outputs": [],
   "source": [
    "data_sparse_tensor = scipy_sparse_to_pytorch_sparse(data_scipy_sparse).to(device=device)"
   ]
  },
  {
   "cell_type": "code",
   "execution_count": 8,
   "id": "aef269eb",
   "metadata": {
    "execution": {
     "iopub.execute_input": "2022-04-25T06:29:09.754355Z",
     "iopub.status.busy": "2022-04-25T06:29:09.752715Z",
     "iopub.status.idle": "2022-04-25T06:29:09.761026Z",
     "shell.execute_reply": "2022-04-25T06:29:09.760717Z"
    },
    "papermill": {
     "duration": 0.025134,
     "end_time": "2022-04-25T06:29:09.761101",
     "exception": false,
     "start_time": "2022-04-25T06:29:09.735967",
     "status": "completed"
    },
    "tags": []
   },
   "outputs": [
    {
     "data": {
      "text/plain": [
       "tensor(indices=tensor([[    0,     0,     0,  ..., 53207, 53207, 53207],\n",
       "                       [   84,   412,   528,  ...,  1219,  1220,  1221]]),\n",
       "       values=tensor([ 1.,  1.,  1.,  ..., 12., 26., 71.]),\n",
       "       device='cuda:0', size=(53208, 1222), nnz=9552845, layout=torch.sparse_coo)"
      ]
     },
     "execution_count": 8,
     "metadata": {},
     "output_type": "execute_result"
    }
   ],
   "source": [
    "data_sparse_tensor"
   ]
  },
  {
   "cell_type": "code",
   "execution_count": 9,
   "id": "d5c278c6",
   "metadata": {
    "execution": {
     "iopub.execute_input": "2022-04-25T06:29:09.799157Z",
     "iopub.status.busy": "2022-04-25T06:29:09.798400Z",
     "iopub.status.idle": "2022-04-25T06:29:09.801635Z",
     "shell.execute_reply": "2022-04-25T06:29:09.801944Z"
    },
    "papermill": {
     "duration": 0.020662,
     "end_time": "2022-04-25T06:29:09.802040",
     "exception": false,
     "start_time": "2022-04-25T06:29:09.781378",
     "status": "completed"
    },
    "tags": []
   },
   "outputs": [],
   "source": [
    "data_dense_tensor = data_sparse_tensor.to_dense()"
   ]
  },
  {
   "cell_type": "code",
   "execution_count": 10,
   "id": "f3efbc03",
   "metadata": {
    "execution": {
     "iopub.execute_input": "2022-04-25T06:29:09.836729Z",
     "iopub.status.busy": "2022-04-25T06:29:09.836368Z",
     "iopub.status.idle": "2022-04-25T06:29:09.976481Z",
     "shell.execute_reply": "2022-04-25T06:29:09.976115Z"
    },
    "papermill": {
     "duration": 0.158887,
     "end_time": "2022-04-25T06:29:09.976573",
     "exception": false,
     "start_time": "2022-04-25T06:29:09.817686",
     "status": "completed"
    },
    "tags": []
   },
   "outputs": [],
   "source": [
    "mask_scipy_sparse = (data_scipy_sparse != 0).astype(np.int64).tocoo()"
   ]
  },
  {
   "cell_type": "code",
   "execution_count": 11,
   "id": "4197da4f",
   "metadata": {
    "execution": {
     "iopub.execute_input": "2022-04-25T06:29:10.010737Z",
     "iopub.status.busy": "2022-04-25T06:29:10.009356Z",
     "iopub.status.idle": "2022-04-25T06:29:10.048186Z",
     "shell.execute_reply": "2022-04-25T06:29:10.047829Z"
    },
    "papermill": {
     "duration": 0.056099,
     "end_time": "2022-04-25T06:29:10.048295",
     "exception": false,
     "start_time": "2022-04-25T06:29:09.992196",
     "status": "completed"
    },
    "tags": []
   },
   "outputs": [],
   "source": [
    "mask_sparse_tensor = scipy_sparse_to_pytorch_sparse(mask_scipy_sparse)"
   ]
  },
  {
   "cell_type": "code",
   "execution_count": 12,
   "id": "f3e0c5d5",
   "metadata": {
    "execution": {
     "iopub.execute_input": "2022-04-25T06:29:10.084176Z",
     "iopub.status.busy": "2022-04-25T06:29:10.083766Z",
     "iopub.status.idle": "2022-04-25T06:29:11.013455Z",
     "shell.execute_reply": "2022-04-25T06:29:11.013017Z"
    },
    "papermill": {
     "duration": 0.949255,
     "end_time": "2022-04-25T06:29:11.013551",
     "exception": false,
     "start_time": "2022-04-25T06:29:10.064296",
     "status": "completed"
    },
    "tags": []
   },
   "outputs": [],
   "source": [
    "mask_dense_tensor = mask_sparse_tensor.to_dense().bool()"
   ]
  },
  {
   "cell_type": "code",
   "execution_count": 13,
   "id": "b675aa43",
   "metadata": {
    "execution": {
     "iopub.execute_input": "2022-04-25T06:29:11.054987Z",
     "iopub.status.busy": "2022-04-25T06:29:11.054627Z",
     "iopub.status.idle": "2022-04-25T06:29:50.760883Z",
     "shell.execute_reply": "2022-04-25T06:29:50.760313Z"
    },
    "papermill": {
     "duration": 39.730706,
     "end_time": "2022-04-25T06:29:50.761000",
     "exception": false,
     "start_time": "2022-04-25T06:29:11.030294",
     "status": "completed"
    },
    "tags": []
   },
   "outputs": [],
   "source": [
    "distances = np.load('./data/macosko_distance_matrix.npy')"
   ]
  },
  {
   "cell_type": "code",
   "execution_count": 14,
   "id": "ad0e8a62",
   "metadata": {
    "execution": {
     "iopub.execute_input": "2022-04-25T06:29:50.801414Z",
     "iopub.status.busy": "2022-04-25T06:29:50.801042Z",
     "iopub.status.idle": "2022-04-25T06:29:58.587915Z",
     "shell.execute_reply": "2022-04-25T06:29:58.587570Z"
    },
    "papermill": {
     "duration": 7.80708,
     "end_time": "2022-04-25T06:29:58.588002",
     "exception": false,
     "start_time": "2022-04-25T06:29:50.780922",
     "status": "completed"
    },
    "tags": []
   },
   "outputs": [],
   "source": [
    "adjacency = scipy.sparse.coo_matrix( distances <= 20 , dtype=np.float32)\n",
    "degree = scipy.sparse.diags( adjacency.sum(axis=0).A1 )\n",
    "laplacian = (degree - adjacency).tocoo()"
   ]
  },
  {
   "cell_type": "code",
   "execution_count": 15,
   "id": "e4f7afd0",
   "metadata": {
    "execution": {
     "iopub.execute_input": "2022-04-25T06:29:58.632165Z",
     "iopub.status.busy": "2022-04-25T06:29:58.631801Z",
     "iopub.status.idle": "2022-04-25T06:29:58.635321Z",
     "shell.execute_reply": "2022-04-25T06:29:58.635032Z"
    },
    "papermill": {
     "duration": 0.031158,
     "end_time": "2022-04-25T06:29:58.635392",
     "exception": false,
     "start_time": "2022-04-25T06:29:58.604234",
     "status": "completed"
    },
    "tags": []
   },
   "outputs": [],
   "source": [
    "adjacency_sparse_tensor = scipy_sparse_to_pytorch_sparse(adjacency)"
   ]
  },
  {
   "cell_type": "code",
   "execution_count": 16,
   "id": "b82e10e4",
   "metadata": {
    "execution": {
     "iopub.execute_input": "2022-04-25T06:29:58.711027Z",
     "iopub.status.busy": "2022-04-25T06:29:58.710524Z",
     "iopub.status.idle": "2022-04-25T06:30:01.159453Z",
     "shell.execute_reply": "2022-04-25T06:30:01.159010Z"
    },
    "papermill": {
     "duration": 2.490169,
     "end_time": "2022-04-25T06:30:01.159571",
     "exception": false,
     "start_time": "2022-04-25T06:29:58.669402",
     "status": "completed"
    },
    "tags": []
   },
   "outputs": [],
   "source": [
    "adjacency_dense_tensor = adjacency_sparse_tensor.to_dense()"
   ]
  },
  {
   "cell_type": "code",
   "execution_count": 17,
   "id": "ffb3481f",
   "metadata": {
    "execution": {
     "iopub.execute_input": "2022-04-25T06:30:01.203935Z",
     "iopub.status.busy": "2022-04-25T06:30:01.203501Z",
     "iopub.status.idle": "2022-04-25T06:30:01.205678Z",
     "shell.execute_reply": "2022-04-25T06:30:01.205344Z"
    },
    "papermill": {
     "duration": 0.030004,
     "end_time": "2022-04-25T06:30:01.205754",
     "exception": false,
     "start_time": "2022-04-25T06:30:01.175750",
     "status": "completed"
    },
    "tags": []
   },
   "outputs": [],
   "source": [
    "def laplacian_loss(x, x_lap):\n",
    "    \n",
    "    lap_sum = 0\n",
    "    for ii in range(x.shape[1]):\n",
    "        lap_sum = lap_sum + (x[:,ii].T @ x_lap @ x[:,ii])\n",
    "        \n",
    "    return lap_sum"
   ]
  },
  {
   "cell_type": "code",
   "execution_count": 18,
   "id": "de500c3c",
   "metadata": {
    "execution": {
     "iopub.execute_input": "2022-04-25T06:30:01.271030Z",
     "iopub.status.busy": "2022-04-25T06:30:01.270476Z",
     "iopub.status.idle": "2022-04-25T06:30:01.280001Z",
     "shell.execute_reply": "2022-04-25T06:30:01.280320Z"
    },
    "papermill": {
     "duration": 0.048148,
     "end_time": "2022-04-25T06:30:01.280410",
     "exception": false,
     "start_time": "2022-04-25T06:30:01.232262",
     "status": "completed"
    },
    "tags": []
   },
   "outputs": [],
   "source": [
    "mf = MatrixFactorization(mask_sparse_tensor.shape[0], mask_sparse_tensor.shape[1], DECOMP_RANK).to(device=device)"
   ]
  },
  {
   "cell_type": "code",
   "execution_count": 19,
   "id": "ddce2849",
   "metadata": {
    "execution": {
     "iopub.execute_input": "2022-04-25T06:30:01.334519Z",
     "iopub.status.busy": "2022-04-25T06:30:01.333317Z",
     "iopub.status.idle": "2022-04-25T06:30:01.334976Z",
     "shell.execute_reply": "2022-04-25T06:30:01.335269Z"
    },
    "papermill": {
     "duration": 0.029994,
     "end_time": "2022-04-25T06:30:01.335350",
     "exception": false,
     "start_time": "2022-04-25T06:30:01.305356",
     "status": "completed"
    },
    "tags": []
   },
   "outputs": [],
   "source": [
    "import torch.optim as optim\n",
    "\n",
    "optimizer = optim.Adam(mf.parameters(), lr=0.001)"
   ]
  },
  {
   "cell_type": "code",
   "execution_count": 20,
   "id": "1a17ebbb",
   "metadata": {
    "execution": {
     "iopub.execute_input": "2022-04-25T06:30:01.402107Z",
     "iopub.status.busy": "2022-04-25T06:30:01.401698Z",
     "iopub.status.idle": "2022-04-25T07:29:31.935960Z",
     "shell.execute_reply": "2022-04-25T07:29:31.936345Z"
    },
    "papermill": {
     "duration": 3570.576064,
     "end_time": "2022-04-25T07:29:31.937914",
     "exception": false,
     "start_time": "2022-04-25T06:30:01.361850",
     "status": "completed"
    },
    "tags": []
   },
   "outputs": [
    {
     "name": "stdout",
     "output_type": "stream",
     "text": [
      "0\n",
      "215980302.0\n"
     ]
    },
    {
     "name": "stdout",
     "output_type": "stream",
     "text": [
      "1\n",
      "215791098.0\n"
     ]
    },
    {
     "name": "stdout",
     "output_type": "stream",
     "text": [
      "2\n",
      "215300216.0\n"
     ]
    },
    {
     "name": "stdout",
     "output_type": "stream",
     "text": [
      "3\n",
      "214376334.0\n"
     ]
    },
    {
     "name": "stdout",
     "output_type": "stream",
     "text": [
      "4\n",
      "212950610.0\n"
     ]
    },
    {
     "name": "stdout",
     "output_type": "stream",
     "text": [
      "5\n",
      "211006159.0\n"
     ]
    },
    {
     "name": "stdout",
     "output_type": "stream",
     "text": [
      "6\n",
      "208576269.0\n"
     ]
    },
    {
     "name": "stdout",
     "output_type": "stream",
     "text": [
      "7\n",
      "205735938.0\n"
     ]
    },
    {
     "name": "stdout",
     "output_type": "stream",
     "text": [
      "8\n",
      "202607691.0\n"
     ]
    },
    {
     "name": "stdout",
     "output_type": "stream",
     "text": [
      "9\n",
      "199331730.0\n"
     ]
    },
    {
     "name": "stdout",
     "output_type": "stream",
     "text": [
      "10\n",
      "196069458.5\n"
     ]
    },
    {
     "name": "stdout",
     "output_type": "stream",
     "text": [
      "11\n",
      "192938713.0\n"
     ]
    },
    {
     "name": "stdout",
     "output_type": "stream",
     "text": [
      "12\n",
      "190076370.0\n"
     ]
    },
    {
     "name": "stdout",
     "output_type": "stream",
     "text": [
      "13\n",
      "187551495.0\n"
     ]
    },
    {
     "name": "stdout",
     "output_type": "stream",
     "text": [
      "14\n",
      "185375866.0\n"
     ]
    },
    {
     "name": "stdout",
     "output_type": "stream",
     "text": [
      "15\n",
      "183501513.0\n"
     ]
    },
    {
     "name": "stdout",
     "output_type": "stream",
     "text": [
      "16\n",
      "181875090.0\n"
     ]
    },
    {
     "name": "stdout",
     "output_type": "stream",
     "text": [
      "17\n",
      "180422218.0\n"
     ]
    },
    {
     "name": "stdout",
     "output_type": "stream",
     "text": [
      "18\n",
      "179085896.0\n"
     ]
    },
    {
     "name": "stdout",
     "output_type": "stream",
     "text": [
      "19\n",
      "177830212.5\n"
     ]
    },
    {
     "name": "stdout",
     "output_type": "stream",
     "text": [
      "20\n",
      "176626734.0\n"
     ]
    },
    {
     "name": "stdout",
     "output_type": "stream",
     "text": [
      "21\n",
      "175487468.0\n"
     ]
    },
    {
     "name": "stdout",
     "output_type": "stream",
     "text": [
      "22\n",
      "174377411.0\n"
     ]
    },
    {
     "name": "stdout",
     "output_type": "stream",
     "text": [
      "23\n",
      "173306369.0\n"
     ]
    },
    {
     "name": "stdout",
     "output_type": "stream",
     "text": [
      "24\n",
      "172264203.0\n"
     ]
    },
    {
     "name": "stdout",
     "output_type": "stream",
     "text": [
      "25\n",
      "171246283.0\n"
     ]
    },
    {
     "name": "stdout",
     "output_type": "stream",
     "text": [
      "26\n",
      "170253896.0\n"
     ]
    },
    {
     "name": "stdout",
     "output_type": "stream",
     "text": [
      "27\n",
      "169284964.0\n"
     ]
    },
    {
     "name": "stdout",
     "output_type": "stream",
     "text": [
      "28\n",
      "168332729.5\n"
     ]
    },
    {
     "name": "stdout",
     "output_type": "stream",
     "text": [
      "29\n",
      "167394084.0\n"
     ]
    },
    {
     "name": "stdout",
     "output_type": "stream",
     "text": [
      "30\n",
      "166485331.0\n"
     ]
    },
    {
     "name": "stdout",
     "output_type": "stream",
     "text": [
      "31\n",
      "165571666.0\n"
     ]
    },
    {
     "name": "stdout",
     "output_type": "stream",
     "text": [
      "32\n",
      "164690808.5\n"
     ]
    },
    {
     "name": "stdout",
     "output_type": "stream",
     "text": [
      "33\n",
      "163813331.5\n"
     ]
    },
    {
     "name": "stdout",
     "output_type": "stream",
     "text": [
      "34\n",
      "162950280.0\n"
     ]
    },
    {
     "name": "stdout",
     "output_type": "stream",
     "text": [
      "35\n",
      "162098325.0\n"
     ]
    },
    {
     "name": "stdout",
     "output_type": "stream",
     "text": [
      "36\n",
      "161261039.0\n"
     ]
    },
    {
     "name": "stdout",
     "output_type": "stream",
     "text": [
      "37\n",
      "160434024.0\n"
     ]
    },
    {
     "name": "stdout",
     "output_type": "stream",
     "text": [
      "38\n",
      "159617632.0\n"
     ]
    },
    {
     "name": "stdout",
     "output_type": "stream",
     "text": [
      "39\n",
      "158811978.0\n"
     ]
    },
    {
     "name": "stdout",
     "output_type": "stream",
     "text": [
      "40\n",
      "158013526.0\n"
     ]
    },
    {
     "name": "stdout",
     "output_type": "stream",
     "text": [
      "41\n",
      "157226414.0\n"
     ]
    },
    {
     "name": "stdout",
     "output_type": "stream",
     "text": [
      "42\n",
      "156452607.0\n"
     ]
    },
    {
     "name": "stdout",
     "output_type": "stream",
     "text": [
      "43\n",
      "155686135.0\n"
     ]
    },
    {
     "name": "stdout",
     "output_type": "stream",
     "text": [
      "44\n",
      "154936319.0\n"
     ]
    },
    {
     "name": "stdout",
     "output_type": "stream",
     "text": [
      "45\n",
      "154187500.0\n"
     ]
    },
    {
     "name": "stdout",
     "output_type": "stream",
     "text": [
      "46\n",
      "153451332.0\n"
     ]
    },
    {
     "name": "stdout",
     "output_type": "stream",
     "text": [
      "47\n",
      "152730903.0\n"
     ]
    },
    {
     "name": "stdout",
     "output_type": "stream",
     "text": [
      "48\n",
      "152018427.5\n"
     ]
    },
    {
     "name": "stdout",
     "output_type": "stream",
     "text": [
      "49\n",
      "151305373.0\n"
     ]
    }
   ],
   "source": [
    "losses = []\n",
    "\n",
    "for epoch in range(50):\n",
    "    \n",
    "    batcher = data_adjacency_batcher(data_dense_tensor, adjacency_dense_tensor, 5000)\n",
    "    \n",
    "    total_loss = 0\n",
    "    \n",
    "    \n",
    "    for (data_batch, mask_batch, adjacency_batch, row_batch) in batcher:\n",
    "        \n",
    "        \n",
    "        \n",
    "        data_batch = data_batch.to(device=device)\n",
    "        mask_batch = mask_batch.to(device=device)\n",
    "        adjacency_batch = adjacency_batch.to(device=device)\n",
    "        row_batch = row_batch.to(device=device)\n",
    "        \n",
    "        laplacian_tensor = adjacency_to_laplacian(adjacency_batch).to(device=device)\n",
    "    \n",
    "        optimizer.zero_grad()\n",
    "\n",
    "        output = mf.forward(row_batch, torch.arange(0, data_batch.shape[1]))\n",
    "        \n",
    "        L1_laplacian_tensor = adjacency_to_laplacian(adjacency_to_L1_adjacency(output, adjacency_batch, 0.001, device)).to(device=device)\n",
    "        \n",
    "        loss = squared_loss(data_batch[mask_batch], output[mask_batch]) + LAPLACIAN_PARAM*laplacian_loss(output, laplacian_tensor) + TV_PARAM*laplacian_loss(output, L1_laplacian_tensor)\n",
    "        loss.backward()\n",
    "        optimizer.step()\n",
    "        \n",
    "        total_loss += loss.item()\n",
    "        \n",
    "\n",
    "    if epoch % 1 == 0:\n",
    "        print(epoch)\n",
    "        print(total_loss)\n",
    "        \n",
    "    losses.append(total_loss)"
   ]
  },
  {
   "cell_type": "code",
   "execution_count": 21,
   "id": "f1eb6a16",
   "metadata": {
    "execution": {
     "iopub.execute_input": "2022-04-25T07:29:32.010111Z",
     "iopub.status.busy": "2022-04-25T07:29:31.997467Z",
     "iopub.status.idle": "2022-04-25T07:29:32.014449Z",
     "shell.execute_reply": "2022-04-25T07:29:32.014131Z"
    },
    "papermill": {
     "duration": 0.047774,
     "end_time": "2022-04-25T07:29:32.014518",
     "exception": false,
     "start_time": "2022-04-25T07:29:31.966744",
     "status": "completed"
    },
    "tags": []
   },
   "outputs": [
    {
     "data": {
      "text/plain": [
       "12367276.0"
      ]
     },
     "execution_count": 21,
     "metadata": {},
     "output_type": "execute_result"
    }
   ],
   "source": [
    "loss.item()"
   ]
  },
  {
   "cell_type": "code",
   "execution_count": 22,
   "id": "a0f4bde0",
   "metadata": {
    "execution": {
     "iopub.execute_input": "2022-04-25T07:29:32.070594Z",
     "iopub.status.busy": "2022-04-25T07:29:32.070241Z",
     "iopub.status.idle": "2022-04-25T07:29:32.083234Z",
     "shell.execute_reply": "2022-04-25T07:29:32.082815Z"
    },
    "papermill": {
     "duration": 0.042799,
     "end_time": "2022-04-25T07:29:32.083304",
     "exception": false,
     "start_time": "2022-04-25T07:29:32.040505",
     "status": "completed"
    },
    "tags": []
   },
   "outputs": [],
   "source": [
    "np.save(f'./results/loss_curves/mf_rank{DECOMP_RANK}_L{LAPLACIAN_PARAM}_TV{TV_PARAM}_losses', np.array(losses))"
   ]
  },
  {
   "cell_type": "code",
   "execution_count": 23,
   "id": "e9c6a2a4",
   "metadata": {
    "execution": {
     "iopub.execute_input": "2022-04-25T07:29:32.137579Z",
     "iopub.status.busy": "2022-04-25T07:29:32.137222Z",
     "iopub.status.idle": "2022-04-25T07:29:32.319054Z",
     "shell.execute_reply": "2022-04-25T07:29:32.319492Z"
    },
    "papermill": {
     "duration": 0.210843,
     "end_time": "2022-04-25T07:29:32.319580",
     "exception": false,
     "start_time": "2022-04-25T07:29:32.108737",
     "status": "completed"
    },
    "tags": []
   },
   "outputs": [],
   "source": [
    "torch.save(mf.state_dict(), f'./results/saved_models/mf_rank{DECOMP_RANK}_L{LAPLACIAN_PARAM}_TV{TV_PARAM}_state')"
   ]
  },
  {
   "cell_type": "code",
   "execution_count": 24,
   "id": "1f82f2f3",
   "metadata": {
    "execution": {
     "iopub.execute_input": "2022-04-25T07:29:32.384341Z",
     "iopub.status.busy": "2022-04-25T07:29:32.383980Z",
     "iopub.status.idle": "2022-04-25T07:33:13.968457Z",
     "shell.execute_reply": "2022-04-25T07:33:13.958593Z"
    },
    "papermill": {
     "duration": 221.627115,
     "end_time": "2022-04-25T07:33:13.972147",
     "exception": false,
     "start_time": "2022-04-25T07:29:32.345032",
     "status": "completed"
    },
    "tags": []
   },
   "outputs": [],
   "source": [
    "final_output = mf.forward(torch.arange(0, data_dense_tensor.shape[0]), torch.arange(0, data_dense_tensor.shape[1]))\n",
    "\n",
    "final_squared_error = squared_loss(data_dense_tensor, final_output)\n",
    "final_laplacian = laplacian_loss(final_output, adjacency_to_laplacian(adjacency_dense_tensor).to(device=device))\n",
    "final_TV =  laplacian_loss(final_output, adjacency_to_laplacian(adjacency_to_L1_adjacency(final_output, adjacency_dense_tensor, 0.001, device)).to(device=device))"
   ]
  },
  {
   "cell_type": "code",
   "execution_count": 25,
   "id": "e358bcf7",
   "metadata": {
    "execution": {
     "iopub.execute_input": "2022-04-25T07:33:14.129578Z",
     "iopub.status.busy": "2022-04-25T07:33:14.117028Z",
     "iopub.status.idle": "2022-04-25T07:33:15.012563Z",
     "shell.execute_reply": "2022-04-25T07:33:15.011489Z"
    },
    "papermill": {
     "duration": 0.95498,
     "end_time": "2022-04-25T07:33:15.012672",
     "exception": false,
     "start_time": "2022-04-25T07:33:14.057692",
     "status": "completed"
    },
    "tags": []
   },
   "outputs": [],
   "source": [
    "np.save(f'./results/final_losses/mf_rank{DECOMP_RANK}_L{LAPLACIAN_PARAM}_TV{TV_PARAM}_losses', np.array([final_squared_error.item(), final_laplacian.item(), final_TV.item()]))"
   ]
  },
  {
   "cell_type": "code",
   "execution_count": null,
   "id": "3eadf28a",
   "metadata": {
    "papermill": {
     "duration": 0.02664,
     "end_time": "2022-04-25T07:33:15.065785",
     "exception": false,
     "start_time": "2022-04-25T07:33:15.039145",
     "status": "completed"
    },
    "tags": []
   },
   "outputs": [],
   "source": []
  }
 ],
 "metadata": {
  "interpreter": {
   "hash": "22ee4ece52021b4a120b95b326dd7a4d7938576e919f53927a7959ab5d7e1e45"
  },
  "kernelspec": {
   "display_name": "spatialSFT",
   "language": "python",
   "name": "spatialsft"
  },
  "language_info": {
   "codemirror_mode": {
    "name": "ipython",
    "version": 3
   },
   "file_extension": ".py",
   "mimetype": "text/x-python",
   "name": "python",
   "nbconvert_exporter": "python",
   "pygments_lexer": "ipython3",
   "version": "3.8.0"
  },
  "papermill": {
   "default_parameters": {},
   "duration": 3891.833625,
   "end_time": "2022-04-25T07:33:22.175369",
   "environment_variables": {},
   "exception": null,
   "input_path": "./notebooks/mf_param_template.ipynb",
   "output_path": "./papermill_output/mf_param_template_rank100_lap0.01_tv0.1.ipynb",
   "parameters": {
    "DECOMP_RANK": 100,
    "LAPLACIAN_PARAM": 0.01,
    "TV_PARAM": 0.1
   },
   "start_time": "2022-04-25T06:28:30.341744",
   "version": "2.3.4"
  }
 },
 "nbformat": 4,
 "nbformat_minor": 5
}