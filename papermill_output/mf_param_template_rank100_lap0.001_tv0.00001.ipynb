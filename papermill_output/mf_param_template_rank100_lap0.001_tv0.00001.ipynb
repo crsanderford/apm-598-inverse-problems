{
 "cells": [
  {
   "cell_type": "markdown",
   "id": "318df80e",
   "metadata": {
    "papermill": {
     "duration": 0.027401,
     "end_time": "2022-04-25T16:08:08.786325",
     "exception": false,
     "start_time": "2022-04-25T16:08:08.758924",
     "status": "completed"
    },
    "tags": []
   },
   "source": [
    "### setup"
   ]
  },
  {
   "cell_type": "code",
   "execution_count": 1,
   "id": "489c539a",
   "metadata": {
    "execution": {
     "iopub.execute_input": "2022-04-25T16:08:08.830012Z",
     "iopub.status.busy": "2022-04-25T16:08:08.829604Z",
     "iopub.status.idle": "2022-04-25T16:08:16.274783Z",
     "shell.execute_reply": "2022-04-25T16:08:16.274343Z"
    },
    "papermill": {
     "duration": 7.473315,
     "end_time": "2022-04-25T16:08:16.274895",
     "exception": false,
     "start_time": "2022-04-25T16:08:08.801580",
     "status": "completed"
    },
    "tags": []
   },
   "outputs": [],
   "source": [
    "import numpy as np \n",
    "import matplotlib.pyplot as plt\n",
    "import pandas as pd\n",
    "\n",
    "import scipy\n",
    "\n",
    "\n",
    "from utils import *\n",
    "from pytorch_sparse_utils import *\n",
    "\n",
    "\n",
    "import torch\n",
    "from torch import nn\n",
    "import torch.nn.functional as F"
   ]
  },
  {
   "cell_type": "markdown",
   "id": "88700722",
   "metadata": {
    "papermill": {
     "duration": 0.015514,
     "end_time": "2022-04-25T16:08:16.306175",
     "exception": false,
     "start_time": "2022-04-25T16:08:16.290661",
     "status": "completed"
    },
    "tags": []
   },
   "source": [
    "### set parameters"
   ]
  },
  {
   "cell_type": "code",
   "execution_count": 2,
   "id": "613c05ab",
   "metadata": {
    "execution": {
     "iopub.execute_input": "2022-04-25T16:08:16.337361Z",
     "iopub.status.busy": "2022-04-25T16:08:16.337002Z",
     "iopub.status.idle": "2022-04-25T16:08:16.339004Z",
     "shell.execute_reply": "2022-04-25T16:08:16.338651Z"
    },
    "papermill": {
     "duration": 0.018855,
     "end_time": "2022-04-25T16:08:16.339074",
     "exception": false,
     "start_time": "2022-04-25T16:08:16.320219",
     "status": "completed"
    },
    "tags": [
     "parameters"
    ]
   },
   "outputs": [],
   "source": [
    "DECOMP_RANK = 10\n",
    "LAPLACIAN_PARAM = 0.001\n",
    "TV_PARAM = 0.001"
   ]
  },
  {
   "cell_type": "code",
   "execution_count": 3,
   "id": "a7711639",
   "metadata": {
    "execution": {
     "iopub.execute_input": "2022-04-25T16:08:16.369073Z",
     "iopub.status.busy": "2022-04-25T16:08:16.368713Z",
     "iopub.status.idle": "2022-04-25T16:08:16.378537Z",
     "shell.execute_reply": "2022-04-25T16:08:16.378200Z"
    },
    "papermill": {
     "duration": 0.025675,
     "end_time": "2022-04-25T16:08:16.378604",
     "exception": false,
     "start_time": "2022-04-25T16:08:16.352929",
     "status": "completed"
    },
    "tags": [
     "injected-parameters"
    ]
   },
   "outputs": [],
   "source": [
    "# Parameters\n",
    "DECOMP_RANK = 100\n",
    "LAPLACIAN_PARAM = 0.001\n",
    "TV_PARAM = 1e-05\n"
   ]
  },
  {
   "cell_type": "code",
   "execution_count": 4,
   "id": "619f39c6",
   "metadata": {
    "execution": {
     "iopub.execute_input": "2022-04-25T16:08:16.410075Z",
     "iopub.status.busy": "2022-04-25T16:08:16.409715Z",
     "iopub.status.idle": "2022-04-25T16:08:34.271983Z",
     "shell.execute_reply": "2022-04-25T16:08:34.272279Z"
    },
    "papermill": {
     "duration": 17.878944,
     "end_time": "2022-04-25T16:08:34.272382",
     "exception": false,
     "start_time": "2022-04-25T16:08:16.393438",
     "status": "completed"
    },
    "tags": []
   },
   "outputs": [
    {
     "name": "stdout",
     "output_type": "stream",
     "text": [
      "Using cuda device\n"
     ]
    }
   ],
   "source": [
    "device = 'cuda' if torch.cuda.is_available() else 'cpu'\n",
    "print('Using {} device'.format(device))"
   ]
  },
  {
   "cell_type": "markdown",
   "id": "453e6669",
   "metadata": {
    "papermill": {
     "duration": 0.013927,
     "end_time": "2022-04-25T16:08:34.301817",
     "exception": false,
     "start_time": "2022-04-25T16:08:34.287890",
     "status": "completed"
    },
    "tags": []
   },
   "source": [
    "### loading data"
   ]
  },
  {
   "cell_type": "code",
   "execution_count": 5,
   "id": "83b636e4",
   "metadata": {
    "execution": {
     "iopub.execute_input": "2022-04-25T16:08:34.335053Z",
     "iopub.status.busy": "2022-04-25T16:08:34.332752Z",
     "iopub.status.idle": "2022-04-25T16:08:36.647235Z",
     "shell.execute_reply": "2022-04-25T16:08:36.647526Z"
    },
    "papermill": {
     "duration": 2.331539,
     "end_time": "2022-04-25T16:08:36.647621",
     "exception": false,
     "start_time": "2022-04-25T16:08:34.316082",
     "status": "completed"
    },
    "tags": []
   },
   "outputs": [
    {
     "data": {
      "text/html": [
       "<div>\n",
       "<style scoped>\n",
       "    .dataframe tbody tr th:only-of-type {\n",
       "        vertical-align: middle;\n",
       "    }\n",
       "\n",
       "    .dataframe tbody tr th {\n",
       "        vertical-align: top;\n",
       "    }\n",
       "\n",
       "    .dataframe thead th {\n",
       "        text-align: right;\n",
       "    }\n",
       "</style>\n",
       "<table border=\"1\" class=\"dataframe\">\n",
       "  <thead>\n",
       "    <tr style=\"text-align: right;\">\n",
       "      <th></th>\n",
       "      <th>1110008P14Rik</th>\n",
       "      <th>1500009C09Rik</th>\n",
       "      <th>1500012F01Rik</th>\n",
       "      <th>1700020I14Rik</th>\n",
       "      <th>2010107E04Rik</th>\n",
       "      <th>2010300C02Rik</th>\n",
       "      <th>2210016L21Rik</th>\n",
       "      <th>2310036O22Rik</th>\n",
       "      <th>2900011O08Rik</th>\n",
       "      <th>3110035E14Rik</th>\n",
       "      <th>...</th>\n",
       "      <th>Zrsr1</th>\n",
       "      <th>Zwint</th>\n",
       "      <th>mt-Co1</th>\n",
       "      <th>mt-Cytb</th>\n",
       "      <th>mt-Nd1</th>\n",
       "      <th>mt-Nd2</th>\n",
       "      <th>mt-Nd4</th>\n",
       "      <th>mt-Nd5</th>\n",
       "      <th>mt-Rnr1</th>\n",
       "      <th>mt-Rnr2</th>\n",
       "    </tr>\n",
       "  </thead>\n",
       "  <tbody>\n",
       "    <tr>\n",
       "      <th>AAAAAAAGGTAGTA</th>\n",
       "      <td>0</td>\n",
       "      <td>0</td>\n",
       "      <td>0</td>\n",
       "      <td>0</td>\n",
       "      <td>0</td>\n",
       "      <td>0</td>\n",
       "      <td>0</td>\n",
       "      <td>0</td>\n",
       "      <td>0</td>\n",
       "      <td>0</td>\n",
       "      <td>...</td>\n",
       "      <td>0</td>\n",
       "      <td>0</td>\n",
       "      <td>0</td>\n",
       "      <td>0</td>\n",
       "      <td>0</td>\n",
       "      <td>0</td>\n",
       "      <td>0</td>\n",
       "      <td>0</td>\n",
       "      <td>1</td>\n",
       "      <td>0</td>\n",
       "    </tr>\n",
       "    <tr>\n",
       "      <th>AAAAAAAGTCCCAA</th>\n",
       "      <td>0</td>\n",
       "      <td>0</td>\n",
       "      <td>0</td>\n",
       "      <td>0</td>\n",
       "      <td>0</td>\n",
       "      <td>0</td>\n",
       "      <td>0</td>\n",
       "      <td>0</td>\n",
       "      <td>0</td>\n",
       "      <td>0</td>\n",
       "      <td>...</td>\n",
       "      <td>0</td>\n",
       "      <td>0</td>\n",
       "      <td>2</td>\n",
       "      <td>2</td>\n",
       "      <td>5</td>\n",
       "      <td>0</td>\n",
       "      <td>1</td>\n",
       "      <td>0</td>\n",
       "      <td>2</td>\n",
       "      <td>4</td>\n",
       "    </tr>\n",
       "    <tr>\n",
       "      <th>AAAAAAATCTTAGT</th>\n",
       "      <td>0</td>\n",
       "      <td>0</td>\n",
       "      <td>0</td>\n",
       "      <td>0</td>\n",
       "      <td>0</td>\n",
       "      <td>0</td>\n",
       "      <td>0</td>\n",
       "      <td>0</td>\n",
       "      <td>0</td>\n",
       "      <td>0</td>\n",
       "      <td>...</td>\n",
       "      <td>0</td>\n",
       "      <td>0</td>\n",
       "      <td>0</td>\n",
       "      <td>0</td>\n",
       "      <td>0</td>\n",
       "      <td>0</td>\n",
       "      <td>0</td>\n",
       "      <td>0</td>\n",
       "      <td>0</td>\n",
       "      <td>0</td>\n",
       "    </tr>\n",
       "    <tr>\n",
       "      <th>AAAAAACATCTTTC</th>\n",
       "      <td>0</td>\n",
       "      <td>0</td>\n",
       "      <td>0</td>\n",
       "      <td>0</td>\n",
       "      <td>0</td>\n",
       "      <td>0</td>\n",
       "      <td>0</td>\n",
       "      <td>0</td>\n",
       "      <td>0</td>\n",
       "      <td>0</td>\n",
       "      <td>...</td>\n",
       "      <td>0</td>\n",
       "      <td>0</td>\n",
       "      <td>0</td>\n",
       "      <td>0</td>\n",
       "      <td>0</td>\n",
       "      <td>0</td>\n",
       "      <td>0</td>\n",
       "      <td>0</td>\n",
       "      <td>1</td>\n",
       "      <td>0</td>\n",
       "    </tr>\n",
       "    <tr>\n",
       "      <th>AAAAAACGAAATAG</th>\n",
       "      <td>0</td>\n",
       "      <td>0</td>\n",
       "      <td>0</td>\n",
       "      <td>0</td>\n",
       "      <td>0</td>\n",
       "      <td>0</td>\n",
       "      <td>0</td>\n",
       "      <td>0</td>\n",
       "      <td>0</td>\n",
       "      <td>0</td>\n",
       "      <td>...</td>\n",
       "      <td>0</td>\n",
       "      <td>0</td>\n",
       "      <td>1</td>\n",
       "      <td>0</td>\n",
       "      <td>0</td>\n",
       "      <td>0</td>\n",
       "      <td>0</td>\n",
       "      <td>0</td>\n",
       "      <td>0</td>\n",
       "      <td>0</td>\n",
       "    </tr>\n",
       "  </tbody>\n",
       "</table>\n",
       "<p>5 rows × 1222 columns</p>\n",
       "</div>"
      ],
      "text/plain": [
       "                1110008P14Rik  1500009C09Rik  1500012F01Rik  1700020I14Rik  \\\n",
       "AAAAAAAGGTAGTA              0              0              0              0   \n",
       "AAAAAAAGTCCCAA              0              0              0              0   \n",
       "AAAAAAATCTTAGT              0              0              0              0   \n",
       "AAAAAACATCTTTC              0              0              0              0   \n",
       "AAAAAACGAAATAG              0              0              0              0   \n",
       "\n",
       "                2010107E04Rik  2010300C02Rik  2210016L21Rik  2310036O22Rik  \\\n",
       "AAAAAAAGGTAGTA              0              0              0              0   \n",
       "AAAAAAAGTCCCAA              0              0              0              0   \n",
       "AAAAAAATCTTAGT              0              0              0              0   \n",
       "AAAAAACATCTTTC              0              0              0              0   \n",
       "AAAAAACGAAATAG              0              0              0              0   \n",
       "\n",
       "                2900011O08Rik  3110035E14Rik  ...  Zrsr1  Zwint  mt-Co1  \\\n",
       "AAAAAAAGGTAGTA              0              0  ...      0      0       0   \n",
       "AAAAAAAGTCCCAA              0              0  ...      0      0       2   \n",
       "AAAAAAATCTTAGT              0              0  ...      0      0       0   \n",
       "AAAAAACATCTTTC              0              0  ...      0      0       0   \n",
       "AAAAAACGAAATAG              0              0  ...      0      0       1   \n",
       "\n",
       "                mt-Cytb  mt-Nd1  mt-Nd2  mt-Nd4  mt-Nd5  mt-Rnr1  mt-Rnr2  \n",
       "AAAAAAAGGTAGTA        0       0       0       0       0        1        0  \n",
       "AAAAAAAGTCCCAA        2       5       0       1       0        2        4  \n",
       "AAAAAAATCTTAGT        0       0       0       0       0        0        0  \n",
       "AAAAAACATCTTTC        0       0       0       0       0        1        0  \n",
       "AAAAAACGAAATAG        0       0       0       0       0        0        0  \n",
       "\n",
       "[5 rows x 1222 columns]"
      ]
     },
     "execution_count": 5,
     "metadata": {},
     "output_type": "execute_result"
    }
   ],
   "source": [
    "bead_reads_subset = pd.read_csv('./data/bead_reads_subset.csv', index_col='Unnamed: 0')\n",
    "bead_reads_subset.head()"
   ]
  },
  {
   "cell_type": "code",
   "execution_count": 6,
   "id": "b0d0e13c",
   "metadata": {
    "execution": {
     "iopub.execute_input": "2022-04-25T16:08:36.683179Z",
     "iopub.status.busy": "2022-04-25T16:08:36.682819Z",
     "iopub.status.idle": "2022-04-25T16:08:37.229354Z",
     "shell.execute_reply": "2022-04-25T16:08:37.229696Z"
    },
    "papermill": {
     "duration": 0.567079,
     "end_time": "2022-04-25T16:08:37.229799",
     "exception": false,
     "start_time": "2022-04-25T16:08:36.662720",
     "status": "completed"
    },
    "tags": []
   },
   "outputs": [],
   "source": [
    "data_scipy_sparse = scipy.sparse.coo_matrix( bead_reads_subset.to_numpy() )"
   ]
  },
  {
   "cell_type": "code",
   "execution_count": 7,
   "id": "daa59d8a",
   "metadata": {
    "execution": {
     "iopub.execute_input": "2022-04-25T16:08:37.262631Z",
     "iopub.status.busy": "2022-04-25T16:08:37.262286Z",
     "iopub.status.idle": "2022-04-25T16:08:44.770661Z",
     "shell.execute_reply": "2022-04-25T16:08:44.770986Z"
    },
    "papermill": {
     "duration": 7.526277,
     "end_time": "2022-04-25T16:08:44.771098",
     "exception": false,
     "start_time": "2022-04-25T16:08:37.244821",
     "status": "completed"
    },
    "tags": []
   },
   "outputs": [],
   "source": [
    "data_sparse_tensor = scipy_sparse_to_pytorch_sparse(data_scipy_sparse).to(device=device)"
   ]
  },
  {
   "cell_type": "code",
   "execution_count": 8,
   "id": "53378914",
   "metadata": {
    "execution": {
     "iopub.execute_input": "2022-04-25T16:08:44.805575Z",
     "iopub.status.busy": "2022-04-25T16:08:44.805217Z",
     "iopub.status.idle": "2022-04-25T16:08:44.811485Z",
     "shell.execute_reply": "2022-04-25T16:08:44.811144Z"
    },
    "papermill": {
     "duration": 0.024576,
     "end_time": "2022-04-25T16:08:44.811554",
     "exception": false,
     "start_time": "2022-04-25T16:08:44.786978",
     "status": "completed"
    },
    "tags": []
   },
   "outputs": [
    {
     "data": {
      "text/plain": [
       "tensor(indices=tensor([[    0,     0,     0,  ..., 53207, 53207, 53207],\n",
       "                       [   84,   412,   528,  ...,  1219,  1220,  1221]]),\n",
       "       values=tensor([ 1.,  1.,  1.,  ..., 12., 26., 71.]),\n",
       "       device='cuda:0', size=(53208, 1222), nnz=9552845, layout=torch.sparse_coo)"
      ]
     },
     "execution_count": 8,
     "metadata": {},
     "output_type": "execute_result"
    }
   ],
   "source": [
    "data_sparse_tensor"
   ]
  },
  {
   "cell_type": "code",
   "execution_count": 9,
   "id": "d2cb281e",
   "metadata": {
    "execution": {
     "iopub.execute_input": "2022-04-25T16:08:44.845263Z",
     "iopub.status.busy": "2022-04-25T16:08:44.844921Z",
     "iopub.status.idle": "2022-04-25T16:08:44.847477Z",
     "shell.execute_reply": "2022-04-25T16:08:44.847146Z"
    },
    "papermill": {
     "duration": 0.020121,
     "end_time": "2022-04-25T16:08:44.847545",
     "exception": false,
     "start_time": "2022-04-25T16:08:44.827424",
     "status": "completed"
    },
    "tags": []
   },
   "outputs": [],
   "source": [
    "data_dense_tensor = data_sparse_tensor.to_dense()"
   ]
  },
  {
   "cell_type": "code",
   "execution_count": 10,
   "id": "4a3d6845",
   "metadata": {
    "execution": {
     "iopub.execute_input": "2022-04-25T16:08:44.881397Z",
     "iopub.status.busy": "2022-04-25T16:08:44.881044Z",
     "iopub.status.idle": "2022-04-25T16:08:45.010590Z",
     "shell.execute_reply": "2022-04-25T16:08:45.010087Z"
    },
    "papermill": {
     "duration": 0.147616,
     "end_time": "2022-04-25T16:08:45.010707",
     "exception": false,
     "start_time": "2022-04-25T16:08:44.863091",
     "status": "completed"
    },
    "tags": []
   },
   "outputs": [],
   "source": [
    "mask_scipy_sparse = (data_scipy_sparse != 0).astype(np.int64).tocoo()"
   ]
  },
  {
   "cell_type": "code",
   "execution_count": 11,
   "id": "530c5a4b",
   "metadata": {
    "execution": {
     "iopub.execute_input": "2022-04-25T16:08:45.045988Z",
     "iopub.status.busy": "2022-04-25T16:08:45.045624Z",
     "iopub.status.idle": "2022-04-25T16:08:45.091986Z",
     "shell.execute_reply": "2022-04-25T16:08:45.092290Z"
    },
    "papermill": {
     "duration": 0.064922,
     "end_time": "2022-04-25T16:08:45.092405",
     "exception": false,
     "start_time": "2022-04-25T16:08:45.027483",
     "status": "completed"
    },
    "tags": []
   },
   "outputs": [],
   "source": [
    "mask_sparse_tensor = scipy_sparse_to_pytorch_sparse(mask_scipy_sparse)"
   ]
  },
  {
   "cell_type": "code",
   "execution_count": 12,
   "id": "25d57f39",
   "metadata": {
    "execution": {
     "iopub.execute_input": "2022-04-25T16:08:45.135059Z",
     "iopub.status.busy": "2022-04-25T16:08:45.131384Z",
     "iopub.status.idle": "2022-04-25T16:08:45.974377Z",
     "shell.execute_reply": "2022-04-25T16:08:45.974011Z"
    },
    "papermill": {
     "duration": 0.866374,
     "end_time": "2022-04-25T16:08:45.974469",
     "exception": false,
     "start_time": "2022-04-25T16:08:45.108095",
     "status": "completed"
    },
    "tags": []
   },
   "outputs": [],
   "source": [
    "mask_dense_tensor = mask_sparse_tensor.to_dense().bool()"
   ]
  },
  {
   "cell_type": "code",
   "execution_count": 13,
   "id": "32717103",
   "metadata": {
    "execution": {
     "iopub.execute_input": "2022-04-25T16:08:46.020240Z",
     "iopub.status.busy": "2022-04-25T16:08:46.019850Z",
     "iopub.status.idle": "2022-04-25T16:09:31.170414Z",
     "shell.execute_reply": "2022-04-25T16:09:31.170749Z"
    },
    "papermill": {
     "duration": 45.180558,
     "end_time": "2022-04-25T16:09:31.170912",
     "exception": false,
     "start_time": "2022-04-25T16:08:45.990354",
     "status": "completed"
    },
    "tags": []
   },
   "outputs": [],
   "source": [
    "distances = np.load('./data/macosko_distance_matrix.npy')"
   ]
  },
  {
   "cell_type": "code",
   "execution_count": 14,
   "id": "b0da46a3",
   "metadata": {
    "execution": {
     "iopub.execute_input": "2022-04-25T16:09:31.227726Z",
     "iopub.status.busy": "2022-04-25T16:09:31.227144Z",
     "iopub.status.idle": "2022-04-25T16:09:39.514611Z",
     "shell.execute_reply": "2022-04-25T16:09:39.514242Z"
    },
    "papermill": {
     "duration": 8.317697,
     "end_time": "2022-04-25T16:09:39.514709",
     "exception": false,
     "start_time": "2022-04-25T16:09:31.197012",
     "status": "completed"
    },
    "tags": []
   },
   "outputs": [],
   "source": [
    "adjacency = scipy.sparse.coo_matrix( distances <= 20 , dtype=np.float32)\n",
    "degree = scipy.sparse.diags( adjacency.sum(axis=0).A1 )\n",
    "laplacian = (degree - adjacency).tocoo()"
   ]
  },
  {
   "cell_type": "code",
   "execution_count": 15,
   "id": "8d19615a",
   "metadata": {
    "execution": {
     "iopub.execute_input": "2022-04-25T16:09:39.557231Z",
     "iopub.status.busy": "2022-04-25T16:09:39.554031Z",
     "iopub.status.idle": "2022-04-25T16:09:39.566388Z",
     "shell.execute_reply": "2022-04-25T16:09:39.566086Z"
    },
    "papermill": {
     "duration": 0.034519,
     "end_time": "2022-04-25T16:09:39.566466",
     "exception": false,
     "start_time": "2022-04-25T16:09:39.531947",
     "status": "completed"
    },
    "tags": []
   },
   "outputs": [],
   "source": [
    "adjacency_sparse_tensor = scipy_sparse_to_pytorch_sparse(adjacency)"
   ]
  },
  {
   "cell_type": "code",
   "execution_count": 16,
   "id": "528c29f3",
   "metadata": {
    "execution": {
     "iopub.execute_input": "2022-04-25T16:09:39.625184Z",
     "iopub.status.busy": "2022-04-25T16:09:39.624669Z",
     "iopub.status.idle": "2022-04-25T16:09:42.064767Z",
     "shell.execute_reply": "2022-04-25T16:09:42.065101Z"
    },
    "papermill": {
     "duration": 2.468778,
     "end_time": "2022-04-25T16:09:42.065220",
     "exception": false,
     "start_time": "2022-04-25T16:09:39.596442",
     "status": "completed"
    },
    "tags": []
   },
   "outputs": [],
   "source": [
    "adjacency_dense_tensor = adjacency_sparse_tensor.to_dense()"
   ]
  },
  {
   "cell_type": "code",
   "execution_count": 17,
   "id": "3ae47114",
   "metadata": {
    "execution": {
     "iopub.execute_input": "2022-04-25T16:09:42.106342Z",
     "iopub.status.busy": "2022-04-25T16:09:42.105975Z",
     "iopub.status.idle": "2022-04-25T16:09:42.134006Z",
     "shell.execute_reply": "2022-04-25T16:09:42.134321Z"
    },
    "papermill": {
     "duration": 0.052767,
     "end_time": "2022-04-25T16:09:42.134403",
     "exception": false,
     "start_time": "2022-04-25T16:09:42.081636",
     "status": "completed"
    },
    "tags": []
   },
   "outputs": [],
   "source": [
    "def laplacian_loss(x, x_lap):\n",
    "    \n",
    "    lap_sum = 0\n",
    "    for ii in range(x.shape[1]):\n",
    "        lap_sum = lap_sum + (x[:,ii].T @ x_lap @ x[:,ii])\n",
    "        \n",
    "    return lap_sum"
   ]
  },
  {
   "cell_type": "code",
   "execution_count": 18,
   "id": "d082028e",
   "metadata": {
    "execution": {
     "iopub.execute_input": "2022-04-25T16:09:42.176471Z",
     "iopub.status.busy": "2022-04-25T16:09:42.176093Z",
     "iopub.status.idle": "2022-04-25T16:09:42.385099Z",
     "shell.execute_reply": "2022-04-25T16:09:42.384709Z"
    },
    "papermill": {
     "duration": 0.234318,
     "end_time": "2022-04-25T16:09:42.385195",
     "exception": false,
     "start_time": "2022-04-25T16:09:42.150877",
     "status": "completed"
    },
    "tags": []
   },
   "outputs": [],
   "source": [
    "mf = MatrixFactorization(mask_sparse_tensor.shape[0], mask_sparse_tensor.shape[1], DECOMP_RANK).to(device=device)"
   ]
  },
  {
   "cell_type": "code",
   "execution_count": 19,
   "id": "cbbc84ce",
   "metadata": {
    "execution": {
     "iopub.execute_input": "2022-04-25T16:09:42.429174Z",
     "iopub.status.busy": "2022-04-25T16:09:42.428808Z",
     "iopub.status.idle": "2022-04-25T16:09:42.434752Z",
     "shell.execute_reply": "2022-04-25T16:09:42.435071Z"
    },
    "papermill": {
     "duration": 0.033828,
     "end_time": "2022-04-25T16:09:42.435159",
     "exception": false,
     "start_time": "2022-04-25T16:09:42.401331",
     "status": "completed"
    },
    "tags": []
   },
   "outputs": [],
   "source": [
    "import torch.optim as optim\n",
    "\n",
    "optimizer = optim.Adam(mf.parameters(), lr=0.001)"
   ]
  },
  {
   "cell_type": "code",
   "execution_count": 20,
   "id": "40618780",
   "metadata": {
    "execution": {
     "iopub.execute_input": "2022-04-25T16:09:42.542082Z",
     "iopub.status.busy": "2022-04-25T16:09:42.541715Z",
     "iopub.status.idle": "2022-04-25T17:09:31.964123Z",
     "shell.execute_reply": "2022-04-25T17:09:31.964446Z"
    },
    "papermill": {
     "duration": 3589.509913,
     "end_time": "2022-04-25T17:09:31.964607",
     "exception": false,
     "start_time": "2022-04-25T16:09:42.454694",
     "status": "completed"
    },
    "tags": []
   },
   "outputs": [
    {
     "name": "stdout",
     "output_type": "stream",
     "text": [
      "0\n",
      "215980305.0\n"
     ]
    },
    {
     "name": "stdout",
     "output_type": "stream",
     "text": [
      "1\n",
      "215790328.0\n"
     ]
    },
    {
     "name": "stdout",
     "output_type": "stream",
     "text": [
      "2\n",
      "215301110.0\n"
     ]
    },
    {
     "name": "stdout",
     "output_type": "stream",
     "text": [
      "3\n",
      "214379392.0\n"
     ]
    },
    {
     "name": "stdout",
     "output_type": "stream",
     "text": [
      "4\n",
      "212950472.0\n"
     ]
    },
    {
     "name": "stdout",
     "output_type": "stream",
     "text": [
      "5\n",
      "211011380.0\n"
     ]
    },
    {
     "name": "stdout",
     "output_type": "stream",
     "text": [
      "6\n",
      "208578405.0\n"
     ]
    },
    {
     "name": "stdout",
     "output_type": "stream",
     "text": [
      "7\n",
      "205744061.0\n"
     ]
    },
    {
     "name": "stdout",
     "output_type": "stream",
     "text": [
      "8\n",
      "202616315.0\n"
     ]
    },
    {
     "name": "stdout",
     "output_type": "stream",
     "text": [
      "9\n",
      "199350369.0\n"
     ]
    },
    {
     "name": "stdout",
     "output_type": "stream",
     "text": [
      "10\n",
      "196075232.0\n"
     ]
    },
    {
     "name": "stdout",
     "output_type": "stream",
     "text": [
      "11\n",
      "192955347.0\n"
     ]
    },
    {
     "name": "stdout",
     "output_type": "stream",
     "text": [
      "12\n",
      "190087768.0\n"
     ]
    },
    {
     "name": "stdout",
     "output_type": "stream",
     "text": [
      "13\n",
      "187554200.0\n"
     ]
    },
    {
     "name": "stdout",
     "output_type": "stream",
     "text": [
      "14\n",
      "185389400.0\n"
     ]
    },
    {
     "name": "stdout",
     "output_type": "stream",
     "text": [
      "15\n",
      "183512945.0\n"
     ]
    },
    {
     "name": "stdout",
     "output_type": "stream",
     "text": [
      "16\n",
      "181880816.0\n"
     ]
    },
    {
     "name": "stdout",
     "output_type": "stream",
     "text": [
      "17\n",
      "180425660.0\n"
     ]
    },
    {
     "name": "stdout",
     "output_type": "stream",
     "text": [
      "18\n",
      "179084962.0\n"
     ]
    },
    {
     "name": "stdout",
     "output_type": "stream",
     "text": [
      "19\n",
      "177830403.0\n"
     ]
    },
    {
     "name": "stdout",
     "output_type": "stream",
     "text": [
      "20\n",
      "176626127.5\n"
     ]
    },
    {
     "name": "stdout",
     "output_type": "stream",
     "text": [
      "21\n",
      "175477282.0\n"
     ]
    },
    {
     "name": "stdout",
     "output_type": "stream",
     "text": [
      "22\n",
      "174363952.5\n"
     ]
    },
    {
     "name": "stdout",
     "output_type": "stream",
     "text": [
      "23\n",
      "173292727.0\n"
     ]
    },
    {
     "name": "stdout",
     "output_type": "stream",
     "text": [
      "24\n",
      "172244384.0\n"
     ]
    },
    {
     "name": "stdout",
     "output_type": "stream",
     "text": [
      "25\n",
      "171225922.0\n"
     ]
    },
    {
     "name": "stdout",
     "output_type": "stream",
     "text": [
      "26\n",
      "170230445.0\n"
     ]
    },
    {
     "name": "stdout",
     "output_type": "stream",
     "text": [
      "27\n",
      "169256884.0\n"
     ]
    },
    {
     "name": "stdout",
     "output_type": "stream",
     "text": [
      "28\n",
      "168305944.0\n"
     ]
    },
    {
     "name": "stdout",
     "output_type": "stream",
     "text": [
      "29\n",
      "167363550.0\n"
     ]
    },
    {
     "name": "stdout",
     "output_type": "stream",
     "text": [
      "30\n",
      "166448143.0\n"
     ]
    },
    {
     "name": "stdout",
     "output_type": "stream",
     "text": [
      "31\n",
      "165541376.0\n"
     ]
    },
    {
     "name": "stdout",
     "output_type": "stream",
     "text": [
      "32\n",
      "164650145.0\n"
     ]
    },
    {
     "name": "stdout",
     "output_type": "stream",
     "text": [
      "33\n",
      "163767358.0\n"
     ]
    },
    {
     "name": "stdout",
     "output_type": "stream",
     "text": [
      "34\n",
      "162907539.0\n"
     ]
    },
    {
     "name": "stdout",
     "output_type": "stream",
     "text": [
      "35\n",
      "162053648.0\n"
     ]
    },
    {
     "name": "stdout",
     "output_type": "stream",
     "text": [
      "36\n",
      "161211048.0\n"
     ]
    },
    {
     "name": "stdout",
     "output_type": "stream",
     "text": [
      "37\n",
      "160384372.0\n"
     ]
    },
    {
     "name": "stdout",
     "output_type": "stream",
     "text": [
      "38\n",
      "159562917.0\n"
     ]
    },
    {
     "name": "stdout",
     "output_type": "stream",
     "text": [
      "39\n",
      "158756639.0\n"
     ]
    },
    {
     "name": "stdout",
     "output_type": "stream",
     "text": [
      "40\n",
      "157961085.0\n"
     ]
    },
    {
     "name": "stdout",
     "output_type": "stream",
     "text": [
      "41\n",
      "157174376.0\n"
     ]
    },
    {
     "name": "stdout",
     "output_type": "stream",
     "text": [
      "42\n",
      "156392806.0\n"
     ]
    },
    {
     "name": "stdout",
     "output_type": "stream",
     "text": [
      "43\n",
      "155626645.0\n"
     ]
    },
    {
     "name": "stdout",
     "output_type": "stream",
     "text": [
      "44\n",
      "154870573.0\n"
     ]
    },
    {
     "name": "stdout",
     "output_type": "stream",
     "text": [
      "45\n",
      "154129966.5\n"
     ]
    },
    {
     "name": "stdout",
     "output_type": "stream",
     "text": [
      "46\n",
      "153390441.0\n"
     ]
    },
    {
     "name": "stdout",
     "output_type": "stream",
     "text": [
      "47\n",
      "152666797.0\n"
     ]
    },
    {
     "name": "stdout",
     "output_type": "stream",
     "text": [
      "48\n",
      "151947559.0\n"
     ]
    },
    {
     "name": "stdout",
     "output_type": "stream",
     "text": [
      "49\n",
      "151239739.0\n"
     ]
    }
   ],
   "source": [
    "losses = []\n",
    "\n",
    "for epoch in range(50):\n",
    "    \n",
    "    batcher = data_adjacency_batcher(data_dense_tensor, adjacency_dense_tensor, 5000)\n",
    "    \n",
    "    total_loss = 0\n",
    "    \n",
    "    \n",
    "    for (data_batch, mask_batch, adjacency_batch, row_batch) in batcher:\n",
    "        \n",
    "        \n",
    "        \n",
    "        data_batch = data_batch.to(device=device)\n",
    "        mask_batch = mask_batch.to(device=device)\n",
    "        adjacency_batch = adjacency_batch.to(device=device)\n",
    "        row_batch = row_batch.to(device=device)\n",
    "        \n",
    "        laplacian_tensor = adjacency_to_laplacian(adjacency_batch).to(device=device)\n",
    "    \n",
    "        optimizer.zero_grad()\n",
    "\n",
    "        output = mf.forward(row_batch, torch.arange(0, data_batch.shape[1]))\n",
    "        \n",
    "        L1_laplacian_tensor = adjacency_to_laplacian(adjacency_to_L1_adjacency(output, adjacency_batch, 0.001, device)).to(device=device)\n",
    "        \n",
    "        loss = squared_loss(data_batch[mask_batch], output[mask_batch]) + LAPLACIAN_PARAM*laplacian_loss(output, laplacian_tensor) + TV_PARAM*laplacian_loss(output, L1_laplacian_tensor)\n",
    "        loss.backward()\n",
    "        optimizer.step()\n",
    "        \n",
    "        total_loss += loss.item()\n",
    "        \n",
    "\n",
    "    if epoch % 1 == 0:\n",
    "        print(epoch)\n",
    "        print(total_loss)\n",
    "        \n",
    "    losses.append(total_loss)"
   ]
  },
  {
   "cell_type": "code",
   "execution_count": 21,
   "id": "0d6a173b",
   "metadata": {
    "execution": {
     "iopub.execute_input": "2022-04-25T17:09:32.038657Z",
     "iopub.status.busy": "2022-04-25T17:09:32.038049Z",
     "iopub.status.idle": "2022-04-25T17:09:32.046665Z",
     "shell.execute_reply": "2022-04-25T17:09:32.046966Z"
    },
    "papermill": {
     "duration": 0.045721,
     "end_time": "2022-04-25T17:09:32.047048",
     "exception": false,
     "start_time": "2022-04-25T17:09:32.001327",
     "status": "completed"
    },
    "tags": []
   },
   "outputs": [
    {
     "data": {
      "text/plain": [
       "13031060.0"
      ]
     },
     "execution_count": 21,
     "metadata": {},
     "output_type": "execute_result"
    }
   ],
   "source": [
    "loss.item()"
   ]
  },
  {
   "cell_type": "code",
   "execution_count": 22,
   "id": "d02decad",
   "metadata": {
    "execution": {
     "iopub.execute_input": "2022-04-25T17:09:32.102530Z",
     "iopub.status.busy": "2022-04-25T17:09:32.102164Z",
     "iopub.status.idle": "2022-04-25T17:09:32.117444Z",
     "shell.execute_reply": "2022-04-25T17:09:32.117902Z"
    },
    "papermill": {
     "duration": 0.045493,
     "end_time": "2022-04-25T17:09:32.117997",
     "exception": false,
     "start_time": "2022-04-25T17:09:32.072504",
     "status": "completed"
    },
    "tags": []
   },
   "outputs": [],
   "source": [
    "np.save(f'./results/loss_curves/mf_rank{DECOMP_RANK}_L{LAPLACIAN_PARAM}_TV{TV_PARAM}_losses', np.array(losses))"
   ]
  },
  {
   "cell_type": "code",
   "execution_count": 23,
   "id": "b1497183",
   "metadata": {
    "execution": {
     "iopub.execute_input": "2022-04-25T17:09:32.177584Z",
     "iopub.status.busy": "2022-04-25T17:09:32.176769Z",
     "iopub.status.idle": "2022-04-25T17:09:32.337294Z",
     "shell.execute_reply": "2022-04-25T17:09:32.336803Z"
    },
    "papermill": {
     "duration": 0.188918,
     "end_time": "2022-04-25T17:09:32.337362",
     "exception": false,
     "start_time": "2022-04-25T17:09:32.148444",
     "status": "completed"
    },
    "tags": []
   },
   "outputs": [],
   "source": [
    "torch.save(mf.state_dict(), f'./results/saved_models/mf_rank{DECOMP_RANK}_L{LAPLACIAN_PARAM}_TV{TV_PARAM}_state')"
   ]
  },
  {
   "cell_type": "code",
   "execution_count": 24,
   "id": "f97d7643",
   "metadata": {
    "execution": {
     "iopub.execute_input": "2022-04-25T17:09:32.394107Z",
     "iopub.status.busy": "2022-04-25T17:09:32.393622Z",
     "iopub.status.idle": "2022-04-25T17:13:32.129446Z",
     "shell.execute_reply": "2022-04-25T17:13:32.115382Z"
    },
    "papermill": {
     "duration": 239.771233,
     "end_time": "2022-04-25T17:13:32.133580",
     "exception": false,
     "start_time": "2022-04-25T17:09:32.362347",
     "status": "completed"
    },
    "tags": []
   },
   "outputs": [],
   "source": [
    "final_output = mf.forward(torch.arange(0, data_dense_tensor.shape[0]), torch.arange(0, data_dense_tensor.shape[1]))\n",
    "\n",
    "final_squared_error = squared_loss(data_dense_tensor, final_output)\n",
    "final_laplacian = laplacian_loss(final_output, adjacency_to_laplacian(adjacency_dense_tensor).to(device=device))\n",
    "final_TV =  laplacian_loss(final_output, adjacency_to_laplacian(adjacency_to_L1_adjacency(final_output, adjacency_dense_tensor, 0.001, device)).to(device=device))"
   ]
  },
  {
   "cell_type": "code",
   "execution_count": 25,
   "id": "25d9646d",
   "metadata": {
    "execution": {
     "iopub.execute_input": "2022-04-25T17:13:32.273440Z",
     "iopub.status.busy": "2022-04-25T17:13:32.271681Z",
     "iopub.status.idle": "2022-04-25T17:13:33.151269Z",
     "shell.execute_reply": "2022-04-25T17:13:33.149814Z"
    },
    "papermill": {
     "duration": 0.94982,
     "end_time": "2022-04-25T17:13:33.151352",
     "exception": false,
     "start_time": "2022-04-25T17:13:32.201532",
     "status": "completed"
    },
    "tags": []
   },
   "outputs": [],
   "source": [
    "np.save(f'./results/final_losses/mf_rank{DECOMP_RANK}_L{LAPLACIAN_PARAM}_TV{TV_PARAM}_losses', np.array([final_squared_error.item(), final_laplacian.item(), final_TV.item()]))"
   ]
  },
  {
   "cell_type": "code",
   "execution_count": null,
   "id": "21545f8c",
   "metadata": {
    "papermill": {
     "duration": 0.026769,
     "end_time": "2022-04-25T17:13:33.209471",
     "exception": false,
     "start_time": "2022-04-25T17:13:33.182702",
     "status": "completed"
    },
    "tags": []
   },
   "outputs": [],
   "source": []
  }
 ],
 "metadata": {
  "interpreter": {
   "hash": "22ee4ece52021b4a120b95b326dd7a4d7938576e919f53927a7959ab5d7e1e45"
  },
  "kernelspec": {
   "display_name": "spatialSFT",
   "language": "python",
   "name": "spatialsft"
  },
  "language_info": {
   "codemirror_mode": {
    "name": "ipython",
    "version": 3
   },
   "file_extension": ".py",
   "mimetype": "text/x-python",
   "name": "python",
   "nbconvert_exporter": "python",
   "pygments_lexer": "ipython3",
   "version": "3.8.0"
  },
  "papermill": {
   "default_parameters": {},
   "duration": 3934.15759,
   "end_time": "2022-04-25T17:13:40.496809",
   "environment_variables": {},
   "exception": null,
   "input_path": "./notebooks/mf_param_template.ipynb",
   "output_path": "./papermill_output/mf_param_template_rank100_lap0.001_tv0.00001.ipynb",
   "parameters": {
    "DECOMP_RANK": 100,
    "LAPLACIAN_PARAM": 0.001,
    "TV_PARAM": 1e-05
   },
   "start_time": "2022-04-25T16:08:06.339219",
   "version": "2.3.4"
  }
 },
 "nbformat": 4,
 "nbformat_minor": 5
}