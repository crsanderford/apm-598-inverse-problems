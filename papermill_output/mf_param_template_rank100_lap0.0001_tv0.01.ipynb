{
 "cells": [
  {
   "cell_type": "markdown",
   "id": "88b48812",
   "metadata": {
    "papermill": {
     "duration": 0.042641,
     "end_time": "2022-04-25T18:17:51.947698",
     "exception": false,
     "start_time": "2022-04-25T18:17:51.905057",
     "status": "completed"
    },
    "tags": []
   },
   "source": [
    "### setup"
   ]
  },
  {
   "cell_type": "code",
   "execution_count": 1,
   "id": "33320959",
   "metadata": {
    "execution": {
     "iopub.execute_input": "2022-04-25T18:17:51.982882Z",
     "iopub.status.busy": "2022-04-25T18:17:51.982495Z",
     "iopub.status.idle": "2022-04-25T18:18:00.184140Z",
     "shell.execute_reply": "2022-04-25T18:18:00.183675Z"
    },
    "papermill": {
     "duration": 8.221988,
     "end_time": "2022-04-25T18:18:00.184252",
     "exception": false,
     "start_time": "2022-04-25T18:17:51.962264",
     "status": "completed"
    },
    "tags": []
   },
   "outputs": [],
   "source": [
    "import numpy as np \n",
    "import matplotlib.pyplot as plt\n",
    "import pandas as pd\n",
    "\n",
    "import scipy\n",
    "\n",
    "\n",
    "from utils import *\n",
    "from pytorch_sparse_utils import *\n",
    "\n",
    "\n",
    "import torch\n",
    "from torch import nn\n",
    "import torch.nn.functional as F"
   ]
  },
  {
   "cell_type": "markdown",
   "id": "927accb9",
   "metadata": {
    "papermill": {
     "duration": 0.014428,
     "end_time": "2022-04-25T18:18:00.214151",
     "exception": false,
     "start_time": "2022-04-25T18:18:00.199723",
     "status": "completed"
    },
    "tags": []
   },
   "source": [
    "### set parameters"
   ]
  },
  {
   "cell_type": "code",
   "execution_count": 2,
   "id": "7c0d0376",
   "metadata": {
    "execution": {
     "iopub.execute_input": "2022-04-25T18:18:00.248517Z",
     "iopub.status.busy": "2022-04-25T18:18:00.248146Z",
     "iopub.status.idle": "2022-04-25T18:18:00.250593Z",
     "shell.execute_reply": "2022-04-25T18:18:00.250267Z"
    },
    "papermill": {
     "duration": 0.022016,
     "end_time": "2022-04-25T18:18:00.250674",
     "exception": false,
     "start_time": "2022-04-25T18:18:00.228658",
     "status": "completed"
    },
    "tags": [
     "parameters"
    ]
   },
   "outputs": [],
   "source": [
    "DECOMP_RANK = 10\n",
    "LAPLACIAN_PARAM = 0.001\n",
    "TV_PARAM = 0.001"
   ]
  },
  {
   "cell_type": "code",
   "execution_count": 3,
   "id": "482a0b73",
   "metadata": {
    "execution": {
     "iopub.execute_input": "2022-04-25T18:18:00.285173Z",
     "iopub.status.busy": "2022-04-25T18:18:00.284754Z",
     "iopub.status.idle": "2022-04-25T18:18:00.292887Z",
     "shell.execute_reply": "2022-04-25T18:18:00.292510Z"
    },
    "papermill": {
     "duration": 0.026023,
     "end_time": "2022-04-25T18:18:00.292967",
     "exception": false,
     "start_time": "2022-04-25T18:18:00.266944",
     "status": "completed"
    },
    "tags": [
     "injected-parameters"
    ]
   },
   "outputs": [],
   "source": [
    "# Parameters\n",
    "DECOMP_RANK = 100\n",
    "LAPLACIAN_PARAM = 0.0001\n",
    "TV_PARAM = 0.01\n"
   ]
  },
  {
   "cell_type": "code",
   "execution_count": 4,
   "id": "e180e017",
   "metadata": {
    "execution": {
     "iopub.execute_input": "2022-04-25T18:18:00.326732Z",
     "iopub.status.busy": "2022-04-25T18:18:00.326355Z",
     "iopub.status.idle": "2022-04-25T18:18:28.238047Z",
     "shell.execute_reply": "2022-04-25T18:18:28.238351Z"
    },
    "papermill": {
     "duration": 27.930076,
     "end_time": "2022-04-25T18:18:28.238465",
     "exception": false,
     "start_time": "2022-04-25T18:18:00.308389",
     "status": "completed"
    },
    "tags": []
   },
   "outputs": [
    {
     "name": "stdout",
     "output_type": "stream",
     "text": [
      "Using cuda device\n"
     ]
    }
   ],
   "source": [
    "device = 'cuda' if torch.cuda.is_available() else 'cpu'\n",
    "print('Using {} device'.format(device))"
   ]
  },
  {
   "cell_type": "markdown",
   "id": "2babcc78",
   "metadata": {
    "papermill": {
     "duration": 0.014826,
     "end_time": "2022-04-25T18:18:28.270150",
     "exception": false,
     "start_time": "2022-04-25T18:18:28.255324",
     "status": "completed"
    },
    "tags": []
   },
   "source": [
    "### loading data"
   ]
  },
  {
   "cell_type": "code",
   "execution_count": 5,
   "id": "b7c226a2",
   "metadata": {
    "execution": {
     "iopub.execute_input": "2022-04-25T18:18:28.308810Z",
     "iopub.status.busy": "2022-04-25T18:18:28.308427Z",
     "iopub.status.idle": "2022-04-25T18:18:30.698177Z",
     "shell.execute_reply": "2022-04-25T18:18:30.698514Z"
    },
    "papermill": {
     "duration": 2.41098,
     "end_time": "2022-04-25T18:18:30.698634",
     "exception": false,
     "start_time": "2022-04-25T18:18:28.287654",
     "status": "completed"
    },
    "tags": []
   },
   "outputs": [
    {
     "data": {
      "text/html": [
       "<div>\n",
       "<style scoped>\n",
       "    .dataframe tbody tr th:only-of-type {\n",
       "        vertical-align: middle;\n",
       "    }\n",
       "\n",
       "    .dataframe tbody tr th {\n",
       "        vertical-align: top;\n",
       "    }\n",
       "\n",
       "    .dataframe thead th {\n",
       "        text-align: right;\n",
       "    }\n",
       "</style>\n",
       "<table border=\"1\" class=\"dataframe\">\n",
       "  <thead>\n",
       "    <tr style=\"text-align: right;\">\n",
       "      <th></th>\n",
       "      <th>1110008P14Rik</th>\n",
       "      <th>1500009C09Rik</th>\n",
       "      <th>1500012F01Rik</th>\n",
       "      <th>1700020I14Rik</th>\n",
       "      <th>2010107E04Rik</th>\n",
       "      <th>2010300C02Rik</th>\n",
       "      <th>2210016L21Rik</th>\n",
       "      <th>2310036O22Rik</th>\n",
       "      <th>2900011O08Rik</th>\n",
       "      <th>3110035E14Rik</th>\n",
       "      <th>...</th>\n",
       "      <th>Zrsr1</th>\n",
       "      <th>Zwint</th>\n",
       "      <th>mt-Co1</th>\n",
       "      <th>mt-Cytb</th>\n",
       "      <th>mt-Nd1</th>\n",
       "      <th>mt-Nd2</th>\n",
       "      <th>mt-Nd4</th>\n",
       "      <th>mt-Nd5</th>\n",
       "      <th>mt-Rnr1</th>\n",
       "      <th>mt-Rnr2</th>\n",
       "    </tr>\n",
       "  </thead>\n",
       "  <tbody>\n",
       "    <tr>\n",
       "      <th>AAAAAAAGGTAGTA</th>\n",
       "      <td>0</td>\n",
       "      <td>0</td>\n",
       "      <td>0</td>\n",
       "      <td>0</td>\n",
       "      <td>0</td>\n",
       "      <td>0</td>\n",
       "      <td>0</td>\n",
       "      <td>0</td>\n",
       "      <td>0</td>\n",
       "      <td>0</td>\n",
       "      <td>...</td>\n",
       "      <td>0</td>\n",
       "      <td>0</td>\n",
       "      <td>0</td>\n",
       "      <td>0</td>\n",
       "      <td>0</td>\n",
       "      <td>0</td>\n",
       "      <td>0</td>\n",
       "      <td>0</td>\n",
       "      <td>1</td>\n",
       "      <td>0</td>\n",
       "    </tr>\n",
       "    <tr>\n",
       "      <th>AAAAAAAGTCCCAA</th>\n",
       "      <td>0</td>\n",
       "      <td>0</td>\n",
       "      <td>0</td>\n",
       "      <td>0</td>\n",
       "      <td>0</td>\n",
       "      <td>0</td>\n",
       "      <td>0</td>\n",
       "      <td>0</td>\n",
       "      <td>0</td>\n",
       "      <td>0</td>\n",
       "      <td>...</td>\n",
       "      <td>0</td>\n",
       "      <td>0</td>\n",
       "      <td>2</td>\n",
       "      <td>2</td>\n",
       "      <td>5</td>\n",
       "      <td>0</td>\n",
       "      <td>1</td>\n",
       "      <td>0</td>\n",
       "      <td>2</td>\n",
       "      <td>4</td>\n",
       "    </tr>\n",
       "    <tr>\n",
       "      <th>AAAAAAATCTTAGT</th>\n",
       "      <td>0</td>\n",
       "      <td>0</td>\n",
       "      <td>0</td>\n",
       "      <td>0</td>\n",
       "      <td>0</td>\n",
       "      <td>0</td>\n",
       "      <td>0</td>\n",
       "      <td>0</td>\n",
       "      <td>0</td>\n",
       "      <td>0</td>\n",
       "      <td>...</td>\n",
       "      <td>0</td>\n",
       "      <td>0</td>\n",
       "      <td>0</td>\n",
       "      <td>0</td>\n",
       "      <td>0</td>\n",
       "      <td>0</td>\n",
       "      <td>0</td>\n",
       "      <td>0</td>\n",
       "      <td>0</td>\n",
       "      <td>0</td>\n",
       "    </tr>\n",
       "    <tr>\n",
       "      <th>AAAAAACATCTTTC</th>\n",
       "      <td>0</td>\n",
       "      <td>0</td>\n",
       "      <td>0</td>\n",
       "      <td>0</td>\n",
       "      <td>0</td>\n",
       "      <td>0</td>\n",
       "      <td>0</td>\n",
       "      <td>0</td>\n",
       "      <td>0</td>\n",
       "      <td>0</td>\n",
       "      <td>...</td>\n",
       "      <td>0</td>\n",
       "      <td>0</td>\n",
       "      <td>0</td>\n",
       "      <td>0</td>\n",
       "      <td>0</td>\n",
       "      <td>0</td>\n",
       "      <td>0</td>\n",
       "      <td>0</td>\n",
       "      <td>1</td>\n",
       "      <td>0</td>\n",
       "    </tr>\n",
       "    <tr>\n",
       "      <th>AAAAAACGAAATAG</th>\n",
       "      <td>0</td>\n",
       "      <td>0</td>\n",
       "      <td>0</td>\n",
       "      <td>0</td>\n",
       "      <td>0</td>\n",
       "      <td>0</td>\n",
       "      <td>0</td>\n",
       "      <td>0</td>\n",
       "      <td>0</td>\n",
       "      <td>0</td>\n",
       "      <td>...</td>\n",
       "      <td>0</td>\n",
       "      <td>0</td>\n",
       "      <td>1</td>\n",
       "      <td>0</td>\n",
       "      <td>0</td>\n",
       "      <td>0</td>\n",
       "      <td>0</td>\n",
       "      <td>0</td>\n",
       "      <td>0</td>\n",
       "      <td>0</td>\n",
       "    </tr>\n",
       "  </tbody>\n",
       "</table>\n",
       "<p>5 rows × 1222 columns</p>\n",
       "</div>"
      ],
      "text/plain": [
       "                1110008P14Rik  1500009C09Rik  1500012F01Rik  1700020I14Rik  \\\n",
       "AAAAAAAGGTAGTA              0              0              0              0   \n",
       "AAAAAAAGTCCCAA              0              0              0              0   \n",
       "AAAAAAATCTTAGT              0              0              0              0   \n",
       "AAAAAACATCTTTC              0              0              0              0   \n",
       "AAAAAACGAAATAG              0              0              0              0   \n",
       "\n",
       "                2010107E04Rik  2010300C02Rik  2210016L21Rik  2310036O22Rik  \\\n",
       "AAAAAAAGGTAGTA              0              0              0              0   \n",
       "AAAAAAAGTCCCAA              0              0              0              0   \n",
       "AAAAAAATCTTAGT              0              0              0              0   \n",
       "AAAAAACATCTTTC              0              0              0              0   \n",
       "AAAAAACGAAATAG              0              0              0              0   \n",
       "\n",
       "                2900011O08Rik  3110035E14Rik  ...  Zrsr1  Zwint  mt-Co1  \\\n",
       "AAAAAAAGGTAGTA              0              0  ...      0      0       0   \n",
       "AAAAAAAGTCCCAA              0              0  ...      0      0       2   \n",
       "AAAAAAATCTTAGT              0              0  ...      0      0       0   \n",
       "AAAAAACATCTTTC              0              0  ...      0      0       0   \n",
       "AAAAAACGAAATAG              0              0  ...      0      0       1   \n",
       "\n",
       "                mt-Cytb  mt-Nd1  mt-Nd2  mt-Nd4  mt-Nd5  mt-Rnr1  mt-Rnr2  \n",
       "AAAAAAAGGTAGTA        0       0       0       0       0        1        0  \n",
       "AAAAAAAGTCCCAA        2       5       0       1       0        2        4  \n",
       "AAAAAAATCTTAGT        0       0       0       0       0        0        0  \n",
       "AAAAAACATCTTTC        0       0       0       0       0        1        0  \n",
       "AAAAAACGAAATAG        0       0       0       0       0        0        0  \n",
       "\n",
       "[5 rows x 1222 columns]"
      ]
     },
     "execution_count": 5,
     "metadata": {},
     "output_type": "execute_result"
    }
   ],
   "source": [
    "bead_reads_subset = pd.read_csv('./data/bead_reads_subset.csv', index_col='Unnamed: 0')\n",
    "bead_reads_subset.head()"
   ]
  },
  {
   "cell_type": "code",
   "execution_count": 6,
   "id": "cfa978b0",
   "metadata": {
    "execution": {
     "iopub.execute_input": "2022-04-25T18:18:30.733566Z",
     "iopub.status.busy": "2022-04-25T18:18:30.733199Z",
     "iopub.status.idle": "2022-04-25T18:18:31.297954Z",
     "shell.execute_reply": "2022-04-25T18:18:31.297576Z"
    },
    "papermill": {
     "duration": 0.583767,
     "end_time": "2022-04-25T18:18:31.298051",
     "exception": false,
     "start_time": "2022-04-25T18:18:30.714284",
     "status": "completed"
    },
    "tags": []
   },
   "outputs": [],
   "source": [
    "data_scipy_sparse = scipy.sparse.coo_matrix( bead_reads_subset.to_numpy() )"
   ]
  },
  {
   "cell_type": "code",
   "execution_count": 7,
   "id": "a757c76e",
   "metadata": {
    "execution": {
     "iopub.execute_input": "2022-04-25T18:18:31.334070Z",
     "iopub.status.busy": "2022-04-25T18:18:31.333704Z",
     "iopub.status.idle": "2022-04-25T18:18:41.349299Z",
     "shell.execute_reply": "2022-04-25T18:18:41.348959Z"
    },
    "papermill": {
     "duration": 10.034023,
     "end_time": "2022-04-25T18:18:41.349387",
     "exception": false,
     "start_time": "2022-04-25T18:18:31.315364",
     "status": "completed"
    },
    "tags": []
   },
   "outputs": [],
   "source": [
    "data_sparse_tensor = scipy_sparse_to_pytorch_sparse(data_scipy_sparse).to(device=device)"
   ]
  },
  {
   "cell_type": "code",
   "execution_count": 8,
   "id": "7772ff81",
   "metadata": {
    "execution": {
     "iopub.execute_input": "2022-04-25T18:18:41.389154Z",
     "iopub.status.busy": "2022-04-25T18:18:41.388779Z",
     "iopub.status.idle": "2022-04-25T18:18:41.395516Z",
     "shell.execute_reply": "2022-04-25T18:18:41.395159Z"
    },
    "papermill": {
     "duration": 0.026124,
     "end_time": "2022-04-25T18:18:41.395591",
     "exception": false,
     "start_time": "2022-04-25T18:18:41.369467",
     "status": "completed"
    },
    "tags": []
   },
   "outputs": [
    {
     "data": {
      "text/plain": [
       "tensor(indices=tensor([[    0,     0,     0,  ..., 53207, 53207, 53207],\n",
       "                       [   84,   412,   528,  ...,  1219,  1220,  1221]]),\n",
       "       values=tensor([ 1.,  1.,  1.,  ..., 12., 26., 71.]),\n",
       "       device='cuda:0', size=(53208, 1222), nnz=9552845, layout=torch.sparse_coo)"
      ]
     },
     "execution_count": 8,
     "metadata": {},
     "output_type": "execute_result"
    }
   ],
   "source": [
    "data_sparse_tensor"
   ]
  },
  {
   "cell_type": "code",
   "execution_count": 9,
   "id": "ac4e2f2b",
   "metadata": {
    "execution": {
     "iopub.execute_input": "2022-04-25T18:18:41.430867Z",
     "iopub.status.busy": "2022-04-25T18:18:41.430506Z",
     "iopub.status.idle": "2022-04-25T18:18:41.436264Z",
     "shell.execute_reply": "2022-04-25T18:18:41.435956Z"
    },
    "papermill": {
     "duration": 0.02439,
     "end_time": "2022-04-25T18:18:41.436338",
     "exception": false,
     "start_time": "2022-04-25T18:18:41.411948",
     "status": "completed"
    },
    "tags": []
   },
   "outputs": [],
   "source": [
    "data_dense_tensor = data_sparse_tensor.to_dense()"
   ]
  },
  {
   "cell_type": "code",
   "execution_count": 10,
   "id": "c1358462",
   "metadata": {
    "execution": {
     "iopub.execute_input": "2022-04-25T18:18:41.474698Z",
     "iopub.status.busy": "2022-04-25T18:18:41.474347Z",
     "iopub.status.idle": "2022-04-25T18:18:41.602123Z",
     "shell.execute_reply": "2022-04-25T18:18:41.601739Z"
    },
    "papermill": {
     "duration": 0.148924,
     "end_time": "2022-04-25T18:18:41.602216",
     "exception": false,
     "start_time": "2022-04-25T18:18:41.453292",
     "status": "completed"
    },
    "tags": []
   },
   "outputs": [],
   "source": [
    "mask_scipy_sparse = (data_scipy_sparse != 0).astype(np.int64).tocoo()"
   ]
  },
  {
   "cell_type": "code",
   "execution_count": 11,
   "id": "91123b27",
   "metadata": {
    "execution": {
     "iopub.execute_input": "2022-04-25T18:18:41.635939Z",
     "iopub.status.busy": "2022-04-25T18:18:41.635568Z",
     "iopub.status.idle": "2022-04-25T18:18:41.681273Z",
     "shell.execute_reply": "2022-04-25T18:18:41.680884Z"
    },
    "papermill": {
     "duration": 0.063501,
     "end_time": "2022-04-25T18:18:41.681365",
     "exception": false,
     "start_time": "2022-04-25T18:18:41.617864",
     "status": "completed"
    },
    "tags": []
   },
   "outputs": [],
   "source": [
    "mask_sparse_tensor = scipy_sparse_to_pytorch_sparse(mask_scipy_sparse)"
   ]
  },
  {
   "cell_type": "code",
   "execution_count": 12,
   "id": "a592d129",
   "metadata": {
    "execution": {
     "iopub.execute_input": "2022-04-25T18:18:41.715197Z",
     "iopub.status.busy": "2022-04-25T18:18:41.714773Z",
     "iopub.status.idle": "2022-04-25T18:18:42.642154Z",
     "shell.execute_reply": "2022-04-25T18:18:42.641800Z"
    },
    "papermill": {
     "duration": 0.945398,
     "end_time": "2022-04-25T18:18:42.642246",
     "exception": false,
     "start_time": "2022-04-25T18:18:41.696848",
     "status": "completed"
    },
    "tags": []
   },
   "outputs": [],
   "source": [
    "mask_dense_tensor = mask_sparse_tensor.to_dense().bool()"
   ]
  },
  {
   "cell_type": "code",
   "execution_count": 13,
   "id": "0eea860d",
   "metadata": {
    "execution": {
     "iopub.execute_input": "2022-04-25T18:18:42.684582Z",
     "iopub.status.busy": "2022-04-25T18:18:42.684212Z",
     "iopub.status.idle": "2022-04-25T18:19:23.128897Z",
     "shell.execute_reply": "2022-04-25T18:19:23.128378Z"
    },
    "papermill": {
     "duration": 40.468577,
     "end_time": "2022-04-25T18:19:23.128996",
     "exception": false,
     "start_time": "2022-04-25T18:18:42.660419",
     "status": "completed"
    },
    "tags": []
   },
   "outputs": [],
   "source": [
    "distances = np.load('./data/macosko_distance_matrix.npy')"
   ]
  },
  {
   "cell_type": "code",
   "execution_count": 14,
   "id": "bc8a2bd3",
   "metadata": {
    "execution": {
     "iopub.execute_input": "2022-04-25T18:19:23.168331Z",
     "iopub.status.busy": "2022-04-25T18:19:23.166603Z",
     "iopub.status.idle": "2022-04-25T18:19:31.058220Z",
     "shell.execute_reply": "2022-04-25T18:19:31.058609Z"
    },
    "papermill": {
     "duration": 7.911294,
     "end_time": "2022-04-25T18:19:31.058745",
     "exception": false,
     "start_time": "2022-04-25T18:19:23.147451",
     "status": "completed"
    },
    "tags": []
   },
   "outputs": [],
   "source": [
    "adjacency = scipy.sparse.coo_matrix( distances <= 20 , dtype=np.float32)\n",
    "degree = scipy.sparse.diags( adjacency.sum(axis=0).A1 )\n",
    "laplacian = (degree - adjacency).tocoo()"
   ]
  },
  {
   "cell_type": "code",
   "execution_count": 15,
   "id": "4dc0d895",
   "metadata": {
    "execution": {
     "iopub.execute_input": "2022-04-25T18:19:31.104214Z",
     "iopub.status.busy": "2022-04-25T18:19:31.103830Z",
     "iopub.status.idle": "2022-04-25T18:19:31.107824Z",
     "shell.execute_reply": "2022-04-25T18:19:31.107506Z"
    },
    "papermill": {
     "duration": 0.031786,
     "end_time": "2022-04-25T18:19:31.107913",
     "exception": false,
     "start_time": "2022-04-25T18:19:31.076127",
     "status": "completed"
    },
    "tags": []
   },
   "outputs": [],
   "source": [
    "adjacency_sparse_tensor = scipy_sparse_to_pytorch_sparse(adjacency)"
   ]
  },
  {
   "cell_type": "code",
   "execution_count": 16,
   "id": "890c394c",
   "metadata": {
    "execution": {
     "iopub.execute_input": "2022-04-25T18:19:31.173268Z",
     "iopub.status.busy": "2022-04-25T18:19:31.172818Z",
     "iopub.status.idle": "2022-04-25T18:19:33.482550Z",
     "shell.execute_reply": "2022-04-25T18:19:33.482884Z"
    },
    "papermill": {
     "duration": 2.348125,
     "end_time": "2022-04-25T18:19:33.483003",
     "exception": false,
     "start_time": "2022-04-25T18:19:31.134878",
     "status": "completed"
    },
    "tags": []
   },
   "outputs": [],
   "source": [
    "adjacency_dense_tensor = adjacency_sparse_tensor.to_dense()"
   ]
  },
  {
   "cell_type": "code",
   "execution_count": 17,
   "id": "ca22eebc",
   "metadata": {
    "execution": {
     "iopub.execute_input": "2022-04-25T18:19:33.525771Z",
     "iopub.status.busy": "2022-04-25T18:19:33.525409Z",
     "iopub.status.idle": "2022-04-25T18:19:33.527010Z",
     "shell.execute_reply": "2022-04-25T18:19:33.526652Z"
    },
    "papermill": {
     "duration": 0.028042,
     "end_time": "2022-04-25T18:19:33.527085",
     "exception": false,
     "start_time": "2022-04-25T18:19:33.499043",
     "status": "completed"
    },
    "tags": []
   },
   "outputs": [],
   "source": [
    "def laplacian_loss(x, x_lap):\n",
    "    \n",
    "    lap_sum = 0\n",
    "    for ii in range(x.shape[1]):\n",
    "        lap_sum = lap_sum + (x[:,ii].T @ x_lap @ x[:,ii])\n",
    "        \n",
    "    return lap_sum"
   ]
  },
  {
   "cell_type": "code",
   "execution_count": 18,
   "id": "7ae77554",
   "metadata": {
    "execution": {
     "iopub.execute_input": "2022-04-25T18:19:33.572823Z",
     "iopub.status.busy": "2022-04-25T18:19:33.569066Z",
     "iopub.status.idle": "2022-04-25T18:19:33.589191Z",
     "shell.execute_reply": "2022-04-25T18:19:33.588788Z"
    },
    "papermill": {
     "duration": 0.037594,
     "end_time": "2022-04-25T18:19:33.589271",
     "exception": false,
     "start_time": "2022-04-25T18:19:33.551677",
     "status": "completed"
    },
    "tags": []
   },
   "outputs": [],
   "source": [
    "mf = MatrixFactorization(mask_sparse_tensor.shape[0], mask_sparse_tensor.shape[1], DECOMP_RANK).to(device=device)"
   ]
  },
  {
   "cell_type": "code",
   "execution_count": 19,
   "id": "c7669631",
   "metadata": {
    "execution": {
     "iopub.execute_input": "2022-04-25T18:19:33.633144Z",
     "iopub.status.busy": "2022-04-25T18:19:33.632764Z",
     "iopub.status.idle": "2022-04-25T18:19:33.634254Z",
     "shell.execute_reply": "2022-04-25T18:19:33.634554Z"
    },
    "papermill": {
     "duration": 0.028961,
     "end_time": "2022-04-25T18:19:33.634651",
     "exception": false,
     "start_time": "2022-04-25T18:19:33.605690",
     "status": "completed"
    },
    "tags": []
   },
   "outputs": [],
   "source": [
    "import torch.optim as optim\n",
    "\n",
    "optimizer = optim.Adam(mf.parameters(), lr=0.001)"
   ]
  },
  {
   "cell_type": "code",
   "execution_count": 20,
   "id": "575589d4",
   "metadata": {
    "execution": {
     "iopub.execute_input": "2022-04-25T18:19:33.691877Z",
     "iopub.status.busy": "2022-04-25T18:19:33.691508Z",
     "iopub.status.idle": "2022-04-25T19:21:03.239361Z",
     "shell.execute_reply": "2022-04-25T19:21:03.239795Z"
    },
    "papermill": {
     "duration": 3689.580487,
     "end_time": "2022-04-25T19:21:03.239923",
     "exception": false,
     "start_time": "2022-04-25T18:19:33.659436",
     "status": "completed"
    },
    "tags": []
   },
   "outputs": [
    {
     "name": "stdout",
     "output_type": "stream",
     "text": [
      "0\n",
      "215980310.0\n"
     ]
    },
    {
     "name": "stdout",
     "output_type": "stream",
     "text": [
      "1\n",
      "215790791.0\n"
     ]
    },
    {
     "name": "stdout",
     "output_type": "stream",
     "text": [
      "2\n",
      "215301634.0\n"
     ]
    },
    {
     "name": "stdout",
     "output_type": "stream",
     "text": [
      "3\n",
      "214379229.0\n"
     ]
    },
    {
     "name": "stdout",
     "output_type": "stream",
     "text": [
      "4\n",
      "212950698.0\n"
     ]
    },
    {
     "name": "stdout",
     "output_type": "stream",
     "text": [
      "5\n",
      "211009429.0\n"
     ]
    },
    {
     "name": "stdout",
     "output_type": "stream",
     "text": [
      "6\n",
      "208580189.0\n"
     ]
    },
    {
     "name": "stdout",
     "output_type": "stream",
     "text": [
      "7\n",
      "205748873.0\n"
     ]
    },
    {
     "name": "stdout",
     "output_type": "stream",
     "text": [
      "8\n",
      "202609767.0\n"
     ]
    },
    {
     "name": "stdout",
     "output_type": "stream",
     "text": [
      "9\n",
      "199342809.0\n"
     ]
    },
    {
     "name": "stdout",
     "output_type": "stream",
     "text": [
      "10\n",
      "196064162.0\n"
     ]
    },
    {
     "name": "stdout",
     "output_type": "stream",
     "text": [
      "11\n",
      "192948137.0\n"
     ]
    },
    {
     "name": "stdout",
     "output_type": "stream",
     "text": [
      "12\n",
      "190080347.0\n"
     ]
    },
    {
     "name": "stdout",
     "output_type": "stream",
     "text": [
      "13\n",
      "187551339.0\n"
     ]
    },
    {
     "name": "stdout",
     "output_type": "stream",
     "text": [
      "14\n",
      "185374429.0\n"
     ]
    },
    {
     "name": "stdout",
     "output_type": "stream",
     "text": [
      "15\n",
      "183502587.0\n"
     ]
    },
    {
     "name": "stdout",
     "output_type": "stream",
     "text": [
      "16\n",
      "181874465.0\n"
     ]
    },
    {
     "name": "stdout",
     "output_type": "stream",
     "text": [
      "17\n",
      "180417488.0\n"
     ]
    },
    {
     "name": "stdout",
     "output_type": "stream",
     "text": [
      "18\n",
      "179081084.0\n"
     ]
    },
    {
     "name": "stdout",
     "output_type": "stream",
     "text": [
      "19\n",
      "177813325.5\n"
     ]
    },
    {
     "name": "stdout",
     "output_type": "stream",
     "text": [
      "20\n",
      "176619185.0\n"
     ]
    },
    {
     "name": "stdout",
     "output_type": "stream",
     "text": [
      "21\n",
      "175470095.5\n"
     ]
    },
    {
     "name": "stdout",
     "output_type": "stream",
     "text": [
      "22\n",
      "174354152.0\n"
     ]
    },
    {
     "name": "stdout",
     "output_type": "stream",
     "text": [
      "23\n",
      "173279794.0\n"
     ]
    },
    {
     "name": "stdout",
     "output_type": "stream",
     "text": [
      "24\n",
      "172236694.0\n"
     ]
    },
    {
     "name": "stdout",
     "output_type": "stream",
     "text": [
      "25\n",
      "171219879.0\n"
     ]
    },
    {
     "name": "stdout",
     "output_type": "stream",
     "text": [
      "26\n",
      "170223262.0\n"
     ]
    },
    {
     "name": "stdout",
     "output_type": "stream",
     "text": [
      "27\n",
      "169248376.0\n"
     ]
    },
    {
     "name": "stdout",
     "output_type": "stream",
     "text": [
      "28\n",
      "168294917.0\n"
     ]
    },
    {
     "name": "stdout",
     "output_type": "stream",
     "text": [
      "29\n",
      "167357663.0\n"
     ]
    },
    {
     "name": "stdout",
     "output_type": "stream",
     "text": [
      "30\n",
      "166438080.0\n"
     ]
    },
    {
     "name": "stdout",
     "output_type": "stream",
     "text": [
      "31\n",
      "165535441.0\n"
     ]
    },
    {
     "name": "stdout",
     "output_type": "stream",
     "text": [
      "32\n",
      "164639289.0\n"
     ]
    },
    {
     "name": "stdout",
     "output_type": "stream",
     "text": [
      "33\n",
      "163762964.0\n"
     ]
    },
    {
     "name": "stdout",
     "output_type": "stream",
     "text": [
      "34\n",
      "162901131.0\n"
     ]
    },
    {
     "name": "stdout",
     "output_type": "stream",
     "text": [
      "35\n",
      "162046664.0\n"
     ]
    },
    {
     "name": "stdout",
     "output_type": "stream",
     "text": [
      "36\n",
      "161200686.0\n"
     ]
    },
    {
     "name": "stdout",
     "output_type": "stream",
     "text": [
      "37\n",
      "160376619.0\n"
     ]
    },
    {
     "name": "stdout",
     "output_type": "stream",
     "text": [
      "38\n",
      "159556398.0\n"
     ]
    },
    {
     "name": "stdout",
     "output_type": "stream",
     "text": [
      "39\n",
      "158746287.5\n"
     ]
    },
    {
     "name": "stdout",
     "output_type": "stream",
     "text": [
      "40\n",
      "157952462.0\n"
     ]
    },
    {
     "name": "stdout",
     "output_type": "stream",
     "text": [
      "41\n",
      "157160503.0\n"
     ]
    },
    {
     "name": "stdout",
     "output_type": "stream",
     "text": [
      "42\n",
      "156382059.0\n"
     ]
    },
    {
     "name": "stdout",
     "output_type": "stream",
     "text": [
      "43\n",
      "155616551.5\n"
     ]
    },
    {
     "name": "stdout",
     "output_type": "stream",
     "text": [
      "44\n",
      "154858123.0\n"
     ]
    },
    {
     "name": "stdout",
     "output_type": "stream",
     "text": [
      "45\n",
      "154118589.0\n"
     ]
    },
    {
     "name": "stdout",
     "output_type": "stream",
     "text": [
      "46\n",
      "153380097.0\n"
     ]
    },
    {
     "name": "stdout",
     "output_type": "stream",
     "text": [
      "47\n",
      "152647550.0\n"
     ]
    },
    {
     "name": "stdout",
     "output_type": "stream",
     "text": [
      "48\n",
      "151934525.5\n"
     ]
    },
    {
     "name": "stdout",
     "output_type": "stream",
     "text": [
      "49\n",
      "151233910.5\n"
     ]
    }
   ],
   "source": [
    "losses = []\n",
    "\n",
    "for epoch in range(50):\n",
    "    \n",
    "    batcher = data_adjacency_batcher(data_dense_tensor, adjacency_dense_tensor, 5000)\n",
    "    \n",
    "    total_loss = 0\n",
    "    \n",
    "    \n",
    "    for (data_batch, mask_batch, adjacency_batch, row_batch) in batcher:\n",
    "        \n",
    "        \n",
    "        \n",
    "        data_batch = data_batch.to(device=device)\n",
    "        mask_batch = mask_batch.to(device=device)\n",
    "        adjacency_batch = adjacency_batch.to(device=device)\n",
    "        row_batch = row_batch.to(device=device)\n",
    "        \n",
    "        laplacian_tensor = adjacency_to_laplacian(adjacency_batch).to(device=device)\n",
    "    \n",
    "        optimizer.zero_grad()\n",
    "\n",
    "        output = mf.forward(row_batch, torch.arange(0, data_batch.shape[1]))\n",
    "        \n",
    "        L1_laplacian_tensor = adjacency_to_laplacian(adjacency_to_L1_adjacency(output, adjacency_batch, 0.001, device)).to(device=device)\n",
    "        \n",
    "        loss = squared_loss(data_batch[mask_batch], output[mask_batch]) + LAPLACIAN_PARAM*laplacian_loss(output, laplacian_tensor) + TV_PARAM*laplacian_loss(output, L1_laplacian_tensor)\n",
    "        loss.backward()\n",
    "        optimizer.step()\n",
    "        \n",
    "        total_loss += loss.item()\n",
    "        \n",
    "\n",
    "    if epoch % 1 == 0:\n",
    "        print(epoch)\n",
    "        print(total_loss)\n",
    "        \n",
    "    losses.append(total_loss)"
   ]
  },
  {
   "cell_type": "code",
   "execution_count": 21,
   "id": "88126a45",
   "metadata": {
    "execution": {
     "iopub.execute_input": "2022-04-25T19:21:03.329052Z",
     "iopub.status.busy": "2022-04-25T19:21:03.317372Z",
     "iopub.status.idle": "2022-04-25T19:21:03.342834Z",
     "shell.execute_reply": "2022-04-25T19:21:03.343133Z"
    },
    "papermill": {
     "duration": 0.063836,
     "end_time": "2022-04-25T19:21:03.343214",
     "exception": false,
     "start_time": "2022-04-25T19:21:03.279378",
     "status": "completed"
    },
    "tags": []
   },
   "outputs": [
    {
     "data": {
      "text/plain": [
       "8226232.5"
      ]
     },
     "execution_count": 21,
     "metadata": {},
     "output_type": "execute_result"
    }
   ],
   "source": [
    "loss.item()"
   ]
  },
  {
   "cell_type": "code",
   "execution_count": 22,
   "id": "5ec41b7d",
   "metadata": {
    "execution": {
     "iopub.execute_input": "2022-04-25T19:21:03.399784Z",
     "iopub.status.busy": "2022-04-25T19:21:03.399431Z",
     "iopub.status.idle": "2022-04-25T19:21:03.524368Z",
     "shell.execute_reply": "2022-04-25T19:21:03.523961Z"
    },
    "papermill": {
     "duration": 0.155407,
     "end_time": "2022-04-25T19:21:03.524445",
     "exception": false,
     "start_time": "2022-04-25T19:21:03.369038",
     "status": "completed"
    },
    "tags": []
   },
   "outputs": [],
   "source": [
    "np.save(f'./results/loss_curves/mf_rank{DECOMP_RANK}_L{LAPLACIAN_PARAM}_TV{TV_PARAM}_losses', np.array(losses))"
   ]
  },
  {
   "cell_type": "code",
   "execution_count": 23,
   "id": "54bd6c16",
   "metadata": {
    "execution": {
     "iopub.execute_input": "2022-04-25T19:21:03.589069Z",
     "iopub.status.busy": "2022-04-25T19:21:03.588696Z",
     "iopub.status.idle": "2022-04-25T19:21:03.743559Z",
     "shell.execute_reply": "2022-04-25T19:21:03.743172Z"
    },
    "papermill": {
     "duration": 0.183533,
     "end_time": "2022-04-25T19:21:03.743641",
     "exception": false,
     "start_time": "2022-04-25T19:21:03.560108",
     "status": "completed"
    },
    "tags": []
   },
   "outputs": [],
   "source": [
    "torch.save(mf.state_dict(), f'./results/saved_models/mf_rank{DECOMP_RANK}_L{LAPLACIAN_PARAM}_TV{TV_PARAM}_state')"
   ]
  },
  {
   "cell_type": "code",
   "execution_count": 24,
   "id": "17833f77",
   "metadata": {
    "execution": {
     "iopub.execute_input": "2022-04-25T19:21:03.807927Z",
     "iopub.status.busy": "2022-04-25T19:21:03.807467Z",
     "iopub.status.idle": "2022-04-25T19:25:08.548622Z",
     "shell.execute_reply": "2022-04-25T19:25:08.540103Z"
    },
    "papermill": {
     "duration": 244.783609,
     "end_time": "2022-04-25T19:25:08.552717",
     "exception": false,
     "start_time": "2022-04-25T19:21:03.769108",
     "status": "completed"
    },
    "tags": []
   },
   "outputs": [],
   "source": [
    "final_output = mf.forward(torch.arange(0, data_dense_tensor.shape[0]), torch.arange(0, data_dense_tensor.shape[1]))\n",
    "\n",
    "final_squared_error = squared_loss(data_dense_tensor, final_output)\n",
    "final_laplacian = laplacian_loss(final_output, adjacency_to_laplacian(adjacency_dense_tensor).to(device=device))\n",
    "final_TV =  laplacian_loss(final_output, adjacency_to_laplacian(adjacency_to_L1_adjacency(final_output, adjacency_dense_tensor, 0.001, device)).to(device=device))"
   ]
  },
  {
   "cell_type": "code",
   "execution_count": 25,
   "id": "83afcfd0",
   "metadata": {
    "execution": {
     "iopub.execute_input": "2022-04-25T19:25:08.710952Z",
     "iopub.status.busy": "2022-04-25T19:25:08.705645Z",
     "iopub.status.idle": "2022-04-25T19:25:09.648020Z",
     "shell.execute_reply": "2022-04-25T19:25:09.646867Z"
    },
    "papermill": {
     "duration": 1.004773,
     "end_time": "2022-04-25T19:25:09.648146",
     "exception": false,
     "start_time": "2022-04-25T19:25:08.643373",
     "status": "completed"
    },
    "tags": []
   },
   "outputs": [],
   "source": [
    "np.save(f'./results/final_losses/mf_rank{DECOMP_RANK}_L{LAPLACIAN_PARAM}_TV{TV_PARAM}_losses', np.array([final_squared_error.item(), final_laplacian.item(), final_TV.item()]))"
   ]
  },
  {
   "cell_type": "code",
   "execution_count": null,
   "id": "c83a5378",
   "metadata": {
    "papermill": {
     "duration": 0.026364,
     "end_time": "2022-04-25T19:25:09.765258",
     "exception": false,
     "start_time": "2022-04-25T19:25:09.738894",
     "status": "completed"
    },
    "tags": []
   },
   "outputs": [],
   "source": []
  }
 ],
 "metadata": {
  "interpreter": {
   "hash": "22ee4ece52021b4a120b95b326dd7a4d7938576e919f53927a7959ab5d7e1e45"
  },
  "kernelspec": {
   "display_name": "spatialSFT",
   "language": "python",
   "name": "spatialsft"
  },
  "language_info": {
   "codemirror_mode": {
    "name": "ipython",
    "version": 3
   },
   "file_extension": ".py",
   "mimetype": "text/x-python",
   "name": "python",
   "nbconvert_exporter": "python",
   "pygments_lexer": "ipython3",
   "version": "3.8.0"
  },
  "papermill": {
   "default_parameters": {},
   "duration": 4047.880669,
   "end_time": "2022-04-25T19:25:16.903155",
   "environment_variables": {},
   "exception": null,
   "input_path": "./notebooks/mf_param_template.ipynb",
   "output_path": "./papermill_output/mf_param_template_rank100_lap0.0001_tv0.01.ipynb",
   "parameters": {
    "DECOMP_RANK": 100,
    "LAPLACIAN_PARAM": 0.0001,
    "TV_PARAM": 0.01
   },
   "start_time": "2022-04-25T18:17:49.022486",
   "version": "2.3.4"
  }
 },
 "nbformat": 4,
 "nbformat_minor": 5
}