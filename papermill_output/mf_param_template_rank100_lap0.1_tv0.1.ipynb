{
 "cells": [
  {
   "cell_type": "markdown",
   "id": "6f797500",
   "metadata": {
    "papermill": {
     "duration": 0.016484,
     "end_time": "2022-04-25T00:59:00.187075",
     "exception": false,
     "start_time": "2022-04-25T00:59:00.170591",
     "status": "completed"
    },
    "tags": []
   },
   "source": [
    "### setup"
   ]
  },
  {
   "cell_type": "code",
   "execution_count": 1,
   "id": "4a857a4e",
   "metadata": {
    "execution": {
     "iopub.execute_input": "2022-04-25T00:59:00.225712Z",
     "iopub.status.busy": "2022-04-25T00:59:00.225080Z",
     "iopub.status.idle": "2022-04-25T00:59:06.465856Z",
     "shell.execute_reply": "2022-04-25T00:59:06.465403Z"
    },
    "papermill": {
     "duration": 6.264436,
     "end_time": "2022-04-25T00:59:06.465962",
     "exception": false,
     "start_time": "2022-04-25T00:59:00.201526",
     "status": "completed"
    },
    "tags": []
   },
   "outputs": [],
   "source": [
    "import numpy as np \n",
    "import matplotlib.pyplot as plt\n",
    "import pandas as pd\n",
    "\n",
    "import scipy\n",
    "\n",
    "\n",
    "from utils import *\n",
    "from pytorch_sparse_utils import *\n",
    "\n",
    "\n",
    "import torch\n",
    "from torch import nn\n",
    "import torch.nn.functional as F"
   ]
  },
  {
   "cell_type": "markdown",
   "id": "d7b2c3e7",
   "metadata": {
    "papermill": {
     "duration": 0.014032,
     "end_time": "2022-04-25T00:59:06.499176",
     "exception": false,
     "start_time": "2022-04-25T00:59:06.485144",
     "status": "completed"
    },
    "tags": []
   },
   "source": [
    "### set parameters"
   ]
  },
  {
   "cell_type": "code",
   "execution_count": 2,
   "id": "805c87f9",
   "metadata": {
    "execution": {
     "iopub.execute_input": "2022-04-25T00:59:06.530255Z",
     "iopub.status.busy": "2022-04-25T00:59:06.529862Z",
     "iopub.status.idle": "2022-04-25T00:59:06.532249Z",
     "shell.execute_reply": "2022-04-25T00:59:06.531943Z"
    },
    "papermill": {
     "duration": 0.01875,
     "end_time": "2022-04-25T00:59:06.532321",
     "exception": false,
     "start_time": "2022-04-25T00:59:06.513571",
     "status": "completed"
    },
    "tags": [
     "parameters"
    ]
   },
   "outputs": [],
   "source": [
    "DECOMP_RANK = 10\n",
    "LAPLACIAN_PARAM = 0.001\n",
    "TV_PARAM = 0.001"
   ]
  },
  {
   "cell_type": "code",
   "execution_count": 3,
   "id": "5e58a950",
   "metadata": {
    "execution": {
     "iopub.execute_input": "2022-04-25T00:59:06.562088Z",
     "iopub.status.busy": "2022-04-25T00:59:06.561480Z",
     "iopub.status.idle": "2022-04-25T00:59:06.564818Z",
     "shell.execute_reply": "2022-04-25T00:59:06.564410Z"
    },
    "papermill": {
     "duration": 0.018632,
     "end_time": "2022-04-25T00:59:06.564904",
     "exception": false,
     "start_time": "2022-04-25T00:59:06.546272",
     "status": "completed"
    },
    "tags": [
     "injected-parameters"
    ]
   },
   "outputs": [],
   "source": [
    "# Parameters\n",
    "DECOMP_RANK = 100\n",
    "LAPLACIAN_PARAM = 0.1\n",
    "TV_PARAM = 0.1\n"
   ]
  },
  {
   "cell_type": "code",
   "execution_count": 4,
   "id": "a336c509",
   "metadata": {
    "execution": {
     "iopub.execute_input": "2022-04-25T00:59:06.596386Z",
     "iopub.status.busy": "2022-04-25T00:59:06.595726Z",
     "iopub.status.idle": "2022-04-25T00:59:27.597058Z",
     "shell.execute_reply": "2022-04-25T00:59:27.597359Z"
    },
    "papermill": {
     "duration": 21.017225,
     "end_time": "2022-04-25T00:59:27.597465",
     "exception": false,
     "start_time": "2022-04-25T00:59:06.580240",
     "status": "completed"
    },
    "tags": []
   },
   "outputs": [
    {
     "name": "stdout",
     "output_type": "stream",
     "text": [
      "Using cuda device\n"
     ]
    }
   ],
   "source": [
    "device = 'cuda' if torch.cuda.is_available() else 'cpu'\n",
    "print('Using {} device'.format(device))"
   ]
  },
  {
   "cell_type": "markdown",
   "id": "030ea67e",
   "metadata": {
    "papermill": {
     "duration": 0.014291,
     "end_time": "2022-04-25T00:59:27.626976",
     "exception": false,
     "start_time": "2022-04-25T00:59:27.612685",
     "status": "completed"
    },
    "tags": []
   },
   "source": [
    "### loading data"
   ]
  },
  {
   "cell_type": "code",
   "execution_count": 5,
   "id": "56507b05",
   "metadata": {
    "execution": {
     "iopub.execute_input": "2022-04-25T00:59:27.661699Z",
     "iopub.status.busy": "2022-04-25T00:59:27.658703Z",
     "iopub.status.idle": "2022-04-25T00:59:29.997117Z",
     "shell.execute_reply": "2022-04-25T00:59:29.996727Z"
    },
    "papermill": {
     "duration": 2.355395,
     "end_time": "2022-04-25T00:59:29.997197",
     "exception": false,
     "start_time": "2022-04-25T00:59:27.641802",
     "status": "completed"
    },
    "tags": []
   },
   "outputs": [
    {
     "data": {
      "text/html": [
       "<div>\n",
       "<style scoped>\n",
       "    .dataframe tbody tr th:only-of-type {\n",
       "        vertical-align: middle;\n",
       "    }\n",
       "\n",
       "    .dataframe tbody tr th {\n",
       "        vertical-align: top;\n",
       "    }\n",
       "\n",
       "    .dataframe thead th {\n",
       "        text-align: right;\n",
       "    }\n",
       "</style>\n",
       "<table border=\"1\" class=\"dataframe\">\n",
       "  <thead>\n",
       "    <tr style=\"text-align: right;\">\n",
       "      <th></th>\n",
       "      <th>1110008P14Rik</th>\n",
       "      <th>1500009C09Rik</th>\n",
       "      <th>1500012F01Rik</th>\n",
       "      <th>1700020I14Rik</th>\n",
       "      <th>2010107E04Rik</th>\n",
       "      <th>2010300C02Rik</th>\n",
       "      <th>2210016L21Rik</th>\n",
       "      <th>2310036O22Rik</th>\n",
       "      <th>2900011O08Rik</th>\n",
       "      <th>3110035E14Rik</th>\n",
       "      <th>...</th>\n",
       "      <th>Zrsr1</th>\n",
       "      <th>Zwint</th>\n",
       "      <th>mt-Co1</th>\n",
       "      <th>mt-Cytb</th>\n",
       "      <th>mt-Nd1</th>\n",
       "      <th>mt-Nd2</th>\n",
       "      <th>mt-Nd4</th>\n",
       "      <th>mt-Nd5</th>\n",
       "      <th>mt-Rnr1</th>\n",
       "      <th>mt-Rnr2</th>\n",
       "    </tr>\n",
       "  </thead>\n",
       "  <tbody>\n",
       "    <tr>\n",
       "      <th>AAAAAAAGGTAGTA</th>\n",
       "      <td>0</td>\n",
       "      <td>0</td>\n",
       "      <td>0</td>\n",
       "      <td>0</td>\n",
       "      <td>0</td>\n",
       "      <td>0</td>\n",
       "      <td>0</td>\n",
       "      <td>0</td>\n",
       "      <td>0</td>\n",
       "      <td>0</td>\n",
       "      <td>...</td>\n",
       "      <td>0</td>\n",
       "      <td>0</td>\n",
       "      <td>0</td>\n",
       "      <td>0</td>\n",
       "      <td>0</td>\n",
       "      <td>0</td>\n",
       "      <td>0</td>\n",
       "      <td>0</td>\n",
       "      <td>1</td>\n",
       "      <td>0</td>\n",
       "    </tr>\n",
       "    <tr>\n",
       "      <th>AAAAAAAGTCCCAA</th>\n",
       "      <td>0</td>\n",
       "      <td>0</td>\n",
       "      <td>0</td>\n",
       "      <td>0</td>\n",
       "      <td>0</td>\n",
       "      <td>0</td>\n",
       "      <td>0</td>\n",
       "      <td>0</td>\n",
       "      <td>0</td>\n",
       "      <td>0</td>\n",
       "      <td>...</td>\n",
       "      <td>0</td>\n",
       "      <td>0</td>\n",
       "      <td>2</td>\n",
       "      <td>2</td>\n",
       "      <td>5</td>\n",
       "      <td>0</td>\n",
       "      <td>1</td>\n",
       "      <td>0</td>\n",
       "      <td>2</td>\n",
       "      <td>4</td>\n",
       "    </tr>\n",
       "    <tr>\n",
       "      <th>AAAAAAATCTTAGT</th>\n",
       "      <td>0</td>\n",
       "      <td>0</td>\n",
       "      <td>0</td>\n",
       "      <td>0</td>\n",
       "      <td>0</td>\n",
       "      <td>0</td>\n",
       "      <td>0</td>\n",
       "      <td>0</td>\n",
       "      <td>0</td>\n",
       "      <td>0</td>\n",
       "      <td>...</td>\n",
       "      <td>0</td>\n",
       "      <td>0</td>\n",
       "      <td>0</td>\n",
       "      <td>0</td>\n",
       "      <td>0</td>\n",
       "      <td>0</td>\n",
       "      <td>0</td>\n",
       "      <td>0</td>\n",
       "      <td>0</td>\n",
       "      <td>0</td>\n",
       "    </tr>\n",
       "    <tr>\n",
       "      <th>AAAAAACATCTTTC</th>\n",
       "      <td>0</td>\n",
       "      <td>0</td>\n",
       "      <td>0</td>\n",
       "      <td>0</td>\n",
       "      <td>0</td>\n",
       "      <td>0</td>\n",
       "      <td>0</td>\n",
       "      <td>0</td>\n",
       "      <td>0</td>\n",
       "      <td>0</td>\n",
       "      <td>...</td>\n",
       "      <td>0</td>\n",
       "      <td>0</td>\n",
       "      <td>0</td>\n",
       "      <td>0</td>\n",
       "      <td>0</td>\n",
       "      <td>0</td>\n",
       "      <td>0</td>\n",
       "      <td>0</td>\n",
       "      <td>1</td>\n",
       "      <td>0</td>\n",
       "    </tr>\n",
       "    <tr>\n",
       "      <th>AAAAAACGAAATAG</th>\n",
       "      <td>0</td>\n",
       "      <td>0</td>\n",
       "      <td>0</td>\n",
       "      <td>0</td>\n",
       "      <td>0</td>\n",
       "      <td>0</td>\n",
       "      <td>0</td>\n",
       "      <td>0</td>\n",
       "      <td>0</td>\n",
       "      <td>0</td>\n",
       "      <td>...</td>\n",
       "      <td>0</td>\n",
       "      <td>0</td>\n",
       "      <td>1</td>\n",
       "      <td>0</td>\n",
       "      <td>0</td>\n",
       "      <td>0</td>\n",
       "      <td>0</td>\n",
       "      <td>0</td>\n",
       "      <td>0</td>\n",
       "      <td>0</td>\n",
       "    </tr>\n",
       "  </tbody>\n",
       "</table>\n",
       "<p>5 rows × 1222 columns</p>\n",
       "</div>"
      ],
      "text/plain": [
       "                1110008P14Rik  1500009C09Rik  1500012F01Rik  1700020I14Rik  \\\n",
       "AAAAAAAGGTAGTA              0              0              0              0   \n",
       "AAAAAAAGTCCCAA              0              0              0              0   \n",
       "AAAAAAATCTTAGT              0              0              0              0   \n",
       "AAAAAACATCTTTC              0              0              0              0   \n",
       "AAAAAACGAAATAG              0              0              0              0   \n",
       "\n",
       "                2010107E04Rik  2010300C02Rik  2210016L21Rik  2310036O22Rik  \\\n",
       "AAAAAAAGGTAGTA              0              0              0              0   \n",
       "AAAAAAAGTCCCAA              0              0              0              0   \n",
       "AAAAAAATCTTAGT              0              0              0              0   \n",
       "AAAAAACATCTTTC              0              0              0              0   \n",
       "AAAAAACGAAATAG              0              0              0              0   \n",
       "\n",
       "                2900011O08Rik  3110035E14Rik  ...  Zrsr1  Zwint  mt-Co1  \\\n",
       "AAAAAAAGGTAGTA              0              0  ...      0      0       0   \n",
       "AAAAAAAGTCCCAA              0              0  ...      0      0       2   \n",
       "AAAAAAATCTTAGT              0              0  ...      0      0       0   \n",
       "AAAAAACATCTTTC              0              0  ...      0      0       0   \n",
       "AAAAAACGAAATAG              0              0  ...      0      0       1   \n",
       "\n",
       "                mt-Cytb  mt-Nd1  mt-Nd2  mt-Nd4  mt-Nd5  mt-Rnr1  mt-Rnr2  \n",
       "AAAAAAAGGTAGTA        0       0       0       0       0        1        0  \n",
       "AAAAAAAGTCCCAA        2       5       0       1       0        2        4  \n",
       "AAAAAAATCTTAGT        0       0       0       0       0        0        0  \n",
       "AAAAAACATCTTTC        0       0       0       0       0        1        0  \n",
       "AAAAAACGAAATAG        0       0       0       0       0        0        0  \n",
       "\n",
       "[5 rows x 1222 columns]"
      ]
     },
     "execution_count": 5,
     "metadata": {},
     "output_type": "execute_result"
    }
   ],
   "source": [
    "bead_reads_subset = pd.read_csv('./data/bead_reads_subset.csv', index_col='Unnamed: 0')\n",
    "bead_reads_subset.head()"
   ]
  },
  {
   "cell_type": "code",
   "execution_count": 6,
   "id": "4be4df2c",
   "metadata": {
    "execution": {
     "iopub.execute_input": "2022-04-25T00:59:30.032486Z",
     "iopub.status.busy": "2022-04-25T00:59:30.031992Z",
     "iopub.status.idle": "2022-04-25T00:59:30.598890Z",
     "shell.execute_reply": "2022-04-25T00:59:30.598479Z"
    },
    "papermill": {
     "duration": 0.586277,
     "end_time": "2022-04-25T00:59:30.598980",
     "exception": false,
     "start_time": "2022-04-25T00:59:30.012703",
     "status": "completed"
    },
    "tags": []
   },
   "outputs": [],
   "source": [
    "data_scipy_sparse = scipy.sparse.coo_matrix( bead_reads_subset.to_numpy() )"
   ]
  },
  {
   "cell_type": "code",
   "execution_count": 7,
   "id": "af0945ff",
   "metadata": {
    "execution": {
     "iopub.execute_input": "2022-04-25T00:59:30.632961Z",
     "iopub.status.busy": "2022-04-25T00:59:30.630866Z",
     "iopub.status.idle": "2022-04-25T00:59:35.095607Z",
     "shell.execute_reply": "2022-04-25T00:59:35.095207Z"
    },
    "papermill": {
     "duration": 4.481417,
     "end_time": "2022-04-25T00:59:35.095696",
     "exception": false,
     "start_time": "2022-04-25T00:59:30.614279",
     "status": "completed"
    },
    "tags": []
   },
   "outputs": [],
   "source": [
    "data_sparse_tensor = scipy_sparse_to_pytorch_sparse(data_scipy_sparse).to(device=device)"
   ]
  },
  {
   "cell_type": "code",
   "execution_count": 8,
   "id": "da69bbe1",
   "metadata": {
    "execution": {
     "iopub.execute_input": "2022-04-25T00:59:35.130871Z",
     "iopub.status.busy": "2022-04-25T00:59:35.130513Z",
     "iopub.status.idle": "2022-04-25T00:59:35.137108Z",
     "shell.execute_reply": "2022-04-25T00:59:35.136798Z"
    },
    "papermill": {
     "duration": 0.025691,
     "end_time": "2022-04-25T00:59:35.137179",
     "exception": false,
     "start_time": "2022-04-25T00:59:35.111488",
     "status": "completed"
    },
    "tags": []
   },
   "outputs": [
    {
     "data": {
      "text/plain": [
       "tensor(indices=tensor([[    0,     0,     0,  ..., 53207, 53207, 53207],\n",
       "                       [   84,   412,   528,  ...,  1219,  1220,  1221]]),\n",
       "       values=tensor([ 1.,  1.,  1.,  ..., 12., 26., 71.]),\n",
       "       device='cuda:0', size=(53208, 1222), nnz=9552845, layout=torch.sparse_coo)"
      ]
     },
     "execution_count": 8,
     "metadata": {},
     "output_type": "execute_result"
    }
   ],
   "source": [
    "data_sparse_tensor"
   ]
  },
  {
   "cell_type": "code",
   "execution_count": 9,
   "id": "05ad3db3",
   "metadata": {
    "execution": {
     "iopub.execute_input": "2022-04-25T00:59:35.169700Z",
     "iopub.status.busy": "2022-04-25T00:59:35.168911Z",
     "iopub.status.idle": "2022-04-25T00:59:35.172392Z",
     "shell.execute_reply": "2022-04-25T00:59:35.172096Z"
    },
    "papermill": {
     "duration": 0.020149,
     "end_time": "2022-04-25T00:59:35.172462",
     "exception": false,
     "start_time": "2022-04-25T00:59:35.152313",
     "status": "completed"
    },
    "tags": []
   },
   "outputs": [],
   "source": [
    "data_dense_tensor = data_sparse_tensor.to_dense()"
   ]
  },
  {
   "cell_type": "code",
   "execution_count": 10,
   "id": "7bb8edcc",
   "metadata": {
    "execution": {
     "iopub.execute_input": "2022-04-25T00:59:35.204938Z",
     "iopub.status.busy": "2022-04-25T00:59:35.203524Z",
     "iopub.status.idle": "2022-04-25T00:59:35.328105Z",
     "shell.execute_reply": "2022-04-25T00:59:35.328394Z"
    },
    "papermill": {
     "duration": 0.141189,
     "end_time": "2022-04-25T00:59:35.328476",
     "exception": false,
     "start_time": "2022-04-25T00:59:35.187287",
     "status": "completed"
    },
    "tags": []
   },
   "outputs": [],
   "source": [
    "mask_scipy_sparse = (data_scipy_sparse != 0).astype(np.int64).tocoo()"
   ]
  },
  {
   "cell_type": "code",
   "execution_count": 11,
   "id": "e795212b",
   "metadata": {
    "execution": {
     "iopub.execute_input": "2022-04-25T00:59:35.362910Z",
     "iopub.status.busy": "2022-04-25T00:59:35.362531Z",
     "iopub.status.idle": "2022-04-25T00:59:35.448108Z",
     "shell.execute_reply": "2022-04-25T00:59:35.447797Z"
    },
    "papermill": {
     "duration": 0.103954,
     "end_time": "2022-04-25T00:59:35.448179",
     "exception": false,
     "start_time": "2022-04-25T00:59:35.344225",
     "status": "completed"
    },
    "tags": []
   },
   "outputs": [],
   "source": [
    "mask_sparse_tensor = scipy_sparse_to_pytorch_sparse(mask_scipy_sparse)"
   ]
  },
  {
   "cell_type": "code",
   "execution_count": 12,
   "id": "5d9e8290",
   "metadata": {
    "execution": {
     "iopub.execute_input": "2022-04-25T00:59:35.482514Z",
     "iopub.status.busy": "2022-04-25T00:59:35.482118Z",
     "iopub.status.idle": "2022-04-25T00:59:36.441627Z",
     "shell.execute_reply": "2022-04-25T00:59:36.441214Z"
    },
    "papermill": {
     "duration": 0.978058,
     "end_time": "2022-04-25T00:59:36.441728",
     "exception": false,
     "start_time": "2022-04-25T00:59:35.463670",
     "status": "completed"
    },
    "tags": []
   },
   "outputs": [],
   "source": [
    "mask_dense_tensor = mask_sparse_tensor.to_dense().bool()"
   ]
  },
  {
   "cell_type": "code",
   "execution_count": 13,
   "id": "b0be45a8",
   "metadata": {
    "execution": {
     "iopub.execute_input": "2022-04-25T00:59:36.480739Z",
     "iopub.status.busy": "2022-04-25T00:59:36.480377Z",
     "iopub.status.idle": "2022-04-25T01:00:02.334539Z",
     "shell.execute_reply": "2022-04-25T01:00:02.332747Z"
    },
    "papermill": {
     "duration": 25.876854,
     "end_time": "2022-04-25T01:00:02.334798",
     "exception": false,
     "start_time": "2022-04-25T00:59:36.457944",
     "status": "completed"
    },
    "tags": []
   },
   "outputs": [],
   "source": [
    "distances = np.load('./data/macosko_distance_matrix.npy')"
   ]
  },
  {
   "cell_type": "code",
   "execution_count": 14,
   "id": "3d25168f",
   "metadata": {
    "execution": {
     "iopub.execute_input": "2022-04-25T01:00:02.391501Z",
     "iopub.status.busy": "2022-04-25T01:00:02.391066Z",
     "iopub.status.idle": "2022-04-25T01:00:10.042712Z",
     "shell.execute_reply": "2022-04-25T01:00:10.042272Z"
    },
    "papermill": {
     "duration": 7.677819,
     "end_time": "2022-04-25T01:00:10.042801",
     "exception": false,
     "start_time": "2022-04-25T01:00:02.364982",
     "status": "completed"
    },
    "tags": []
   },
   "outputs": [],
   "source": [
    "adjacency = scipy.sparse.coo_matrix( distances <= 20 , dtype=np.float32)\n",
    "degree = scipy.sparse.diags( adjacency.sum(axis=0).A1 )\n",
    "laplacian = (degree - adjacency).tocoo()"
   ]
  },
  {
   "cell_type": "code",
   "execution_count": 15,
   "id": "f908121c",
   "metadata": {
    "execution": {
     "iopub.execute_input": "2022-04-25T01:00:10.097188Z",
     "iopub.status.busy": "2022-04-25T01:00:10.096718Z",
     "iopub.status.idle": "2022-04-25T01:00:10.097889Z",
     "shell.execute_reply": "2022-04-25T01:00:10.097539Z"
    },
    "papermill": {
     "duration": 0.035481,
     "end_time": "2022-04-25T01:00:10.097962",
     "exception": false,
     "start_time": "2022-04-25T01:00:10.062481",
     "status": "completed"
    },
    "tags": []
   },
   "outputs": [],
   "source": [
    "adjacency_sparse_tensor = scipy_sparse_to_pytorch_sparse(adjacency)"
   ]
  },
  {
   "cell_type": "code",
   "execution_count": 16,
   "id": "0b70c60f",
   "metadata": {
    "execution": {
     "iopub.execute_input": "2022-04-25T01:00:10.155311Z",
     "iopub.status.busy": "2022-04-25T01:00:10.154266Z",
     "iopub.status.idle": "2022-04-25T01:00:12.213268Z",
     "shell.execute_reply": "2022-04-25T01:00:12.212629Z"
    },
    "papermill": {
     "duration": 2.083914,
     "end_time": "2022-04-25T01:00:12.213366",
     "exception": false,
     "start_time": "2022-04-25T01:00:10.129452",
     "status": "completed"
    },
    "tags": []
   },
   "outputs": [],
   "source": [
    "adjacency_dense_tensor = adjacency_sparse_tensor.to_dense()"
   ]
  },
  {
   "cell_type": "code",
   "execution_count": 17,
   "id": "2cdf1ad7",
   "metadata": {
    "execution": {
     "iopub.execute_input": "2022-04-25T01:00:12.258481Z",
     "iopub.status.busy": "2022-04-25T01:00:12.258084Z",
     "iopub.status.idle": "2022-04-25T01:00:12.259794Z",
     "shell.execute_reply": "2022-04-25T01:00:12.260118Z"
    },
    "papermill": {
     "duration": 0.030566,
     "end_time": "2022-04-25T01:00:12.260214",
     "exception": false,
     "start_time": "2022-04-25T01:00:12.229648",
     "status": "completed"
    },
    "tags": []
   },
   "outputs": [],
   "source": [
    "def laplacian_loss(x, x_lap):\n",
    "    \n",
    "    lap_sum = 0\n",
    "    for ii in range(x.shape[1]):\n",
    "        lap_sum = lap_sum + (x[:,ii].T @ x_lap @ x[:,ii])\n",
    "        \n",
    "    return lap_sum"
   ]
  },
  {
   "cell_type": "code",
   "execution_count": 18,
   "id": "e94a72ef",
   "metadata": {
    "execution": {
     "iopub.execute_input": "2022-04-25T01:00:12.300633Z",
     "iopub.status.busy": "2022-04-25T01:00:12.298519Z",
     "iopub.status.idle": "2022-04-25T01:00:12.315705Z",
     "shell.execute_reply": "2022-04-25T01:00:12.315413Z"
    },
    "papermill": {
     "duration": 0.039827,
     "end_time": "2022-04-25T01:00:12.315783",
     "exception": false,
     "start_time": "2022-04-25T01:00:12.275956",
     "status": "completed"
    },
    "tags": []
   },
   "outputs": [],
   "source": [
    "mf = MatrixFactorization(mask_sparse_tensor.shape[0], mask_sparse_tensor.shape[1], DECOMP_RANK).to(device=device)"
   ]
  },
  {
   "cell_type": "code",
   "execution_count": 19,
   "id": "88bcfe19",
   "metadata": {
    "execution": {
     "iopub.execute_input": "2022-04-25T01:00:12.354064Z",
     "iopub.status.busy": "2022-04-25T01:00:12.353694Z",
     "iopub.status.idle": "2022-04-25T01:00:12.368496Z",
     "shell.execute_reply": "2022-04-25T01:00:12.368207Z"
    },
    "papermill": {
     "duration": 0.036866,
     "end_time": "2022-04-25T01:00:12.368572",
     "exception": false,
     "start_time": "2022-04-25T01:00:12.331706",
     "status": "completed"
    },
    "tags": []
   },
   "outputs": [],
   "source": [
    "import torch.optim as optim\n",
    "\n",
    "optimizer = optim.Adam(mf.parameters(), lr=0.001)"
   ]
  },
  {
   "cell_type": "code",
   "execution_count": 20,
   "id": "dceeb9bf",
   "metadata": {
    "execution": {
     "iopub.execute_input": "2022-04-25T01:00:12.409744Z",
     "iopub.status.busy": "2022-04-25T01:00:12.406518Z",
     "iopub.status.idle": "2022-04-25T01:59:58.229283Z",
     "shell.execute_reply": "2022-04-25T01:59:58.229708Z"
    },
    "papermill": {
     "duration": 3585.843228,
     "end_time": "2022-04-25T01:59:58.232685",
     "exception": false,
     "start_time": "2022-04-25T01:00:12.389457",
     "status": "completed"
    },
    "tags": []
   },
   "outputs": [
    {
     "name": "stdout",
     "output_type": "stream",
     "text": [
      "0\n",
      "215980314.0\n"
     ]
    },
    {
     "name": "stdout",
     "output_type": "stream",
     "text": [
      "1\n",
      "215790799.0\n"
     ]
    },
    {
     "name": "stdout",
     "output_type": "stream",
     "text": [
      "2\n",
      "215301962.0\n"
     ]
    },
    {
     "name": "stdout",
     "output_type": "stream",
     "text": [
      "3\n",
      "214378478.0\n"
     ]
    },
    {
     "name": "stdout",
     "output_type": "stream",
     "text": [
      "4\n",
      "212951350.0\n"
     ]
    },
    {
     "name": "stdout",
     "output_type": "stream",
     "text": [
      "5\n",
      "211012395.0\n"
     ]
    },
    {
     "name": "stdout",
     "output_type": "stream",
     "text": [
      "6\n",
      "208576863.0\n"
     ]
    },
    {
     "name": "stdout",
     "output_type": "stream",
     "text": [
      "7\n",
      "205748780.0\n"
     ]
    },
    {
     "name": "stdout",
     "output_type": "stream",
     "text": [
      "8\n",
      "202616225.0\n"
     ]
    },
    {
     "name": "stdout",
     "output_type": "stream",
     "text": [
      "9\n",
      "199343926.0\n"
     ]
    },
    {
     "name": "stdout",
     "output_type": "stream",
     "text": [
      "10\n",
      "196084239.0\n"
     ]
    },
    {
     "name": "stdout",
     "output_type": "stream",
     "text": [
      "11\n",
      "192944891.0\n"
     ]
    },
    {
     "name": "stdout",
     "output_type": "stream",
     "text": [
      "12\n",
      "190090625.0\n"
     ]
    },
    {
     "name": "stdout",
     "output_type": "stream",
     "text": [
      "13\n",
      "187561986.0\n"
     ]
    },
    {
     "name": "stdout",
     "output_type": "stream",
     "text": [
      "14\n",
      "185393777.0\n"
     ]
    },
    {
     "name": "stdout",
     "output_type": "stream",
     "text": [
      "15\n",
      "183530639.0\n"
     ]
    },
    {
     "name": "stdout",
     "output_type": "stream",
     "text": [
      "16\n",
      "181912821.0\n"
     ]
    },
    {
     "name": "stdout",
     "output_type": "stream",
     "text": [
      "17\n",
      "180479381.0\n"
     ]
    },
    {
     "name": "stdout",
     "output_type": "stream",
     "text": [
      "18\n",
      "179160954.0\n"
     ]
    },
    {
     "name": "stdout",
     "output_type": "stream",
     "text": [
      "19\n",
      "177927889.0\n"
     ]
    },
    {
     "name": "stdout",
     "output_type": "stream",
     "text": [
      "20\n",
      "176748353.0\n"
     ]
    },
    {
     "name": "stdout",
     "output_type": "stream",
     "text": [
      "21\n",
      "175625939.0\n"
     ]
    },
    {
     "name": "stdout",
     "output_type": "stream",
     "text": [
      "22\n",
      "174552251.0\n"
     ]
    },
    {
     "name": "stdout",
     "output_type": "stream",
     "text": [
      "23\n",
      "173497343.0\n"
     ]
    },
    {
     "name": "stdout",
     "output_type": "stream",
     "text": [
      "24\n",
      "172471594.0\n"
     ]
    },
    {
     "name": "stdout",
     "output_type": "stream",
     "text": [
      "25\n",
      "171484960.0\n"
     ]
    },
    {
     "name": "stdout",
     "output_type": "stream",
     "text": [
      "26\n",
      "170516914.5\n"
     ]
    },
    {
     "name": "stdout",
     "output_type": "stream",
     "text": [
      "27\n",
      "169554143.0\n"
     ]
    },
    {
     "name": "stdout",
     "output_type": "stream",
     "text": [
      "28\n",
      "168627316.0\n"
     ]
    },
    {
     "name": "stdout",
     "output_type": "stream",
     "text": [
      "29\n",
      "167712802.0\n"
     ]
    },
    {
     "name": "stdout",
     "output_type": "stream",
     "text": [
      "30\n",
      "166813275.0\n"
     ]
    },
    {
     "name": "stdout",
     "output_type": "stream",
     "text": [
      "31\n",
      "165922232.0\n"
     ]
    },
    {
     "name": "stdout",
     "output_type": "stream",
     "text": [
      "32\n",
      "165058430.0\n"
     ]
    },
    {
     "name": "stdout",
     "output_type": "stream",
     "text": [
      "33\n",
      "164204323.0\n"
     ]
    },
    {
     "name": "stdout",
     "output_type": "stream",
     "text": [
      "34\n",
      "163362173.0\n"
     ]
    },
    {
     "name": "stdout",
     "output_type": "stream",
     "text": [
      "35\n",
      "162523913.0\n"
     ]
    },
    {
     "name": "stdout",
     "output_type": "stream",
     "text": [
      "36\n",
      "161715679.0\n"
     ]
    },
    {
     "name": "stdout",
     "output_type": "stream",
     "text": [
      "37\n",
      "160889431.0\n"
     ]
    },
    {
     "name": "stdout",
     "output_type": "stream",
     "text": [
      "38\n",
      "160101543.0\n"
     ]
    },
    {
     "name": "stdout",
     "output_type": "stream",
     "text": [
      "39\n",
      "159304374.0\n"
     ]
    },
    {
     "name": "stdout",
     "output_type": "stream",
     "text": [
      "40\n",
      "158529828.0\n"
     ]
    },
    {
     "name": "stdout",
     "output_type": "stream",
     "text": [
      "41\n",
      "157762550.0\n"
     ]
    },
    {
     "name": "stdout",
     "output_type": "stream",
     "text": [
      "42\n",
      "156999671.0\n"
     ]
    },
    {
     "name": "stdout",
     "output_type": "stream",
     "text": [
      "43\n",
      "156260959.5\n"
     ]
    },
    {
     "name": "stdout",
     "output_type": "stream",
     "text": [
      "44\n",
      "155526425.0\n"
     ]
    },
    {
     "name": "stdout",
     "output_type": "stream",
     "text": [
      "45\n",
      "154792578.0\n"
     ]
    },
    {
     "name": "stdout",
     "output_type": "stream",
     "text": [
      "46\n",
      "154086091.0\n"
     ]
    },
    {
     "name": "stdout",
     "output_type": "stream",
     "text": [
      "47\n",
      "153344415.0\n"
     ]
    },
    {
     "name": "stdout",
     "output_type": "stream",
     "text": [
      "48\n",
      "152667303.0\n"
     ]
    },
    {
     "name": "stdout",
     "output_type": "stream",
     "text": [
      "49\n",
      "151970151.5\n"
     ]
    }
   ],
   "source": [
    "losses = []\n",
    "\n",
    "for epoch in range(50):\n",
    "    \n",
    "    batcher = data_adjacency_batcher(data_dense_tensor, adjacency_dense_tensor, 5000)\n",
    "    \n",
    "    total_loss = 0\n",
    "    \n",
    "    \n",
    "    for (data_batch, mask_batch, adjacency_batch, row_batch) in batcher:\n",
    "        \n",
    "        \n",
    "        \n",
    "        data_batch = data_batch.to(device=device)\n",
    "        mask_batch = mask_batch.to(device=device)\n",
    "        adjacency_batch = adjacency_batch.to(device=device)\n",
    "        row_batch = row_batch.to(device=device)\n",
    "        \n",
    "        laplacian_tensor = adjacency_to_laplacian(adjacency_batch).to(device=device)\n",
    "    \n",
    "        optimizer.zero_grad()\n",
    "\n",
    "        output = mf.forward(row_batch, torch.arange(0, data_batch.shape[1]))\n",
    "        \n",
    "        L1_laplacian_tensor = adjacency_to_laplacian(adjacency_to_L1_adjacency(output, adjacency_batch, 0.001, device)).to(device=device)\n",
    "        \n",
    "        loss = squared_loss(data_batch[mask_batch], output[mask_batch]) + LAPLACIAN_PARAM*laplacian_loss(output, laplacian_tensor) + TV_PARAM*laplacian_loss(output, L1_laplacian_tensor)\n",
    "        loss.backward()\n",
    "        optimizer.step()\n",
    "        \n",
    "        total_loss += loss.item()\n",
    "        \n",
    "\n",
    "    if epoch % 1 == 0:\n",
    "        print(epoch)\n",
    "        print(total_loss)\n",
    "        \n",
    "    losses.append(total_loss)"
   ]
  },
  {
   "cell_type": "code",
   "execution_count": 21,
   "id": "4c709be5",
   "metadata": {
    "execution": {
     "iopub.execute_input": "2022-04-25T01:59:58.322166Z",
     "iopub.status.busy": "2022-04-25T01:59:58.315983Z",
     "iopub.status.idle": "2022-04-25T01:59:58.364414Z",
     "shell.execute_reply": "2022-04-25T01:59:58.364110Z"
    },
    "papermill": {
     "duration": 0.095339,
     "end_time": "2022-04-25T01:59:58.364486",
     "exception": false,
     "start_time": "2022-04-25T01:59:58.269147",
     "status": "completed"
    },
    "tags": []
   },
   "outputs": [
    {
     "data": {
      "text/plain": [
       "8293645.5"
      ]
     },
     "execution_count": 21,
     "metadata": {},
     "output_type": "execute_result"
    }
   ],
   "source": [
    "loss.item()"
   ]
  },
  {
   "cell_type": "code",
   "execution_count": 22,
   "id": "1873c7dd",
   "metadata": {
    "execution": {
     "iopub.execute_input": "2022-04-25T01:59:58.423074Z",
     "iopub.status.busy": "2022-04-25T01:59:58.415930Z",
     "iopub.status.idle": "2022-04-25T01:59:58.440603Z",
     "shell.execute_reply": "2022-04-25T01:59:58.440218Z"
    },
    "papermill": {
     "duration": 0.051362,
     "end_time": "2022-04-25T01:59:58.440674",
     "exception": false,
     "start_time": "2022-04-25T01:59:58.389312",
     "status": "completed"
    },
    "tags": []
   },
   "outputs": [],
   "source": [
    "np.save(f'./results/loss_curves/mf_rank{DECOMP_RANK}_L{LAPLACIAN_PARAM}_TV{TV_PARAM}_losses', np.array(losses))"
   ]
  },
  {
   "cell_type": "code",
   "execution_count": 23,
   "id": "b945f8a1",
   "metadata": {
    "execution": {
     "iopub.execute_input": "2022-04-25T01:59:58.497377Z",
     "iopub.status.busy": "2022-04-25T01:59:58.496500Z",
     "iopub.status.idle": "2022-04-25T01:59:58.672355Z",
     "shell.execute_reply": "2022-04-25T01:59:58.672700Z"
    },
    "papermill": {
     "duration": 0.206235,
     "end_time": "2022-04-25T01:59:58.673005",
     "exception": false,
     "start_time": "2022-04-25T01:59:58.466770",
     "status": "completed"
    },
    "tags": []
   },
   "outputs": [],
   "source": [
    "torch.save(mf.state_dict(), f'./results/saved_models/mf_rank{DECOMP_RANK}_L{LAPLACIAN_PARAM}_TV{TV_PARAM}_state')"
   ]
  },
  {
   "cell_type": "code",
   "execution_count": 24,
   "id": "4a64270c",
   "metadata": {
    "execution": {
     "iopub.execute_input": "2022-04-25T01:59:58.739368Z",
     "iopub.status.busy": "2022-04-25T01:59:58.738502Z",
     "iopub.status.idle": "2022-04-25T02:04:03.568689Z",
     "shell.execute_reply": "2022-04-25T02:04:03.559109Z"
    },
    "papermill": {
     "duration": 244.866929,
     "end_time": "2022-04-25T02:04:03.571224",
     "exception": false,
     "start_time": "2022-04-25T01:59:58.704295",
     "status": "completed"
    },
    "tags": []
   },
   "outputs": [],
   "source": [
    "final_output = mf.forward(torch.arange(0, data_dense_tensor.shape[0]), torch.arange(0, data_dense_tensor.shape[1]))\n",
    "\n",
    "final_squared_error = squared_loss(data_dense_tensor, final_output)\n",
    "final_laplacian = laplacian_loss(final_output, adjacency_to_laplacian(adjacency_dense_tensor).to(device=device))\n",
    "final_TV =  laplacian_loss(final_output, adjacency_to_laplacian(adjacency_to_L1_adjacency(final_output, adjacency_dense_tensor, 0.001, device)).to(device=device))"
   ]
  },
  {
   "cell_type": "code",
   "execution_count": 25,
   "id": "ecf51acc",
   "metadata": {
    "execution": {
     "iopub.execute_input": "2022-04-25T02:04:03.706862Z",
     "iopub.status.busy": "2022-04-25T02:04:03.701303Z",
     "iopub.status.idle": "2022-04-25T02:04:04.590963Z",
     "shell.execute_reply": "2022-04-25T02:04:04.589694Z"
    },
    "papermill": {
     "duration": 0.943628,
     "end_time": "2022-04-25T02:04:04.591046",
     "exception": false,
     "start_time": "2022-04-25T02:04:03.647418",
     "status": "completed"
    },
    "tags": []
   },
   "outputs": [],
   "source": [
    "np.save(f'./results/final_losses/mf_rank{DECOMP_RANK}_L{LAPLACIAN_PARAM}_TV{TV_PARAM}_losses', np.array([final_squared_error.item(), final_laplacian.item(), final_TV.item()]))"
   ]
  },
  {
   "cell_type": "code",
   "execution_count": null,
   "id": "ab634b43",
   "metadata": {
    "papermill": {
     "duration": 0.02528,
     "end_time": "2022-04-25T02:04:04.643078",
     "exception": false,
     "start_time": "2022-04-25T02:04:04.617798",
     "status": "completed"
    },
    "tags": []
   },
   "outputs": [],
   "source": []
  }
 ],
 "metadata": {
  "interpreter": {
   "hash": "22ee4ece52021b4a120b95b326dd7a4d7938576e919f53927a7959ab5d7e1e45"
  },
  "kernelspec": {
   "display_name": "spatialSFT",
   "language": "python",
   "name": "spatialsft"
  },
  "language_info": {
   "codemirror_mode": {
    "name": "ipython",
    "version": 3
   },
   "file_extension": ".py",
   "mimetype": "text/x-python",
   "name": "python",
   "nbconvert_exporter": "python",
   "pygments_lexer": "ipython3",
   "version": "3.8.0"
  },
  "papermill": {
   "default_parameters": {},
   "duration": 3914.423405,
   "end_time": "2022-04-25T02:04:12.622349",
   "environment_variables": {},
   "exception": null,
   "input_path": "./notebooks/mf_param_template.ipynb",
   "output_path": "./papermill_output/mf_param_template_rank100_lap0.1_tv0.1.ipynb",
   "parameters": {
    "DECOMP_RANK": 100,
    "LAPLACIAN_PARAM": 0.1,
    "TV_PARAM": 0.1
   },
   "start_time": "2022-04-25T00:58:58.198944",
   "version": "2.3.4"
  }
 },
 "nbformat": 4,
 "nbformat_minor": 5
}