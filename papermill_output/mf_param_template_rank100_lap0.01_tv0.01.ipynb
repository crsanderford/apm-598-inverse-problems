{
 "cells": [
  {
   "cell_type": "markdown",
   "id": "3e9e3047",
   "metadata": {
    "papermill": {
     "duration": 0.014801,
     "end_time": "2022-04-25T07:33:25.938356",
     "exception": false,
     "start_time": "2022-04-25T07:33:25.923555",
     "status": "completed"
    },
    "tags": []
   },
   "source": [
    "### setup"
   ]
  },
  {
   "cell_type": "code",
   "execution_count": 1,
   "id": "147412e9",
   "metadata": {
    "execution": {
     "iopub.execute_input": "2022-04-25T07:33:25.969630Z",
     "iopub.status.busy": "2022-04-25T07:33:25.969277Z",
     "iopub.status.idle": "2022-04-25T07:33:31.506200Z",
     "shell.execute_reply": "2022-04-25T07:33:31.505711Z"
    },
    "papermill": {
     "duration": 5.553852,
     "end_time": "2022-04-25T07:33:31.506306",
     "exception": false,
     "start_time": "2022-04-25T07:33:25.952454",
     "status": "completed"
    },
    "tags": []
   },
   "outputs": [],
   "source": [
    "import numpy as np \n",
    "import matplotlib.pyplot as plt\n",
    "import pandas as pd\n",
    "\n",
    "import scipy\n",
    "\n",
    "\n",
    "from utils import *\n",
    "from pytorch_sparse_utils import *\n",
    "\n",
    "\n",
    "import torch\n",
    "from torch import nn\n",
    "import torch.nn.functional as F"
   ]
  },
  {
   "cell_type": "markdown",
   "id": "020fed48",
   "metadata": {
    "papermill": {
     "duration": 0.013783,
     "end_time": "2022-04-25T07:33:31.535038",
     "exception": false,
     "start_time": "2022-04-25T07:33:31.521255",
     "status": "completed"
    },
    "tags": []
   },
   "source": [
    "### set parameters"
   ]
  },
  {
   "cell_type": "code",
   "execution_count": 2,
   "id": "a9ab326a",
   "metadata": {
    "execution": {
     "iopub.execute_input": "2022-04-25T07:33:31.566951Z",
     "iopub.status.busy": "2022-04-25T07:33:31.566578Z",
     "iopub.status.idle": "2022-04-25T07:33:31.568610Z",
     "shell.execute_reply": "2022-04-25T07:33:31.568246Z"
    },
    "papermill": {
     "duration": 0.0194,
     "end_time": "2022-04-25T07:33:31.568681",
     "exception": false,
     "start_time": "2022-04-25T07:33:31.549281",
     "status": "completed"
    },
    "tags": [
     "parameters"
    ]
   },
   "outputs": [],
   "source": [
    "DECOMP_RANK = 10\n",
    "LAPLACIAN_PARAM = 0.001\n",
    "TV_PARAM = 0.001"
   ]
  },
  {
   "cell_type": "code",
   "execution_count": 3,
   "id": "8982c064",
   "metadata": {
    "execution": {
     "iopub.execute_input": "2022-04-25T07:33:31.600349Z",
     "iopub.status.busy": "2022-04-25T07:33:31.599986Z",
     "iopub.status.idle": "2022-04-25T07:33:31.602175Z",
     "shell.execute_reply": "2022-04-25T07:33:31.601797Z"
    },
    "papermill": {
     "duration": 0.019103,
     "end_time": "2022-04-25T07:33:31.602244",
     "exception": false,
     "start_time": "2022-04-25T07:33:31.583141",
     "status": "completed"
    },
    "tags": [
     "injected-parameters"
    ]
   },
   "outputs": [],
   "source": [
    "# Parameters\n",
    "DECOMP_RANK = 100\n",
    "LAPLACIAN_PARAM = 0.01\n",
    "TV_PARAM = 0.01\n"
   ]
  },
  {
   "cell_type": "code",
   "execution_count": 4,
   "id": "6c85a04c",
   "metadata": {
    "execution": {
     "iopub.execute_input": "2022-04-25T07:33:31.633803Z",
     "iopub.status.busy": "2022-04-25T07:33:31.633081Z",
     "iopub.status.idle": "2022-04-25T07:33:49.478024Z",
     "shell.execute_reply": "2022-04-25T07:33:49.478325Z"
    },
    "papermill": {
     "duration": 17.86093,
     "end_time": "2022-04-25T07:33:49.478431",
     "exception": false,
     "start_time": "2022-04-25T07:33:31.617501",
     "status": "completed"
    },
    "tags": []
   },
   "outputs": [
    {
     "name": "stdout",
     "output_type": "stream",
     "text": [
      "Using cuda device\n"
     ]
    }
   ],
   "source": [
    "device = 'cuda' if torch.cuda.is_available() else 'cpu'\n",
    "print('Using {} device'.format(device))"
   ]
  },
  {
   "cell_type": "markdown",
   "id": "23cc55f4",
   "metadata": {
    "papermill": {
     "duration": 0.014307,
     "end_time": "2022-04-25T07:33:49.507889",
     "exception": false,
     "start_time": "2022-04-25T07:33:49.493582",
     "status": "completed"
    },
    "tags": []
   },
   "source": [
    "### loading data"
   ]
  },
  {
   "cell_type": "code",
   "execution_count": 5,
   "id": "9ca65226",
   "metadata": {
    "execution": {
     "iopub.execute_input": "2022-04-25T07:33:49.542308Z",
     "iopub.status.busy": "2022-04-25T07:33:49.539470Z",
     "iopub.status.idle": "2022-04-25T07:33:51.790373Z",
     "shell.execute_reply": "2022-04-25T07:33:51.790013Z"
    },
    "papermill": {
     "duration": 2.267247,
     "end_time": "2022-04-25T07:33:51.790450",
     "exception": false,
     "start_time": "2022-04-25T07:33:49.523203",
     "status": "completed"
    },
    "tags": []
   },
   "outputs": [
    {
     "data": {
      "text/html": [
       "<div>\n",
       "<style scoped>\n",
       "    .dataframe tbody tr th:only-of-type {\n",
       "        vertical-align: middle;\n",
       "    }\n",
       "\n",
       "    .dataframe tbody tr th {\n",
       "        vertical-align: top;\n",
       "    }\n",
       "\n",
       "    .dataframe thead th {\n",
       "        text-align: right;\n",
       "    }\n",
       "</style>\n",
       "<table border=\"1\" class=\"dataframe\">\n",
       "  <thead>\n",
       "    <tr style=\"text-align: right;\">\n",
       "      <th></th>\n",
       "      <th>1110008P14Rik</th>\n",
       "      <th>1500009C09Rik</th>\n",
       "      <th>1500012F01Rik</th>\n",
       "      <th>1700020I14Rik</th>\n",
       "      <th>2010107E04Rik</th>\n",
       "      <th>2010300C02Rik</th>\n",
       "      <th>2210016L21Rik</th>\n",
       "      <th>2310036O22Rik</th>\n",
       "      <th>2900011O08Rik</th>\n",
       "      <th>3110035E14Rik</th>\n",
       "      <th>...</th>\n",
       "      <th>Zrsr1</th>\n",
       "      <th>Zwint</th>\n",
       "      <th>mt-Co1</th>\n",
       "      <th>mt-Cytb</th>\n",
       "      <th>mt-Nd1</th>\n",
       "      <th>mt-Nd2</th>\n",
       "      <th>mt-Nd4</th>\n",
       "      <th>mt-Nd5</th>\n",
       "      <th>mt-Rnr1</th>\n",
       "      <th>mt-Rnr2</th>\n",
       "    </tr>\n",
       "  </thead>\n",
       "  <tbody>\n",
       "    <tr>\n",
       "      <th>AAAAAAAGGTAGTA</th>\n",
       "      <td>0</td>\n",
       "      <td>0</td>\n",
       "      <td>0</td>\n",
       "      <td>0</td>\n",
       "      <td>0</td>\n",
       "      <td>0</td>\n",
       "      <td>0</td>\n",
       "      <td>0</td>\n",
       "      <td>0</td>\n",
       "      <td>0</td>\n",
       "      <td>...</td>\n",
       "      <td>0</td>\n",
       "      <td>0</td>\n",
       "      <td>0</td>\n",
       "      <td>0</td>\n",
       "      <td>0</td>\n",
       "      <td>0</td>\n",
       "      <td>0</td>\n",
       "      <td>0</td>\n",
       "      <td>1</td>\n",
       "      <td>0</td>\n",
       "    </tr>\n",
       "    <tr>\n",
       "      <th>AAAAAAAGTCCCAA</th>\n",
       "      <td>0</td>\n",
       "      <td>0</td>\n",
       "      <td>0</td>\n",
       "      <td>0</td>\n",
       "      <td>0</td>\n",
       "      <td>0</td>\n",
       "      <td>0</td>\n",
       "      <td>0</td>\n",
       "      <td>0</td>\n",
       "      <td>0</td>\n",
       "      <td>...</td>\n",
       "      <td>0</td>\n",
       "      <td>0</td>\n",
       "      <td>2</td>\n",
       "      <td>2</td>\n",
       "      <td>5</td>\n",
       "      <td>0</td>\n",
       "      <td>1</td>\n",
       "      <td>0</td>\n",
       "      <td>2</td>\n",
       "      <td>4</td>\n",
       "    </tr>\n",
       "    <tr>\n",
       "      <th>AAAAAAATCTTAGT</th>\n",
       "      <td>0</td>\n",
       "      <td>0</td>\n",
       "      <td>0</td>\n",
       "      <td>0</td>\n",
       "      <td>0</td>\n",
       "      <td>0</td>\n",
       "      <td>0</td>\n",
       "      <td>0</td>\n",
       "      <td>0</td>\n",
       "      <td>0</td>\n",
       "      <td>...</td>\n",
       "      <td>0</td>\n",
       "      <td>0</td>\n",
       "      <td>0</td>\n",
       "      <td>0</td>\n",
       "      <td>0</td>\n",
       "      <td>0</td>\n",
       "      <td>0</td>\n",
       "      <td>0</td>\n",
       "      <td>0</td>\n",
       "      <td>0</td>\n",
       "    </tr>\n",
       "    <tr>\n",
       "      <th>AAAAAACATCTTTC</th>\n",
       "      <td>0</td>\n",
       "      <td>0</td>\n",
       "      <td>0</td>\n",
       "      <td>0</td>\n",
       "      <td>0</td>\n",
       "      <td>0</td>\n",
       "      <td>0</td>\n",
       "      <td>0</td>\n",
       "      <td>0</td>\n",
       "      <td>0</td>\n",
       "      <td>...</td>\n",
       "      <td>0</td>\n",
       "      <td>0</td>\n",
       "      <td>0</td>\n",
       "      <td>0</td>\n",
       "      <td>0</td>\n",
       "      <td>0</td>\n",
       "      <td>0</td>\n",
       "      <td>0</td>\n",
       "      <td>1</td>\n",
       "      <td>0</td>\n",
       "    </tr>\n",
       "    <tr>\n",
       "      <th>AAAAAACGAAATAG</th>\n",
       "      <td>0</td>\n",
       "      <td>0</td>\n",
       "      <td>0</td>\n",
       "      <td>0</td>\n",
       "      <td>0</td>\n",
       "      <td>0</td>\n",
       "      <td>0</td>\n",
       "      <td>0</td>\n",
       "      <td>0</td>\n",
       "      <td>0</td>\n",
       "      <td>...</td>\n",
       "      <td>0</td>\n",
       "      <td>0</td>\n",
       "      <td>1</td>\n",
       "      <td>0</td>\n",
       "      <td>0</td>\n",
       "      <td>0</td>\n",
       "      <td>0</td>\n",
       "      <td>0</td>\n",
       "      <td>0</td>\n",
       "      <td>0</td>\n",
       "    </tr>\n",
       "  </tbody>\n",
       "</table>\n",
       "<p>5 rows × 1222 columns</p>\n",
       "</div>"
      ],
      "text/plain": [
       "                1110008P14Rik  1500009C09Rik  1500012F01Rik  1700020I14Rik  \\\n",
       "AAAAAAAGGTAGTA              0              0              0              0   \n",
       "AAAAAAAGTCCCAA              0              0              0              0   \n",
       "AAAAAAATCTTAGT              0              0              0              0   \n",
       "AAAAAACATCTTTC              0              0              0              0   \n",
       "AAAAAACGAAATAG              0              0              0              0   \n",
       "\n",
       "                2010107E04Rik  2010300C02Rik  2210016L21Rik  2310036O22Rik  \\\n",
       "AAAAAAAGGTAGTA              0              0              0              0   \n",
       "AAAAAAAGTCCCAA              0              0              0              0   \n",
       "AAAAAAATCTTAGT              0              0              0              0   \n",
       "AAAAAACATCTTTC              0              0              0              0   \n",
       "AAAAAACGAAATAG              0              0              0              0   \n",
       "\n",
       "                2900011O08Rik  3110035E14Rik  ...  Zrsr1  Zwint  mt-Co1  \\\n",
       "AAAAAAAGGTAGTA              0              0  ...      0      0       0   \n",
       "AAAAAAAGTCCCAA              0              0  ...      0      0       2   \n",
       "AAAAAAATCTTAGT              0              0  ...      0      0       0   \n",
       "AAAAAACATCTTTC              0              0  ...      0      0       0   \n",
       "AAAAAACGAAATAG              0              0  ...      0      0       1   \n",
       "\n",
       "                mt-Cytb  mt-Nd1  mt-Nd2  mt-Nd4  mt-Nd5  mt-Rnr1  mt-Rnr2  \n",
       "AAAAAAAGGTAGTA        0       0       0       0       0        1        0  \n",
       "AAAAAAAGTCCCAA        2       5       0       1       0        2        4  \n",
       "AAAAAAATCTTAGT        0       0       0       0       0        0        0  \n",
       "AAAAAACATCTTTC        0       0       0       0       0        1        0  \n",
       "AAAAAACGAAATAG        0       0       0       0       0        0        0  \n",
       "\n",
       "[5 rows x 1222 columns]"
      ]
     },
     "execution_count": 5,
     "metadata": {},
     "output_type": "execute_result"
    }
   ],
   "source": [
    "bead_reads_subset = pd.read_csv('./data/bead_reads_subset.csv', index_col='Unnamed: 0')\n",
    "bead_reads_subset.head()"
   ]
  },
  {
   "cell_type": "code",
   "execution_count": 6,
   "id": "7be38bbc",
   "metadata": {
    "execution": {
     "iopub.execute_input": "2022-04-25T07:33:51.824689Z",
     "iopub.status.busy": "2022-04-25T07:33:51.824330Z",
     "iopub.status.idle": "2022-04-25T07:33:52.380719Z",
     "shell.execute_reply": "2022-04-25T07:33:52.380305Z"
    },
    "papermill": {
     "duration": 0.57507,
     "end_time": "2022-04-25T07:33:52.380793",
     "exception": false,
     "start_time": "2022-04-25T07:33:51.805723",
     "status": "completed"
    },
    "tags": []
   },
   "outputs": [],
   "source": [
    "data_scipy_sparse = scipy.sparse.coo_matrix( bead_reads_subset.to_numpy() )"
   ]
  },
  {
   "cell_type": "code",
   "execution_count": 7,
   "id": "4b343d97",
   "metadata": {
    "execution": {
     "iopub.execute_input": "2022-04-25T07:33:52.415316Z",
     "iopub.status.busy": "2022-04-25T07:33:52.414962Z",
     "iopub.status.idle": "2022-04-25T07:33:58.527308Z",
     "shell.execute_reply": "2022-04-25T07:33:58.526921Z"
    },
    "papermill": {
     "duration": 6.131279,
     "end_time": "2022-04-25T07:33:58.527398",
     "exception": false,
     "start_time": "2022-04-25T07:33:52.396119",
     "status": "completed"
    },
    "tags": []
   },
   "outputs": [],
   "source": [
    "data_sparse_tensor = scipy_sparse_to_pytorch_sparse(data_scipy_sparse).to(device=device)"
   ]
  },
  {
   "cell_type": "code",
   "execution_count": 8,
   "id": "e66099d3",
   "metadata": {
    "execution": {
     "iopub.execute_input": "2022-04-25T07:33:58.561099Z",
     "iopub.status.busy": "2022-04-25T07:33:58.560735Z",
     "iopub.status.idle": "2022-04-25T07:33:58.567280Z",
     "shell.execute_reply": "2022-04-25T07:33:58.566931Z"
    },
    "papermill": {
     "duration": 0.024145,
     "end_time": "2022-04-25T07:33:58.567350",
     "exception": false,
     "start_time": "2022-04-25T07:33:58.543205",
     "status": "completed"
    },
    "tags": []
   },
   "outputs": [
    {
     "data": {
      "text/plain": [
       "tensor(indices=tensor([[    0,     0,     0,  ..., 53207, 53207, 53207],\n",
       "                       [   84,   412,   528,  ...,  1219,  1220,  1221]]),\n",
       "       values=tensor([ 1.,  1.,  1.,  ..., 12., 26., 71.]),\n",
       "       device='cuda:0', size=(53208, 1222), nnz=9552845, layout=torch.sparse_coo)"
      ]
     },
     "execution_count": 8,
     "metadata": {},
     "output_type": "execute_result"
    }
   ],
   "source": [
    "data_sparse_tensor"
   ]
  },
  {
   "cell_type": "code",
   "execution_count": 9,
   "id": "e9eff906",
   "metadata": {
    "execution": {
     "iopub.execute_input": "2022-04-25T07:33:58.598617Z",
     "iopub.status.busy": "2022-04-25T07:33:58.597865Z",
     "iopub.status.idle": "2022-04-25T07:33:58.601386Z",
     "shell.execute_reply": "2022-04-25T07:33:58.601041Z"
    },
    "papermill": {
     "duration": 0.019529,
     "end_time": "2022-04-25T07:33:58.601457",
     "exception": false,
     "start_time": "2022-04-25T07:33:58.581928",
     "status": "completed"
    },
    "tags": []
   },
   "outputs": [],
   "source": [
    "data_dense_tensor = data_sparse_tensor.to_dense()"
   ]
  },
  {
   "cell_type": "code",
   "execution_count": 10,
   "id": "3fee3c34",
   "metadata": {
    "execution": {
     "iopub.execute_input": "2022-04-25T07:33:58.635861Z",
     "iopub.status.busy": "2022-04-25T07:33:58.635427Z",
     "iopub.status.idle": "2022-04-25T07:33:58.761807Z",
     "shell.execute_reply": "2022-04-25T07:33:58.761405Z"
    },
    "papermill": {
     "duration": 0.144695,
     "end_time": "2022-04-25T07:33:58.761885",
     "exception": false,
     "start_time": "2022-04-25T07:33:58.617190",
     "status": "completed"
    },
    "tags": []
   },
   "outputs": [],
   "source": [
    "mask_scipy_sparse = (data_scipy_sparse != 0).astype(np.int64).tocoo()"
   ]
  },
  {
   "cell_type": "code",
   "execution_count": 11,
   "id": "83ceceed",
   "metadata": {
    "execution": {
     "iopub.execute_input": "2022-04-25T07:33:58.795757Z",
     "iopub.status.busy": "2022-04-25T07:33:58.794386Z",
     "iopub.status.idle": "2022-04-25T07:33:58.855426Z",
     "shell.execute_reply": "2022-04-25T07:33:58.855978Z"
    },
    "papermill": {
     "duration": 0.078586,
     "end_time": "2022-04-25T07:33:58.856096",
     "exception": false,
     "start_time": "2022-04-25T07:33:58.777510",
     "status": "completed"
    },
    "tags": []
   },
   "outputs": [],
   "source": [
    "mask_sparse_tensor = scipy_sparse_to_pytorch_sparse(mask_scipy_sparse)"
   ]
  },
  {
   "cell_type": "code",
   "execution_count": 12,
   "id": "29634adf",
   "metadata": {
    "execution": {
     "iopub.execute_input": "2022-04-25T07:33:58.905961Z",
     "iopub.status.busy": "2022-04-25T07:33:58.905568Z",
     "iopub.status.idle": "2022-04-25T07:33:59.883101Z",
     "shell.execute_reply": "2022-04-25T07:33:59.883436Z"
    },
    "papermill": {
     "duration": 1.011864,
     "end_time": "2022-04-25T07:33:59.883554",
     "exception": false,
     "start_time": "2022-04-25T07:33:58.871690",
     "status": "completed"
    },
    "tags": []
   },
   "outputs": [],
   "source": [
    "mask_dense_tensor = mask_sparse_tensor.to_dense().bool()"
   ]
  },
  {
   "cell_type": "code",
   "execution_count": 13,
   "id": "6c0c47f5",
   "metadata": {
    "execution": {
     "iopub.execute_input": "2022-04-25T07:33:59.923677Z",
     "iopub.status.busy": "2022-04-25T07:33:59.923326Z",
     "iopub.status.idle": "2022-04-25T07:34:35.705640Z",
     "shell.execute_reply": "2022-04-25T07:34:35.705103Z"
    },
    "papermill": {
     "duration": 35.806297,
     "end_time": "2022-04-25T07:34:35.705743",
     "exception": false,
     "start_time": "2022-04-25T07:33:59.899446",
     "status": "completed"
    },
    "tags": []
   },
   "outputs": [],
   "source": [
    "distances = np.load('./data/macosko_distance_matrix.npy')"
   ]
  },
  {
   "cell_type": "code",
   "execution_count": 14,
   "id": "0f23ac9c",
   "metadata": {
    "execution": {
     "iopub.execute_input": "2022-04-25T07:34:35.748089Z",
     "iopub.status.busy": "2022-04-25T07:34:35.747718Z",
     "iopub.status.idle": "2022-04-25T07:34:43.798877Z",
     "shell.execute_reply": "2022-04-25T07:34:43.798350Z"
    },
    "papermill": {
     "duration": 8.0703,
     "end_time": "2022-04-25T07:34:43.798965",
     "exception": false,
     "start_time": "2022-04-25T07:34:35.728665",
     "status": "completed"
    },
    "tags": []
   },
   "outputs": [],
   "source": [
    "adjacency = scipy.sparse.coo_matrix( distances <= 20 , dtype=np.float32)\n",
    "degree = scipy.sparse.diags( adjacency.sum(axis=0).A1 )\n",
    "laplacian = (degree - adjacency).tocoo()"
   ]
  },
  {
   "cell_type": "code",
   "execution_count": 15,
   "id": "7d522655",
   "metadata": {
    "execution": {
     "iopub.execute_input": "2022-04-25T07:34:43.844987Z",
     "iopub.status.busy": "2022-04-25T07:34:43.844585Z",
     "iopub.status.idle": "2022-04-25T07:34:43.849577Z",
     "shell.execute_reply": "2022-04-25T07:34:43.849230Z"
    },
    "papermill": {
     "duration": 0.032289,
     "end_time": "2022-04-25T07:34:43.849650",
     "exception": false,
     "start_time": "2022-04-25T07:34:43.817361",
     "status": "completed"
    },
    "tags": []
   },
   "outputs": [],
   "source": [
    "adjacency_sparse_tensor = scipy_sparse_to_pytorch_sparse(adjacency)"
   ]
  },
  {
   "cell_type": "code",
   "execution_count": 16,
   "id": "b82a2afa",
   "metadata": {
    "execution": {
     "iopub.execute_input": "2022-04-25T07:34:43.885600Z",
     "iopub.status.busy": "2022-04-25T07:34:43.885233Z",
     "iopub.status.idle": "2022-04-25T07:34:46.145701Z",
     "shell.execute_reply": "2022-04-25T07:34:46.145297Z"
    },
    "papermill": {
     "duration": 2.279558,
     "end_time": "2022-04-25T07:34:46.145806",
     "exception": false,
     "start_time": "2022-04-25T07:34:43.866248",
     "status": "completed"
    },
    "tags": []
   },
   "outputs": [],
   "source": [
    "adjacency_dense_tensor = adjacency_sparse_tensor.to_dense()"
   ]
  },
  {
   "cell_type": "code",
   "execution_count": 17,
   "id": "29c11bc6",
   "metadata": {
    "execution": {
     "iopub.execute_input": "2022-04-25T07:34:46.184642Z",
     "iopub.status.busy": "2022-04-25T07:34:46.184271Z",
     "iopub.status.idle": "2022-04-25T07:34:46.185975Z",
     "shell.execute_reply": "2022-04-25T07:34:46.186284Z"
    },
    "papermill": {
     "duration": 0.022287,
     "end_time": "2022-04-25T07:34:46.186373",
     "exception": false,
     "start_time": "2022-04-25T07:34:46.164086",
     "status": "completed"
    },
    "tags": []
   },
   "outputs": [],
   "source": [
    "def laplacian_loss(x, x_lap):\n",
    "    \n",
    "    lap_sum = 0\n",
    "    for ii in range(x.shape[1]):\n",
    "        lap_sum = lap_sum + (x[:,ii].T @ x_lap @ x[:,ii])\n",
    "        \n",
    "    return lap_sum"
   ]
  },
  {
   "cell_type": "code",
   "execution_count": 18,
   "id": "072e02d9",
   "metadata": {
    "execution": {
     "iopub.execute_input": "2022-04-25T07:34:46.221175Z",
     "iopub.status.busy": "2022-04-25T07:34:46.219756Z",
     "iopub.status.idle": "2022-04-25T07:34:46.236442Z",
     "shell.execute_reply": "2022-04-25T07:34:46.236742Z"
    },
    "papermill": {
     "duration": 0.034464,
     "end_time": "2022-04-25T07:34:46.236823",
     "exception": false,
     "start_time": "2022-04-25T07:34:46.202359",
     "status": "completed"
    },
    "tags": []
   },
   "outputs": [],
   "source": [
    "mf = MatrixFactorization(mask_sparse_tensor.shape[0], mask_sparse_tensor.shape[1], DECOMP_RANK).to(device=device)"
   ]
  },
  {
   "cell_type": "code",
   "execution_count": 19,
   "id": "6b70b118",
   "metadata": {
    "execution": {
     "iopub.execute_input": "2022-04-25T07:34:46.272861Z",
     "iopub.status.busy": "2022-04-25T07:34:46.272323Z",
     "iopub.status.idle": "2022-04-25T07:34:46.273993Z",
     "shell.execute_reply": "2022-04-25T07:34:46.273691Z"
    },
    "papermill": {
     "duration": 0.02168,
     "end_time": "2022-04-25T07:34:46.274067",
     "exception": false,
     "start_time": "2022-04-25T07:34:46.252387",
     "status": "completed"
    },
    "tags": []
   },
   "outputs": [],
   "source": [
    "import torch.optim as optim\n",
    "\n",
    "optimizer = optim.Adam(mf.parameters(), lr=0.001)"
   ]
  },
  {
   "cell_type": "code",
   "execution_count": 20,
   "id": "c35098f4",
   "metadata": {
    "execution": {
     "iopub.execute_input": "2022-04-25T07:34:46.310190Z",
     "iopub.status.busy": "2022-04-25T07:34:46.307134Z",
     "iopub.status.idle": "2022-04-25T08:34:36.203854Z",
     "shell.execute_reply": "2022-04-25T08:34:36.204337Z"
    },
    "papermill": {
     "duration": 3589.917146,
     "end_time": "2022-04-25T08:34:36.207088",
     "exception": false,
     "start_time": "2022-04-25T07:34:46.289942",
     "status": "completed"
    },
    "tags": []
   },
   "outputs": [
    {
     "name": "stdout",
     "output_type": "stream",
     "text": [
      "0\n",
      "215980312.0\n"
     ]
    },
    {
     "name": "stdout",
     "output_type": "stream",
     "text": [
      "1\n",
      "215790690.0\n"
     ]
    },
    {
     "name": "stdout",
     "output_type": "stream",
     "text": [
      "2\n",
      "215301937.0\n"
     ]
    },
    {
     "name": "stdout",
     "output_type": "stream",
     "text": [
      "3\n",
      "214379663.0\n"
     ]
    },
    {
     "name": "stdout",
     "output_type": "stream",
     "text": [
      "4\n",
      "212958074.0\n"
     ]
    },
    {
     "name": "stdout",
     "output_type": "stream",
     "text": [
      "5\n",
      "211012086.0\n"
     ]
    },
    {
     "name": "stdout",
     "output_type": "stream",
     "text": [
      "6\n",
      "208583473.0\n"
     ]
    },
    {
     "name": "stdout",
     "output_type": "stream",
     "text": [
      "7\n",
      "205746297.0\n"
     ]
    },
    {
     "name": "stdout",
     "output_type": "stream",
     "text": [
      "8\n",
      "202622105.0\n"
     ]
    },
    {
     "name": "stdout",
     "output_type": "stream",
     "text": [
      "9\n",
      "199346371.0\n"
     ]
    },
    {
     "name": "stdout",
     "output_type": "stream",
     "text": [
      "10\n",
      "196080285.0\n"
     ]
    },
    {
     "name": "stdout",
     "output_type": "stream",
     "text": [
      "11\n",
      "192953517.0\n"
     ]
    },
    {
     "name": "stdout",
     "output_type": "stream",
     "text": [
      "12\n",
      "190094359.0\n"
     ]
    },
    {
     "name": "stdout",
     "output_type": "stream",
     "text": [
      "13\n",
      "187565549.0\n"
     ]
    },
    {
     "name": "stdout",
     "output_type": "stream",
     "text": [
      "14\n",
      "185383267.0\n"
     ]
    },
    {
     "name": "stdout",
     "output_type": "stream",
     "text": [
      "15\n",
      "183510391.0\n"
     ]
    },
    {
     "name": "stdout",
     "output_type": "stream",
     "text": [
      "16\n",
      "181890634.0\n"
     ]
    },
    {
     "name": "stdout",
     "output_type": "stream",
     "text": [
      "17\n",
      "180433222.0\n"
     ]
    },
    {
     "name": "stdout",
     "output_type": "stream",
     "text": [
      "18\n",
      "179091846.0\n"
     ]
    },
    {
     "name": "stdout",
     "output_type": "stream",
     "text": [
      "19\n",
      "177840263.0\n"
     ]
    },
    {
     "name": "stdout",
     "output_type": "stream",
     "text": [
      "20\n",
      "176642063.0\n"
     ]
    },
    {
     "name": "stdout",
     "output_type": "stream",
     "text": [
      "21\n",
      "175488739.0\n"
     ]
    },
    {
     "name": "stdout",
     "output_type": "stream",
     "text": [
      "22\n",
      "174391246.0\n"
     ]
    },
    {
     "name": "stdout",
     "output_type": "stream",
     "text": [
      "23\n",
      "173313758.0\n"
     ]
    },
    {
     "name": "stdout",
     "output_type": "stream",
     "text": [
      "24\n",
      "172270846.0\n"
     ]
    },
    {
     "name": "stdout",
     "output_type": "stream",
     "text": [
      "25\n",
      "171256343.0\n"
     ]
    },
    {
     "name": "stdout",
     "output_type": "stream",
     "text": [
      "26\n",
      "170264414.0\n"
     ]
    },
    {
     "name": "stdout",
     "output_type": "stream",
     "text": [
      "27\n",
      "169292955.0\n"
     ]
    },
    {
     "name": "stdout",
     "output_type": "stream",
     "text": [
      "28\n",
      "168339788.5\n"
     ]
    },
    {
     "name": "stdout",
     "output_type": "stream",
     "text": [
      "29\n",
      "167405796.5\n"
     ]
    },
    {
     "name": "stdout",
     "output_type": "stream",
     "text": [
      "30\n",
      "166479711.0\n"
     ]
    },
    {
     "name": "stdout",
     "output_type": "stream",
     "text": [
      "31\n",
      "165583696.0\n"
     ]
    },
    {
     "name": "stdout",
     "output_type": "stream",
     "text": [
      "32\n",
      "164694426.0\n"
     ]
    },
    {
     "name": "stdout",
     "output_type": "stream",
     "text": [
      "33\n",
      "163818529.0\n"
     ]
    },
    {
     "name": "stdout",
     "output_type": "stream",
     "text": [
      "34\n",
      "162960207.0\n"
     ]
    },
    {
     "name": "stdout",
     "output_type": "stream",
     "text": [
      "35\n",
      "162102986.0\n"
     ]
    },
    {
     "name": "stdout",
     "output_type": "stream",
     "text": [
      "36\n",
      "161264562.0\n"
     ]
    },
    {
     "name": "stdout",
     "output_type": "stream",
     "text": [
      "37\n",
      "160438097.5\n"
     ]
    },
    {
     "name": "stdout",
     "output_type": "stream",
     "text": [
      "38\n",
      "159620259.0\n"
     ]
    },
    {
     "name": "stdout",
     "output_type": "stream",
     "text": [
      "39\n",
      "158808591.5\n"
     ]
    },
    {
     "name": "stdout",
     "output_type": "stream",
     "text": [
      "40\n",
      "158015574.0\n"
     ]
    },
    {
     "name": "stdout",
     "output_type": "stream",
     "text": [
      "41\n",
      "157233393.0\n"
     ]
    },
    {
     "name": "stdout",
     "output_type": "stream",
     "text": [
      "42\n",
      "156454077.0\n"
     ]
    },
    {
     "name": "stdout",
     "output_type": "stream",
     "text": [
      "43\n",
      "155695767.5\n"
     ]
    },
    {
     "name": "stdout",
     "output_type": "stream",
     "text": [
      "44\n",
      "154933883.0\n"
     ]
    },
    {
     "name": "stdout",
     "output_type": "stream",
     "text": [
      "45\n",
      "154188316.0\n"
     ]
    },
    {
     "name": "stdout",
     "output_type": "stream",
     "text": [
      "46\n",
      "153457501.0\n"
     ]
    },
    {
     "name": "stdout",
     "output_type": "stream",
     "text": [
      "47\n",
      "152728390.0\n"
     ]
    },
    {
     "name": "stdout",
     "output_type": "stream",
     "text": [
      "48\n",
      "152021064.5\n"
     ]
    },
    {
     "name": "stdout",
     "output_type": "stream",
     "text": [
      "49\n",
      "151310900.0\n"
     ]
    }
   ],
   "source": [
    "losses = []\n",
    "\n",
    "for epoch in range(50):\n",
    "    \n",
    "    batcher = data_adjacency_batcher(data_dense_tensor, adjacency_dense_tensor, 5000)\n",
    "    \n",
    "    total_loss = 0\n",
    "    \n",
    "    \n",
    "    for (data_batch, mask_batch, adjacency_batch, row_batch) in batcher:\n",
    "        \n",
    "        \n",
    "        \n",
    "        data_batch = data_batch.to(device=device)\n",
    "        mask_batch = mask_batch.to(device=device)\n",
    "        adjacency_batch = adjacency_batch.to(device=device)\n",
    "        row_batch = row_batch.to(device=device)\n",
    "        \n",
    "        laplacian_tensor = adjacency_to_laplacian(adjacency_batch).to(device=device)\n",
    "    \n",
    "        optimizer.zero_grad()\n",
    "\n",
    "        output = mf.forward(row_batch, torch.arange(0, data_batch.shape[1]))\n",
    "        \n",
    "        L1_laplacian_tensor = adjacency_to_laplacian(adjacency_to_L1_adjacency(output, adjacency_batch, 0.001, device)).to(device=device)\n",
    "        \n",
    "        loss = squared_loss(data_batch[mask_batch], output[mask_batch]) + LAPLACIAN_PARAM*laplacian_loss(output, laplacian_tensor) + TV_PARAM*laplacian_loss(output, L1_laplacian_tensor)\n",
    "        loss.backward()\n",
    "        optimizer.step()\n",
    "        \n",
    "        total_loss += loss.item()\n",
    "        \n",
    "\n",
    "    if epoch % 1 == 0:\n",
    "        print(epoch)\n",
    "        print(total_loss)\n",
    "        \n",
    "    losses.append(total_loss)"
   ]
  },
  {
   "cell_type": "code",
   "execution_count": 21,
   "id": "ec3f0367",
   "metadata": {
    "execution": {
     "iopub.execute_input": "2022-04-25T08:34:36.284021Z",
     "iopub.status.busy": "2022-04-25T08:34:36.272739Z",
     "iopub.status.idle": "2022-04-25T08:34:36.297380Z",
     "shell.execute_reply": "2022-04-25T08:34:36.297703Z"
    },
    "papermill": {
     "duration": 0.061005,
     "end_time": "2022-04-25T08:34:36.297922",
     "exception": false,
     "start_time": "2022-04-25T08:34:36.236917",
     "status": "completed"
    },
    "tags": []
   },
   "outputs": [
    {
     "data": {
      "text/plain": [
       "8939303.0"
      ]
     },
     "execution_count": 21,
     "metadata": {},
     "output_type": "execute_result"
    }
   ],
   "source": [
    "loss.item()"
   ]
  },
  {
   "cell_type": "code",
   "execution_count": 22,
   "id": "30f2cd57",
   "metadata": {
    "execution": {
     "iopub.execute_input": "2022-04-25T08:34:36.354551Z",
     "iopub.status.busy": "2022-04-25T08:34:36.354168Z",
     "iopub.status.idle": "2022-04-25T08:34:36.365005Z",
     "shell.execute_reply": "2022-04-25T08:34:36.364577Z"
    },
    "papermill": {
     "duration": 0.039893,
     "end_time": "2022-04-25T08:34:36.365090",
     "exception": false,
     "start_time": "2022-04-25T08:34:36.325197",
     "status": "completed"
    },
    "tags": []
   },
   "outputs": [],
   "source": [
    "np.save(f'./results/loss_curves/mf_rank{DECOMP_RANK}_L{LAPLACIAN_PARAM}_TV{TV_PARAM}_losses', np.array(losses))"
   ]
  },
  {
   "cell_type": "code",
   "execution_count": 23,
   "id": "dd7062c3",
   "metadata": {
    "execution": {
     "iopub.execute_input": "2022-04-25T08:34:36.419804Z",
     "iopub.status.busy": "2022-04-25T08:34:36.416693Z",
     "iopub.status.idle": "2022-04-25T08:34:36.565077Z",
     "shell.execute_reply": "2022-04-25T08:34:36.565396Z"
    },
    "papermill": {
     "duration": 0.175446,
     "end_time": "2022-04-25T08:34:36.565565",
     "exception": false,
     "start_time": "2022-04-25T08:34:36.390119",
     "status": "completed"
    },
    "tags": []
   },
   "outputs": [],
   "source": [
    "torch.save(mf.state_dict(), f'./results/saved_models/mf_rank{DECOMP_RANK}_L{LAPLACIAN_PARAM}_TV{TV_PARAM}_state')"
   ]
  },
  {
   "cell_type": "code",
   "execution_count": 24,
   "id": "23584db6",
   "metadata": {
    "execution": {
     "iopub.execute_input": "2022-04-25T08:34:36.620802Z",
     "iopub.status.busy": "2022-04-25T08:34:36.617320Z",
     "iopub.status.idle": "2022-04-25T08:38:03.001961Z",
     "shell.execute_reply": "2022-04-25T08:38:03.007361Z"
    },
    "papermill": {
     "duration": 206.423934,
     "end_time": "2022-04-25T08:38:03.014845",
     "exception": false,
     "start_time": "2022-04-25T08:34:36.590911",
     "status": "completed"
    },
    "tags": []
   },
   "outputs": [],
   "source": [
    "final_output = mf.forward(torch.arange(0, data_dense_tensor.shape[0]), torch.arange(0, data_dense_tensor.shape[1]))\n",
    "\n",
    "final_squared_error = squared_loss(data_dense_tensor, final_output)\n",
    "final_laplacian = laplacian_loss(final_output, adjacency_to_laplacian(adjacency_dense_tensor).to(device=device))\n",
    "final_TV =  laplacian_loss(final_output, adjacency_to_laplacian(adjacency_to_L1_adjacency(final_output, adjacency_dense_tensor, 0.001, device)).to(device=device))"
   ]
  },
  {
   "cell_type": "code",
   "execution_count": 25,
   "id": "c3802758",
   "metadata": {
    "execution": {
     "iopub.execute_input": "2022-04-25T08:38:03.170376Z",
     "iopub.status.busy": "2022-04-25T08:38:03.168509Z",
     "iopub.status.idle": "2022-04-25T08:38:04.063691Z",
     "shell.execute_reply": "2022-04-25T08:38:04.062165Z"
    },
    "papermill": {
     "duration": 0.952741,
     "end_time": "2022-04-25T08:38:04.063847",
     "exception": false,
     "start_time": "2022-04-25T08:38:03.111106",
     "status": "completed"
    },
    "tags": []
   },
   "outputs": [],
   "source": [
    "np.save(f'./results/final_losses/mf_rank{DECOMP_RANK}_L{LAPLACIAN_PARAM}_TV{TV_PARAM}_losses', np.array([final_squared_error.item(), final_laplacian.item(), final_TV.item()]))"
   ]
  },
  {
   "cell_type": "code",
   "execution_count": null,
   "id": "200ad9c8",
   "metadata": {
    "papermill": {
     "duration": 0.025161,
     "end_time": "2022-04-25T08:38:04.115991",
     "exception": false,
     "start_time": "2022-04-25T08:38:04.090830",
     "status": "completed"
    },
    "tags": []
   },
   "outputs": [],
   "source": []
  }
 ],
 "metadata": {
  "interpreter": {
   "hash": "22ee4ece52021b4a120b95b326dd7a4d7938576e919f53927a7959ab5d7e1e45"
  },
  "kernelspec": {
   "display_name": "spatialSFT",
   "language": "python",
   "name": "spatialsft"
  },
  "language_info": {
   "codemirror_mode": {
    "name": "ipython",
    "version": 3
   },
   "file_extension": ".py",
   "mimetype": "text/x-python",
   "name": "python",
   "nbconvert_exporter": "python",
   "pygments_lexer": "ipython3",
   "version": "3.8.0"
  },
  "papermill": {
   "default_parameters": {},
   "duration": 3887.540726,
   "end_time": "2022-04-25T08:38:11.546592",
   "environment_variables": {},
   "exception": null,
   "input_path": "./notebooks/mf_param_template.ipynb",
   "output_path": "./papermill_output/mf_param_template_rank100_lap0.01_tv0.01.ipynb",
   "parameters": {
    "DECOMP_RANK": 100,
    "LAPLACIAN_PARAM": 0.01,
    "TV_PARAM": 0.01
   },
   "start_time": "2022-04-25T07:33:24.005866",
   "version": "2.3.4"
  }
 },
 "nbformat": 4,
 "nbformat_minor": 5
}