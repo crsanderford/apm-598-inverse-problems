{
 "cells": [
  {
   "cell_type": "markdown",
   "id": "f152ecc8",
   "metadata": {
    "papermill": {
     "duration": 0.016568,
     "end_time": "2022-04-25T20:31:31.471041",
     "exception": false,
     "start_time": "2022-04-25T20:31:31.454473",
     "status": "completed"
    },
    "tags": []
   },
   "source": [
    "### setup"
   ]
  },
  {
   "cell_type": "code",
   "execution_count": 1,
   "id": "2118ffec",
   "metadata": {
    "execution": {
     "iopub.execute_input": "2022-04-25T20:31:31.509553Z",
     "iopub.status.busy": "2022-04-25T20:31:31.509198Z",
     "iopub.status.idle": "2022-04-25T20:31:46.326259Z",
     "shell.execute_reply": "2022-04-25T20:31:46.325815Z"
    },
    "papermill": {
     "duration": 14.841471,
     "end_time": "2022-04-25T20:31:46.326373",
     "exception": false,
     "start_time": "2022-04-25T20:31:31.484902",
     "status": "completed"
    },
    "tags": []
   },
   "outputs": [],
   "source": [
    "import numpy as np \n",
    "import matplotlib.pyplot as plt\n",
    "import pandas as pd\n",
    "\n",
    "import scipy\n",
    "\n",
    "\n",
    "from utils import *\n",
    "from pytorch_sparse_utils import *\n",
    "\n",
    "\n",
    "import torch\n",
    "from torch import nn\n",
    "import torch.nn.functional as F"
   ]
  },
  {
   "cell_type": "markdown",
   "id": "a835fa0b",
   "metadata": {
    "papermill": {
     "duration": 0.01455,
     "end_time": "2022-04-25T20:31:46.357488",
     "exception": false,
     "start_time": "2022-04-25T20:31:46.342938",
     "status": "completed"
    },
    "tags": []
   },
   "source": [
    "### set parameters"
   ]
  },
  {
   "cell_type": "code",
   "execution_count": 2,
   "id": "ab69d6a3",
   "metadata": {
    "execution": {
     "iopub.execute_input": "2022-04-25T20:31:46.388463Z",
     "iopub.status.busy": "2022-04-25T20:31:46.388104Z",
     "iopub.status.idle": "2022-04-25T20:31:46.389798Z",
     "shell.execute_reply": "2022-04-25T20:31:46.389483Z"
    },
    "papermill": {
     "duration": 0.018536,
     "end_time": "2022-04-25T20:31:46.389879",
     "exception": false,
     "start_time": "2022-04-25T20:31:46.371343",
     "status": "completed"
    },
    "tags": [
     "parameters"
    ]
   },
   "outputs": [],
   "source": [
    "DECOMP_RANK = 10\n",
    "LAPLACIAN_PARAM = 0.001\n",
    "TV_PARAM = 0.001"
   ]
  },
  {
   "cell_type": "code",
   "execution_count": 3,
   "id": "e15d1f21",
   "metadata": {
    "execution": {
     "iopub.execute_input": "2022-04-25T20:31:46.589536Z",
     "iopub.status.busy": "2022-04-25T20:31:46.589183Z",
     "iopub.status.idle": "2022-04-25T20:31:46.611465Z",
     "shell.execute_reply": "2022-04-25T20:31:46.611117Z"
    },
    "papermill": {
     "duration": 0.124019,
     "end_time": "2022-04-25T20:31:46.611536",
     "exception": false,
     "start_time": "2022-04-25T20:31:46.487517",
     "status": "completed"
    },
    "tags": [
     "injected-parameters"
    ]
   },
   "outputs": [],
   "source": [
    "# Parameters\n",
    "DECOMP_RANK = 100\n",
    "LAPLACIAN_PARAM = 0.0001\n",
    "TV_PARAM = 0.0001\n"
   ]
  },
  {
   "cell_type": "code",
   "execution_count": 4,
   "id": "944bfea3",
   "metadata": {
    "execution": {
     "iopub.execute_input": "2022-04-25T20:31:46.645023Z",
     "iopub.status.busy": "2022-04-25T20:31:46.644661Z",
     "iopub.status.idle": "2022-04-25T20:32:04.517389Z",
     "shell.execute_reply": "2022-04-25T20:32:04.517739Z"
    },
    "papermill": {
     "duration": 17.889111,
     "end_time": "2022-04-25T20:32:04.517856",
     "exception": false,
     "start_time": "2022-04-25T20:31:46.628745",
     "status": "completed"
    },
    "tags": []
   },
   "outputs": [
    {
     "name": "stdout",
     "output_type": "stream",
     "text": [
      "Using cuda device\n"
     ]
    }
   ],
   "source": [
    "device = 'cuda' if torch.cuda.is_available() else 'cpu'\n",
    "print('Using {} device'.format(device))"
   ]
  },
  {
   "cell_type": "markdown",
   "id": "1b189a45",
   "metadata": {
    "papermill": {
     "duration": 0.059087,
     "end_time": "2022-04-25T20:32:04.641937",
     "exception": false,
     "start_time": "2022-04-25T20:32:04.582850",
     "status": "completed"
    },
    "tags": []
   },
   "source": [
    "### loading data"
   ]
  },
  {
   "cell_type": "code",
   "execution_count": 5,
   "id": "8c15d221",
   "metadata": {
    "execution": {
     "iopub.execute_input": "2022-04-25T20:32:04.675224Z",
     "iopub.status.busy": "2022-04-25T20:32:04.674867Z",
     "iopub.status.idle": "2022-04-25T20:32:06.995685Z",
     "shell.execute_reply": "2022-04-25T20:32:06.996043Z"
    },
    "papermill": {
     "duration": 2.340051,
     "end_time": "2022-04-25T20:32:06.996142",
     "exception": false,
     "start_time": "2022-04-25T20:32:04.656091",
     "status": "completed"
    },
    "tags": []
   },
   "outputs": [
    {
     "data": {
      "text/html": [
       "<div>\n",
       "<style scoped>\n",
       "    .dataframe tbody tr th:only-of-type {\n",
       "        vertical-align: middle;\n",
       "    }\n",
       "\n",
       "    .dataframe tbody tr th {\n",
       "        vertical-align: top;\n",
       "    }\n",
       "\n",
       "    .dataframe thead th {\n",
       "        text-align: right;\n",
       "    }\n",
       "</style>\n",
       "<table border=\"1\" class=\"dataframe\">\n",
       "  <thead>\n",
       "    <tr style=\"text-align: right;\">\n",
       "      <th></th>\n",
       "      <th>1110008P14Rik</th>\n",
       "      <th>1500009C09Rik</th>\n",
       "      <th>1500012F01Rik</th>\n",
       "      <th>1700020I14Rik</th>\n",
       "      <th>2010107E04Rik</th>\n",
       "      <th>2010300C02Rik</th>\n",
       "      <th>2210016L21Rik</th>\n",
       "      <th>2310036O22Rik</th>\n",
       "      <th>2900011O08Rik</th>\n",
       "      <th>3110035E14Rik</th>\n",
       "      <th>...</th>\n",
       "      <th>Zrsr1</th>\n",
       "      <th>Zwint</th>\n",
       "      <th>mt-Co1</th>\n",
       "      <th>mt-Cytb</th>\n",
       "      <th>mt-Nd1</th>\n",
       "      <th>mt-Nd2</th>\n",
       "      <th>mt-Nd4</th>\n",
       "      <th>mt-Nd5</th>\n",
       "      <th>mt-Rnr1</th>\n",
       "      <th>mt-Rnr2</th>\n",
       "    </tr>\n",
       "  </thead>\n",
       "  <tbody>\n",
       "    <tr>\n",
       "      <th>AAAAAAAGGTAGTA</th>\n",
       "      <td>0</td>\n",
       "      <td>0</td>\n",
       "      <td>0</td>\n",
       "      <td>0</td>\n",
       "      <td>0</td>\n",
       "      <td>0</td>\n",
       "      <td>0</td>\n",
       "      <td>0</td>\n",
       "      <td>0</td>\n",
       "      <td>0</td>\n",
       "      <td>...</td>\n",
       "      <td>0</td>\n",
       "      <td>0</td>\n",
       "      <td>0</td>\n",
       "      <td>0</td>\n",
       "      <td>0</td>\n",
       "      <td>0</td>\n",
       "      <td>0</td>\n",
       "      <td>0</td>\n",
       "      <td>1</td>\n",
       "      <td>0</td>\n",
       "    </tr>\n",
       "    <tr>\n",
       "      <th>AAAAAAAGTCCCAA</th>\n",
       "      <td>0</td>\n",
       "      <td>0</td>\n",
       "      <td>0</td>\n",
       "      <td>0</td>\n",
       "      <td>0</td>\n",
       "      <td>0</td>\n",
       "      <td>0</td>\n",
       "      <td>0</td>\n",
       "      <td>0</td>\n",
       "      <td>0</td>\n",
       "      <td>...</td>\n",
       "      <td>0</td>\n",
       "      <td>0</td>\n",
       "      <td>2</td>\n",
       "      <td>2</td>\n",
       "      <td>5</td>\n",
       "      <td>0</td>\n",
       "      <td>1</td>\n",
       "      <td>0</td>\n",
       "      <td>2</td>\n",
       "      <td>4</td>\n",
       "    </tr>\n",
       "    <tr>\n",
       "      <th>AAAAAAATCTTAGT</th>\n",
       "      <td>0</td>\n",
       "      <td>0</td>\n",
       "      <td>0</td>\n",
       "      <td>0</td>\n",
       "      <td>0</td>\n",
       "      <td>0</td>\n",
       "      <td>0</td>\n",
       "      <td>0</td>\n",
       "      <td>0</td>\n",
       "      <td>0</td>\n",
       "      <td>...</td>\n",
       "      <td>0</td>\n",
       "      <td>0</td>\n",
       "      <td>0</td>\n",
       "      <td>0</td>\n",
       "      <td>0</td>\n",
       "      <td>0</td>\n",
       "      <td>0</td>\n",
       "      <td>0</td>\n",
       "      <td>0</td>\n",
       "      <td>0</td>\n",
       "    </tr>\n",
       "    <tr>\n",
       "      <th>AAAAAACATCTTTC</th>\n",
       "      <td>0</td>\n",
       "      <td>0</td>\n",
       "      <td>0</td>\n",
       "      <td>0</td>\n",
       "      <td>0</td>\n",
       "      <td>0</td>\n",
       "      <td>0</td>\n",
       "      <td>0</td>\n",
       "      <td>0</td>\n",
       "      <td>0</td>\n",
       "      <td>...</td>\n",
       "      <td>0</td>\n",
       "      <td>0</td>\n",
       "      <td>0</td>\n",
       "      <td>0</td>\n",
       "      <td>0</td>\n",
       "      <td>0</td>\n",
       "      <td>0</td>\n",
       "      <td>0</td>\n",
       "      <td>1</td>\n",
       "      <td>0</td>\n",
       "    </tr>\n",
       "    <tr>\n",
       "      <th>AAAAAACGAAATAG</th>\n",
       "      <td>0</td>\n",
       "      <td>0</td>\n",
       "      <td>0</td>\n",
       "      <td>0</td>\n",
       "      <td>0</td>\n",
       "      <td>0</td>\n",
       "      <td>0</td>\n",
       "      <td>0</td>\n",
       "      <td>0</td>\n",
       "      <td>0</td>\n",
       "      <td>...</td>\n",
       "      <td>0</td>\n",
       "      <td>0</td>\n",
       "      <td>1</td>\n",
       "      <td>0</td>\n",
       "      <td>0</td>\n",
       "      <td>0</td>\n",
       "      <td>0</td>\n",
       "      <td>0</td>\n",
       "      <td>0</td>\n",
       "      <td>0</td>\n",
       "    </tr>\n",
       "  </tbody>\n",
       "</table>\n",
       "<p>5 rows × 1222 columns</p>\n",
       "</div>"
      ],
      "text/plain": [
       "                1110008P14Rik  1500009C09Rik  1500012F01Rik  1700020I14Rik  \\\n",
       "AAAAAAAGGTAGTA              0              0              0              0   \n",
       "AAAAAAAGTCCCAA              0              0              0              0   \n",
       "AAAAAAATCTTAGT              0              0              0              0   \n",
       "AAAAAACATCTTTC              0              0              0              0   \n",
       "AAAAAACGAAATAG              0              0              0              0   \n",
       "\n",
       "                2010107E04Rik  2010300C02Rik  2210016L21Rik  2310036O22Rik  \\\n",
       "AAAAAAAGGTAGTA              0              0              0              0   \n",
       "AAAAAAAGTCCCAA              0              0              0              0   \n",
       "AAAAAAATCTTAGT              0              0              0              0   \n",
       "AAAAAACATCTTTC              0              0              0              0   \n",
       "AAAAAACGAAATAG              0              0              0              0   \n",
       "\n",
       "                2900011O08Rik  3110035E14Rik  ...  Zrsr1  Zwint  mt-Co1  \\\n",
       "AAAAAAAGGTAGTA              0              0  ...      0      0       0   \n",
       "AAAAAAAGTCCCAA              0              0  ...      0      0       2   \n",
       "AAAAAAATCTTAGT              0              0  ...      0      0       0   \n",
       "AAAAAACATCTTTC              0              0  ...      0      0       0   \n",
       "AAAAAACGAAATAG              0              0  ...      0      0       1   \n",
       "\n",
       "                mt-Cytb  mt-Nd1  mt-Nd2  mt-Nd4  mt-Nd5  mt-Rnr1  mt-Rnr2  \n",
       "AAAAAAAGGTAGTA        0       0       0       0       0        1        0  \n",
       "AAAAAAAGTCCCAA        2       5       0       1       0        2        4  \n",
       "AAAAAAATCTTAGT        0       0       0       0       0        0        0  \n",
       "AAAAAACATCTTTC        0       0       0       0       0        1        0  \n",
       "AAAAAACGAAATAG        0       0       0       0       0        0        0  \n",
       "\n",
       "[5 rows x 1222 columns]"
      ]
     },
     "execution_count": 5,
     "metadata": {},
     "output_type": "execute_result"
    }
   ],
   "source": [
    "bead_reads_subset = pd.read_csv('./data/bead_reads_subset.csv', index_col='Unnamed: 0')\n",
    "bead_reads_subset.head()"
   ]
  },
  {
   "cell_type": "code",
   "execution_count": 6,
   "id": "9b13294e",
   "metadata": {
    "execution": {
     "iopub.execute_input": "2022-04-25T20:32:07.031623Z",
     "iopub.status.busy": "2022-04-25T20:32:07.031184Z",
     "iopub.status.idle": "2022-04-25T20:32:07.582267Z",
     "shell.execute_reply": "2022-04-25T20:32:07.582732Z"
    },
    "papermill": {
     "duration": 0.569104,
     "end_time": "2022-04-25T20:32:07.582819",
     "exception": false,
     "start_time": "2022-04-25T20:32:07.013715",
     "status": "completed"
    },
    "tags": []
   },
   "outputs": [],
   "source": [
    "data_scipy_sparse = scipy.sparse.coo_matrix( bead_reads_subset.to_numpy() )"
   ]
  },
  {
   "cell_type": "code",
   "execution_count": 7,
   "id": "3d9a75f0",
   "metadata": {
    "execution": {
     "iopub.execute_input": "2022-04-25T20:32:07.755155Z",
     "iopub.status.busy": "2022-04-25T20:32:07.754685Z",
     "iopub.status.idle": "2022-04-25T20:32:45.034739Z",
     "shell.execute_reply": "2022-04-25T20:32:45.034342Z"
    },
    "papermill": {
     "duration": 37.38135,
     "end_time": "2022-04-25T20:32:45.034828",
     "exception": false,
     "start_time": "2022-04-25T20:32:07.653478",
     "status": "completed"
    },
    "tags": []
   },
   "outputs": [],
   "source": [
    "data_sparse_tensor = scipy_sparse_to_pytorch_sparse(data_scipy_sparse).to(device=device)"
   ]
  },
  {
   "cell_type": "code",
   "execution_count": 8,
   "id": "b7a8ac73",
   "metadata": {
    "execution": {
     "iopub.execute_input": "2022-04-25T20:32:45.352980Z",
     "iopub.status.busy": "2022-04-25T20:32:45.352618Z",
     "iopub.status.idle": "2022-04-25T20:32:45.360540Z",
     "shell.execute_reply": "2022-04-25T20:32:45.361028Z"
    },
    "papermill": {
     "duration": 0.237764,
     "end_time": "2022-04-25T20:32:45.361111",
     "exception": false,
     "start_time": "2022-04-25T20:32:45.123347",
     "status": "completed"
    },
    "tags": []
   },
   "outputs": [
    {
     "data": {
      "text/plain": [
       "tensor(indices=tensor([[    0,     0,     0,  ..., 53207, 53207, 53207],\n",
       "                       [   84,   412,   528,  ...,  1219,  1220,  1221]]),\n",
       "       values=tensor([ 1.,  1.,  1.,  ..., 12., 26., 71.]),\n",
       "       device='cuda:0', size=(53208, 1222), nnz=9552845, layout=torch.sparse_coo)"
      ]
     },
     "execution_count": 8,
     "metadata": {},
     "output_type": "execute_result"
    }
   ],
   "source": [
    "data_sparse_tensor"
   ]
  },
  {
   "cell_type": "code",
   "execution_count": 9,
   "id": "971fff16",
   "metadata": {
    "execution": {
     "iopub.execute_input": "2022-04-25T20:32:45.411409Z",
     "iopub.status.busy": "2022-04-25T20:32:45.411060Z",
     "iopub.status.idle": "2022-04-25T20:32:45.782954Z",
     "shell.execute_reply": "2022-04-25T20:32:45.782443Z"
    },
    "papermill": {
     "duration": 0.404699,
     "end_time": "2022-04-25T20:32:45.783027",
     "exception": false,
     "start_time": "2022-04-25T20:32:45.378328",
     "status": "completed"
    },
    "tags": []
   },
   "outputs": [],
   "source": [
    "data_dense_tensor = data_sparse_tensor.to_dense()"
   ]
  },
  {
   "cell_type": "code",
   "execution_count": 10,
   "id": "ba4c82e2",
   "metadata": {
    "execution": {
     "iopub.execute_input": "2022-04-25T20:32:45.851290Z",
     "iopub.status.busy": "2022-04-25T20:32:45.850614Z",
     "iopub.status.idle": "2022-04-25T20:32:45.999974Z",
     "shell.execute_reply": "2022-04-25T20:32:46.000417Z"
    },
    "papermill": {
     "duration": 0.168224,
     "end_time": "2022-04-25T20:32:46.000501",
     "exception": false,
     "start_time": "2022-04-25T20:32:45.832277",
     "status": "completed"
    },
    "tags": []
   },
   "outputs": [],
   "source": [
    "mask_scipy_sparse = (data_scipy_sparse != 0).astype(np.int64).tocoo()"
   ]
  },
  {
   "cell_type": "code",
   "execution_count": 11,
   "id": "0a4fc449",
   "metadata": {
    "execution": {
     "iopub.execute_input": "2022-04-25T20:32:46.035616Z",
     "iopub.status.busy": "2022-04-25T20:32:46.035267Z",
     "iopub.status.idle": "2022-04-25T20:32:46.093083Z",
     "shell.execute_reply": "2022-04-25T20:32:46.093435Z"
    },
    "papermill": {
     "duration": 0.076902,
     "end_time": "2022-04-25T20:32:46.093527",
     "exception": false,
     "start_time": "2022-04-25T20:32:46.016625",
     "status": "completed"
    },
    "tags": []
   },
   "outputs": [],
   "source": [
    "mask_sparse_tensor = scipy_sparse_to_pytorch_sparse(mask_scipy_sparse)"
   ]
  },
  {
   "cell_type": "code",
   "execution_count": 12,
   "id": "be043dcd",
   "metadata": {
    "execution": {
     "iopub.execute_input": "2022-04-25T20:32:46.128330Z",
     "iopub.status.busy": "2022-04-25T20:32:46.127980Z",
     "iopub.status.idle": "2022-04-25T20:32:47.182178Z",
     "shell.execute_reply": "2022-04-25T20:32:47.182497Z"
    },
    "papermill": {
     "duration": 1.073496,
     "end_time": "2022-04-25T20:32:47.182603",
     "exception": false,
     "start_time": "2022-04-25T20:32:46.109107",
     "status": "completed"
    },
    "tags": []
   },
   "outputs": [],
   "source": [
    "mask_dense_tensor = mask_sparse_tensor.to_dense().bool()"
   ]
  },
  {
   "cell_type": "code",
   "execution_count": 13,
   "id": "eab321c1",
   "metadata": {
    "execution": {
     "iopub.execute_input": "2022-04-25T20:32:47.374462Z",
     "iopub.status.busy": "2022-04-25T20:32:47.374112Z",
     "iopub.status.idle": "2022-04-25T20:33:44.909817Z",
     "shell.execute_reply": "2022-04-25T20:33:44.909393Z"
    },
    "papermill": {
     "duration": 57.650615,
     "end_time": "2022-04-25T20:33:44.909963",
     "exception": false,
     "start_time": "2022-04-25T20:32:47.259348",
     "status": "completed"
    },
    "tags": []
   },
   "outputs": [],
   "source": [
    "distances = np.load('./data/macosko_distance_matrix.npy')"
   ]
  },
  {
   "cell_type": "code",
   "execution_count": 14,
   "id": "8f547511",
   "metadata": {
    "execution": {
     "iopub.execute_input": "2022-04-25T20:33:44.952388Z",
     "iopub.status.busy": "2022-04-25T20:33:44.952026Z",
     "iopub.status.idle": "2022-04-25T20:33:52.629410Z",
     "shell.execute_reply": "2022-04-25T20:33:52.628986Z"
    },
    "papermill": {
     "duration": 7.696368,
     "end_time": "2022-04-25T20:33:52.629512",
     "exception": false,
     "start_time": "2022-04-25T20:33:44.933144",
     "status": "completed"
    },
    "tags": []
   },
   "outputs": [],
   "source": [
    "adjacency = scipy.sparse.coo_matrix( distances <= 20 , dtype=np.float32)\n",
    "degree = scipy.sparse.diags( adjacency.sum(axis=0).A1 )\n",
    "laplacian = (degree - adjacency).tocoo()"
   ]
  },
  {
   "cell_type": "code",
   "execution_count": 15,
   "id": "b50575cb",
   "metadata": {
    "execution": {
     "iopub.execute_input": "2022-04-25T20:33:52.675483Z",
     "iopub.status.busy": "2022-04-25T20:33:52.666980Z",
     "iopub.status.idle": "2022-04-25T20:33:52.682974Z",
     "shell.execute_reply": "2022-04-25T20:33:52.682561Z"
    },
    "papermill": {
     "duration": 0.03542,
     "end_time": "2022-04-25T20:33:52.683083",
     "exception": false,
     "start_time": "2022-04-25T20:33:52.647663",
     "status": "completed"
    },
    "tags": []
   },
   "outputs": [],
   "source": [
    "adjacency_sparse_tensor = scipy_sparse_to_pytorch_sparse(adjacency)"
   ]
  },
  {
   "cell_type": "code",
   "execution_count": 16,
   "id": "449de4d3",
   "metadata": {
    "execution": {
     "iopub.execute_input": "2022-04-25T20:33:52.724131Z",
     "iopub.status.busy": "2022-04-25T20:33:52.723730Z",
     "iopub.status.idle": "2022-04-25T20:33:55.230813Z",
     "shell.execute_reply": "2022-04-25T20:33:55.230438Z"
    },
    "papermill": {
     "duration": 2.524847,
     "end_time": "2022-04-25T20:33:55.230922",
     "exception": false,
     "start_time": "2022-04-25T20:33:52.706075",
     "status": "completed"
    },
    "tags": []
   },
   "outputs": [],
   "source": [
    "adjacency_dense_tensor = adjacency_sparse_tensor.to_dense()"
   ]
  },
  {
   "cell_type": "code",
   "execution_count": 17,
   "id": "71cdf73c",
   "metadata": {
    "execution": {
     "iopub.execute_input": "2022-04-25T20:33:55.291621Z",
     "iopub.status.busy": "2022-04-25T20:33:55.291164Z",
     "iopub.status.idle": "2022-04-25T20:33:55.293102Z",
     "shell.execute_reply": "2022-04-25T20:33:55.292705Z"
    },
    "papermill": {
     "duration": 0.044974,
     "end_time": "2022-04-25T20:33:55.293201",
     "exception": false,
     "start_time": "2022-04-25T20:33:55.248227",
     "status": "completed"
    },
    "tags": []
   },
   "outputs": [],
   "source": [
    "def laplacian_loss(x, x_lap):\n",
    "    \n",
    "    lap_sum = 0\n",
    "    for ii in range(x.shape[1]):\n",
    "        lap_sum = lap_sum + (x[:,ii].T @ x_lap @ x[:,ii])\n",
    "        \n",
    "    return lap_sum"
   ]
  },
  {
   "cell_type": "code",
   "execution_count": 18,
   "id": "c5de6461",
   "metadata": {
    "execution": {
     "iopub.execute_input": "2022-04-25T20:33:55.358495Z",
     "iopub.status.busy": "2022-04-25T20:33:55.358120Z",
     "iopub.status.idle": "2022-04-25T20:33:55.373423Z",
     "shell.execute_reply": "2022-04-25T20:33:55.372980Z"
    },
    "papermill": {
     "duration": 0.048396,
     "end_time": "2022-04-25T20:33:55.373506",
     "exception": false,
     "start_time": "2022-04-25T20:33:55.325110",
     "status": "completed"
    },
    "tags": []
   },
   "outputs": [],
   "source": [
    "mf = MatrixFactorization(mask_sparse_tensor.shape[0], mask_sparse_tensor.shape[1], DECOMP_RANK).to(device=device)"
   ]
  },
  {
   "cell_type": "code",
   "execution_count": 19,
   "id": "9f01c0d0",
   "metadata": {
    "execution": {
     "iopub.execute_input": "2022-04-25T20:33:55.421998Z",
     "iopub.status.busy": "2022-04-25T20:33:55.421612Z",
     "iopub.status.idle": "2022-04-25T20:33:55.423168Z",
     "shell.execute_reply": "2022-04-25T20:33:55.423469Z"
    },
    "papermill": {
     "duration": 0.034153,
     "end_time": "2022-04-25T20:33:55.423563",
     "exception": false,
     "start_time": "2022-04-25T20:33:55.389410",
     "status": "completed"
    },
    "tags": []
   },
   "outputs": [],
   "source": [
    "import torch.optim as optim\n",
    "\n",
    "optimizer = optim.Adam(mf.parameters(), lr=0.001)"
   ]
  },
  {
   "cell_type": "code",
   "execution_count": 20,
   "id": "a371f596",
   "metadata": {
    "execution": {
     "iopub.execute_input": "2022-04-25T20:33:55.481069Z",
     "iopub.status.busy": "2022-04-25T20:33:55.480623Z"
    },
    "papermill": {
     "duration": null,
     "end_time": null,
     "exception": false,
     "start_time": "2022-04-25T20:33:55.446514",
     "status": "running"
    },
    "tags": []
   },
   "outputs": [
    {
     "name": "stdout",
     "output_type": "stream",
     "text": [
      "0\n",
      "215980310.0\n"
     ]
    },
    {
     "name": "stdout",
     "output_type": "stream",
     "text": [
      "1\n",
      "215790990.0\n"
     ]
    },
    {
     "name": "stdout",
     "output_type": "stream",
     "text": [
      "2\n",
      "215301244.0\n"
     ]
    }
   ],
   "source": [
    "losses = []\n",
    "\n",
    "for epoch in range(50):\n",
    "    \n",
    "    batcher = data_adjacency_batcher(data_dense_tensor, adjacency_dense_tensor, 5000)\n",
    "    \n",
    "    total_loss = 0\n",
    "    \n",
    "    \n",
    "    for (data_batch, mask_batch, adjacency_batch, row_batch) in batcher:\n",
    "        \n",
    "        \n",
    "        \n",
    "        data_batch = data_batch.to(device=device)\n",
    "        mask_batch = mask_batch.to(device=device)\n",
    "        adjacency_batch = adjacency_batch.to(device=device)\n",
    "        row_batch = row_batch.to(device=device)\n",
    "        \n",
    "        laplacian_tensor = adjacency_to_laplacian(adjacency_batch).to(device=device)\n",
    "    \n",
    "        optimizer.zero_grad()\n",
    "\n",
    "        output = mf.forward(row_batch, torch.arange(0, data_batch.shape[1]))\n",
    "        \n",
    "        L1_laplacian_tensor = adjacency_to_laplacian(adjacency_to_L1_adjacency(output, adjacency_batch, 0.001, device)).to(device=device)\n",
    "        \n",
    "        loss = squared_loss(data_batch[mask_batch], output[mask_batch]) + LAPLACIAN_PARAM*laplacian_loss(output, laplacian_tensor) + TV_PARAM*laplacian_loss(output, L1_laplacian_tensor)\n",
    "        loss.backward()\n",
    "        optimizer.step()\n",
    "        \n",
    "        total_loss += loss.item()\n",
    "        \n",
    "\n",
    "    if epoch % 1 == 0:\n",
    "        print(epoch)\n",
    "        print(total_loss)\n",
    "        \n",
    "    losses.append(total_loss)"
   ]
  },
  {
   "cell_type": "code",
   "execution_count": null,
   "id": "c0bb8a12",
   "metadata": {
    "papermill": {
     "duration": null,
     "end_time": null,
     "exception": null,
     "start_time": null,
     "status": "pending"
    },
    "tags": []
   },
   "outputs": [],
   "source": [
    "loss.item()"
   ]
  },
  {
   "cell_type": "code",
   "execution_count": null,
   "id": "cee81911",
   "metadata": {
    "papermill": {
     "duration": null,
     "end_time": null,
     "exception": null,
     "start_time": null,
     "status": "pending"
    },
    "tags": []
   },
   "outputs": [],
   "source": [
    "np.save(f'./results/loss_curves/mf_rank{DECOMP_RANK}_L{LAPLACIAN_PARAM}_TV{TV_PARAM}_losses', np.array(losses))"
   ]
  },
  {
   "cell_type": "code",
   "execution_count": null,
   "id": "1c9b9fb1",
   "metadata": {
    "papermill": {
     "duration": null,
     "end_time": null,
     "exception": null,
     "start_time": null,
     "status": "pending"
    },
    "tags": []
   },
   "outputs": [],
   "source": [
    "torch.save(mf.state_dict(), f'./results/saved_models/mf_rank{DECOMP_RANK}_L{LAPLACIAN_PARAM}_TV{TV_PARAM}_state')"
   ]
  },
  {
   "cell_type": "code",
   "execution_count": null,
   "id": "ad6752a5",
   "metadata": {
    "papermill": {
     "duration": null,
     "end_time": null,
     "exception": null,
     "start_time": null,
     "status": "pending"
    },
    "tags": []
   },
   "outputs": [],
   "source": [
    "final_output = mf.forward(torch.arange(0, data_dense_tensor.shape[0]), torch.arange(0, data_dense_tensor.shape[1]))\n",
    "\n",
    "final_squared_error = squared_loss(data_dense_tensor, final_output)\n",
    "final_laplacian = laplacian_loss(final_output, adjacency_to_laplacian(adjacency_dense_tensor).to(device=device))\n",
    "final_TV =  laplacian_loss(final_output, adjacency_to_laplacian(adjacency_to_L1_adjacency(final_output, adjacency_dense_tensor, 0.001, device)).to(device=device))"
   ]
  },
  {
   "cell_type": "code",
   "execution_count": null,
   "id": "7e62a45e",
   "metadata": {
    "papermill": {
     "duration": null,
     "end_time": null,
     "exception": null,
     "start_time": null,
     "status": "pending"
    },
    "tags": []
   },
   "outputs": [],
   "source": [
    "np.save(f'./results/final_losses/mf_rank{DECOMP_RANK}_L{LAPLACIAN_PARAM}_TV{TV_PARAM}_losses', np.array([final_squared_error.item(), final_laplacian.item(), final_TV.item()]))"
   ]
  },
  {
   "cell_type": "code",
   "execution_count": null,
   "id": "4f07c4bf",
   "metadata": {
    "papermill": {
     "duration": null,
     "end_time": null,
     "exception": null,
     "start_time": null,
     "status": "pending"
    },
    "tags": []
   },
   "outputs": [],
   "source": []
  }
 ],
 "metadata": {
  "interpreter": {
   "hash": "22ee4ece52021b4a120b95b326dd7a4d7938576e919f53927a7959ab5d7e1e45"
  },
  "kernelspec": {
   "display_name": "spatialSFT",
   "language": "python",
   "name": "spatialsft"
  },
  "language_info": {
   "codemirror_mode": {
    "name": "ipython",
    "version": 3
   },
   "file_extension": ".py",
   "mimetype": "text/x-python",
   "name": "python",
   "nbconvert_exporter": "python",
   "pygments_lexer": "ipython3",
   "version": "3.8.0"
  },
  "papermill": {
   "default_parameters": {},
   "duration": null,
   "end_time": null,
   "environment_variables": {},
   "exception": null,
   "input_path": "./notebooks/mf_param_template.ipynb",
   "output_path": "./papermill_output/mf_param_template_rank100_lap0.0001_tv0.0001.ipynb",
   "parameters": {
    "DECOMP_RANK": 100,
    "LAPLACIAN_PARAM": 0.0001,
    "TV_PARAM": 0.0001
   },
   "start_time": "2022-04-25T20:31:24.911295",
   "version": "2.3.4"
  }
 },
 "nbformat": 4,
 "nbformat_minor": 5
}