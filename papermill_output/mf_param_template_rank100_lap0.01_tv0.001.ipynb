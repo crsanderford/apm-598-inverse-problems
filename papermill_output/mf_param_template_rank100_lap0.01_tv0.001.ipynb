{
 "cells": [
  {
   "cell_type": "markdown",
   "id": "710a8126",
   "metadata": {
    "papermill": {
     "duration": 0.015905,
     "end_time": "2022-04-25T08:38:15.376230",
     "exception": false,
     "start_time": "2022-04-25T08:38:15.360325",
     "status": "completed"
    },
    "tags": []
   },
   "source": [
    "### setup"
   ]
  },
  {
   "cell_type": "code",
   "execution_count": 1,
   "id": "f26cf5c5",
   "metadata": {
    "execution": {
     "iopub.execute_input": "2022-04-25T08:38:15.407837Z",
     "iopub.status.busy": "2022-04-25T08:38:15.407457Z",
     "iopub.status.idle": "2022-04-25T08:38:25.471544Z",
     "shell.execute_reply": "2022-04-25T08:38:25.471077Z"
    },
    "papermill": {
     "duration": 10.080746,
     "end_time": "2022-04-25T08:38:25.471651",
     "exception": false,
     "start_time": "2022-04-25T08:38:15.390905",
     "status": "completed"
    },
    "tags": []
   },
   "outputs": [],
   "source": [
    "import numpy as np \n",
    "import matplotlib.pyplot as plt\n",
    "import pandas as pd\n",
    "\n",
    "import scipy\n",
    "\n",
    "\n",
    "from utils import *\n",
    "from pytorch_sparse_utils import *\n",
    "\n",
    "\n",
    "import torch\n",
    "from torch import nn\n",
    "import torch.nn.functional as F"
   ]
  },
  {
   "cell_type": "markdown",
   "id": "6a47a6e1",
   "metadata": {
    "papermill": {
     "duration": 0.013631,
     "end_time": "2022-04-25T08:38:25.500220",
     "exception": false,
     "start_time": "2022-04-25T08:38:25.486589",
     "status": "completed"
    },
    "tags": []
   },
   "source": [
    "### set parameters"
   ]
  },
  {
   "cell_type": "code",
   "execution_count": 2,
   "id": "cb41e735",
   "metadata": {
    "execution": {
     "iopub.execute_input": "2022-04-25T08:38:25.530439Z",
     "iopub.status.busy": "2022-04-25T08:38:25.530082Z",
     "iopub.status.idle": "2022-04-25T08:38:25.532557Z",
     "shell.execute_reply": "2022-04-25T08:38:25.532211Z"
    },
    "papermill": {
     "duration": 0.019229,
     "end_time": "2022-04-25T08:38:25.532633",
     "exception": false,
     "start_time": "2022-04-25T08:38:25.513404",
     "status": "completed"
    },
    "tags": [
     "parameters"
    ]
   },
   "outputs": [],
   "source": [
    "DECOMP_RANK = 10\n",
    "LAPLACIAN_PARAM = 0.001\n",
    "TV_PARAM = 0.001"
   ]
  },
  {
   "cell_type": "code",
   "execution_count": 3,
   "id": "fe013389",
   "metadata": {
    "execution": {
     "iopub.execute_input": "2022-04-25T08:38:25.562684Z",
     "iopub.status.busy": "2022-04-25T08:38:25.562129Z",
     "iopub.status.idle": "2022-04-25T08:38:25.565110Z",
     "shell.execute_reply": "2022-04-25T08:38:25.565394Z"
    },
    "papermill": {
     "duration": 0.019264,
     "end_time": "2022-04-25T08:38:25.565479",
     "exception": false,
     "start_time": "2022-04-25T08:38:25.546215",
     "status": "completed"
    },
    "tags": [
     "injected-parameters"
    ]
   },
   "outputs": [],
   "source": [
    "# Parameters\n",
    "DECOMP_RANK = 100\n",
    "LAPLACIAN_PARAM = 0.01\n",
    "TV_PARAM = 0.001\n"
   ]
  },
  {
   "cell_type": "code",
   "execution_count": 4,
   "id": "16b04f41",
   "metadata": {
    "execution": {
     "iopub.execute_input": "2022-04-25T08:38:25.595433Z",
     "iopub.status.busy": "2022-04-25T08:38:25.594690Z",
     "iopub.status.idle": "2022-04-25T08:38:53.335463Z",
     "shell.execute_reply": "2022-04-25T08:38:53.335116Z"
    },
    "papermill": {
     "duration": 27.75596,
     "end_time": "2022-04-25T08:38:53.335572",
     "exception": false,
     "start_time": "2022-04-25T08:38:25.579612",
     "status": "completed"
    },
    "tags": []
   },
   "outputs": [
    {
     "name": "stdout",
     "output_type": "stream",
     "text": [
      "Using cuda device\n"
     ]
    }
   ],
   "source": [
    "device = 'cuda' if torch.cuda.is_available() else 'cpu'\n",
    "print('Using {} device'.format(device))"
   ]
  },
  {
   "cell_type": "markdown",
   "id": "359df454",
   "metadata": {
    "papermill": {
     "duration": 0.013993,
     "end_time": "2022-04-25T08:38:53.365134",
     "exception": false,
     "start_time": "2022-04-25T08:38:53.351141",
     "status": "completed"
    },
    "tags": []
   },
   "source": [
    "### loading data"
   ]
  },
  {
   "cell_type": "code",
   "execution_count": 5,
   "id": "c35a18f2",
   "metadata": {
    "execution": {
     "iopub.execute_input": "2022-04-25T08:38:53.397229Z",
     "iopub.status.busy": "2022-04-25T08:38:53.396881Z",
     "iopub.status.idle": "2022-04-25T08:38:55.704176Z",
     "shell.execute_reply": "2022-04-25T08:38:55.704506Z"
    },
    "papermill": {
     "duration": 2.325701,
     "end_time": "2022-04-25T08:38:55.704635",
     "exception": false,
     "start_time": "2022-04-25T08:38:53.378934",
     "status": "completed"
    },
    "tags": []
   },
   "outputs": [
    {
     "data": {
      "text/html": [
       "<div>\n",
       "<style scoped>\n",
       "    .dataframe tbody tr th:only-of-type {\n",
       "        vertical-align: middle;\n",
       "    }\n",
       "\n",
       "    .dataframe tbody tr th {\n",
       "        vertical-align: top;\n",
       "    }\n",
       "\n",
       "    .dataframe thead th {\n",
       "        text-align: right;\n",
       "    }\n",
       "</style>\n",
       "<table border=\"1\" class=\"dataframe\">\n",
       "  <thead>\n",
       "    <tr style=\"text-align: right;\">\n",
       "      <th></th>\n",
       "      <th>1110008P14Rik</th>\n",
       "      <th>1500009C09Rik</th>\n",
       "      <th>1500012F01Rik</th>\n",
       "      <th>1700020I14Rik</th>\n",
       "      <th>2010107E04Rik</th>\n",
       "      <th>2010300C02Rik</th>\n",
       "      <th>2210016L21Rik</th>\n",
       "      <th>2310036O22Rik</th>\n",
       "      <th>2900011O08Rik</th>\n",
       "      <th>3110035E14Rik</th>\n",
       "      <th>...</th>\n",
       "      <th>Zrsr1</th>\n",
       "      <th>Zwint</th>\n",
       "      <th>mt-Co1</th>\n",
       "      <th>mt-Cytb</th>\n",
       "      <th>mt-Nd1</th>\n",
       "      <th>mt-Nd2</th>\n",
       "      <th>mt-Nd4</th>\n",
       "      <th>mt-Nd5</th>\n",
       "      <th>mt-Rnr1</th>\n",
       "      <th>mt-Rnr2</th>\n",
       "    </tr>\n",
       "  </thead>\n",
       "  <tbody>\n",
       "    <tr>\n",
       "      <th>AAAAAAAGGTAGTA</th>\n",
       "      <td>0</td>\n",
       "      <td>0</td>\n",
       "      <td>0</td>\n",
       "      <td>0</td>\n",
       "      <td>0</td>\n",
       "      <td>0</td>\n",
       "      <td>0</td>\n",
       "      <td>0</td>\n",
       "      <td>0</td>\n",
       "      <td>0</td>\n",
       "      <td>...</td>\n",
       "      <td>0</td>\n",
       "      <td>0</td>\n",
       "      <td>0</td>\n",
       "      <td>0</td>\n",
       "      <td>0</td>\n",
       "      <td>0</td>\n",
       "      <td>0</td>\n",
       "      <td>0</td>\n",
       "      <td>1</td>\n",
       "      <td>0</td>\n",
       "    </tr>\n",
       "    <tr>\n",
       "      <th>AAAAAAAGTCCCAA</th>\n",
       "      <td>0</td>\n",
       "      <td>0</td>\n",
       "      <td>0</td>\n",
       "      <td>0</td>\n",
       "      <td>0</td>\n",
       "      <td>0</td>\n",
       "      <td>0</td>\n",
       "      <td>0</td>\n",
       "      <td>0</td>\n",
       "      <td>0</td>\n",
       "      <td>...</td>\n",
       "      <td>0</td>\n",
       "      <td>0</td>\n",
       "      <td>2</td>\n",
       "      <td>2</td>\n",
       "      <td>5</td>\n",
       "      <td>0</td>\n",
       "      <td>1</td>\n",
       "      <td>0</td>\n",
       "      <td>2</td>\n",
       "      <td>4</td>\n",
       "    </tr>\n",
       "    <tr>\n",
       "      <th>AAAAAAATCTTAGT</th>\n",
       "      <td>0</td>\n",
       "      <td>0</td>\n",
       "      <td>0</td>\n",
       "      <td>0</td>\n",
       "      <td>0</td>\n",
       "      <td>0</td>\n",
       "      <td>0</td>\n",
       "      <td>0</td>\n",
       "      <td>0</td>\n",
       "      <td>0</td>\n",
       "      <td>...</td>\n",
       "      <td>0</td>\n",
       "      <td>0</td>\n",
       "      <td>0</td>\n",
       "      <td>0</td>\n",
       "      <td>0</td>\n",
       "      <td>0</td>\n",
       "      <td>0</td>\n",
       "      <td>0</td>\n",
       "      <td>0</td>\n",
       "      <td>0</td>\n",
       "    </tr>\n",
       "    <tr>\n",
       "      <th>AAAAAACATCTTTC</th>\n",
       "      <td>0</td>\n",
       "      <td>0</td>\n",
       "      <td>0</td>\n",
       "      <td>0</td>\n",
       "      <td>0</td>\n",
       "      <td>0</td>\n",
       "      <td>0</td>\n",
       "      <td>0</td>\n",
       "      <td>0</td>\n",
       "      <td>0</td>\n",
       "      <td>...</td>\n",
       "      <td>0</td>\n",
       "      <td>0</td>\n",
       "      <td>0</td>\n",
       "      <td>0</td>\n",
       "      <td>0</td>\n",
       "      <td>0</td>\n",
       "      <td>0</td>\n",
       "      <td>0</td>\n",
       "      <td>1</td>\n",
       "      <td>0</td>\n",
       "    </tr>\n",
       "    <tr>\n",
       "      <th>AAAAAACGAAATAG</th>\n",
       "      <td>0</td>\n",
       "      <td>0</td>\n",
       "      <td>0</td>\n",
       "      <td>0</td>\n",
       "      <td>0</td>\n",
       "      <td>0</td>\n",
       "      <td>0</td>\n",
       "      <td>0</td>\n",
       "      <td>0</td>\n",
       "      <td>0</td>\n",
       "      <td>...</td>\n",
       "      <td>0</td>\n",
       "      <td>0</td>\n",
       "      <td>1</td>\n",
       "      <td>0</td>\n",
       "      <td>0</td>\n",
       "      <td>0</td>\n",
       "      <td>0</td>\n",
       "      <td>0</td>\n",
       "      <td>0</td>\n",
       "      <td>0</td>\n",
       "    </tr>\n",
       "  </tbody>\n",
       "</table>\n",
       "<p>5 rows × 1222 columns</p>\n",
       "</div>"
      ],
      "text/plain": [
       "                1110008P14Rik  1500009C09Rik  1500012F01Rik  1700020I14Rik  \\\n",
       "AAAAAAAGGTAGTA              0              0              0              0   \n",
       "AAAAAAAGTCCCAA              0              0              0              0   \n",
       "AAAAAAATCTTAGT              0              0              0              0   \n",
       "AAAAAACATCTTTC              0              0              0              0   \n",
       "AAAAAACGAAATAG              0              0              0              0   \n",
       "\n",
       "                2010107E04Rik  2010300C02Rik  2210016L21Rik  2310036O22Rik  \\\n",
       "AAAAAAAGGTAGTA              0              0              0              0   \n",
       "AAAAAAAGTCCCAA              0              0              0              0   \n",
       "AAAAAAATCTTAGT              0              0              0              0   \n",
       "AAAAAACATCTTTC              0              0              0              0   \n",
       "AAAAAACGAAATAG              0              0              0              0   \n",
       "\n",
       "                2900011O08Rik  3110035E14Rik  ...  Zrsr1  Zwint  mt-Co1  \\\n",
       "AAAAAAAGGTAGTA              0              0  ...      0      0       0   \n",
       "AAAAAAAGTCCCAA              0              0  ...      0      0       2   \n",
       "AAAAAAATCTTAGT              0              0  ...      0      0       0   \n",
       "AAAAAACATCTTTC              0              0  ...      0      0       0   \n",
       "AAAAAACGAAATAG              0              0  ...      0      0       1   \n",
       "\n",
       "                mt-Cytb  mt-Nd1  mt-Nd2  mt-Nd4  mt-Nd5  mt-Rnr1  mt-Rnr2  \n",
       "AAAAAAAGGTAGTA        0       0       0       0       0        1        0  \n",
       "AAAAAAAGTCCCAA        2       5       0       1       0        2        4  \n",
       "AAAAAAATCTTAGT        0       0       0       0       0        0        0  \n",
       "AAAAAACATCTTTC        0       0       0       0       0        1        0  \n",
       "AAAAAACGAAATAG        0       0       0       0       0        0        0  \n",
       "\n",
       "[5 rows x 1222 columns]"
      ]
     },
     "execution_count": 5,
     "metadata": {},
     "output_type": "execute_result"
    }
   ],
   "source": [
    "bead_reads_subset = pd.read_csv('./data/bead_reads_subset.csv', index_col='Unnamed: 0')\n",
    "bead_reads_subset.head()"
   ]
  },
  {
   "cell_type": "code",
   "execution_count": 6,
   "id": "91751fb3",
   "metadata": {
    "execution": {
     "iopub.execute_input": "2022-04-25T08:38:55.738740Z",
     "iopub.status.busy": "2022-04-25T08:38:55.738391Z",
     "iopub.status.idle": "2022-04-25T08:38:56.281277Z",
     "shell.execute_reply": "2022-04-25T08:38:56.281575Z"
    },
    "papermill": {
     "duration": 0.561603,
     "end_time": "2022-04-25T08:38:56.281705",
     "exception": false,
     "start_time": "2022-04-25T08:38:55.720102",
     "status": "completed"
    },
    "tags": []
   },
   "outputs": [],
   "source": [
    "data_scipy_sparse = scipy.sparse.coo_matrix( bead_reads_subset.to_numpy() )"
   ]
  },
  {
   "cell_type": "code",
   "execution_count": 7,
   "id": "6cbe61f1",
   "metadata": {
    "execution": {
     "iopub.execute_input": "2022-04-25T08:38:56.315303Z",
     "iopub.status.busy": "2022-04-25T08:38:56.314950Z",
     "iopub.status.idle": "2022-04-25T08:39:06.440501Z",
     "shell.execute_reply": "2022-04-25T08:39:06.440081Z"
    },
    "papermill": {
     "duration": 10.14354,
     "end_time": "2022-04-25T08:39:06.440599",
     "exception": false,
     "start_time": "2022-04-25T08:38:56.297059",
     "status": "completed"
    },
    "tags": []
   },
   "outputs": [],
   "source": [
    "data_sparse_tensor = scipy_sparse_to_pytorch_sparse(data_scipy_sparse).to(device=device)"
   ]
  },
  {
   "cell_type": "code",
   "execution_count": 8,
   "id": "6cd492bb",
   "metadata": {
    "execution": {
     "iopub.execute_input": "2022-04-25T08:39:06.476701Z",
     "iopub.status.busy": "2022-04-25T08:39:06.476317Z",
     "iopub.status.idle": "2022-04-25T08:39:06.483298Z",
     "shell.execute_reply": "2022-04-25T08:39:06.482937Z"
    },
    "papermill": {
     "duration": 0.024865,
     "end_time": "2022-04-25T08:39:06.483382",
     "exception": false,
     "start_time": "2022-04-25T08:39:06.458517",
     "status": "completed"
    },
    "tags": []
   },
   "outputs": [
    {
     "data": {
      "text/plain": [
       "tensor(indices=tensor([[    0,     0,     0,  ..., 53207, 53207, 53207],\n",
       "                       [   84,   412,   528,  ...,  1219,  1220,  1221]]),\n",
       "       values=tensor([ 1.,  1.,  1.,  ..., 12., 26., 71.]),\n",
       "       device='cuda:0', size=(53208, 1222), nnz=9552845, layout=torch.sparse_coo)"
      ]
     },
     "execution_count": 8,
     "metadata": {},
     "output_type": "execute_result"
    }
   ],
   "source": [
    "data_sparse_tensor"
   ]
  },
  {
   "cell_type": "code",
   "execution_count": 9,
   "id": "9cb044f7",
   "metadata": {
    "execution": {
     "iopub.execute_input": "2022-04-25T08:39:06.517351Z",
     "iopub.status.busy": "2022-04-25T08:39:06.516983Z",
     "iopub.status.idle": "2022-04-25T08:39:06.519875Z",
     "shell.execute_reply": "2022-04-25T08:39:06.519445Z"
    },
    "papermill": {
     "duration": 0.021037,
     "end_time": "2022-04-25T08:39:06.519972",
     "exception": false,
     "start_time": "2022-04-25T08:39:06.498935",
     "status": "completed"
    },
    "tags": []
   },
   "outputs": [],
   "source": [
    "data_dense_tensor = data_sparse_tensor.to_dense()"
   ]
  },
  {
   "cell_type": "code",
   "execution_count": 10,
   "id": "fbf08f4d",
   "metadata": {
    "execution": {
     "iopub.execute_input": "2022-04-25T08:39:06.554835Z",
     "iopub.status.busy": "2022-04-25T08:39:06.554482Z",
     "iopub.status.idle": "2022-04-25T08:39:06.697650Z",
     "shell.execute_reply": "2022-04-25T08:39:06.697253Z"
    },
    "papermill": {
     "duration": 0.162001,
     "end_time": "2022-04-25T08:39:06.697766",
     "exception": false,
     "start_time": "2022-04-25T08:39:06.535765",
     "status": "completed"
    },
    "tags": []
   },
   "outputs": [],
   "source": [
    "mask_scipy_sparse = (data_scipy_sparse != 0).astype(np.int64).tocoo()"
   ]
  },
  {
   "cell_type": "code",
   "execution_count": 11,
   "id": "90938cb7",
   "metadata": {
    "execution": {
     "iopub.execute_input": "2022-04-25T08:39:06.735371Z",
     "iopub.status.busy": "2022-04-25T08:39:06.735011Z",
     "iopub.status.idle": "2022-04-25T08:39:06.778500Z",
     "shell.execute_reply": "2022-04-25T08:39:06.778817Z"
    },
    "papermill": {
     "duration": 0.064848,
     "end_time": "2022-04-25T08:39:06.778947",
     "exception": false,
     "start_time": "2022-04-25T08:39:06.714099",
     "status": "completed"
    },
    "tags": []
   },
   "outputs": [],
   "source": [
    "mask_sparse_tensor = scipy_sparse_to_pytorch_sparse(mask_scipy_sparse)"
   ]
  },
  {
   "cell_type": "code",
   "execution_count": 12,
   "id": "53d74591",
   "metadata": {
    "execution": {
     "iopub.execute_input": "2022-04-25T08:39:06.824406Z",
     "iopub.status.busy": "2022-04-25T08:39:06.823551Z",
     "iopub.status.idle": "2022-04-25T08:39:07.682308Z",
     "shell.execute_reply": "2022-04-25T08:39:07.681866Z"
    },
    "papermill": {
     "duration": 0.887141,
     "end_time": "2022-04-25T08:39:07.682498",
     "exception": false,
     "start_time": "2022-04-25T08:39:06.795357",
     "status": "completed"
    },
    "tags": []
   },
   "outputs": [],
   "source": [
    "mask_dense_tensor = mask_sparse_tensor.to_dense().bool()"
   ]
  },
  {
   "cell_type": "code",
   "execution_count": 13,
   "id": "7b5ad7cd",
   "metadata": {
    "execution": {
     "iopub.execute_input": "2022-04-25T08:39:07.719741Z",
     "iopub.status.busy": "2022-04-25T08:39:07.719379Z",
     "iopub.status.idle": "2022-04-25T08:39:43.937255Z",
     "shell.execute_reply": "2022-04-25T08:39:43.936702Z"
    },
    "papermill": {
     "duration": 36.237401,
     "end_time": "2022-04-25T08:39:43.937360",
     "exception": false,
     "start_time": "2022-04-25T08:39:07.699959",
     "status": "completed"
    },
    "tags": []
   },
   "outputs": [],
   "source": [
    "distances = np.load('./data/macosko_distance_matrix.npy')"
   ]
  },
  {
   "cell_type": "code",
   "execution_count": 14,
   "id": "d8526767",
   "metadata": {
    "execution": {
     "iopub.execute_input": "2022-04-25T08:39:43.973455Z",
     "iopub.status.busy": "2022-04-25T08:39:43.973079Z",
     "iopub.status.idle": "2022-04-25T08:39:51.788403Z",
     "shell.execute_reply": "2022-04-25T08:39:51.787901Z"
    },
    "papermill": {
     "duration": 7.83381,
     "end_time": "2022-04-25T08:39:51.788521",
     "exception": false,
     "start_time": "2022-04-25T08:39:43.954711",
     "status": "completed"
    },
    "tags": []
   },
   "outputs": [],
   "source": [
    "adjacency = scipy.sparse.coo_matrix( distances <= 20 , dtype=np.float32)\n",
    "degree = scipy.sparse.diags( adjacency.sum(axis=0).A1 )\n",
    "laplacian = (degree - adjacency).tocoo()"
   ]
  },
  {
   "cell_type": "code",
   "execution_count": 15,
   "id": "20ad2e20",
   "metadata": {
    "execution": {
     "iopub.execute_input": "2022-04-25T08:39:51.826433Z",
     "iopub.status.busy": "2022-04-25T08:39:51.826039Z",
     "iopub.status.idle": "2022-04-25T08:39:51.829921Z",
     "shell.execute_reply": "2022-04-25T08:39:51.830388Z"
    },
    "papermill": {
     "duration": 0.025314,
     "end_time": "2022-04-25T08:39:51.830505",
     "exception": false,
     "start_time": "2022-04-25T08:39:51.805191",
     "status": "completed"
    },
    "tags": []
   },
   "outputs": [],
   "source": [
    "adjacency_sparse_tensor = scipy_sparse_to_pytorch_sparse(adjacency)"
   ]
  },
  {
   "cell_type": "code",
   "execution_count": 16,
   "id": "3c04b7f5",
   "metadata": {
    "execution": {
     "iopub.execute_input": "2022-04-25T08:39:51.877382Z",
     "iopub.status.busy": "2022-04-25T08:39:51.876944Z",
     "iopub.status.idle": "2022-04-25T08:39:54.281665Z",
     "shell.execute_reply": "2022-04-25T08:39:54.282022Z"
    },
    "papermill": {
     "duration": 2.435076,
     "end_time": "2022-04-25T08:39:54.282155",
     "exception": false,
     "start_time": "2022-04-25T08:39:51.847079",
     "status": "completed"
    },
    "tags": []
   },
   "outputs": [],
   "source": [
    "adjacency_dense_tensor = adjacency_sparse_tensor.to_dense()"
   ]
  },
  {
   "cell_type": "code",
   "execution_count": 17,
   "id": "a3418255",
   "metadata": {
    "execution": {
     "iopub.execute_input": "2022-04-25T08:39:54.324546Z",
     "iopub.status.busy": "2022-04-25T08:39:54.324184Z",
     "iopub.status.idle": "2022-04-25T08:39:54.327192Z",
     "shell.execute_reply": "2022-04-25T08:39:54.327537Z"
    },
    "papermill": {
     "duration": 0.028914,
     "end_time": "2022-04-25T08:39:54.327632",
     "exception": false,
     "start_time": "2022-04-25T08:39:54.298718",
     "status": "completed"
    },
    "tags": []
   },
   "outputs": [],
   "source": [
    "def laplacian_loss(x, x_lap):\n",
    "    \n",
    "    lap_sum = 0\n",
    "    for ii in range(x.shape[1]):\n",
    "        lap_sum = lap_sum + (x[:,ii].T @ x_lap @ x[:,ii])\n",
    "        \n",
    "    return lap_sum"
   ]
  },
  {
   "cell_type": "code",
   "execution_count": 18,
   "id": "c605adc5",
   "metadata": {
    "execution": {
     "iopub.execute_input": "2022-04-25T08:39:54.381066Z",
     "iopub.status.busy": "2022-04-25T08:39:54.380692Z",
     "iopub.status.idle": "2022-04-25T08:39:54.403525Z",
     "shell.execute_reply": "2022-04-25T08:39:54.403819Z"
    },
    "papermill": {
     "duration": 0.050148,
     "end_time": "2022-04-25T08:39:54.403928",
     "exception": false,
     "start_time": "2022-04-25T08:39:54.353780",
     "status": "completed"
    },
    "tags": []
   },
   "outputs": [],
   "source": [
    "mf = MatrixFactorization(mask_sparse_tensor.shape[0], mask_sparse_tensor.shape[1], DECOMP_RANK).to(device=device)"
   ]
  },
  {
   "cell_type": "code",
   "execution_count": 19,
   "id": "f7beb366",
   "metadata": {
    "execution": {
     "iopub.execute_input": "2022-04-25T08:39:54.437436Z",
     "iopub.status.busy": "2022-04-25T08:39:54.437087Z",
     "iopub.status.idle": "2022-04-25T08:39:54.438552Z",
     "shell.execute_reply": "2022-04-25T08:39:54.438217Z"
    },
    "papermill": {
     "duration": 0.018965,
     "end_time": "2022-04-25T08:39:54.438627",
     "exception": false,
     "start_time": "2022-04-25T08:39:54.419662",
     "status": "completed"
    },
    "tags": []
   },
   "outputs": [],
   "source": [
    "import torch.optim as optim\n",
    "\n",
    "optimizer = optim.Adam(mf.parameters(), lr=0.001)"
   ]
  },
  {
   "cell_type": "code",
   "execution_count": 20,
   "id": "7b1fa678",
   "metadata": {
    "execution": {
     "iopub.execute_input": "2022-04-25T08:39:54.475081Z",
     "iopub.status.busy": "2022-04-25T08:39:54.474716Z",
     "iopub.status.idle": "2022-04-25T09:39:47.641762Z",
     "shell.execute_reply": "2022-04-25T09:39:47.642070Z"
    },
    "papermill": {
     "duration": 3593.187754,
     "end_time": "2022-04-25T09:39:47.642183",
     "exception": false,
     "start_time": "2022-04-25T08:39:54.454429",
     "status": "completed"
    },
    "tags": []
   },
   "outputs": [
    {
     "name": "stdout",
     "output_type": "stream",
     "text": [
      "0\n",
      "215980316.0\n"
     ]
    },
    {
     "name": "stdout",
     "output_type": "stream",
     "text": [
      "1\n",
      "215791739.0\n"
     ]
    },
    {
     "name": "stdout",
     "output_type": "stream",
     "text": [
      "2\n",
      "215301992.0\n"
     ]
    },
    {
     "name": "stdout",
     "output_type": "stream",
     "text": [
      "3\n",
      "214379069.0\n"
     ]
    },
    {
     "name": "stdout",
     "output_type": "stream",
     "text": [
      "4\n",
      "212956120.0\n"
     ]
    },
    {
     "name": "stdout",
     "output_type": "stream",
     "text": [
      "5\n",
      "211010695.0\n"
     ]
    },
    {
     "name": "stdout",
     "output_type": "stream",
     "text": [
      "6\n",
      "208583834.0\n"
     ]
    },
    {
     "name": "stdout",
     "output_type": "stream",
     "text": [
      "7\n",
      "205748526.0\n"
     ]
    },
    {
     "name": "stdout",
     "output_type": "stream",
     "text": [
      "8\n",
      "202622484.0\n"
     ]
    },
    {
     "name": "stdout",
     "output_type": "stream",
     "text": [
      "9\n",
      "199346635.0\n"
     ]
    },
    {
     "name": "stdout",
     "output_type": "stream",
     "text": [
      "10\n",
      "196060690.0\n"
     ]
    },
    {
     "name": "stdout",
     "output_type": "stream",
     "text": [
      "11\n",
      "192961427.0\n"
     ]
    },
    {
     "name": "stdout",
     "output_type": "stream",
     "text": [
      "12\n",
      "190080617.0\n"
     ]
    },
    {
     "name": "stdout",
     "output_type": "stream",
     "text": [
      "13\n",
      "187558951.0\n"
     ]
    },
    {
     "name": "stdout",
     "output_type": "stream",
     "text": [
      "14\n",
      "185377794.0\n"
     ]
    },
    {
     "name": "stdout",
     "output_type": "stream",
     "text": [
      "15\n",
      "183511617.0\n"
     ]
    },
    {
     "name": "stdout",
     "output_type": "stream",
     "text": [
      "16\n",
      "181877899.0\n"
     ]
    },
    {
     "name": "stdout",
     "output_type": "stream",
     "text": [
      "17\n",
      "180426352.0\n"
     ]
    },
    {
     "name": "stdout",
     "output_type": "stream",
     "text": [
      "18\n",
      "179083845.0\n"
     ]
    },
    {
     "name": "stdout",
     "output_type": "stream",
     "text": [
      "19\n",
      "177835885.0\n"
     ]
    },
    {
     "name": "stdout",
     "output_type": "stream",
     "text": [
      "20\n",
      "176633220.0\n"
     ]
    },
    {
     "name": "stdout",
     "output_type": "stream",
     "text": [
      "21\n",
      "175483739.0\n"
     ]
    },
    {
     "name": "stdout",
     "output_type": "stream",
     "text": [
      "22\n",
      "174382876.0\n"
     ]
    },
    {
     "name": "stdout",
     "output_type": "stream",
     "text": [
      "23\n",
      "173307440.0\n"
     ]
    },
    {
     "name": "stdout",
     "output_type": "stream",
     "text": [
      "24\n",
      "172264804.0\n"
     ]
    },
    {
     "name": "stdout",
     "output_type": "stream",
     "text": [
      "25\n",
      "171245886.0\n"
     ]
    },
    {
     "name": "stdout",
     "output_type": "stream",
     "text": [
      "26\n",
      "170255572.0\n"
     ]
    },
    {
     "name": "stdout",
     "output_type": "stream",
     "text": [
      "27\n",
      "169285249.0\n"
     ]
    },
    {
     "name": "stdout",
     "output_type": "stream",
     "text": [
      "28\n",
      "168327117.0\n"
     ]
    },
    {
     "name": "stdout",
     "output_type": "stream",
     "text": [
      "29\n",
      "167400772.0\n"
     ]
    },
    {
     "name": "stdout",
     "output_type": "stream",
     "text": [
      "30\n",
      "166479808.0\n"
     ]
    },
    {
     "name": "stdout",
     "output_type": "stream",
     "text": [
      "31\n",
      "165573763.0\n"
     ]
    },
    {
     "name": "stdout",
     "output_type": "stream",
     "text": [
      "32\n",
      "164688205.0\n"
     ]
    },
    {
     "name": "stdout",
     "output_type": "stream",
     "text": [
      "33\n",
      "163813465.5\n"
     ]
    },
    {
     "name": "stdout",
     "output_type": "stream",
     "text": [
      "34\n",
      "162947788.0\n"
     ]
    },
    {
     "name": "stdout",
     "output_type": "stream",
     "text": [
      "35\n",
      "162096842.0\n"
     ]
    },
    {
     "name": "stdout",
     "output_type": "stream",
     "text": [
      "36\n",
      "161257844.0\n"
     ]
    },
    {
     "name": "stdout",
     "output_type": "stream",
     "text": [
      "37\n",
      "160429012.0\n"
     ]
    },
    {
     "name": "stdout",
     "output_type": "stream",
     "text": [
      "38\n",
      "159615223.5\n"
     ]
    },
    {
     "name": "stdout",
     "output_type": "stream",
     "text": [
      "39\n",
      "158806826.0\n"
     ]
    },
    {
     "name": "stdout",
     "output_type": "stream",
     "text": [
      "40\n",
      "158009212.0\n"
     ]
    },
    {
     "name": "stdout",
     "output_type": "stream",
     "text": [
      "41\n",
      "157227779.5\n"
     ]
    },
    {
     "name": "stdout",
     "output_type": "stream",
     "text": [
      "42\n",
      "156449289.5\n"
     ]
    },
    {
     "name": "stdout",
     "output_type": "stream",
     "text": [
      "43\n",
      "155681882.0\n"
     ]
    },
    {
     "name": "stdout",
     "output_type": "stream",
     "text": [
      "44\n",
      "154923086.0\n"
     ]
    },
    {
     "name": "stdout",
     "output_type": "stream",
     "text": [
      "45\n",
      "154189190.0\n"
     ]
    },
    {
     "name": "stdout",
     "output_type": "stream",
     "text": [
      "46\n",
      "153454691.0\n"
     ]
    },
    {
     "name": "stdout",
     "output_type": "stream",
     "text": [
      "47\n",
      "152719710.0\n"
     ]
    },
    {
     "name": "stdout",
     "output_type": "stream",
     "text": [
      "48\n",
      "152017225.0\n"
     ]
    },
    {
     "name": "stdout",
     "output_type": "stream",
     "text": [
      "49\n",
      "151310414.0\n"
     ]
    }
   ],
   "source": [
    "losses = []\n",
    "\n",
    "for epoch in range(50):\n",
    "    \n",
    "    batcher = data_adjacency_batcher(data_dense_tensor, adjacency_dense_tensor, 5000)\n",
    "    \n",
    "    total_loss = 0\n",
    "    \n",
    "    \n",
    "    for (data_batch, mask_batch, adjacency_batch, row_batch) in batcher:\n",
    "        \n",
    "        \n",
    "        \n",
    "        data_batch = data_batch.to(device=device)\n",
    "        mask_batch = mask_batch.to(device=device)\n",
    "        adjacency_batch = adjacency_batch.to(device=device)\n",
    "        row_batch = row_batch.to(device=device)\n",
    "        \n",
    "        laplacian_tensor = adjacency_to_laplacian(adjacency_batch).to(device=device)\n",
    "    \n",
    "        optimizer.zero_grad()\n",
    "\n",
    "        output = mf.forward(row_batch, torch.arange(0, data_batch.shape[1]))\n",
    "        \n",
    "        L1_laplacian_tensor = adjacency_to_laplacian(adjacency_to_L1_adjacency(output, adjacency_batch, 0.001, device)).to(device=device)\n",
    "        \n",
    "        loss = squared_loss(data_batch[mask_batch], output[mask_batch]) + LAPLACIAN_PARAM*laplacian_loss(output, laplacian_tensor) + TV_PARAM*laplacian_loss(output, L1_laplacian_tensor)\n",
    "        loss.backward()\n",
    "        optimizer.step()\n",
    "        \n",
    "        total_loss += loss.item()\n",
    "        \n",
    "\n",
    "    if epoch % 1 == 0:\n",
    "        print(epoch)\n",
    "        print(total_loss)\n",
    "        \n",
    "    losses.append(total_loss)"
   ]
  },
  {
   "cell_type": "code",
   "execution_count": 21,
   "id": "e6629a68",
   "metadata": {
    "execution": {
     "iopub.execute_input": "2022-04-25T09:39:47.712181Z",
     "iopub.status.busy": "2022-04-25T09:39:47.703926Z",
     "iopub.status.idle": "2022-04-25T09:39:47.722407Z",
     "shell.execute_reply": "2022-04-25T09:39:47.722737Z"
    },
    "papermill": {
     "duration": 0.055671,
     "end_time": "2022-04-25T09:39:47.722821",
     "exception": false,
     "start_time": "2022-04-25T09:39:47.667150",
     "status": "completed"
    },
    "tags": []
   },
   "outputs": [
    {
     "data": {
      "text/plain": [
       "8664238.0"
      ]
     },
     "execution_count": 21,
     "metadata": {},
     "output_type": "execute_result"
    }
   ],
   "source": [
    "loss.item()"
   ]
  },
  {
   "cell_type": "code",
   "execution_count": 22,
   "id": "8ceda12e",
   "metadata": {
    "execution": {
     "iopub.execute_input": "2022-04-25T09:39:47.807129Z",
     "iopub.status.busy": "2022-04-25T09:39:47.806700Z",
     "iopub.status.idle": "2022-04-25T09:39:47.820045Z",
     "shell.execute_reply": "2022-04-25T09:39:47.820385Z"
    },
    "papermill": {
     "duration": 0.059735,
     "end_time": "2022-04-25T09:39:47.820465",
     "exception": false,
     "start_time": "2022-04-25T09:39:47.760730",
     "status": "completed"
    },
    "tags": []
   },
   "outputs": [],
   "source": [
    "np.save(f'./results/loss_curves/mf_rank{DECOMP_RANK}_L{LAPLACIAN_PARAM}_TV{TV_PARAM}_losses', np.array(losses))"
   ]
  },
  {
   "cell_type": "code",
   "execution_count": 23,
   "id": "2a1bfac8",
   "metadata": {
    "execution": {
     "iopub.execute_input": "2022-04-25T09:39:47.907744Z",
     "iopub.status.busy": "2022-04-25T09:39:47.907379Z",
     "iopub.status.idle": "2022-04-25T09:39:48.014256Z",
     "shell.execute_reply": "2022-04-25T09:39:48.013917Z"
    },
    "papermill": {
     "duration": 0.155332,
     "end_time": "2022-04-25T09:39:48.014325",
     "exception": false,
     "start_time": "2022-04-25T09:39:47.858993",
     "status": "completed"
    },
    "tags": []
   },
   "outputs": [],
   "source": [
    "torch.save(mf.state_dict(), f'./results/saved_models/mf_rank{DECOMP_RANK}_L{LAPLACIAN_PARAM}_TV{TV_PARAM}_state')"
   ]
  },
  {
   "cell_type": "code",
   "execution_count": 24,
   "id": "8dcef3d2",
   "metadata": {
    "execution": {
     "iopub.execute_input": "2022-04-25T09:39:48.095332Z",
     "iopub.status.busy": "2022-04-25T09:39:48.094979Z",
     "iopub.status.idle": "2022-04-25T09:43:20.962873Z",
     "shell.execute_reply": "2022-04-25T09:43:20.961997Z"
    },
    "papermill": {
     "duration": 212.910213,
     "end_time": "2022-04-25T09:43:20.962969",
     "exception": false,
     "start_time": "2022-04-25T09:39:48.052756",
     "status": "completed"
    },
    "tags": []
   },
   "outputs": [],
   "source": [
    "final_output = mf.forward(torch.arange(0, data_dense_tensor.shape[0]), torch.arange(0, data_dense_tensor.shape[1]))\n",
    "\n",
    "final_squared_error = squared_loss(data_dense_tensor, final_output)\n",
    "final_laplacian = laplacian_loss(final_output, adjacency_to_laplacian(adjacency_dense_tensor).to(device=device))\n",
    "final_TV =  laplacian_loss(final_output, adjacency_to_laplacian(adjacency_to_L1_adjacency(final_output, adjacency_dense_tensor, 0.001, device)).to(device=device))"
   ]
  },
  {
   "cell_type": "code",
   "execution_count": 25,
   "id": "9d9d50c7",
   "metadata": {
    "execution": {
     "iopub.execute_input": "2022-04-25T09:43:21.076753Z",
     "iopub.status.busy": "2022-04-25T09:43:21.076216Z",
     "iopub.status.idle": "2022-04-25T09:43:22.254206Z",
     "shell.execute_reply": "2022-04-25T09:43:22.253806Z"
    },
    "papermill": {
     "duration": 1.241699,
     "end_time": "2022-04-25T09:43:22.254315",
     "exception": false,
     "start_time": "2022-04-25T09:43:21.012616",
     "status": "completed"
    },
    "tags": []
   },
   "outputs": [],
   "source": [
    "np.save(f'./results/final_losses/mf_rank{DECOMP_RANK}_L{LAPLACIAN_PARAM}_TV{TV_PARAM}_losses', np.array([final_squared_error.item(), final_laplacian.item(), final_TV.item()]))"
   ]
  },
  {
   "cell_type": "code",
   "execution_count": null,
   "id": "2ba7cb7f",
   "metadata": {
    "papermill": {
     "duration": 0.076306,
     "end_time": "2022-04-25T09:43:22.367700",
     "exception": false,
     "start_time": "2022-04-25T09:43:22.291394",
     "status": "completed"
    },
    "tags": []
   },
   "outputs": [],
   "source": []
  }
 ],
 "metadata": {
  "interpreter": {
   "hash": "22ee4ece52021b4a120b95b326dd7a4d7938576e919f53927a7959ab5d7e1e45"
  },
  "kernelspec": {
   "display_name": "spatialSFT",
   "language": "python",
   "name": "spatialsft"
  },
  "language_info": {
   "codemirror_mode": {
    "name": "ipython",
    "version": 3
   },
   "file_extension": ".py",
   "mimetype": "text/x-python",
   "name": "python",
   "nbconvert_exporter": "python",
   "pygments_lexer": "ipython3",
   "version": "3.8.0"
  },
  "papermill": {
   "default_parameters": {},
   "duration": 3916.081481,
   "end_time": "2022-04-25T09:43:29.524634",
   "environment_variables": {},
   "exception": null,
   "input_path": "./notebooks/mf_param_template.ipynb",
   "output_path": "./papermill_output/mf_param_template_rank100_lap0.01_tv0.001.ipynb",
   "parameters": {
    "DECOMP_RANK": 100,
    "LAPLACIAN_PARAM": 0.01,
    "TV_PARAM": 0.001
   },
   "start_time": "2022-04-25T08:38:13.443153",
   "version": "2.3.4"
  }
 },
 "nbformat": 4,
 "nbformat_minor": 5
}