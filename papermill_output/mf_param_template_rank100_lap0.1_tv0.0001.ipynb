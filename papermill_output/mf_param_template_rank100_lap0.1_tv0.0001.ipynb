{
 "cells": [
  {
   "cell_type": "markdown",
   "id": "b7689aec",
   "metadata": {
    "papermill": {
     "duration": 0.015307,
     "end_time": "2022-04-25T04:17:06.247997",
     "exception": false,
     "start_time": "2022-04-25T04:17:06.232690",
     "status": "completed"
    },
    "tags": []
   },
   "source": [
    "### setup"
   ]
  },
  {
   "cell_type": "code",
   "execution_count": 1,
   "id": "8d2ed604",
   "metadata": {
    "execution": {
     "iopub.execute_input": "2022-04-25T04:17:06.282878Z",
     "iopub.status.busy": "2022-04-25T04:17:06.282497Z",
     "iopub.status.idle": "2022-04-25T04:17:12.636060Z",
     "shell.execute_reply": "2022-04-25T04:17:12.635591Z"
    },
    "papermill": {
     "duration": 6.374726,
     "end_time": "2022-04-25T04:17:12.636157",
     "exception": false,
     "start_time": "2022-04-25T04:17:06.261431",
     "status": "completed"
    },
    "tags": []
   },
   "outputs": [],
   "source": [
    "import numpy as np \n",
    "import matplotlib.pyplot as plt\n",
    "import pandas as pd\n",
    "\n",
    "import scipy\n",
    "\n",
    "\n",
    "from utils import *\n",
    "from pytorch_sparse_utils import *\n",
    "\n",
    "\n",
    "import torch\n",
    "from torch import nn\n",
    "import torch.nn.functional as F"
   ]
  },
  {
   "cell_type": "markdown",
   "id": "323688a0",
   "metadata": {
    "papermill": {
     "duration": 0.013544,
     "end_time": "2022-04-25T04:17:12.665186",
     "exception": false,
     "start_time": "2022-04-25T04:17:12.651642",
     "status": "completed"
    },
    "tags": []
   },
   "source": [
    "### set parameters"
   ]
  },
  {
   "cell_type": "code",
   "execution_count": 2,
   "id": "fb76d7f4",
   "metadata": {
    "execution": {
     "iopub.execute_input": "2022-04-25T04:17:12.695950Z",
     "iopub.status.busy": "2022-04-25T04:17:12.695574Z",
     "iopub.status.idle": "2022-04-25T04:17:12.698354Z",
     "shell.execute_reply": "2022-04-25T04:17:12.697916Z"
    },
    "papermill": {
     "duration": 0.019628,
     "end_time": "2022-04-25T04:17:12.698441",
     "exception": false,
     "start_time": "2022-04-25T04:17:12.678813",
     "status": "completed"
    },
    "tags": [
     "parameters"
    ]
   },
   "outputs": [],
   "source": [
    "DECOMP_RANK = 10\n",
    "LAPLACIAN_PARAM = 0.001\n",
    "TV_PARAM = 0.001"
   ]
  },
  {
   "cell_type": "code",
   "execution_count": 3,
   "id": "3658fc3b",
   "metadata": {
    "execution": {
     "iopub.execute_input": "2022-04-25T04:17:12.730526Z",
     "iopub.status.busy": "2022-04-25T04:17:12.730161Z",
     "iopub.status.idle": "2022-04-25T04:17:12.731987Z",
     "shell.execute_reply": "2022-04-25T04:17:12.731572Z"
    },
    "papermill": {
     "duration": 0.018794,
     "end_time": "2022-04-25T04:17:12.732057",
     "exception": false,
     "start_time": "2022-04-25T04:17:12.713263",
     "status": "completed"
    },
    "tags": [
     "injected-parameters"
    ]
   },
   "outputs": [],
   "source": [
    "# Parameters\n",
    "DECOMP_RANK = 100\n",
    "LAPLACIAN_PARAM = 0.1\n",
    "TV_PARAM = 0.0001\n"
   ]
  },
  {
   "cell_type": "code",
   "execution_count": 4,
   "id": "083fc81d",
   "metadata": {
    "execution": {
     "iopub.execute_input": "2022-04-25T04:17:12.763903Z",
     "iopub.status.busy": "2022-04-25T04:17:12.763483Z",
     "iopub.status.idle": "2022-04-25T04:17:40.502144Z",
     "shell.execute_reply": "2022-04-25T04:17:40.501695Z"
    },
    "papermill": {
     "duration": 27.755861,
     "end_time": "2022-04-25T04:17:40.502232",
     "exception": false,
     "start_time": "2022-04-25T04:17:12.746371",
     "status": "completed"
    },
    "tags": []
   },
   "outputs": [
    {
     "name": "stdout",
     "output_type": "stream",
     "text": [
      "Using cuda device\n"
     ]
    }
   ],
   "source": [
    "device = 'cuda' if torch.cuda.is_available() else 'cpu'\n",
    "print('Using {} device'.format(device))"
   ]
  },
  {
   "cell_type": "markdown",
   "id": "15804465",
   "metadata": {
    "papermill": {
     "duration": 0.013779,
     "end_time": "2022-04-25T04:17:40.530991",
     "exception": false,
     "start_time": "2022-04-25T04:17:40.517212",
     "status": "completed"
    },
    "tags": []
   },
   "source": [
    "### loading data"
   ]
  },
  {
   "cell_type": "code",
   "execution_count": 5,
   "id": "ceca4195",
   "metadata": {
    "execution": {
     "iopub.execute_input": "2022-04-25T04:17:40.565997Z",
     "iopub.status.busy": "2022-04-25T04:17:40.565629Z",
     "iopub.status.idle": "2022-04-25T04:17:42.811138Z",
     "shell.execute_reply": "2022-04-25T04:17:42.811429Z"
    },
    "papermill": {
     "duration": 2.266561,
     "end_time": "2022-04-25T04:17:42.811526",
     "exception": false,
     "start_time": "2022-04-25T04:17:40.544965",
     "status": "completed"
    },
    "tags": []
   },
   "outputs": [
    {
     "data": {
      "text/html": [
       "<div>\n",
       "<style scoped>\n",
       "    .dataframe tbody tr th:only-of-type {\n",
       "        vertical-align: middle;\n",
       "    }\n",
       "\n",
       "    .dataframe tbody tr th {\n",
       "        vertical-align: top;\n",
       "    }\n",
       "\n",
       "    .dataframe thead th {\n",
       "        text-align: right;\n",
       "    }\n",
       "</style>\n",
       "<table border=\"1\" class=\"dataframe\">\n",
       "  <thead>\n",
       "    <tr style=\"text-align: right;\">\n",
       "      <th></th>\n",
       "      <th>1110008P14Rik</th>\n",
       "      <th>1500009C09Rik</th>\n",
       "      <th>1500012F01Rik</th>\n",
       "      <th>1700020I14Rik</th>\n",
       "      <th>2010107E04Rik</th>\n",
       "      <th>2010300C02Rik</th>\n",
       "      <th>2210016L21Rik</th>\n",
       "      <th>2310036O22Rik</th>\n",
       "      <th>2900011O08Rik</th>\n",
       "      <th>3110035E14Rik</th>\n",
       "      <th>...</th>\n",
       "      <th>Zrsr1</th>\n",
       "      <th>Zwint</th>\n",
       "      <th>mt-Co1</th>\n",
       "      <th>mt-Cytb</th>\n",
       "      <th>mt-Nd1</th>\n",
       "      <th>mt-Nd2</th>\n",
       "      <th>mt-Nd4</th>\n",
       "      <th>mt-Nd5</th>\n",
       "      <th>mt-Rnr1</th>\n",
       "      <th>mt-Rnr2</th>\n",
       "    </tr>\n",
       "  </thead>\n",
       "  <tbody>\n",
       "    <tr>\n",
       "      <th>AAAAAAAGGTAGTA</th>\n",
       "      <td>0</td>\n",
       "      <td>0</td>\n",
       "      <td>0</td>\n",
       "      <td>0</td>\n",
       "      <td>0</td>\n",
       "      <td>0</td>\n",
       "      <td>0</td>\n",
       "      <td>0</td>\n",
       "      <td>0</td>\n",
       "      <td>0</td>\n",
       "      <td>...</td>\n",
       "      <td>0</td>\n",
       "      <td>0</td>\n",
       "      <td>0</td>\n",
       "      <td>0</td>\n",
       "      <td>0</td>\n",
       "      <td>0</td>\n",
       "      <td>0</td>\n",
       "      <td>0</td>\n",
       "      <td>1</td>\n",
       "      <td>0</td>\n",
       "    </tr>\n",
       "    <tr>\n",
       "      <th>AAAAAAAGTCCCAA</th>\n",
       "      <td>0</td>\n",
       "      <td>0</td>\n",
       "      <td>0</td>\n",
       "      <td>0</td>\n",
       "      <td>0</td>\n",
       "      <td>0</td>\n",
       "      <td>0</td>\n",
       "      <td>0</td>\n",
       "      <td>0</td>\n",
       "      <td>0</td>\n",
       "      <td>...</td>\n",
       "      <td>0</td>\n",
       "      <td>0</td>\n",
       "      <td>2</td>\n",
       "      <td>2</td>\n",
       "      <td>5</td>\n",
       "      <td>0</td>\n",
       "      <td>1</td>\n",
       "      <td>0</td>\n",
       "      <td>2</td>\n",
       "      <td>4</td>\n",
       "    </tr>\n",
       "    <tr>\n",
       "      <th>AAAAAAATCTTAGT</th>\n",
       "      <td>0</td>\n",
       "      <td>0</td>\n",
       "      <td>0</td>\n",
       "      <td>0</td>\n",
       "      <td>0</td>\n",
       "      <td>0</td>\n",
       "      <td>0</td>\n",
       "      <td>0</td>\n",
       "      <td>0</td>\n",
       "      <td>0</td>\n",
       "      <td>...</td>\n",
       "      <td>0</td>\n",
       "      <td>0</td>\n",
       "      <td>0</td>\n",
       "      <td>0</td>\n",
       "      <td>0</td>\n",
       "      <td>0</td>\n",
       "      <td>0</td>\n",
       "      <td>0</td>\n",
       "      <td>0</td>\n",
       "      <td>0</td>\n",
       "    </tr>\n",
       "    <tr>\n",
       "      <th>AAAAAACATCTTTC</th>\n",
       "      <td>0</td>\n",
       "      <td>0</td>\n",
       "      <td>0</td>\n",
       "      <td>0</td>\n",
       "      <td>0</td>\n",
       "      <td>0</td>\n",
       "      <td>0</td>\n",
       "      <td>0</td>\n",
       "      <td>0</td>\n",
       "      <td>0</td>\n",
       "      <td>...</td>\n",
       "      <td>0</td>\n",
       "      <td>0</td>\n",
       "      <td>0</td>\n",
       "      <td>0</td>\n",
       "      <td>0</td>\n",
       "      <td>0</td>\n",
       "      <td>0</td>\n",
       "      <td>0</td>\n",
       "      <td>1</td>\n",
       "      <td>0</td>\n",
       "    </tr>\n",
       "    <tr>\n",
       "      <th>AAAAAACGAAATAG</th>\n",
       "      <td>0</td>\n",
       "      <td>0</td>\n",
       "      <td>0</td>\n",
       "      <td>0</td>\n",
       "      <td>0</td>\n",
       "      <td>0</td>\n",
       "      <td>0</td>\n",
       "      <td>0</td>\n",
       "      <td>0</td>\n",
       "      <td>0</td>\n",
       "      <td>...</td>\n",
       "      <td>0</td>\n",
       "      <td>0</td>\n",
       "      <td>1</td>\n",
       "      <td>0</td>\n",
       "      <td>0</td>\n",
       "      <td>0</td>\n",
       "      <td>0</td>\n",
       "      <td>0</td>\n",
       "      <td>0</td>\n",
       "      <td>0</td>\n",
       "    </tr>\n",
       "  </tbody>\n",
       "</table>\n",
       "<p>5 rows × 1222 columns</p>\n",
       "</div>"
      ],
      "text/plain": [
       "                1110008P14Rik  1500009C09Rik  1500012F01Rik  1700020I14Rik  \\\n",
       "AAAAAAAGGTAGTA              0              0              0              0   \n",
       "AAAAAAAGTCCCAA              0              0              0              0   \n",
       "AAAAAAATCTTAGT              0              0              0              0   \n",
       "AAAAAACATCTTTC              0              0              0              0   \n",
       "AAAAAACGAAATAG              0              0              0              0   \n",
       "\n",
       "                2010107E04Rik  2010300C02Rik  2210016L21Rik  2310036O22Rik  \\\n",
       "AAAAAAAGGTAGTA              0              0              0              0   \n",
       "AAAAAAAGTCCCAA              0              0              0              0   \n",
       "AAAAAAATCTTAGT              0              0              0              0   \n",
       "AAAAAACATCTTTC              0              0              0              0   \n",
       "AAAAAACGAAATAG              0              0              0              0   \n",
       "\n",
       "                2900011O08Rik  3110035E14Rik  ...  Zrsr1  Zwint  mt-Co1  \\\n",
       "AAAAAAAGGTAGTA              0              0  ...      0      0       0   \n",
       "AAAAAAAGTCCCAA              0              0  ...      0      0       2   \n",
       "AAAAAAATCTTAGT              0              0  ...      0      0       0   \n",
       "AAAAAACATCTTTC              0              0  ...      0      0       0   \n",
       "AAAAAACGAAATAG              0              0  ...      0      0       1   \n",
       "\n",
       "                mt-Cytb  mt-Nd1  mt-Nd2  mt-Nd4  mt-Nd5  mt-Rnr1  mt-Rnr2  \n",
       "AAAAAAAGGTAGTA        0       0       0       0       0        1        0  \n",
       "AAAAAAAGTCCCAA        2       5       0       1       0        2        4  \n",
       "AAAAAAATCTTAGT        0       0       0       0       0        0        0  \n",
       "AAAAAACATCTTTC        0       0       0       0       0        1        0  \n",
       "AAAAAACGAAATAG        0       0       0       0       0        0        0  \n",
       "\n",
       "[5 rows x 1222 columns]"
      ]
     },
     "execution_count": 5,
     "metadata": {},
     "output_type": "execute_result"
    }
   ],
   "source": [
    "bead_reads_subset = pd.read_csv('./data/bead_reads_subset.csv', index_col='Unnamed: 0')\n",
    "bead_reads_subset.head()"
   ]
  },
  {
   "cell_type": "code",
   "execution_count": 6,
   "id": "02f48092",
   "metadata": {
    "execution": {
     "iopub.execute_input": "2022-04-25T04:17:42.843566Z",
     "iopub.status.busy": "2022-04-25T04:17:42.843207Z",
     "iopub.status.idle": "2022-04-25T04:17:43.387497Z",
     "shell.execute_reply": "2022-04-25T04:17:43.387826Z"
    },
    "papermill": {
     "duration": 0.561763,
     "end_time": "2022-04-25T04:17:43.387937",
     "exception": false,
     "start_time": "2022-04-25T04:17:42.826174",
     "status": "completed"
    },
    "tags": []
   },
   "outputs": [],
   "source": [
    "data_scipy_sparse = scipy.sparse.coo_matrix( bead_reads_subset.to_numpy() )"
   ]
  },
  {
   "cell_type": "code",
   "execution_count": 7,
   "id": "724f297d",
   "metadata": {
    "execution": {
     "iopub.execute_input": "2022-04-25T04:17:43.421560Z",
     "iopub.status.busy": "2022-04-25T04:17:43.421213Z",
     "iopub.status.idle": "2022-04-25T04:17:55.845790Z",
     "shell.execute_reply": "2022-04-25T04:17:55.845322Z"
    },
    "papermill": {
     "duration": 12.442812,
     "end_time": "2022-04-25T04:17:55.845896",
     "exception": false,
     "start_time": "2022-04-25T04:17:43.403084",
     "status": "completed"
    },
    "tags": []
   },
   "outputs": [],
   "source": [
    "data_sparse_tensor = scipy_sparse_to_pytorch_sparse(data_scipy_sparse).to(device=device)"
   ]
  },
  {
   "cell_type": "code",
   "execution_count": 8,
   "id": "882c9870",
   "metadata": {
    "execution": {
     "iopub.execute_input": "2022-04-25T04:17:55.880751Z",
     "iopub.status.busy": "2022-04-25T04:17:55.879258Z",
     "iopub.status.idle": "2022-04-25T04:17:55.887576Z",
     "shell.execute_reply": "2022-04-25T04:17:55.887227Z"
    },
    "papermill": {
     "duration": 0.024395,
     "end_time": "2022-04-25T04:17:55.887647",
     "exception": false,
     "start_time": "2022-04-25T04:17:55.863252",
     "status": "completed"
    },
    "tags": []
   },
   "outputs": [
    {
     "data": {
      "text/plain": [
       "tensor(indices=tensor([[    0,     0,     0,  ..., 53207, 53207, 53207],\n",
       "                       [   84,   412,   528,  ...,  1219,  1220,  1221]]),\n",
       "       values=tensor([ 1.,  1.,  1.,  ..., 12., 26., 71.]),\n",
       "       device='cuda:0', size=(53208, 1222), nnz=9552845, layout=torch.sparse_coo)"
      ]
     },
     "execution_count": 8,
     "metadata": {},
     "output_type": "execute_result"
    }
   ],
   "source": [
    "data_sparse_tensor"
   ]
  },
  {
   "cell_type": "code",
   "execution_count": 9,
   "id": "2478f458",
   "metadata": {
    "execution": {
     "iopub.execute_input": "2022-04-25T04:17:55.920269Z",
     "iopub.status.busy": "2022-04-25T04:17:55.919648Z",
     "iopub.status.idle": "2022-04-25T04:17:55.922623Z",
     "shell.execute_reply": "2022-04-25T04:17:55.922268Z"
    },
    "papermill": {
     "duration": 0.020018,
     "end_time": "2022-04-25T04:17:55.922693",
     "exception": false,
     "start_time": "2022-04-25T04:17:55.902675",
     "status": "completed"
    },
    "tags": []
   },
   "outputs": [],
   "source": [
    "data_dense_tensor = data_sparse_tensor.to_dense()"
   ]
  },
  {
   "cell_type": "code",
   "execution_count": 10,
   "id": "dc89de28",
   "metadata": {
    "execution": {
     "iopub.execute_input": "2022-04-25T04:17:55.955183Z",
     "iopub.status.busy": "2022-04-25T04:17:55.954821Z",
     "iopub.status.idle": "2022-04-25T04:17:56.113288Z",
     "shell.execute_reply": "2022-04-25T04:17:56.113760Z"
    },
    "papermill": {
     "duration": 0.176392,
     "end_time": "2022-04-25T04:17:56.113851",
     "exception": false,
     "start_time": "2022-04-25T04:17:55.937459",
     "status": "completed"
    },
    "tags": []
   },
   "outputs": [],
   "source": [
    "mask_scipy_sparse = (data_scipy_sparse != 0).astype(np.int64).tocoo()"
   ]
  },
  {
   "cell_type": "code",
   "execution_count": 11,
   "id": "59b9f457",
   "metadata": {
    "execution": {
     "iopub.execute_input": "2022-04-25T04:17:56.146465Z",
     "iopub.status.busy": "2022-04-25T04:17:56.146043Z",
     "iopub.status.idle": "2022-04-25T04:17:56.188836Z",
     "shell.execute_reply": "2022-04-25T04:17:56.188499Z"
    },
    "papermill": {
     "duration": 0.060061,
     "end_time": "2022-04-25T04:17:56.188934",
     "exception": false,
     "start_time": "2022-04-25T04:17:56.128873",
     "status": "completed"
    },
    "tags": []
   },
   "outputs": [],
   "source": [
    "mask_sparse_tensor = scipy_sparse_to_pytorch_sparse(mask_scipy_sparse)"
   ]
  },
  {
   "cell_type": "code",
   "execution_count": 12,
   "id": "e3553ff6",
   "metadata": {
    "execution": {
     "iopub.execute_input": "2022-04-25T04:17:56.222623Z",
     "iopub.status.busy": "2022-04-25T04:17:56.222224Z",
     "iopub.status.idle": "2022-04-25T04:17:57.201999Z",
     "shell.execute_reply": "2022-04-25T04:17:57.201459Z"
    },
    "papermill": {
     "duration": 0.997651,
     "end_time": "2022-04-25T04:17:57.202098",
     "exception": false,
     "start_time": "2022-04-25T04:17:56.204447",
     "status": "completed"
    },
    "tags": []
   },
   "outputs": [],
   "source": [
    "mask_dense_tensor = mask_sparse_tensor.to_dense().bool()"
   ]
  },
  {
   "cell_type": "code",
   "execution_count": 13,
   "id": "efc87daa",
   "metadata": {
    "execution": {
     "iopub.execute_input": "2022-04-25T04:17:57.243985Z",
     "iopub.status.busy": "2022-04-25T04:17:57.243619Z",
     "iopub.status.idle": "2022-04-25T04:18:40.719860Z",
     "shell.execute_reply": "2022-04-25T04:18:40.719422Z"
    },
    "papermill": {
     "duration": 43.501573,
     "end_time": "2022-04-25T04:18:40.719972",
     "exception": false,
     "start_time": "2022-04-25T04:17:57.218399",
     "status": "completed"
    },
    "tags": []
   },
   "outputs": [],
   "source": [
    "distances = np.load('./data/macosko_distance_matrix.npy')"
   ]
  },
  {
   "cell_type": "code",
   "execution_count": 14,
   "id": "a9d587db",
   "metadata": {
    "execution": {
     "iopub.execute_input": "2022-04-25T04:18:40.759581Z",
     "iopub.status.busy": "2022-04-25T04:18:40.759218Z",
     "iopub.status.idle": "2022-04-25T04:18:49.345527Z",
     "shell.execute_reply": "2022-04-25T04:18:49.345860Z"
    },
    "papermill": {
     "duration": 8.606553,
     "end_time": "2022-04-25T04:18:49.345996",
     "exception": false,
     "start_time": "2022-04-25T04:18:40.739443",
     "status": "completed"
    },
    "tags": []
   },
   "outputs": [],
   "source": [
    "adjacency = scipy.sparse.coo_matrix( distances <= 20 , dtype=np.float32)\n",
    "degree = scipy.sparse.diags( adjacency.sum(axis=0).A1 )\n",
    "laplacian = (degree - adjacency).tocoo()"
   ]
  },
  {
   "cell_type": "code",
   "execution_count": 15,
   "id": "4cf3b2c1",
   "metadata": {
    "execution": {
     "iopub.execute_input": "2022-04-25T04:18:49.390263Z",
     "iopub.status.busy": "2022-04-25T04:18:49.389879Z",
     "iopub.status.idle": "2022-04-25T04:18:49.395171Z",
     "shell.execute_reply": "2022-04-25T04:18:49.395463Z"
    },
    "papermill": {
     "duration": 0.032795,
     "end_time": "2022-04-25T04:18:49.395546",
     "exception": false,
     "start_time": "2022-04-25T04:18:49.362751",
     "status": "completed"
    },
    "tags": []
   },
   "outputs": [],
   "source": [
    "adjacency_sparse_tensor = scipy_sparse_to_pytorch_sparse(adjacency)"
   ]
  },
  {
   "cell_type": "code",
   "execution_count": 16,
   "id": "e9b70052",
   "metadata": {
    "execution": {
     "iopub.execute_input": "2022-04-25T04:18:49.433250Z",
     "iopub.status.busy": "2022-04-25T04:18:49.432804Z",
     "iopub.status.idle": "2022-04-25T04:18:51.800402Z",
     "shell.execute_reply": "2022-04-25T04:18:51.800768Z"
    },
    "papermill": {
     "duration": 2.388665,
     "end_time": "2022-04-25T04:18:51.800970",
     "exception": false,
     "start_time": "2022-04-25T04:18:49.412305",
     "status": "completed"
    },
    "tags": []
   },
   "outputs": [],
   "source": [
    "adjacency_dense_tensor = adjacency_sparse_tensor.to_dense()"
   ]
  },
  {
   "cell_type": "code",
   "execution_count": 17,
   "id": "e80e4ca9",
   "metadata": {
    "execution": {
     "iopub.execute_input": "2022-04-25T04:18:51.846084Z",
     "iopub.status.busy": "2022-04-25T04:18:51.845706Z",
     "iopub.status.idle": "2022-04-25T04:18:51.847385Z",
     "shell.execute_reply": "2022-04-25T04:18:51.847014Z"
    },
    "papermill": {
     "duration": 0.029863,
     "end_time": "2022-04-25T04:18:51.847462",
     "exception": false,
     "start_time": "2022-04-25T04:18:51.817599",
     "status": "completed"
    },
    "tags": []
   },
   "outputs": [],
   "source": [
    "def laplacian_loss(x, x_lap):\n",
    "    \n",
    "    lap_sum = 0\n",
    "    for ii in range(x.shape[1]):\n",
    "        lap_sum = lap_sum + (x[:,ii].T @ x_lap @ x[:,ii])\n",
    "        \n",
    "    return lap_sum"
   ]
  },
  {
   "cell_type": "code",
   "execution_count": 18,
   "id": "bdea8921",
   "metadata": {
    "execution": {
     "iopub.execute_input": "2022-04-25T04:18:51.899195Z",
     "iopub.status.busy": "2022-04-25T04:18:51.898821Z",
     "iopub.status.idle": "2022-04-25T04:18:51.911912Z",
     "shell.execute_reply": "2022-04-25T04:18:51.912323Z"
    },
    "papermill": {
     "duration": 0.041333,
     "end_time": "2022-04-25T04:18:51.912411",
     "exception": false,
     "start_time": "2022-04-25T04:18:51.871078",
     "status": "completed"
    },
    "tags": []
   },
   "outputs": [],
   "source": [
    "mf = MatrixFactorization(mask_sparse_tensor.shape[0], mask_sparse_tensor.shape[1], DECOMP_RANK).to(device=device)"
   ]
  },
  {
   "cell_type": "code",
   "execution_count": 19,
   "id": "0f6eb02d",
   "metadata": {
    "execution": {
     "iopub.execute_input": "2022-04-25T04:18:51.954002Z",
     "iopub.status.busy": "2022-04-25T04:18:51.953628Z",
     "iopub.status.idle": "2022-04-25T04:18:51.955358Z",
     "shell.execute_reply": "2022-04-25T04:18:51.955010Z"
    },
    "papermill": {
     "duration": 0.027251,
     "end_time": "2022-04-25T04:18:51.955429",
     "exception": false,
     "start_time": "2022-04-25T04:18:51.928178",
     "status": "completed"
    },
    "tags": []
   },
   "outputs": [],
   "source": [
    "import torch.optim as optim\n",
    "\n",
    "optimizer = optim.Adam(mf.parameters(), lr=0.001)"
   ]
  },
  {
   "cell_type": "code",
   "execution_count": 20,
   "id": "f3190a90",
   "metadata": {
    "execution": {
     "iopub.execute_input": "2022-04-25T04:18:52.010770Z",
     "iopub.status.busy": "2022-04-25T04:18:52.010407Z",
     "iopub.status.idle": "2022-04-25T05:20:06.176596Z",
     "shell.execute_reply": "2022-04-25T05:20:06.177009Z"
    },
    "papermill": {
     "duration": 3674.201145,
     "end_time": "2022-04-25T05:20:06.180341",
     "exception": false,
     "start_time": "2022-04-25T04:18:51.979196",
     "status": "completed"
    },
    "tags": []
   },
   "outputs": [
    {
     "name": "stdout",
     "output_type": "stream",
     "text": [
      "0\n",
      "215980300.0\n"
     ]
    },
    {
     "name": "stdout",
     "output_type": "stream",
     "text": [
      "1\n",
      "215791046.0\n"
     ]
    },
    {
     "name": "stdout",
     "output_type": "stream",
     "text": [
      "2\n",
      "215302230.0\n"
     ]
    },
    {
     "name": "stdout",
     "output_type": "stream",
     "text": [
      "3\n",
      "214377663.0\n"
     ]
    },
    {
     "name": "stdout",
     "output_type": "stream",
     "text": [
      "4\n",
      "212954939.0\n"
     ]
    },
    {
     "name": "stdout",
     "output_type": "stream",
     "text": [
      "5\n",
      "211007422.0\n"
     ]
    },
    {
     "name": "stdout",
     "output_type": "stream",
     "text": [
      "6\n",
      "208576065.0\n"
     ]
    },
    {
     "name": "stdout",
     "output_type": "stream",
     "text": [
      "7\n",
      "205745541.0\n"
     ]
    },
    {
     "name": "stdout",
     "output_type": "stream",
     "text": [
      "8\n",
      "202618540.0\n"
     ]
    },
    {
     "name": "stdout",
     "output_type": "stream",
     "text": [
      "9\n",
      "199332813.0\n"
     ]
    },
    {
     "name": "stdout",
     "output_type": "stream",
     "text": [
      "10\n",
      "196060352.0\n"
     ]
    },
    {
     "name": "stdout",
     "output_type": "stream",
     "text": [
      "11\n",
      "192938742.0\n"
     ]
    },
    {
     "name": "stdout",
     "output_type": "stream",
     "text": [
      "12\n",
      "190089840.0\n"
     ]
    },
    {
     "name": "stdout",
     "output_type": "stream",
     "text": [
      "13\n",
      "187555656.0\n"
     ]
    },
    {
     "name": "stdout",
     "output_type": "stream",
     "text": [
      "14\n",
      "185377427.0\n"
     ]
    },
    {
     "name": "stdout",
     "output_type": "stream",
     "text": [
      "15\n",
      "183517371.0\n"
     ]
    },
    {
     "name": "stdout",
     "output_type": "stream",
     "text": [
      "16\n",
      "181907606.0\n"
     ]
    },
    {
     "name": "stdout",
     "output_type": "stream",
     "text": [
      "17\n",
      "180474603.0\n"
     ]
    },
    {
     "name": "stdout",
     "output_type": "stream",
     "text": [
      "18\n",
      "179148408.0\n"
     ]
    },
    {
     "name": "stdout",
     "output_type": "stream",
     "text": [
      "19\n",
      "177920314.0\n"
     ]
    },
    {
     "name": "stdout",
     "output_type": "stream",
     "text": [
      "20\n",
      "176747364.5\n"
     ]
    },
    {
     "name": "stdout",
     "output_type": "stream",
     "text": [
      "21\n",
      "175623108.0\n"
     ]
    },
    {
     "name": "stdout",
     "output_type": "stream",
     "text": [
      "22\n",
      "174534575.0\n"
     ]
    },
    {
     "name": "stdout",
     "output_type": "stream",
     "text": [
      "23\n",
      "173490802.5\n"
     ]
    },
    {
     "name": "stdout",
     "output_type": "stream",
     "text": [
      "24\n",
      "172464162.0\n"
     ]
    },
    {
     "name": "stdout",
     "output_type": "stream",
     "text": [
      "25\n",
      "171468954.0\n"
     ]
    },
    {
     "name": "stdout",
     "output_type": "stream",
     "text": [
      "26\n",
      "170497643.0\n"
     ]
    },
    {
     "name": "stdout",
     "output_type": "stream",
     "text": [
      "27\n",
      "169549226.0\n"
     ]
    },
    {
     "name": "stdout",
     "output_type": "stream",
     "text": [
      "28\n",
      "168622540.0\n"
     ]
    },
    {
     "name": "stdout",
     "output_type": "stream",
     "text": [
      "29\n",
      "167703122.0\n"
     ]
    },
    {
     "name": "stdout",
     "output_type": "stream",
     "text": [
      "30\n",
      "166797394.0\n"
     ]
    },
    {
     "name": "stdout",
     "output_type": "stream",
     "text": [
      "31\n",
      "165912587.0\n"
     ]
    },
    {
     "name": "stdout",
     "output_type": "stream",
     "text": [
      "32\n",
      "165047055.0\n"
     ]
    },
    {
     "name": "stdout",
     "output_type": "stream",
     "text": [
      "33\n",
      "164200515.0\n"
     ]
    },
    {
     "name": "stdout",
     "output_type": "stream",
     "text": [
      "34\n",
      "163348272.0\n"
     ]
    },
    {
     "name": "stdout",
     "output_type": "stream",
     "text": [
      "35\n",
      "162516109.0\n"
     ]
    },
    {
     "name": "stdout",
     "output_type": "stream",
     "text": [
      "36\n",
      "161699897.0\n"
     ]
    },
    {
     "name": "stdout",
     "output_type": "stream",
     "text": [
      "37\n",
      "160891516.5\n"
     ]
    },
    {
     "name": "stdout",
     "output_type": "stream",
     "text": [
      "38\n",
      "160102162.0\n"
     ]
    },
    {
     "name": "stdout",
     "output_type": "stream",
     "text": [
      "39\n",
      "159313725.0\n"
     ]
    },
    {
     "name": "stdout",
     "output_type": "stream",
     "text": [
      "40\n",
      "158522668.0\n"
     ]
    },
    {
     "name": "stdout",
     "output_type": "stream",
     "text": [
      "41\n",
      "157751351.5\n"
     ]
    },
    {
     "name": "stdout",
     "output_type": "stream",
     "text": [
      "42\n",
      "157005962.0\n"
     ]
    },
    {
     "name": "stdout",
     "output_type": "stream",
     "text": [
      "43\n",
      "156256217.0\n"
     ]
    },
    {
     "name": "stdout",
     "output_type": "stream",
     "text": [
      "44\n",
      "155498003.0\n"
     ]
    },
    {
     "name": "stdout",
     "output_type": "stream",
     "text": [
      "45\n",
      "154800229.0\n"
     ]
    },
    {
     "name": "stdout",
     "output_type": "stream",
     "text": [
      "46\n",
      "154078518.0\n"
     ]
    },
    {
     "name": "stdout",
     "output_type": "stream",
     "text": [
      "47\n",
      "153367116.0\n"
     ]
    },
    {
     "name": "stdout",
     "output_type": "stream",
     "text": [
      "48\n",
      "152656838.0\n"
     ]
    },
    {
     "name": "stdout",
     "output_type": "stream",
     "text": [
      "49\n",
      "151969131.0\n"
     ]
    }
   ],
   "source": [
    "losses = []\n",
    "\n",
    "for epoch in range(50):\n",
    "    \n",
    "    batcher = data_adjacency_batcher(data_dense_tensor, adjacency_dense_tensor, 5000)\n",
    "    \n",
    "    total_loss = 0\n",
    "    \n",
    "    \n",
    "    for (data_batch, mask_batch, adjacency_batch, row_batch) in batcher:\n",
    "        \n",
    "        \n",
    "        \n",
    "        data_batch = data_batch.to(device=device)\n",
    "        mask_batch = mask_batch.to(device=device)\n",
    "        adjacency_batch = adjacency_batch.to(device=device)\n",
    "        row_batch = row_batch.to(device=device)\n",
    "        \n",
    "        laplacian_tensor = adjacency_to_laplacian(adjacency_batch).to(device=device)\n",
    "    \n",
    "        optimizer.zero_grad()\n",
    "\n",
    "        output = mf.forward(row_batch, torch.arange(0, data_batch.shape[1]))\n",
    "        \n",
    "        L1_laplacian_tensor = adjacency_to_laplacian(adjacency_to_L1_adjacency(output, adjacency_batch, 0.001, device)).to(device=device)\n",
    "        \n",
    "        loss = squared_loss(data_batch[mask_batch], output[mask_batch]) + LAPLACIAN_PARAM*laplacian_loss(output, laplacian_tensor) + TV_PARAM*laplacian_loss(output, L1_laplacian_tensor)\n",
    "        loss.backward()\n",
    "        optimizer.step()\n",
    "        \n",
    "        total_loss += loss.item()\n",
    "        \n",
    "\n",
    "    if epoch % 1 == 0:\n",
    "        print(epoch)\n",
    "        print(total_loss)\n",
    "        \n",
    "    losses.append(total_loss)"
   ]
  },
  {
   "cell_type": "code",
   "execution_count": 21,
   "id": "fed6d1a7",
   "metadata": {
    "execution": {
     "iopub.execute_input": "2022-04-25T05:20:06.249713Z",
     "iopub.status.busy": "2022-04-25T05:20:06.246017Z",
     "iopub.status.idle": "2022-04-25T05:20:06.263831Z",
     "shell.execute_reply": "2022-04-25T05:20:06.263534Z"
    },
    "papermill": {
     "duration": 0.055818,
     "end_time": "2022-04-25T05:20:06.263922",
     "exception": false,
     "start_time": "2022-04-25T05:20:06.208104",
     "status": "completed"
    },
    "tags": []
   },
   "outputs": [
    {
     "data": {
      "text/plain": [
       "9022118.0"
      ]
     },
     "execution_count": 21,
     "metadata": {},
     "output_type": "execute_result"
    }
   ],
   "source": [
    "loss.item()"
   ]
  },
  {
   "cell_type": "code",
   "execution_count": 22,
   "id": "64e1f3f4",
   "metadata": {
    "execution": {
     "iopub.execute_input": "2022-04-25T05:20:06.319185Z",
     "iopub.status.busy": "2022-04-25T05:20:06.318798Z",
     "iopub.status.idle": "2022-04-25T05:20:06.331978Z",
     "shell.execute_reply": "2022-04-25T05:20:06.331595Z"
    },
    "papermill": {
     "duration": 0.043369,
     "end_time": "2022-04-25T05:20:06.332064",
     "exception": false,
     "start_time": "2022-04-25T05:20:06.288695",
     "status": "completed"
    },
    "tags": []
   },
   "outputs": [],
   "source": [
    "np.save(f'./results/loss_curves/mf_rank{DECOMP_RANK}_L{LAPLACIAN_PARAM}_TV{TV_PARAM}_losses', np.array(losses))"
   ]
  },
  {
   "cell_type": "code",
   "execution_count": 23,
   "id": "94d56f72",
   "metadata": {
    "execution": {
     "iopub.execute_input": "2022-04-25T05:20:06.385794Z",
     "iopub.status.busy": "2022-04-25T05:20:06.385424Z",
     "iopub.status.idle": "2022-04-25T05:20:06.544615Z",
     "shell.execute_reply": "2022-04-25T05:20:06.544189Z"
    },
    "papermill": {
     "duration": 0.187901,
     "end_time": "2022-04-25T05:20:06.544714",
     "exception": false,
     "start_time": "2022-04-25T05:20:06.356813",
     "status": "completed"
    },
    "tags": []
   },
   "outputs": [],
   "source": [
    "torch.save(mf.state_dict(), f'./results/saved_models/mf_rank{DECOMP_RANK}_L{LAPLACIAN_PARAM}_TV{TV_PARAM}_state')"
   ]
  },
  {
   "cell_type": "code",
   "execution_count": 24,
   "id": "5f234948",
   "metadata": {
    "execution": {
     "iopub.execute_input": "2022-04-25T05:20:06.623074Z",
     "iopub.status.busy": "2022-04-25T05:20:06.622554Z",
     "iopub.status.idle": "2022-04-25T05:22:16.856913Z",
     "shell.execute_reply": "2022-04-25T05:22:16.856554Z"
    },
    "papermill": {
     "duration": 130.286829,
     "end_time": "2022-04-25T05:22:16.857009",
     "exception": false,
     "start_time": "2022-04-25T05:20:06.570180",
     "status": "completed"
    },
    "tags": []
   },
   "outputs": [],
   "source": [
    "final_output = mf.forward(torch.arange(0, data_dense_tensor.shape[0]), torch.arange(0, data_dense_tensor.shape[1]))\n",
    "\n",
    "final_squared_error = squared_loss(data_dense_tensor, final_output)\n",
    "final_laplacian = laplacian_loss(final_output, adjacency_to_laplacian(adjacency_dense_tensor).to(device=device))\n",
    "final_TV =  laplacian_loss(final_output, adjacency_to_laplacian(adjacency_to_L1_adjacency(final_output, adjacency_dense_tensor, 0.001, device)).to(device=device))"
   ]
  },
  {
   "cell_type": "code",
   "execution_count": 25,
   "id": "e21c0e81",
   "metadata": {
    "execution": {
     "iopub.execute_input": "2022-04-25T05:22:16.920153Z",
     "iopub.status.busy": "2022-04-25T05:22:16.919713Z",
     "iopub.status.idle": "2022-04-25T05:22:17.987287Z",
     "shell.execute_reply": "2022-04-25T05:22:17.987777Z"
    },
    "papermill": {
     "duration": 1.101555,
     "end_time": "2022-04-25T05:22:17.987889",
     "exception": false,
     "start_time": "2022-04-25T05:22:16.886334",
     "status": "completed"
    },
    "tags": []
   },
   "outputs": [],
   "source": [
    "np.save(f'./results/final_losses/mf_rank{DECOMP_RANK}_L{LAPLACIAN_PARAM}_TV{TV_PARAM}_losses', np.array([final_squared_error.item(), final_laplacian.item(), final_TV.item()]))"
   ]
  },
  {
   "cell_type": "code",
   "execution_count": null,
   "id": "9e698f89",
   "metadata": {
    "papermill": {
     "duration": 0.024697,
     "end_time": "2022-04-25T05:22:18.038310",
     "exception": false,
     "start_time": "2022-04-25T05:22:18.013613",
     "status": "completed"
    },
    "tags": []
   },
   "outputs": [],
   "source": []
  }
 ],
 "metadata": {
  "interpreter": {
   "hash": "22ee4ece52021b4a120b95b326dd7a4d7938576e919f53927a7959ab5d7e1e45"
  },
  "kernelspec": {
   "display_name": "spatialSFT",
   "language": "python",
   "name": "spatialsft"
  },
  "language_info": {
   "codemirror_mode": {
    "name": "ipython",
    "version": 3
   },
   "file_extension": ".py",
   "mimetype": "text/x-python",
   "name": "python",
   "nbconvert_exporter": "python",
   "pygments_lexer": "ipython3",
   "version": "3.8.0"
  },
  "papermill": {
   "default_parameters": {},
   "duration": 3921.733204,
   "end_time": "2022-04-25T05:22:26.113398",
   "environment_variables": {},
   "exception": null,
   "input_path": "./notebooks/mf_param_template.ipynb",
   "output_path": "./papermill_output/mf_param_template_rank100_lap0.1_tv0.0001.ipynb",
   "parameters": {
    "DECOMP_RANK": 100,
    "LAPLACIAN_PARAM": 0.1,
    "TV_PARAM": 0.0001
   },
   "start_time": "2022-04-25T04:17:04.380194",
   "version": "2.3.4"
  }
 },
 "nbformat": 4,
 "nbformat_minor": 5
}