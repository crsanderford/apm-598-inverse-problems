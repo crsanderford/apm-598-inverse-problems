{
 "cells": [
  {
   "cell_type": "markdown",
   "id": "bcb699cf",
   "metadata": {
    "papermill": {
     "duration": 0.014868,
     "end_time": "2022-04-25T03:09:57.123696",
     "exception": false,
     "start_time": "2022-04-25T03:09:57.108828",
     "status": "completed"
    },
    "tags": []
   },
   "source": [
    "### setup"
   ]
  },
  {
   "cell_type": "code",
   "execution_count": 1,
   "id": "6a8913cc",
   "metadata": {
    "execution": {
     "iopub.execute_input": "2022-04-25T03:09:57.158186Z",
     "iopub.status.busy": "2022-04-25T03:09:57.157807Z",
     "iopub.status.idle": "2022-04-25T03:10:04.607009Z",
     "shell.execute_reply": "2022-04-25T03:10:04.607353Z"
    },
    "papermill": {
     "duration": 7.470253,
     "end_time": "2022-04-25T03:10:04.607546",
     "exception": false,
     "start_time": "2022-04-25T03:09:57.137293",
     "status": "completed"
    },
    "tags": []
   },
   "outputs": [],
   "source": [
    "import numpy as np \n",
    "import matplotlib.pyplot as plt\n",
    "import pandas as pd\n",
    "\n",
    "import scipy\n",
    "\n",
    "\n",
    "from utils import *\n",
    "from pytorch_sparse_utils import *\n",
    "\n",
    "\n",
    "import torch\n",
    "from torch import nn\n",
    "import torch.nn.functional as F"
   ]
  },
  {
   "cell_type": "markdown",
   "id": "4840de13",
   "metadata": {
    "papermill": {
     "duration": 0.014208,
     "end_time": "2022-04-25T03:10:04.636909",
     "exception": false,
     "start_time": "2022-04-25T03:10:04.622701",
     "status": "completed"
    },
    "tags": []
   },
   "source": [
    "### set parameters"
   ]
  },
  {
   "cell_type": "code",
   "execution_count": 2,
   "id": "f36fbc77",
   "metadata": {
    "execution": {
     "iopub.execute_input": "2022-04-25T03:10:04.667756Z",
     "iopub.status.busy": "2022-04-25T03:10:04.667390Z",
     "iopub.status.idle": "2022-04-25T03:10:04.669215Z",
     "shell.execute_reply": "2022-04-25T03:10:04.669507Z"
    },
    "papermill": {
     "duration": 0.019024,
     "end_time": "2022-04-25T03:10:04.669590",
     "exception": false,
     "start_time": "2022-04-25T03:10:04.650566",
     "status": "completed"
    },
    "tags": [
     "parameters"
    ]
   },
   "outputs": [],
   "source": [
    "DECOMP_RANK = 10\n",
    "LAPLACIAN_PARAM = 0.001\n",
    "TV_PARAM = 0.001"
   ]
  },
  {
   "cell_type": "code",
   "execution_count": 3,
   "id": "9576e3b3",
   "metadata": {
    "execution": {
     "iopub.execute_input": "2022-04-25T03:10:04.700575Z",
     "iopub.status.busy": "2022-04-25T03:10:04.700210Z",
     "iopub.status.idle": "2022-04-25T03:10:04.702278Z",
     "shell.execute_reply": "2022-04-25T03:10:04.701917Z"
    },
    "papermill": {
     "duration": 0.01857,
     "end_time": "2022-04-25T03:10:04.702351",
     "exception": false,
     "start_time": "2022-04-25T03:10:04.683781",
     "status": "completed"
    },
    "tags": [
     "injected-parameters"
    ]
   },
   "outputs": [],
   "source": [
    "# Parameters\n",
    "DECOMP_RANK = 100\n",
    "LAPLACIAN_PARAM = 0.1\n",
    "TV_PARAM = 0.001\n"
   ]
  },
  {
   "cell_type": "code",
   "execution_count": 4,
   "id": "9ef8204f",
   "metadata": {
    "execution": {
     "iopub.execute_input": "2022-04-25T03:10:22.592301Z",
     "iopub.status.busy": "2022-04-25T03:10:22.591833Z",
     "iopub.status.idle": "2022-04-25T03:10:22.604278Z",
     "shell.execute_reply": "2022-04-25T03:10:22.604678Z"
    },
    "papermill": {
     "duration": 17.887512,
     "end_time": "2022-04-25T03:10:22.604788",
     "exception": false,
     "start_time": "2022-04-25T03:10:04.717276",
     "status": "completed"
    },
    "tags": []
   },
   "outputs": [
    {
     "name": "stdout",
     "output_type": "stream",
     "text": [
      "Using cuda device\n"
     ]
    }
   ],
   "source": [
    "device = 'cuda' if torch.cuda.is_available() else 'cpu'\n",
    "print('Using {} device'.format(device))"
   ]
  },
  {
   "cell_type": "markdown",
   "id": "60cf94a6",
   "metadata": {
    "papermill": {
     "duration": 0.014086,
     "end_time": "2022-04-25T03:10:22.633993",
     "exception": false,
     "start_time": "2022-04-25T03:10:22.619907",
     "status": "completed"
    },
    "tags": []
   },
   "source": [
    "### loading data"
   ]
  },
  {
   "cell_type": "code",
   "execution_count": 5,
   "id": "3ffd5edf",
   "metadata": {
    "execution": {
     "iopub.execute_input": "2022-04-25T03:10:22.668057Z",
     "iopub.status.busy": "2022-04-25T03:10:22.667689Z",
     "iopub.status.idle": "2022-04-25T03:10:24.913248Z",
     "shell.execute_reply": "2022-04-25T03:10:24.912920Z"
    },
    "papermill": {
     "duration": 2.265428,
     "end_time": "2022-04-25T03:10:24.913332",
     "exception": false,
     "start_time": "2022-04-25T03:10:22.647904",
     "status": "completed"
    },
    "tags": []
   },
   "outputs": [
    {
     "data": {
      "text/html": [
       "<div>\n",
       "<style scoped>\n",
       "    .dataframe tbody tr th:only-of-type {\n",
       "        vertical-align: middle;\n",
       "    }\n",
       "\n",
       "    .dataframe tbody tr th {\n",
       "        vertical-align: top;\n",
       "    }\n",
       "\n",
       "    .dataframe thead th {\n",
       "        text-align: right;\n",
       "    }\n",
       "</style>\n",
       "<table border=\"1\" class=\"dataframe\">\n",
       "  <thead>\n",
       "    <tr style=\"text-align: right;\">\n",
       "      <th></th>\n",
       "      <th>1110008P14Rik</th>\n",
       "      <th>1500009C09Rik</th>\n",
       "      <th>1500012F01Rik</th>\n",
       "      <th>1700020I14Rik</th>\n",
       "      <th>2010107E04Rik</th>\n",
       "      <th>2010300C02Rik</th>\n",
       "      <th>2210016L21Rik</th>\n",
       "      <th>2310036O22Rik</th>\n",
       "      <th>2900011O08Rik</th>\n",
       "      <th>3110035E14Rik</th>\n",
       "      <th>...</th>\n",
       "      <th>Zrsr1</th>\n",
       "      <th>Zwint</th>\n",
       "      <th>mt-Co1</th>\n",
       "      <th>mt-Cytb</th>\n",
       "      <th>mt-Nd1</th>\n",
       "      <th>mt-Nd2</th>\n",
       "      <th>mt-Nd4</th>\n",
       "      <th>mt-Nd5</th>\n",
       "      <th>mt-Rnr1</th>\n",
       "      <th>mt-Rnr2</th>\n",
       "    </tr>\n",
       "  </thead>\n",
       "  <tbody>\n",
       "    <tr>\n",
       "      <th>AAAAAAAGGTAGTA</th>\n",
       "      <td>0</td>\n",
       "      <td>0</td>\n",
       "      <td>0</td>\n",
       "      <td>0</td>\n",
       "      <td>0</td>\n",
       "      <td>0</td>\n",
       "      <td>0</td>\n",
       "      <td>0</td>\n",
       "      <td>0</td>\n",
       "      <td>0</td>\n",
       "      <td>...</td>\n",
       "      <td>0</td>\n",
       "      <td>0</td>\n",
       "      <td>0</td>\n",
       "      <td>0</td>\n",
       "      <td>0</td>\n",
       "      <td>0</td>\n",
       "      <td>0</td>\n",
       "      <td>0</td>\n",
       "      <td>1</td>\n",
       "      <td>0</td>\n",
       "    </tr>\n",
       "    <tr>\n",
       "      <th>AAAAAAAGTCCCAA</th>\n",
       "      <td>0</td>\n",
       "      <td>0</td>\n",
       "      <td>0</td>\n",
       "      <td>0</td>\n",
       "      <td>0</td>\n",
       "      <td>0</td>\n",
       "      <td>0</td>\n",
       "      <td>0</td>\n",
       "      <td>0</td>\n",
       "      <td>0</td>\n",
       "      <td>...</td>\n",
       "      <td>0</td>\n",
       "      <td>0</td>\n",
       "      <td>2</td>\n",
       "      <td>2</td>\n",
       "      <td>5</td>\n",
       "      <td>0</td>\n",
       "      <td>1</td>\n",
       "      <td>0</td>\n",
       "      <td>2</td>\n",
       "      <td>4</td>\n",
       "    </tr>\n",
       "    <tr>\n",
       "      <th>AAAAAAATCTTAGT</th>\n",
       "      <td>0</td>\n",
       "      <td>0</td>\n",
       "      <td>0</td>\n",
       "      <td>0</td>\n",
       "      <td>0</td>\n",
       "      <td>0</td>\n",
       "      <td>0</td>\n",
       "      <td>0</td>\n",
       "      <td>0</td>\n",
       "      <td>0</td>\n",
       "      <td>...</td>\n",
       "      <td>0</td>\n",
       "      <td>0</td>\n",
       "      <td>0</td>\n",
       "      <td>0</td>\n",
       "      <td>0</td>\n",
       "      <td>0</td>\n",
       "      <td>0</td>\n",
       "      <td>0</td>\n",
       "      <td>0</td>\n",
       "      <td>0</td>\n",
       "    </tr>\n",
       "    <tr>\n",
       "      <th>AAAAAACATCTTTC</th>\n",
       "      <td>0</td>\n",
       "      <td>0</td>\n",
       "      <td>0</td>\n",
       "      <td>0</td>\n",
       "      <td>0</td>\n",
       "      <td>0</td>\n",
       "      <td>0</td>\n",
       "      <td>0</td>\n",
       "      <td>0</td>\n",
       "      <td>0</td>\n",
       "      <td>...</td>\n",
       "      <td>0</td>\n",
       "      <td>0</td>\n",
       "      <td>0</td>\n",
       "      <td>0</td>\n",
       "      <td>0</td>\n",
       "      <td>0</td>\n",
       "      <td>0</td>\n",
       "      <td>0</td>\n",
       "      <td>1</td>\n",
       "      <td>0</td>\n",
       "    </tr>\n",
       "    <tr>\n",
       "      <th>AAAAAACGAAATAG</th>\n",
       "      <td>0</td>\n",
       "      <td>0</td>\n",
       "      <td>0</td>\n",
       "      <td>0</td>\n",
       "      <td>0</td>\n",
       "      <td>0</td>\n",
       "      <td>0</td>\n",
       "      <td>0</td>\n",
       "      <td>0</td>\n",
       "      <td>0</td>\n",
       "      <td>...</td>\n",
       "      <td>0</td>\n",
       "      <td>0</td>\n",
       "      <td>1</td>\n",
       "      <td>0</td>\n",
       "      <td>0</td>\n",
       "      <td>0</td>\n",
       "      <td>0</td>\n",
       "      <td>0</td>\n",
       "      <td>0</td>\n",
       "      <td>0</td>\n",
       "    </tr>\n",
       "  </tbody>\n",
       "</table>\n",
       "<p>5 rows × 1222 columns</p>\n",
       "</div>"
      ],
      "text/plain": [
       "                1110008P14Rik  1500009C09Rik  1500012F01Rik  1700020I14Rik  \\\n",
       "AAAAAAAGGTAGTA              0              0              0              0   \n",
       "AAAAAAAGTCCCAA              0              0              0              0   \n",
       "AAAAAAATCTTAGT              0              0              0              0   \n",
       "AAAAAACATCTTTC              0              0              0              0   \n",
       "AAAAAACGAAATAG              0              0              0              0   \n",
       "\n",
       "                2010107E04Rik  2010300C02Rik  2210016L21Rik  2310036O22Rik  \\\n",
       "AAAAAAAGGTAGTA              0              0              0              0   \n",
       "AAAAAAAGTCCCAA              0              0              0              0   \n",
       "AAAAAAATCTTAGT              0              0              0              0   \n",
       "AAAAAACATCTTTC              0              0              0              0   \n",
       "AAAAAACGAAATAG              0              0              0              0   \n",
       "\n",
       "                2900011O08Rik  3110035E14Rik  ...  Zrsr1  Zwint  mt-Co1  \\\n",
       "AAAAAAAGGTAGTA              0              0  ...      0      0       0   \n",
       "AAAAAAAGTCCCAA              0              0  ...      0      0       2   \n",
       "AAAAAAATCTTAGT              0              0  ...      0      0       0   \n",
       "AAAAAACATCTTTC              0              0  ...      0      0       0   \n",
       "AAAAAACGAAATAG              0              0  ...      0      0       1   \n",
       "\n",
       "                mt-Cytb  mt-Nd1  mt-Nd2  mt-Nd4  mt-Nd5  mt-Rnr1  mt-Rnr2  \n",
       "AAAAAAAGGTAGTA        0       0       0       0       0        1        0  \n",
       "AAAAAAAGTCCCAA        2       5       0       1       0        2        4  \n",
       "AAAAAAATCTTAGT        0       0       0       0       0        0        0  \n",
       "AAAAAACATCTTTC        0       0       0       0       0        1        0  \n",
       "AAAAAACGAAATAG        0       0       0       0       0        0        0  \n",
       "\n",
       "[5 rows x 1222 columns]"
      ]
     },
     "execution_count": 5,
     "metadata": {},
     "output_type": "execute_result"
    }
   ],
   "source": [
    "bead_reads_subset = pd.read_csv('./data/bead_reads_subset.csv', index_col='Unnamed: 0')\n",
    "bead_reads_subset.head()"
   ]
  },
  {
   "cell_type": "code",
   "execution_count": 6,
   "id": "ef3a1e88",
   "metadata": {
    "execution": {
     "iopub.execute_input": "2022-04-25T03:10:24.948716Z",
     "iopub.status.busy": "2022-04-25T03:10:24.948354Z",
     "iopub.status.idle": "2022-04-25T03:10:25.500290Z",
     "shell.execute_reply": "2022-04-25T03:10:25.500589Z"
    },
    "papermill": {
     "duration": 0.571971,
     "end_time": "2022-04-25T03:10:25.500681",
     "exception": false,
     "start_time": "2022-04-25T03:10:24.928710",
     "status": "completed"
    },
    "tags": []
   },
   "outputs": [],
   "source": [
    "data_scipy_sparse = scipy.sparse.coo_matrix( bead_reads_subset.to_numpy() )"
   ]
  },
  {
   "cell_type": "code",
   "execution_count": 7,
   "id": "94e062e3",
   "metadata": {
    "execution": {
     "iopub.execute_input": "2022-04-25T03:10:25.534456Z",
     "iopub.status.busy": "2022-04-25T03:10:25.532008Z",
     "iopub.status.idle": "2022-04-25T03:10:33.571829Z",
     "shell.execute_reply": "2022-04-25T03:10:33.571444Z"
    },
    "papermill": {
     "duration": 8.056286,
     "end_time": "2022-04-25T03:10:33.571926",
     "exception": false,
     "start_time": "2022-04-25T03:10:25.515640",
     "status": "completed"
    },
    "tags": []
   },
   "outputs": [],
   "source": [
    "data_sparse_tensor = scipy_sparse_to_pytorch_sparse(data_scipy_sparse).to(device=device)"
   ]
  },
  {
   "cell_type": "code",
   "execution_count": 8,
   "id": "e5230011",
   "metadata": {
    "execution": {
     "iopub.execute_input": "2022-04-25T03:10:33.606759Z",
     "iopub.status.busy": "2022-04-25T03:10:33.606397Z",
     "iopub.status.idle": "2022-04-25T03:10:33.613726Z",
     "shell.execute_reply": "2022-04-25T03:10:33.614030Z"
    },
    "papermill": {
     "duration": 0.026602,
     "end_time": "2022-04-25T03:10:33.614113",
     "exception": false,
     "start_time": "2022-04-25T03:10:33.587511",
     "status": "completed"
    },
    "tags": []
   },
   "outputs": [
    {
     "data": {
      "text/plain": [
       "tensor(indices=tensor([[    0,     0,     0,  ..., 53207, 53207, 53207],\n",
       "                       [   84,   412,   528,  ...,  1219,  1220,  1221]]),\n",
       "       values=tensor([ 1.,  1.,  1.,  ..., 12., 26., 71.]),\n",
       "       device='cuda:0', size=(53208, 1222), nnz=9552845, layout=torch.sparse_coo)"
      ]
     },
     "execution_count": 8,
     "metadata": {},
     "output_type": "execute_result"
    }
   ],
   "source": [
    "data_sparse_tensor"
   ]
  },
  {
   "cell_type": "code",
   "execution_count": 9,
   "id": "a049c2d9",
   "metadata": {
    "execution": {
     "iopub.execute_input": "2022-04-25T03:10:33.646800Z",
     "iopub.status.busy": "2022-04-25T03:10:33.645798Z",
     "iopub.status.idle": "2022-04-25T03:10:33.649616Z",
     "shell.execute_reply": "2022-04-25T03:10:33.649272Z"
    },
    "papermill": {
     "duration": 0.020483,
     "end_time": "2022-04-25T03:10:33.649685",
     "exception": false,
     "start_time": "2022-04-25T03:10:33.629202",
     "status": "completed"
    },
    "tags": []
   },
   "outputs": [],
   "source": [
    "data_dense_tensor = data_sparse_tensor.to_dense()"
   ]
  },
  {
   "cell_type": "code",
   "execution_count": 10,
   "id": "28cb9115",
   "metadata": {
    "execution": {
     "iopub.execute_input": "2022-04-25T03:10:33.684163Z",
     "iopub.status.busy": "2022-04-25T03:10:33.683793Z",
     "iopub.status.idle": "2022-04-25T03:10:33.813199Z",
     "shell.execute_reply": "2022-04-25T03:10:33.812884Z"
    },
    "papermill": {
     "duration": 0.147904,
     "end_time": "2022-04-25T03:10:33.813273",
     "exception": false,
     "start_time": "2022-04-25T03:10:33.665369",
     "status": "completed"
    },
    "tags": []
   },
   "outputs": [],
   "source": [
    "mask_scipy_sparse = (data_scipy_sparse != 0).astype(np.int64).tocoo()"
   ]
  },
  {
   "cell_type": "code",
   "execution_count": 11,
   "id": "d7772fac",
   "metadata": {
    "execution": {
     "iopub.execute_input": "2022-04-25T03:10:33.847080Z",
     "iopub.status.busy": "2022-04-25T03:10:33.846720Z",
     "iopub.status.idle": "2022-04-25T03:10:33.907208Z",
     "shell.execute_reply": "2022-04-25T03:10:33.907508Z"
    },
    "papermill": {
     "duration": 0.079202,
     "end_time": "2022-04-25T03:10:33.907593",
     "exception": false,
     "start_time": "2022-04-25T03:10:33.828391",
     "status": "completed"
    },
    "tags": []
   },
   "outputs": [],
   "source": [
    "mask_sparse_tensor = scipy_sparse_to_pytorch_sparse(mask_scipy_sparse)"
   ]
  },
  {
   "cell_type": "code",
   "execution_count": 12,
   "id": "466da283",
   "metadata": {
    "execution": {
     "iopub.execute_input": "2022-04-25T03:10:33.946714Z",
     "iopub.status.busy": "2022-04-25T03:10:33.946264Z",
     "iopub.status.idle": "2022-04-25T03:10:34.922921Z",
     "shell.execute_reply": "2022-04-25T03:10:34.923261Z"
    },
    "papermill": {
     "duration": 1.00108,
     "end_time": "2022-04-25T03:10:34.923382",
     "exception": false,
     "start_time": "2022-04-25T03:10:33.922302",
     "status": "completed"
    },
    "tags": []
   },
   "outputs": [],
   "source": [
    "mask_dense_tensor = mask_sparse_tensor.to_dense().bool()"
   ]
  },
  {
   "cell_type": "code",
   "execution_count": 13,
   "id": "6d4820f3",
   "metadata": {
    "execution": {
     "iopub.execute_input": "2022-04-25T03:10:34.975651Z",
     "iopub.status.busy": "2022-04-25T03:10:34.975293Z",
     "iopub.status.idle": "2022-04-25T03:11:14.291472Z",
     "shell.execute_reply": "2022-04-25T03:11:14.290922Z"
    },
    "papermill": {
     "duration": 39.352491,
     "end_time": "2022-04-25T03:11:14.291572",
     "exception": false,
     "start_time": "2022-04-25T03:10:34.939081",
     "status": "completed"
    },
    "tags": []
   },
   "outputs": [],
   "source": [
    "distances = np.load('./data/macosko_distance_matrix.npy')"
   ]
  },
  {
   "cell_type": "code",
   "execution_count": 14,
   "id": "f4f35b20",
   "metadata": {
    "execution": {
     "iopub.execute_input": "2022-04-25T03:11:14.331577Z",
     "iopub.status.busy": "2022-04-25T03:11:14.331169Z",
     "iopub.status.idle": "2022-04-25T03:11:21.981294Z",
     "shell.execute_reply": "2022-04-25T03:11:21.980906Z"
    },
    "papermill": {
     "duration": 7.670248,
     "end_time": "2022-04-25T03:11:21.981384",
     "exception": false,
     "start_time": "2022-04-25T03:11:14.311136",
     "status": "completed"
    },
    "tags": []
   },
   "outputs": [],
   "source": [
    "adjacency = scipy.sparse.coo_matrix( distances <= 20 , dtype=np.float32)\n",
    "degree = scipy.sparse.diags( adjacency.sum(axis=0).A1 )\n",
    "laplacian = (degree - adjacency).tocoo()"
   ]
  },
  {
   "cell_type": "code",
   "execution_count": 15,
   "id": "a96aa394",
   "metadata": {
    "execution": {
     "iopub.execute_input": "2022-04-25T03:11:22.039429Z",
     "iopub.status.busy": "2022-04-25T03:11:22.037425Z",
     "iopub.status.idle": "2022-04-25T03:11:22.039762Z",
     "shell.execute_reply": "2022-04-25T03:11:22.039092Z"
    },
    "papermill": {
     "duration": 0.044283,
     "end_time": "2022-04-25T03:11:22.041469",
     "exception": false,
     "start_time": "2022-04-25T03:11:21.997186",
     "status": "completed"
    },
    "tags": []
   },
   "outputs": [],
   "source": [
    "adjacency_sparse_tensor = scipy_sparse_to_pytorch_sparse(adjacency)"
   ]
  },
  {
   "cell_type": "code",
   "execution_count": 16,
   "id": "bda01bbc",
   "metadata": {
    "execution": {
     "iopub.execute_input": "2022-04-25T03:11:22.110580Z",
     "iopub.status.busy": "2022-04-25T03:11:22.110083Z",
     "iopub.status.idle": "2022-04-25T03:11:24.440223Z",
     "shell.execute_reply": "2022-04-25T03:11:24.440636Z"
    },
    "papermill": {
     "duration": 2.355984,
     "end_time": "2022-04-25T03:11:24.440847",
     "exception": false,
     "start_time": "2022-04-25T03:11:22.084863",
     "status": "completed"
    },
    "tags": []
   },
   "outputs": [],
   "source": [
    "adjacency_dense_tensor = adjacency_sparse_tensor.to_dense()"
   ]
  },
  {
   "cell_type": "code",
   "execution_count": 17,
   "id": "65b15689",
   "metadata": {
    "execution": {
     "iopub.execute_input": "2022-04-25T03:11:24.485038Z",
     "iopub.status.busy": "2022-04-25T03:11:24.484628Z",
     "iopub.status.idle": "2022-04-25T03:11:24.485952Z",
     "shell.execute_reply": "2022-04-25T03:11:24.486263Z"
    },
    "papermill": {
     "duration": 0.029102,
     "end_time": "2022-04-25T03:11:24.486357",
     "exception": false,
     "start_time": "2022-04-25T03:11:24.457255",
     "status": "completed"
    },
    "tags": []
   },
   "outputs": [],
   "source": [
    "def laplacian_loss(x, x_lap):\n",
    "    \n",
    "    lap_sum = 0\n",
    "    for ii in range(x.shape[1]):\n",
    "        lap_sum = lap_sum + (x[:,ii].T @ x_lap @ x[:,ii])\n",
    "        \n",
    "    return lap_sum"
   ]
  },
  {
   "cell_type": "code",
   "execution_count": 18,
   "id": "8f5fd221",
   "metadata": {
    "execution": {
     "iopub.execute_input": "2022-04-25T03:11:24.523718Z",
     "iopub.status.busy": "2022-04-25T03:11:24.523329Z",
     "iopub.status.idle": "2022-04-25T03:11:24.542232Z",
     "shell.execute_reply": "2022-04-25T03:11:24.542556Z"
    },
    "papermill": {
     "duration": 0.039215,
     "end_time": "2022-04-25T03:11:24.542646",
     "exception": false,
     "start_time": "2022-04-25T03:11:24.503431",
     "status": "completed"
    },
    "tags": []
   },
   "outputs": [],
   "source": [
    "mf = MatrixFactorization(mask_sparse_tensor.shape[0], mask_sparse_tensor.shape[1], DECOMP_RANK).to(device=device)"
   ]
  },
  {
   "cell_type": "code",
   "execution_count": 19,
   "id": "e45e1e46",
   "metadata": {
    "execution": {
     "iopub.execute_input": "2022-04-25T03:11:24.577369Z",
     "iopub.status.busy": "2022-04-25T03:11:24.576903Z",
     "iopub.status.idle": "2022-04-25T03:11:24.577969Z",
     "shell.execute_reply": "2022-04-25T03:11:24.578301Z"
    },
    "papermill": {
     "duration": 0.020493,
     "end_time": "2022-04-25T03:11:24.578380",
     "exception": false,
     "start_time": "2022-04-25T03:11:24.557887",
     "status": "completed"
    },
    "tags": []
   },
   "outputs": [],
   "source": [
    "import torch.optim as optim\n",
    "\n",
    "optimizer = optim.Adam(mf.parameters(), lr=0.001)"
   ]
  },
  {
   "cell_type": "code",
   "execution_count": 20,
   "id": "6ed3ae2a",
   "metadata": {
    "execution": {
     "iopub.execute_input": "2022-04-25T03:11:24.611196Z",
     "iopub.status.busy": "2022-04-25T03:11:24.610814Z",
     "iopub.status.idle": "2022-04-25T04:12:50.149995Z",
     "shell.execute_reply": "2022-04-25T04:12:50.150456Z"
    },
    "papermill": {
     "duration": 3685.562503,
     "end_time": "2022-04-25T04:12:50.156303",
     "exception": false,
     "start_time": "2022-04-25T03:11:24.593800",
     "status": "completed"
    },
    "tags": []
   },
   "outputs": [
    {
     "name": "stdout",
     "output_type": "stream",
     "text": [
      "0\n",
      "215980307.0\n"
     ]
    },
    {
     "name": "stdout",
     "output_type": "stream",
     "text": [
      "1\n",
      "215791038.0\n"
     ]
    },
    {
     "name": "stdout",
     "output_type": "stream",
     "text": [
      "2\n",
      "215301894.0\n"
     ]
    },
    {
     "name": "stdout",
     "output_type": "stream",
     "text": [
      "3\n",
      "214376765.0\n"
     ]
    },
    {
     "name": "stdout",
     "output_type": "stream",
     "text": [
      "4\n",
      "212954139.0\n"
     ]
    },
    {
     "name": "stdout",
     "output_type": "stream",
     "text": [
      "5\n",
      "211011500.0\n"
     ]
    },
    {
     "name": "stdout",
     "output_type": "stream",
     "text": [
      "6\n",
      "208576915.0\n"
     ]
    },
    {
     "name": "stdout",
     "output_type": "stream",
     "text": [
      "7\n",
      "205743807.0\n"
     ]
    },
    {
     "name": "stdout",
     "output_type": "stream",
     "text": [
      "8\n",
      "202615822.0\n"
     ]
    },
    {
     "name": "stdout",
     "output_type": "stream",
     "text": [
      "9\n",
      "199341869.0\n"
     ]
    },
    {
     "name": "stdout",
     "output_type": "stream",
     "text": [
      "10\n",
      "196068343.0\n"
     ]
    },
    {
     "name": "stdout",
     "output_type": "stream",
     "text": [
      "11\n",
      "192947405.0\n"
     ]
    },
    {
     "name": "stdout",
     "output_type": "stream",
     "text": [
      "12\n",
      "190083683.0\n"
     ]
    },
    {
     "name": "stdout",
     "output_type": "stream",
     "text": [
      "13\n",
      "187564229.0\n"
     ]
    },
    {
     "name": "stdout",
     "output_type": "stream",
     "text": [
      "14\n",
      "185388352.0\n"
     ]
    },
    {
     "name": "stdout",
     "output_type": "stream",
     "text": [
      "15\n",
      "183526263.0\n"
     ]
    },
    {
     "name": "stdout",
     "output_type": "stream",
     "text": [
      "16\n",
      "181918257.5\n"
     ]
    },
    {
     "name": "stdout",
     "output_type": "stream",
     "text": [
      "17\n",
      "180475207.0\n"
     ]
    },
    {
     "name": "stdout",
     "output_type": "stream",
     "text": [
      "18\n",
      "179165516.5\n"
     ]
    },
    {
     "name": "stdout",
     "output_type": "stream",
     "text": [
      "19\n",
      "177925844.0\n"
     ]
    },
    {
     "name": "stdout",
     "output_type": "stream",
     "text": [
      "20\n",
      "176756021.0\n"
     ]
    },
    {
     "name": "stdout",
     "output_type": "stream",
     "text": [
      "21\n",
      "175623976.0\n"
     ]
    },
    {
     "name": "stdout",
     "output_type": "stream",
     "text": [
      "22\n",
      "174543767.0\n"
     ]
    },
    {
     "name": "stdout",
     "output_type": "stream",
     "text": [
      "23\n",
      "173499002.0\n"
     ]
    },
    {
     "name": "stdout",
     "output_type": "stream",
     "text": [
      "24\n",
      "172471063.0\n"
     ]
    },
    {
     "name": "stdout",
     "output_type": "stream",
     "text": [
      "25\n",
      "171476390.0\n"
     ]
    },
    {
     "name": "stdout",
     "output_type": "stream",
     "text": [
      "26\n",
      "170501801.0\n"
     ]
    },
    {
     "name": "stdout",
     "output_type": "stream",
     "text": [
      "27\n",
      "169560837.0\n"
     ]
    },
    {
     "name": "stdout",
     "output_type": "stream",
     "text": [
      "28\n",
      "168622534.0\n"
     ]
    },
    {
     "name": "stdout",
     "output_type": "stream",
     "text": [
      "29\n",
      "167705599.0\n"
     ]
    },
    {
     "name": "stdout",
     "output_type": "stream",
     "text": [
      "30\n",
      "166810918.0\n"
     ]
    },
    {
     "name": "stdout",
     "output_type": "stream",
     "text": [
      "31\n",
      "165923839.0\n"
     ]
    },
    {
     "name": "stdout",
     "output_type": "stream",
     "text": [
      "32\n",
      "165060453.0\n"
     ]
    },
    {
     "name": "stdout",
     "output_type": "stream",
     "text": [
      "33\n",
      "164205835.0\n"
     ]
    },
    {
     "name": "stdout",
     "output_type": "stream",
     "text": [
      "34\n",
      "163354227.0\n"
     ]
    },
    {
     "name": "stdout",
     "output_type": "stream",
     "text": [
      "35\n",
      "162521187.0\n"
     ]
    },
    {
     "name": "stdout",
     "output_type": "stream",
     "text": [
      "36\n",
      "161707063.5\n"
     ]
    },
    {
     "name": "stdout",
     "output_type": "stream",
     "text": [
      "37\n",
      "160884477.0\n"
     ]
    },
    {
     "name": "stdout",
     "output_type": "stream",
     "text": [
      "38\n",
      "160086169.0\n"
     ]
    },
    {
     "name": "stdout",
     "output_type": "stream",
     "text": [
      "39\n",
      "159309350.0\n"
     ]
    },
    {
     "name": "stdout",
     "output_type": "stream",
     "text": [
      "40\n",
      "158534946.0\n"
     ]
    },
    {
     "name": "stdout",
     "output_type": "stream",
     "text": [
      "41\n",
      "157759821.0\n"
     ]
    },
    {
     "name": "stdout",
     "output_type": "stream",
     "text": [
      "42\n",
      "156989446.0\n"
     ]
    },
    {
     "name": "stdout",
     "output_type": "stream",
     "text": [
      "43\n",
      "156251925.0\n"
     ]
    },
    {
     "name": "stdout",
     "output_type": "stream",
     "text": [
      "44\n",
      "155498044.5\n"
     ]
    },
    {
     "name": "stdout",
     "output_type": "stream",
     "text": [
      "45\n",
      "154791894.5\n"
     ]
    },
    {
     "name": "stdout",
     "output_type": "stream",
     "text": [
      "46\n",
      "154054599.0\n"
     ]
    },
    {
     "name": "stdout",
     "output_type": "stream",
     "text": [
      "47\n",
      "153345541.0\n"
     ]
    },
    {
     "name": "stdout",
     "output_type": "stream",
     "text": [
      "48\n",
      "152662657.0\n"
     ]
    },
    {
     "name": "stdout",
     "output_type": "stream",
     "text": [
      "49\n",
      "151984691.5\n"
     ]
    }
   ],
   "source": [
    "losses = []\n",
    "\n",
    "for epoch in range(50):\n",
    "    \n",
    "    batcher = data_adjacency_batcher(data_dense_tensor, adjacency_dense_tensor, 5000)\n",
    "    \n",
    "    total_loss = 0\n",
    "    \n",
    "    \n",
    "    for (data_batch, mask_batch, adjacency_batch, row_batch) in batcher:\n",
    "        \n",
    "        \n",
    "        \n",
    "        data_batch = data_batch.to(device=device)\n",
    "        mask_batch = mask_batch.to(device=device)\n",
    "        adjacency_batch = adjacency_batch.to(device=device)\n",
    "        row_batch = row_batch.to(device=device)\n",
    "        \n",
    "        laplacian_tensor = adjacency_to_laplacian(adjacency_batch).to(device=device)\n",
    "    \n",
    "        optimizer.zero_grad()\n",
    "\n",
    "        output = mf.forward(row_batch, torch.arange(0, data_batch.shape[1]))\n",
    "        \n",
    "        L1_laplacian_tensor = adjacency_to_laplacian(adjacency_to_L1_adjacency(output, adjacency_batch, 0.001, device)).to(device=device)\n",
    "        \n",
    "        loss = squared_loss(data_batch[mask_batch], output[mask_batch]) + LAPLACIAN_PARAM*laplacian_loss(output, laplacian_tensor) + TV_PARAM*laplacian_loss(output, L1_laplacian_tensor)\n",
    "        loss.backward()\n",
    "        optimizer.step()\n",
    "        \n",
    "        total_loss += loss.item()\n",
    "        \n",
    "\n",
    "    if epoch % 1 == 0:\n",
    "        print(epoch)\n",
    "        print(total_loss)\n",
    "        \n",
    "    losses.append(total_loss)"
   ]
  },
  {
   "cell_type": "code",
   "execution_count": 21,
   "id": "2b60667d",
   "metadata": {
    "execution": {
     "iopub.execute_input": "2022-04-25T04:12:50.244743Z",
     "iopub.status.busy": "2022-04-25T04:12:50.228405Z",
     "iopub.status.idle": "2022-04-25T04:12:50.259303Z",
     "shell.execute_reply": "2022-04-25T04:12:50.259588Z"
    },
    "papermill": {
     "duration": 0.071091,
     "end_time": "2022-04-25T04:12:50.259672",
     "exception": false,
     "start_time": "2022-04-25T04:12:50.188581",
     "status": "completed"
    },
    "tags": []
   },
   "outputs": [
    {
     "data": {
      "text/plain": [
       "7436374.5"
      ]
     },
     "execution_count": 21,
     "metadata": {},
     "output_type": "execute_result"
    }
   ],
   "source": [
    "loss.item()"
   ]
  },
  {
   "cell_type": "code",
   "execution_count": 22,
   "id": "88564598",
   "metadata": {
    "execution": {
     "iopub.execute_input": "2022-04-25T04:12:50.314170Z",
     "iopub.status.busy": "2022-04-25T04:12:50.313809Z",
     "iopub.status.idle": "2022-04-25T04:12:50.325506Z",
     "shell.execute_reply": "2022-04-25T04:12:50.325000Z"
    },
    "papermill": {
     "duration": 0.041294,
     "end_time": "2022-04-25T04:12:50.325575",
     "exception": false,
     "start_time": "2022-04-25T04:12:50.284281",
     "status": "completed"
    },
    "tags": []
   },
   "outputs": [],
   "source": [
    "np.save(f'./results/loss_curves/mf_rank{DECOMP_RANK}_L{LAPLACIAN_PARAM}_TV{TV_PARAM}_losses', np.array(losses))"
   ]
  },
  {
   "cell_type": "code",
   "execution_count": 23,
   "id": "b88221fa",
   "metadata": {
    "execution": {
     "iopub.execute_input": "2022-04-25T04:12:50.378544Z",
     "iopub.status.busy": "2022-04-25T04:12:50.378199Z",
     "iopub.status.idle": "2022-04-25T04:12:50.641710Z",
     "shell.execute_reply": "2022-04-25T04:12:50.641225Z"
    },
    "papermill": {
     "duration": 0.292276,
     "end_time": "2022-04-25T04:12:50.641783",
     "exception": false,
     "start_time": "2022-04-25T04:12:50.349507",
     "status": "completed"
    },
    "tags": []
   },
   "outputs": [],
   "source": [
    "torch.save(mf.state_dict(), f'./results/saved_models/mf_rank{DECOMP_RANK}_L{LAPLACIAN_PARAM}_TV{TV_PARAM}_state')"
   ]
  },
  {
   "cell_type": "code",
   "execution_count": 24,
   "id": "b92dc77b",
   "metadata": {
    "execution": {
     "iopub.execute_input": "2022-04-25T04:12:50.711081Z",
     "iopub.status.busy": "2022-04-25T04:12:50.710712Z",
     "iopub.status.idle": "2022-04-25T04:16:52.740868Z",
     "shell.execute_reply": "2022-04-25T04:16:52.728983Z"
    },
    "papermill": {
     "duration": 242.077421,
     "end_time": "2022-04-25T04:16:52.745012",
     "exception": false,
     "start_time": "2022-04-25T04:12:50.667591",
     "status": "completed"
    },
    "tags": []
   },
   "outputs": [],
   "source": [
    "final_output = mf.forward(torch.arange(0, data_dense_tensor.shape[0]), torch.arange(0, data_dense_tensor.shape[1]))\n",
    "\n",
    "final_squared_error = squared_loss(data_dense_tensor, final_output)\n",
    "final_laplacian = laplacian_loss(final_output, adjacency_to_laplacian(adjacency_dense_tensor).to(device=device))\n",
    "final_TV =  laplacian_loss(final_output, adjacency_to_laplacian(adjacency_to_L1_adjacency(final_output, adjacency_dense_tensor, 0.001, device)).to(device=device))"
   ]
  },
  {
   "cell_type": "code",
   "execution_count": 25,
   "id": "8e7cfd69",
   "metadata": {
    "execution": {
     "iopub.execute_input": "2022-04-25T04:16:52.888449Z",
     "iopub.status.busy": "2022-04-25T04:16:52.886645Z",
     "iopub.status.idle": "2022-04-25T04:16:53.814712Z",
     "shell.execute_reply": "2022-04-25T04:16:53.813917Z"
    },
    "papermill": {
     "duration": 0.985382,
     "end_time": "2022-04-25T04:16:53.814806",
     "exception": false,
     "start_time": "2022-04-25T04:16:52.829424",
     "status": "completed"
    },
    "tags": []
   },
   "outputs": [],
   "source": [
    "np.save(f'./results/final_losses/mf_rank{DECOMP_RANK}_L{LAPLACIAN_PARAM}_TV{TV_PARAM}_losses', np.array([final_squared_error.item(), final_laplacian.item(), final_TV.item()]))"
   ]
  },
  {
   "cell_type": "code",
   "execution_count": null,
   "id": "bb78c0af",
   "metadata": {
    "papermill": {
     "duration": 0.02495,
     "end_time": "2022-04-25T04:16:53.865230",
     "exception": false,
     "start_time": "2022-04-25T04:16:53.840280",
     "status": "completed"
    },
    "tags": []
   },
   "outputs": [],
   "source": []
  }
 ],
 "metadata": {
  "interpreter": {
   "hash": "22ee4ece52021b4a120b95b326dd7a4d7938576e919f53927a7959ab5d7e1e45"
  },
  "kernelspec": {
   "display_name": "spatialSFT",
   "language": "python",
   "name": "spatialsft"
  },
  "language_info": {
   "codemirror_mode": {
    "name": "ipython",
    "version": 3
   },
   "file_extension": ".py",
   "mimetype": "text/x-python",
   "name": "python",
   "nbconvert_exporter": "python",
   "pygments_lexer": "ipython3",
   "version": "3.8.0"
  },
  "papermill": {
   "default_parameters": {},
   "duration": 4027.240582,
   "end_time": "2022-04-25T04:17:01.560315",
   "environment_variables": {},
   "exception": null,
   "input_path": "./notebooks/mf_param_template.ipynb",
   "output_path": "./papermill_output/mf_param_template_rank100_lap0.1_tv0.001.ipynb",
   "parameters": {
    "DECOMP_RANK": 100,
    "LAPLACIAN_PARAM": 0.1,
    "TV_PARAM": 0.001
   },
   "start_time": "2022-04-25T03:09:54.319733",
   "version": "2.3.4"
  }
 },
 "nbformat": 4,
 "nbformat_minor": 5
}