{
 "cells": [
  {
   "cell_type": "markdown",
   "id": "a40b57c0",
   "metadata": {
    "papermill": {
     "duration": 0.01579,
     "end_time": "2022-04-25T02:04:16.308384",
     "exception": false,
     "start_time": "2022-04-25T02:04:16.292594",
     "status": "completed"
    },
    "tags": []
   },
   "source": [
    "### setup"
   ]
  },
  {
   "cell_type": "code",
   "execution_count": 1,
   "id": "8c4bfb21",
   "metadata": {
    "execution": {
     "iopub.execute_input": "2022-04-25T02:04:16.342196Z",
     "iopub.status.busy": "2022-04-25T02:04:16.338072Z",
     "iopub.status.idle": "2022-04-25T02:04:20.803141Z",
     "shell.execute_reply": "2022-04-25T02:04:20.802721Z"
    },
    "papermill": {
     "duration": 4.4806,
     "end_time": "2022-04-25T02:04:20.803238",
     "exception": false,
     "start_time": "2022-04-25T02:04:16.322638",
     "status": "completed"
    },
    "tags": []
   },
   "outputs": [],
   "source": [
    "import numpy as np \n",
    "import matplotlib.pyplot as plt\n",
    "import pandas as pd\n",
    "\n",
    "import scipy\n",
    "\n",
    "\n",
    "from utils import *\n",
    "from pytorch_sparse_utils import *\n",
    "\n",
    "\n",
    "import torch\n",
    "from torch import nn\n",
    "import torch.nn.functional as F"
   ]
  },
  {
   "cell_type": "markdown",
   "id": "0767bcfc",
   "metadata": {
    "papermill": {
     "duration": 0.014275,
     "end_time": "2022-04-25T02:04:20.832684",
     "exception": false,
     "start_time": "2022-04-25T02:04:20.818409",
     "status": "completed"
    },
    "tags": []
   },
   "source": [
    "### set parameters"
   ]
  },
  {
   "cell_type": "code",
   "execution_count": 2,
   "id": "52032a76",
   "metadata": {
    "execution": {
     "iopub.execute_input": "2022-04-25T02:04:20.864123Z",
     "iopub.status.busy": "2022-04-25T02:04:20.863747Z",
     "iopub.status.idle": "2022-04-25T02:04:20.865849Z",
     "shell.execute_reply": "2022-04-25T02:04:20.865419Z"
    },
    "papermill": {
     "duration": 0.019278,
     "end_time": "2022-04-25T02:04:20.865924",
     "exception": false,
     "start_time": "2022-04-25T02:04:20.846646",
     "status": "completed"
    },
    "tags": [
     "parameters"
    ]
   },
   "outputs": [],
   "source": [
    "DECOMP_RANK = 10\n",
    "LAPLACIAN_PARAM = 0.001\n",
    "TV_PARAM = 0.001"
   ]
  },
  {
   "cell_type": "code",
   "execution_count": 3,
   "id": "4b58eb50",
   "metadata": {
    "execution": {
     "iopub.execute_input": "2022-04-25T02:04:20.898221Z",
     "iopub.status.busy": "2022-04-25T02:04:20.897862Z",
     "iopub.status.idle": "2022-04-25T02:04:20.911275Z",
     "shell.execute_reply": "2022-04-25T02:04:20.910919Z"
    },
    "papermill": {
     "duration": 0.030492,
     "end_time": "2022-04-25T02:04:20.911354",
     "exception": false,
     "start_time": "2022-04-25T02:04:20.880862",
     "status": "completed"
    },
    "tags": [
     "injected-parameters"
    ]
   },
   "outputs": [],
   "source": [
    "# Parameters\n",
    "DECOMP_RANK = 100\n",
    "LAPLACIAN_PARAM = 0.1\n",
    "TV_PARAM = 0.01\n"
   ]
  },
  {
   "cell_type": "code",
   "execution_count": 4,
   "id": "5a733fc9",
   "metadata": {
    "execution": {
     "iopub.execute_input": "2022-04-25T02:04:20.944251Z",
     "iopub.status.busy": "2022-04-25T02:04:20.943749Z",
     "iopub.status.idle": "2022-04-25T02:04:38.808826Z",
     "shell.execute_reply": "2022-04-25T02:04:38.809146Z"
    },
    "papermill": {
     "duration": 17.881884,
     "end_time": "2022-04-25T02:04:38.809255",
     "exception": false,
     "start_time": "2022-04-25T02:04:20.927371",
     "status": "completed"
    },
    "tags": []
   },
   "outputs": [
    {
     "name": "stdout",
     "output_type": "stream",
     "text": [
      "Using cuda device\n"
     ]
    }
   ],
   "source": [
    "device = 'cuda' if torch.cuda.is_available() else 'cpu'\n",
    "print('Using {} device'.format(device))"
   ]
  },
  {
   "cell_type": "markdown",
   "id": "9f1f3407",
   "metadata": {
    "papermill": {
     "duration": 0.01512,
     "end_time": "2022-04-25T02:04:38.840797",
     "exception": false,
     "start_time": "2022-04-25T02:04:38.825677",
     "status": "completed"
    },
    "tags": []
   },
   "source": [
    "### loading data"
   ]
  },
  {
   "cell_type": "code",
   "execution_count": 5,
   "id": "7c9e30bf",
   "metadata": {
    "execution": {
     "iopub.execute_input": "2022-04-25T02:04:38.875557Z",
     "iopub.status.busy": "2022-04-25T02:04:38.875195Z",
     "iopub.status.idle": "2022-04-25T02:04:41.157414Z",
     "shell.execute_reply": "2022-04-25T02:04:41.157752Z"
    },
    "papermill": {
     "duration": 2.302213,
     "end_time": "2022-04-25T02:04:41.157898",
     "exception": false,
     "start_time": "2022-04-25T02:04:38.855685",
     "status": "completed"
    },
    "tags": []
   },
   "outputs": [
    {
     "data": {
      "text/html": [
       "<div>\n",
       "<style scoped>\n",
       "    .dataframe tbody tr th:only-of-type {\n",
       "        vertical-align: middle;\n",
       "    }\n",
       "\n",
       "    .dataframe tbody tr th {\n",
       "        vertical-align: top;\n",
       "    }\n",
       "\n",
       "    .dataframe thead th {\n",
       "        text-align: right;\n",
       "    }\n",
       "</style>\n",
       "<table border=\"1\" class=\"dataframe\">\n",
       "  <thead>\n",
       "    <tr style=\"text-align: right;\">\n",
       "      <th></th>\n",
       "      <th>1110008P14Rik</th>\n",
       "      <th>1500009C09Rik</th>\n",
       "      <th>1500012F01Rik</th>\n",
       "      <th>1700020I14Rik</th>\n",
       "      <th>2010107E04Rik</th>\n",
       "      <th>2010300C02Rik</th>\n",
       "      <th>2210016L21Rik</th>\n",
       "      <th>2310036O22Rik</th>\n",
       "      <th>2900011O08Rik</th>\n",
       "      <th>3110035E14Rik</th>\n",
       "      <th>...</th>\n",
       "      <th>Zrsr1</th>\n",
       "      <th>Zwint</th>\n",
       "      <th>mt-Co1</th>\n",
       "      <th>mt-Cytb</th>\n",
       "      <th>mt-Nd1</th>\n",
       "      <th>mt-Nd2</th>\n",
       "      <th>mt-Nd4</th>\n",
       "      <th>mt-Nd5</th>\n",
       "      <th>mt-Rnr1</th>\n",
       "      <th>mt-Rnr2</th>\n",
       "    </tr>\n",
       "  </thead>\n",
       "  <tbody>\n",
       "    <tr>\n",
       "      <th>AAAAAAAGGTAGTA</th>\n",
       "      <td>0</td>\n",
       "      <td>0</td>\n",
       "      <td>0</td>\n",
       "      <td>0</td>\n",
       "      <td>0</td>\n",
       "      <td>0</td>\n",
       "      <td>0</td>\n",
       "      <td>0</td>\n",
       "      <td>0</td>\n",
       "      <td>0</td>\n",
       "      <td>...</td>\n",
       "      <td>0</td>\n",
       "      <td>0</td>\n",
       "      <td>0</td>\n",
       "      <td>0</td>\n",
       "      <td>0</td>\n",
       "      <td>0</td>\n",
       "      <td>0</td>\n",
       "      <td>0</td>\n",
       "      <td>1</td>\n",
       "      <td>0</td>\n",
       "    </tr>\n",
       "    <tr>\n",
       "      <th>AAAAAAAGTCCCAA</th>\n",
       "      <td>0</td>\n",
       "      <td>0</td>\n",
       "      <td>0</td>\n",
       "      <td>0</td>\n",
       "      <td>0</td>\n",
       "      <td>0</td>\n",
       "      <td>0</td>\n",
       "      <td>0</td>\n",
       "      <td>0</td>\n",
       "      <td>0</td>\n",
       "      <td>...</td>\n",
       "      <td>0</td>\n",
       "      <td>0</td>\n",
       "      <td>2</td>\n",
       "      <td>2</td>\n",
       "      <td>5</td>\n",
       "      <td>0</td>\n",
       "      <td>1</td>\n",
       "      <td>0</td>\n",
       "      <td>2</td>\n",
       "      <td>4</td>\n",
       "    </tr>\n",
       "    <tr>\n",
       "      <th>AAAAAAATCTTAGT</th>\n",
       "      <td>0</td>\n",
       "      <td>0</td>\n",
       "      <td>0</td>\n",
       "      <td>0</td>\n",
       "      <td>0</td>\n",
       "      <td>0</td>\n",
       "      <td>0</td>\n",
       "      <td>0</td>\n",
       "      <td>0</td>\n",
       "      <td>0</td>\n",
       "      <td>...</td>\n",
       "      <td>0</td>\n",
       "      <td>0</td>\n",
       "      <td>0</td>\n",
       "      <td>0</td>\n",
       "      <td>0</td>\n",
       "      <td>0</td>\n",
       "      <td>0</td>\n",
       "      <td>0</td>\n",
       "      <td>0</td>\n",
       "      <td>0</td>\n",
       "    </tr>\n",
       "    <tr>\n",
       "      <th>AAAAAACATCTTTC</th>\n",
       "      <td>0</td>\n",
       "      <td>0</td>\n",
       "      <td>0</td>\n",
       "      <td>0</td>\n",
       "      <td>0</td>\n",
       "      <td>0</td>\n",
       "      <td>0</td>\n",
       "      <td>0</td>\n",
       "      <td>0</td>\n",
       "      <td>0</td>\n",
       "      <td>...</td>\n",
       "      <td>0</td>\n",
       "      <td>0</td>\n",
       "      <td>0</td>\n",
       "      <td>0</td>\n",
       "      <td>0</td>\n",
       "      <td>0</td>\n",
       "      <td>0</td>\n",
       "      <td>0</td>\n",
       "      <td>1</td>\n",
       "      <td>0</td>\n",
       "    </tr>\n",
       "    <tr>\n",
       "      <th>AAAAAACGAAATAG</th>\n",
       "      <td>0</td>\n",
       "      <td>0</td>\n",
       "      <td>0</td>\n",
       "      <td>0</td>\n",
       "      <td>0</td>\n",
       "      <td>0</td>\n",
       "      <td>0</td>\n",
       "      <td>0</td>\n",
       "      <td>0</td>\n",
       "      <td>0</td>\n",
       "      <td>...</td>\n",
       "      <td>0</td>\n",
       "      <td>0</td>\n",
       "      <td>1</td>\n",
       "      <td>0</td>\n",
       "      <td>0</td>\n",
       "      <td>0</td>\n",
       "      <td>0</td>\n",
       "      <td>0</td>\n",
       "      <td>0</td>\n",
       "      <td>0</td>\n",
       "    </tr>\n",
       "  </tbody>\n",
       "</table>\n",
       "<p>5 rows × 1222 columns</p>\n",
       "</div>"
      ],
      "text/plain": [
       "                1110008P14Rik  1500009C09Rik  1500012F01Rik  1700020I14Rik  \\\n",
       "AAAAAAAGGTAGTA              0              0              0              0   \n",
       "AAAAAAAGTCCCAA              0              0              0              0   \n",
       "AAAAAAATCTTAGT              0              0              0              0   \n",
       "AAAAAACATCTTTC              0              0              0              0   \n",
       "AAAAAACGAAATAG              0              0              0              0   \n",
       "\n",
       "                2010107E04Rik  2010300C02Rik  2210016L21Rik  2310036O22Rik  \\\n",
       "AAAAAAAGGTAGTA              0              0              0              0   \n",
       "AAAAAAAGTCCCAA              0              0              0              0   \n",
       "AAAAAAATCTTAGT              0              0              0              0   \n",
       "AAAAAACATCTTTC              0              0              0              0   \n",
       "AAAAAACGAAATAG              0              0              0              0   \n",
       "\n",
       "                2900011O08Rik  3110035E14Rik  ...  Zrsr1  Zwint  mt-Co1  \\\n",
       "AAAAAAAGGTAGTA              0              0  ...      0      0       0   \n",
       "AAAAAAAGTCCCAA              0              0  ...      0      0       2   \n",
       "AAAAAAATCTTAGT              0              0  ...      0      0       0   \n",
       "AAAAAACATCTTTC              0              0  ...      0      0       0   \n",
       "AAAAAACGAAATAG              0              0  ...      0      0       1   \n",
       "\n",
       "                mt-Cytb  mt-Nd1  mt-Nd2  mt-Nd4  mt-Nd5  mt-Rnr1  mt-Rnr2  \n",
       "AAAAAAAGGTAGTA        0       0       0       0       0        1        0  \n",
       "AAAAAAAGTCCCAA        2       5       0       1       0        2        4  \n",
       "AAAAAAATCTTAGT        0       0       0       0       0        0        0  \n",
       "AAAAAACATCTTTC        0       0       0       0       0        1        0  \n",
       "AAAAAACGAAATAG        0       0       0       0       0        0        0  \n",
       "\n",
       "[5 rows x 1222 columns]"
      ]
     },
     "execution_count": 5,
     "metadata": {},
     "output_type": "execute_result"
    }
   ],
   "source": [
    "bead_reads_subset = pd.read_csv('./data/bead_reads_subset.csv', index_col='Unnamed: 0')\n",
    "bead_reads_subset.head()"
   ]
  },
  {
   "cell_type": "code",
   "execution_count": 6,
   "id": "10f3082e",
   "metadata": {
    "execution": {
     "iopub.execute_input": "2022-04-25T02:04:41.192784Z",
     "iopub.status.busy": "2022-04-25T02:04:41.192351Z",
     "iopub.status.idle": "2022-04-25T02:04:41.741523Z",
     "shell.execute_reply": "2022-04-25T02:04:41.741160Z"
    },
    "papermill": {
     "duration": 0.567701,
     "end_time": "2022-04-25T02:04:41.741600",
     "exception": false,
     "start_time": "2022-04-25T02:04:41.173899",
     "status": "completed"
    },
    "tags": []
   },
   "outputs": [],
   "source": [
    "data_scipy_sparse = scipy.sparse.coo_matrix( bead_reads_subset.to_numpy() )"
   ]
  },
  {
   "cell_type": "code",
   "execution_count": 7,
   "id": "bb6fa940",
   "metadata": {
    "execution": {
     "iopub.execute_input": "2022-04-25T02:04:41.777519Z",
     "iopub.status.busy": "2022-04-25T02:04:41.777162Z",
     "iopub.status.idle": "2022-04-25T02:04:45.986764Z",
     "shell.execute_reply": "2022-04-25T02:04:45.986423Z"
    },
    "papermill": {
     "duration": 4.228717,
     "end_time": "2022-04-25T02:04:45.986856",
     "exception": false,
     "start_time": "2022-04-25T02:04:41.758139",
     "status": "completed"
    },
    "tags": []
   },
   "outputs": [],
   "source": [
    "data_sparse_tensor = scipy_sparse_to_pytorch_sparse(data_scipy_sparse).to(device=device)"
   ]
  },
  {
   "cell_type": "code",
   "execution_count": 8,
   "id": "e09375bf",
   "metadata": {
    "execution": {
     "iopub.execute_input": "2022-04-25T02:04:46.021064Z",
     "iopub.status.busy": "2022-04-25T02:04:46.019446Z",
     "iopub.status.idle": "2022-04-25T02:04:46.027866Z",
     "shell.execute_reply": "2022-04-25T02:04:46.027548Z"
    },
    "papermill": {
     "duration": 0.025295,
     "end_time": "2022-04-25T02:04:46.027935",
     "exception": false,
     "start_time": "2022-04-25T02:04:46.002640",
     "status": "completed"
    },
    "tags": []
   },
   "outputs": [
    {
     "data": {
      "text/plain": [
       "tensor(indices=tensor([[    0,     0,     0,  ..., 53207, 53207, 53207],\n",
       "                       [   84,   412,   528,  ...,  1219,  1220,  1221]]),\n",
       "       values=tensor([ 1.,  1.,  1.,  ..., 12., 26., 71.]),\n",
       "       device='cuda:0', size=(53208, 1222), nnz=9552845, layout=torch.sparse_coo)"
      ]
     },
     "execution_count": 8,
     "metadata": {},
     "output_type": "execute_result"
    }
   ],
   "source": [
    "data_sparse_tensor"
   ]
  },
  {
   "cell_type": "code",
   "execution_count": 9,
   "id": "0f657e31",
   "metadata": {
    "execution": {
     "iopub.execute_input": "2022-04-25T02:04:46.061467Z",
     "iopub.status.busy": "2022-04-25T02:04:46.060873Z",
     "iopub.status.idle": "2022-04-25T02:04:46.063348Z",
     "shell.execute_reply": "2022-04-25T02:04:46.063038Z"
    },
    "papermill": {
     "duration": 0.02037,
     "end_time": "2022-04-25T02:04:46.063416",
     "exception": false,
     "start_time": "2022-04-25T02:04:46.043046",
     "status": "completed"
    },
    "tags": []
   },
   "outputs": [],
   "source": [
    "data_dense_tensor = data_sparse_tensor.to_dense()"
   ]
  },
  {
   "cell_type": "code",
   "execution_count": 10,
   "id": "f44a34bc",
   "metadata": {
    "execution": {
     "iopub.execute_input": "2022-04-25T02:04:46.095924Z",
     "iopub.status.busy": "2022-04-25T02:04:46.095572Z",
     "iopub.status.idle": "2022-04-25T02:04:46.226106Z",
     "shell.execute_reply": "2022-04-25T02:04:46.225815Z"
    },
    "papermill": {
     "duration": 0.14768,
     "end_time": "2022-04-25T02:04:46.226177",
     "exception": false,
     "start_time": "2022-04-25T02:04:46.078497",
     "status": "completed"
    },
    "tags": []
   },
   "outputs": [],
   "source": [
    "mask_scipy_sparse = (data_scipy_sparse != 0).astype(np.int64).tocoo()"
   ]
  },
  {
   "cell_type": "code",
   "execution_count": 11,
   "id": "dc994df7",
   "metadata": {
    "execution": {
     "iopub.execute_input": "2022-04-25T02:04:46.260065Z",
     "iopub.status.busy": "2022-04-25T02:04:46.259710Z",
     "iopub.status.idle": "2022-04-25T02:04:46.319063Z",
     "shell.execute_reply": "2022-04-25T02:04:46.318639Z"
    },
    "papermill": {
     "duration": 0.077597,
     "end_time": "2022-04-25T02:04:46.319134",
     "exception": false,
     "start_time": "2022-04-25T02:04:46.241537",
     "status": "completed"
    },
    "tags": []
   },
   "outputs": [],
   "source": [
    "mask_sparse_tensor = scipy_sparse_to_pytorch_sparse(mask_scipy_sparse)"
   ]
  },
  {
   "cell_type": "code",
   "execution_count": 12,
   "id": "beea629f",
   "metadata": {
    "execution": {
     "iopub.execute_input": "2022-04-25T02:04:46.353053Z",
     "iopub.status.busy": "2022-04-25T02:04:46.352462Z",
     "iopub.status.idle": "2022-04-25T02:04:47.312982Z",
     "shell.execute_reply": "2022-04-25T02:04:47.312602Z"
    },
    "papermill": {
     "duration": 0.978598,
     "end_time": "2022-04-25T02:04:47.313077",
     "exception": false,
     "start_time": "2022-04-25T02:04:46.334479",
     "status": "completed"
    },
    "tags": []
   },
   "outputs": [],
   "source": [
    "mask_dense_tensor = mask_sparse_tensor.to_dense().bool()"
   ]
  },
  {
   "cell_type": "code",
   "execution_count": 13,
   "id": "0b441588",
   "metadata": {
    "execution": {
     "iopub.execute_input": "2022-04-25T02:04:47.359894Z",
     "iopub.status.busy": "2022-04-25T02:04:47.359516Z",
     "iopub.status.idle": "2022-04-25T02:05:14.414646Z",
     "shell.execute_reply": "2022-04-25T02:05:14.414089Z"
    },
    "papermill": {
     "duration": 27.085733,
     "end_time": "2022-04-25T02:05:14.414815",
     "exception": false,
     "start_time": "2022-04-25T02:04:47.329082",
     "status": "completed"
    },
    "tags": []
   },
   "outputs": [],
   "source": [
    "distances = np.load('./data/macosko_distance_matrix.npy')"
   ]
  },
  {
   "cell_type": "code",
   "execution_count": 14,
   "id": "a39b5651",
   "metadata": {
    "execution": {
     "iopub.execute_input": "2022-04-25T02:05:14.454752Z",
     "iopub.status.busy": "2022-04-25T02:05:14.454368Z",
     "iopub.status.idle": "2022-04-25T02:05:22.093634Z",
     "shell.execute_reply": "2022-04-25T02:05:22.093171Z"
    },
    "papermill": {
     "duration": 7.659569,
     "end_time": "2022-04-25T02:05:22.093782",
     "exception": false,
     "start_time": "2022-04-25T02:05:14.434213",
     "status": "completed"
    },
    "tags": []
   },
   "outputs": [],
   "source": [
    "adjacency = scipy.sparse.coo_matrix( distances <= 20 , dtype=np.float32)\n",
    "degree = scipy.sparse.diags( adjacency.sum(axis=0).A1 )\n",
    "laplacian = (degree - adjacency).tocoo()"
   ]
  },
  {
   "cell_type": "code",
   "execution_count": 15,
   "id": "767adf91",
   "metadata": {
    "execution": {
     "iopub.execute_input": "2022-04-25T02:05:22.141239Z",
     "iopub.status.busy": "2022-04-25T02:05:22.140340Z",
     "iopub.status.idle": "2022-04-25T02:05:22.143434Z",
     "shell.execute_reply": "2022-04-25T02:05:22.142865Z"
    },
    "papermill": {
     "duration": 0.030303,
     "end_time": "2022-04-25T02:05:22.143717",
     "exception": false,
     "start_time": "2022-04-25T02:05:22.113414",
     "status": "completed"
    },
    "tags": []
   },
   "outputs": [],
   "source": [
    "adjacency_sparse_tensor = scipy_sparse_to_pytorch_sparse(adjacency)"
   ]
  },
  {
   "cell_type": "code",
   "execution_count": 16,
   "id": "c783d705",
   "metadata": {
    "execution": {
     "iopub.execute_input": "2022-04-25T02:05:22.182643Z",
     "iopub.status.busy": "2022-04-25T02:05:22.181936Z",
     "iopub.status.idle": "2022-04-25T02:05:24.348029Z",
     "shell.execute_reply": "2022-04-25T02:05:24.347509Z"
    },
    "papermill": {
     "duration": 2.184992,
     "end_time": "2022-04-25T02:05:24.348137",
     "exception": false,
     "start_time": "2022-04-25T02:05:22.163145",
     "status": "completed"
    },
    "tags": []
   },
   "outputs": [],
   "source": [
    "adjacency_dense_tensor = adjacency_sparse_tensor.to_dense()"
   ]
  },
  {
   "cell_type": "code",
   "execution_count": 17,
   "id": "96fe63b4",
   "metadata": {
    "execution": {
     "iopub.execute_input": "2022-04-25T02:05:24.395706Z",
     "iopub.status.busy": "2022-04-25T02:05:24.395219Z",
     "iopub.status.idle": "2022-04-25T02:05:24.397462Z",
     "shell.execute_reply": "2022-04-25T02:05:24.397061Z"
    },
    "papermill": {
     "duration": 0.031172,
     "end_time": "2022-04-25T02:05:24.397546",
     "exception": false,
     "start_time": "2022-04-25T02:05:24.366374",
     "status": "completed"
    },
    "tags": []
   },
   "outputs": [],
   "source": [
    "def laplacian_loss(x, x_lap):\n",
    "    \n",
    "    lap_sum = 0\n",
    "    for ii in range(x.shape[1]):\n",
    "        lap_sum = lap_sum + (x[:,ii].T @ x_lap @ x[:,ii])\n",
    "        \n",
    "    return lap_sum"
   ]
  },
  {
   "cell_type": "code",
   "execution_count": 18,
   "id": "989339e8",
   "metadata": {
    "execution": {
     "iopub.execute_input": "2022-04-25T02:05:24.449625Z",
     "iopub.status.busy": "2022-04-25T02:05:24.449217Z",
     "iopub.status.idle": "2022-04-25T02:05:24.459872Z",
     "shell.execute_reply": "2022-04-25T02:05:24.459523Z"
    },
    "papermill": {
     "duration": 0.039312,
     "end_time": "2022-04-25T02:05:24.459952",
     "exception": false,
     "start_time": "2022-04-25T02:05:24.420640",
     "status": "completed"
    },
    "tags": []
   },
   "outputs": [],
   "source": [
    "mf = MatrixFactorization(mask_sparse_tensor.shape[0], mask_sparse_tensor.shape[1], DECOMP_RANK).to(device=device)"
   ]
  },
  {
   "cell_type": "code",
   "execution_count": 19,
   "id": "67017bcc",
   "metadata": {
    "execution": {
     "iopub.execute_input": "2022-04-25T02:05:24.506227Z",
     "iopub.status.busy": "2022-04-25T02:05:24.505774Z",
     "iopub.status.idle": "2022-04-25T02:05:24.508891Z",
     "shell.execute_reply": "2022-04-25T02:05:24.508491Z"
    },
    "papermill": {
     "duration": 0.032814,
     "end_time": "2022-04-25T02:05:24.508992",
     "exception": false,
     "start_time": "2022-04-25T02:05:24.476178",
     "status": "completed"
    },
    "tags": []
   },
   "outputs": [],
   "source": [
    "import torch.optim as optim\n",
    "\n",
    "optimizer = optim.Adam(mf.parameters(), lr=0.001)"
   ]
  },
  {
   "cell_type": "code",
   "execution_count": 20,
   "id": "f2fcbd5d",
   "metadata": {
    "execution": {
     "iopub.execute_input": "2022-04-25T02:05:24.567835Z",
     "iopub.status.busy": "2022-04-25T02:05:24.567435Z",
     "iopub.status.idle": "2022-04-25T03:05:44.148982Z",
     "shell.execute_reply": "2022-04-25T03:05:44.149285Z"
    },
    "papermill": {
     "duration": 3619.623184,
     "end_time": "2022-04-25T03:05:44.149394",
     "exception": false,
     "start_time": "2022-04-25T02:05:24.526210",
     "status": "completed"
    },
    "tags": []
   },
   "outputs": [
    {
     "name": "stdout",
     "output_type": "stream",
     "text": [
      "0\n",
      "215980314.0\n"
     ]
    },
    {
     "name": "stdout",
     "output_type": "stream",
     "text": [
      "1\n",
      "215791167.0\n"
     ]
    },
    {
     "name": "stdout",
     "output_type": "stream",
     "text": [
      "2\n",
      "215302197.0\n"
     ]
    },
    {
     "name": "stdout",
     "output_type": "stream",
     "text": [
      "3\n",
      "214376823.0\n"
     ]
    },
    {
     "name": "stdout",
     "output_type": "stream",
     "text": [
      "4\n",
      "212953230.0\n"
     ]
    },
    {
     "name": "stdout",
     "output_type": "stream",
     "text": [
      "5\n",
      "211014230.0\n"
     ]
    },
    {
     "name": "stdout",
     "output_type": "stream",
     "text": [
      "6\n",
      "208581900.0\n"
     ]
    },
    {
     "name": "stdout",
     "output_type": "stream",
     "text": [
      "7\n",
      "205747112.0\n"
     ]
    },
    {
     "name": "stdout",
     "output_type": "stream",
     "text": [
      "8\n",
      "202619434.0\n"
     ]
    },
    {
     "name": "stdout",
     "output_type": "stream",
     "text": [
      "9\n",
      "199347738.0\n"
     ]
    },
    {
     "name": "stdout",
     "output_type": "stream",
     "text": [
      "10\n",
      "196077888.0\n"
     ]
    },
    {
     "name": "stdout",
     "output_type": "stream",
     "text": [
      "11\n",
      "192953492.0\n"
     ]
    },
    {
     "name": "stdout",
     "output_type": "stream",
     "text": [
      "12\n",
      "190100358.0\n"
     ]
    },
    {
     "name": "stdout",
     "output_type": "stream",
     "text": [
      "13\n",
      "187564823.0\n"
     ]
    },
    {
     "name": "stdout",
     "output_type": "stream",
     "text": [
      "14\n",
      "185391033.0\n"
     ]
    },
    {
     "name": "stdout",
     "output_type": "stream",
     "text": [
      "15\n",
      "183537132.0\n"
     ]
    },
    {
     "name": "stdout",
     "output_type": "stream",
     "text": [
      "16\n",
      "181912789.0\n"
     ]
    },
    {
     "name": "stdout",
     "output_type": "stream",
     "text": [
      "17\n",
      "180477076.0\n"
     ]
    },
    {
     "name": "stdout",
     "output_type": "stream",
     "text": [
      "18\n",
      "179156200.0\n"
     ]
    },
    {
     "name": "stdout",
     "output_type": "stream",
     "text": [
      "19\n",
      "177926077.0\n"
     ]
    },
    {
     "name": "stdout",
     "output_type": "stream",
     "text": [
      "20\n",
      "176748905.0\n"
     ]
    },
    {
     "name": "stdout",
     "output_type": "stream",
     "text": [
      "21\n",
      "175628417.0\n"
     ]
    },
    {
     "name": "stdout",
     "output_type": "stream",
     "text": [
      "22\n",
      "174540454.0\n"
     ]
    },
    {
     "name": "stdout",
     "output_type": "stream",
     "text": [
      "23\n",
      "173487266.0\n"
     ]
    },
    {
     "name": "stdout",
     "output_type": "stream",
     "text": [
      "24\n",
      "172463413.0\n"
     ]
    },
    {
     "name": "stdout",
     "output_type": "stream",
     "text": [
      "25\n",
      "171467162.0\n"
     ]
    },
    {
     "name": "stdout",
     "output_type": "stream",
     "text": [
      "26\n",
      "170507542.0\n"
     ]
    },
    {
     "name": "stdout",
     "output_type": "stream",
     "text": [
      "27\n",
      "169543726.0\n"
     ]
    },
    {
     "name": "stdout",
     "output_type": "stream",
     "text": [
      "28\n",
      "168617844.0\n"
     ]
    },
    {
     "name": "stdout",
     "output_type": "stream",
     "text": [
      "29\n",
      "167705806.0\n"
     ]
    },
    {
     "name": "stdout",
     "output_type": "stream",
     "text": [
      "30\n",
      "166803365.0\n"
     ]
    },
    {
     "name": "stdout",
     "output_type": "stream",
     "text": [
      "31\n",
      "165926344.0\n"
     ]
    },
    {
     "name": "stdout",
     "output_type": "stream",
     "text": [
      "32\n",
      "165051001.0\n"
     ]
    },
    {
     "name": "stdout",
     "output_type": "stream",
     "text": [
      "33\n",
      "164192017.5\n"
     ]
    },
    {
     "name": "stdout",
     "output_type": "stream",
     "text": [
      "34\n",
      "163347862.0\n"
     ]
    },
    {
     "name": "stdout",
     "output_type": "stream",
     "text": [
      "35\n",
      "162520282.0\n"
     ]
    },
    {
     "name": "stdout",
     "output_type": "stream",
     "text": [
      "36\n",
      "161692547.0\n"
     ]
    },
    {
     "name": "stdout",
     "output_type": "stream",
     "text": [
      "37\n",
      "160887978.0\n"
     ]
    },
    {
     "name": "stdout",
     "output_type": "stream",
     "text": [
      "38\n",
      "160087272.0\n"
     ]
    },
    {
     "name": "stdout",
     "output_type": "stream",
     "text": [
      "39\n",
      "159307970.0\n"
     ]
    },
    {
     "name": "stdout",
     "output_type": "stream",
     "text": [
      "40\n",
      "158527910.0\n"
     ]
    },
    {
     "name": "stdout",
     "output_type": "stream",
     "text": [
      "41\n",
      "157758839.0\n"
     ]
    },
    {
     "name": "stdout",
     "output_type": "stream",
     "text": [
      "42\n",
      "156999021.0\n"
     ]
    },
    {
     "name": "stdout",
     "output_type": "stream",
     "text": [
      "43\n",
      "156239791.0\n"
     ]
    },
    {
     "name": "stdout",
     "output_type": "stream",
     "text": [
      "44\n",
      "155501600.5\n"
     ]
    },
    {
     "name": "stdout",
     "output_type": "stream",
     "text": [
      "45\n",
      "154792443.0\n"
     ]
    },
    {
     "name": "stdout",
     "output_type": "stream",
     "text": [
      "46\n",
      "154069560.0\n"
     ]
    },
    {
     "name": "stdout",
     "output_type": "stream",
     "text": [
      "47\n",
      "153355078.0\n"
     ]
    },
    {
     "name": "stdout",
     "output_type": "stream",
     "text": [
      "48\n",
      "152645979.0\n"
     ]
    },
    {
     "name": "stdout",
     "output_type": "stream",
     "text": [
      "49\n",
      "151989090.5\n"
     ]
    }
   ],
   "source": [
    "losses = []\n",
    "\n",
    "for epoch in range(50):\n",
    "    \n",
    "    batcher = data_adjacency_batcher(data_dense_tensor, adjacency_dense_tensor, 5000)\n",
    "    \n",
    "    total_loss = 0\n",
    "    \n",
    "    \n",
    "    for (data_batch, mask_batch, adjacency_batch, row_batch) in batcher:\n",
    "        \n",
    "        \n",
    "        \n",
    "        data_batch = data_batch.to(device=device)\n",
    "        mask_batch = mask_batch.to(device=device)\n",
    "        adjacency_batch = adjacency_batch.to(device=device)\n",
    "        row_batch = row_batch.to(device=device)\n",
    "        \n",
    "        laplacian_tensor = adjacency_to_laplacian(adjacency_batch).to(device=device)\n",
    "    \n",
    "        optimizer.zero_grad()\n",
    "\n",
    "        output = mf.forward(row_batch, torch.arange(0, data_batch.shape[1]))\n",
    "        \n",
    "        L1_laplacian_tensor = adjacency_to_laplacian(adjacency_to_L1_adjacency(output, adjacency_batch, 0.001, device)).to(device=device)\n",
    "        \n",
    "        loss = squared_loss(data_batch[mask_batch], output[mask_batch]) + LAPLACIAN_PARAM*laplacian_loss(output, laplacian_tensor) + TV_PARAM*laplacian_loss(output, L1_laplacian_tensor)\n",
    "        loss.backward()\n",
    "        optimizer.step()\n",
    "        \n",
    "        total_loss += loss.item()\n",
    "        \n",
    "\n",
    "    if epoch % 1 == 0:\n",
    "        print(epoch)\n",
    "        print(total_loss)\n",
    "        \n",
    "    losses.append(total_loss)"
   ]
  },
  {
   "cell_type": "code",
   "execution_count": 21,
   "id": "1231dcd3",
   "metadata": {
    "execution": {
     "iopub.execute_input": "2022-04-25T03:05:44.216598Z",
     "iopub.status.busy": "2022-04-25T03:05:44.216156Z",
     "iopub.status.idle": "2022-04-25T03:05:44.223711Z",
     "shell.execute_reply": "2022-04-25T03:05:44.223990Z"
    },
    "papermill": {
     "duration": 0.048715,
     "end_time": "2022-04-25T03:05:44.224076",
     "exception": false,
     "start_time": "2022-04-25T03:05:44.175361",
     "status": "completed"
    },
    "tags": []
   },
   "outputs": [
    {
     "data": {
      "text/plain": [
       "7977328.5"
      ]
     },
     "execution_count": 21,
     "metadata": {},
     "output_type": "execute_result"
    }
   ],
   "source": [
    "loss.item()"
   ]
  },
  {
   "cell_type": "code",
   "execution_count": 22,
   "id": "d0ce2790",
   "metadata": {
    "execution": {
     "iopub.execute_input": "2022-04-25T03:05:44.280796Z",
     "iopub.status.busy": "2022-04-25T03:05:44.280365Z",
     "iopub.status.idle": "2022-04-25T03:05:44.291392Z",
     "shell.execute_reply": "2022-04-25T03:05:44.291090Z"
    },
    "papermill": {
     "duration": 0.04217,
     "end_time": "2022-04-25T03:05:44.291463",
     "exception": false,
     "start_time": "2022-04-25T03:05:44.249293",
     "status": "completed"
    },
    "tags": []
   },
   "outputs": [],
   "source": [
    "np.save(f'./results/loss_curves/mf_rank{DECOMP_RANK}_L{LAPLACIAN_PARAM}_TV{TV_PARAM}_losses', np.array(losses))"
   ]
  },
  {
   "cell_type": "code",
   "execution_count": 23,
   "id": "abb54240",
   "metadata": {
    "execution": {
     "iopub.execute_input": "2022-04-25T03:05:44.345806Z",
     "iopub.status.busy": "2022-04-25T03:05:44.344968Z",
     "iopub.status.idle": "2022-04-25T03:05:44.509978Z",
     "shell.execute_reply": "2022-04-25T03:05:44.510459Z"
    },
    "papermill": {
     "duration": 0.194133,
     "end_time": "2022-04-25T03:05:44.510547",
     "exception": false,
     "start_time": "2022-04-25T03:05:44.316414",
     "status": "completed"
    },
    "tags": []
   },
   "outputs": [],
   "source": [
    "torch.save(mf.state_dict(), f'./results/saved_models/mf_rank{DECOMP_RANK}_L{LAPLACIAN_PARAM}_TV{TV_PARAM}_state')"
   ]
  },
  {
   "cell_type": "code",
   "execution_count": 24,
   "id": "e358cdbb",
   "metadata": {
    "execution": {
     "iopub.execute_input": "2022-04-25T03:05:44.575745Z",
     "iopub.status.busy": "2022-04-25T03:05:44.573650Z",
     "iopub.status.idle": "2022-04-25T03:09:42.832389Z",
     "shell.execute_reply": "2022-04-25T03:09:42.835007Z"
    },
    "papermill": {
     "duration": 238.302278,
     "end_time": "2022-04-25T03:09:42.837660",
     "exception": false,
     "start_time": "2022-04-25T03:05:44.535382",
     "status": "completed"
    },
    "tags": []
   },
   "outputs": [],
   "source": [
    "final_output = mf.forward(torch.arange(0, data_dense_tensor.shape[0]), torch.arange(0, data_dense_tensor.shape[1]))\n",
    "\n",
    "final_squared_error = squared_loss(data_dense_tensor, final_output)\n",
    "final_laplacian = laplacian_loss(final_output, adjacency_to_laplacian(adjacency_dense_tensor).to(device=device))\n",
    "final_TV =  laplacian_loss(final_output, adjacency_to_laplacian(adjacency_to_L1_adjacency(final_output, adjacency_dense_tensor, 0.001, device)).to(device=device))"
   ]
  },
  {
   "cell_type": "code",
   "execution_count": 25,
   "id": "f0c4c384",
   "metadata": {
    "execution": {
     "iopub.execute_input": "2022-04-25T03:09:42.979545Z",
     "iopub.status.busy": "2022-04-25T03:09:42.955153Z",
     "iopub.status.idle": "2022-04-25T03:09:43.859084Z",
     "shell.execute_reply": "2022-04-25T03:09:43.858226Z"
    },
    "papermill": {
     "duration": 0.966885,
     "end_time": "2022-04-25T03:09:43.859169",
     "exception": false,
     "start_time": "2022-04-25T03:09:42.892284",
     "status": "completed"
    },
    "tags": []
   },
   "outputs": [],
   "source": [
    "np.save(f'./results/final_losses/mf_rank{DECOMP_RANK}_L{LAPLACIAN_PARAM}_TV{TV_PARAM}_losses', np.array([final_squared_error.item(), final_laplacian.item(), final_TV.item()]))"
   ]
  },
  {
   "cell_type": "code",
   "execution_count": null,
   "id": "276bed6e",
   "metadata": {
    "papermill": {
     "duration": 0.025057,
     "end_time": "2022-04-25T03:09:43.910091",
     "exception": false,
     "start_time": "2022-04-25T03:09:43.885034",
     "status": "completed"
    },
    "tags": []
   },
   "outputs": [],
   "source": []
  }
 ],
 "metadata": {
  "interpreter": {
   "hash": "22ee4ece52021b4a120b95b326dd7a4d7938576e919f53927a7959ab5d7e1e45"
  },
  "kernelspec": {
   "display_name": "spatialSFT",
   "language": "python",
   "name": "spatialsft"
  },
  "language_info": {
   "codemirror_mode": {
    "name": "ipython",
    "version": 3
   },
   "file_extension": ".py",
   "mimetype": "text/x-python",
   "name": "python",
   "nbconvert_exporter": "python",
   "pygments_lexer": "ipython3",
   "version": "3.8.0"
  },
  "papermill": {
   "default_parameters": {},
   "duration": 3937.091335,
   "end_time": "2022-04-25T03:09:51.314733",
   "environment_variables": {},
   "exception": null,
   "input_path": "./notebooks/mf_param_template.ipynb",
   "output_path": "./papermill_output/mf_param_template_rank100_lap0.1_tv0.01.ipynb",
   "parameters": {
    "DECOMP_RANK": 100,
    "LAPLACIAN_PARAM": 0.1,
    "TV_PARAM": 0.01
   },
   "start_time": "2022-04-25T02:04:14.223398",
   "version": "2.3.4"
  }
 },
 "nbformat": 4,
 "nbformat_minor": 5
}