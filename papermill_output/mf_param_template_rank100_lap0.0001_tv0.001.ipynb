{
 "cells": [
  {
   "cell_type": "markdown",
   "id": "681f87b8",
   "metadata": {
    "papermill": {
     "duration": 0.015287,
     "end_time": "2022-04-25T19:25:24.177531",
     "exception": false,
     "start_time": "2022-04-25T19:25:24.162244",
     "status": "completed"
    },
    "tags": []
   },
   "source": [
    "### setup"
   ]
  },
  {
   "cell_type": "code",
   "execution_count": 1,
   "id": "a46be809",
   "metadata": {
    "execution": {
     "iopub.execute_input": "2022-04-25T19:25:24.211182Z",
     "iopub.status.busy": "2022-04-25T19:25:24.210803Z",
     "iopub.status.idle": "2022-04-25T19:25:34.098044Z",
     "shell.execute_reply": "2022-04-25T19:25:34.097460Z"
    },
    "papermill": {
     "duration": 9.906749,
     "end_time": "2022-04-25T19:25:34.098148",
     "exception": false,
     "start_time": "2022-04-25T19:25:24.191399",
     "status": "completed"
    },
    "tags": []
   },
   "outputs": [],
   "source": [
    "import numpy as np \n",
    "import matplotlib.pyplot as plt\n",
    "import pandas as pd\n",
    "\n",
    "import scipy\n",
    "\n",
    "\n",
    "from utils import *\n",
    "from pytorch_sparse_utils import *\n",
    "\n",
    "\n",
    "import torch\n",
    "from torch import nn\n",
    "import torch.nn.functional as F"
   ]
  },
  {
   "cell_type": "markdown",
   "id": "6119f223",
   "metadata": {
    "papermill": {
     "duration": 0.013616,
     "end_time": "2022-04-25T19:25:34.126757",
     "exception": false,
     "start_time": "2022-04-25T19:25:34.113141",
     "status": "completed"
    },
    "tags": []
   },
   "source": [
    "### set parameters"
   ]
  },
  {
   "cell_type": "code",
   "execution_count": 2,
   "id": "b6cba5e0",
   "metadata": {
    "execution": {
     "iopub.execute_input": "2022-04-25T19:25:34.157668Z",
     "iopub.status.busy": "2022-04-25T19:25:34.157308Z",
     "iopub.status.idle": "2022-04-25T19:25:34.159310Z",
     "shell.execute_reply": "2022-04-25T19:25:34.158911Z"
    },
    "papermill": {
     "duration": 0.018808,
     "end_time": "2022-04-25T19:25:34.159384",
     "exception": false,
     "start_time": "2022-04-25T19:25:34.140576",
     "status": "completed"
    },
    "tags": [
     "parameters"
    ]
   },
   "outputs": [],
   "source": [
    "DECOMP_RANK = 10\n",
    "LAPLACIAN_PARAM = 0.001\n",
    "TV_PARAM = 0.001"
   ]
  },
  {
   "cell_type": "code",
   "execution_count": 3,
   "id": "cf82232a",
   "metadata": {
    "execution": {
     "iopub.execute_input": "2022-04-25T19:25:34.193644Z",
     "iopub.status.busy": "2022-04-25T19:25:34.193292Z",
     "iopub.status.idle": "2022-04-25T19:25:34.200386Z",
     "shell.execute_reply": "2022-04-25T19:25:34.200741Z"
    },
    "papermill": {
     "duration": 0.024731,
     "end_time": "2022-04-25T19:25:34.200822",
     "exception": false,
     "start_time": "2022-04-25T19:25:34.176091",
     "status": "completed"
    },
    "tags": [
     "injected-parameters"
    ]
   },
   "outputs": [],
   "source": [
    "# Parameters\n",
    "DECOMP_RANK = 100\n",
    "LAPLACIAN_PARAM = 0.0001\n",
    "TV_PARAM = 0.001\n"
   ]
  },
  {
   "cell_type": "code",
   "execution_count": 4,
   "id": "7c6d37a0",
   "metadata": {
    "execution": {
     "iopub.execute_input": "2022-04-25T19:25:34.232229Z",
     "iopub.status.busy": "2022-04-25T19:25:34.231881Z",
     "iopub.status.idle": "2022-04-25T19:25:52.101091Z",
     "shell.execute_reply": "2022-04-25T19:25:52.101416Z"
    },
    "papermill": {
     "duration": 17.886191,
     "end_time": "2022-04-25T19:25:52.101524",
     "exception": false,
     "start_time": "2022-04-25T19:25:34.215333",
     "status": "completed"
    },
    "tags": []
   },
   "outputs": [
    {
     "name": "stdout",
     "output_type": "stream",
     "text": [
      "Using cuda device\n"
     ]
    }
   ],
   "source": [
    "device = 'cuda' if torch.cuda.is_available() else 'cpu'\n",
    "print('Using {} device'.format(device))"
   ]
  },
  {
   "cell_type": "markdown",
   "id": "bd962e01",
   "metadata": {
    "papermill": {
     "duration": 0.01452,
     "end_time": "2022-04-25T19:25:52.131911",
     "exception": false,
     "start_time": "2022-04-25T19:25:52.117391",
     "status": "completed"
    },
    "tags": []
   },
   "source": [
    "### loading data"
   ]
  },
  {
   "cell_type": "code",
   "execution_count": 5,
   "id": "f2fa9a37",
   "metadata": {
    "execution": {
     "iopub.execute_input": "2022-04-25T19:25:52.165400Z",
     "iopub.status.busy": "2022-04-25T19:25:52.165044Z",
     "iopub.status.idle": "2022-04-25T19:25:54.496042Z",
     "shell.execute_reply": "2022-04-25T19:25:54.495665Z"
    },
    "papermill": {
     "duration": 2.349711,
     "end_time": "2022-04-25T19:25:54.496132",
     "exception": false,
     "start_time": "2022-04-25T19:25:52.146421",
     "status": "completed"
    },
    "tags": []
   },
   "outputs": [
    {
     "data": {
      "text/html": [
       "<div>\n",
       "<style scoped>\n",
       "    .dataframe tbody tr th:only-of-type {\n",
       "        vertical-align: middle;\n",
       "    }\n",
       "\n",
       "    .dataframe tbody tr th {\n",
       "        vertical-align: top;\n",
       "    }\n",
       "\n",
       "    .dataframe thead th {\n",
       "        text-align: right;\n",
       "    }\n",
       "</style>\n",
       "<table border=\"1\" class=\"dataframe\">\n",
       "  <thead>\n",
       "    <tr style=\"text-align: right;\">\n",
       "      <th></th>\n",
       "      <th>1110008P14Rik</th>\n",
       "      <th>1500009C09Rik</th>\n",
       "      <th>1500012F01Rik</th>\n",
       "      <th>1700020I14Rik</th>\n",
       "      <th>2010107E04Rik</th>\n",
       "      <th>2010300C02Rik</th>\n",
       "      <th>2210016L21Rik</th>\n",
       "      <th>2310036O22Rik</th>\n",
       "      <th>2900011O08Rik</th>\n",
       "      <th>3110035E14Rik</th>\n",
       "      <th>...</th>\n",
       "      <th>Zrsr1</th>\n",
       "      <th>Zwint</th>\n",
       "      <th>mt-Co1</th>\n",
       "      <th>mt-Cytb</th>\n",
       "      <th>mt-Nd1</th>\n",
       "      <th>mt-Nd2</th>\n",
       "      <th>mt-Nd4</th>\n",
       "      <th>mt-Nd5</th>\n",
       "      <th>mt-Rnr1</th>\n",
       "      <th>mt-Rnr2</th>\n",
       "    </tr>\n",
       "  </thead>\n",
       "  <tbody>\n",
       "    <tr>\n",
       "      <th>AAAAAAAGGTAGTA</th>\n",
       "      <td>0</td>\n",
       "      <td>0</td>\n",
       "      <td>0</td>\n",
       "      <td>0</td>\n",
       "      <td>0</td>\n",
       "      <td>0</td>\n",
       "      <td>0</td>\n",
       "      <td>0</td>\n",
       "      <td>0</td>\n",
       "      <td>0</td>\n",
       "      <td>...</td>\n",
       "      <td>0</td>\n",
       "      <td>0</td>\n",
       "      <td>0</td>\n",
       "      <td>0</td>\n",
       "      <td>0</td>\n",
       "      <td>0</td>\n",
       "      <td>0</td>\n",
       "      <td>0</td>\n",
       "      <td>1</td>\n",
       "      <td>0</td>\n",
       "    </tr>\n",
       "    <tr>\n",
       "      <th>AAAAAAAGTCCCAA</th>\n",
       "      <td>0</td>\n",
       "      <td>0</td>\n",
       "      <td>0</td>\n",
       "      <td>0</td>\n",
       "      <td>0</td>\n",
       "      <td>0</td>\n",
       "      <td>0</td>\n",
       "      <td>0</td>\n",
       "      <td>0</td>\n",
       "      <td>0</td>\n",
       "      <td>...</td>\n",
       "      <td>0</td>\n",
       "      <td>0</td>\n",
       "      <td>2</td>\n",
       "      <td>2</td>\n",
       "      <td>5</td>\n",
       "      <td>0</td>\n",
       "      <td>1</td>\n",
       "      <td>0</td>\n",
       "      <td>2</td>\n",
       "      <td>4</td>\n",
       "    </tr>\n",
       "    <tr>\n",
       "      <th>AAAAAAATCTTAGT</th>\n",
       "      <td>0</td>\n",
       "      <td>0</td>\n",
       "      <td>0</td>\n",
       "      <td>0</td>\n",
       "      <td>0</td>\n",
       "      <td>0</td>\n",
       "      <td>0</td>\n",
       "      <td>0</td>\n",
       "      <td>0</td>\n",
       "      <td>0</td>\n",
       "      <td>...</td>\n",
       "      <td>0</td>\n",
       "      <td>0</td>\n",
       "      <td>0</td>\n",
       "      <td>0</td>\n",
       "      <td>0</td>\n",
       "      <td>0</td>\n",
       "      <td>0</td>\n",
       "      <td>0</td>\n",
       "      <td>0</td>\n",
       "      <td>0</td>\n",
       "    </tr>\n",
       "    <tr>\n",
       "      <th>AAAAAACATCTTTC</th>\n",
       "      <td>0</td>\n",
       "      <td>0</td>\n",
       "      <td>0</td>\n",
       "      <td>0</td>\n",
       "      <td>0</td>\n",
       "      <td>0</td>\n",
       "      <td>0</td>\n",
       "      <td>0</td>\n",
       "      <td>0</td>\n",
       "      <td>0</td>\n",
       "      <td>...</td>\n",
       "      <td>0</td>\n",
       "      <td>0</td>\n",
       "      <td>0</td>\n",
       "      <td>0</td>\n",
       "      <td>0</td>\n",
       "      <td>0</td>\n",
       "      <td>0</td>\n",
       "      <td>0</td>\n",
       "      <td>1</td>\n",
       "      <td>0</td>\n",
       "    </tr>\n",
       "    <tr>\n",
       "      <th>AAAAAACGAAATAG</th>\n",
       "      <td>0</td>\n",
       "      <td>0</td>\n",
       "      <td>0</td>\n",
       "      <td>0</td>\n",
       "      <td>0</td>\n",
       "      <td>0</td>\n",
       "      <td>0</td>\n",
       "      <td>0</td>\n",
       "      <td>0</td>\n",
       "      <td>0</td>\n",
       "      <td>...</td>\n",
       "      <td>0</td>\n",
       "      <td>0</td>\n",
       "      <td>1</td>\n",
       "      <td>0</td>\n",
       "      <td>0</td>\n",
       "      <td>0</td>\n",
       "      <td>0</td>\n",
       "      <td>0</td>\n",
       "      <td>0</td>\n",
       "      <td>0</td>\n",
       "    </tr>\n",
       "  </tbody>\n",
       "</table>\n",
       "<p>5 rows × 1222 columns</p>\n",
       "</div>"
      ],
      "text/plain": [
       "                1110008P14Rik  1500009C09Rik  1500012F01Rik  1700020I14Rik  \\\n",
       "AAAAAAAGGTAGTA              0              0              0              0   \n",
       "AAAAAAAGTCCCAA              0              0              0              0   \n",
       "AAAAAAATCTTAGT              0              0              0              0   \n",
       "AAAAAACATCTTTC              0              0              0              0   \n",
       "AAAAAACGAAATAG              0              0              0              0   \n",
       "\n",
       "                2010107E04Rik  2010300C02Rik  2210016L21Rik  2310036O22Rik  \\\n",
       "AAAAAAAGGTAGTA              0              0              0              0   \n",
       "AAAAAAAGTCCCAA              0              0              0              0   \n",
       "AAAAAAATCTTAGT              0              0              0              0   \n",
       "AAAAAACATCTTTC              0              0              0              0   \n",
       "AAAAAACGAAATAG              0              0              0              0   \n",
       "\n",
       "                2900011O08Rik  3110035E14Rik  ...  Zrsr1  Zwint  mt-Co1  \\\n",
       "AAAAAAAGGTAGTA              0              0  ...      0      0       0   \n",
       "AAAAAAAGTCCCAA              0              0  ...      0      0       2   \n",
       "AAAAAAATCTTAGT              0              0  ...      0      0       0   \n",
       "AAAAAACATCTTTC              0              0  ...      0      0       0   \n",
       "AAAAAACGAAATAG              0              0  ...      0      0       1   \n",
       "\n",
       "                mt-Cytb  mt-Nd1  mt-Nd2  mt-Nd4  mt-Nd5  mt-Rnr1  mt-Rnr2  \n",
       "AAAAAAAGGTAGTA        0       0       0       0       0        1        0  \n",
       "AAAAAAAGTCCCAA        2       5       0       1       0        2        4  \n",
       "AAAAAAATCTTAGT        0       0       0       0       0        0        0  \n",
       "AAAAAACATCTTTC        0       0       0       0       0        1        0  \n",
       "AAAAAACGAAATAG        0       0       0       0       0        0        0  \n",
       "\n",
       "[5 rows x 1222 columns]"
      ]
     },
     "execution_count": 5,
     "metadata": {},
     "output_type": "execute_result"
    }
   ],
   "source": [
    "bead_reads_subset = pd.read_csv('./data/bead_reads_subset.csv', index_col='Unnamed: 0')\n",
    "bead_reads_subset.head()"
   ]
  },
  {
   "cell_type": "code",
   "execution_count": 6,
   "id": "8a66f50b",
   "metadata": {
    "execution": {
     "iopub.execute_input": "2022-04-25T19:25:54.529908Z",
     "iopub.status.busy": "2022-04-25T19:25:54.528208Z",
     "iopub.status.idle": "2022-04-25T19:25:55.081385Z",
     "shell.execute_reply": "2022-04-25T19:25:55.081718Z"
    },
    "papermill": {
     "duration": 0.570157,
     "end_time": "2022-04-25T19:25:55.081852",
     "exception": false,
     "start_time": "2022-04-25T19:25:54.511695",
     "status": "completed"
    },
    "tags": []
   },
   "outputs": [],
   "source": [
    "data_scipy_sparse = scipy.sparse.coo_matrix( bead_reads_subset.to_numpy() )"
   ]
  },
  {
   "cell_type": "code",
   "execution_count": 7,
   "id": "e7826d60",
   "metadata": {
    "execution": {
     "iopub.execute_input": "2022-04-25T19:25:55.116628Z",
     "iopub.status.busy": "2022-04-25T19:25:55.114674Z",
     "iopub.status.idle": "2022-04-25T19:26:02.430265Z",
     "shell.execute_reply": "2022-04-25T19:26:02.429865Z"
    },
    "papermill": {
     "duration": 7.33258,
     "end_time": "2022-04-25T19:26:02.430378",
     "exception": false,
     "start_time": "2022-04-25T19:25:55.097798",
     "status": "completed"
    },
    "tags": []
   },
   "outputs": [],
   "source": [
    "data_sparse_tensor = scipy_sparse_to_pytorch_sparse(data_scipy_sparse).to(device=device)"
   ]
  },
  {
   "cell_type": "code",
   "execution_count": 8,
   "id": "e83968e6",
   "metadata": {
    "execution": {
     "iopub.execute_input": "2022-04-25T19:26:02.466820Z",
     "iopub.status.busy": "2022-04-25T19:26:02.466462Z",
     "iopub.status.idle": "2022-04-25T19:26:02.473478Z",
     "shell.execute_reply": "2022-04-25T19:26:02.473128Z"
    },
    "papermill": {
     "duration": 0.026231,
     "end_time": "2022-04-25T19:26:02.473556",
     "exception": false,
     "start_time": "2022-04-25T19:26:02.447325",
     "status": "completed"
    },
    "tags": []
   },
   "outputs": [
    {
     "data": {
      "text/plain": [
       "tensor(indices=tensor([[    0,     0,     0,  ..., 53207, 53207, 53207],\n",
       "                       [   84,   412,   528,  ...,  1219,  1220,  1221]]),\n",
       "       values=tensor([ 1.,  1.,  1.,  ..., 12., 26., 71.]),\n",
       "       device='cuda:0', size=(53208, 1222), nnz=9552845, layout=torch.sparse_coo)"
      ]
     },
     "execution_count": 8,
     "metadata": {},
     "output_type": "execute_result"
    }
   ],
   "source": [
    "data_sparse_tensor"
   ]
  },
  {
   "cell_type": "code",
   "execution_count": 9,
   "id": "c7b1383c",
   "metadata": {
    "execution": {
     "iopub.execute_input": "2022-04-25T19:26:02.645126Z",
     "iopub.status.busy": "2022-04-25T19:26:02.644717Z",
     "iopub.status.idle": "2022-04-25T19:26:02.849061Z",
     "shell.execute_reply": "2022-04-25T19:26:02.848625Z"
    },
    "papermill": {
     "duration": 0.267923,
     "end_time": "2022-04-25T19:26:02.849207",
     "exception": false,
     "start_time": "2022-04-25T19:26:02.581284",
     "status": "completed"
    },
    "tags": []
   },
   "outputs": [],
   "source": [
    "data_dense_tensor = data_sparse_tensor.to_dense()"
   ]
  },
  {
   "cell_type": "code",
   "execution_count": 10,
   "id": "eff741b3",
   "metadata": {
    "execution": {
     "iopub.execute_input": "2022-04-25T19:26:02.900337Z",
     "iopub.status.busy": "2022-04-25T19:26:02.899779Z",
     "iopub.status.idle": "2022-04-25T19:26:03.034256Z",
     "shell.execute_reply": "2022-04-25T19:26:03.033884Z"
    },
    "papermill": {
     "duration": 0.152752,
     "end_time": "2022-04-25T19:26:03.034357",
     "exception": false,
     "start_time": "2022-04-25T19:26:02.881605",
     "status": "completed"
    },
    "tags": []
   },
   "outputs": [],
   "source": [
    "mask_scipy_sparse = (data_scipy_sparse != 0).astype(np.int64).tocoo()"
   ]
  },
  {
   "cell_type": "code",
   "execution_count": 11,
   "id": "f0185ac0",
   "metadata": {
    "execution": {
     "iopub.execute_input": "2022-04-25T19:26:03.184539Z",
     "iopub.status.busy": "2022-04-25T19:26:03.184178Z",
     "iopub.status.idle": "2022-04-25T19:26:03.243696Z",
     "shell.execute_reply": "2022-04-25T19:26:03.243359Z"
    },
    "papermill": {
     "duration": 0.156495,
     "end_time": "2022-04-25T19:26:03.243791",
     "exception": false,
     "start_time": "2022-04-25T19:26:03.087296",
     "status": "completed"
    },
    "tags": []
   },
   "outputs": [],
   "source": [
    "mask_sparse_tensor = scipy_sparse_to_pytorch_sparse(mask_scipy_sparse)"
   ]
  },
  {
   "cell_type": "code",
   "execution_count": 12,
   "id": "746eb948",
   "metadata": {
    "execution": {
     "iopub.execute_input": "2022-04-25T19:26:03.278354Z",
     "iopub.status.busy": "2022-04-25T19:26:03.277998Z",
     "iopub.status.idle": "2022-04-25T19:26:04.241593Z",
     "shell.execute_reply": "2022-04-25T19:26:04.241924Z"
    },
    "papermill": {
     "duration": 0.982189,
     "end_time": "2022-04-25T19:26:04.242046",
     "exception": false,
     "start_time": "2022-04-25T19:26:03.259857",
     "status": "completed"
    },
    "tags": []
   },
   "outputs": [],
   "source": [
    "mask_dense_tensor = mask_sparse_tensor.to_dense().bool()"
   ]
  },
  {
   "cell_type": "code",
   "execution_count": 13,
   "id": "11a181f3",
   "metadata": {
    "execution": {
     "iopub.execute_input": "2022-04-25T19:26:04.284108Z",
     "iopub.status.busy": "2022-04-25T19:26:04.283732Z",
     "iopub.status.idle": "2022-04-25T19:26:31.377957Z",
     "shell.execute_reply": "2022-04-25T19:26:31.377520Z"
    },
    "papermill": {
     "duration": 27.119453,
     "end_time": "2022-04-25T19:26:31.378082",
     "exception": false,
     "start_time": "2022-04-25T19:26:04.258629",
     "status": "completed"
    },
    "tags": []
   },
   "outputs": [],
   "source": [
    "distances = np.load('./data/macosko_distance_matrix.npy')"
   ]
  },
  {
   "cell_type": "code",
   "execution_count": 14,
   "id": "a63c152d",
   "metadata": {
    "execution": {
     "iopub.execute_input": "2022-04-25T19:26:31.420439Z",
     "iopub.status.busy": "2022-04-25T19:26:31.420071Z",
     "iopub.status.idle": "2022-04-25T19:26:39.070997Z",
     "shell.execute_reply": "2022-04-25T19:26:39.071321Z"
    },
    "papermill": {
     "duration": 7.672353,
     "end_time": "2022-04-25T19:26:39.071430",
     "exception": false,
     "start_time": "2022-04-25T19:26:31.399077",
     "status": "completed"
    },
    "tags": []
   },
   "outputs": [],
   "source": [
    "adjacency = scipy.sparse.coo_matrix( distances <= 20 , dtype=np.float32)\n",
    "degree = scipy.sparse.diags( adjacency.sum(axis=0).A1 )\n",
    "laplacian = (degree - adjacency).tocoo()"
   ]
  },
  {
   "cell_type": "code",
   "execution_count": 15,
   "id": "025ceb8c",
   "metadata": {
    "execution": {
     "iopub.execute_input": "2022-04-25T19:26:39.114764Z",
     "iopub.status.busy": "2022-04-25T19:26:39.105612Z",
     "iopub.status.idle": "2022-04-25T19:26:39.115173Z",
     "shell.execute_reply": "2022-04-25T19:26:39.115466Z"
    },
    "papermill": {
     "duration": 0.027254,
     "end_time": "2022-04-25T19:26:39.115546",
     "exception": false,
     "start_time": "2022-04-25T19:26:39.088292",
     "status": "completed"
    },
    "tags": []
   },
   "outputs": [],
   "source": [
    "adjacency_sparse_tensor = scipy_sparse_to_pytorch_sparse(adjacency)"
   ]
  },
  {
   "cell_type": "code",
   "execution_count": 16,
   "id": "6a0532cb",
   "metadata": {
    "execution": {
     "iopub.execute_input": "2022-04-25T19:26:39.174066Z",
     "iopub.status.busy": "2022-04-25T19:26:39.173693Z",
     "iopub.status.idle": "2022-04-25T19:26:41.307220Z",
     "shell.execute_reply": "2022-04-25T19:26:41.307549Z"
    },
    "papermill": {
     "duration": 2.163015,
     "end_time": "2022-04-25T19:26:41.307658",
     "exception": false,
     "start_time": "2022-04-25T19:26:39.144643",
     "status": "completed"
    },
    "tags": []
   },
   "outputs": [],
   "source": [
    "adjacency_dense_tensor = adjacency_sparse_tensor.to_dense()"
   ]
  },
  {
   "cell_type": "code",
   "execution_count": 17,
   "id": "30ba9788",
   "metadata": {
    "execution": {
     "iopub.execute_input": "2022-04-25T19:26:41.351948Z",
     "iopub.status.busy": "2022-04-25T19:26:41.351577Z",
     "iopub.status.idle": "2022-04-25T19:26:41.352864Z",
     "shell.execute_reply": "2022-04-25T19:26:41.353202Z"
    },
    "papermill": {
     "duration": 0.023615,
     "end_time": "2022-04-25T19:26:41.353281",
     "exception": false,
     "start_time": "2022-04-25T19:26:41.329666",
     "status": "completed"
    },
    "tags": []
   },
   "outputs": [],
   "source": [
    "def laplacian_loss(x, x_lap):\n",
    "    \n",
    "    lap_sum = 0\n",
    "    for ii in range(x.shape[1]):\n",
    "        lap_sum = lap_sum + (x[:,ii].T @ x_lap @ x[:,ii])\n",
    "        \n",
    "    return lap_sum"
   ]
  },
  {
   "cell_type": "code",
   "execution_count": 18,
   "id": "7ae07929",
   "metadata": {
    "execution": {
     "iopub.execute_input": "2022-04-25T19:26:41.405030Z",
     "iopub.status.busy": "2022-04-25T19:26:41.404665Z",
     "iopub.status.idle": "2022-04-25T19:26:41.424813Z",
     "shell.execute_reply": "2022-04-25T19:26:41.425112Z"
    },
    "papermill": {
     "duration": 0.048259,
     "end_time": "2022-04-25T19:26:41.425193",
     "exception": false,
     "start_time": "2022-04-25T19:26:41.376934",
     "status": "completed"
    },
    "tags": []
   },
   "outputs": [],
   "source": [
    "mf = MatrixFactorization(mask_sparse_tensor.shape[0], mask_sparse_tensor.shape[1], DECOMP_RANK).to(device=device)"
   ]
  },
  {
   "cell_type": "code",
   "execution_count": 19,
   "id": "4acff1ff",
   "metadata": {
    "execution": {
     "iopub.execute_input": "2022-04-25T19:26:41.607259Z",
     "iopub.status.busy": "2022-04-25T19:26:41.606905Z",
     "iopub.status.idle": "2022-04-25T19:26:41.630857Z",
     "shell.execute_reply": "2022-04-25T19:26:41.631346Z"
    },
    "papermill": {
     "duration": 0.131343,
     "end_time": "2022-04-25T19:26:41.631485",
     "exception": false,
     "start_time": "2022-04-25T19:26:41.500142",
     "status": "completed"
    },
    "tags": []
   },
   "outputs": [],
   "source": [
    "import torch.optim as optim\n",
    "\n",
    "optimizer = optim.Adam(mf.parameters(), lr=0.001)"
   ]
  },
  {
   "cell_type": "code",
   "execution_count": 20,
   "id": "beaeb633",
   "metadata": {
    "execution": {
     "iopub.execute_input": "2022-04-25T19:26:41.670527Z",
     "iopub.status.busy": "2022-04-25T19:26:41.670172Z",
     "iopub.status.idle": "2022-04-25T20:27:16.180233Z",
     "shell.execute_reply": "2022-04-25T20:27:16.180681Z"
    },
    "papermill": {
     "duration": 3634.53692,
     "end_time": "2022-04-25T20:27:16.184832",
     "exception": false,
     "start_time": "2022-04-25T19:26:41.647912",
     "status": "completed"
    },
    "tags": []
   },
   "outputs": [
    {
     "name": "stdout",
     "output_type": "stream",
     "text": [
      "0\n",
      "215980318.0\n"
     ]
    },
    {
     "name": "stdout",
     "output_type": "stream",
     "text": [
      "1\n",
      "215790834.0\n"
     ]
    },
    {
     "name": "stdout",
     "output_type": "stream",
     "text": [
      "2\n",
      "215301718.0\n"
     ]
    },
    {
     "name": "stdout",
     "output_type": "stream",
     "text": [
      "3\n",
      "214379712.0\n"
     ]
    },
    {
     "name": "stdout",
     "output_type": "stream",
     "text": [
      "4\n",
      "212954613.0\n"
     ]
    },
    {
     "name": "stdout",
     "output_type": "stream",
     "text": [
      "5\n",
      "211008850.0\n"
     ]
    },
    {
     "name": "stdout",
     "output_type": "stream",
     "text": [
      "6\n",
      "208585067.0\n"
     ]
    },
    {
     "name": "stdout",
     "output_type": "stream",
     "text": [
      "7\n",
      "205750654.0\n"
     ]
    },
    {
     "name": "stdout",
     "output_type": "stream",
     "text": [
      "8\n",
      "202617313.0\n"
     ]
    },
    {
     "name": "stdout",
     "output_type": "stream",
     "text": [
      "9\n",
      "199347703.0\n"
     ]
    },
    {
     "name": "stdout",
     "output_type": "stream",
     "text": [
      "10\n",
      "196075220.0\n"
     ]
    },
    {
     "name": "stdout",
     "output_type": "stream",
     "text": [
      "11\n",
      "192956323.0\n"
     ]
    },
    {
     "name": "stdout",
     "output_type": "stream",
     "text": [
      "12\n",
      "190087690.0\n"
     ]
    },
    {
     "name": "stdout",
     "output_type": "stream",
     "text": [
      "13\n",
      "187550380.0\n"
     ]
    },
    {
     "name": "stdout",
     "output_type": "stream",
     "text": [
      "14\n",
      "185378951.0\n"
     ]
    },
    {
     "name": "stdout",
     "output_type": "stream",
     "text": [
      "15\n",
      "183503463.0\n"
     ]
    },
    {
     "name": "stdout",
     "output_type": "stream",
     "text": [
      "16\n",
      "181874130.0\n"
     ]
    },
    {
     "name": "stdout",
     "output_type": "stream",
     "text": [
      "17\n",
      "180424516.0\n"
     ]
    },
    {
     "name": "stdout",
     "output_type": "stream",
     "text": [
      "18\n",
      "179078428.0\n"
     ]
    },
    {
     "name": "stdout",
     "output_type": "stream",
     "text": [
      "19\n",
      "177819569.0\n"
     ]
    },
    {
     "name": "stdout",
     "output_type": "stream",
     "text": [
      "20\n",
      "176619754.0\n"
     ]
    },
    {
     "name": "stdout",
     "output_type": "stream",
     "text": [
      "21\n",
      "175470098.0\n"
     ]
    },
    {
     "name": "stdout",
     "output_type": "stream",
     "text": [
      "22\n",
      "174358041.0\n"
     ]
    },
    {
     "name": "stdout",
     "output_type": "stream",
     "text": [
      "23\n",
      "173285899.0\n"
     ]
    },
    {
     "name": "stdout",
     "output_type": "stream",
     "text": [
      "24\n",
      "172236611.0\n"
     ]
    },
    {
     "name": "stdout",
     "output_type": "stream",
     "text": [
      "25\n",
      "171221731.0\n"
     ]
    },
    {
     "name": "stdout",
     "output_type": "stream",
     "text": [
      "26\n",
      "170223771.0\n"
     ]
    },
    {
     "name": "stdout",
     "output_type": "stream",
     "text": [
      "27\n",
      "169251949.5\n"
     ]
    },
    {
     "name": "stdout",
     "output_type": "stream",
     "text": [
      "28\n",
      "168298268.0\n"
     ]
    },
    {
     "name": "stdout",
     "output_type": "stream",
     "text": [
      "29\n",
      "167360714.0\n"
     ]
    },
    {
     "name": "stdout",
     "output_type": "stream",
     "text": [
      "30\n",
      "166439988.0\n"
     ]
    },
    {
     "name": "stdout",
     "output_type": "stream",
     "text": [
      "31\n",
      "165535410.0\n"
     ]
    },
    {
     "name": "stdout",
     "output_type": "stream",
     "text": [
      "32\n",
      "164643174.0\n"
     ]
    },
    {
     "name": "stdout",
     "output_type": "stream",
     "text": [
      "33\n",
      "163766543.0\n"
     ]
    },
    {
     "name": "stdout",
     "output_type": "stream",
     "text": [
      "34\n",
      "162902564.5\n"
     ]
    },
    {
     "name": "stdout",
     "output_type": "stream",
     "text": [
      "35\n",
      "162049918.0\n"
     ]
    },
    {
     "name": "stdout",
     "output_type": "stream",
     "text": [
      "36\n",
      "161210857.5\n"
     ]
    },
    {
     "name": "stdout",
     "output_type": "stream",
     "text": [
      "37\n",
      "160382609.0\n"
     ]
    },
    {
     "name": "stdout",
     "output_type": "stream",
     "text": [
      "38\n",
      "159559938.0\n"
     ]
    },
    {
     "name": "stdout",
     "output_type": "stream",
     "text": [
      "39\n",
      "158749115.0\n"
     ]
    },
    {
     "name": "stdout",
     "output_type": "stream",
     "text": [
      "40\n",
      "157955286.0\n"
     ]
    },
    {
     "name": "stdout",
     "output_type": "stream",
     "text": [
      "41\n",
      "157167618.0\n"
     ]
    },
    {
     "name": "stdout",
     "output_type": "stream",
     "text": [
      "42\n",
      "156394069.0\n"
     ]
    },
    {
     "name": "stdout",
     "output_type": "stream",
     "text": [
      "43\n",
      "155626377.0\n"
     ]
    },
    {
     "name": "stdout",
     "output_type": "stream",
     "text": [
      "44\n",
      "154870840.0\n"
     ]
    },
    {
     "name": "stdout",
     "output_type": "stream",
     "text": [
      "45\n",
      "154123878.5\n"
     ]
    },
    {
     "name": "stdout",
     "output_type": "stream",
     "text": [
      "46\n",
      "153385192.0\n"
     ]
    },
    {
     "name": "stdout",
     "output_type": "stream",
     "text": [
      "47\n",
      "152664632.0\n"
     ]
    },
    {
     "name": "stdout",
     "output_type": "stream",
     "text": [
      "48\n",
      "151942490.0\n"
     ]
    },
    {
     "name": "stdout",
     "output_type": "stream",
     "text": [
      "49\n",
      "151241336.0\n"
     ]
    }
   ],
   "source": [
    "losses = []\n",
    "\n",
    "for epoch in range(50):\n",
    "    \n",
    "    batcher = data_adjacency_batcher(data_dense_tensor, adjacency_dense_tensor, 5000)\n",
    "    \n",
    "    total_loss = 0\n",
    "    \n",
    "    \n",
    "    for (data_batch, mask_batch, adjacency_batch, row_batch) in batcher:\n",
    "        \n",
    "        \n",
    "        \n",
    "        data_batch = data_batch.to(device=device)\n",
    "        mask_batch = mask_batch.to(device=device)\n",
    "        adjacency_batch = adjacency_batch.to(device=device)\n",
    "        row_batch = row_batch.to(device=device)\n",
    "        \n",
    "        laplacian_tensor = adjacency_to_laplacian(adjacency_batch).to(device=device)\n",
    "    \n",
    "        optimizer.zero_grad()\n",
    "\n",
    "        output = mf.forward(row_batch, torch.arange(0, data_batch.shape[1]))\n",
    "        \n",
    "        L1_laplacian_tensor = adjacency_to_laplacian(adjacency_to_L1_adjacency(output, adjacency_batch, 0.001, device)).to(device=device)\n",
    "        \n",
    "        loss = squared_loss(data_batch[mask_batch], output[mask_batch]) + LAPLACIAN_PARAM*laplacian_loss(output, laplacian_tensor) + TV_PARAM*laplacian_loss(output, L1_laplacian_tensor)\n",
    "        loss.backward()\n",
    "        optimizer.step()\n",
    "        \n",
    "        total_loss += loss.item()\n",
    "        \n",
    "\n",
    "    if epoch % 1 == 0:\n",
    "        print(epoch)\n",
    "        print(total_loss)\n",
    "        \n",
    "    losses.append(total_loss)"
   ]
  },
  {
   "cell_type": "code",
   "execution_count": 21,
   "id": "9648a57d",
   "metadata": {
    "execution": {
     "iopub.execute_input": "2022-04-25T20:27:16.310118Z",
     "iopub.status.busy": "2022-04-25T20:27:16.300184Z",
     "iopub.status.idle": "2022-04-25T20:27:16.322327Z",
     "shell.execute_reply": "2022-04-25T20:27:16.321949Z"
    },
    "papermill": {
     "duration": 0.055736,
     "end_time": "2022-04-25T20:27:16.322417",
     "exception": false,
     "start_time": "2022-04-25T20:27:16.266681",
     "status": "completed"
    },
    "tags": []
   },
   "outputs": [
    {
     "data": {
      "text/plain": [
       "10173089.0"
      ]
     },
     "execution_count": 21,
     "metadata": {},
     "output_type": "execute_result"
    }
   ],
   "source": [
    "loss.item()"
   ]
  },
  {
   "cell_type": "code",
   "execution_count": 22,
   "id": "6b83ce47",
   "metadata": {
    "execution": {
     "iopub.execute_input": "2022-04-25T20:27:16.438552Z",
     "iopub.status.busy": "2022-04-25T20:27:16.436931Z",
     "iopub.status.idle": "2022-04-25T20:27:16.770545Z",
     "shell.execute_reply": "2022-04-25T20:27:16.771669Z"
    },
    "papermill": {
     "duration": 0.362249,
     "end_time": "2022-04-25T20:27:16.772134",
     "exception": false,
     "start_time": "2022-04-25T20:27:16.409885",
     "status": "completed"
    },
    "tags": []
   },
   "outputs": [],
   "source": [
    "np.save(f'./results/loss_curves/mf_rank{DECOMP_RANK}_L{LAPLACIAN_PARAM}_TV{TV_PARAM}_losses', np.array(losses))"
   ]
  },
  {
   "cell_type": "code",
   "execution_count": 23,
   "id": "de759c9b",
   "metadata": {
    "execution": {
     "iopub.execute_input": "2022-04-25T20:27:16.833243Z",
     "iopub.status.busy": "2022-04-25T20:27:16.831599Z",
     "iopub.status.idle": "2022-04-25T20:27:17.092356Z",
     "shell.execute_reply": "2022-04-25T20:27:17.092773Z"
    },
    "papermill": {
     "duration": 0.290476,
     "end_time": "2022-04-25T20:27:17.092869",
     "exception": false,
     "start_time": "2022-04-25T20:27:16.802393",
     "status": "completed"
    },
    "tags": []
   },
   "outputs": [],
   "source": [
    "torch.save(mf.state_dict(), f'./results/saved_models/mf_rank{DECOMP_RANK}_L{LAPLACIAN_PARAM}_TV{TV_PARAM}_state')"
   ]
  },
  {
   "cell_type": "code",
   "execution_count": 24,
   "id": "53ddda5c",
   "metadata": {
    "execution": {
     "iopub.execute_input": "2022-04-25T20:27:17.154428Z",
     "iopub.status.busy": "2022-04-25T20:27:17.145783Z",
     "iopub.status.idle": "2022-04-25T20:31:08.201126Z",
     "shell.execute_reply": "2022-04-25T20:31:08.206210Z"
    },
    "papermill": {
     "duration": 231.090224,
     "end_time": "2022-04-25T20:31:08.208883",
     "exception": false,
     "start_time": "2022-04-25T20:27:17.118659",
     "status": "completed"
    },
    "tags": []
   },
   "outputs": [],
   "source": [
    "final_output = mf.forward(torch.arange(0, data_dense_tensor.shape[0]), torch.arange(0, data_dense_tensor.shape[1]))\n",
    "\n",
    "final_squared_error = squared_loss(data_dense_tensor, final_output)\n",
    "final_laplacian = laplacian_loss(final_output, adjacency_to_laplacian(adjacency_dense_tensor).to(device=device))\n",
    "final_TV =  laplacian_loss(final_output, adjacency_to_laplacian(adjacency_to_L1_adjacency(final_output, adjacency_dense_tensor, 0.001, device)).to(device=device))"
   ]
  },
  {
   "cell_type": "code",
   "execution_count": 25,
   "id": "83b04d2d",
   "metadata": {
    "execution": {
     "iopub.execute_input": "2022-04-25T20:31:08.411253Z",
     "iopub.status.busy": "2022-04-25T20:31:08.409947Z",
     "iopub.status.idle": "2022-04-25T20:31:09.445517Z",
     "shell.execute_reply": "2022-04-25T20:31:09.444793Z"
    },
    "papermill": {
     "duration": 1.163881,
     "end_time": "2022-04-25T20:31:09.445594",
     "exception": false,
     "start_time": "2022-04-25T20:31:08.281713",
     "status": "completed"
    },
    "tags": []
   },
   "outputs": [],
   "source": [
    "np.save(f'./results/final_losses/mf_rank{DECOMP_RANK}_L{LAPLACIAN_PARAM}_TV{TV_PARAM}_losses', np.array([final_squared_error.item(), final_laplacian.item(), final_TV.item()]))"
   ]
  },
  {
   "cell_type": "code",
   "execution_count": null,
   "id": "99fdee51",
   "metadata": {
    "papermill": {
     "duration": 0.064844,
     "end_time": "2022-04-25T20:31:09.619628",
     "exception": false,
     "start_time": "2022-04-25T20:31:09.554784",
     "status": "completed"
    },
    "tags": []
   },
   "outputs": [],
   "source": []
  }
 ],
 "metadata": {
  "interpreter": {
   "hash": "22ee4ece52021b4a120b95b326dd7a4d7938576e919f53927a7959ab5d7e1e45"
  },
  "kernelspec": {
   "display_name": "spatialSFT",
   "language": "python",
   "name": "spatialsft"
  },
  "language_info": {
   "codemirror_mode": {
    "name": "ipython",
    "version": 3
   },
   "file_extension": ".py",
   "mimetype": "text/x-python",
   "name": "python",
   "nbconvert_exporter": "python",
   "pygments_lexer": "ipython3",
   "version": "3.8.0"
  },
  "papermill": {
   "default_parameters": {},
   "duration": 3957.127936,
   "end_time": "2022-04-25T20:31:17.730171",
   "environment_variables": {},
   "exception": null,
   "input_path": "./notebooks/mf_param_template.ipynb",
   "output_path": "./papermill_output/mf_param_template_rank100_lap0.0001_tv0.001.ipynb",
   "parameters": {
    "DECOMP_RANK": 100,
    "LAPLACIAN_PARAM": 0.0001,
    "TV_PARAM": 0.001
   },
   "start_time": "2022-04-25T19:25:20.602235",
   "version": "2.3.4"
  }
 },
 "nbformat": 4,
 "nbformat_minor": 5
}