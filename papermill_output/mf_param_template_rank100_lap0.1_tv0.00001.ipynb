{
 "cells": [
  {
   "cell_type": "markdown",
   "id": "083eb27f",
   "metadata": {
    "papermill": {
     "duration": 0.015347,
     "end_time": "2022-04-25T05:22:30.057520",
     "exception": false,
     "start_time": "2022-04-25T05:22:30.042173",
     "status": "completed"
    },
    "tags": []
   },
   "source": [
    "### setup"
   ]
  },
  {
   "cell_type": "code",
   "execution_count": 1,
   "id": "11f146e1",
   "metadata": {
    "execution": {
     "iopub.execute_input": "2022-04-25T05:22:30.087735Z",
     "iopub.status.busy": "2022-04-25T05:22:30.087369Z",
     "iopub.status.idle": "2022-04-25T05:22:36.468279Z",
     "shell.execute_reply": "2022-04-25T05:22:36.467854Z"
    },
    "papermill": {
     "duration": 6.39605,
     "end_time": "2022-04-25T05:22:36.468377",
     "exception": false,
     "start_time": "2022-04-25T05:22:30.072327",
     "status": "completed"
    },
    "tags": []
   },
   "outputs": [],
   "source": [
    "import numpy as np \n",
    "import matplotlib.pyplot as plt\n",
    "import pandas as pd\n",
    "\n",
    "import scipy\n",
    "\n",
    "\n",
    "from utils import *\n",
    "from pytorch_sparse_utils import *\n",
    "\n",
    "\n",
    "import torch\n",
    "from torch import nn\n",
    "import torch.nn.functional as F"
   ]
  },
  {
   "cell_type": "markdown",
   "id": "4421f37c",
   "metadata": {
    "papermill": {
     "duration": 0.01393,
     "end_time": "2022-04-25T05:22:36.497176",
     "exception": false,
     "start_time": "2022-04-25T05:22:36.483246",
     "status": "completed"
    },
    "tags": []
   },
   "source": [
    "### set parameters"
   ]
  },
  {
   "cell_type": "code",
   "execution_count": 2,
   "id": "f6e50e7a",
   "metadata": {
    "execution": {
     "iopub.execute_input": "2022-04-25T05:22:36.528524Z",
     "iopub.status.busy": "2022-04-25T05:22:36.528086Z",
     "iopub.status.idle": "2022-04-25T05:22:36.530189Z",
     "shell.execute_reply": "2022-04-25T05:22:36.530489Z"
    },
    "papermill": {
     "duration": 0.019934,
     "end_time": "2022-04-25T05:22:36.530613",
     "exception": false,
     "start_time": "2022-04-25T05:22:36.510679",
     "status": "completed"
    },
    "tags": [
     "parameters"
    ]
   },
   "outputs": [],
   "source": [
    "DECOMP_RANK = 10\n",
    "LAPLACIAN_PARAM = 0.001\n",
    "TV_PARAM = 0.001"
   ]
  },
  {
   "cell_type": "code",
   "execution_count": 3,
   "id": "bd4494e6",
   "metadata": {
    "execution": {
     "iopub.execute_input": "2022-04-25T05:22:36.562267Z",
     "iopub.status.busy": "2022-04-25T05:22:36.561909Z",
     "iopub.status.idle": "2022-04-25T05:22:36.564212Z",
     "shell.execute_reply": "2022-04-25T05:22:36.563867Z"
    },
    "papermill": {
     "duration": 0.019306,
     "end_time": "2022-04-25T05:22:36.564280",
     "exception": false,
     "start_time": "2022-04-25T05:22:36.544974",
     "status": "completed"
    },
    "tags": [
     "injected-parameters"
    ]
   },
   "outputs": [],
   "source": [
    "# Parameters\n",
    "DECOMP_RANK = 100\n",
    "LAPLACIAN_PARAM = 0.1\n",
    "TV_PARAM = 1e-05\n"
   ]
  },
  {
   "cell_type": "code",
   "execution_count": 4,
   "id": "04b7a844",
   "metadata": {
    "execution": {
     "iopub.execute_input": "2022-04-25T05:22:36.594964Z",
     "iopub.status.busy": "2022-04-25T05:22:36.594181Z",
     "iopub.status.idle": "2022-04-25T05:22:54.480748Z",
     "shell.execute_reply": "2022-04-25T05:22:54.480389Z"
    },
    "papermill": {
     "duration": 17.90304,
     "end_time": "2022-04-25T05:22:54.480844",
     "exception": false,
     "start_time": "2022-04-25T05:22:36.577804",
     "status": "completed"
    },
    "tags": []
   },
   "outputs": [
    {
     "name": "stdout",
     "output_type": "stream",
     "text": [
      "Using cuda device\n"
     ]
    }
   ],
   "source": [
    "device = 'cuda' if torch.cuda.is_available() else 'cpu'\n",
    "print('Using {} device'.format(device))"
   ]
  },
  {
   "cell_type": "markdown",
   "id": "2b674752",
   "metadata": {
    "papermill": {
     "duration": 0.013957,
     "end_time": "2022-04-25T05:22:54.510278",
     "exception": false,
     "start_time": "2022-04-25T05:22:54.496321",
     "status": "completed"
    },
    "tags": []
   },
   "source": [
    "### loading data"
   ]
  },
  {
   "cell_type": "code",
   "execution_count": 5,
   "id": "3dbfcad5",
   "metadata": {
    "execution": {
     "iopub.execute_input": "2022-04-25T05:22:54.541911Z",
     "iopub.status.busy": "2022-04-25T05:22:54.541511Z",
     "iopub.status.idle": "2022-04-25T05:22:56.833793Z",
     "shell.execute_reply": "2022-04-25T05:22:56.833273Z"
    },
    "papermill": {
     "duration": 2.309722,
     "end_time": "2022-04-25T05:22:56.833888",
     "exception": false,
     "start_time": "2022-04-25T05:22:54.524166",
     "status": "completed"
    },
    "tags": []
   },
   "outputs": [
    {
     "data": {
      "text/html": [
       "<div>\n",
       "<style scoped>\n",
       "    .dataframe tbody tr th:only-of-type {\n",
       "        vertical-align: middle;\n",
       "    }\n",
       "\n",
       "    .dataframe tbody tr th {\n",
       "        vertical-align: top;\n",
       "    }\n",
       "\n",
       "    .dataframe thead th {\n",
       "        text-align: right;\n",
       "    }\n",
       "</style>\n",
       "<table border=\"1\" class=\"dataframe\">\n",
       "  <thead>\n",
       "    <tr style=\"text-align: right;\">\n",
       "      <th></th>\n",
       "      <th>1110008P14Rik</th>\n",
       "      <th>1500009C09Rik</th>\n",
       "      <th>1500012F01Rik</th>\n",
       "      <th>1700020I14Rik</th>\n",
       "      <th>2010107E04Rik</th>\n",
       "      <th>2010300C02Rik</th>\n",
       "      <th>2210016L21Rik</th>\n",
       "      <th>2310036O22Rik</th>\n",
       "      <th>2900011O08Rik</th>\n",
       "      <th>3110035E14Rik</th>\n",
       "      <th>...</th>\n",
       "      <th>Zrsr1</th>\n",
       "      <th>Zwint</th>\n",
       "      <th>mt-Co1</th>\n",
       "      <th>mt-Cytb</th>\n",
       "      <th>mt-Nd1</th>\n",
       "      <th>mt-Nd2</th>\n",
       "      <th>mt-Nd4</th>\n",
       "      <th>mt-Nd5</th>\n",
       "      <th>mt-Rnr1</th>\n",
       "      <th>mt-Rnr2</th>\n",
       "    </tr>\n",
       "  </thead>\n",
       "  <tbody>\n",
       "    <tr>\n",
       "      <th>AAAAAAAGGTAGTA</th>\n",
       "      <td>0</td>\n",
       "      <td>0</td>\n",
       "      <td>0</td>\n",
       "      <td>0</td>\n",
       "      <td>0</td>\n",
       "      <td>0</td>\n",
       "      <td>0</td>\n",
       "      <td>0</td>\n",
       "      <td>0</td>\n",
       "      <td>0</td>\n",
       "      <td>...</td>\n",
       "      <td>0</td>\n",
       "      <td>0</td>\n",
       "      <td>0</td>\n",
       "      <td>0</td>\n",
       "      <td>0</td>\n",
       "      <td>0</td>\n",
       "      <td>0</td>\n",
       "      <td>0</td>\n",
       "      <td>1</td>\n",
       "      <td>0</td>\n",
       "    </tr>\n",
       "    <tr>\n",
       "      <th>AAAAAAAGTCCCAA</th>\n",
       "      <td>0</td>\n",
       "      <td>0</td>\n",
       "      <td>0</td>\n",
       "      <td>0</td>\n",
       "      <td>0</td>\n",
       "      <td>0</td>\n",
       "      <td>0</td>\n",
       "      <td>0</td>\n",
       "      <td>0</td>\n",
       "      <td>0</td>\n",
       "      <td>...</td>\n",
       "      <td>0</td>\n",
       "      <td>0</td>\n",
       "      <td>2</td>\n",
       "      <td>2</td>\n",
       "      <td>5</td>\n",
       "      <td>0</td>\n",
       "      <td>1</td>\n",
       "      <td>0</td>\n",
       "      <td>2</td>\n",
       "      <td>4</td>\n",
       "    </tr>\n",
       "    <tr>\n",
       "      <th>AAAAAAATCTTAGT</th>\n",
       "      <td>0</td>\n",
       "      <td>0</td>\n",
       "      <td>0</td>\n",
       "      <td>0</td>\n",
       "      <td>0</td>\n",
       "      <td>0</td>\n",
       "      <td>0</td>\n",
       "      <td>0</td>\n",
       "      <td>0</td>\n",
       "      <td>0</td>\n",
       "      <td>...</td>\n",
       "      <td>0</td>\n",
       "      <td>0</td>\n",
       "      <td>0</td>\n",
       "      <td>0</td>\n",
       "      <td>0</td>\n",
       "      <td>0</td>\n",
       "      <td>0</td>\n",
       "      <td>0</td>\n",
       "      <td>0</td>\n",
       "      <td>0</td>\n",
       "    </tr>\n",
       "    <tr>\n",
       "      <th>AAAAAACATCTTTC</th>\n",
       "      <td>0</td>\n",
       "      <td>0</td>\n",
       "      <td>0</td>\n",
       "      <td>0</td>\n",
       "      <td>0</td>\n",
       "      <td>0</td>\n",
       "      <td>0</td>\n",
       "      <td>0</td>\n",
       "      <td>0</td>\n",
       "      <td>0</td>\n",
       "      <td>...</td>\n",
       "      <td>0</td>\n",
       "      <td>0</td>\n",
       "      <td>0</td>\n",
       "      <td>0</td>\n",
       "      <td>0</td>\n",
       "      <td>0</td>\n",
       "      <td>0</td>\n",
       "      <td>0</td>\n",
       "      <td>1</td>\n",
       "      <td>0</td>\n",
       "    </tr>\n",
       "    <tr>\n",
       "      <th>AAAAAACGAAATAG</th>\n",
       "      <td>0</td>\n",
       "      <td>0</td>\n",
       "      <td>0</td>\n",
       "      <td>0</td>\n",
       "      <td>0</td>\n",
       "      <td>0</td>\n",
       "      <td>0</td>\n",
       "      <td>0</td>\n",
       "      <td>0</td>\n",
       "      <td>0</td>\n",
       "      <td>...</td>\n",
       "      <td>0</td>\n",
       "      <td>0</td>\n",
       "      <td>1</td>\n",
       "      <td>0</td>\n",
       "      <td>0</td>\n",
       "      <td>0</td>\n",
       "      <td>0</td>\n",
       "      <td>0</td>\n",
       "      <td>0</td>\n",
       "      <td>0</td>\n",
       "    </tr>\n",
       "  </tbody>\n",
       "</table>\n",
       "<p>5 rows × 1222 columns</p>\n",
       "</div>"
      ],
      "text/plain": [
       "                1110008P14Rik  1500009C09Rik  1500012F01Rik  1700020I14Rik  \\\n",
       "AAAAAAAGGTAGTA              0              0              0              0   \n",
       "AAAAAAAGTCCCAA              0              0              0              0   \n",
       "AAAAAAATCTTAGT              0              0              0              0   \n",
       "AAAAAACATCTTTC              0              0              0              0   \n",
       "AAAAAACGAAATAG              0              0              0              0   \n",
       "\n",
       "                2010107E04Rik  2010300C02Rik  2210016L21Rik  2310036O22Rik  \\\n",
       "AAAAAAAGGTAGTA              0              0              0              0   \n",
       "AAAAAAAGTCCCAA              0              0              0              0   \n",
       "AAAAAAATCTTAGT              0              0              0              0   \n",
       "AAAAAACATCTTTC              0              0              0              0   \n",
       "AAAAAACGAAATAG              0              0              0              0   \n",
       "\n",
       "                2900011O08Rik  3110035E14Rik  ...  Zrsr1  Zwint  mt-Co1  \\\n",
       "AAAAAAAGGTAGTA              0              0  ...      0      0       0   \n",
       "AAAAAAAGTCCCAA              0              0  ...      0      0       2   \n",
       "AAAAAAATCTTAGT              0              0  ...      0      0       0   \n",
       "AAAAAACATCTTTC              0              0  ...      0      0       0   \n",
       "AAAAAACGAAATAG              0              0  ...      0      0       1   \n",
       "\n",
       "                mt-Cytb  mt-Nd1  mt-Nd2  mt-Nd4  mt-Nd5  mt-Rnr1  mt-Rnr2  \n",
       "AAAAAAAGGTAGTA        0       0       0       0       0        1        0  \n",
       "AAAAAAAGTCCCAA        2       5       0       1       0        2        4  \n",
       "AAAAAAATCTTAGT        0       0       0       0       0        0        0  \n",
       "AAAAAACATCTTTC        0       0       0       0       0        1        0  \n",
       "AAAAAACGAAATAG        0       0       0       0       0        0        0  \n",
       "\n",
       "[5 rows x 1222 columns]"
      ]
     },
     "execution_count": 5,
     "metadata": {},
     "output_type": "execute_result"
    }
   ],
   "source": [
    "bead_reads_subset = pd.read_csv('./data/bead_reads_subset.csv', index_col='Unnamed: 0')\n",
    "bead_reads_subset.head()"
   ]
  },
  {
   "cell_type": "code",
   "execution_count": 6,
   "id": "1d379af6",
   "metadata": {
    "execution": {
     "iopub.execute_input": "2022-04-25T05:22:56.867513Z",
     "iopub.status.busy": "2022-04-25T05:22:56.867166Z",
     "iopub.status.idle": "2022-04-25T05:22:57.427312Z",
     "shell.execute_reply": "2022-04-25T05:22:57.426912Z"
    },
    "papermill": {
     "duration": 0.578198,
     "end_time": "2022-04-25T05:22:57.427415",
     "exception": false,
     "start_time": "2022-04-25T05:22:56.849217",
     "status": "completed"
    },
    "tags": []
   },
   "outputs": [],
   "source": [
    "data_scipy_sparse = scipy.sparse.coo_matrix( bead_reads_subset.to_numpy() )"
   ]
  },
  {
   "cell_type": "code",
   "execution_count": 7,
   "id": "6569ee8c",
   "metadata": {
    "execution": {
     "iopub.execute_input": "2022-04-25T05:22:57.461321Z",
     "iopub.status.busy": "2022-04-25T05:22:57.460970Z",
     "iopub.status.idle": "2022-04-25T05:23:04.107350Z",
     "shell.execute_reply": "2022-04-25T05:23:04.106953Z"
    },
    "papermill": {
     "duration": 6.664391,
     "end_time": "2022-04-25T05:23:04.107443",
     "exception": false,
     "start_time": "2022-04-25T05:22:57.443052",
     "status": "completed"
    },
    "tags": []
   },
   "outputs": [],
   "source": [
    "data_sparse_tensor = scipy_sparse_to_pytorch_sparse(data_scipy_sparse).to(device=device)"
   ]
  },
  {
   "cell_type": "code",
   "execution_count": 8,
   "id": "9d340082",
   "metadata": {
    "execution": {
     "iopub.execute_input": "2022-04-25T05:23:04.141714Z",
     "iopub.status.busy": "2022-04-25T05:23:04.141364Z",
     "iopub.status.idle": "2022-04-25T05:23:04.148011Z",
     "shell.execute_reply": "2022-04-25T05:23:04.147665Z"
    },
    "papermill": {
     "duration": 0.024464,
     "end_time": "2022-04-25T05:23:04.148080",
     "exception": false,
     "start_time": "2022-04-25T05:23:04.123616",
     "status": "completed"
    },
    "tags": []
   },
   "outputs": [
    {
     "data": {
      "text/plain": [
       "tensor(indices=tensor([[    0,     0,     0,  ..., 53207, 53207, 53207],\n",
       "                       [   84,   412,   528,  ...,  1219,  1220,  1221]]),\n",
       "       values=tensor([ 1.,  1.,  1.,  ..., 12., 26., 71.]),\n",
       "       device='cuda:0', size=(53208, 1222), nnz=9552845, layout=torch.sparse_coo)"
      ]
     },
     "execution_count": 8,
     "metadata": {},
     "output_type": "execute_result"
    }
   ],
   "source": [
    "data_sparse_tensor"
   ]
  },
  {
   "cell_type": "code",
   "execution_count": 9,
   "id": "86d6eb43",
   "metadata": {
    "execution": {
     "iopub.execute_input": "2022-04-25T05:23:04.180322Z",
     "iopub.status.busy": "2022-04-25T05:23:04.179491Z",
     "iopub.status.idle": "2022-04-25T05:23:04.183176Z",
     "shell.execute_reply": "2022-04-25T05:23:04.182834Z"
    },
    "papermill": {
     "duration": 0.019991,
     "end_time": "2022-04-25T05:23:04.183244",
     "exception": false,
     "start_time": "2022-04-25T05:23:04.163253",
     "status": "completed"
    },
    "tags": []
   },
   "outputs": [],
   "source": [
    "data_dense_tensor = data_sparse_tensor.to_dense()"
   ]
  },
  {
   "cell_type": "code",
   "execution_count": 10,
   "id": "0324d65c",
   "metadata": {
    "execution": {
     "iopub.execute_input": "2022-04-25T05:23:04.215794Z",
     "iopub.status.busy": "2022-04-25T05:23:04.215449Z",
     "iopub.status.idle": "2022-04-25T05:23:04.352444Z",
     "shell.execute_reply": "2022-04-25T05:23:04.352107Z"
    },
    "papermill": {
     "duration": 0.154354,
     "end_time": "2022-04-25T05:23:04.352530",
     "exception": false,
     "start_time": "2022-04-25T05:23:04.198176",
     "status": "completed"
    },
    "tags": []
   },
   "outputs": [],
   "source": [
    "mask_scipy_sparse = (data_scipy_sparse != 0).astype(np.int64).tocoo()"
   ]
  },
  {
   "cell_type": "code",
   "execution_count": 11,
   "id": "226c45c5",
   "metadata": {
    "execution": {
     "iopub.execute_input": "2022-04-25T05:23:04.387463Z",
     "iopub.status.busy": "2022-04-25T05:23:04.387114Z",
     "iopub.status.idle": "2022-04-25T05:23:04.443439Z",
     "shell.execute_reply": "2022-04-25T05:23:04.443024Z"
    },
    "papermill": {
     "duration": 0.074923,
     "end_time": "2022-04-25T05:23:04.443511",
     "exception": false,
     "start_time": "2022-04-25T05:23:04.368588",
     "status": "completed"
    },
    "tags": []
   },
   "outputs": [],
   "source": [
    "mask_sparse_tensor = scipy_sparse_to_pytorch_sparse(mask_scipy_sparse)"
   ]
  },
  {
   "cell_type": "code",
   "execution_count": 12,
   "id": "7eb918eb",
   "metadata": {
    "execution": {
     "iopub.execute_input": "2022-04-25T05:23:04.476828Z",
     "iopub.status.busy": "2022-04-25T05:23:04.475437Z",
     "iopub.status.idle": "2022-04-25T05:23:05.462894Z",
     "shell.execute_reply": "2022-04-25T05:23:05.462544Z"
    },
    "papermill": {
     "duration": 1.004545,
     "end_time": "2022-04-25T05:23:05.462992",
     "exception": false,
     "start_time": "2022-04-25T05:23:04.458447",
     "status": "completed"
    },
    "tags": []
   },
   "outputs": [],
   "source": [
    "mask_dense_tensor = mask_sparse_tensor.to_dense().bool()"
   ]
  },
  {
   "cell_type": "code",
   "execution_count": 13,
   "id": "ef2f8a22",
   "metadata": {
    "execution": {
     "iopub.execute_input": "2022-04-25T05:23:05.499173Z",
     "iopub.status.busy": "2022-04-25T05:23:05.498448Z",
     "iopub.status.idle": "2022-04-25T05:23:47.572864Z",
     "shell.execute_reply": "2022-04-25T05:23:47.572473Z"
    },
    "papermill": {
     "duration": 42.092803,
     "end_time": "2022-04-25T05:23:47.572972",
     "exception": false,
     "start_time": "2022-04-25T05:23:05.480169",
     "status": "completed"
    },
    "tags": []
   },
   "outputs": [],
   "source": [
    "distances = np.load('./data/macosko_distance_matrix.npy')"
   ]
  },
  {
   "cell_type": "code",
   "execution_count": 14,
   "id": "07982c80",
   "metadata": {
    "execution": {
     "iopub.execute_input": "2022-04-25T05:23:47.611226Z",
     "iopub.status.busy": "2022-04-25T05:23:47.610805Z",
     "iopub.status.idle": "2022-04-25T05:23:55.257616Z",
     "shell.execute_reply": "2022-04-25T05:23:55.257918Z"
    },
    "papermill": {
     "duration": 7.665785,
     "end_time": "2022-04-25T05:23:55.258039",
     "exception": false,
     "start_time": "2022-04-25T05:23:47.592254",
     "status": "completed"
    },
    "tags": []
   },
   "outputs": [],
   "source": [
    "adjacency = scipy.sparse.coo_matrix( distances <= 20 , dtype=np.float32)\n",
    "degree = scipy.sparse.diags( adjacency.sum(axis=0).A1 )\n",
    "laplacian = (degree - adjacency).tocoo()"
   ]
  },
  {
   "cell_type": "code",
   "execution_count": 15,
   "id": "882a2a3b",
   "metadata": {
    "execution": {
     "iopub.execute_input": "2022-04-25T05:23:55.293273Z",
     "iopub.status.busy": "2022-04-25T05:23:55.292910Z",
     "iopub.status.idle": "2022-04-25T05:23:55.301873Z",
     "shell.execute_reply": "2022-04-25T05:23:55.301550Z"
    },
    "papermill": {
     "duration": 0.027407,
     "end_time": "2022-04-25T05:23:55.301945",
     "exception": false,
     "start_time": "2022-04-25T05:23:55.274538",
     "status": "completed"
    },
    "tags": []
   },
   "outputs": [],
   "source": [
    "adjacency_sparse_tensor = scipy_sparse_to_pytorch_sparse(adjacency)"
   ]
  },
  {
   "cell_type": "code",
   "execution_count": 16,
   "id": "c981a0c7",
   "metadata": {
    "execution": {
     "iopub.execute_input": "2022-04-25T05:23:55.349937Z",
     "iopub.status.busy": "2022-04-25T05:23:55.349477Z",
     "iopub.status.idle": "2022-04-25T05:23:57.411084Z",
     "shell.execute_reply": "2022-04-25T05:23:57.410711Z"
    },
    "papermill": {
     "duration": 2.093256,
     "end_time": "2022-04-25T05:23:57.411181",
     "exception": false,
     "start_time": "2022-04-25T05:23:55.317925",
     "status": "completed"
    },
    "tags": []
   },
   "outputs": [],
   "source": [
    "adjacency_dense_tensor = adjacency_sparse_tensor.to_dense()"
   ]
  },
  {
   "cell_type": "code",
   "execution_count": 17,
   "id": "859e47c0",
   "metadata": {
    "execution": {
     "iopub.execute_input": "2022-04-25T05:23:57.458043Z",
     "iopub.status.busy": "2022-04-25T05:23:57.457569Z",
     "iopub.status.idle": "2022-04-25T05:23:57.460087Z",
     "shell.execute_reply": "2022-04-25T05:23:57.460575Z"
    },
    "papermill": {
     "duration": 0.032561,
     "end_time": "2022-04-25T05:23:57.460703",
     "exception": false,
     "start_time": "2022-04-25T05:23:57.428142",
     "status": "completed"
    },
    "tags": []
   },
   "outputs": [],
   "source": [
    "def laplacian_loss(x, x_lap):\n",
    "    \n",
    "    lap_sum = 0\n",
    "    for ii in range(x.shape[1]):\n",
    "        lap_sum = lap_sum + (x[:,ii].T @ x_lap @ x[:,ii])\n",
    "        \n",
    "    return lap_sum"
   ]
  },
  {
   "cell_type": "code",
   "execution_count": 18,
   "id": "fda09f6d",
   "metadata": {
    "execution": {
     "iopub.execute_input": "2022-04-25T05:23:57.503225Z",
     "iopub.status.busy": "2022-04-25T05:23:57.502789Z",
     "iopub.status.idle": "2022-04-25T05:23:57.521233Z",
     "shell.execute_reply": "2022-04-25T05:23:57.520893Z"
    },
    "papermill": {
     "duration": 0.044073,
     "end_time": "2022-04-25T05:23:57.521315",
     "exception": false,
     "start_time": "2022-04-25T05:23:57.477242",
     "status": "completed"
    },
    "tags": []
   },
   "outputs": [],
   "source": [
    "mf = MatrixFactorization(mask_sparse_tensor.shape[0], mask_sparse_tensor.shape[1], DECOMP_RANK).to(device=device)"
   ]
  },
  {
   "cell_type": "code",
   "execution_count": 19,
   "id": "e2bf4d6d",
   "metadata": {
    "execution": {
     "iopub.execute_input": "2022-04-25T05:23:57.557558Z",
     "iopub.status.busy": "2022-04-25T05:23:57.557170Z",
     "iopub.status.idle": "2022-04-25T05:23:57.559017Z",
     "shell.execute_reply": "2022-04-25T05:23:57.558643Z"
    },
    "papermill": {
     "duration": 0.021213,
     "end_time": "2022-04-25T05:23:57.559088",
     "exception": false,
     "start_time": "2022-04-25T05:23:57.537875",
     "status": "completed"
    },
    "tags": []
   },
   "outputs": [],
   "source": [
    "import torch.optim as optim\n",
    "\n",
    "optimizer = optim.Adam(mf.parameters(), lr=0.001)"
   ]
  },
  {
   "cell_type": "code",
   "execution_count": 20,
   "id": "2ebf6a06",
   "metadata": {
    "execution": {
     "iopub.execute_input": "2022-04-25T05:23:57.597031Z",
     "iopub.status.busy": "2022-04-25T05:23:57.591856Z",
     "iopub.status.idle": "2022-04-25T06:24:19.562806Z",
     "shell.execute_reply": "2022-04-25T06:24:19.563135Z"
    },
    "papermill": {
     "duration": 3621.988553,
     "end_time": "2022-04-25T06:24:19.563304",
     "exception": false,
     "start_time": "2022-04-25T05:23:57.574751",
     "status": "completed"
    },
    "tags": []
   },
   "outputs": [
    {
     "name": "stdout",
     "output_type": "stream",
     "text": [
      "0\n",
      "215980322.0\n"
     ]
    },
    {
     "name": "stdout",
     "output_type": "stream",
     "text": [
      "1\n",
      "215791037.0\n"
     ]
    },
    {
     "name": "stdout",
     "output_type": "stream",
     "text": [
      "2\n",
      "215301209.0\n"
     ]
    },
    {
     "name": "stdout",
     "output_type": "stream",
     "text": [
      "3\n",
      "214380231.0\n"
     ]
    },
    {
     "name": "stdout",
     "output_type": "stream",
     "text": [
      "4\n",
      "212953967.0\n"
     ]
    },
    {
     "name": "stdout",
     "output_type": "stream",
     "text": [
      "5\n",
      "211015377.0\n"
     ]
    },
    {
     "name": "stdout",
     "output_type": "stream",
     "text": [
      "6\n",
      "208581659.0\n"
     ]
    },
    {
     "name": "stdout",
     "output_type": "stream",
     "text": [
      "7\n",
      "205748401.0\n"
     ]
    },
    {
     "name": "stdout",
     "output_type": "stream",
     "text": [
      "8\n",
      "202623422.0\n"
     ]
    },
    {
     "name": "stdout",
     "output_type": "stream",
     "text": [
      "9\n",
      "199349057.0\n"
     ]
    },
    {
     "name": "stdout",
     "output_type": "stream",
     "text": [
      "10\n",
      "196077815.0\n"
     ]
    },
    {
     "name": "stdout",
     "output_type": "stream",
     "text": [
      "11\n",
      "192948374.0\n"
     ]
    },
    {
     "name": "stdout",
     "output_type": "stream",
     "text": [
      "12\n",
      "190090368.0\n"
     ]
    },
    {
     "name": "stdout",
     "output_type": "stream",
     "text": [
      "13\n",
      "187573271.0\n"
     ]
    },
    {
     "name": "stdout",
     "output_type": "stream",
     "text": [
      "14\n",
      "185386967.0\n"
     ]
    },
    {
     "name": "stdout",
     "output_type": "stream",
     "text": [
      "15\n",
      "183532884.5\n"
     ]
    },
    {
     "name": "stdout",
     "output_type": "stream",
     "text": [
      "16\n",
      "181917097.5\n"
     ]
    },
    {
     "name": "stdout",
     "output_type": "stream",
     "text": [
      "17\n",
      "180477149.0\n"
     ]
    },
    {
     "name": "stdout",
     "output_type": "stream",
     "text": [
      "18\n",
      "179160452.0\n"
     ]
    },
    {
     "name": "stdout",
     "output_type": "stream",
     "text": [
      "19\n",
      "177929798.0\n"
     ]
    },
    {
     "name": "stdout",
     "output_type": "stream",
     "text": [
      "20\n",
      "176755773.0\n"
     ]
    },
    {
     "name": "stdout",
     "output_type": "stream",
     "text": [
      "21\n",
      "175629162.0\n"
     ]
    },
    {
     "name": "stdout",
     "output_type": "stream",
     "text": [
      "22\n",
      "174545831.0\n"
     ]
    },
    {
     "name": "stdout",
     "output_type": "stream",
     "text": [
      "23\n",
      "173494823.0\n"
     ]
    },
    {
     "name": "stdout",
     "output_type": "stream",
     "text": [
      "24\n",
      "172474932.0\n"
     ]
    },
    {
     "name": "stdout",
     "output_type": "stream",
     "text": [
      "25\n",
      "171477906.0\n"
     ]
    },
    {
     "name": "stdout",
     "output_type": "stream",
     "text": [
      "26\n",
      "170506685.0\n"
     ]
    },
    {
     "name": "stdout",
     "output_type": "stream",
     "text": [
      "27\n",
      "169559515.0\n"
     ]
    },
    {
     "name": "stdout",
     "output_type": "stream",
     "text": [
      "28\n",
      "168624198.0\n"
     ]
    },
    {
     "name": "stdout",
     "output_type": "stream",
     "text": [
      "29\n",
      "167712239.0\n"
     ]
    },
    {
     "name": "stdout",
     "output_type": "stream",
     "text": [
      "30\n",
      "166802466.0\n"
     ]
    },
    {
     "name": "stdout",
     "output_type": "stream",
     "text": [
      "31\n",
      "165930265.0\n"
     ]
    },
    {
     "name": "stdout",
     "output_type": "stream",
     "text": [
      "32\n",
      "165062095.0\n"
     ]
    },
    {
     "name": "stdout",
     "output_type": "stream",
     "text": [
      "33\n",
      "164203180.0\n"
     ]
    },
    {
     "name": "stdout",
     "output_type": "stream",
     "text": [
      "34\n",
      "163369347.0\n"
     ]
    },
    {
     "name": "stdout",
     "output_type": "stream",
     "text": [
      "35\n",
      "162527942.0\n"
     ]
    },
    {
     "name": "stdout",
     "output_type": "stream",
     "text": [
      "36\n",
      "161713174.0\n"
     ]
    },
    {
     "name": "stdout",
     "output_type": "stream",
     "text": [
      "37\n",
      "160900326.0\n"
     ]
    },
    {
     "name": "stdout",
     "output_type": "stream",
     "text": [
      "38\n",
      "160106644.0\n"
     ]
    },
    {
     "name": "stdout",
     "output_type": "stream",
     "text": [
      "39\n",
      "159297126.5\n"
     ]
    },
    {
     "name": "stdout",
     "output_type": "stream",
     "text": [
      "40\n",
      "158524564.0\n"
     ]
    },
    {
     "name": "stdout",
     "output_type": "stream",
     "text": [
      "41\n",
      "157757850.0\n"
     ]
    },
    {
     "name": "stdout",
     "output_type": "stream",
     "text": [
      "42\n",
      "156992364.0\n"
     ]
    },
    {
     "name": "stdout",
     "output_type": "stream",
     "text": [
      "43\n",
      "156258072.5\n"
     ]
    },
    {
     "name": "stdout",
     "output_type": "stream",
     "text": [
      "44\n",
      "155510535.0\n"
     ]
    },
    {
     "name": "stdout",
     "output_type": "stream",
     "text": [
      "45\n",
      "154787777.0\n"
     ]
    },
    {
     "name": "stdout",
     "output_type": "stream",
     "text": [
      "46\n",
      "154062726.0\n"
     ]
    },
    {
     "name": "stdout",
     "output_type": "stream",
     "text": [
      "47\n",
      "153369959.0\n"
     ]
    },
    {
     "name": "stdout",
     "output_type": "stream",
     "text": [
      "48\n",
      "152659798.5\n"
     ]
    },
    {
     "name": "stdout",
     "output_type": "stream",
     "text": [
      "49\n",
      "151975932.0\n"
     ]
    }
   ],
   "source": [
    "losses = []\n",
    "\n",
    "for epoch in range(50):\n",
    "    \n",
    "    batcher = data_adjacency_batcher(data_dense_tensor, adjacency_dense_tensor, 5000)\n",
    "    \n",
    "    total_loss = 0\n",
    "    \n",
    "    \n",
    "    for (data_batch, mask_batch, adjacency_batch, row_batch) in batcher:\n",
    "        \n",
    "        \n",
    "        \n",
    "        data_batch = data_batch.to(device=device)\n",
    "        mask_batch = mask_batch.to(device=device)\n",
    "        adjacency_batch = adjacency_batch.to(device=device)\n",
    "        row_batch = row_batch.to(device=device)\n",
    "        \n",
    "        laplacian_tensor = adjacency_to_laplacian(adjacency_batch).to(device=device)\n",
    "    \n",
    "        optimizer.zero_grad()\n",
    "\n",
    "        output = mf.forward(row_batch, torch.arange(0, data_batch.shape[1]))\n",
    "        \n",
    "        L1_laplacian_tensor = adjacency_to_laplacian(adjacency_to_L1_adjacency(output, adjacency_batch, 0.001, device)).to(device=device)\n",
    "        \n",
    "        loss = squared_loss(data_batch[mask_batch], output[mask_batch]) + LAPLACIAN_PARAM*laplacian_loss(output, laplacian_tensor) + TV_PARAM*laplacian_loss(output, L1_laplacian_tensor)\n",
    "        loss.backward()\n",
    "        optimizer.step()\n",
    "        \n",
    "        total_loss += loss.item()\n",
    "        \n",
    "\n",
    "    if epoch % 1 == 0:\n",
    "        print(epoch)\n",
    "        print(total_loss)\n",
    "        \n",
    "    losses.append(total_loss)"
   ]
  },
  {
   "cell_type": "code",
   "execution_count": 21,
   "id": "e48a3a60",
   "metadata": {
    "execution": {
     "iopub.execute_input": "2022-04-25T06:24:19.661585Z",
     "iopub.status.busy": "2022-04-25T06:24:19.653957Z",
     "iopub.status.idle": "2022-04-25T06:24:19.663589Z",
     "shell.execute_reply": "2022-04-25T06:24:19.663940Z"
    },
    "papermill": {
     "duration": 0.063383,
     "end_time": "2022-04-25T06:24:19.664023",
     "exception": false,
     "start_time": "2022-04-25T06:24:19.600640",
     "status": "completed"
    },
    "tags": []
   },
   "outputs": [
    {
     "data": {
      "text/plain": [
       "7342611.0"
      ]
     },
     "execution_count": 21,
     "metadata": {},
     "output_type": "execute_result"
    }
   ],
   "source": [
    "loss.item()"
   ]
  },
  {
   "cell_type": "code",
   "execution_count": 22,
   "id": "2f74a168",
   "metadata": {
    "execution": {
     "iopub.execute_input": "2022-04-25T06:24:19.717247Z",
     "iopub.status.busy": "2022-04-25T06:24:19.716896Z",
     "iopub.status.idle": "2022-04-25T06:24:19.729638Z",
     "shell.execute_reply": "2022-04-25T06:24:19.729330Z"
    },
    "papermill": {
     "duration": 0.040846,
     "end_time": "2022-04-25T06:24:19.729705",
     "exception": false,
     "start_time": "2022-04-25T06:24:19.688859",
     "status": "completed"
    },
    "tags": []
   },
   "outputs": [],
   "source": [
    "np.save(f'./results/loss_curves/mf_rank{DECOMP_RANK}_L{LAPLACIAN_PARAM}_TV{TV_PARAM}_losses', np.array(losses))"
   ]
  },
  {
   "cell_type": "code",
   "execution_count": 23,
   "id": "bbe68e47",
   "metadata": {
    "execution": {
     "iopub.execute_input": "2022-04-25T06:24:19.781958Z",
     "iopub.status.busy": "2022-04-25T06:24:19.780459Z",
     "iopub.status.idle": "2022-04-25T06:24:19.943266Z",
     "shell.execute_reply": "2022-04-25T06:24:19.943786Z"
    },
    "papermill": {
     "duration": 0.189399,
     "end_time": "2022-04-25T06:24:19.943889",
     "exception": false,
     "start_time": "2022-04-25T06:24:19.754490",
     "status": "completed"
    },
    "tags": []
   },
   "outputs": [],
   "source": [
    "torch.save(mf.state_dict(), f'./results/saved_models/mf_rank{DECOMP_RANK}_L{LAPLACIAN_PARAM}_TV{TV_PARAM}_state')"
   ]
  },
  {
   "cell_type": "code",
   "execution_count": 24,
   "id": "7c31daa4",
   "metadata": {
    "execution": {
     "iopub.execute_input": "2022-04-25T06:24:20.027141Z",
     "iopub.status.busy": "2022-04-25T06:24:20.023553Z",
     "iopub.status.idle": "2022-04-25T06:28:18.507825Z",
     "shell.execute_reply": "2022-04-25T06:28:18.504916Z"
    },
    "papermill": {
     "duration": 238.537395,
     "end_time": "2022-04-25T06:28:18.508691",
     "exception": false,
     "start_time": "2022-04-25T06:24:19.971296",
     "status": "completed"
    },
    "tags": []
   },
   "outputs": [],
   "source": [
    "final_output = mf.forward(torch.arange(0, data_dense_tensor.shape[0]), torch.arange(0, data_dense_tensor.shape[1]))\n",
    "\n",
    "final_squared_error = squared_loss(data_dense_tensor, final_output)\n",
    "final_laplacian = laplacian_loss(final_output, adjacency_to_laplacian(adjacency_dense_tensor).to(device=device))\n",
    "final_TV =  laplacian_loss(final_output, adjacency_to_laplacian(adjacency_to_L1_adjacency(final_output, adjacency_dense_tensor, 0.001, device)).to(device=device))"
   ]
  },
  {
   "cell_type": "code",
   "execution_count": 25,
   "id": "025c628b",
   "metadata": {
    "execution": {
     "iopub.execute_input": "2022-04-25T06:28:18.613174Z",
     "iopub.status.busy": "2022-04-25T06:28:18.608401Z",
     "iopub.status.idle": "2022-04-25T06:28:19.565961Z",
     "shell.execute_reply": "2022-04-25T06:28:19.565333Z"
    },
    "papermill": {
     "duration": 1.013267,
     "end_time": "2022-04-25T06:28:19.566045",
     "exception": false,
     "start_time": "2022-04-25T06:28:18.552778",
     "status": "completed"
    },
    "tags": []
   },
   "outputs": [],
   "source": [
    "np.save(f'./results/final_losses/mf_rank{DECOMP_RANK}_L{LAPLACIAN_PARAM}_TV{TV_PARAM}_losses', np.array([final_squared_error.item(), final_laplacian.item(), final_TV.item()]))"
   ]
  },
  {
   "cell_type": "code",
   "execution_count": null,
   "id": "ea70d530",
   "metadata": {
    "papermill": {
     "duration": 0.02548,
     "end_time": "2022-04-25T06:28:19.618536",
     "exception": false,
     "start_time": "2022-04-25T06:28:19.593056",
     "status": "completed"
    },
    "tags": []
   },
   "outputs": [],
   "source": []
  }
 ],
 "metadata": {
  "interpreter": {
   "hash": "22ee4ece52021b4a120b95b326dd7a4d7938576e919f53927a7959ab5d7e1e45"
  },
  "kernelspec": {
   "display_name": "spatialSFT",
   "language": "python",
   "name": "spatialsft"
  },
  "language_info": {
   "codemirror_mode": {
    "name": "ipython",
    "version": 3
   },
   "file_extension": ".py",
   "mimetype": "text/x-python",
   "name": "python",
   "nbconvert_exporter": "python",
   "pygments_lexer": "ipython3",
   "version": "3.8.0"
  },
  "papermill": {
   "default_parameters": {},
   "duration": 3958.963393,
   "end_time": "2022-04-25T06:28:27.167872",
   "environment_variables": {},
   "exception": null,
   "input_path": "./notebooks/mf_param_template.ipynb",
   "output_path": "./papermill_output/mf_param_template_rank100_lap0.1_tv0.00001.ipynb",
   "parameters": {
    "DECOMP_RANK": 100,
    "LAPLACIAN_PARAM": 0.1,
    "TV_PARAM": 1e-05
   },
   "start_time": "2022-04-25T05:22:28.204479",
   "version": "2.3.4"
  }
 },
 "nbformat": 4,
 "nbformat_minor": 5
}