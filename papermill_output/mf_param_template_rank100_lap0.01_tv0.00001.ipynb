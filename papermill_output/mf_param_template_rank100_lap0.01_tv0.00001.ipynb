{
 "cells": [
  {
   "cell_type": "markdown",
   "id": "696d3ab9",
   "metadata": {
    "papermill": {
     "duration": 0.015169,
     "end_time": "2022-04-25T10:47:22.707168",
     "exception": false,
     "start_time": "2022-04-25T10:47:22.691999",
     "status": "completed"
    },
    "tags": []
   },
   "source": [
    "### setup"
   ]
  },
  {
   "cell_type": "code",
   "execution_count": 1,
   "id": "9ea154ef",
   "metadata": {
    "execution": {
     "iopub.execute_input": "2022-04-25T10:47:22.736480Z",
     "iopub.status.busy": "2022-04-25T10:47:22.736121Z",
     "iopub.status.idle": "2022-04-25T10:47:27.031963Z",
     "shell.execute_reply": "2022-04-25T10:47:27.031491Z"
    },
    "papermill": {
     "duration": 4.311084,
     "end_time": "2022-04-25T10:47:27.032075",
     "exception": false,
     "start_time": "2022-04-25T10:47:22.720991",
     "status": "completed"
    },
    "tags": []
   },
   "outputs": [],
   "source": [
    "import numpy as np \n",
    "import matplotlib.pyplot as plt\n",
    "import pandas as pd\n",
    "\n",
    "import scipy\n",
    "\n",
    "\n",
    "from utils import *\n",
    "from pytorch_sparse_utils import *\n",
    "\n",
    "\n",
    "import torch\n",
    "from torch import nn\n",
    "import torch.nn.functional as F"
   ]
  },
  {
   "cell_type": "markdown",
   "id": "5cb897ce",
   "metadata": {
    "papermill": {
     "duration": 0.015324,
     "end_time": "2022-04-25T10:47:27.063582",
     "exception": false,
     "start_time": "2022-04-25T10:47:27.048258",
     "status": "completed"
    },
    "tags": []
   },
   "source": [
    "### set parameters"
   ]
  },
  {
   "cell_type": "code",
   "execution_count": 2,
   "id": "ff531161",
   "metadata": {
    "execution": {
     "iopub.execute_input": "2022-04-25T10:47:27.096620Z",
     "iopub.status.busy": "2022-04-25T10:47:27.095651Z",
     "iopub.status.idle": "2022-04-25T10:47:27.097576Z",
     "shell.execute_reply": "2022-04-25T10:47:27.097118Z"
    },
    "papermill": {
     "duration": 0.019937,
     "end_time": "2022-04-25T10:47:27.097772",
     "exception": false,
     "start_time": "2022-04-25T10:47:27.077835",
     "status": "completed"
    },
    "tags": [
     "parameters"
    ]
   },
   "outputs": [],
   "source": [
    "DECOMP_RANK = 10\n",
    "LAPLACIAN_PARAM = 0.001\n",
    "TV_PARAM = 0.001"
   ]
  },
  {
   "cell_type": "code",
   "execution_count": 3,
   "id": "5eefd38e",
   "metadata": {
    "execution": {
     "iopub.execute_input": "2022-04-25T10:47:27.310837Z",
     "iopub.status.busy": "2022-04-25T10:47:27.310431Z",
     "iopub.status.idle": "2022-04-25T10:47:27.331327Z",
     "shell.execute_reply": "2022-04-25T10:47:27.330909Z"
    },
    "papermill": {
     "duration": 0.130408,
     "end_time": "2022-04-25T10:47:27.331447",
     "exception": false,
     "start_time": "2022-04-25T10:47:27.201039",
     "status": "completed"
    },
    "tags": [
     "injected-parameters"
    ]
   },
   "outputs": [],
   "source": [
    "# Parameters\n",
    "DECOMP_RANK = 100\n",
    "LAPLACIAN_PARAM = 0.01\n",
    "TV_PARAM = 1e-05\n"
   ]
  },
  {
   "cell_type": "code",
   "execution_count": 4,
   "id": "2d8ffb1a",
   "metadata": {
    "execution": {
     "iopub.execute_input": "2022-04-25T10:47:45.245290Z",
     "iopub.status.busy": "2022-04-25T10:47:27.378102Z",
     "iopub.status.idle": "2022-04-25T10:47:45.254761Z",
     "shell.execute_reply": "2022-04-25T10:47:45.255066Z"
    },
    "papermill": {
     "duration": 17.892745,
     "end_time": "2022-04-25T10:47:45.255254",
     "exception": false,
     "start_time": "2022-04-25T10:47:27.362509",
     "status": "completed"
    },
    "tags": []
   },
   "outputs": [
    {
     "name": "stdout",
     "output_type": "stream",
     "text": [
      "Using cuda device\n"
     ]
    }
   ],
   "source": [
    "device = 'cuda' if torch.cuda.is_available() else 'cpu'\n",
    "print('Using {} device'.format(device))"
   ]
  },
  {
   "cell_type": "markdown",
   "id": "0f956f84",
   "metadata": {
    "papermill": {
     "duration": 0.099656,
     "end_time": "2022-04-25T10:47:45.433381",
     "exception": false,
     "start_time": "2022-04-25T10:47:45.333725",
     "status": "completed"
    },
    "tags": []
   },
   "source": [
    "### loading data"
   ]
  },
  {
   "cell_type": "code",
   "execution_count": 5,
   "id": "a23877bf",
   "metadata": {
    "execution": {
     "iopub.execute_input": "2022-04-25T10:47:45.473078Z",
     "iopub.status.busy": "2022-04-25T10:47:45.472628Z",
     "iopub.status.idle": "2022-04-25T10:47:47.718483Z",
     "shell.execute_reply": "2022-04-25T10:47:47.718810Z"
    },
    "papermill": {
     "duration": 2.267206,
     "end_time": "2022-04-25T10:47:47.718978",
     "exception": false,
     "start_time": "2022-04-25T10:47:45.451772",
     "status": "completed"
    },
    "tags": []
   },
   "outputs": [
    {
     "data": {
      "text/html": [
       "<div>\n",
       "<style scoped>\n",
       "    .dataframe tbody tr th:only-of-type {\n",
       "        vertical-align: middle;\n",
       "    }\n",
       "\n",
       "    .dataframe tbody tr th {\n",
       "        vertical-align: top;\n",
       "    }\n",
       "\n",
       "    .dataframe thead th {\n",
       "        text-align: right;\n",
       "    }\n",
       "</style>\n",
       "<table border=\"1\" class=\"dataframe\">\n",
       "  <thead>\n",
       "    <tr style=\"text-align: right;\">\n",
       "      <th></th>\n",
       "      <th>1110008P14Rik</th>\n",
       "      <th>1500009C09Rik</th>\n",
       "      <th>1500012F01Rik</th>\n",
       "      <th>1700020I14Rik</th>\n",
       "      <th>2010107E04Rik</th>\n",
       "      <th>2010300C02Rik</th>\n",
       "      <th>2210016L21Rik</th>\n",
       "      <th>2310036O22Rik</th>\n",
       "      <th>2900011O08Rik</th>\n",
       "      <th>3110035E14Rik</th>\n",
       "      <th>...</th>\n",
       "      <th>Zrsr1</th>\n",
       "      <th>Zwint</th>\n",
       "      <th>mt-Co1</th>\n",
       "      <th>mt-Cytb</th>\n",
       "      <th>mt-Nd1</th>\n",
       "      <th>mt-Nd2</th>\n",
       "      <th>mt-Nd4</th>\n",
       "      <th>mt-Nd5</th>\n",
       "      <th>mt-Rnr1</th>\n",
       "      <th>mt-Rnr2</th>\n",
       "    </tr>\n",
       "  </thead>\n",
       "  <tbody>\n",
       "    <tr>\n",
       "      <th>AAAAAAAGGTAGTA</th>\n",
       "      <td>0</td>\n",
       "      <td>0</td>\n",
       "      <td>0</td>\n",
       "      <td>0</td>\n",
       "      <td>0</td>\n",
       "      <td>0</td>\n",
       "      <td>0</td>\n",
       "      <td>0</td>\n",
       "      <td>0</td>\n",
       "      <td>0</td>\n",
       "      <td>...</td>\n",
       "      <td>0</td>\n",
       "      <td>0</td>\n",
       "      <td>0</td>\n",
       "      <td>0</td>\n",
       "      <td>0</td>\n",
       "      <td>0</td>\n",
       "      <td>0</td>\n",
       "      <td>0</td>\n",
       "      <td>1</td>\n",
       "      <td>0</td>\n",
       "    </tr>\n",
       "    <tr>\n",
       "      <th>AAAAAAAGTCCCAA</th>\n",
       "      <td>0</td>\n",
       "      <td>0</td>\n",
       "      <td>0</td>\n",
       "      <td>0</td>\n",
       "      <td>0</td>\n",
       "      <td>0</td>\n",
       "      <td>0</td>\n",
       "      <td>0</td>\n",
       "      <td>0</td>\n",
       "      <td>0</td>\n",
       "      <td>...</td>\n",
       "      <td>0</td>\n",
       "      <td>0</td>\n",
       "      <td>2</td>\n",
       "      <td>2</td>\n",
       "      <td>5</td>\n",
       "      <td>0</td>\n",
       "      <td>1</td>\n",
       "      <td>0</td>\n",
       "      <td>2</td>\n",
       "      <td>4</td>\n",
       "    </tr>\n",
       "    <tr>\n",
       "      <th>AAAAAAATCTTAGT</th>\n",
       "      <td>0</td>\n",
       "      <td>0</td>\n",
       "      <td>0</td>\n",
       "      <td>0</td>\n",
       "      <td>0</td>\n",
       "      <td>0</td>\n",
       "      <td>0</td>\n",
       "      <td>0</td>\n",
       "      <td>0</td>\n",
       "      <td>0</td>\n",
       "      <td>...</td>\n",
       "      <td>0</td>\n",
       "      <td>0</td>\n",
       "      <td>0</td>\n",
       "      <td>0</td>\n",
       "      <td>0</td>\n",
       "      <td>0</td>\n",
       "      <td>0</td>\n",
       "      <td>0</td>\n",
       "      <td>0</td>\n",
       "      <td>0</td>\n",
       "    </tr>\n",
       "    <tr>\n",
       "      <th>AAAAAACATCTTTC</th>\n",
       "      <td>0</td>\n",
       "      <td>0</td>\n",
       "      <td>0</td>\n",
       "      <td>0</td>\n",
       "      <td>0</td>\n",
       "      <td>0</td>\n",
       "      <td>0</td>\n",
       "      <td>0</td>\n",
       "      <td>0</td>\n",
       "      <td>0</td>\n",
       "      <td>...</td>\n",
       "      <td>0</td>\n",
       "      <td>0</td>\n",
       "      <td>0</td>\n",
       "      <td>0</td>\n",
       "      <td>0</td>\n",
       "      <td>0</td>\n",
       "      <td>0</td>\n",
       "      <td>0</td>\n",
       "      <td>1</td>\n",
       "      <td>0</td>\n",
       "    </tr>\n",
       "    <tr>\n",
       "      <th>AAAAAACGAAATAG</th>\n",
       "      <td>0</td>\n",
       "      <td>0</td>\n",
       "      <td>0</td>\n",
       "      <td>0</td>\n",
       "      <td>0</td>\n",
       "      <td>0</td>\n",
       "      <td>0</td>\n",
       "      <td>0</td>\n",
       "      <td>0</td>\n",
       "      <td>0</td>\n",
       "      <td>...</td>\n",
       "      <td>0</td>\n",
       "      <td>0</td>\n",
       "      <td>1</td>\n",
       "      <td>0</td>\n",
       "      <td>0</td>\n",
       "      <td>0</td>\n",
       "      <td>0</td>\n",
       "      <td>0</td>\n",
       "      <td>0</td>\n",
       "      <td>0</td>\n",
       "    </tr>\n",
       "  </tbody>\n",
       "</table>\n",
       "<p>5 rows × 1222 columns</p>\n",
       "</div>"
      ],
      "text/plain": [
       "                1110008P14Rik  1500009C09Rik  1500012F01Rik  1700020I14Rik  \\\n",
       "AAAAAAAGGTAGTA              0              0              0              0   \n",
       "AAAAAAAGTCCCAA              0              0              0              0   \n",
       "AAAAAAATCTTAGT              0              0              0              0   \n",
       "AAAAAACATCTTTC              0              0              0              0   \n",
       "AAAAAACGAAATAG              0              0              0              0   \n",
       "\n",
       "                2010107E04Rik  2010300C02Rik  2210016L21Rik  2310036O22Rik  \\\n",
       "AAAAAAAGGTAGTA              0              0              0              0   \n",
       "AAAAAAAGTCCCAA              0              0              0              0   \n",
       "AAAAAAATCTTAGT              0              0              0              0   \n",
       "AAAAAACATCTTTC              0              0              0              0   \n",
       "AAAAAACGAAATAG              0              0              0              0   \n",
       "\n",
       "                2900011O08Rik  3110035E14Rik  ...  Zrsr1  Zwint  mt-Co1  \\\n",
       "AAAAAAAGGTAGTA              0              0  ...      0      0       0   \n",
       "AAAAAAAGTCCCAA              0              0  ...      0      0       2   \n",
       "AAAAAAATCTTAGT              0              0  ...      0      0       0   \n",
       "AAAAAACATCTTTC              0              0  ...      0      0       0   \n",
       "AAAAAACGAAATAG              0              0  ...      0      0       1   \n",
       "\n",
       "                mt-Cytb  mt-Nd1  mt-Nd2  mt-Nd4  mt-Nd5  mt-Rnr1  mt-Rnr2  \n",
       "AAAAAAAGGTAGTA        0       0       0       0       0        1        0  \n",
       "AAAAAAAGTCCCAA        2       5       0       1       0        2        4  \n",
       "AAAAAAATCTTAGT        0       0       0       0       0        0        0  \n",
       "AAAAAACATCTTTC        0       0       0       0       0        1        0  \n",
       "AAAAAACGAAATAG        0       0       0       0       0        0        0  \n",
       "\n",
       "[5 rows x 1222 columns]"
      ]
     },
     "execution_count": 5,
     "metadata": {},
     "output_type": "execute_result"
    }
   ],
   "source": [
    "bead_reads_subset = pd.read_csv('./data/bead_reads_subset.csv', index_col='Unnamed: 0')\n",
    "bead_reads_subset.head()"
   ]
  },
  {
   "cell_type": "code",
   "execution_count": 6,
   "id": "07030485",
   "metadata": {
    "execution": {
     "iopub.execute_input": "2022-04-25T10:47:47.754068Z",
     "iopub.status.busy": "2022-04-25T10:47:47.753534Z",
     "iopub.status.idle": "2022-04-25T10:47:48.295346Z",
     "shell.execute_reply": "2022-04-25T10:47:48.294870Z"
    },
    "papermill": {
     "duration": 0.559958,
     "end_time": "2022-04-25T10:47:48.295461",
     "exception": false,
     "start_time": "2022-04-25T10:47:47.735503",
     "status": "completed"
    },
    "tags": []
   },
   "outputs": [],
   "source": [
    "data_scipy_sparse = scipy.sparse.coo_matrix( bead_reads_subset.to_numpy() )"
   ]
  },
  {
   "cell_type": "code",
   "execution_count": 7,
   "id": "63186343",
   "metadata": {
    "execution": {
     "iopub.execute_input": "2022-04-25T10:47:48.330069Z",
     "iopub.status.busy": "2022-04-25T10:47:48.329671Z",
     "iopub.status.idle": "2022-04-25T10:47:53.464575Z",
     "shell.execute_reply": "2022-04-25T10:47:53.464954Z"
    },
    "papermill": {
     "duration": 5.154013,
     "end_time": "2022-04-25T10:47:53.465104",
     "exception": false,
     "start_time": "2022-04-25T10:47:48.311091",
     "status": "completed"
    },
    "tags": []
   },
   "outputs": [],
   "source": [
    "data_sparse_tensor = scipy_sparse_to_pytorch_sparse(data_scipy_sparse).to(device=device)"
   ]
  },
  {
   "cell_type": "code",
   "execution_count": 8,
   "id": "cb5315fe",
   "metadata": {
    "execution": {
     "iopub.execute_input": "2022-04-25T10:47:53.500614Z",
     "iopub.status.busy": "2022-04-25T10:47:53.500235Z",
     "iopub.status.idle": "2022-04-25T10:47:53.509214Z",
     "shell.execute_reply": "2022-04-25T10:47:53.509590Z"
    },
    "papermill": {
     "duration": 0.028629,
     "end_time": "2022-04-25T10:47:53.509711",
     "exception": false,
     "start_time": "2022-04-25T10:47:53.481082",
     "status": "completed"
    },
    "tags": []
   },
   "outputs": [
    {
     "data": {
      "text/plain": [
       "tensor(indices=tensor([[    0,     0,     0,  ..., 53207, 53207, 53207],\n",
       "                       [   84,   412,   528,  ...,  1219,  1220,  1221]]),\n",
       "       values=tensor([ 1.,  1.,  1.,  ..., 12., 26., 71.]),\n",
       "       device='cuda:0', size=(53208, 1222), nnz=9552845, layout=torch.sparse_coo)"
      ]
     },
     "execution_count": 8,
     "metadata": {},
     "output_type": "execute_result"
    }
   ],
   "source": [
    "data_sparse_tensor"
   ]
  },
  {
   "cell_type": "code",
   "execution_count": 9,
   "id": "806fe7e0",
   "metadata": {
    "execution": {
     "iopub.execute_input": "2022-04-25T10:47:53.543157Z",
     "iopub.status.busy": "2022-04-25T10:47:53.542784Z",
     "iopub.status.idle": "2022-04-25T10:47:53.546436Z",
     "shell.execute_reply": "2022-04-25T10:47:53.546071Z"
    },
    "papermill": {
     "duration": 0.021672,
     "end_time": "2022-04-25T10:47:53.546522",
     "exception": false,
     "start_time": "2022-04-25T10:47:53.524850",
     "status": "completed"
    },
    "tags": []
   },
   "outputs": [],
   "source": [
    "data_dense_tensor = data_sparse_tensor.to_dense()"
   ]
  },
  {
   "cell_type": "code",
   "execution_count": 10,
   "id": "80ae51d2",
   "metadata": {
    "execution": {
     "iopub.execute_input": "2022-04-25T10:47:53.579878Z",
     "iopub.status.busy": "2022-04-25T10:47:53.579507Z",
     "iopub.status.idle": "2022-04-25T10:47:53.707911Z",
     "shell.execute_reply": "2022-04-25T10:47:53.708241Z"
    },
    "papermill": {
     "duration": 0.146976,
     "end_time": "2022-04-25T10:47:53.708343",
     "exception": false,
     "start_time": "2022-04-25T10:47:53.561367",
     "status": "completed"
    },
    "tags": []
   },
   "outputs": [],
   "source": [
    "mask_scipy_sparse = (data_scipy_sparse != 0).astype(np.int64).tocoo()"
   ]
  },
  {
   "cell_type": "code",
   "execution_count": 11,
   "id": "eb4cfc73",
   "metadata": {
    "execution": {
     "iopub.execute_input": "2022-04-25T10:47:53.741180Z",
     "iopub.status.busy": "2022-04-25T10:47:53.740730Z",
     "iopub.status.idle": "2022-04-25T10:47:53.837356Z",
     "shell.execute_reply": "2022-04-25T10:47:53.837996Z"
    },
    "papermill": {
     "duration": 0.114717,
     "end_time": "2022-04-25T10:47:53.838166",
     "exception": false,
     "start_time": "2022-04-25T10:47:53.723449",
     "status": "completed"
    },
    "tags": []
   },
   "outputs": [],
   "source": [
    "mask_sparse_tensor = scipy_sparse_to_pytorch_sparse(mask_scipy_sparse)"
   ]
  },
  {
   "cell_type": "code",
   "execution_count": 12,
   "id": "5d4d6a20",
   "metadata": {
    "execution": {
     "iopub.execute_input": "2022-04-25T10:47:53.876902Z",
     "iopub.status.busy": "2022-04-25T10:47:53.876442Z",
     "iopub.status.idle": "2022-04-25T10:47:54.874542Z",
     "shell.execute_reply": "2022-04-25T10:47:54.873858Z"
    },
    "papermill": {
     "duration": 1.019327,
     "end_time": "2022-04-25T10:47:54.874648",
     "exception": false,
     "start_time": "2022-04-25T10:47:53.855321",
     "status": "completed"
    },
    "tags": []
   },
   "outputs": [],
   "source": [
    "mask_dense_tensor = mask_sparse_tensor.to_dense().bool()"
   ]
  },
  {
   "cell_type": "code",
   "execution_count": 13,
   "id": "525a0062",
   "metadata": {
    "execution": {
     "iopub.execute_input": "2022-04-25T10:47:54.927516Z",
     "iopub.status.busy": "2022-04-25T10:47:54.927060Z",
     "iopub.status.idle": "2022-04-25T10:48:19.122776Z",
     "shell.execute_reply": "2022-04-25T10:48:19.122319Z"
    },
    "papermill": {
     "duration": 24.227007,
     "end_time": "2022-04-25T10:48:19.122903",
     "exception": false,
     "start_time": "2022-04-25T10:47:54.895896",
     "status": "completed"
    },
    "tags": []
   },
   "outputs": [],
   "source": [
    "distances = np.load('./data/macosko_distance_matrix.npy')"
   ]
  },
  {
   "cell_type": "code",
   "execution_count": 14,
   "id": "ed91b982",
   "metadata": {
    "execution": {
     "iopub.execute_input": "2022-04-25T10:48:19.160670Z",
     "iopub.status.busy": "2022-04-25T10:48:19.160239Z",
     "iopub.status.idle": "2022-04-25T10:48:26.987285Z",
     "shell.execute_reply": "2022-04-25T10:48:26.986796Z"
    },
    "papermill": {
     "duration": 7.846061,
     "end_time": "2022-04-25T10:48:26.987395",
     "exception": false,
     "start_time": "2022-04-25T10:48:19.141334",
     "status": "completed"
    },
    "tags": []
   },
   "outputs": [],
   "source": [
    "adjacency = scipy.sparse.coo_matrix( distances <= 20 , dtype=np.float32)\n",
    "degree = scipy.sparse.diags( adjacency.sum(axis=0).A1 )\n",
    "laplacian = (degree - adjacency).tocoo()"
   ]
  },
  {
   "cell_type": "code",
   "execution_count": 15,
   "id": "b61f546a",
   "metadata": {
    "execution": {
     "iopub.execute_input": "2022-04-25T10:48:27.030201Z",
     "iopub.status.busy": "2022-04-25T10:48:27.029766Z",
     "iopub.status.idle": "2022-04-25T10:48:27.061304Z",
     "shell.execute_reply": "2022-04-25T10:48:27.061789Z"
    },
    "papermill": {
     "duration": 0.05819,
     "end_time": "2022-04-25T10:48:27.061905",
     "exception": false,
     "start_time": "2022-04-25T10:48:27.003715",
     "status": "completed"
    },
    "tags": []
   },
   "outputs": [],
   "source": [
    "adjacency_sparse_tensor = scipy_sparse_to_pytorch_sparse(adjacency)"
   ]
  },
  {
   "cell_type": "code",
   "execution_count": 16,
   "id": "dae79352",
   "metadata": {
    "execution": {
     "iopub.execute_input": "2022-04-25T10:48:27.097246Z",
     "iopub.status.busy": "2022-04-25T10:48:27.096823Z",
     "iopub.status.idle": "2022-04-25T10:48:29.505365Z",
     "shell.execute_reply": "2022-04-25T10:48:29.504960Z"
    },
    "papermill": {
     "duration": 2.427289,
     "end_time": "2022-04-25T10:48:29.505480",
     "exception": false,
     "start_time": "2022-04-25T10:48:27.078191",
     "status": "completed"
    },
    "tags": []
   },
   "outputs": [],
   "source": [
    "adjacency_dense_tensor = adjacency_sparse_tensor.to_dense()"
   ]
  },
  {
   "cell_type": "code",
   "execution_count": 17,
   "id": "edf4f376",
   "metadata": {
    "execution": {
     "iopub.execute_input": "2022-04-25T10:48:29.541662Z",
     "iopub.status.busy": "2022-04-25T10:48:29.541256Z",
     "iopub.status.idle": "2022-04-25T10:48:29.542682Z",
     "shell.execute_reply": "2022-04-25T10:48:29.543008Z"
    },
    "papermill": {
     "duration": 0.021771,
     "end_time": "2022-04-25T10:48:29.543107",
     "exception": false,
     "start_time": "2022-04-25T10:48:29.521336",
     "status": "completed"
    },
    "tags": []
   },
   "outputs": [],
   "source": [
    "def laplacian_loss(x, x_lap):\n",
    "    \n",
    "    lap_sum = 0\n",
    "    for ii in range(x.shape[1]):\n",
    "        lap_sum = lap_sum + (x[:,ii].T @ x_lap @ x[:,ii])\n",
    "        \n",
    "    return lap_sum"
   ]
  },
  {
   "cell_type": "code",
   "execution_count": 18,
   "id": "afe85542",
   "metadata": {
    "execution": {
     "iopub.execute_input": "2022-04-25T10:48:29.576383Z",
     "iopub.status.busy": "2022-04-25T10:48:29.576012Z",
     "iopub.status.idle": "2022-04-25T10:48:29.589674Z",
     "shell.execute_reply": "2022-04-25T10:48:29.589993Z"
    },
    "papermill": {
     "duration": 0.031516,
     "end_time": "2022-04-25T10:48:29.590088",
     "exception": false,
     "start_time": "2022-04-25T10:48:29.558572",
     "status": "completed"
    },
    "tags": []
   },
   "outputs": [],
   "source": [
    "mf = MatrixFactorization(mask_sparse_tensor.shape[0], mask_sparse_tensor.shape[1], DECOMP_RANK).to(device=device)"
   ]
  },
  {
   "cell_type": "code",
   "execution_count": 19,
   "id": "e8af8ee3",
   "metadata": {
    "execution": {
     "iopub.execute_input": "2022-04-25T10:48:29.637314Z",
     "iopub.status.busy": "2022-04-25T10:48:29.636936Z",
     "iopub.status.idle": "2022-04-25T10:48:29.640025Z",
     "shell.execute_reply": "2022-04-25T10:48:29.639665Z"
    },
    "papermill": {
     "duration": 0.03037,
     "end_time": "2022-04-25T10:48:29.640099",
     "exception": false,
     "start_time": "2022-04-25T10:48:29.609729",
     "status": "completed"
    },
    "tags": []
   },
   "outputs": [],
   "source": [
    "import torch.optim as optim\n",
    "\n",
    "optimizer = optim.Adam(mf.parameters(), lr=0.001)"
   ]
  },
  {
   "cell_type": "code",
   "execution_count": 20,
   "id": "5c561190",
   "metadata": {
    "execution": {
     "iopub.execute_input": "2022-04-25T10:48:29.676686Z",
     "iopub.status.busy": "2022-04-25T10:48:29.676321Z",
     "iopub.status.idle": "2022-04-25T11:47:32.414671Z",
     "shell.execute_reply": "2022-04-25T11:47:32.415078Z"
    },
    "papermill": {
     "duration": 3542.763075,
     "end_time": "2022-04-25T11:47:32.418813",
     "exception": false,
     "start_time": "2022-04-25T10:48:29.655738",
     "status": "completed"
    },
    "tags": []
   },
   "outputs": [
    {
     "name": "stdout",
     "output_type": "stream",
     "text": [
      "0\n",
      "215980317.0\n"
     ]
    },
    {
     "name": "stdout",
     "output_type": "stream",
     "text": [
      "1\n",
      "215791096.0\n"
     ]
    },
    {
     "name": "stdout",
     "output_type": "stream",
     "text": [
      "2\n",
      "215302707.0\n"
     ]
    },
    {
     "name": "stdout",
     "output_type": "stream",
     "text": [
      "3\n",
      "214376573.0\n"
     ]
    },
    {
     "name": "stdout",
     "output_type": "stream",
     "text": [
      "4\n",
      "212955056.0\n"
     ]
    },
    {
     "name": "stdout",
     "output_type": "stream",
     "text": [
      "5\n",
      "211010659.0\n"
     ]
    },
    {
     "name": "stdout",
     "output_type": "stream",
     "text": [
      "6\n",
      "208577658.0\n"
     ]
    },
    {
     "name": "stdout",
     "output_type": "stream",
     "text": [
      "7\n",
      "205744260.0\n"
     ]
    },
    {
     "name": "stdout",
     "output_type": "stream",
     "text": [
      "8\n",
      "202615889.0\n"
     ]
    },
    {
     "name": "stdout",
     "output_type": "stream",
     "text": [
      "9\n",
      "199341240.0\n"
     ]
    },
    {
     "name": "stdout",
     "output_type": "stream",
     "text": [
      "10\n",
      "196071706.0\n"
     ]
    },
    {
     "name": "stdout",
     "output_type": "stream",
     "text": [
      "11\n",
      "192946557.0\n"
     ]
    },
    {
     "name": "stdout",
     "output_type": "stream",
     "text": [
      "12\n",
      "190086580.0\n"
     ]
    },
    {
     "name": "stdout",
     "output_type": "stream",
     "text": [
      "13\n",
      "187559338.0\n"
     ]
    },
    {
     "name": "stdout",
     "output_type": "stream",
     "text": [
      "14\n",
      "185377925.0\n"
     ]
    },
    {
     "name": "stdout",
     "output_type": "stream",
     "text": [
      "15\n",
      "183518842.5\n"
     ]
    },
    {
     "name": "stdout",
     "output_type": "stream",
     "text": [
      "16\n",
      "181874138.0\n"
     ]
    },
    {
     "name": "stdout",
     "output_type": "stream",
     "text": [
      "17\n",
      "180422697.0\n"
     ]
    },
    {
     "name": "stdout",
     "output_type": "stream",
     "text": [
      "18\n",
      "179091369.0\n"
     ]
    },
    {
     "name": "stdout",
     "output_type": "stream",
     "text": [
      "19\n",
      "177837033.0\n"
     ]
    },
    {
     "name": "stdout",
     "output_type": "stream",
     "text": [
      "20\n",
      "176636759.0\n"
     ]
    },
    {
     "name": "stdout",
     "output_type": "stream",
     "text": [
      "21\n",
      "175491692.0\n"
     ]
    },
    {
     "name": "stdout",
     "output_type": "stream",
     "text": [
      "22\n",
      "174384444.0\n"
     ]
    },
    {
     "name": "stdout",
     "output_type": "stream",
     "text": [
      "23\n",
      "173310289.0\n"
     ]
    },
    {
     "name": "stdout",
     "output_type": "stream",
     "text": [
      "24\n",
      "172269805.0\n"
     ]
    },
    {
     "name": "stdout",
     "output_type": "stream",
     "text": [
      "25\n",
      "171258097.0\n"
     ]
    },
    {
     "name": "stdout",
     "output_type": "stream",
     "text": [
      "26\n",
      "170257325.0\n"
     ]
    },
    {
     "name": "stdout",
     "output_type": "stream",
     "text": [
      "27\n",
      "169292914.0\n"
     ]
    },
    {
     "name": "stdout",
     "output_type": "stream",
     "text": [
      "28\n",
      "168334992.0\n"
     ]
    },
    {
     "name": "stdout",
     "output_type": "stream",
     "text": [
      "29\n",
      "167407070.0\n"
     ]
    },
    {
     "name": "stdout",
     "output_type": "stream",
     "text": [
      "30\n",
      "166491020.5\n"
     ]
    },
    {
     "name": "stdout",
     "output_type": "stream",
     "text": [
      "31\n",
      "165581894.0\n"
     ]
    },
    {
     "name": "stdout",
     "output_type": "stream",
     "text": [
      "32\n",
      "164694492.0\n"
     ]
    },
    {
     "name": "stdout",
     "output_type": "stream",
     "text": [
      "33\n",
      "163817904.0\n"
     ]
    },
    {
     "name": "stdout",
     "output_type": "stream",
     "text": [
      "34\n",
      "162957204.5\n"
     ]
    },
    {
     "name": "stdout",
     "output_type": "stream",
     "text": [
      "35\n",
      "162109014.0\n"
     ]
    },
    {
     "name": "stdout",
     "output_type": "stream",
     "text": [
      "36\n",
      "161270382.0\n"
     ]
    },
    {
     "name": "stdout",
     "output_type": "stream",
     "text": [
      "37\n",
      "160434754.0\n"
     ]
    },
    {
     "name": "stdout",
     "output_type": "stream",
     "text": [
      "38\n",
      "159625904.0\n"
     ]
    },
    {
     "name": "stdout",
     "output_type": "stream",
     "text": [
      "39\n",
      "158814911.0\n"
     ]
    },
    {
     "name": "stdout",
     "output_type": "stream",
     "text": [
      "40\n",
      "158019714.5\n"
     ]
    },
    {
     "name": "stdout",
     "output_type": "stream",
     "text": [
      "41\n",
      "157241031.0\n"
     ]
    },
    {
     "name": "stdout",
     "output_type": "stream",
     "text": [
      "42\n",
      "156458110.0\n"
     ]
    },
    {
     "name": "stdout",
     "output_type": "stream",
     "text": [
      "43\n",
      "155695112.0\n"
     ]
    },
    {
     "name": "stdout",
     "output_type": "stream",
     "text": [
      "44\n",
      "154941970.5\n"
     ]
    },
    {
     "name": "stdout",
     "output_type": "stream",
     "text": [
      "45\n",
      "154192710.0\n"
     ]
    },
    {
     "name": "stdout",
     "output_type": "stream",
     "text": [
      "46\n",
      "153463663.0\n"
     ]
    },
    {
     "name": "stdout",
     "output_type": "stream",
     "text": [
      "47\n",
      "152734973.0\n"
     ]
    },
    {
     "name": "stdout",
     "output_type": "stream",
     "text": [
      "48\n",
      "152029919.0\n"
     ]
    },
    {
     "name": "stdout",
     "output_type": "stream",
     "text": [
      "49\n",
      "151323313.0\n"
     ]
    }
   ],
   "source": [
    "losses = []\n",
    "\n",
    "for epoch in range(50):\n",
    "    \n",
    "    batcher = data_adjacency_batcher(data_dense_tensor, adjacency_dense_tensor, 5000)\n",
    "    \n",
    "    total_loss = 0\n",
    "    \n",
    "    \n",
    "    for (data_batch, mask_batch, adjacency_batch, row_batch) in batcher:\n",
    "        \n",
    "        \n",
    "        \n",
    "        data_batch = data_batch.to(device=device)\n",
    "        mask_batch = mask_batch.to(device=device)\n",
    "        adjacency_batch = adjacency_batch.to(device=device)\n",
    "        row_batch = row_batch.to(device=device)\n",
    "        \n",
    "        laplacian_tensor = adjacency_to_laplacian(adjacency_batch).to(device=device)\n",
    "    \n",
    "        optimizer.zero_grad()\n",
    "\n",
    "        output = mf.forward(row_batch, torch.arange(0, data_batch.shape[1]))\n",
    "        \n",
    "        L1_laplacian_tensor = adjacency_to_laplacian(adjacency_to_L1_adjacency(output, adjacency_batch, 0.001, device)).to(device=device)\n",
    "        \n",
    "        loss = squared_loss(data_batch[mask_batch], output[mask_batch]) + LAPLACIAN_PARAM*laplacian_loss(output, laplacian_tensor) + TV_PARAM*laplacian_loss(output, L1_laplacian_tensor)\n",
    "        loss.backward()\n",
    "        optimizer.step()\n",
    "        \n",
    "        total_loss += loss.item()\n",
    "        \n",
    "\n",
    "    if epoch % 1 == 0:\n",
    "        print(epoch)\n",
    "        print(total_loss)\n",
    "        \n",
    "    losses.append(total_loss)"
   ]
  },
  {
   "cell_type": "code",
   "execution_count": 21,
   "id": "10c72c7e",
   "metadata": {
    "execution": {
     "iopub.execute_input": "2022-04-25T11:47:32.490786Z",
     "iopub.status.busy": "2022-04-25T11:47:32.485207Z",
     "iopub.status.idle": "2022-04-25T11:47:32.499273Z",
     "shell.execute_reply": "2022-04-25T11:47:32.498959Z"
    },
    "papermill": {
     "duration": 0.052922,
     "end_time": "2022-04-25T11:47:32.499346",
     "exception": false,
     "start_time": "2022-04-25T11:47:32.446424",
     "status": "completed"
    },
    "tags": []
   },
   "outputs": [
    {
     "data": {
      "text/plain": [
       "12770409.0"
      ]
     },
     "execution_count": 21,
     "metadata": {},
     "output_type": "execute_result"
    }
   ],
   "source": [
    "loss.item()"
   ]
  },
  {
   "cell_type": "code",
   "execution_count": 22,
   "id": "750185e4",
   "metadata": {
    "execution": {
     "iopub.execute_input": "2022-04-25T11:47:32.559019Z",
     "iopub.status.busy": "2022-04-25T11:47:32.558653Z",
     "iopub.status.idle": "2022-04-25T11:47:32.573040Z",
     "shell.execute_reply": "2022-04-25T11:47:32.572641Z"
    },
    "papermill": {
     "duration": 0.048548,
     "end_time": "2022-04-25T11:47:32.573123",
     "exception": false,
     "start_time": "2022-04-25T11:47:32.524575",
     "status": "completed"
    },
    "tags": []
   },
   "outputs": [],
   "source": [
    "np.save(f'./results/loss_curves/mf_rank{DECOMP_RANK}_L{LAPLACIAN_PARAM}_TV{TV_PARAM}_losses', np.array(losses))"
   ]
  },
  {
   "cell_type": "code",
   "execution_count": 23,
   "id": "551d1dd4",
   "metadata": {
    "execution": {
     "iopub.execute_input": "2022-04-25T11:47:32.632250Z",
     "iopub.status.busy": "2022-04-25T11:47:32.631798Z",
     "iopub.status.idle": "2022-04-25T11:47:32.779101Z",
     "shell.execute_reply": "2022-04-25T11:47:32.778391Z"
    },
    "papermill": {
     "duration": 0.179266,
     "end_time": "2022-04-25T11:47:32.779240",
     "exception": false,
     "start_time": "2022-04-25T11:47:32.599974",
     "status": "completed"
    },
    "tags": []
   },
   "outputs": [],
   "source": [
    "torch.save(mf.state_dict(), f'./results/saved_models/mf_rank{DECOMP_RANK}_L{LAPLACIAN_PARAM}_TV{TV_PARAM}_state')"
   ]
  },
  {
   "cell_type": "code",
   "execution_count": 24,
   "id": "ec292a84",
   "metadata": {
    "execution": {
     "iopub.execute_input": "2022-04-25T11:47:32.931028Z",
     "iopub.status.busy": "2022-04-25T11:47:32.930637Z",
     "iopub.status.idle": "2022-04-25T11:51:41.148139Z",
     "shell.execute_reply": "2022-04-25T11:51:41.135243Z"
    },
    "papermill": {
     "duration": 248.285144,
     "end_time": "2022-04-25T11:51:41.152805",
     "exception": false,
     "start_time": "2022-04-25T11:47:32.867661",
     "status": "completed"
    },
    "tags": []
   },
   "outputs": [],
   "source": [
    "final_output = mf.forward(torch.arange(0, data_dense_tensor.shape[0]), torch.arange(0, data_dense_tensor.shape[1]))\n",
    "\n",
    "final_squared_error = squared_loss(data_dense_tensor, final_output)\n",
    "final_laplacian = laplacian_loss(final_output, adjacency_to_laplacian(adjacency_dense_tensor).to(device=device))\n",
    "final_TV =  laplacian_loss(final_output, adjacency_to_laplacian(adjacency_to_L1_adjacency(final_output, adjacency_dense_tensor, 0.001, device)).to(device=device))"
   ]
  },
  {
   "cell_type": "code",
   "execution_count": 25,
   "id": "c63a2890",
   "metadata": {
    "execution": {
     "iopub.execute_input": "2022-04-25T11:51:41.300069Z",
     "iopub.status.busy": "2022-04-25T11:51:41.298659Z",
     "iopub.status.idle": "2022-04-25T11:51:42.175624Z",
     "shell.execute_reply": "2022-04-25T11:51:42.174492Z"
    },
    "papermill": {
     "duration": 0.928943,
     "end_time": "2022-04-25T11:51:42.175777",
     "exception": false,
     "start_time": "2022-04-25T11:51:41.246834",
     "status": "completed"
    },
    "tags": []
   },
   "outputs": [],
   "source": [
    "np.save(f'./results/final_losses/mf_rank{DECOMP_RANK}_L{LAPLACIAN_PARAM}_TV{TV_PARAM}_losses', np.array([final_squared_error.item(), final_laplacian.item(), final_TV.item()]))"
   ]
  },
  {
   "cell_type": "code",
   "execution_count": null,
   "id": "125d05ec",
   "metadata": {
    "papermill": {
     "duration": 0.024896,
     "end_time": "2022-04-25T11:51:42.227057",
     "exception": false,
     "start_time": "2022-04-25T11:51:42.202161",
     "status": "completed"
    },
    "tags": []
   },
   "outputs": [],
   "source": []
  }
 ],
 "metadata": {
  "interpreter": {
   "hash": "22ee4ece52021b4a120b95b326dd7a4d7938576e919f53927a7959ab5d7e1e45"
  },
  "kernelspec": {
   "display_name": "spatialSFT",
   "language": "python",
   "name": "spatialsft"
  },
  "language_info": {
   "codemirror_mode": {
    "name": "ipython",
    "version": 3
   },
   "file_extension": ".py",
   "mimetype": "text/x-python",
   "name": "python",
   "nbconvert_exporter": "python",
   "pygments_lexer": "ipython3",
   "version": "3.8.0"
  },
  "papermill": {
   "default_parameters": {},
   "duration": 3869.810014,
   "end_time": "2022-04-25T11:51:50.536103",
   "environment_variables": {},
   "exception": null,
   "input_path": "./notebooks/mf_param_template.ipynb",
   "output_path": "./papermill_output/mf_param_template_rank100_lap0.01_tv0.00001.ipynb",
   "parameters": {
    "DECOMP_RANK": 100,
    "LAPLACIAN_PARAM": 0.01,
    "TV_PARAM": 1e-05
   },
   "start_time": "2022-04-25T10:47:20.726089",
   "version": "2.3.4"
  }
 },
 "nbformat": 4,
 "nbformat_minor": 5
}