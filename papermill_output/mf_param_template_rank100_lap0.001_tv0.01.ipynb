{
 "cells": [
  {
   "cell_type": "markdown",
   "id": "d0afb0b8",
   "metadata": {
    "papermill": {
     "duration": 0.015544,
     "end_time": "2022-04-25T12:55:02.105042",
     "exception": false,
     "start_time": "2022-04-25T12:55:02.089498",
     "status": "completed"
    },
    "tags": []
   },
   "source": [
    "### setup"
   ]
  },
  {
   "cell_type": "code",
   "execution_count": 1,
   "id": "b956f235",
   "metadata": {
    "execution": {
     "iopub.execute_input": "2022-04-25T12:55:02.138206Z",
     "iopub.status.busy": "2022-04-25T12:55:02.137806Z",
     "iopub.status.idle": "2022-04-25T12:55:06.211990Z",
     "shell.execute_reply": "2022-04-25T12:55:06.211501Z"
    },
    "papermill": {
     "duration": 4.093409,
     "end_time": "2022-04-25T12:55:06.212085",
     "exception": false,
     "start_time": "2022-04-25T12:55:02.118676",
     "status": "completed"
    },
    "tags": []
   },
   "outputs": [],
   "source": [
    "import numpy as np \n",
    "import matplotlib.pyplot as plt\n",
    "import pandas as pd\n",
    "\n",
    "import scipy\n",
    "\n",
    "\n",
    "from utils import *\n",
    "from pytorch_sparse_utils import *\n",
    "\n",
    "\n",
    "import torch\n",
    "from torch import nn\n",
    "import torch.nn.functional as F"
   ]
  },
  {
   "cell_type": "markdown",
   "id": "1ca57e76",
   "metadata": {
    "papermill": {
     "duration": 0.013885,
     "end_time": "2022-04-25T12:55:06.240535",
     "exception": false,
     "start_time": "2022-04-25T12:55:06.226650",
     "status": "completed"
    },
    "tags": []
   },
   "source": [
    "### set parameters"
   ]
  },
  {
   "cell_type": "code",
   "execution_count": 2,
   "id": "cec331d9",
   "metadata": {
    "execution": {
     "iopub.execute_input": "2022-04-25T12:55:06.273205Z",
     "iopub.status.busy": "2022-04-25T12:55:06.272837Z",
     "iopub.status.idle": "2022-04-25T12:55:06.274886Z",
     "shell.execute_reply": "2022-04-25T12:55:06.275197Z"
    },
    "papermill": {
     "duration": 0.019137,
     "end_time": "2022-04-25T12:55:06.275278",
     "exception": false,
     "start_time": "2022-04-25T12:55:06.256141",
     "status": "completed"
    },
    "tags": [
     "parameters"
    ]
   },
   "outputs": [],
   "source": [
    "DECOMP_RANK = 10\n",
    "LAPLACIAN_PARAM = 0.001\n",
    "TV_PARAM = 0.001"
   ]
  },
  {
   "cell_type": "code",
   "execution_count": 3,
   "id": "0764e2c4",
   "metadata": {
    "execution": {
     "iopub.execute_input": "2022-04-25T12:55:06.306021Z",
     "iopub.status.busy": "2022-04-25T12:55:06.305667Z",
     "iopub.status.idle": "2022-04-25T12:55:06.308551Z",
     "shell.execute_reply": "2022-04-25T12:55:06.308131Z"
    },
    "papermill": {
     "duration": 0.01913,
     "end_time": "2022-04-25T12:55:06.308622",
     "exception": false,
     "start_time": "2022-04-25T12:55:06.289492",
     "status": "completed"
    },
    "tags": [
     "injected-parameters"
    ]
   },
   "outputs": [],
   "source": [
    "# Parameters\n",
    "DECOMP_RANK = 100\n",
    "LAPLACIAN_PARAM = 0.001\n",
    "TV_PARAM = 0.01\n"
   ]
  },
  {
   "cell_type": "code",
   "execution_count": 4,
   "id": "4d9ef420",
   "metadata": {
    "execution": {
     "iopub.execute_input": "2022-04-25T12:55:06.339913Z",
     "iopub.status.busy": "2022-04-25T12:55:06.339219Z",
     "iopub.status.idle": "2022-04-25T12:55:24.209565Z",
     "shell.execute_reply": "2022-04-25T12:55:24.209146Z"
    },
    "papermill": {
     "duration": 17.886697,
     "end_time": "2022-04-25T12:55:24.209662",
     "exception": false,
     "start_time": "2022-04-25T12:55:06.322965",
     "status": "completed"
    },
    "tags": []
   },
   "outputs": [
    {
     "name": "stdout",
     "output_type": "stream",
     "text": [
      "Using cuda device\n"
     ]
    }
   ],
   "source": [
    "device = 'cuda' if torch.cuda.is_available() else 'cpu'\n",
    "print('Using {} device'.format(device))"
   ]
  },
  {
   "cell_type": "markdown",
   "id": "af7f7792",
   "metadata": {
    "papermill": {
     "duration": 0.014229,
     "end_time": "2022-04-25T12:55:24.240957",
     "exception": false,
     "start_time": "2022-04-25T12:55:24.226728",
     "status": "completed"
    },
    "tags": []
   },
   "source": [
    "### loading data"
   ]
  },
  {
   "cell_type": "code",
   "execution_count": 5,
   "id": "576fafda",
   "metadata": {
    "execution": {
     "iopub.execute_input": "2022-04-25T12:55:24.273224Z",
     "iopub.status.busy": "2022-04-25T12:55:24.270548Z",
     "iopub.status.idle": "2022-04-25T12:55:26.611131Z",
     "shell.execute_reply": "2022-04-25T12:55:26.611406Z"
    },
    "papermill": {
     "duration": 2.356556,
     "end_time": "2022-04-25T12:55:26.611505",
     "exception": false,
     "start_time": "2022-04-25T12:55:24.254949",
     "status": "completed"
    },
    "tags": []
   },
   "outputs": [
    {
     "data": {
      "text/html": [
       "<div>\n",
       "<style scoped>\n",
       "    .dataframe tbody tr th:only-of-type {\n",
       "        vertical-align: middle;\n",
       "    }\n",
       "\n",
       "    .dataframe tbody tr th {\n",
       "        vertical-align: top;\n",
       "    }\n",
       "\n",
       "    .dataframe thead th {\n",
       "        text-align: right;\n",
       "    }\n",
       "</style>\n",
       "<table border=\"1\" class=\"dataframe\">\n",
       "  <thead>\n",
       "    <tr style=\"text-align: right;\">\n",
       "      <th></th>\n",
       "      <th>1110008P14Rik</th>\n",
       "      <th>1500009C09Rik</th>\n",
       "      <th>1500012F01Rik</th>\n",
       "      <th>1700020I14Rik</th>\n",
       "      <th>2010107E04Rik</th>\n",
       "      <th>2010300C02Rik</th>\n",
       "      <th>2210016L21Rik</th>\n",
       "      <th>2310036O22Rik</th>\n",
       "      <th>2900011O08Rik</th>\n",
       "      <th>3110035E14Rik</th>\n",
       "      <th>...</th>\n",
       "      <th>Zrsr1</th>\n",
       "      <th>Zwint</th>\n",
       "      <th>mt-Co1</th>\n",
       "      <th>mt-Cytb</th>\n",
       "      <th>mt-Nd1</th>\n",
       "      <th>mt-Nd2</th>\n",
       "      <th>mt-Nd4</th>\n",
       "      <th>mt-Nd5</th>\n",
       "      <th>mt-Rnr1</th>\n",
       "      <th>mt-Rnr2</th>\n",
       "    </tr>\n",
       "  </thead>\n",
       "  <tbody>\n",
       "    <tr>\n",
       "      <th>AAAAAAAGGTAGTA</th>\n",
       "      <td>0</td>\n",
       "      <td>0</td>\n",
       "      <td>0</td>\n",
       "      <td>0</td>\n",
       "      <td>0</td>\n",
       "      <td>0</td>\n",
       "      <td>0</td>\n",
       "      <td>0</td>\n",
       "      <td>0</td>\n",
       "      <td>0</td>\n",
       "      <td>...</td>\n",
       "      <td>0</td>\n",
       "      <td>0</td>\n",
       "      <td>0</td>\n",
       "      <td>0</td>\n",
       "      <td>0</td>\n",
       "      <td>0</td>\n",
       "      <td>0</td>\n",
       "      <td>0</td>\n",
       "      <td>1</td>\n",
       "      <td>0</td>\n",
       "    </tr>\n",
       "    <tr>\n",
       "      <th>AAAAAAAGTCCCAA</th>\n",
       "      <td>0</td>\n",
       "      <td>0</td>\n",
       "      <td>0</td>\n",
       "      <td>0</td>\n",
       "      <td>0</td>\n",
       "      <td>0</td>\n",
       "      <td>0</td>\n",
       "      <td>0</td>\n",
       "      <td>0</td>\n",
       "      <td>0</td>\n",
       "      <td>...</td>\n",
       "      <td>0</td>\n",
       "      <td>0</td>\n",
       "      <td>2</td>\n",
       "      <td>2</td>\n",
       "      <td>5</td>\n",
       "      <td>0</td>\n",
       "      <td>1</td>\n",
       "      <td>0</td>\n",
       "      <td>2</td>\n",
       "      <td>4</td>\n",
       "    </tr>\n",
       "    <tr>\n",
       "      <th>AAAAAAATCTTAGT</th>\n",
       "      <td>0</td>\n",
       "      <td>0</td>\n",
       "      <td>0</td>\n",
       "      <td>0</td>\n",
       "      <td>0</td>\n",
       "      <td>0</td>\n",
       "      <td>0</td>\n",
       "      <td>0</td>\n",
       "      <td>0</td>\n",
       "      <td>0</td>\n",
       "      <td>...</td>\n",
       "      <td>0</td>\n",
       "      <td>0</td>\n",
       "      <td>0</td>\n",
       "      <td>0</td>\n",
       "      <td>0</td>\n",
       "      <td>0</td>\n",
       "      <td>0</td>\n",
       "      <td>0</td>\n",
       "      <td>0</td>\n",
       "      <td>0</td>\n",
       "    </tr>\n",
       "    <tr>\n",
       "      <th>AAAAAACATCTTTC</th>\n",
       "      <td>0</td>\n",
       "      <td>0</td>\n",
       "      <td>0</td>\n",
       "      <td>0</td>\n",
       "      <td>0</td>\n",
       "      <td>0</td>\n",
       "      <td>0</td>\n",
       "      <td>0</td>\n",
       "      <td>0</td>\n",
       "      <td>0</td>\n",
       "      <td>...</td>\n",
       "      <td>0</td>\n",
       "      <td>0</td>\n",
       "      <td>0</td>\n",
       "      <td>0</td>\n",
       "      <td>0</td>\n",
       "      <td>0</td>\n",
       "      <td>0</td>\n",
       "      <td>0</td>\n",
       "      <td>1</td>\n",
       "      <td>0</td>\n",
       "    </tr>\n",
       "    <tr>\n",
       "      <th>AAAAAACGAAATAG</th>\n",
       "      <td>0</td>\n",
       "      <td>0</td>\n",
       "      <td>0</td>\n",
       "      <td>0</td>\n",
       "      <td>0</td>\n",
       "      <td>0</td>\n",
       "      <td>0</td>\n",
       "      <td>0</td>\n",
       "      <td>0</td>\n",
       "      <td>0</td>\n",
       "      <td>...</td>\n",
       "      <td>0</td>\n",
       "      <td>0</td>\n",
       "      <td>1</td>\n",
       "      <td>0</td>\n",
       "      <td>0</td>\n",
       "      <td>0</td>\n",
       "      <td>0</td>\n",
       "      <td>0</td>\n",
       "      <td>0</td>\n",
       "      <td>0</td>\n",
       "    </tr>\n",
       "  </tbody>\n",
       "</table>\n",
       "<p>5 rows × 1222 columns</p>\n",
       "</div>"
      ],
      "text/plain": [
       "                1110008P14Rik  1500009C09Rik  1500012F01Rik  1700020I14Rik  \\\n",
       "AAAAAAAGGTAGTA              0              0              0              0   \n",
       "AAAAAAAGTCCCAA              0              0              0              0   \n",
       "AAAAAAATCTTAGT              0              0              0              0   \n",
       "AAAAAACATCTTTC              0              0              0              0   \n",
       "AAAAAACGAAATAG              0              0              0              0   \n",
       "\n",
       "                2010107E04Rik  2010300C02Rik  2210016L21Rik  2310036O22Rik  \\\n",
       "AAAAAAAGGTAGTA              0              0              0              0   \n",
       "AAAAAAAGTCCCAA              0              0              0              0   \n",
       "AAAAAAATCTTAGT              0              0              0              0   \n",
       "AAAAAACATCTTTC              0              0              0              0   \n",
       "AAAAAACGAAATAG              0              0              0              0   \n",
       "\n",
       "                2900011O08Rik  3110035E14Rik  ...  Zrsr1  Zwint  mt-Co1  \\\n",
       "AAAAAAAGGTAGTA              0              0  ...      0      0       0   \n",
       "AAAAAAAGTCCCAA              0              0  ...      0      0       2   \n",
       "AAAAAAATCTTAGT              0              0  ...      0      0       0   \n",
       "AAAAAACATCTTTC              0              0  ...      0      0       0   \n",
       "AAAAAACGAAATAG              0              0  ...      0      0       1   \n",
       "\n",
       "                mt-Cytb  mt-Nd1  mt-Nd2  mt-Nd4  mt-Nd5  mt-Rnr1  mt-Rnr2  \n",
       "AAAAAAAGGTAGTA        0       0       0       0       0        1        0  \n",
       "AAAAAAAGTCCCAA        2       5       0       1       0        2        4  \n",
       "AAAAAAATCTTAGT        0       0       0       0       0        0        0  \n",
       "AAAAAACATCTTTC        0       0       0       0       0        1        0  \n",
       "AAAAAACGAAATAG        0       0       0       0       0        0        0  \n",
       "\n",
       "[5 rows x 1222 columns]"
      ]
     },
     "execution_count": 5,
     "metadata": {},
     "output_type": "execute_result"
    }
   ],
   "source": [
    "bead_reads_subset = pd.read_csv('./data/bead_reads_subset.csv', index_col='Unnamed: 0')\n",
    "bead_reads_subset.head()"
   ]
  },
  {
   "cell_type": "code",
   "execution_count": 6,
   "id": "3ffb5d33",
   "metadata": {
    "execution": {
     "iopub.execute_input": "2022-04-25T12:55:26.644126Z",
     "iopub.status.busy": "2022-04-25T12:55:26.643762Z",
     "iopub.status.idle": "2022-04-25T12:55:27.205307Z",
     "shell.execute_reply": "2022-04-25T12:55:27.204764Z"
    },
    "papermill": {
     "duration": 0.578932,
     "end_time": "2022-04-25T12:55:27.205400",
     "exception": false,
     "start_time": "2022-04-25T12:55:26.626468",
     "status": "completed"
    },
    "tags": []
   },
   "outputs": [],
   "source": [
    "data_scipy_sparse = scipy.sparse.coo_matrix( bead_reads_subset.to_numpy() )"
   ]
  },
  {
   "cell_type": "code",
   "execution_count": 7,
   "id": "62d35200",
   "metadata": {
    "execution": {
     "iopub.execute_input": "2022-04-25T12:55:27.239782Z",
     "iopub.status.busy": "2022-04-25T12:55:27.239436Z",
     "iopub.status.idle": "2022-04-25T12:55:30.919738Z",
     "shell.execute_reply": "2022-04-25T12:55:30.919215Z"
    },
    "papermill": {
     "duration": 3.698938,
     "end_time": "2022-04-25T12:55:30.919828",
     "exception": false,
     "start_time": "2022-04-25T12:55:27.220890",
     "status": "completed"
    },
    "tags": []
   },
   "outputs": [],
   "source": [
    "data_sparse_tensor = scipy_sparse_to_pytorch_sparse(data_scipy_sparse).to(device=device)"
   ]
  },
  {
   "cell_type": "code",
   "execution_count": 8,
   "id": "ba339367",
   "metadata": {
    "execution": {
     "iopub.execute_input": "2022-04-25T12:55:30.953462Z",
     "iopub.status.busy": "2022-04-25T12:55:30.953106Z",
     "iopub.status.idle": "2022-04-25T12:55:30.959052Z",
     "shell.execute_reply": "2022-04-25T12:55:30.959402Z"
    },
    "papermill": {
     "duration": 0.02418,
     "end_time": "2022-04-25T12:55:30.959521",
     "exception": false,
     "start_time": "2022-04-25T12:55:30.935341",
     "status": "completed"
    },
    "tags": []
   },
   "outputs": [
    {
     "data": {
      "text/plain": [
       "tensor(indices=tensor([[    0,     0,     0,  ..., 53207, 53207, 53207],\n",
       "                       [   84,   412,   528,  ...,  1219,  1220,  1221]]),\n",
       "       values=tensor([ 1.,  1.,  1.,  ..., 12., 26., 71.]),\n",
       "       device='cuda:0', size=(53208, 1222), nnz=9552845, layout=torch.sparse_coo)"
      ]
     },
     "execution_count": 8,
     "metadata": {},
     "output_type": "execute_result"
    }
   ],
   "source": [
    "data_sparse_tensor"
   ]
  },
  {
   "cell_type": "code",
   "execution_count": 9,
   "id": "30d6bab9",
   "metadata": {
    "execution": {
     "iopub.execute_input": "2022-04-25T12:55:30.992925Z",
     "iopub.status.busy": "2022-04-25T12:55:30.992073Z",
     "iopub.status.idle": "2022-04-25T12:55:30.995164Z",
     "shell.execute_reply": "2022-04-25T12:55:30.995460Z"
    },
    "papermill": {
     "duration": 0.019984,
     "end_time": "2022-04-25T12:55:30.995542",
     "exception": false,
     "start_time": "2022-04-25T12:55:30.975558",
     "status": "completed"
    },
    "tags": []
   },
   "outputs": [],
   "source": [
    "data_dense_tensor = data_sparse_tensor.to_dense()"
   ]
  },
  {
   "cell_type": "code",
   "execution_count": 10,
   "id": "c89d0fbe",
   "metadata": {
    "execution": {
     "iopub.execute_input": "2022-04-25T12:55:31.029698Z",
     "iopub.status.busy": "2022-04-25T12:55:31.029311Z",
     "iopub.status.idle": "2022-04-25T12:55:31.155128Z",
     "shell.execute_reply": "2022-04-25T12:55:31.154828Z"
    },
    "papermill": {
     "duration": 0.144024,
     "end_time": "2022-04-25T12:55:31.155197",
     "exception": false,
     "start_time": "2022-04-25T12:55:31.011173",
     "status": "completed"
    },
    "tags": []
   },
   "outputs": [],
   "source": [
    "mask_scipy_sparse = (data_scipy_sparse != 0).astype(np.int64).tocoo()"
   ]
  },
  {
   "cell_type": "code",
   "execution_count": 11,
   "id": "208f2fe8",
   "metadata": {
    "execution": {
     "iopub.execute_input": "2022-04-25T12:55:31.187853Z",
     "iopub.status.busy": "2022-04-25T12:55:31.187498Z",
     "iopub.status.idle": "2022-04-25T12:55:31.221516Z",
     "shell.execute_reply": "2022-04-25T12:55:31.221815Z"
    },
    "papermill": {
     "duration": 0.051682,
     "end_time": "2022-04-25T12:55:31.221939",
     "exception": false,
     "start_time": "2022-04-25T12:55:31.170257",
     "status": "completed"
    },
    "tags": []
   },
   "outputs": [],
   "source": [
    "mask_sparse_tensor = scipy_sparse_to_pytorch_sparse(mask_scipy_sparse)"
   ]
  },
  {
   "cell_type": "code",
   "execution_count": 12,
   "id": "ef840785",
   "metadata": {
    "execution": {
     "iopub.execute_input": "2022-04-25T12:55:31.263445Z",
     "iopub.status.busy": "2022-04-25T12:55:31.259879Z",
     "iopub.status.idle": "2022-04-25T12:55:32.126169Z",
     "shell.execute_reply": "2022-04-25T12:55:32.126491Z"
    },
    "papermill": {
     "duration": 0.888449,
     "end_time": "2022-04-25T12:55:32.126608",
     "exception": false,
     "start_time": "2022-04-25T12:55:31.238159",
     "status": "completed"
    },
    "tags": []
   },
   "outputs": [],
   "source": [
    "mask_dense_tensor = mask_sparse_tensor.to_dense().bool()"
   ]
  },
  {
   "cell_type": "code",
   "execution_count": 13,
   "id": "12951ecb",
   "metadata": {
    "execution": {
     "iopub.execute_input": "2022-04-25T12:55:32.167197Z",
     "iopub.status.busy": "2022-04-25T12:55:32.166834Z",
     "iopub.status.idle": "2022-04-25T12:55:52.888928Z",
     "shell.execute_reply": "2022-04-25T12:55:52.889370Z"
    },
    "papermill": {
     "duration": 20.747444,
     "end_time": "2022-04-25T12:55:52.889488",
     "exception": false,
     "start_time": "2022-04-25T12:55:32.142044",
     "status": "completed"
    },
    "tags": []
   },
   "outputs": [],
   "source": [
    "distances = np.load('./data/macosko_distance_matrix.npy')"
   ]
  },
  {
   "cell_type": "code",
   "execution_count": 14,
   "id": "c567d098",
   "metadata": {
    "execution": {
     "iopub.execute_input": "2022-04-25T12:55:52.928103Z",
     "iopub.status.busy": "2022-04-25T12:55:52.927734Z",
     "iopub.status.idle": "2022-04-25T12:56:00.590264Z",
     "shell.execute_reply": "2022-04-25T12:56:00.590667Z"
    },
    "papermill": {
     "duration": 7.682454,
     "end_time": "2022-04-25T12:56:00.590777",
     "exception": false,
     "start_time": "2022-04-25T12:55:52.908323",
     "status": "completed"
    },
    "tags": []
   },
   "outputs": [],
   "source": [
    "adjacency = scipy.sparse.coo_matrix( distances <= 20 , dtype=np.float32)\n",
    "degree = scipy.sparse.diags( adjacency.sum(axis=0).A1 )\n",
    "laplacian = (degree - adjacency).tocoo()"
   ]
  },
  {
   "cell_type": "code",
   "execution_count": 15,
   "id": "0c8ef9fb",
   "metadata": {
    "execution": {
     "iopub.execute_input": "2022-04-25T12:56:00.635246Z",
     "iopub.status.busy": "2022-04-25T12:56:00.634847Z",
     "iopub.status.idle": "2022-04-25T12:56:00.635878Z",
     "shell.execute_reply": "2022-04-25T12:56:00.635565Z"
    },
    "papermill": {
     "duration": 0.027798,
     "end_time": "2022-04-25T12:56:00.635947",
     "exception": false,
     "start_time": "2022-04-25T12:56:00.608149",
     "status": "completed"
    },
    "tags": []
   },
   "outputs": [],
   "source": [
    "adjacency_sparse_tensor = scipy_sparse_to_pytorch_sparse(adjacency)"
   ]
  },
  {
   "cell_type": "code",
   "execution_count": 16,
   "id": "2cdee105",
   "metadata": {
    "execution": {
     "iopub.execute_input": "2022-04-25T12:56:00.695376Z",
     "iopub.status.busy": "2022-04-25T12:56:00.694974Z",
     "iopub.status.idle": "2022-04-25T12:56:03.320378Z",
     "shell.execute_reply": "2022-04-25T12:56:03.319991Z"
    },
    "papermill": {
     "duration": 2.655325,
     "end_time": "2022-04-25T12:56:03.320484",
     "exception": false,
     "start_time": "2022-04-25T12:56:00.665159",
     "status": "completed"
    },
    "tags": []
   },
   "outputs": [],
   "source": [
    "adjacency_dense_tensor = adjacency_sparse_tensor.to_dense()"
   ]
  },
  {
   "cell_type": "code",
   "execution_count": 17,
   "id": "1568d90c",
   "metadata": {
    "execution": {
     "iopub.execute_input": "2022-04-25T12:56:03.366377Z",
     "iopub.status.busy": "2022-04-25T12:56:03.366003Z",
     "iopub.status.idle": "2022-04-25T12:56:03.368149Z",
     "shell.execute_reply": "2022-04-25T12:56:03.367719Z"
    },
    "papermill": {
     "duration": 0.029311,
     "end_time": "2022-04-25T12:56:03.368230",
     "exception": false,
     "start_time": "2022-04-25T12:56:03.338919",
     "status": "completed"
    },
    "tags": []
   },
   "outputs": [],
   "source": [
    "def laplacian_loss(x, x_lap):\n",
    "    \n",
    "    lap_sum = 0\n",
    "    for ii in range(x.shape[1]):\n",
    "        lap_sum = lap_sum + (x[:,ii].T @ x_lap @ x[:,ii])\n",
    "        \n",
    "    return lap_sum"
   ]
  },
  {
   "cell_type": "code",
   "execution_count": 18,
   "id": "a54251e5",
   "metadata": {
    "execution": {
     "iopub.execute_input": "2022-04-25T12:56:03.414328Z",
     "iopub.status.busy": "2022-04-25T12:56:03.413754Z",
     "iopub.status.idle": "2022-04-25T12:56:03.435634Z",
     "shell.execute_reply": "2022-04-25T12:56:03.436017Z"
    },
    "papermill": {
     "duration": 0.044324,
     "end_time": "2022-04-25T12:56:03.436104",
     "exception": false,
     "start_time": "2022-04-25T12:56:03.391780",
     "status": "completed"
    },
    "tags": []
   },
   "outputs": [],
   "source": [
    "mf = MatrixFactorization(mask_sparse_tensor.shape[0], mask_sparse_tensor.shape[1], DECOMP_RANK).to(device=device)"
   ]
  },
  {
   "cell_type": "code",
   "execution_count": 19,
   "id": "18f8e606",
   "metadata": {
    "execution": {
     "iopub.execute_input": "2022-04-25T12:56:03.479096Z",
     "iopub.status.busy": "2022-04-25T12:56:03.477168Z",
     "iopub.status.idle": "2022-04-25T12:56:03.480830Z",
     "shell.execute_reply": "2022-04-25T12:56:03.480514Z"
    },
    "papermill": {
     "duration": 0.029078,
     "end_time": "2022-04-25T12:56:03.480905",
     "exception": false,
     "start_time": "2022-04-25T12:56:03.451827",
     "status": "completed"
    },
    "tags": []
   },
   "outputs": [],
   "source": [
    "import torch.optim as optim\n",
    "\n",
    "optimizer = optim.Adam(mf.parameters(), lr=0.001)"
   ]
  },
  {
   "cell_type": "code",
   "execution_count": 20,
   "id": "011f3456",
   "metadata": {
    "execution": {
     "iopub.execute_input": "2022-04-25T12:56:03.539673Z",
     "iopub.status.busy": "2022-04-25T12:56:03.533848Z",
     "iopub.status.idle": "2022-04-25T13:55:34.986119Z",
     "shell.execute_reply": "2022-04-25T13:55:34.986417Z"
    },
    "papermill": {
     "duration": 3571.480834,
     "end_time": "2022-04-25T13:55:34.986518",
     "exception": false,
     "start_time": "2022-04-25T12:56:03.505684",
     "status": "completed"
    },
    "tags": []
   },
   "outputs": [
    {
     "name": "stdout",
     "output_type": "stream",
     "text": [
      "0\n",
      "215980316.0\n"
     ]
    },
    {
     "name": "stdout",
     "output_type": "stream",
     "text": [
      "1\n",
      "215790748.0\n"
     ]
    },
    {
     "name": "stdout",
     "output_type": "stream",
     "text": [
      "2\n",
      "215299681.0\n"
     ]
    },
    {
     "name": "stdout",
     "output_type": "stream",
     "text": [
      "3\n",
      "214376182.0\n"
     ]
    },
    {
     "name": "stdout",
     "output_type": "stream",
     "text": [
      "4\n",
      "212949538.0\n"
     ]
    },
    {
     "name": "stdout",
     "output_type": "stream",
     "text": [
      "5\n",
      "211006146.0\n"
     ]
    },
    {
     "name": "stdout",
     "output_type": "stream",
     "text": [
      "6\n",
      "208574913.0\n"
     ]
    },
    {
     "name": "stdout",
     "output_type": "stream",
     "text": [
      "7\n",
      "205738531.0\n"
     ]
    },
    {
     "name": "stdout",
     "output_type": "stream",
     "text": [
      "8\n",
      "202613417.0\n"
     ]
    },
    {
     "name": "stdout",
     "output_type": "stream",
     "text": [
      "9\n",
      "199342489.0\n"
     ]
    },
    {
     "name": "stdout",
     "output_type": "stream",
     "text": [
      "10\n",
      "196070374.0\n"
     ]
    },
    {
     "name": "stdout",
     "output_type": "stream",
     "text": [
      "11\n",
      "192942086.0\n"
     ]
    },
    {
     "name": "stdout",
     "output_type": "stream",
     "text": [
      "12\n",
      "190095612.0\n"
     ]
    },
    {
     "name": "stdout",
     "output_type": "stream",
     "text": [
      "13\n",
      "187553574.0\n"
     ]
    },
    {
     "name": "stdout",
     "output_type": "stream",
     "text": [
      "14\n",
      "185376773.0\n"
     ]
    },
    {
     "name": "stdout",
     "output_type": "stream",
     "text": [
      "15\n",
      "183508889.0\n"
     ]
    },
    {
     "name": "stdout",
     "output_type": "stream",
     "text": [
      "16\n",
      "181885714.5\n"
     ]
    },
    {
     "name": "stdout",
     "output_type": "stream",
     "text": [
      "17\n",
      "180415233.0\n"
     ]
    },
    {
     "name": "stdout",
     "output_type": "stream",
     "text": [
      "18\n",
      "179080822.0\n"
     ]
    },
    {
     "name": "stdout",
     "output_type": "stream",
     "text": [
      "19\n",
      "177828287.0\n"
     ]
    },
    {
     "name": "stdout",
     "output_type": "stream",
     "text": [
      "20\n",
      "176625558.0\n"
     ]
    },
    {
     "name": "stdout",
     "output_type": "stream",
     "text": [
      "21\n",
      "175470896.0\n"
     ]
    },
    {
     "name": "stdout",
     "output_type": "stream",
     "text": [
      "22\n",
      "174365982.5\n"
     ]
    },
    {
     "name": "stdout",
     "output_type": "stream",
     "text": [
      "23\n",
      "173288288.0\n"
     ]
    },
    {
     "name": "stdout",
     "output_type": "stream",
     "text": [
      "24\n",
      "172241957.0\n"
     ]
    },
    {
     "name": "stdout",
     "output_type": "stream",
     "text": [
      "25\n",
      "171226120.0\n"
     ]
    },
    {
     "name": "stdout",
     "output_type": "stream",
     "text": [
      "26\n",
      "170229299.0\n"
     ]
    },
    {
     "name": "stdout",
     "output_type": "stream",
     "text": [
      "27\n",
      "169260861.0\n"
     ]
    },
    {
     "name": "stdout",
     "output_type": "stream",
     "text": [
      "28\n",
      "168297794.0\n"
     ]
    },
    {
     "name": "stdout",
     "output_type": "stream",
     "text": [
      "29\n",
      "167364436.0\n"
     ]
    },
    {
     "name": "stdout",
     "output_type": "stream",
     "text": [
      "30\n",
      "166449728.0\n"
     ]
    },
    {
     "name": "stdout",
     "output_type": "stream",
     "text": [
      "31\n",
      "165544304.0\n"
     ]
    },
    {
     "name": "stdout",
     "output_type": "stream",
     "text": [
      "32\n",
      "164649333.0\n"
     ]
    },
    {
     "name": "stdout",
     "output_type": "stream",
     "text": [
      "33\n",
      "163769608.5\n"
     ]
    },
    {
     "name": "stdout",
     "output_type": "stream",
     "text": [
      "34\n",
      "162911620.0\n"
     ]
    },
    {
     "name": "stdout",
     "output_type": "stream",
     "text": [
      "35\n",
      "162056326.0\n"
     ]
    },
    {
     "name": "stdout",
     "output_type": "stream",
     "text": [
      "36\n",
      "161216562.0\n"
     ]
    },
    {
     "name": "stdout",
     "output_type": "stream",
     "text": [
      "37\n",
      "160385771.0\n"
     ]
    },
    {
     "name": "stdout",
     "output_type": "stream",
     "text": [
      "38\n",
      "159566081.5\n"
     ]
    },
    {
     "name": "stdout",
     "output_type": "stream",
     "text": [
      "39\n",
      "158760381.0\n"
     ]
    },
    {
     "name": "stdout",
     "output_type": "stream",
     "text": [
      "40\n",
      "157960985.0\n"
     ]
    },
    {
     "name": "stdout",
     "output_type": "stream",
     "text": [
      "41\n",
      "157176833.5\n"
     ]
    },
    {
     "name": "stdout",
     "output_type": "stream",
     "text": [
      "42\n",
      "156394287.0\n"
     ]
    },
    {
     "name": "stdout",
     "output_type": "stream",
     "text": [
      "43\n",
      "155633432.0\n"
     ]
    },
    {
     "name": "stdout",
     "output_type": "stream",
     "text": [
      "44\n",
      "154878305.0\n"
     ]
    },
    {
     "name": "stdout",
     "output_type": "stream",
     "text": [
      "45\n",
      "154126208.5\n"
     ]
    },
    {
     "name": "stdout",
     "output_type": "stream",
     "text": [
      "46\n",
      "153392045.0\n"
     ]
    },
    {
     "name": "stdout",
     "output_type": "stream",
     "text": [
      "47\n",
      "152672234.0\n"
     ]
    },
    {
     "name": "stdout",
     "output_type": "stream",
     "text": [
      "48\n",
      "151948347.0\n"
     ]
    },
    {
     "name": "stdout",
     "output_type": "stream",
     "text": [
      "49\n",
      "151254469.0\n"
     ]
    }
   ],
   "source": [
    "losses = []\n",
    "\n",
    "for epoch in range(50):\n",
    "    \n",
    "    batcher = data_adjacency_batcher(data_dense_tensor, adjacency_dense_tensor, 5000)\n",
    "    \n",
    "    total_loss = 0\n",
    "    \n",
    "    \n",
    "    for (data_batch, mask_batch, adjacency_batch, row_batch) in batcher:\n",
    "        \n",
    "        \n",
    "        \n",
    "        data_batch = data_batch.to(device=device)\n",
    "        mask_batch = mask_batch.to(device=device)\n",
    "        adjacency_batch = adjacency_batch.to(device=device)\n",
    "        row_batch = row_batch.to(device=device)\n",
    "        \n",
    "        laplacian_tensor = adjacency_to_laplacian(adjacency_batch).to(device=device)\n",
    "    \n",
    "        optimizer.zero_grad()\n",
    "\n",
    "        output = mf.forward(row_batch, torch.arange(0, data_batch.shape[1]))\n",
    "        \n",
    "        L1_laplacian_tensor = adjacency_to_laplacian(adjacency_to_L1_adjacency(output, adjacency_batch, 0.001, device)).to(device=device)\n",
    "        \n",
    "        loss = squared_loss(data_batch[mask_batch], output[mask_batch]) + LAPLACIAN_PARAM*laplacian_loss(output, laplacian_tensor) + TV_PARAM*laplacian_loss(output, L1_laplacian_tensor)\n",
    "        loss.backward()\n",
    "        optimizer.step()\n",
    "        \n",
    "        total_loss += loss.item()\n",
    "        \n",
    "\n",
    "    if epoch % 1 == 0:\n",
    "        print(epoch)\n",
    "        print(total_loss)\n",
    "        \n",
    "    losses.append(total_loss)"
   ]
  },
  {
   "cell_type": "code",
   "execution_count": 21,
   "id": "1736a7db",
   "metadata": {
    "execution": {
     "iopub.execute_input": "2022-04-25T13:55:35.049242Z",
     "iopub.status.busy": "2022-04-25T13:55:35.044542Z",
     "iopub.status.idle": "2022-04-25T13:55:35.051513Z",
     "shell.execute_reply": "2022-04-25T13:55:35.051196Z"
    },
    "papermill": {
     "duration": 0.040251,
     "end_time": "2022-04-25T13:55:35.051586",
     "exception": false,
     "start_time": "2022-04-25T13:55:35.011335",
     "status": "completed"
    },
    "tags": []
   },
   "outputs": [
    {
     "data": {
      "text/plain": [
       "6502282.0"
      ]
     },
     "execution_count": 21,
     "metadata": {},
     "output_type": "execute_result"
    }
   ],
   "source": [
    "loss.item()"
   ]
  },
  {
   "cell_type": "code",
   "execution_count": 22,
   "id": "0af97671",
   "metadata": {
    "execution": {
     "iopub.execute_input": "2022-04-25T13:55:35.106091Z",
     "iopub.status.busy": "2022-04-25T13:55:35.105650Z",
     "iopub.status.idle": "2022-04-25T13:55:35.117258Z",
     "shell.execute_reply": "2022-04-25T13:55:35.116893Z"
    },
    "papermill": {
     "duration": 0.040271,
     "end_time": "2022-04-25T13:55:35.117329",
     "exception": false,
     "start_time": "2022-04-25T13:55:35.077058",
     "status": "completed"
    },
    "tags": []
   },
   "outputs": [],
   "source": [
    "np.save(f'./results/loss_curves/mf_rank{DECOMP_RANK}_L{LAPLACIAN_PARAM}_TV{TV_PARAM}_losses', np.array(losses))"
   ]
  },
  {
   "cell_type": "code",
   "execution_count": 23,
   "id": "c24d07df",
   "metadata": {
    "execution": {
     "iopub.execute_input": "2022-04-25T13:55:35.172601Z",
     "iopub.status.busy": "2022-04-25T13:55:35.171897Z",
     "iopub.status.idle": "2022-04-25T13:55:35.291383Z",
     "shell.execute_reply": "2022-04-25T13:55:35.290995Z"
    },
    "papermill": {
     "duration": 0.148198,
     "end_time": "2022-04-25T13:55:35.291451",
     "exception": false,
     "start_time": "2022-04-25T13:55:35.143253",
     "status": "completed"
    },
    "tags": []
   },
   "outputs": [],
   "source": [
    "torch.save(mf.state_dict(), f'./results/saved_models/mf_rank{DECOMP_RANK}_L{LAPLACIAN_PARAM}_TV{TV_PARAM}_state')"
   ]
  },
  {
   "cell_type": "code",
   "execution_count": 24,
   "id": "8327d41b",
   "metadata": {
    "execution": {
     "iopub.execute_input": "2022-04-25T13:55:35.349370Z",
     "iopub.status.busy": "2022-04-25T13:55:35.349016Z",
     "iopub.status.idle": "2022-04-25T13:57:07.369366Z",
     "shell.execute_reply": "2022-04-25T13:57:07.368766Z"
    },
    "papermill": {
     "duration": 92.05233,
     "end_time": "2022-04-25T13:57:07.369470",
     "exception": false,
     "start_time": "2022-04-25T13:55:35.317140",
     "status": "completed"
    },
    "tags": []
   },
   "outputs": [],
   "source": [
    "final_output = mf.forward(torch.arange(0, data_dense_tensor.shape[0]), torch.arange(0, data_dense_tensor.shape[1]))\n",
    "\n",
    "final_squared_error = squared_loss(data_dense_tensor, final_output)\n",
    "final_laplacian = laplacian_loss(final_output, adjacency_to_laplacian(adjacency_dense_tensor).to(device=device))\n",
    "final_TV =  laplacian_loss(final_output, adjacency_to_laplacian(adjacency_to_L1_adjacency(final_output, adjacency_dense_tensor, 0.001, device)).to(device=device))"
   ]
  },
  {
   "cell_type": "code",
   "execution_count": 25,
   "id": "336db2c6",
   "metadata": {
    "execution": {
     "iopub.execute_input": "2022-04-25T13:57:07.430525Z",
     "iopub.status.busy": "2022-04-25T13:57:07.430157Z",
     "iopub.status.idle": "2022-04-25T13:57:08.500756Z",
     "shell.execute_reply": "2022-04-25T13:57:08.500380Z"
    },
    "papermill": {
     "duration": 1.101501,
     "end_time": "2022-04-25T13:57:08.500845",
     "exception": false,
     "start_time": "2022-04-25T13:57:07.399344",
     "status": "completed"
    },
    "tags": []
   },
   "outputs": [],
   "source": [
    "np.save(f'./results/final_losses/mf_rank{DECOMP_RANK}_L{LAPLACIAN_PARAM}_TV{TV_PARAM}_losses', np.array([final_squared_error.item(), final_laplacian.item(), final_TV.item()]))"
   ]
  },
  {
   "cell_type": "code",
   "execution_count": null,
   "id": "897d89ec",
   "metadata": {
    "papermill": {
     "duration": 0.024338,
     "end_time": "2022-04-25T13:57:08.552377",
     "exception": false,
     "start_time": "2022-04-25T13:57:08.528039",
     "status": "completed"
    },
    "tags": []
   },
   "outputs": [],
   "source": []
  }
 ],
 "metadata": {
  "interpreter": {
   "hash": "22ee4ece52021b4a120b95b326dd7a4d7938576e919f53927a7959ab5d7e1e45"
  },
  "kernelspec": {
   "display_name": "spatialSFT",
   "language": "python",
   "name": "spatialsft"
  },
  "language_info": {
   "codemirror_mode": {
    "name": "ipython",
    "version": 3
   },
   "file_extension": ".py",
   "mimetype": "text/x-python",
   "name": "python",
   "nbconvert_exporter": "python",
   "pygments_lexer": "ipython3",
   "version": "3.8.0"
  },
  "papermill": {
   "default_parameters": {},
   "duration": 3735.425316,
   "end_time": "2022-04-25T13:57:15.688973",
   "environment_variables": {},
   "exception": null,
   "input_path": "./notebooks/mf_param_template.ipynb",
   "output_path": "./papermill_output/mf_param_template_rank100_lap0.001_tv0.01.ipynb",
   "parameters": {
    "DECOMP_RANK": 100,
    "LAPLACIAN_PARAM": 0.001,
    "TV_PARAM": 0.01
   },
   "start_time": "2022-04-25T12:55:00.263657",
   "version": "2.3.4"
  }
 },
 "nbformat": 4,
 "nbformat_minor": 5
}