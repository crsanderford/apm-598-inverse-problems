{
 "cells": [
  {
   "cell_type": "markdown",
   "id": "4946ca5b",
   "metadata": {
    "papermill": {
     "duration": 0.03661,
     "end_time": "2022-04-25T11:51:54.042030",
     "exception": false,
     "start_time": "2022-04-25T11:51:54.005420",
     "status": "completed"
    },
    "tags": []
   },
   "source": [
    "### setup"
   ]
  },
  {
   "cell_type": "code",
   "execution_count": 1,
   "id": "55ccaa83",
   "metadata": {
    "execution": {
     "iopub.execute_input": "2022-04-25T11:51:54.076412Z",
     "iopub.status.busy": "2022-04-25T11:51:54.076052Z",
     "iopub.status.idle": "2022-04-25T11:51:58.022377Z",
     "shell.execute_reply": "2022-04-25T11:51:58.021918Z"
    },
    "papermill": {
     "duration": 3.966394,
     "end_time": "2022-04-25T11:51:58.022473",
     "exception": false,
     "start_time": "2022-04-25T11:51:54.056079",
     "status": "completed"
    },
    "tags": []
   },
   "outputs": [],
   "source": [
    "import numpy as np \n",
    "import matplotlib.pyplot as plt\n",
    "import pandas as pd\n",
    "\n",
    "import scipy\n",
    "\n",
    "\n",
    "from utils import *\n",
    "from pytorch_sparse_utils import *\n",
    "\n",
    "\n",
    "import torch\n",
    "from torch import nn\n",
    "import torch.nn.functional as F"
   ]
  },
  {
   "cell_type": "markdown",
   "id": "ab1436f2",
   "metadata": {
    "papermill": {
     "duration": 0.013762,
     "end_time": "2022-04-25T11:51:58.050520",
     "exception": false,
     "start_time": "2022-04-25T11:51:58.036758",
     "status": "completed"
    },
    "tags": []
   },
   "source": [
    "### set parameters"
   ]
  },
  {
   "cell_type": "code",
   "execution_count": 2,
   "id": "6e90f8df",
   "metadata": {
    "execution": {
     "iopub.execute_input": "2022-04-25T11:51:58.080921Z",
     "iopub.status.busy": "2022-04-25T11:51:58.080556Z",
     "iopub.status.idle": "2022-04-25T11:51:58.082653Z",
     "shell.execute_reply": "2022-04-25T11:51:58.082955Z"
    },
    "papermill": {
     "duration": 0.018986,
     "end_time": "2022-04-25T11:51:58.083036",
     "exception": false,
     "start_time": "2022-04-25T11:51:58.064050",
     "status": "completed"
    },
    "tags": [
     "parameters"
    ]
   },
   "outputs": [],
   "source": [
    "DECOMP_RANK = 10\n",
    "LAPLACIAN_PARAM = 0.001\n",
    "TV_PARAM = 0.001"
   ]
  },
  {
   "cell_type": "code",
   "execution_count": 3,
   "id": "bd04e7fb",
   "metadata": {
    "execution": {
     "iopub.execute_input": "2022-04-25T11:51:58.113965Z",
     "iopub.status.busy": "2022-04-25T11:51:58.113595Z",
     "iopub.status.idle": "2022-04-25T11:51:58.115833Z",
     "shell.execute_reply": "2022-04-25T11:51:58.115496Z"
    },
    "papermill": {
     "duration": 0.018279,
     "end_time": "2022-04-25T11:51:58.115909",
     "exception": false,
     "start_time": "2022-04-25T11:51:58.097630",
     "status": "completed"
    },
    "tags": [
     "injected-parameters"
    ]
   },
   "outputs": [],
   "source": [
    "# Parameters\n",
    "DECOMP_RANK = 100\n",
    "LAPLACIAN_PARAM = 0.001\n",
    "TV_PARAM = 0.1\n"
   ]
  },
  {
   "cell_type": "code",
   "execution_count": 4,
   "id": "a2be4096",
   "metadata": {
    "execution": {
     "iopub.execute_input": "2022-04-25T11:51:58.146955Z",
     "iopub.status.busy": "2022-04-25T11:51:58.146558Z",
     "iopub.status.idle": "2022-04-25T11:52:16.026265Z",
     "shell.execute_reply": "2022-04-25T11:52:16.025934Z"
    },
    "papermill": {
     "duration": 17.895189,
     "end_time": "2022-04-25T11:52:16.026351",
     "exception": false,
     "start_time": "2022-04-25T11:51:58.131162",
     "status": "completed"
    },
    "tags": []
   },
   "outputs": [
    {
     "name": "stdout",
     "output_type": "stream",
     "text": [
      "Using cuda device\n"
     ]
    }
   ],
   "source": [
    "device = 'cuda' if torch.cuda.is_available() else 'cpu'\n",
    "print('Using {} device'.format(device))"
   ]
  },
  {
   "cell_type": "markdown",
   "id": "fec48128",
   "metadata": {
    "papermill": {
     "duration": 0.052581,
     "end_time": "2022-04-25T11:52:16.162898",
     "exception": false,
     "start_time": "2022-04-25T11:52:16.110317",
     "status": "completed"
    },
    "tags": []
   },
   "source": [
    "### loading data"
   ]
  },
  {
   "cell_type": "code",
   "execution_count": 5,
   "id": "c31a95f7",
   "metadata": {
    "execution": {
     "iopub.execute_input": "2022-04-25T11:52:16.195556Z",
     "iopub.status.busy": "2022-04-25T11:52:16.195178Z",
     "iopub.status.idle": "2022-04-25T11:52:18.468516Z",
     "shell.execute_reply": "2022-04-25T11:52:18.468811Z"
    },
    "papermill": {
     "duration": 2.291066,
     "end_time": "2022-04-25T11:52:18.468917",
     "exception": false,
     "start_time": "2022-04-25T11:52:16.177851",
     "status": "completed"
    },
    "tags": []
   },
   "outputs": [
    {
     "data": {
      "text/html": [
       "<div>\n",
       "<style scoped>\n",
       "    .dataframe tbody tr th:only-of-type {\n",
       "        vertical-align: middle;\n",
       "    }\n",
       "\n",
       "    .dataframe tbody tr th {\n",
       "        vertical-align: top;\n",
       "    }\n",
       "\n",
       "    .dataframe thead th {\n",
       "        text-align: right;\n",
       "    }\n",
       "</style>\n",
       "<table border=\"1\" class=\"dataframe\">\n",
       "  <thead>\n",
       "    <tr style=\"text-align: right;\">\n",
       "      <th></th>\n",
       "      <th>1110008P14Rik</th>\n",
       "      <th>1500009C09Rik</th>\n",
       "      <th>1500012F01Rik</th>\n",
       "      <th>1700020I14Rik</th>\n",
       "      <th>2010107E04Rik</th>\n",
       "      <th>2010300C02Rik</th>\n",
       "      <th>2210016L21Rik</th>\n",
       "      <th>2310036O22Rik</th>\n",
       "      <th>2900011O08Rik</th>\n",
       "      <th>3110035E14Rik</th>\n",
       "      <th>...</th>\n",
       "      <th>Zrsr1</th>\n",
       "      <th>Zwint</th>\n",
       "      <th>mt-Co1</th>\n",
       "      <th>mt-Cytb</th>\n",
       "      <th>mt-Nd1</th>\n",
       "      <th>mt-Nd2</th>\n",
       "      <th>mt-Nd4</th>\n",
       "      <th>mt-Nd5</th>\n",
       "      <th>mt-Rnr1</th>\n",
       "      <th>mt-Rnr2</th>\n",
       "    </tr>\n",
       "  </thead>\n",
       "  <tbody>\n",
       "    <tr>\n",
       "      <th>AAAAAAAGGTAGTA</th>\n",
       "      <td>0</td>\n",
       "      <td>0</td>\n",
       "      <td>0</td>\n",
       "      <td>0</td>\n",
       "      <td>0</td>\n",
       "      <td>0</td>\n",
       "      <td>0</td>\n",
       "      <td>0</td>\n",
       "      <td>0</td>\n",
       "      <td>0</td>\n",
       "      <td>...</td>\n",
       "      <td>0</td>\n",
       "      <td>0</td>\n",
       "      <td>0</td>\n",
       "      <td>0</td>\n",
       "      <td>0</td>\n",
       "      <td>0</td>\n",
       "      <td>0</td>\n",
       "      <td>0</td>\n",
       "      <td>1</td>\n",
       "      <td>0</td>\n",
       "    </tr>\n",
       "    <tr>\n",
       "      <th>AAAAAAAGTCCCAA</th>\n",
       "      <td>0</td>\n",
       "      <td>0</td>\n",
       "      <td>0</td>\n",
       "      <td>0</td>\n",
       "      <td>0</td>\n",
       "      <td>0</td>\n",
       "      <td>0</td>\n",
       "      <td>0</td>\n",
       "      <td>0</td>\n",
       "      <td>0</td>\n",
       "      <td>...</td>\n",
       "      <td>0</td>\n",
       "      <td>0</td>\n",
       "      <td>2</td>\n",
       "      <td>2</td>\n",
       "      <td>5</td>\n",
       "      <td>0</td>\n",
       "      <td>1</td>\n",
       "      <td>0</td>\n",
       "      <td>2</td>\n",
       "      <td>4</td>\n",
       "    </tr>\n",
       "    <tr>\n",
       "      <th>AAAAAAATCTTAGT</th>\n",
       "      <td>0</td>\n",
       "      <td>0</td>\n",
       "      <td>0</td>\n",
       "      <td>0</td>\n",
       "      <td>0</td>\n",
       "      <td>0</td>\n",
       "      <td>0</td>\n",
       "      <td>0</td>\n",
       "      <td>0</td>\n",
       "      <td>0</td>\n",
       "      <td>...</td>\n",
       "      <td>0</td>\n",
       "      <td>0</td>\n",
       "      <td>0</td>\n",
       "      <td>0</td>\n",
       "      <td>0</td>\n",
       "      <td>0</td>\n",
       "      <td>0</td>\n",
       "      <td>0</td>\n",
       "      <td>0</td>\n",
       "      <td>0</td>\n",
       "    </tr>\n",
       "    <tr>\n",
       "      <th>AAAAAACATCTTTC</th>\n",
       "      <td>0</td>\n",
       "      <td>0</td>\n",
       "      <td>0</td>\n",
       "      <td>0</td>\n",
       "      <td>0</td>\n",
       "      <td>0</td>\n",
       "      <td>0</td>\n",
       "      <td>0</td>\n",
       "      <td>0</td>\n",
       "      <td>0</td>\n",
       "      <td>...</td>\n",
       "      <td>0</td>\n",
       "      <td>0</td>\n",
       "      <td>0</td>\n",
       "      <td>0</td>\n",
       "      <td>0</td>\n",
       "      <td>0</td>\n",
       "      <td>0</td>\n",
       "      <td>0</td>\n",
       "      <td>1</td>\n",
       "      <td>0</td>\n",
       "    </tr>\n",
       "    <tr>\n",
       "      <th>AAAAAACGAAATAG</th>\n",
       "      <td>0</td>\n",
       "      <td>0</td>\n",
       "      <td>0</td>\n",
       "      <td>0</td>\n",
       "      <td>0</td>\n",
       "      <td>0</td>\n",
       "      <td>0</td>\n",
       "      <td>0</td>\n",
       "      <td>0</td>\n",
       "      <td>0</td>\n",
       "      <td>...</td>\n",
       "      <td>0</td>\n",
       "      <td>0</td>\n",
       "      <td>1</td>\n",
       "      <td>0</td>\n",
       "      <td>0</td>\n",
       "      <td>0</td>\n",
       "      <td>0</td>\n",
       "      <td>0</td>\n",
       "      <td>0</td>\n",
       "      <td>0</td>\n",
       "    </tr>\n",
       "  </tbody>\n",
       "</table>\n",
       "<p>5 rows × 1222 columns</p>\n",
       "</div>"
      ],
      "text/plain": [
       "                1110008P14Rik  1500009C09Rik  1500012F01Rik  1700020I14Rik  \\\n",
       "AAAAAAAGGTAGTA              0              0              0              0   \n",
       "AAAAAAAGTCCCAA              0              0              0              0   \n",
       "AAAAAAATCTTAGT              0              0              0              0   \n",
       "AAAAAACATCTTTC              0              0              0              0   \n",
       "AAAAAACGAAATAG              0              0              0              0   \n",
       "\n",
       "                2010107E04Rik  2010300C02Rik  2210016L21Rik  2310036O22Rik  \\\n",
       "AAAAAAAGGTAGTA              0              0              0              0   \n",
       "AAAAAAAGTCCCAA              0              0              0              0   \n",
       "AAAAAAATCTTAGT              0              0              0              0   \n",
       "AAAAAACATCTTTC              0              0              0              0   \n",
       "AAAAAACGAAATAG              0              0              0              0   \n",
       "\n",
       "                2900011O08Rik  3110035E14Rik  ...  Zrsr1  Zwint  mt-Co1  \\\n",
       "AAAAAAAGGTAGTA              0              0  ...      0      0       0   \n",
       "AAAAAAAGTCCCAA              0              0  ...      0      0       2   \n",
       "AAAAAAATCTTAGT              0              0  ...      0      0       0   \n",
       "AAAAAACATCTTTC              0              0  ...      0      0       0   \n",
       "AAAAAACGAAATAG              0              0  ...      0      0       1   \n",
       "\n",
       "                mt-Cytb  mt-Nd1  mt-Nd2  mt-Nd4  mt-Nd5  mt-Rnr1  mt-Rnr2  \n",
       "AAAAAAAGGTAGTA        0       0       0       0       0        1        0  \n",
       "AAAAAAAGTCCCAA        2       5       0       1       0        2        4  \n",
       "AAAAAAATCTTAGT        0       0       0       0       0        0        0  \n",
       "AAAAAACATCTTTC        0       0       0       0       0        1        0  \n",
       "AAAAAACGAAATAG        0       0       0       0       0        0        0  \n",
       "\n",
       "[5 rows x 1222 columns]"
      ]
     },
     "execution_count": 5,
     "metadata": {},
     "output_type": "execute_result"
    }
   ],
   "source": [
    "bead_reads_subset = pd.read_csv('./data/bead_reads_subset.csv', index_col='Unnamed: 0')\n",
    "bead_reads_subset.head()"
   ]
  },
  {
   "cell_type": "code",
   "execution_count": 6,
   "id": "425b9b72",
   "metadata": {
    "execution": {
     "iopub.execute_input": "2022-04-25T11:52:18.503181Z",
     "iopub.status.busy": "2022-04-25T11:52:18.502816Z",
     "iopub.status.idle": "2022-04-25T11:52:19.046964Z",
     "shell.execute_reply": "2022-04-25T11:52:19.046420Z"
    },
    "papermill": {
     "duration": 0.562442,
     "end_time": "2022-04-25T11:52:19.047067",
     "exception": false,
     "start_time": "2022-04-25T11:52:18.484625",
     "status": "completed"
    },
    "tags": []
   },
   "outputs": [],
   "source": [
    "data_scipy_sparse = scipy.sparse.coo_matrix( bead_reads_subset.to_numpy() )"
   ]
  },
  {
   "cell_type": "code",
   "execution_count": 7,
   "id": "69426689",
   "metadata": {
    "execution": {
     "iopub.execute_input": "2022-04-25T11:52:19.081456Z",
     "iopub.status.busy": "2022-04-25T11:52:19.081104Z",
     "iopub.status.idle": "2022-04-25T11:52:23.004782Z",
     "shell.execute_reply": "2022-04-25T11:52:23.004427Z"
    },
    "papermill": {
     "duration": 3.942214,
     "end_time": "2022-04-25T11:52:23.004882",
     "exception": false,
     "start_time": "2022-04-25T11:52:19.062668",
     "status": "completed"
    },
    "tags": []
   },
   "outputs": [],
   "source": [
    "data_sparse_tensor = scipy_sparse_to_pytorch_sparse(data_scipy_sparse).to(device=device)"
   ]
  },
  {
   "cell_type": "code",
   "execution_count": 8,
   "id": "24b26fe3",
   "metadata": {
    "execution": {
     "iopub.execute_input": "2022-04-25T11:52:23.038583Z",
     "iopub.status.busy": "2022-04-25T11:52:23.038224Z",
     "iopub.status.idle": "2022-04-25T11:52:23.044650Z",
     "shell.execute_reply": "2022-04-25T11:52:23.044257Z"
    },
    "papermill": {
     "duration": 0.024525,
     "end_time": "2022-04-25T11:52:23.044770",
     "exception": false,
     "start_time": "2022-04-25T11:52:23.020245",
     "status": "completed"
    },
    "tags": []
   },
   "outputs": [
    {
     "data": {
      "text/plain": [
       "tensor(indices=tensor([[    0,     0,     0,  ..., 53207, 53207, 53207],\n",
       "                       [   84,   412,   528,  ...,  1219,  1220,  1221]]),\n",
       "       values=tensor([ 1.,  1.,  1.,  ..., 12., 26., 71.]),\n",
       "       device='cuda:0', size=(53208, 1222), nnz=9552845, layout=torch.sparse_coo)"
      ]
     },
     "execution_count": 8,
     "metadata": {},
     "output_type": "execute_result"
    }
   ],
   "source": [
    "data_sparse_tensor"
   ]
  },
  {
   "cell_type": "code",
   "execution_count": 9,
   "id": "50a90c9a",
   "metadata": {
    "execution": {
     "iopub.execute_input": "2022-04-25T11:52:23.096417Z",
     "iopub.status.busy": "2022-04-25T11:52:23.096067Z",
     "iopub.status.idle": "2022-04-25T11:52:23.098212Z",
     "shell.execute_reply": "2022-04-25T11:52:23.098495Z"
    },
    "papermill": {
     "duration": 0.030478,
     "end_time": "2022-04-25T11:52:23.098574",
     "exception": false,
     "start_time": "2022-04-25T11:52:23.068096",
     "status": "completed"
    },
    "tags": []
   },
   "outputs": [],
   "source": [
    "data_dense_tensor = data_sparse_tensor.to_dense()"
   ]
  },
  {
   "cell_type": "code",
   "execution_count": 10,
   "id": "6127cb57",
   "metadata": {
    "execution": {
     "iopub.execute_input": "2022-04-25T11:52:23.153184Z",
     "iopub.status.busy": "2022-04-25T11:52:23.152819Z",
     "iopub.status.idle": "2022-04-25T11:52:23.287319Z",
     "shell.execute_reply": "2022-04-25T11:52:23.286999Z"
    },
    "papermill": {
     "duration": 0.172694,
     "end_time": "2022-04-25T11:52:23.287391",
     "exception": false,
     "start_time": "2022-04-25T11:52:23.114697",
     "status": "completed"
    },
    "tags": []
   },
   "outputs": [],
   "source": [
    "mask_scipy_sparse = (data_scipy_sparse != 0).astype(np.int64).tocoo()"
   ]
  },
  {
   "cell_type": "code",
   "execution_count": 11,
   "id": "ef8d20ab",
   "metadata": {
    "execution": {
     "iopub.execute_input": "2022-04-25T11:52:23.346851Z",
     "iopub.status.busy": "2022-04-25T11:52:23.346492Z",
     "iopub.status.idle": "2022-04-25T11:52:23.401857Z",
     "shell.execute_reply": "2022-04-25T11:52:23.401502Z"
    },
    "papermill": {
     "duration": 0.084968,
     "end_time": "2022-04-25T11:52:23.401954",
     "exception": false,
     "start_time": "2022-04-25T11:52:23.316986",
     "status": "completed"
    },
    "tags": []
   },
   "outputs": [],
   "source": [
    "mask_sparse_tensor = scipy_sparse_to_pytorch_sparse(mask_scipy_sparse)"
   ]
  },
  {
   "cell_type": "code",
   "execution_count": 12,
   "id": "29c2ef64",
   "metadata": {
    "execution": {
     "iopub.execute_input": "2022-04-25T11:52:23.463821Z",
     "iopub.status.busy": "2022-04-25T11:52:23.462636Z",
     "iopub.status.idle": "2022-04-25T11:52:24.348379Z",
     "shell.execute_reply": "2022-04-25T11:52:24.348772Z"
    },
    "papermill": {
     "duration": 0.915866,
     "end_time": "2022-04-25T11:52:24.348898",
     "exception": false,
     "start_time": "2022-04-25T11:52:23.433032",
     "status": "completed"
    },
    "tags": []
   },
   "outputs": [],
   "source": [
    "mask_dense_tensor = mask_sparse_tensor.to_dense().bool()"
   ]
  },
  {
   "cell_type": "code",
   "execution_count": 13,
   "id": "e193aebe",
   "metadata": {
    "execution": {
     "iopub.execute_input": "2022-04-25T11:52:24.409648Z",
     "iopub.status.busy": "2022-04-25T11:52:24.409244Z",
     "iopub.status.idle": "2022-04-25T11:52:47.899736Z",
     "shell.execute_reply": "2022-04-25T11:52:47.899324Z"
    },
    "papermill": {
     "duration": 23.523843,
     "end_time": "2022-04-25T11:52:47.899854",
     "exception": false,
     "start_time": "2022-04-25T11:52:24.376011",
     "status": "completed"
    },
    "tags": []
   },
   "outputs": [],
   "source": [
    "distances = np.load('./data/macosko_distance_matrix.npy')"
   ]
  },
  {
   "cell_type": "code",
   "execution_count": 14,
   "id": "3583d775",
   "metadata": {
    "execution": {
     "iopub.execute_input": "2022-04-25T11:52:47.973937Z",
     "iopub.status.busy": "2022-04-25T11:52:47.973522Z",
     "iopub.status.idle": "2022-04-25T11:52:55.738486Z",
     "shell.execute_reply": "2022-04-25T11:52:55.738085Z"
    },
    "papermill": {
     "duration": 7.806964,
     "end_time": "2022-04-25T11:52:55.738586",
     "exception": false,
     "start_time": "2022-04-25T11:52:47.931622",
     "status": "completed"
    },
    "tags": []
   },
   "outputs": [],
   "source": [
    "adjacency = scipy.sparse.coo_matrix( distances <= 20 , dtype=np.float32)\n",
    "degree = scipy.sparse.diags( adjacency.sum(axis=0).A1 )\n",
    "laplacian = (degree - adjacency).tocoo()"
   ]
  },
  {
   "cell_type": "code",
   "execution_count": 15,
   "id": "3de7da30",
   "metadata": {
    "execution": {
     "iopub.execute_input": "2022-04-25T11:52:55.811143Z",
     "iopub.status.busy": "2022-04-25T11:52:55.810619Z",
     "iopub.status.idle": "2022-04-25T11:52:55.814469Z",
     "shell.execute_reply": "2022-04-25T11:52:55.814746Z"
    },
    "papermill": {
     "duration": 0.04419,
     "end_time": "2022-04-25T11:52:55.814854",
     "exception": false,
     "start_time": "2022-04-25T11:52:55.770664",
     "status": "completed"
    },
    "tags": []
   },
   "outputs": [],
   "source": [
    "adjacency_sparse_tensor = scipy_sparse_to_pytorch_sparse(adjacency)"
   ]
  },
  {
   "cell_type": "code",
   "execution_count": 16,
   "id": "df1f7f8f",
   "metadata": {
    "execution": {
     "iopub.execute_input": "2022-04-25T11:52:55.897661Z",
     "iopub.status.busy": "2022-04-25T11:52:55.896257Z",
     "iopub.status.idle": "2022-04-25T11:52:58.125127Z",
     "shell.execute_reply": "2022-04-25T11:52:58.125522Z"
    },
    "papermill": {
     "duration": 2.267986,
     "end_time": "2022-04-25T11:52:58.125709",
     "exception": false,
     "start_time": "2022-04-25T11:52:55.857723",
     "status": "completed"
    },
    "tags": []
   },
   "outputs": [],
   "source": [
    "adjacency_dense_tensor = adjacency_sparse_tensor.to_dense()"
   ]
  },
  {
   "cell_type": "code",
   "execution_count": 17,
   "id": "12e653bf",
   "metadata": {
    "execution": {
     "iopub.execute_input": "2022-04-25T11:52:58.187948Z",
     "iopub.status.busy": "2022-04-25T11:52:58.187349Z",
     "iopub.status.idle": "2022-04-25T11:52:58.188968Z",
     "shell.execute_reply": "2022-04-25T11:52:58.189320Z"
    },
    "papermill": {
     "duration": 0.026401,
     "end_time": "2022-04-25T11:52:58.189453",
     "exception": false,
     "start_time": "2022-04-25T11:52:58.163052",
     "status": "completed"
    },
    "tags": []
   },
   "outputs": [],
   "source": [
    "def laplacian_loss(x, x_lap):\n",
    "    \n",
    "    lap_sum = 0\n",
    "    for ii in range(x.shape[1]):\n",
    "        lap_sum = lap_sum + (x[:,ii].T @ x_lap @ x[:,ii])\n",
    "        \n",
    "    return lap_sum"
   ]
  },
  {
   "cell_type": "code",
   "execution_count": 18,
   "id": "2afb0277",
   "metadata": {
    "execution": {
     "iopub.execute_input": "2022-04-25T11:52:58.271893Z",
     "iopub.status.busy": "2022-04-25T11:52:58.270301Z",
     "iopub.status.idle": "2022-04-25T11:52:58.284236Z",
     "shell.execute_reply": "2022-04-25T11:52:58.283711Z"
    },
    "papermill": {
     "duration": 0.046656,
     "end_time": "2022-04-25T11:52:58.284335",
     "exception": false,
     "start_time": "2022-04-25T11:52:58.237679",
     "status": "completed"
    },
    "tags": []
   },
   "outputs": [],
   "source": [
    "mf = MatrixFactorization(mask_sparse_tensor.shape[0], mask_sparse_tensor.shape[1], DECOMP_RANK).to(device=device)"
   ]
  },
  {
   "cell_type": "code",
   "execution_count": 19,
   "id": "4e70c00b",
   "metadata": {
    "execution": {
     "iopub.execute_input": "2022-04-25T11:52:58.413034Z",
     "iopub.status.busy": "2022-04-25T11:52:58.412525Z",
     "iopub.status.idle": "2022-04-25T11:52:58.414247Z",
     "shell.execute_reply": "2022-04-25T11:52:58.414523Z"
    },
    "papermill": {
     "duration": 0.098093,
     "end_time": "2022-04-25T11:52:58.414622",
     "exception": false,
     "start_time": "2022-04-25T11:52:58.316529",
     "status": "completed"
    },
    "tags": []
   },
   "outputs": [],
   "source": [
    "import torch.optim as optim\n",
    "\n",
    "optimizer = optim.Adam(mf.parameters(), lr=0.001)"
   ]
  },
  {
   "cell_type": "code",
   "execution_count": 20,
   "id": "ac3c7a86",
   "metadata": {
    "execution": {
     "iopub.execute_input": "2022-04-25T11:52:58.666976Z",
     "iopub.status.busy": "2022-04-25T11:52:58.666490Z",
     "iopub.status.idle": "2022-04-25T12:52:44.982076Z",
     "shell.execute_reply": "2022-04-25T12:52:44.982450Z"
    },
    "papermill": {
     "duration": 3586.422614,
     "end_time": "2022-04-25T12:52:44.982579",
     "exception": false,
     "start_time": "2022-04-25T11:52:58.559965",
     "status": "completed"
    },
    "tags": []
   },
   "outputs": [
    {
     "name": "stdout",
     "output_type": "stream",
     "text": [
      "0\n",
      "215980306.0\n"
     ]
    },
    {
     "name": "stdout",
     "output_type": "stream",
     "text": [
      "1\n",
      "215791345.0\n"
     ]
    },
    {
     "name": "stdout",
     "output_type": "stream",
     "text": [
      "2\n",
      "215301400.0\n"
     ]
    },
    {
     "name": "stdout",
     "output_type": "stream",
     "text": [
      "3\n",
      "214380035.0\n"
     ]
    },
    {
     "name": "stdout",
     "output_type": "stream",
     "text": [
      "4\n",
      "212955378.0\n"
     ]
    },
    {
     "name": "stdout",
     "output_type": "stream",
     "text": [
      "5\n",
      "211010564.0\n"
     ]
    },
    {
     "name": "stdout",
     "output_type": "stream",
     "text": [
      "6\n",
      "208582594.0\n"
     ]
    },
    {
     "name": "stdout",
     "output_type": "stream",
     "text": [
      "7\n",
      "205741143.0\n"
     ]
    },
    {
     "name": "stdout",
     "output_type": "stream",
     "text": [
      "8\n",
      "202611068.0\n"
     ]
    },
    {
     "name": "stdout",
     "output_type": "stream",
     "text": [
      "9\n",
      "199338867.0\n"
     ]
    },
    {
     "name": "stdout",
     "output_type": "stream",
     "text": [
      "10\n",
      "196061879.0\n"
     ]
    },
    {
     "name": "stdout",
     "output_type": "stream",
     "text": [
      "11\n",
      "192945450.0\n"
     ]
    },
    {
     "name": "stdout",
     "output_type": "stream",
     "text": [
      "12\n",
      "190075284.0\n"
     ]
    },
    {
     "name": "stdout",
     "output_type": "stream",
     "text": [
      "13\n",
      "187552155.0\n"
     ]
    },
    {
     "name": "stdout",
     "output_type": "stream",
     "text": [
      "14\n",
      "185372086.0\n"
     ]
    },
    {
     "name": "stdout",
     "output_type": "stream",
     "text": [
      "15\n",
      "183499098.5\n"
     ]
    },
    {
     "name": "stdout",
     "output_type": "stream",
     "text": [
      "16\n",
      "181872124.5\n"
     ]
    },
    {
     "name": "stdout",
     "output_type": "stream",
     "text": [
      "17\n",
      "180415464.0\n"
     ]
    },
    {
     "name": "stdout",
     "output_type": "stream",
     "text": [
      "18\n",
      "179074065.0\n"
     ]
    },
    {
     "name": "stdout",
     "output_type": "stream",
     "text": [
      "19\n",
      "177817446.0\n"
     ]
    },
    {
     "name": "stdout",
     "output_type": "stream",
     "text": [
      "20\n",
      "176616994.0\n"
     ]
    },
    {
     "name": "stdout",
     "output_type": "stream",
     "text": [
      "21\n",
      "175469418.0\n"
     ]
    },
    {
     "name": "stdout",
     "output_type": "stream",
     "text": [
      "22\n",
      "174355296.0\n"
     ]
    },
    {
     "name": "stdout",
     "output_type": "stream",
     "text": [
      "23\n",
      "173285396.0\n"
     ]
    },
    {
     "name": "stdout",
     "output_type": "stream",
     "text": [
      "24\n",
      "172236096.5\n"
     ]
    },
    {
     "name": "stdout",
     "output_type": "stream",
     "text": [
      "25\n",
      "171212484.0\n"
     ]
    },
    {
     "name": "stdout",
     "output_type": "stream",
     "text": [
      "26\n",
      "170225619.0\n"
     ]
    },
    {
     "name": "stdout",
     "output_type": "stream",
     "text": [
      "27\n",
      "169248527.0\n"
     ]
    },
    {
     "name": "stdout",
     "output_type": "stream",
     "text": [
      "28\n",
      "168294997.0\n"
     ]
    },
    {
     "name": "stdout",
     "output_type": "stream",
     "text": [
      "29\n",
      "167360355.0\n"
     ]
    },
    {
     "name": "stdout",
     "output_type": "stream",
     "text": [
      "30\n",
      "166435468.0\n"
     ]
    },
    {
     "name": "stdout",
     "output_type": "stream",
     "text": [
      "31\n",
      "165535833.0\n"
     ]
    },
    {
     "name": "stdout",
     "output_type": "stream",
     "text": [
      "32\n",
      "164643021.0\n"
     ]
    },
    {
     "name": "stdout",
     "output_type": "stream",
     "text": [
      "33\n",
      "163761277.0\n"
     ]
    },
    {
     "name": "stdout",
     "output_type": "stream",
     "text": [
      "34\n",
      "162901911.0\n"
     ]
    },
    {
     "name": "stdout",
     "output_type": "stream",
     "text": [
      "35\n",
      "162048274.5\n"
     ]
    },
    {
     "name": "stdout",
     "output_type": "stream",
     "text": [
      "36\n",
      "161208369.5\n"
     ]
    },
    {
     "name": "stdout",
     "output_type": "stream",
     "text": [
      "37\n",
      "160376441.0\n"
     ]
    },
    {
     "name": "stdout",
     "output_type": "stream",
     "text": [
      "38\n",
      "159559822.5\n"
     ]
    },
    {
     "name": "stdout",
     "output_type": "stream",
     "text": [
      "39\n",
      "158749525.0\n"
     ]
    },
    {
     "name": "stdout",
     "output_type": "stream",
     "text": [
      "40\n",
      "157955924.0\n"
     ]
    },
    {
     "name": "stdout",
     "output_type": "stream",
     "text": [
      "41\n",
      "157170014.0\n"
     ]
    },
    {
     "name": "stdout",
     "output_type": "stream",
     "text": [
      "42\n",
      "156383892.0\n"
     ]
    },
    {
     "name": "stdout",
     "output_type": "stream",
     "text": [
      "43\n",
      "155622064.0\n"
     ]
    },
    {
     "name": "stdout",
     "output_type": "stream",
     "text": [
      "44\n",
      "154868490.0\n"
     ]
    },
    {
     "name": "stdout",
     "output_type": "stream",
     "text": [
      "45\n",
      "154123357.5\n"
     ]
    },
    {
     "name": "stdout",
     "output_type": "stream",
     "text": [
      "46\n",
      "153389253.0\n"
     ]
    },
    {
     "name": "stdout",
     "output_type": "stream",
     "text": [
      "47\n",
      "152655964.0\n"
     ]
    },
    {
     "name": "stdout",
     "output_type": "stream",
     "text": [
      "48\n",
      "151946669.0\n"
     ]
    },
    {
     "name": "stdout",
     "output_type": "stream",
     "text": [
      "49\n",
      "151243041.0\n"
     ]
    }
   ],
   "source": [
    "losses = []\n",
    "\n",
    "for epoch in range(50):\n",
    "    \n",
    "    batcher = data_adjacency_batcher(data_dense_tensor, adjacency_dense_tensor, 5000)\n",
    "    \n",
    "    total_loss = 0\n",
    "    \n",
    "    \n",
    "    for (data_batch, mask_batch, adjacency_batch, row_batch) in batcher:\n",
    "        \n",
    "        \n",
    "        \n",
    "        data_batch = data_batch.to(device=device)\n",
    "        mask_batch = mask_batch.to(device=device)\n",
    "        adjacency_batch = adjacency_batch.to(device=device)\n",
    "        row_batch = row_batch.to(device=device)\n",
    "        \n",
    "        laplacian_tensor = adjacency_to_laplacian(adjacency_batch).to(device=device)\n",
    "    \n",
    "        optimizer.zero_grad()\n",
    "\n",
    "        output = mf.forward(row_batch, torch.arange(0, data_batch.shape[1]))\n",
    "        \n",
    "        L1_laplacian_tensor = adjacency_to_laplacian(adjacency_to_L1_adjacency(output, adjacency_batch, 0.001, device)).to(device=device)\n",
    "        \n",
    "        loss = squared_loss(data_batch[mask_batch], output[mask_batch]) + LAPLACIAN_PARAM*laplacian_loss(output, laplacian_tensor) + TV_PARAM*laplacian_loss(output, L1_laplacian_tensor)\n",
    "        loss.backward()\n",
    "        optimizer.step()\n",
    "        \n",
    "        total_loss += loss.item()\n",
    "        \n",
    "\n",
    "    if epoch % 1 == 0:\n",
    "        print(epoch)\n",
    "        print(total_loss)\n",
    "        \n",
    "    losses.append(total_loss)"
   ]
  },
  {
   "cell_type": "code",
   "execution_count": 21,
   "id": "d0aae819",
   "metadata": {
    "execution": {
     "iopub.execute_input": "2022-04-25T12:52:45.047640Z",
     "iopub.status.busy": "2022-04-25T12:52:45.046859Z",
     "iopub.status.idle": "2022-04-25T12:52:45.049971Z",
     "shell.execute_reply": "2022-04-25T12:52:45.049662Z"
    },
    "papermill": {
     "duration": 0.042042,
     "end_time": "2022-04-25T12:52:45.050046",
     "exception": false,
     "start_time": "2022-04-25T12:52:45.008004",
     "status": "completed"
    },
    "tags": []
   },
   "outputs": [
    {
     "data": {
      "text/plain": [
       "11198531.0"
      ]
     },
     "execution_count": 21,
     "metadata": {},
     "output_type": "execute_result"
    }
   ],
   "source": [
    "loss.item()"
   ]
  },
  {
   "cell_type": "code",
   "execution_count": 22,
   "id": "eeb401c7",
   "metadata": {
    "execution": {
     "iopub.execute_input": "2022-04-25T12:52:45.105068Z",
     "iopub.status.busy": "2022-04-25T12:52:45.102372Z",
     "iopub.status.idle": "2022-04-25T12:52:45.117106Z",
     "shell.execute_reply": "2022-04-25T12:52:45.116690Z"
    },
    "papermill": {
     "duration": 0.041695,
     "end_time": "2022-04-25T12:52:45.117178",
     "exception": false,
     "start_time": "2022-04-25T12:52:45.075483",
     "status": "completed"
    },
    "tags": []
   },
   "outputs": [],
   "source": [
    "np.save(f'./results/loss_curves/mf_rank{DECOMP_RANK}_L{LAPLACIAN_PARAM}_TV{TV_PARAM}_losses', np.array(losses))"
   ]
  },
  {
   "cell_type": "code",
   "execution_count": 23,
   "id": "b0918904",
   "metadata": {
    "execution": {
     "iopub.execute_input": "2022-04-25T12:52:45.170720Z",
     "iopub.status.busy": "2022-04-25T12:52:45.170367Z",
     "iopub.status.idle": "2022-04-25T12:52:45.315802Z",
     "shell.execute_reply": "2022-04-25T12:52:45.315369Z"
    },
    "papermill": {
     "duration": 0.17316,
     "end_time": "2022-04-25T12:52:45.315901",
     "exception": false,
     "start_time": "2022-04-25T12:52:45.142741",
     "status": "completed"
    },
    "tags": []
   },
   "outputs": [],
   "source": [
    "torch.save(mf.state_dict(), f'./results/saved_models/mf_rank{DECOMP_RANK}_L{LAPLACIAN_PARAM}_TV{TV_PARAM}_state')"
   ]
  },
  {
   "cell_type": "code",
   "execution_count": 24,
   "id": "fd6e50c0",
   "metadata": {
    "execution": {
     "iopub.execute_input": "2022-04-25T12:52:45.372113Z",
     "iopub.status.busy": "2022-04-25T12:52:45.371559Z",
     "iopub.status.idle": "2022-04-25T12:54:50.788623Z",
     "shell.execute_reply": "2022-04-25T12:54:50.789329Z"
    },
    "papermill": {
     "duration": 125.448632,
     "end_time": "2022-04-25T12:54:50.789504",
     "exception": false,
     "start_time": "2022-04-25T12:52:45.340872",
     "status": "completed"
    },
    "tags": []
   },
   "outputs": [],
   "source": [
    "final_output = mf.forward(torch.arange(0, data_dense_tensor.shape[0]), torch.arange(0, data_dense_tensor.shape[1]))\n",
    "\n",
    "final_squared_error = squared_loss(data_dense_tensor, final_output)\n",
    "final_laplacian = laplacian_loss(final_output, adjacency_to_laplacian(adjacency_dense_tensor).to(device=device))\n",
    "final_TV =  laplacian_loss(final_output, adjacency_to_laplacian(adjacency_to_L1_adjacency(final_output, adjacency_dense_tensor, 0.001, device)).to(device=device))"
   ]
  },
  {
   "cell_type": "code",
   "execution_count": 25,
   "id": "38f32699",
   "metadata": {
    "execution": {
     "iopub.execute_input": "2022-04-25T12:54:50.855100Z",
     "iopub.status.busy": "2022-04-25T12:54:50.854425Z",
     "iopub.status.idle": "2022-04-25T12:54:51.914510Z",
     "shell.execute_reply": "2022-04-25T12:54:51.914084Z"
    },
    "papermill": {
     "duration": 1.093833,
     "end_time": "2022-04-25T12:54:51.914614",
     "exception": false,
     "start_time": "2022-04-25T12:54:50.820781",
     "status": "completed"
    },
    "tags": []
   },
   "outputs": [],
   "source": [
    "np.save(f'./results/final_losses/mf_rank{DECOMP_RANK}_L{LAPLACIAN_PARAM}_TV{TV_PARAM}_losses', np.array([final_squared_error.item(), final_laplacian.item(), final_TV.item()]))"
   ]
  },
  {
   "cell_type": "code",
   "execution_count": null,
   "id": "b3525a76",
   "metadata": {
    "papermill": {
     "duration": 0.031774,
     "end_time": "2022-04-25T12:54:51.972949",
     "exception": false,
     "start_time": "2022-04-25T12:54:51.941175",
     "status": "completed"
    },
    "tags": []
   },
   "outputs": [],
   "source": []
  }
 ],
 "metadata": {
  "interpreter": {
   "hash": "22ee4ece52021b4a120b95b326dd7a4d7938576e919f53927a7959ab5d7e1e45"
  },
  "kernelspec": {
   "display_name": "spatialSFT",
   "language": "python",
   "name": "spatialsft"
  },
  "language_info": {
   "codemirror_mode": {
    "name": "ipython",
    "version": 3
   },
   "file_extension": ".py",
   "mimetype": "text/x-python",
   "name": "python",
   "nbconvert_exporter": "python",
   "pygments_lexer": "ipython3",
   "version": "3.8.0"
  },
  "papermill": {
   "default_parameters": {},
   "duration": 3786.510504,
   "end_time": "2022-04-25T12:54:58.645915",
   "environment_variables": {},
   "exception": null,
   "input_path": "./notebooks/mf_param_template.ipynb",
   "output_path": "./papermill_output/mf_param_template_rank100_lap0.001_tv0.1.ipynb",
   "parameters": {
    "DECOMP_RANK": 100,
    "LAPLACIAN_PARAM": 0.001,
    "TV_PARAM": 0.1
   },
   "start_time": "2022-04-25T11:51:52.135411",
   "version": "2.3.4"
  }
 },
 "nbformat": 4,
 "nbformat_minor": 5
}