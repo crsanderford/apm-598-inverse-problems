{
 "cells": [
  {
   "cell_type": "markdown",
   "id": "d80f8cd0",
   "metadata": {
    "papermill": {
     "duration": 0.015922,
     "end_time": "2022-04-25T09:43:33.197275",
     "exception": false,
     "start_time": "2022-04-25T09:43:33.181353",
     "status": "completed"
    },
    "tags": []
   },
   "source": [
    "### setup"
   ]
  },
  {
   "cell_type": "code",
   "execution_count": 1,
   "id": "4463a3d4",
   "metadata": {
    "execution": {
     "iopub.execute_input": "2022-04-25T09:43:33.231933Z",
     "iopub.status.busy": "2022-04-25T09:43:33.227867Z",
     "iopub.status.idle": "2022-04-25T09:43:37.224013Z",
     "shell.execute_reply": "2022-04-25T09:43:37.223517Z"
    },
    "papermill": {
     "duration": 4.0128,
     "end_time": "2022-04-25T09:43:37.224127",
     "exception": false,
     "start_time": "2022-04-25T09:43:33.211327",
     "status": "completed"
    },
    "tags": []
   },
   "outputs": [],
   "source": [
    "import numpy as np \n",
    "import matplotlib.pyplot as plt\n",
    "import pandas as pd\n",
    "\n",
    "import scipy\n",
    "\n",
    "\n",
    "from utils import *\n",
    "from pytorch_sparse_utils import *\n",
    "\n",
    "\n",
    "import torch\n",
    "from torch import nn\n",
    "import torch.nn.functional as F"
   ]
  },
  {
   "cell_type": "markdown",
   "id": "84a174f8",
   "metadata": {
    "papermill": {
     "duration": 0.014881,
     "end_time": "2022-04-25T09:43:37.254179",
     "exception": false,
     "start_time": "2022-04-25T09:43:37.239298",
     "status": "completed"
    },
    "tags": []
   },
   "source": [
    "### set parameters"
   ]
  },
  {
   "cell_type": "code",
   "execution_count": 2,
   "id": "9881b827",
   "metadata": {
    "execution": {
     "iopub.execute_input": "2022-04-25T09:43:37.286614Z",
     "iopub.status.busy": "2022-04-25T09:43:37.286233Z",
     "iopub.status.idle": "2022-04-25T09:43:37.287904Z",
     "shell.execute_reply": "2022-04-25T09:43:37.288194Z"
    },
    "papermill": {
     "duration": 0.019804,
     "end_time": "2022-04-25T09:43:37.288292",
     "exception": false,
     "start_time": "2022-04-25T09:43:37.268488",
     "status": "completed"
    },
    "tags": [
     "parameters"
    ]
   },
   "outputs": [],
   "source": [
    "DECOMP_RANK = 10\n",
    "LAPLACIAN_PARAM = 0.001\n",
    "TV_PARAM = 0.001"
   ]
  },
  {
   "cell_type": "code",
   "execution_count": 3,
   "id": "1ccbc2d6",
   "metadata": {
    "execution": {
     "iopub.execute_input": "2022-04-25T09:43:37.319079Z",
     "iopub.status.busy": "2022-04-25T09:43:37.318715Z",
     "iopub.status.idle": "2022-04-25T09:43:37.322092Z",
     "shell.execute_reply": "2022-04-25T09:43:37.321739Z"
    },
    "papermill": {
     "duration": 0.019525,
     "end_time": "2022-04-25T09:43:37.322168",
     "exception": false,
     "start_time": "2022-04-25T09:43:37.302643",
     "status": "completed"
    },
    "tags": [
     "injected-parameters"
    ]
   },
   "outputs": [],
   "source": [
    "# Parameters\n",
    "DECOMP_RANK = 100\n",
    "LAPLACIAN_PARAM = 0.01\n",
    "TV_PARAM = 0.0001\n"
   ]
  },
  {
   "cell_type": "code",
   "execution_count": 4,
   "id": "1ff50e69",
   "metadata": {
    "execution": {
     "iopub.execute_input": "2022-04-25T09:43:37.354432Z",
     "iopub.status.busy": "2022-04-25T09:43:37.353777Z",
     "iopub.status.idle": "2022-04-25T09:43:55.218635Z",
     "shell.execute_reply": "2022-04-25T09:43:55.218946Z"
    },
    "papermill": {
     "duration": 17.881947,
     "end_time": "2022-04-25T09:43:55.219060",
     "exception": false,
     "start_time": "2022-04-25T09:43:37.337113",
     "status": "completed"
    },
    "tags": []
   },
   "outputs": [
    {
     "name": "stdout",
     "output_type": "stream",
     "text": [
      "Using cuda device\n"
     ]
    }
   ],
   "source": [
    "device = 'cuda' if torch.cuda.is_available() else 'cpu'\n",
    "print('Using {} device'.format(device))"
   ]
  },
  {
   "cell_type": "markdown",
   "id": "c3e01d28",
   "metadata": {
    "papermill": {
     "duration": 0.014936,
     "end_time": "2022-04-25T09:43:55.250769",
     "exception": false,
     "start_time": "2022-04-25T09:43:55.235833",
     "status": "completed"
    },
    "tags": []
   },
   "source": [
    "### loading data"
   ]
  },
  {
   "cell_type": "code",
   "execution_count": 5,
   "id": "5decf478",
   "metadata": {
    "execution": {
     "iopub.execute_input": "2022-04-25T09:43:55.288988Z",
     "iopub.status.busy": "2022-04-25T09:43:55.288363Z",
     "iopub.status.idle": "2022-04-25T09:43:57.569766Z",
     "shell.execute_reply": "2022-04-25T09:43:57.570168Z"
    },
    "papermill": {
     "duration": 2.30425,
     "end_time": "2022-04-25T09:43:57.570306",
     "exception": false,
     "start_time": "2022-04-25T09:43:55.266056",
     "status": "completed"
    },
    "tags": []
   },
   "outputs": [
    {
     "data": {
      "text/html": [
       "<div>\n",
       "<style scoped>\n",
       "    .dataframe tbody tr th:only-of-type {\n",
       "        vertical-align: middle;\n",
       "    }\n",
       "\n",
       "    .dataframe tbody tr th {\n",
       "        vertical-align: top;\n",
       "    }\n",
       "\n",
       "    .dataframe thead th {\n",
       "        text-align: right;\n",
       "    }\n",
       "</style>\n",
       "<table border=\"1\" class=\"dataframe\">\n",
       "  <thead>\n",
       "    <tr style=\"text-align: right;\">\n",
       "      <th></th>\n",
       "      <th>1110008P14Rik</th>\n",
       "      <th>1500009C09Rik</th>\n",
       "      <th>1500012F01Rik</th>\n",
       "      <th>1700020I14Rik</th>\n",
       "      <th>2010107E04Rik</th>\n",
       "      <th>2010300C02Rik</th>\n",
       "      <th>2210016L21Rik</th>\n",
       "      <th>2310036O22Rik</th>\n",
       "      <th>2900011O08Rik</th>\n",
       "      <th>3110035E14Rik</th>\n",
       "      <th>...</th>\n",
       "      <th>Zrsr1</th>\n",
       "      <th>Zwint</th>\n",
       "      <th>mt-Co1</th>\n",
       "      <th>mt-Cytb</th>\n",
       "      <th>mt-Nd1</th>\n",
       "      <th>mt-Nd2</th>\n",
       "      <th>mt-Nd4</th>\n",
       "      <th>mt-Nd5</th>\n",
       "      <th>mt-Rnr1</th>\n",
       "      <th>mt-Rnr2</th>\n",
       "    </tr>\n",
       "  </thead>\n",
       "  <tbody>\n",
       "    <tr>\n",
       "      <th>AAAAAAAGGTAGTA</th>\n",
       "      <td>0</td>\n",
       "      <td>0</td>\n",
       "      <td>0</td>\n",
       "      <td>0</td>\n",
       "      <td>0</td>\n",
       "      <td>0</td>\n",
       "      <td>0</td>\n",
       "      <td>0</td>\n",
       "      <td>0</td>\n",
       "      <td>0</td>\n",
       "      <td>...</td>\n",
       "      <td>0</td>\n",
       "      <td>0</td>\n",
       "      <td>0</td>\n",
       "      <td>0</td>\n",
       "      <td>0</td>\n",
       "      <td>0</td>\n",
       "      <td>0</td>\n",
       "      <td>0</td>\n",
       "      <td>1</td>\n",
       "      <td>0</td>\n",
       "    </tr>\n",
       "    <tr>\n",
       "      <th>AAAAAAAGTCCCAA</th>\n",
       "      <td>0</td>\n",
       "      <td>0</td>\n",
       "      <td>0</td>\n",
       "      <td>0</td>\n",
       "      <td>0</td>\n",
       "      <td>0</td>\n",
       "      <td>0</td>\n",
       "      <td>0</td>\n",
       "      <td>0</td>\n",
       "      <td>0</td>\n",
       "      <td>...</td>\n",
       "      <td>0</td>\n",
       "      <td>0</td>\n",
       "      <td>2</td>\n",
       "      <td>2</td>\n",
       "      <td>5</td>\n",
       "      <td>0</td>\n",
       "      <td>1</td>\n",
       "      <td>0</td>\n",
       "      <td>2</td>\n",
       "      <td>4</td>\n",
       "    </tr>\n",
       "    <tr>\n",
       "      <th>AAAAAAATCTTAGT</th>\n",
       "      <td>0</td>\n",
       "      <td>0</td>\n",
       "      <td>0</td>\n",
       "      <td>0</td>\n",
       "      <td>0</td>\n",
       "      <td>0</td>\n",
       "      <td>0</td>\n",
       "      <td>0</td>\n",
       "      <td>0</td>\n",
       "      <td>0</td>\n",
       "      <td>...</td>\n",
       "      <td>0</td>\n",
       "      <td>0</td>\n",
       "      <td>0</td>\n",
       "      <td>0</td>\n",
       "      <td>0</td>\n",
       "      <td>0</td>\n",
       "      <td>0</td>\n",
       "      <td>0</td>\n",
       "      <td>0</td>\n",
       "      <td>0</td>\n",
       "    </tr>\n",
       "    <tr>\n",
       "      <th>AAAAAACATCTTTC</th>\n",
       "      <td>0</td>\n",
       "      <td>0</td>\n",
       "      <td>0</td>\n",
       "      <td>0</td>\n",
       "      <td>0</td>\n",
       "      <td>0</td>\n",
       "      <td>0</td>\n",
       "      <td>0</td>\n",
       "      <td>0</td>\n",
       "      <td>0</td>\n",
       "      <td>...</td>\n",
       "      <td>0</td>\n",
       "      <td>0</td>\n",
       "      <td>0</td>\n",
       "      <td>0</td>\n",
       "      <td>0</td>\n",
       "      <td>0</td>\n",
       "      <td>0</td>\n",
       "      <td>0</td>\n",
       "      <td>1</td>\n",
       "      <td>0</td>\n",
       "    </tr>\n",
       "    <tr>\n",
       "      <th>AAAAAACGAAATAG</th>\n",
       "      <td>0</td>\n",
       "      <td>0</td>\n",
       "      <td>0</td>\n",
       "      <td>0</td>\n",
       "      <td>0</td>\n",
       "      <td>0</td>\n",
       "      <td>0</td>\n",
       "      <td>0</td>\n",
       "      <td>0</td>\n",
       "      <td>0</td>\n",
       "      <td>...</td>\n",
       "      <td>0</td>\n",
       "      <td>0</td>\n",
       "      <td>1</td>\n",
       "      <td>0</td>\n",
       "      <td>0</td>\n",
       "      <td>0</td>\n",
       "      <td>0</td>\n",
       "      <td>0</td>\n",
       "      <td>0</td>\n",
       "      <td>0</td>\n",
       "    </tr>\n",
       "  </tbody>\n",
       "</table>\n",
       "<p>5 rows × 1222 columns</p>\n",
       "</div>"
      ],
      "text/plain": [
       "                1110008P14Rik  1500009C09Rik  1500012F01Rik  1700020I14Rik  \\\n",
       "AAAAAAAGGTAGTA              0              0              0              0   \n",
       "AAAAAAAGTCCCAA              0              0              0              0   \n",
       "AAAAAAATCTTAGT              0              0              0              0   \n",
       "AAAAAACATCTTTC              0              0              0              0   \n",
       "AAAAAACGAAATAG              0              0              0              0   \n",
       "\n",
       "                2010107E04Rik  2010300C02Rik  2210016L21Rik  2310036O22Rik  \\\n",
       "AAAAAAAGGTAGTA              0              0              0              0   \n",
       "AAAAAAAGTCCCAA              0              0              0              0   \n",
       "AAAAAAATCTTAGT              0              0              0              0   \n",
       "AAAAAACATCTTTC              0              0              0              0   \n",
       "AAAAAACGAAATAG              0              0              0              0   \n",
       "\n",
       "                2900011O08Rik  3110035E14Rik  ...  Zrsr1  Zwint  mt-Co1  \\\n",
       "AAAAAAAGGTAGTA              0              0  ...      0      0       0   \n",
       "AAAAAAAGTCCCAA              0              0  ...      0      0       2   \n",
       "AAAAAAATCTTAGT              0              0  ...      0      0       0   \n",
       "AAAAAACATCTTTC              0              0  ...      0      0       0   \n",
       "AAAAAACGAAATAG              0              0  ...      0      0       1   \n",
       "\n",
       "                mt-Cytb  mt-Nd1  mt-Nd2  mt-Nd4  mt-Nd5  mt-Rnr1  mt-Rnr2  \n",
       "AAAAAAAGGTAGTA        0       0       0       0       0        1        0  \n",
       "AAAAAAAGTCCCAA        2       5       0       1       0        2        4  \n",
       "AAAAAAATCTTAGT        0       0       0       0       0        0        0  \n",
       "AAAAAACATCTTTC        0       0       0       0       0        1        0  \n",
       "AAAAAACGAAATAG        0       0       0       0       0        0        0  \n",
       "\n",
       "[5 rows x 1222 columns]"
      ]
     },
     "execution_count": 5,
     "metadata": {},
     "output_type": "execute_result"
    }
   ],
   "source": [
    "bead_reads_subset = pd.read_csv('./data/bead_reads_subset.csv', index_col='Unnamed: 0')\n",
    "bead_reads_subset.head()"
   ]
  },
  {
   "cell_type": "code",
   "execution_count": 6,
   "id": "36eda4ee",
   "metadata": {
    "execution": {
     "iopub.execute_input": "2022-04-25T09:43:57.608265Z",
     "iopub.status.busy": "2022-04-25T09:43:57.607868Z",
     "iopub.status.idle": "2022-04-25T09:43:58.153807Z",
     "shell.execute_reply": "2022-04-25T09:43:58.154159Z"
    },
    "papermill": {
     "duration": 0.567317,
     "end_time": "2022-04-25T09:43:58.154284",
     "exception": false,
     "start_time": "2022-04-25T09:43:57.586967",
     "status": "completed"
    },
    "tags": []
   },
   "outputs": [],
   "source": [
    "data_scipy_sparse = scipy.sparse.coo_matrix( bead_reads_subset.to_numpy() )"
   ]
  },
  {
   "cell_type": "code",
   "execution_count": 7,
   "id": "84be627e",
   "metadata": {
    "execution": {
     "iopub.execute_input": "2022-04-25T09:43:58.190462Z",
     "iopub.status.busy": "2022-04-25T09:43:58.189919Z",
     "iopub.status.idle": "2022-04-25T09:44:02.007790Z",
     "shell.execute_reply": "2022-04-25T09:44:02.007220Z"
    },
    "papermill": {
     "duration": 3.8381,
     "end_time": "2022-04-25T09:44:02.007910",
     "exception": false,
     "start_time": "2022-04-25T09:43:58.169810",
     "status": "completed"
    },
    "tags": []
   },
   "outputs": [],
   "source": [
    "data_sparse_tensor = scipy_sparse_to_pytorch_sparse(data_scipy_sparse).to(device=device)"
   ]
  },
  {
   "cell_type": "code",
   "execution_count": 8,
   "id": "a1cc5288",
   "metadata": {
    "execution": {
     "iopub.execute_input": "2022-04-25T09:44:02.044054Z",
     "iopub.status.busy": "2022-04-25T09:44:02.043586Z",
     "iopub.status.idle": "2022-04-25T09:44:02.050568Z",
     "shell.execute_reply": "2022-04-25T09:44:02.050215Z"
    },
    "papermill": {
     "duration": 0.025952,
     "end_time": "2022-04-25T09:44:02.050650",
     "exception": false,
     "start_time": "2022-04-25T09:44:02.024698",
     "status": "completed"
    },
    "tags": []
   },
   "outputs": [
    {
     "data": {
      "text/plain": [
       "tensor(indices=tensor([[    0,     0,     0,  ..., 53207, 53207, 53207],\n",
       "                       [   84,   412,   528,  ...,  1219,  1220,  1221]]),\n",
       "       values=tensor([ 1.,  1.,  1.,  ..., 12., 26., 71.]),\n",
       "       device='cuda:0', size=(53208, 1222), nnz=9552845, layout=torch.sparse_coo)"
      ]
     },
     "execution_count": 8,
     "metadata": {},
     "output_type": "execute_result"
    }
   ],
   "source": [
    "data_sparse_tensor"
   ]
  },
  {
   "cell_type": "code",
   "execution_count": 9,
   "id": "a1548a2f",
   "metadata": {
    "execution": {
     "iopub.execute_input": "2022-04-25T09:44:02.084437Z",
     "iopub.status.busy": "2022-04-25T09:44:02.084077Z",
     "iopub.status.idle": "2022-04-25T09:44:02.086696Z",
     "shell.execute_reply": "2022-04-25T09:44:02.086341Z"
    },
    "papermill": {
     "duration": 0.02083,
     "end_time": "2022-04-25T09:44:02.086770",
     "exception": false,
     "start_time": "2022-04-25T09:44:02.065940",
     "status": "completed"
    },
    "tags": []
   },
   "outputs": [],
   "source": [
    "data_dense_tensor = data_sparse_tensor.to_dense()"
   ]
  },
  {
   "cell_type": "code",
   "execution_count": 10,
   "id": "37109ad3",
   "metadata": {
    "execution": {
     "iopub.execute_input": "2022-04-25T09:44:02.120456Z",
     "iopub.status.busy": "2022-04-25T09:44:02.120081Z",
     "iopub.status.idle": "2022-04-25T09:44:02.261041Z",
     "shell.execute_reply": "2022-04-25T09:44:02.261419Z"
    },
    "papermill": {
     "duration": 0.159504,
     "end_time": "2022-04-25T09:44:02.261545",
     "exception": false,
     "start_time": "2022-04-25T09:44:02.102041",
     "status": "completed"
    },
    "tags": []
   },
   "outputs": [],
   "source": [
    "mask_scipy_sparse = (data_scipy_sparse != 0).astype(np.int64).tocoo()"
   ]
  },
  {
   "cell_type": "code",
   "execution_count": 11,
   "id": "40cc5e7f",
   "metadata": {
    "execution": {
     "iopub.execute_input": "2022-04-25T09:44:02.299722Z",
     "iopub.status.busy": "2022-04-25T09:44:02.299240Z",
     "iopub.status.idle": "2022-04-25T09:44:02.392723Z",
     "shell.execute_reply": "2022-04-25T09:44:02.393144Z"
    },
    "papermill": {
     "duration": 0.114812,
     "end_time": "2022-04-25T09:44:02.393261",
     "exception": false,
     "start_time": "2022-04-25T09:44:02.278449",
     "status": "completed"
    },
    "tags": []
   },
   "outputs": [],
   "source": [
    "mask_sparse_tensor = scipy_sparse_to_pytorch_sparse(mask_scipy_sparse)"
   ]
  },
  {
   "cell_type": "code",
   "execution_count": 12,
   "id": "9fb31ed8",
   "metadata": {
    "execution": {
     "iopub.execute_input": "2022-04-25T09:44:02.448256Z",
     "iopub.status.busy": "2022-04-25T09:44:02.447761Z",
     "iopub.status.idle": "2022-04-25T09:44:03.570496Z",
     "shell.execute_reply": "2022-04-25T09:44:03.570862Z"
    },
    "papermill": {
     "duration": 1.162012,
     "end_time": "2022-04-25T09:44:03.571047",
     "exception": false,
     "start_time": "2022-04-25T09:44:02.409035",
     "status": "completed"
    },
    "tags": []
   },
   "outputs": [],
   "source": [
    "mask_dense_tensor = mask_sparse_tensor.to_dense().bool()"
   ]
  },
  {
   "cell_type": "code",
   "execution_count": 13,
   "id": "c9bbfdeb",
   "metadata": {
    "execution": {
     "iopub.execute_input": "2022-04-25T09:44:03.607157Z",
     "iopub.status.busy": "2022-04-25T09:44:03.606746Z",
     "iopub.status.idle": "2022-04-25T09:44:23.903660Z",
     "shell.execute_reply": "2022-04-25T09:44:23.904037Z"
    },
    "papermill": {
     "duration": 20.315956,
     "end_time": "2022-04-25T09:44:23.904146",
     "exception": false,
     "start_time": "2022-04-25T09:44:03.588190",
     "status": "completed"
    },
    "tags": []
   },
   "outputs": [],
   "source": [
    "distances = np.load('./data/macosko_distance_matrix.npy')"
   ]
  },
  {
   "cell_type": "code",
   "execution_count": 14,
   "id": "e76f77fc",
   "metadata": {
    "execution": {
     "iopub.execute_input": "2022-04-25T09:44:23.944595Z",
     "iopub.status.busy": "2022-04-25T09:44:23.943798Z",
     "iopub.status.idle": "2022-04-25T09:44:32.655611Z",
     "shell.execute_reply": "2022-04-25T09:44:32.655238Z"
    },
    "papermill": {
     "duration": 8.7325,
     "end_time": "2022-04-25T09:44:32.655696",
     "exception": false,
     "start_time": "2022-04-25T09:44:23.923196",
     "status": "completed"
    },
    "tags": []
   },
   "outputs": [],
   "source": [
    "adjacency = scipy.sparse.coo_matrix( distances <= 20 , dtype=np.float32)\n",
    "degree = scipy.sparse.diags( adjacency.sum(axis=0).A1 )\n",
    "laplacian = (degree - adjacency).tocoo()"
   ]
  },
  {
   "cell_type": "code",
   "execution_count": 15,
   "id": "37cf40ea",
   "metadata": {
    "execution": {
     "iopub.execute_input": "2022-04-25T09:44:32.694943Z",
     "iopub.status.busy": "2022-04-25T09:44:32.693390Z",
     "iopub.status.idle": "2022-04-25T09:44:32.706591Z",
     "shell.execute_reply": "2022-04-25T09:44:32.706917Z"
    },
    "papermill": {
     "duration": 0.032301,
     "end_time": "2022-04-25T09:44:32.707042",
     "exception": false,
     "start_time": "2022-04-25T09:44:32.674741",
     "status": "completed"
    },
    "tags": []
   },
   "outputs": [],
   "source": [
    "adjacency_sparse_tensor = scipy_sparse_to_pytorch_sparse(adjacency)"
   ]
  },
  {
   "cell_type": "code",
   "execution_count": 16,
   "id": "95bbcd69",
   "metadata": {
    "execution": {
     "iopub.execute_input": "2022-04-25T09:44:32.763339Z",
     "iopub.status.busy": "2022-04-25T09:44:32.762908Z",
     "iopub.status.idle": "2022-04-25T09:44:35.153046Z",
     "shell.execute_reply": "2022-04-25T09:44:35.153411Z"
    },
    "papermill": {
     "duration": 2.42885,
     "end_time": "2022-04-25T09:44:35.153551",
     "exception": false,
     "start_time": "2022-04-25T09:44:32.724701",
     "status": "completed"
    },
    "tags": []
   },
   "outputs": [],
   "source": [
    "adjacency_dense_tensor = adjacency_sparse_tensor.to_dense()"
   ]
  },
  {
   "cell_type": "code",
   "execution_count": 17,
   "id": "aeabacca",
   "metadata": {
    "execution": {
     "iopub.execute_input": "2022-04-25T09:44:35.216090Z",
     "iopub.status.busy": "2022-04-25T09:44:35.215548Z",
     "iopub.status.idle": "2022-04-25T09:44:35.219055Z",
     "shell.execute_reply": "2022-04-25T09:44:35.219395Z"
    },
    "papermill": {
     "duration": 0.035759,
     "end_time": "2022-04-25T09:44:35.219484",
     "exception": false,
     "start_time": "2022-04-25T09:44:35.183725",
     "status": "completed"
    },
    "tags": []
   },
   "outputs": [],
   "source": [
    "def laplacian_loss(x, x_lap):\n",
    "    \n",
    "    lap_sum = 0\n",
    "    for ii in range(x.shape[1]):\n",
    "        lap_sum = lap_sum + (x[:,ii].T @ x_lap @ x[:,ii])\n",
    "        \n",
    "    return lap_sum"
   ]
  },
  {
   "cell_type": "code",
   "execution_count": 18,
   "id": "429e2a2f",
   "metadata": {
    "execution": {
     "iopub.execute_input": "2022-04-25T09:44:35.297357Z",
     "iopub.status.busy": "2022-04-25T09:44:35.296999Z",
     "iopub.status.idle": "2022-04-25T09:44:35.312372Z",
     "shell.execute_reply": "2022-04-25T09:44:35.312659Z"
    },
    "papermill": {
     "duration": 0.055383,
     "end_time": "2022-04-25T09:44:35.312745",
     "exception": false,
     "start_time": "2022-04-25T09:44:35.257362",
     "status": "completed"
    },
    "tags": []
   },
   "outputs": [],
   "source": [
    "mf = MatrixFactorization(mask_sparse_tensor.shape[0], mask_sparse_tensor.shape[1], DECOMP_RANK).to(device=device)"
   ]
  },
  {
   "cell_type": "code",
   "execution_count": 19,
   "id": "cbe037fe",
   "metadata": {
    "execution": {
     "iopub.execute_input": "2022-04-25T09:44:35.377610Z",
     "iopub.status.busy": "2022-04-25T09:44:35.377262Z",
     "iopub.status.idle": "2022-04-25T09:44:35.379463Z",
     "shell.execute_reply": "2022-04-25T09:44:35.379766Z"
    },
    "papermill": {
     "duration": 0.042523,
     "end_time": "2022-04-25T09:44:35.379852",
     "exception": false,
     "start_time": "2022-04-25T09:44:35.337329",
     "status": "completed"
    },
    "tags": []
   },
   "outputs": [],
   "source": [
    "import torch.optim as optim\n",
    "\n",
    "optimizer = optim.Adam(mf.parameters(), lr=0.001)"
   ]
  },
  {
   "cell_type": "code",
   "execution_count": 20,
   "id": "bb076d55",
   "metadata": {
    "execution": {
     "iopub.execute_input": "2022-04-25T09:44:35.442243Z",
     "iopub.status.busy": "2022-04-25T09:44:35.441890Z",
     "iopub.status.idle": "2022-04-25T10:43:30.683818Z",
     "shell.execute_reply": "2022-04-25T10:43:30.684308Z"
    },
    "papermill": {
     "duration": 3535.276042,
     "end_time": "2022-04-25T10:43:30.687527",
     "exception": false,
     "start_time": "2022-04-25T09:44:35.411485",
     "status": "completed"
    },
    "tags": []
   },
   "outputs": [
    {
     "name": "stdout",
     "output_type": "stream",
     "text": [
      "0\n",
      "215980319.0\n"
     ]
    },
    {
     "name": "stdout",
     "output_type": "stream",
     "text": [
      "1\n",
      "215790496.0\n"
     ]
    },
    {
     "name": "stdout",
     "output_type": "stream",
     "text": [
      "2\n",
      "215301510.0\n"
     ]
    },
    {
     "name": "stdout",
     "output_type": "stream",
     "text": [
      "3\n",
      "214376130.0\n"
     ]
    },
    {
     "name": "stdout",
     "output_type": "stream",
     "text": [
      "4\n",
      "212951654.0\n"
     ]
    },
    {
     "name": "stdout",
     "output_type": "stream",
     "text": [
      "5\n",
      "211003936.0\n"
     ]
    },
    {
     "name": "stdout",
     "output_type": "stream",
     "text": [
      "6\n",
      "208576800.0\n"
     ]
    },
    {
     "name": "stdout",
     "output_type": "stream",
     "text": [
      "7\n",
      "205744606.0\n"
     ]
    },
    {
     "name": "stdout",
     "output_type": "stream",
     "text": [
      "8\n",
      "202611625.0\n"
     ]
    },
    {
     "name": "stdout",
     "output_type": "stream",
     "text": [
      "9\n",
      "199336073.0\n"
     ]
    },
    {
     "name": "stdout",
     "output_type": "stream",
     "text": [
      "10\n",
      "196067869.0\n"
     ]
    },
    {
     "name": "stdout",
     "output_type": "stream",
     "text": [
      "11\n",
      "192943687.0\n"
     ]
    },
    {
     "name": "stdout",
     "output_type": "stream",
     "text": [
      "12\n",
      "190093388.0\n"
     ]
    },
    {
     "name": "stdout",
     "output_type": "stream",
     "text": [
      "13\n",
      "187559126.0\n"
     ]
    },
    {
     "name": "stdout",
     "output_type": "stream",
     "text": [
      "14\n",
      "185376895.0\n"
     ]
    },
    {
     "name": "stdout",
     "output_type": "stream",
     "text": [
      "15\n",
      "183509087.0\n"
     ]
    },
    {
     "name": "stdout",
     "output_type": "stream",
     "text": [
      "16\n",
      "181880160.0\n"
     ]
    },
    {
     "name": "stdout",
     "output_type": "stream",
     "text": [
      "17\n",
      "180428481.0\n"
     ]
    },
    {
     "name": "stdout",
     "output_type": "stream",
     "text": [
      "18\n",
      "179089393.0\n"
     ]
    },
    {
     "name": "stdout",
     "output_type": "stream",
     "text": [
      "19\n",
      "177835116.0\n"
     ]
    },
    {
     "name": "stdout",
     "output_type": "stream",
     "text": [
      "20\n",
      "176636274.0\n"
     ]
    },
    {
     "name": "stdout",
     "output_type": "stream",
     "text": [
      "21\n",
      "175494651.0\n"
     ]
    },
    {
     "name": "stdout",
     "output_type": "stream",
     "text": [
      "22\n",
      "174383597.0\n"
     ]
    },
    {
     "name": "stdout",
     "output_type": "stream",
     "text": [
      "23\n",
      "173311217.0\n"
     ]
    },
    {
     "name": "stdout",
     "output_type": "stream",
     "text": [
      "24\n",
      "172273105.0\n"
     ]
    },
    {
     "name": "stdout",
     "output_type": "stream",
     "text": [
      "25\n",
      "171251200.0\n"
     ]
    },
    {
     "name": "stdout",
     "output_type": "stream",
     "text": [
      "26\n",
      "170260763.0\n"
     ]
    },
    {
     "name": "stdout",
     "output_type": "stream",
     "text": [
      "27\n",
      "169290873.0\n"
     ]
    },
    {
     "name": "stdout",
     "output_type": "stream",
     "text": [
      "28\n",
      "168339819.5\n"
     ]
    },
    {
     "name": "stdout",
     "output_type": "stream",
     "text": [
      "29\n",
      "167404241.0\n"
     ]
    },
    {
     "name": "stdout",
     "output_type": "stream",
     "text": [
      "30\n",
      "166483454.0\n"
     ]
    },
    {
     "name": "stdout",
     "output_type": "stream",
     "text": [
      "31\n",
      "165583327.0\n"
     ]
    },
    {
     "name": "stdout",
     "output_type": "stream",
     "text": [
      "32\n",
      "164696600.0\n"
     ]
    },
    {
     "name": "stdout",
     "output_type": "stream",
     "text": [
      "33\n",
      "163815432.0\n"
     ]
    },
    {
     "name": "stdout",
     "output_type": "stream",
     "text": [
      "34\n",
      "162956660.0\n"
     ]
    },
    {
     "name": "stdout",
     "output_type": "stream",
     "text": [
      "35\n",
      "162107334.0\n"
     ]
    },
    {
     "name": "stdout",
     "output_type": "stream",
     "text": [
      "36\n",
      "161263198.0\n"
     ]
    },
    {
     "name": "stdout",
     "output_type": "stream",
     "text": [
      "37\n",
      "160440875.5\n"
     ]
    },
    {
     "name": "stdout",
     "output_type": "stream",
     "text": [
      "38\n",
      "159620834.0\n"
     ]
    },
    {
     "name": "stdout",
     "output_type": "stream",
     "text": [
      "39\n",
      "158813101.0\n"
     ]
    },
    {
     "name": "stdout",
     "output_type": "stream",
     "text": [
      "40\n",
      "158024196.0\n"
     ]
    },
    {
     "name": "stdout",
     "output_type": "stream",
     "text": [
      "41\n",
      "157232439.0\n"
     ]
    },
    {
     "name": "stdout",
     "output_type": "stream",
     "text": [
      "42\n",
      "156463172.0\n"
     ]
    },
    {
     "name": "stdout",
     "output_type": "stream",
     "text": [
      "43\n",
      "155691442.0\n"
     ]
    },
    {
     "name": "stdout",
     "output_type": "stream",
     "text": [
      "44\n",
      "154933976.0\n"
     ]
    },
    {
     "name": "stdout",
     "output_type": "stream",
     "text": [
      "45\n",
      "154200404.0\n"
     ]
    },
    {
     "name": "stdout",
     "output_type": "stream",
     "text": [
      "46\n",
      "153454143.0\n"
     ]
    },
    {
     "name": "stdout",
     "output_type": "stream",
     "text": [
      "47\n",
      "152739328.0\n"
     ]
    },
    {
     "name": "stdout",
     "output_type": "stream",
     "text": [
      "48\n",
      "152023459.0\n"
     ]
    },
    {
     "name": "stdout",
     "output_type": "stream",
     "text": [
      "49\n",
      "151312235.0\n"
     ]
    }
   ],
   "source": [
    "losses = []\n",
    "\n",
    "for epoch in range(50):\n",
    "    \n",
    "    batcher = data_adjacency_batcher(data_dense_tensor, adjacency_dense_tensor, 5000)\n",
    "    \n",
    "    total_loss = 0\n",
    "    \n",
    "    \n",
    "    for (data_batch, mask_batch, adjacency_batch, row_batch) in batcher:\n",
    "        \n",
    "        \n",
    "        \n",
    "        data_batch = data_batch.to(device=device)\n",
    "        mask_batch = mask_batch.to(device=device)\n",
    "        adjacency_batch = adjacency_batch.to(device=device)\n",
    "        row_batch = row_batch.to(device=device)\n",
    "        \n",
    "        laplacian_tensor = adjacency_to_laplacian(adjacency_batch).to(device=device)\n",
    "    \n",
    "        optimizer.zero_grad()\n",
    "\n",
    "        output = mf.forward(row_batch, torch.arange(0, data_batch.shape[1]))\n",
    "        \n",
    "        L1_laplacian_tensor = adjacency_to_laplacian(adjacency_to_L1_adjacency(output, adjacency_batch, 0.001, device)).to(device=device)\n",
    "        \n",
    "        loss = squared_loss(data_batch[mask_batch], output[mask_batch]) + LAPLACIAN_PARAM*laplacian_loss(output, laplacian_tensor) + TV_PARAM*laplacian_loss(output, L1_laplacian_tensor)\n",
    "        loss.backward()\n",
    "        optimizer.step()\n",
    "        \n",
    "        total_loss += loss.item()\n",
    "        \n",
    "\n",
    "    if epoch % 1 == 0:\n",
    "        print(epoch)\n",
    "        print(total_loss)\n",
    "        \n",
    "    losses.append(total_loss)"
   ]
  },
  {
   "cell_type": "code",
   "execution_count": 21,
   "id": "66475efd",
   "metadata": {
    "execution": {
     "iopub.execute_input": "2022-04-25T10:43:30.764320Z",
     "iopub.status.busy": "2022-04-25T10:43:30.756568Z",
     "iopub.status.idle": "2022-04-25T10:43:30.771058Z",
     "shell.execute_reply": "2022-04-25T10:43:30.771351Z"
    },
    "papermill": {
     "duration": 0.054407,
     "end_time": "2022-04-25T10:43:30.771436",
     "exception": false,
     "start_time": "2022-04-25T10:43:30.717029",
     "status": "completed"
    },
    "tags": []
   },
   "outputs": [
    {
     "data": {
      "text/plain": [
       "12836729.0"
      ]
     },
     "execution_count": 21,
     "metadata": {},
     "output_type": "execute_result"
    }
   ],
   "source": [
    "loss.item()"
   ]
  },
  {
   "cell_type": "code",
   "execution_count": 22,
   "id": "21095968",
   "metadata": {
    "execution": {
     "iopub.execute_input": "2022-04-25T10:43:30.827653Z",
     "iopub.status.busy": "2022-04-25T10:43:30.827292Z",
     "iopub.status.idle": "2022-04-25T10:43:30.839776Z",
     "shell.execute_reply": "2022-04-25T10:43:30.840134Z"
    },
    "papermill": {
     "duration": 0.042669,
     "end_time": "2022-04-25T10:43:30.840221",
     "exception": false,
     "start_time": "2022-04-25T10:43:30.797552",
     "status": "completed"
    },
    "tags": []
   },
   "outputs": [],
   "source": [
    "np.save(f'./results/loss_curves/mf_rank{DECOMP_RANK}_L{LAPLACIAN_PARAM}_TV{TV_PARAM}_losses', np.array(losses))"
   ]
  },
  {
   "cell_type": "code",
   "execution_count": 23,
   "id": "edc8c192",
   "metadata": {
    "execution": {
     "iopub.execute_input": "2022-04-25T10:43:30.898435Z",
     "iopub.status.busy": "2022-04-25T10:43:30.898085Z",
     "iopub.status.idle": "2022-04-25T10:43:31.017072Z",
     "shell.execute_reply": "2022-04-25T10:43:31.016618Z"
    },
    "papermill": {
     "duration": 0.150806,
     "end_time": "2022-04-25T10:43:31.017161",
     "exception": false,
     "start_time": "2022-04-25T10:43:30.866355",
     "status": "completed"
    },
    "tags": []
   },
   "outputs": [],
   "source": [
    "torch.save(mf.state_dict(), f'./results/saved_models/mf_rank{DECOMP_RANK}_L{LAPLACIAN_PARAM}_TV{TV_PARAM}_state')"
   ]
  },
  {
   "cell_type": "code",
   "execution_count": 24,
   "id": "60cb9933",
   "metadata": {
    "execution": {
     "iopub.execute_input": "2022-04-25T10:43:31.083761Z",
     "iopub.status.busy": "2022-04-25T10:43:31.083109Z",
     "iopub.status.idle": "2022-04-25T10:47:09.641889Z",
     "shell.execute_reply": "2022-04-25T10:47:09.634028Z"
    },
    "papermill": {
     "duration": 218.600585,
     "end_time": "2022-04-25T10:47:09.644151",
     "exception": false,
     "start_time": "2022-04-25T10:43:31.043566",
     "status": "completed"
    },
    "tags": []
   },
   "outputs": [],
   "source": [
    "final_output = mf.forward(torch.arange(0, data_dense_tensor.shape[0]), torch.arange(0, data_dense_tensor.shape[1]))\n",
    "\n",
    "final_squared_error = squared_loss(data_dense_tensor, final_output)\n",
    "final_laplacian = laplacian_loss(final_output, adjacency_to_laplacian(adjacency_dense_tensor).to(device=device))\n",
    "final_TV =  laplacian_loss(final_output, adjacency_to_laplacian(adjacency_to_L1_adjacency(final_output, adjacency_dense_tensor, 0.001, device)).to(device=device))"
   ]
  },
  {
   "cell_type": "code",
   "execution_count": 25,
   "id": "703ea810",
   "metadata": {
    "execution": {
     "iopub.execute_input": "2022-04-25T10:47:09.776483Z",
     "iopub.status.busy": "2022-04-25T10:47:09.770606Z",
     "iopub.status.idle": "2022-04-25T10:47:10.713082Z",
     "shell.execute_reply": "2022-04-25T10:47:10.714074Z"
    },
    "papermill": {
     "duration": 0.997487,
     "end_time": "2022-04-25T10:47:10.714225",
     "exception": false,
     "start_time": "2022-04-25T10:47:09.716738",
     "status": "completed"
    },
    "tags": []
   },
   "outputs": [],
   "source": [
    "np.save(f'./results/final_losses/mf_rank{DECOMP_RANK}_L{LAPLACIAN_PARAM}_TV{TV_PARAM}_losses', np.array([final_squared_error.item(), final_laplacian.item(), final_TV.item()]))"
   ]
  },
  {
   "cell_type": "code",
   "execution_count": null,
   "id": "059a0115",
   "metadata": {
    "papermill": {
     "duration": 0.029628,
     "end_time": "2022-04-25T10:47:10.770867",
     "exception": false,
     "start_time": "2022-04-25T10:47:10.741239",
     "status": "completed"
    },
    "tags": []
   },
   "outputs": [],
   "source": []
  }
 ],
 "metadata": {
  "interpreter": {
   "hash": "22ee4ece52021b4a120b95b326dd7a4d7938576e919f53927a7959ab5d7e1e45"
  },
  "kernelspec": {
   "display_name": "spatialSFT",
   "language": "python",
   "name": "spatialsft"
  },
  "language_info": {
   "codemirror_mode": {
    "name": "ipython",
    "version": 3
   },
   "file_extension": ".py",
   "mimetype": "text/x-python",
   "name": "python",
   "nbconvert_exporter": "python",
   "pygments_lexer": "ipython3",
   "version": "3.8.0"
  },
  "papermill": {
   "default_parameters": {},
   "duration": 3827.711261,
   "end_time": "2022-04-25T10:47:18.930004",
   "environment_variables": {},
   "exception": null,
   "input_path": "./notebooks/mf_param_template.ipynb",
   "output_path": "./papermill_output/mf_param_template_rank100_lap0.01_tv0.0001.ipynb",
   "parameters": {
    "DECOMP_RANK": 100,
    "LAPLACIAN_PARAM": 0.01,
    "TV_PARAM": 0.0001
   },
   "start_time": "2022-04-25T09:43:31.218743",
   "version": "2.3.4"
  }
 },
 "nbformat": 4,
 "nbformat_minor": 5
}