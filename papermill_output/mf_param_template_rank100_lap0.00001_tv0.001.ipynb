{
 "cells": [
  {
   "cell_type": "markdown",
   "id": "60d2a013",
   "metadata": {
    "papermill": {
     "duration": 0.031385,
     "end_time": "2022-04-26T00:18:18.555518",
     "exception": false,
     "start_time": "2022-04-26T00:18:18.524133",
     "status": "completed"
    },
    "tags": []
   },
   "source": [
    "### setup"
   ]
  },
  {
   "cell_type": "code",
   "execution_count": 1,
   "id": "ba304721",
   "metadata": {
    "execution": {
     "iopub.execute_input": "2022-04-26T00:18:18.613077Z",
     "iopub.status.busy": "2022-04-26T00:18:18.612545Z",
     "iopub.status.idle": "2022-04-26T00:18:36.691171Z",
     "shell.execute_reply": "2022-04-26T00:18:36.691827Z"
    },
    "papermill": {
     "duration": 18.112758,
     "end_time": "2022-04-26T00:18:36.692193",
     "exception": false,
     "start_time": "2022-04-26T00:18:18.579435",
     "status": "completed"
    },
    "tags": []
   },
   "outputs": [],
   "source": [
    "import numpy as np \n",
    "import matplotlib.pyplot as plt\n",
    "import pandas as pd\n",
    "\n",
    "import scipy\n",
    "\n",
    "\n",
    "from utils import *\n",
    "from pytorch_sparse_utils import *\n",
    "\n",
    "\n",
    "import torch\n",
    "from torch import nn\n",
    "import torch.nn.functional as F"
   ]
  },
  {
   "cell_type": "markdown",
   "id": "e53dd21c",
   "metadata": {
    "papermill": {
     "duration": 0.029992,
     "end_time": "2022-04-26T00:18:36.754181",
     "exception": false,
     "start_time": "2022-04-26T00:18:36.724189",
     "status": "completed"
    },
    "tags": []
   },
   "source": [
    "### set parameters"
   ]
  },
  {
   "cell_type": "code",
   "execution_count": 2,
   "id": "637e26fb",
   "metadata": {
    "execution": {
     "iopub.execute_input": "2022-04-26T00:18:36.817166Z",
     "iopub.status.busy": "2022-04-26T00:18:36.816466Z",
     "iopub.status.idle": "2022-04-26T00:18:36.819823Z",
     "shell.execute_reply": "2022-04-26T00:18:36.819379Z"
    },
    "papermill": {
     "duration": 0.036093,
     "end_time": "2022-04-26T00:18:36.819935",
     "exception": false,
     "start_time": "2022-04-26T00:18:36.783842",
     "status": "completed"
    },
    "tags": [
     "parameters"
    ]
   },
   "outputs": [],
   "source": [
    "DECOMP_RANK = 10\n",
    "LAPLACIAN_PARAM = 0.001\n",
    "TV_PARAM = 0.001"
   ]
  },
  {
   "cell_type": "code",
   "execution_count": 3,
   "id": "943279c7",
   "metadata": {
    "execution": {
     "iopub.execute_input": "2022-04-26T00:18:36.902441Z",
     "iopub.status.busy": "2022-04-26T00:18:36.902105Z",
     "iopub.status.idle": "2022-04-26T00:18:36.904462Z",
     "shell.execute_reply": "2022-04-26T00:18:36.904134Z"
    },
    "papermill": {
     "duration": 0.062868,
     "end_time": "2022-04-26T00:18:36.904526",
     "exception": false,
     "start_time": "2022-04-26T00:18:36.841658",
     "status": "completed"
    },
    "tags": [
     "injected-parameters"
    ]
   },
   "outputs": [],
   "source": [
    "# Parameters\n",
    "DECOMP_RANK = 100\n",
    "LAPLACIAN_PARAM = 1e-05\n",
    "TV_PARAM = 0.001\n"
   ]
  },
  {
   "cell_type": "code",
   "execution_count": 4,
   "id": "7edee0ab",
   "metadata": {
    "execution": {
     "iopub.execute_input": "2022-04-26T00:18:37.070937Z",
     "iopub.status.busy": "2022-04-26T00:18:37.070176Z",
     "iopub.status.idle": "2022-04-26T00:18:45.197165Z",
     "shell.execute_reply": "2022-04-26T00:18:45.196459Z"
    },
    "papermill": {
     "duration": 8.190625,
     "end_time": "2022-04-26T00:18:45.197333",
     "exception": false,
     "start_time": "2022-04-26T00:18:37.006708",
     "status": "completed"
    },
    "tags": []
   },
   "outputs": [
    {
     "name": "stdout",
     "output_type": "stream",
     "text": [
      "Using cuda device\n"
     ]
    }
   ],
   "source": [
    "device = 'cuda' if torch.cuda.is_available() else 'cpu'\n",
    "print('Using {} device'.format(device))"
   ]
  },
  {
   "cell_type": "markdown",
   "id": "1cd37345",
   "metadata": {
    "papermill": {
     "duration": 0.030499,
     "end_time": "2022-04-26T00:18:45.261332",
     "exception": false,
     "start_time": "2022-04-26T00:18:45.230833",
     "status": "completed"
    },
    "tags": []
   },
   "source": [
    "### loading data"
   ]
  },
  {
   "cell_type": "code",
   "execution_count": 5,
   "id": "7927cc67",
   "metadata": {
    "execution": {
     "iopub.execute_input": "2022-04-26T00:18:45.328692Z",
     "iopub.status.busy": "2022-04-26T00:18:45.327932Z",
     "iopub.status.idle": "2022-04-26T00:18:48.008168Z",
     "shell.execute_reply": "2022-04-26T00:18:48.008811Z"
    },
    "papermill": {
     "duration": 2.716869,
     "end_time": "2022-04-26T00:18:48.009021",
     "exception": false,
     "start_time": "2022-04-26T00:18:45.292152",
     "status": "completed"
    },
    "tags": []
   },
   "outputs": [
    {
     "data": {
      "text/html": [
       "<div>\n",
       "<style scoped>\n",
       "    .dataframe tbody tr th:only-of-type {\n",
       "        vertical-align: middle;\n",
       "    }\n",
       "\n",
       "    .dataframe tbody tr th {\n",
       "        vertical-align: top;\n",
       "    }\n",
       "\n",
       "    .dataframe thead th {\n",
       "        text-align: right;\n",
       "    }\n",
       "</style>\n",
       "<table border=\"1\" class=\"dataframe\">\n",
       "  <thead>\n",
       "    <tr style=\"text-align: right;\">\n",
       "      <th></th>\n",
       "      <th>1110008P14Rik</th>\n",
       "      <th>1500009C09Rik</th>\n",
       "      <th>1500012F01Rik</th>\n",
       "      <th>1700020I14Rik</th>\n",
       "      <th>2010107E04Rik</th>\n",
       "      <th>2010300C02Rik</th>\n",
       "      <th>2210016L21Rik</th>\n",
       "      <th>2310036O22Rik</th>\n",
       "      <th>2900011O08Rik</th>\n",
       "      <th>3110035E14Rik</th>\n",
       "      <th>...</th>\n",
       "      <th>Zrsr1</th>\n",
       "      <th>Zwint</th>\n",
       "      <th>mt-Co1</th>\n",
       "      <th>mt-Cytb</th>\n",
       "      <th>mt-Nd1</th>\n",
       "      <th>mt-Nd2</th>\n",
       "      <th>mt-Nd4</th>\n",
       "      <th>mt-Nd5</th>\n",
       "      <th>mt-Rnr1</th>\n",
       "      <th>mt-Rnr2</th>\n",
       "    </tr>\n",
       "  </thead>\n",
       "  <tbody>\n",
       "    <tr>\n",
       "      <th>AAAAAAAGGTAGTA</th>\n",
       "      <td>0</td>\n",
       "      <td>0</td>\n",
       "      <td>0</td>\n",
       "      <td>0</td>\n",
       "      <td>0</td>\n",
       "      <td>0</td>\n",
       "      <td>0</td>\n",
       "      <td>0</td>\n",
       "      <td>0</td>\n",
       "      <td>0</td>\n",
       "      <td>...</td>\n",
       "      <td>0</td>\n",
       "      <td>0</td>\n",
       "      <td>0</td>\n",
       "      <td>0</td>\n",
       "      <td>0</td>\n",
       "      <td>0</td>\n",
       "      <td>0</td>\n",
       "      <td>0</td>\n",
       "      <td>1</td>\n",
       "      <td>0</td>\n",
       "    </tr>\n",
       "    <tr>\n",
       "      <th>AAAAAAAGTCCCAA</th>\n",
       "      <td>0</td>\n",
       "      <td>0</td>\n",
       "      <td>0</td>\n",
       "      <td>0</td>\n",
       "      <td>0</td>\n",
       "      <td>0</td>\n",
       "      <td>0</td>\n",
       "      <td>0</td>\n",
       "      <td>0</td>\n",
       "      <td>0</td>\n",
       "      <td>...</td>\n",
       "      <td>0</td>\n",
       "      <td>0</td>\n",
       "      <td>2</td>\n",
       "      <td>2</td>\n",
       "      <td>5</td>\n",
       "      <td>0</td>\n",
       "      <td>1</td>\n",
       "      <td>0</td>\n",
       "      <td>2</td>\n",
       "      <td>4</td>\n",
       "    </tr>\n",
       "    <tr>\n",
       "      <th>AAAAAAATCTTAGT</th>\n",
       "      <td>0</td>\n",
       "      <td>0</td>\n",
       "      <td>0</td>\n",
       "      <td>0</td>\n",
       "      <td>0</td>\n",
       "      <td>0</td>\n",
       "      <td>0</td>\n",
       "      <td>0</td>\n",
       "      <td>0</td>\n",
       "      <td>0</td>\n",
       "      <td>...</td>\n",
       "      <td>0</td>\n",
       "      <td>0</td>\n",
       "      <td>0</td>\n",
       "      <td>0</td>\n",
       "      <td>0</td>\n",
       "      <td>0</td>\n",
       "      <td>0</td>\n",
       "      <td>0</td>\n",
       "      <td>0</td>\n",
       "      <td>0</td>\n",
       "    </tr>\n",
       "    <tr>\n",
       "      <th>AAAAAACATCTTTC</th>\n",
       "      <td>0</td>\n",
       "      <td>0</td>\n",
       "      <td>0</td>\n",
       "      <td>0</td>\n",
       "      <td>0</td>\n",
       "      <td>0</td>\n",
       "      <td>0</td>\n",
       "      <td>0</td>\n",
       "      <td>0</td>\n",
       "      <td>0</td>\n",
       "      <td>...</td>\n",
       "      <td>0</td>\n",
       "      <td>0</td>\n",
       "      <td>0</td>\n",
       "      <td>0</td>\n",
       "      <td>0</td>\n",
       "      <td>0</td>\n",
       "      <td>0</td>\n",
       "      <td>0</td>\n",
       "      <td>1</td>\n",
       "      <td>0</td>\n",
       "    </tr>\n",
       "    <tr>\n",
       "      <th>AAAAAACGAAATAG</th>\n",
       "      <td>0</td>\n",
       "      <td>0</td>\n",
       "      <td>0</td>\n",
       "      <td>0</td>\n",
       "      <td>0</td>\n",
       "      <td>0</td>\n",
       "      <td>0</td>\n",
       "      <td>0</td>\n",
       "      <td>0</td>\n",
       "      <td>0</td>\n",
       "      <td>...</td>\n",
       "      <td>0</td>\n",
       "      <td>0</td>\n",
       "      <td>1</td>\n",
       "      <td>0</td>\n",
       "      <td>0</td>\n",
       "      <td>0</td>\n",
       "      <td>0</td>\n",
       "      <td>0</td>\n",
       "      <td>0</td>\n",
       "      <td>0</td>\n",
       "    </tr>\n",
       "  </tbody>\n",
       "</table>\n",
       "<p>5 rows × 1222 columns</p>\n",
       "</div>"
      ],
      "text/plain": [
       "                1110008P14Rik  1500009C09Rik  1500012F01Rik  1700020I14Rik  \\\n",
       "AAAAAAAGGTAGTA              0              0              0              0   \n",
       "AAAAAAAGTCCCAA              0              0              0              0   \n",
       "AAAAAAATCTTAGT              0              0              0              0   \n",
       "AAAAAACATCTTTC              0              0              0              0   \n",
       "AAAAAACGAAATAG              0              0              0              0   \n",
       "\n",
       "                2010107E04Rik  2010300C02Rik  2210016L21Rik  2310036O22Rik  \\\n",
       "AAAAAAAGGTAGTA              0              0              0              0   \n",
       "AAAAAAAGTCCCAA              0              0              0              0   \n",
       "AAAAAAATCTTAGT              0              0              0              0   \n",
       "AAAAAACATCTTTC              0              0              0              0   \n",
       "AAAAAACGAAATAG              0              0              0              0   \n",
       "\n",
       "                2900011O08Rik  3110035E14Rik  ...  Zrsr1  Zwint  mt-Co1  \\\n",
       "AAAAAAAGGTAGTA              0              0  ...      0      0       0   \n",
       "AAAAAAAGTCCCAA              0              0  ...      0      0       2   \n",
       "AAAAAAATCTTAGT              0              0  ...      0      0       0   \n",
       "AAAAAACATCTTTC              0              0  ...      0      0       0   \n",
       "AAAAAACGAAATAG              0              0  ...      0      0       1   \n",
       "\n",
       "                mt-Cytb  mt-Nd1  mt-Nd2  mt-Nd4  mt-Nd5  mt-Rnr1  mt-Rnr2  \n",
       "AAAAAAAGGTAGTA        0       0       0       0       0        1        0  \n",
       "AAAAAAAGTCCCAA        2       5       0       1       0        2        4  \n",
       "AAAAAAATCTTAGT        0       0       0       0       0        0        0  \n",
       "AAAAAACATCTTTC        0       0       0       0       0        1        0  \n",
       "AAAAAACGAAATAG        0       0       0       0       0        0        0  \n",
       "\n",
       "[5 rows x 1222 columns]"
      ]
     },
     "execution_count": 5,
     "metadata": {},
     "output_type": "execute_result"
    }
   ],
   "source": [
    "bead_reads_subset = pd.read_csv('./data/bead_reads_subset.csv', index_col='Unnamed: 0')\n",
    "bead_reads_subset.head()"
   ]
  },
  {
   "cell_type": "code",
   "execution_count": 6,
   "id": "24b7c55e",
   "metadata": {
    "execution": {
     "iopub.execute_input": "2022-04-26T00:18:48.118615Z",
     "iopub.status.busy": "2022-04-26T00:18:48.117850Z",
     "iopub.status.idle": "2022-04-26T00:18:48.930580Z",
     "shell.execute_reply": "2022-04-26T00:18:48.931244Z"
    },
    "papermill": {
     "duration": 0.850268,
     "end_time": "2022-04-26T00:18:48.931424",
     "exception": false,
     "start_time": "2022-04-26T00:18:48.081156",
     "status": "completed"
    },
    "tags": []
   },
   "outputs": [],
   "source": [
    "data_scipy_sparse = scipy.sparse.coo_matrix( bead_reads_subset.to_numpy() )"
   ]
  },
  {
   "cell_type": "code",
   "execution_count": 7,
   "id": "11cf3804",
   "metadata": {
    "execution": {
     "iopub.execute_input": "2022-04-26T00:18:49.003971Z",
     "iopub.status.busy": "2022-04-26T00:18:49.003200Z",
     "iopub.status.idle": "2022-04-26T00:19:14.125120Z",
     "shell.execute_reply": "2022-04-26T00:19:14.124265Z"
    },
    "papermill": {
     "duration": 25.158074,
     "end_time": "2022-04-26T00:19:14.125296",
     "exception": false,
     "start_time": "2022-04-26T00:18:48.967222",
     "status": "completed"
    },
    "tags": []
   },
   "outputs": [],
   "source": [
    "data_sparse_tensor = scipy_sparse_to_pytorch_sparse(data_scipy_sparse).to(device=device)"
   ]
  },
  {
   "cell_type": "code",
   "execution_count": 8,
   "id": "62108ed4",
   "metadata": {
    "execution": {
     "iopub.execute_input": "2022-04-26T00:19:14.197821Z",
     "iopub.status.busy": "2022-04-26T00:19:14.197063Z",
     "iopub.status.idle": "2022-04-26T00:19:14.205307Z",
     "shell.execute_reply": "2022-04-26T00:19:14.205973Z"
    },
    "papermill": {
     "duration": 0.046156,
     "end_time": "2022-04-26T00:19:14.206518",
     "exception": false,
     "start_time": "2022-04-26T00:19:14.160362",
     "status": "completed"
    },
    "tags": []
   },
   "outputs": [
    {
     "data": {
      "text/plain": [
       "tensor(indices=tensor([[    0,     0,     0,  ..., 53207, 53207, 53207],\n",
       "                       [   84,   412,   528,  ...,  1219,  1220,  1221]]),\n",
       "       values=tensor([ 1.,  1.,  1.,  ..., 12., 26., 71.]),\n",
       "       device='cuda:0', size=(53208, 1222), nnz=9552845, layout=torch.sparse_coo)"
      ]
     },
     "execution_count": 8,
     "metadata": {},
     "output_type": "execute_result"
    }
   ],
   "source": [
    "data_sparse_tensor"
   ]
  },
  {
   "cell_type": "code",
   "execution_count": 9,
   "id": "7e4bc317",
   "metadata": {
    "execution": {
     "iopub.execute_input": "2022-04-26T00:19:14.268792Z",
     "iopub.status.busy": "2022-04-26T00:19:14.268281Z",
     "iopub.status.idle": "2022-04-26T00:19:14.271629Z",
     "shell.execute_reply": "2022-04-26T00:19:14.271123Z"
    },
    "papermill": {
     "duration": 0.031686,
     "end_time": "2022-04-26T00:19:14.271727",
     "exception": false,
     "start_time": "2022-04-26T00:19:14.240041",
     "status": "completed"
    },
    "tags": []
   },
   "outputs": [],
   "source": [
    "data_dense_tensor = data_sparse_tensor.to_dense()"
   ]
  },
  {
   "cell_type": "code",
   "execution_count": 10,
   "id": "868e226d",
   "metadata": {
    "execution": {
     "iopub.execute_input": "2022-04-26T00:19:14.320266Z",
     "iopub.status.busy": "2022-04-26T00:19:14.317865Z",
     "iopub.status.idle": "2022-04-26T00:19:14.533632Z",
     "shell.execute_reply": "2022-04-26T00:19:14.533179Z"
    },
    "papermill": {
     "duration": 0.2372,
     "end_time": "2022-04-26T00:19:14.533732",
     "exception": false,
     "start_time": "2022-04-26T00:19:14.296532",
     "status": "completed"
    },
    "tags": []
   },
   "outputs": [],
   "source": [
    "mask_scipy_sparse = (data_scipy_sparse != 0).astype(np.int64).tocoo()"
   ]
  },
  {
   "cell_type": "code",
   "execution_count": 11,
   "id": "53f7b5a2",
   "metadata": {
    "execution": {
     "iopub.execute_input": "2022-04-26T00:19:14.596991Z",
     "iopub.status.busy": "2022-04-26T00:19:14.596468Z",
     "iopub.status.idle": "2022-04-26T00:19:14.655811Z",
     "shell.execute_reply": "2022-04-26T00:19:14.655307Z"
    },
    "papermill": {
     "duration": 0.093369,
     "end_time": "2022-04-26T00:19:14.655993",
     "exception": false,
     "start_time": "2022-04-26T00:19:14.562624",
     "status": "completed"
    },
    "tags": []
   },
   "outputs": [],
   "source": [
    "mask_sparse_tensor = scipy_sparse_to_pytorch_sparse(mask_scipy_sparse)"
   ]
  },
  {
   "cell_type": "code",
   "execution_count": 12,
   "id": "f2e6fc41",
   "metadata": {
    "execution": {
     "iopub.execute_input": "2022-04-26T00:19:14.700750Z",
     "iopub.status.busy": "2022-04-26T00:19:14.699974Z",
     "iopub.status.idle": "2022-04-26T00:19:15.482471Z",
     "shell.execute_reply": "2022-04-26T00:19:15.482127Z"
    },
    "papermill": {
     "duration": 0.805779,
     "end_time": "2022-04-26T00:19:15.482563",
     "exception": false,
     "start_time": "2022-04-26T00:19:14.676784",
     "status": "completed"
    },
    "tags": []
   },
   "outputs": [],
   "source": [
    "mask_dense_tensor = mask_sparse_tensor.to_dense().bool()"
   ]
  },
  {
   "cell_type": "code",
   "execution_count": 13,
   "id": "c8d57138",
   "metadata": {
    "execution": {
     "iopub.execute_input": "2022-04-26T00:19:15.521728Z",
     "iopub.status.busy": "2022-04-26T00:19:15.521394Z",
     "iopub.status.idle": "2022-04-26T00:19:59.797283Z",
     "shell.execute_reply": "2022-04-26T00:19:59.796537Z"
    },
    "papermill": {
     "duration": 44.297193,
     "end_time": "2022-04-26T00:19:59.797470",
     "exception": false,
     "start_time": "2022-04-26T00:19:15.500277",
     "status": "completed"
    },
    "tags": []
   },
   "outputs": [],
   "source": [
    "distances = np.load('./data/macosko_distance_matrix.npy')"
   ]
  },
  {
   "cell_type": "code",
   "execution_count": 14,
   "id": "eb2e0cc0",
   "metadata": {
    "execution": {
     "iopub.execute_input": "2022-04-26T00:19:59.874038Z",
     "iopub.status.busy": "2022-04-26T00:19:59.873505Z",
     "iopub.status.idle": "2022-04-26T00:20:10.132165Z",
     "shell.execute_reply": "2022-04-26T00:20:10.131471Z"
    },
    "papermill": {
     "duration": 10.294587,
     "end_time": "2022-04-26T00:20:10.132349",
     "exception": false,
     "start_time": "2022-04-26T00:19:59.837762",
     "status": "completed"
    },
    "tags": []
   },
   "outputs": [],
   "source": [
    "adjacency = scipy.sparse.coo_matrix( distances <= 20 , dtype=np.float32)\n",
    "degree = scipy.sparse.diags( adjacency.sum(axis=0).A1 )\n",
    "laplacian = (degree - adjacency).tocoo()"
   ]
  },
  {
   "cell_type": "code",
   "execution_count": 15,
   "id": "d592c416",
   "metadata": {
    "execution": {
     "iopub.execute_input": "2022-04-26T00:20:10.205948Z",
     "iopub.status.busy": "2022-04-26T00:20:10.205156Z",
     "iopub.status.idle": "2022-04-26T00:20:10.217736Z",
     "shell.execute_reply": "2022-04-26T00:20:10.217081Z"
    },
    "papermill": {
     "duration": 0.050314,
     "end_time": "2022-04-26T00:20:10.217891",
     "exception": false,
     "start_time": "2022-04-26T00:20:10.167577",
     "status": "completed"
    },
    "tags": []
   },
   "outputs": [],
   "source": [
    "adjacency_sparse_tensor = scipy_sparse_to_pytorch_sparse(adjacency)"
   ]
  },
  {
   "cell_type": "code",
   "execution_count": 16,
   "id": "f4ca759d",
   "metadata": {
    "execution": {
     "iopub.execute_input": "2022-04-26T00:20:10.295618Z",
     "iopub.status.busy": "2022-04-26T00:20:10.293851Z",
     "iopub.status.idle": "2022-04-26T00:20:12.290818Z",
     "shell.execute_reply": "2022-04-26T00:20:12.290336Z"
    },
    "papermill": {
     "duration": 2.037891,
     "end_time": "2022-04-26T00:20:12.290921",
     "exception": false,
     "start_time": "2022-04-26T00:20:10.253030",
     "status": "completed"
    },
    "tags": []
   },
   "outputs": [],
   "source": [
    "adjacency_dense_tensor = adjacency_sparse_tensor.to_dense()"
   ]
  },
  {
   "cell_type": "code",
   "execution_count": 17,
   "id": "4d12e8d2",
   "metadata": {
    "execution": {
     "iopub.execute_input": "2022-04-26T00:20:12.339430Z",
     "iopub.status.busy": "2022-04-26T00:20:12.339088Z",
     "iopub.status.idle": "2022-04-26T00:20:12.340871Z",
     "shell.execute_reply": "2022-04-26T00:20:12.340572Z"
    },
    "papermill": {
     "duration": 0.031895,
     "end_time": "2022-04-26T00:20:12.340936",
     "exception": false,
     "start_time": "2022-04-26T00:20:12.309041",
     "status": "completed"
    },
    "tags": []
   },
   "outputs": [],
   "source": [
    "def laplacian_loss(x, x_lap):\n",
    "    \n",
    "    lap_sum = 0\n",
    "    for ii in range(x.shape[1]):\n",
    "        lap_sum = lap_sum + (x[:,ii].T @ x_lap @ x[:,ii])\n",
    "        \n",
    "    return lap_sum"
   ]
  },
  {
   "cell_type": "code",
   "execution_count": 18,
   "id": "c75c6cc4",
   "metadata": {
    "execution": {
     "iopub.execute_input": "2022-04-26T00:20:12.414382Z",
     "iopub.status.busy": "2022-04-26T00:20:12.396028Z",
     "iopub.status.idle": "2022-04-26T00:20:12.441395Z",
     "shell.execute_reply": "2022-04-26T00:20:12.441048Z"
    },
    "papermill": {
     "duration": 0.072892,
     "end_time": "2022-04-26T00:20:12.441488",
     "exception": false,
     "start_time": "2022-04-26T00:20:12.368596",
     "status": "completed"
    },
    "tags": []
   },
   "outputs": [],
   "source": [
    "mf = MatrixFactorization(mask_sparse_tensor.shape[0], mask_sparse_tensor.shape[1], DECOMP_RANK).to(device=device)"
   ]
  },
  {
   "cell_type": "code",
   "execution_count": 19,
   "id": "42f136d5",
   "metadata": {
    "execution": {
     "iopub.execute_input": "2022-04-26T00:20:12.489493Z",
     "iopub.status.busy": "2022-04-26T00:20:12.489157Z",
     "iopub.status.idle": "2022-04-26T00:20:12.490802Z",
     "shell.execute_reply": "2022-04-26T00:20:12.490512Z"
    },
    "papermill": {
     "duration": 0.031039,
     "end_time": "2022-04-26T00:20:12.490872",
     "exception": false,
     "start_time": "2022-04-26T00:20:12.459833",
     "status": "completed"
    },
    "tags": []
   },
   "outputs": [],
   "source": [
    "import torch.optim as optim\n",
    "\n",
    "optimizer = optim.Adam(mf.parameters(), lr=0.001)"
   ]
  },
  {
   "cell_type": "code",
   "execution_count": 20,
   "id": "2a2fe16a",
   "metadata": {
    "execution": {
     "iopub.execute_input": "2022-04-26T00:20:12.555194Z",
     "iopub.status.busy": "2022-04-26T00:20:12.553628Z"
    },
    "papermill": {
     "duration": null,
     "end_time": null,
     "exception": false,
     "start_time": "2022-04-26T00:20:12.518551",
     "status": "running"
    },
    "tags": []
   },
   "outputs": [
    {
     "name": "stdout",
     "output_type": "stream",
     "text": [
      "0\n",
      "215980306.0\n"
     ]
    },
    {
     "name": "stdout",
     "output_type": "stream",
     "text": [
      "1\n",
      "215790604.0\n"
     ]
    },
    {
     "name": "stdout",
     "output_type": "stream",
     "text": [
      "2\n",
      "215302477.0\n"
     ]
    },
    {
     "name": "stdout",
     "output_type": "stream",
     "text": [
      "3\n",
      "214378802.0\n"
     ]
    }
   ],
   "source": [
    "losses = []\n",
    "\n",
    "for epoch in range(50):\n",
    "    \n",
    "    batcher = data_adjacency_batcher(data_dense_tensor, adjacency_dense_tensor, 5000)\n",
    "    \n",
    "    total_loss = 0\n",
    "    \n",
    "    \n",
    "    for (data_batch, mask_batch, adjacency_batch, row_batch) in batcher:\n",
    "        \n",
    "        \n",
    "        \n",
    "        data_batch = data_batch.to(device=device)\n",
    "        mask_batch = mask_batch.to(device=device)\n",
    "        adjacency_batch = adjacency_batch.to(device=device)\n",
    "        row_batch = row_batch.to(device=device)\n",
    "        \n",
    "        laplacian_tensor = adjacency_to_laplacian(adjacency_batch).to(device=device)\n",
    "    \n",
    "        optimizer.zero_grad()\n",
    "\n",
    "        output = mf.forward(row_batch, torch.arange(0, data_batch.shape[1]))\n",
    "        \n",
    "        L1_laplacian_tensor = adjacency_to_laplacian(adjacency_to_L1_adjacency(output, adjacency_batch, 0.001, device)).to(device=device)\n",
    "        \n",
    "        loss = squared_loss(data_batch[mask_batch], output[mask_batch]) + LAPLACIAN_PARAM*laplacian_loss(output, laplacian_tensor) + TV_PARAM*laplacian_loss(output, L1_laplacian_tensor)\n",
    "        loss.backward()\n",
    "        optimizer.step()\n",
    "        \n",
    "        total_loss += loss.item()\n",
    "        \n",
    "\n",
    "    if epoch % 1 == 0:\n",
    "        print(epoch)\n",
    "        print(total_loss)\n",
    "        \n",
    "    losses.append(total_loss)"
   ]
  },
  {
   "cell_type": "code",
   "execution_count": null,
   "id": "b1d8e686",
   "metadata": {
    "papermill": {
     "duration": null,
     "end_time": null,
     "exception": null,
     "start_time": null,
     "status": "pending"
    },
    "tags": []
   },
   "outputs": [],
   "source": [
    "loss.item()"
   ]
  },
  {
   "cell_type": "code",
   "execution_count": null,
   "id": "c880f61c",
   "metadata": {
    "papermill": {
     "duration": null,
     "end_time": null,
     "exception": null,
     "start_time": null,
     "status": "pending"
    },
    "tags": []
   },
   "outputs": [],
   "source": [
    "np.save(f'./results/loss_curves/mf_rank{DECOMP_RANK}_L{LAPLACIAN_PARAM}_TV{TV_PARAM}_losses', np.array(losses))"
   ]
  },
  {
   "cell_type": "code",
   "execution_count": null,
   "id": "c743ced7",
   "metadata": {
    "papermill": {
     "duration": null,
     "end_time": null,
     "exception": null,
     "start_time": null,
     "status": "pending"
    },
    "tags": []
   },
   "outputs": [],
   "source": [
    "torch.save(mf.state_dict(), f'./results/saved_models/mf_rank{DECOMP_RANK}_L{LAPLACIAN_PARAM}_TV{TV_PARAM}_state')"
   ]
  },
  {
   "cell_type": "code",
   "execution_count": null,
   "id": "18296cd1",
   "metadata": {
    "papermill": {
     "duration": null,
     "end_time": null,
     "exception": null,
     "start_time": null,
     "status": "pending"
    },
    "tags": []
   },
   "outputs": [],
   "source": [
    "final_output = mf.forward(torch.arange(0, data_dense_tensor.shape[0]), torch.arange(0, data_dense_tensor.shape[1]))\n",
    "\n",
    "final_squared_error = squared_loss(data_dense_tensor, final_output)\n",
    "final_laplacian = laplacian_loss(final_output, adjacency_to_laplacian(adjacency_dense_tensor).to(device=device))\n",
    "final_TV =  laplacian_loss(final_output, adjacency_to_laplacian(adjacency_to_L1_adjacency(final_output, adjacency_dense_tensor, 0.001, device)).to(device=device))"
   ]
  },
  {
   "cell_type": "code",
   "execution_count": null,
   "id": "1183599b",
   "metadata": {
    "papermill": {
     "duration": null,
     "end_time": null,
     "exception": null,
     "start_time": null,
     "status": "pending"
    },
    "tags": []
   },
   "outputs": [],
   "source": [
    "np.save(f'./results/final_losses/mf_rank{DECOMP_RANK}_L{LAPLACIAN_PARAM}_TV{TV_PARAM}_losses', np.array([final_squared_error.item(), final_laplacian.item(), final_TV.item()]))"
   ]
  },
  {
   "cell_type": "code",
   "execution_count": null,
   "id": "237b77b9",
   "metadata": {
    "papermill": {
     "duration": null,
     "end_time": null,
     "exception": null,
     "start_time": null,
     "status": "pending"
    },
    "tags": []
   },
   "outputs": [],
   "source": []
  }
 ],
 "metadata": {
  "interpreter": {
   "hash": "22ee4ece52021b4a120b95b326dd7a4d7938576e919f53927a7959ab5d7e1e45"
  },
  "kernelspec": {
   "display_name": "spatialSFT",
   "language": "python",
   "name": "spatialsft"
  },
  "language_info": {
   "codemirror_mode": {
    "name": "ipython",
    "version": 3
   },
   "file_extension": ".py",
   "mimetype": "text/x-python",
   "name": "python",
   "nbconvert_exporter": "python",
   "pygments_lexer": "ipython3",
   "version": "3.8.0"
  },
  "papermill": {
   "default_parameters": {},
   "duration": null,
   "end_time": null,
   "environment_variables": {},
   "exception": null,
   "input_path": "./notebooks/mf_param_template.ipynb",
   "output_path": "./papermill_output/mf_param_template_rank100_lap0.00001_tv0.001.ipynb",
   "parameters": {
    "DECOMP_RANK": 100,
    "LAPLACIAN_PARAM": 1e-05,
    "TV_PARAM": 0.001
   },
   "start_time": "2022-04-26T00:18:12.651609",
   "version": "2.3.4"
  }
 },
 "nbformat": 4,
 "nbformat_minor": 5
}