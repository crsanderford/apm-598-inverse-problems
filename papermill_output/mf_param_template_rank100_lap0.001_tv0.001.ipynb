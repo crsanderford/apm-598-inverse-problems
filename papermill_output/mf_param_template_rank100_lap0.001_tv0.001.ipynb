{
 "cells": [
  {
   "cell_type": "markdown",
   "id": "39777200",
   "metadata": {
    "papermill": {
     "duration": 0.014893,
     "end_time": "2022-04-25T13:57:19.417758",
     "exception": false,
     "start_time": "2022-04-25T13:57:19.402865",
     "status": "completed"
    },
    "tags": []
   },
   "source": [
    "### setup"
   ]
  },
  {
   "cell_type": "code",
   "execution_count": 1,
   "id": "9d6af920",
   "metadata": {
    "execution": {
     "iopub.execute_input": "2022-04-25T13:57:19.450958Z",
     "iopub.status.busy": "2022-04-25T13:57:19.450583Z",
     "iopub.status.idle": "2022-04-25T13:57:23.788881Z",
     "shell.execute_reply": "2022-04-25T13:57:23.789246Z"
    },
    "papermill": {
     "duration": 4.358163,
     "end_time": "2022-04-25T13:57:23.789439",
     "exception": false,
     "start_time": "2022-04-25T13:57:19.431276",
     "status": "completed"
    },
    "tags": []
   },
   "outputs": [],
   "source": [
    "import numpy as np \n",
    "import matplotlib.pyplot as plt\n",
    "import pandas as pd\n",
    "\n",
    "import scipy\n",
    "\n",
    "\n",
    "from utils import *\n",
    "from pytorch_sparse_utils import *\n",
    "\n",
    "\n",
    "import torch\n",
    "from torch import nn\n",
    "import torch.nn.functional as F"
   ]
  },
  {
   "cell_type": "markdown",
   "id": "762eb8f6",
   "metadata": {
    "papermill": {
     "duration": 0.013955,
     "end_time": "2022-04-25T13:57:23.817941",
     "exception": false,
     "start_time": "2022-04-25T13:57:23.803986",
     "status": "completed"
    },
    "tags": []
   },
   "source": [
    "### set parameters"
   ]
  },
  {
   "cell_type": "code",
   "execution_count": 2,
   "id": "58b839bb",
   "metadata": {
    "execution": {
     "iopub.execute_input": "2022-04-25T13:57:23.849988Z",
     "iopub.status.busy": "2022-04-25T13:57:23.849610Z",
     "iopub.status.idle": "2022-04-25T13:57:23.852150Z",
     "shell.execute_reply": "2022-04-25T13:57:23.851785Z"
    },
    "papermill": {
     "duration": 0.020835,
     "end_time": "2022-04-25T13:57:23.852223",
     "exception": false,
     "start_time": "2022-04-25T13:57:23.831388",
     "status": "completed"
    },
    "tags": [
     "parameters"
    ]
   },
   "outputs": [],
   "source": [
    "DECOMP_RANK = 10\n",
    "LAPLACIAN_PARAM = 0.001\n",
    "TV_PARAM = 0.001"
   ]
  },
  {
   "cell_type": "code",
   "execution_count": 3,
   "id": "fdf0f141",
   "metadata": {
    "execution": {
     "iopub.execute_input": "2022-04-25T13:57:23.882958Z",
     "iopub.status.busy": "2022-04-25T13:57:23.882592Z",
     "iopub.status.idle": "2022-04-25T13:57:23.885407Z",
     "shell.execute_reply": "2022-04-25T13:57:23.885059Z"
    },
    "papermill": {
     "duration": 0.019851,
     "end_time": "2022-04-25T13:57:23.885479",
     "exception": false,
     "start_time": "2022-04-25T13:57:23.865628",
     "status": "completed"
    },
    "tags": [
     "injected-parameters"
    ]
   },
   "outputs": [],
   "source": [
    "# Parameters\n",
    "DECOMP_RANK = 100\n",
    "LAPLACIAN_PARAM = 0.001\n",
    "TV_PARAM = 0.001\n"
   ]
  },
  {
   "cell_type": "code",
   "execution_count": 4,
   "id": "d6484ee4",
   "metadata": {
    "execution": {
     "iopub.execute_input": "2022-04-25T13:57:41.759456Z",
     "iopub.status.busy": "2022-04-25T13:57:41.759045Z",
     "iopub.status.idle": "2022-04-25T13:57:41.768992Z",
     "shell.execute_reply": "2022-04-25T13:57:41.769338Z"
    },
    "papermill": {
     "duration": 17.870439,
     "end_time": "2022-04-25T13:57:41.769451",
     "exception": false,
     "start_time": "2022-04-25T13:57:23.899012",
     "status": "completed"
    },
    "tags": []
   },
   "outputs": [
    {
     "name": "stdout",
     "output_type": "stream",
     "text": [
      "Using cuda device\n"
     ]
    }
   ],
   "source": [
    "device = 'cuda' if torch.cuda.is_available() else 'cpu'\n",
    "print('Using {} device'.format(device))"
   ]
  },
  {
   "cell_type": "markdown",
   "id": "d481b469",
   "metadata": {
    "papermill": {
     "duration": 0.014812,
     "end_time": "2022-04-25T13:57:41.799992",
     "exception": false,
     "start_time": "2022-04-25T13:57:41.785180",
     "status": "completed"
    },
    "tags": []
   },
   "source": [
    "### loading data"
   ]
  },
  {
   "cell_type": "code",
   "execution_count": 5,
   "id": "c0349e37",
   "metadata": {
    "execution": {
     "iopub.execute_input": "2022-04-25T13:57:41.834288Z",
     "iopub.status.busy": "2022-04-25T13:57:41.833933Z",
     "iopub.status.idle": "2022-04-25T13:57:44.506118Z",
     "shell.execute_reply": "2022-04-25T13:57:44.506423Z"
    },
    "papermill": {
     "duration": 2.691861,
     "end_time": "2022-04-25T13:57:44.506533",
     "exception": false,
     "start_time": "2022-04-25T13:57:41.814672",
     "status": "completed"
    },
    "tags": []
   },
   "outputs": [
    {
     "data": {
      "text/html": [
       "<div>\n",
       "<style scoped>\n",
       "    .dataframe tbody tr th:only-of-type {\n",
       "        vertical-align: middle;\n",
       "    }\n",
       "\n",
       "    .dataframe tbody tr th {\n",
       "        vertical-align: top;\n",
       "    }\n",
       "\n",
       "    .dataframe thead th {\n",
       "        text-align: right;\n",
       "    }\n",
       "</style>\n",
       "<table border=\"1\" class=\"dataframe\">\n",
       "  <thead>\n",
       "    <tr style=\"text-align: right;\">\n",
       "      <th></th>\n",
       "      <th>1110008P14Rik</th>\n",
       "      <th>1500009C09Rik</th>\n",
       "      <th>1500012F01Rik</th>\n",
       "      <th>1700020I14Rik</th>\n",
       "      <th>2010107E04Rik</th>\n",
       "      <th>2010300C02Rik</th>\n",
       "      <th>2210016L21Rik</th>\n",
       "      <th>2310036O22Rik</th>\n",
       "      <th>2900011O08Rik</th>\n",
       "      <th>3110035E14Rik</th>\n",
       "      <th>...</th>\n",
       "      <th>Zrsr1</th>\n",
       "      <th>Zwint</th>\n",
       "      <th>mt-Co1</th>\n",
       "      <th>mt-Cytb</th>\n",
       "      <th>mt-Nd1</th>\n",
       "      <th>mt-Nd2</th>\n",
       "      <th>mt-Nd4</th>\n",
       "      <th>mt-Nd5</th>\n",
       "      <th>mt-Rnr1</th>\n",
       "      <th>mt-Rnr2</th>\n",
       "    </tr>\n",
       "  </thead>\n",
       "  <tbody>\n",
       "    <tr>\n",
       "      <th>AAAAAAAGGTAGTA</th>\n",
       "      <td>0</td>\n",
       "      <td>0</td>\n",
       "      <td>0</td>\n",
       "      <td>0</td>\n",
       "      <td>0</td>\n",
       "      <td>0</td>\n",
       "      <td>0</td>\n",
       "      <td>0</td>\n",
       "      <td>0</td>\n",
       "      <td>0</td>\n",
       "      <td>...</td>\n",
       "      <td>0</td>\n",
       "      <td>0</td>\n",
       "      <td>0</td>\n",
       "      <td>0</td>\n",
       "      <td>0</td>\n",
       "      <td>0</td>\n",
       "      <td>0</td>\n",
       "      <td>0</td>\n",
       "      <td>1</td>\n",
       "      <td>0</td>\n",
       "    </tr>\n",
       "    <tr>\n",
       "      <th>AAAAAAAGTCCCAA</th>\n",
       "      <td>0</td>\n",
       "      <td>0</td>\n",
       "      <td>0</td>\n",
       "      <td>0</td>\n",
       "      <td>0</td>\n",
       "      <td>0</td>\n",
       "      <td>0</td>\n",
       "      <td>0</td>\n",
       "      <td>0</td>\n",
       "      <td>0</td>\n",
       "      <td>...</td>\n",
       "      <td>0</td>\n",
       "      <td>0</td>\n",
       "      <td>2</td>\n",
       "      <td>2</td>\n",
       "      <td>5</td>\n",
       "      <td>0</td>\n",
       "      <td>1</td>\n",
       "      <td>0</td>\n",
       "      <td>2</td>\n",
       "      <td>4</td>\n",
       "    </tr>\n",
       "    <tr>\n",
       "      <th>AAAAAAATCTTAGT</th>\n",
       "      <td>0</td>\n",
       "      <td>0</td>\n",
       "      <td>0</td>\n",
       "      <td>0</td>\n",
       "      <td>0</td>\n",
       "      <td>0</td>\n",
       "      <td>0</td>\n",
       "      <td>0</td>\n",
       "      <td>0</td>\n",
       "      <td>0</td>\n",
       "      <td>...</td>\n",
       "      <td>0</td>\n",
       "      <td>0</td>\n",
       "      <td>0</td>\n",
       "      <td>0</td>\n",
       "      <td>0</td>\n",
       "      <td>0</td>\n",
       "      <td>0</td>\n",
       "      <td>0</td>\n",
       "      <td>0</td>\n",
       "      <td>0</td>\n",
       "    </tr>\n",
       "    <tr>\n",
       "      <th>AAAAAACATCTTTC</th>\n",
       "      <td>0</td>\n",
       "      <td>0</td>\n",
       "      <td>0</td>\n",
       "      <td>0</td>\n",
       "      <td>0</td>\n",
       "      <td>0</td>\n",
       "      <td>0</td>\n",
       "      <td>0</td>\n",
       "      <td>0</td>\n",
       "      <td>0</td>\n",
       "      <td>...</td>\n",
       "      <td>0</td>\n",
       "      <td>0</td>\n",
       "      <td>0</td>\n",
       "      <td>0</td>\n",
       "      <td>0</td>\n",
       "      <td>0</td>\n",
       "      <td>0</td>\n",
       "      <td>0</td>\n",
       "      <td>1</td>\n",
       "      <td>0</td>\n",
       "    </tr>\n",
       "    <tr>\n",
       "      <th>AAAAAACGAAATAG</th>\n",
       "      <td>0</td>\n",
       "      <td>0</td>\n",
       "      <td>0</td>\n",
       "      <td>0</td>\n",
       "      <td>0</td>\n",
       "      <td>0</td>\n",
       "      <td>0</td>\n",
       "      <td>0</td>\n",
       "      <td>0</td>\n",
       "      <td>0</td>\n",
       "      <td>...</td>\n",
       "      <td>0</td>\n",
       "      <td>0</td>\n",
       "      <td>1</td>\n",
       "      <td>0</td>\n",
       "      <td>0</td>\n",
       "      <td>0</td>\n",
       "      <td>0</td>\n",
       "      <td>0</td>\n",
       "      <td>0</td>\n",
       "      <td>0</td>\n",
       "    </tr>\n",
       "  </tbody>\n",
       "</table>\n",
       "<p>5 rows × 1222 columns</p>\n",
       "</div>"
      ],
      "text/plain": [
       "                1110008P14Rik  1500009C09Rik  1500012F01Rik  1700020I14Rik  \\\n",
       "AAAAAAAGGTAGTA              0              0              0              0   \n",
       "AAAAAAAGTCCCAA              0              0              0              0   \n",
       "AAAAAAATCTTAGT              0              0              0              0   \n",
       "AAAAAACATCTTTC              0              0              0              0   \n",
       "AAAAAACGAAATAG              0              0              0              0   \n",
       "\n",
       "                2010107E04Rik  2010300C02Rik  2210016L21Rik  2310036O22Rik  \\\n",
       "AAAAAAAGGTAGTA              0              0              0              0   \n",
       "AAAAAAAGTCCCAA              0              0              0              0   \n",
       "AAAAAAATCTTAGT              0              0              0              0   \n",
       "AAAAAACATCTTTC              0              0              0              0   \n",
       "AAAAAACGAAATAG              0              0              0              0   \n",
       "\n",
       "                2900011O08Rik  3110035E14Rik  ...  Zrsr1  Zwint  mt-Co1  \\\n",
       "AAAAAAAGGTAGTA              0              0  ...      0      0       0   \n",
       "AAAAAAAGTCCCAA              0              0  ...      0      0       2   \n",
       "AAAAAAATCTTAGT              0              0  ...      0      0       0   \n",
       "AAAAAACATCTTTC              0              0  ...      0      0       0   \n",
       "AAAAAACGAAATAG              0              0  ...      0      0       1   \n",
       "\n",
       "                mt-Cytb  mt-Nd1  mt-Nd2  mt-Nd4  mt-Nd5  mt-Rnr1  mt-Rnr2  \n",
       "AAAAAAAGGTAGTA        0       0       0       0       0        1        0  \n",
       "AAAAAAAGTCCCAA        2       5       0       1       0        2        4  \n",
       "AAAAAAATCTTAGT        0       0       0       0       0        0        0  \n",
       "AAAAAACATCTTTC        0       0       0       0       0        1        0  \n",
       "AAAAAACGAAATAG        0       0       0       0       0        0        0  \n",
       "\n",
       "[5 rows x 1222 columns]"
      ]
     },
     "execution_count": 5,
     "metadata": {},
     "output_type": "execute_result"
    }
   ],
   "source": [
    "bead_reads_subset = pd.read_csv('./data/bead_reads_subset.csv', index_col='Unnamed: 0')\n",
    "bead_reads_subset.head()"
   ]
  },
  {
   "cell_type": "code",
   "execution_count": 6,
   "id": "d39437c5",
   "metadata": {
    "execution": {
     "iopub.execute_input": "2022-04-25T13:57:44.543526Z",
     "iopub.status.busy": "2022-04-25T13:57:44.543172Z",
     "iopub.status.idle": "2022-04-25T13:57:45.129137Z",
     "shell.execute_reply": "2022-04-25T13:57:45.129528Z"
    },
    "papermill": {
     "duration": 0.605896,
     "end_time": "2022-04-25T13:57:45.129630",
     "exception": false,
     "start_time": "2022-04-25T13:57:44.523734",
     "status": "completed"
    },
    "tags": []
   },
   "outputs": [],
   "source": [
    "data_scipy_sparse = scipy.sparse.coo_matrix( bead_reads_subset.to_numpy() )"
   ]
  },
  {
   "cell_type": "code",
   "execution_count": 7,
   "id": "03ec2e82",
   "metadata": {
    "execution": {
     "iopub.execute_input": "2022-04-25T13:57:45.164929Z",
     "iopub.status.busy": "2022-04-25T13:57:45.164565Z",
     "iopub.status.idle": "2022-04-25T13:57:49.673292Z",
     "shell.execute_reply": "2022-04-25T13:57:49.672959Z"
    },
    "papermill": {
     "duration": 4.527607,
     "end_time": "2022-04-25T13:57:49.673386",
     "exception": false,
     "start_time": "2022-04-25T13:57:45.145779",
     "status": "completed"
    },
    "tags": []
   },
   "outputs": [],
   "source": [
    "data_sparse_tensor = scipy_sparse_to_pytorch_sparse(data_scipy_sparse).to(device=device)"
   ]
  },
  {
   "cell_type": "code",
   "execution_count": 8,
   "id": "24af2664",
   "metadata": {
    "execution": {
     "iopub.execute_input": "2022-04-25T13:57:49.711633Z",
     "iopub.status.busy": "2022-04-25T13:57:49.711273Z",
     "iopub.status.idle": "2022-04-25T13:57:49.719115Z",
     "shell.execute_reply": "2022-04-25T13:57:49.718806Z"
    },
    "papermill": {
     "duration": 0.02646,
     "end_time": "2022-04-25T13:57:49.719184",
     "exception": false,
     "start_time": "2022-04-25T13:57:49.692724",
     "status": "completed"
    },
    "tags": []
   },
   "outputs": [
    {
     "data": {
      "text/plain": [
       "tensor(indices=tensor([[    0,     0,     0,  ..., 53207, 53207, 53207],\n",
       "                       [   84,   412,   528,  ...,  1219,  1220,  1221]]),\n",
       "       values=tensor([ 1.,  1.,  1.,  ..., 12., 26., 71.]),\n",
       "       device='cuda:0', size=(53208, 1222), nnz=9552845, layout=torch.sparse_coo)"
      ]
     },
     "execution_count": 8,
     "metadata": {},
     "output_type": "execute_result"
    }
   ],
   "source": [
    "data_sparse_tensor"
   ]
  },
  {
   "cell_type": "code",
   "execution_count": 9,
   "id": "b6096eeb",
   "metadata": {
    "execution": {
     "iopub.execute_input": "2022-04-25T13:57:49.754723Z",
     "iopub.status.busy": "2022-04-25T13:57:49.754370Z",
     "iopub.status.idle": "2022-04-25T13:57:49.757827Z",
     "shell.execute_reply": "2022-04-25T13:57:49.757524Z"
    },
    "papermill": {
     "duration": 0.02205,
     "end_time": "2022-04-25T13:57:49.757906",
     "exception": false,
     "start_time": "2022-04-25T13:57:49.735856",
     "status": "completed"
    },
    "tags": []
   },
   "outputs": [],
   "source": [
    "data_dense_tensor = data_sparse_tensor.to_dense()"
   ]
  },
  {
   "cell_type": "code",
   "execution_count": 10,
   "id": "c916e19d",
   "metadata": {
    "execution": {
     "iopub.execute_input": "2022-04-25T13:57:49.794145Z",
     "iopub.status.busy": "2022-04-25T13:57:49.793232Z",
     "iopub.status.idle": "2022-04-25T13:57:49.940967Z",
     "shell.execute_reply": "2022-04-25T13:57:49.940425Z"
    },
    "papermill": {
     "duration": 0.166248,
     "end_time": "2022-04-25T13:57:49.941040",
     "exception": false,
     "start_time": "2022-04-25T13:57:49.774792",
     "status": "completed"
    },
    "tags": []
   },
   "outputs": [],
   "source": [
    "mask_scipy_sparse = (data_scipy_sparse != 0).astype(np.int64).tocoo()"
   ]
  },
  {
   "cell_type": "code",
   "execution_count": 11,
   "id": "75dbb76a",
   "metadata": {
    "execution": {
     "iopub.execute_input": "2022-04-25T13:57:49.976255Z",
     "iopub.status.busy": "2022-04-25T13:57:49.975901Z",
     "iopub.status.idle": "2022-04-25T13:57:50.015965Z",
     "shell.execute_reply": "2022-04-25T13:57:50.016287Z"
    },
    "papermill": {
     "duration": 0.059335,
     "end_time": "2022-04-25T13:57:50.016391",
     "exception": false,
     "start_time": "2022-04-25T13:57:49.957056",
     "status": "completed"
    },
    "tags": []
   },
   "outputs": [],
   "source": [
    "mask_sparse_tensor = scipy_sparse_to_pytorch_sparse(mask_scipy_sparse)"
   ]
  },
  {
   "cell_type": "code",
   "execution_count": 12,
   "id": "5cd5cdc1",
   "metadata": {
    "execution": {
     "iopub.execute_input": "2022-04-25T13:57:50.058732Z",
     "iopub.status.busy": "2022-04-25T13:57:50.058269Z",
     "iopub.status.idle": "2022-04-25T13:57:51.045883Z",
     "shell.execute_reply": "2022-04-25T13:57:51.045430Z"
    },
    "papermill": {
     "duration": 1.013566,
     "end_time": "2022-04-25T13:57:51.045984",
     "exception": false,
     "start_time": "2022-04-25T13:57:50.032418",
     "status": "completed"
    },
    "tags": []
   },
   "outputs": [],
   "source": [
    "mask_dense_tensor = mask_sparse_tensor.to_dense().bool()"
   ]
  },
  {
   "cell_type": "code",
   "execution_count": 13,
   "id": "12bab1a5",
   "metadata": {
    "execution": {
     "iopub.execute_input": "2022-04-25T13:57:51.100060Z",
     "iopub.status.busy": "2022-04-25T13:57:51.099677Z",
     "iopub.status.idle": "2022-04-25T13:58:12.809162Z",
     "shell.execute_reply": "2022-04-25T13:58:12.808667Z"
    },
    "papermill": {
     "duration": 21.746428,
     "end_time": "2022-04-25T13:58:12.809274",
     "exception": false,
     "start_time": "2022-04-25T13:57:51.062846",
     "status": "completed"
    },
    "tags": []
   },
   "outputs": [],
   "source": [
    "distances = np.load('./data/macosko_distance_matrix.npy')"
   ]
  },
  {
   "cell_type": "code",
   "execution_count": 14,
   "id": "1ddb1ab4",
   "metadata": {
    "execution": {
     "iopub.execute_input": "2022-04-25T13:58:12.847693Z",
     "iopub.status.busy": "2022-04-25T13:58:12.847342Z",
     "iopub.status.idle": "2022-04-25T13:58:20.541964Z",
     "shell.execute_reply": "2022-04-25T13:58:20.541561Z"
    },
    "papermill": {
     "duration": 7.713831,
     "end_time": "2022-04-25T13:58:20.542064",
     "exception": false,
     "start_time": "2022-04-25T13:58:12.828233",
     "status": "completed"
    },
    "tags": []
   },
   "outputs": [],
   "source": [
    "adjacency = scipy.sparse.coo_matrix( distances <= 20 , dtype=np.float32)\n",
    "degree = scipy.sparse.diags( adjacency.sum(axis=0).A1 )\n",
    "laplacian = (degree - adjacency).tocoo()"
   ]
  },
  {
   "cell_type": "code",
   "execution_count": 15,
   "id": "abc77c1a",
   "metadata": {
    "execution": {
     "iopub.execute_input": "2022-04-25T13:58:20.585907Z",
     "iopub.status.busy": "2022-04-25T13:58:20.585530Z",
     "iopub.status.idle": "2022-04-25T13:58:20.588590Z",
     "shell.execute_reply": "2022-04-25T13:58:20.588272Z"
    },
    "papermill": {
     "duration": 0.029404,
     "end_time": "2022-04-25T13:58:20.588663",
     "exception": false,
     "start_time": "2022-04-25T13:58:20.559259",
     "status": "completed"
    },
    "tags": []
   },
   "outputs": [],
   "source": [
    "adjacency_sparse_tensor = scipy_sparse_to_pytorch_sparse(adjacency)"
   ]
  },
  {
   "cell_type": "code",
   "execution_count": 16,
   "id": "54bc3dd0",
   "metadata": {
    "execution": {
     "iopub.execute_input": "2022-04-25T13:58:20.665963Z",
     "iopub.status.busy": "2022-04-25T13:58:20.665438Z",
     "iopub.status.idle": "2022-04-25T13:58:22.977184Z",
     "shell.execute_reply": "2022-04-25T13:58:22.976683Z"
    },
    "papermill": {
     "duration": 2.358559,
     "end_time": "2022-04-25T13:58:22.977313",
     "exception": false,
     "start_time": "2022-04-25T13:58:20.618754",
     "status": "completed"
    },
    "tags": []
   },
   "outputs": [],
   "source": [
    "adjacency_dense_tensor = adjacency_sparse_tensor.to_dense()"
   ]
  },
  {
   "cell_type": "code",
   "execution_count": 17,
   "id": "ba9b7499",
   "metadata": {
    "execution": {
     "iopub.execute_input": "2022-04-25T13:58:23.035670Z",
     "iopub.status.busy": "2022-04-25T13:58:23.035218Z",
     "iopub.status.idle": "2022-04-25T13:58:23.037801Z",
     "shell.execute_reply": "2022-04-25T13:58:23.037483Z"
    },
    "papermill": {
     "duration": 0.044233,
     "end_time": "2022-04-25T13:58:23.037890",
     "exception": false,
     "start_time": "2022-04-25T13:58:22.993657",
     "status": "completed"
    },
    "tags": []
   },
   "outputs": [],
   "source": [
    "def laplacian_loss(x, x_lap):\n",
    "    \n",
    "    lap_sum = 0\n",
    "    for ii in range(x.shape[1]):\n",
    "        lap_sum = lap_sum + (x[:,ii].T @ x_lap @ x[:,ii])\n",
    "        \n",
    "    return lap_sum"
   ]
  },
  {
   "cell_type": "code",
   "execution_count": 18,
   "id": "f241181b",
   "metadata": {
    "execution": {
     "iopub.execute_input": "2022-04-25T13:58:23.123968Z",
     "iopub.status.busy": "2022-04-25T13:58:23.123562Z",
     "iopub.status.idle": "2022-04-25T13:58:23.133078Z",
     "shell.execute_reply": "2022-04-25T13:58:23.133415Z"
    },
    "papermill": {
     "duration": 0.058108,
     "end_time": "2022-04-25T13:58:23.133509",
     "exception": false,
     "start_time": "2022-04-25T13:58:23.075401",
     "status": "completed"
    },
    "tags": []
   },
   "outputs": [],
   "source": [
    "mf = MatrixFactorization(mask_sparse_tensor.shape[0], mask_sparse_tensor.shape[1], DECOMP_RANK).to(device=device)"
   ]
  },
  {
   "cell_type": "code",
   "execution_count": 19,
   "id": "a60eb3ae",
   "metadata": {
    "execution": {
     "iopub.execute_input": "2022-04-25T13:58:23.179576Z",
     "iopub.status.busy": "2022-04-25T13:58:23.179200Z",
     "iopub.status.idle": "2022-04-25T13:58:23.180550Z",
     "shell.execute_reply": "2022-04-25T13:58:23.180865Z"
    },
    "papermill": {
     "duration": 0.029992,
     "end_time": "2022-04-25T13:58:23.180965",
     "exception": false,
     "start_time": "2022-04-25T13:58:23.150973",
     "status": "completed"
    },
    "tags": []
   },
   "outputs": [],
   "source": [
    "import torch.optim as optim\n",
    "\n",
    "optimizer = optim.Adam(mf.parameters(), lr=0.001)"
   ]
  },
  {
   "cell_type": "code",
   "execution_count": 20,
   "id": "43338c04",
   "metadata": {
    "execution": {
     "iopub.execute_input": "2022-04-25T13:58:23.237757Z",
     "iopub.status.busy": "2022-04-25T13:58:23.237385Z",
     "iopub.status.idle": "2022-04-25T14:58:11.038474Z",
     "shell.execute_reply": "2022-04-25T14:58:11.038910Z"
    },
    "papermill": {
     "duration": 3587.837857,
     "end_time": "2022-04-25T14:58:11.044614",
     "exception": false,
     "start_time": "2022-04-25T13:58:23.206757",
     "status": "completed"
    },
    "tags": []
   },
   "outputs": [
    {
     "name": "stdout",
     "output_type": "stream",
     "text": [
      "0\n",
      "215980313.0\n"
     ]
    },
    {
     "name": "stdout",
     "output_type": "stream",
     "text": [
      "1\n",
      "215791075.0\n"
     ]
    },
    {
     "name": "stdout",
     "output_type": "stream",
     "text": [
      "2\n",
      "215300878.0\n"
     ]
    },
    {
     "name": "stdout",
     "output_type": "stream",
     "text": [
      "3\n",
      "214376352.0\n"
     ]
    },
    {
     "name": "stdout",
     "output_type": "stream",
     "text": [
      "4\n",
      "212951622.0\n"
     ]
    },
    {
     "name": "stdout",
     "output_type": "stream",
     "text": [
      "5\n",
      "211008027.0\n"
     ]
    },
    {
     "name": "stdout",
     "output_type": "stream",
     "text": [
      "6\n",
      "208580276.0\n"
     ]
    },
    {
     "name": "stdout",
     "output_type": "stream",
     "text": [
      "7\n",
      "205740496.0\n"
     ]
    },
    {
     "name": "stdout",
     "output_type": "stream",
     "text": [
      "8\n",
      "202614888.0\n"
     ]
    },
    {
     "name": "stdout",
     "output_type": "stream",
     "text": [
      "9\n",
      "199337371.0\n"
     ]
    },
    {
     "name": "stdout",
     "output_type": "stream",
     "text": [
      "10\n",
      "196078006.0\n"
     ]
    },
    {
     "name": "stdout",
     "output_type": "stream",
     "text": [
      "11\n",
      "192933116.0\n"
     ]
    },
    {
     "name": "stdout",
     "output_type": "stream",
     "text": [
      "12\n",
      "190091430.0\n"
     ]
    },
    {
     "name": "stdout",
     "output_type": "stream",
     "text": [
      "13\n",
      "187554672.0\n"
     ]
    },
    {
     "name": "stdout",
     "output_type": "stream",
     "text": [
      "14\n",
      "185376319.0\n"
     ]
    },
    {
     "name": "stdout",
     "output_type": "stream",
     "text": [
      "15\n",
      "183513348.0\n"
     ]
    },
    {
     "name": "stdout",
     "output_type": "stream",
     "text": [
      "16\n",
      "181875618.5\n"
     ]
    },
    {
     "name": "stdout",
     "output_type": "stream",
     "text": [
      "17\n",
      "180418818.0\n"
     ]
    },
    {
     "name": "stdout",
     "output_type": "stream",
     "text": [
      "18\n",
      "179082800.0\n"
     ]
    },
    {
     "name": "stdout",
     "output_type": "stream",
     "text": [
      "19\n",
      "177820435.0\n"
     ]
    },
    {
     "name": "stdout",
     "output_type": "stream",
     "text": [
      "20\n",
      "176620058.0\n"
     ]
    },
    {
     "name": "stdout",
     "output_type": "stream",
     "text": [
      "21\n",
      "175480404.0\n"
     ]
    },
    {
     "name": "stdout",
     "output_type": "stream",
     "text": [
      "22\n",
      "174360233.0\n"
     ]
    },
    {
     "name": "stdout",
     "output_type": "stream",
     "text": [
      "23\n",
      "173291718.0\n"
     ]
    },
    {
     "name": "stdout",
     "output_type": "stream",
     "text": [
      "24\n",
      "172240807.0\n"
     ]
    },
    {
     "name": "stdout",
     "output_type": "stream",
     "text": [
      "25\n",
      "171219692.0\n"
     ]
    },
    {
     "name": "stdout",
     "output_type": "stream",
     "text": [
      "26\n",
      "170233620.0\n"
     ]
    },
    {
     "name": "stdout",
     "output_type": "stream",
     "text": [
      "27\n",
      "169257229.5\n"
     ]
    },
    {
     "name": "stdout",
     "output_type": "stream",
     "text": [
      "28\n",
      "168304727.0\n"
     ]
    },
    {
     "name": "stdout",
     "output_type": "stream",
     "text": [
      "29\n",
      "167363603.0\n"
     ]
    },
    {
     "name": "stdout",
     "output_type": "stream",
     "text": [
      "30\n",
      "166447213.0\n"
     ]
    },
    {
     "name": "stdout",
     "output_type": "stream",
     "text": [
      "31\n",
      "165542076.0\n"
     ]
    },
    {
     "name": "stdout",
     "output_type": "stream",
     "text": [
      "32\n",
      "164652593.0\n"
     ]
    },
    {
     "name": "stdout",
     "output_type": "stream",
     "text": [
      "33\n",
      "163775803.0\n"
     ]
    },
    {
     "name": "stdout",
     "output_type": "stream",
     "text": [
      "34\n",
      "162910617.0\n"
     ]
    },
    {
     "name": "stdout",
     "output_type": "stream",
     "text": [
      "35\n",
      "162057881.0\n"
     ]
    },
    {
     "name": "stdout",
     "output_type": "stream",
     "text": [
      "36\n",
      "161218660.0\n"
     ]
    },
    {
     "name": "stdout",
     "output_type": "stream",
     "text": [
      "37\n",
      "160386368.0\n"
     ]
    },
    {
     "name": "stdout",
     "output_type": "stream",
     "text": [
      "38\n",
      "159565619.0\n"
     ]
    },
    {
     "name": "stdout",
     "output_type": "stream",
     "text": [
      "39\n",
      "158765990.0\n"
     ]
    },
    {
     "name": "stdout",
     "output_type": "stream",
     "text": [
      "40\n",
      "157963200.0\n"
     ]
    },
    {
     "name": "stdout",
     "output_type": "stream",
     "text": [
      "41\n",
      "157175034.0\n"
     ]
    },
    {
     "name": "stdout",
     "output_type": "stream",
     "text": [
      "42\n",
      "156397883.0\n"
     ]
    },
    {
     "name": "stdout",
     "output_type": "stream",
     "text": [
      "43\n",
      "155638234.0\n"
     ]
    },
    {
     "name": "stdout",
     "output_type": "stream",
     "text": [
      "44\n",
      "154878359.0\n"
     ]
    },
    {
     "name": "stdout",
     "output_type": "stream",
     "text": [
      "45\n",
      "154126631.0\n"
     ]
    },
    {
     "name": "stdout",
     "output_type": "stream",
     "text": [
      "46\n",
      "153397121.5\n"
     ]
    },
    {
     "name": "stdout",
     "output_type": "stream",
     "text": [
      "47\n",
      "152666947.5\n"
     ]
    },
    {
     "name": "stdout",
     "output_type": "stream",
     "text": [
      "48\n",
      "151953096.0\n"
     ]
    },
    {
     "name": "stdout",
     "output_type": "stream",
     "text": [
      "49\n",
      "151249173.0\n"
     ]
    }
   ],
   "source": [
    "losses = []\n",
    "\n",
    "for epoch in range(50):\n",
    "    \n",
    "    batcher = data_adjacency_batcher(data_dense_tensor, adjacency_dense_tensor, 5000)\n",
    "    \n",
    "    total_loss = 0\n",
    "    \n",
    "    \n",
    "    for (data_batch, mask_batch, adjacency_batch, row_batch) in batcher:\n",
    "        \n",
    "        \n",
    "        \n",
    "        data_batch = data_batch.to(device=device)\n",
    "        mask_batch = mask_batch.to(device=device)\n",
    "        adjacency_batch = adjacency_batch.to(device=device)\n",
    "        row_batch = row_batch.to(device=device)\n",
    "        \n",
    "        laplacian_tensor = adjacency_to_laplacian(adjacency_batch).to(device=device)\n",
    "    \n",
    "        optimizer.zero_grad()\n",
    "\n",
    "        output = mf.forward(row_batch, torch.arange(0, data_batch.shape[1]))\n",
    "        \n",
    "        L1_laplacian_tensor = adjacency_to_laplacian(adjacency_to_L1_adjacency(output, adjacency_batch, 0.001, device)).to(device=device)\n",
    "        \n",
    "        loss = squared_loss(data_batch[mask_batch], output[mask_batch]) + LAPLACIAN_PARAM*laplacian_loss(output, laplacian_tensor) + TV_PARAM*laplacian_loss(output, L1_laplacian_tensor)\n",
    "        loss.backward()\n",
    "        optimizer.step()\n",
    "        \n",
    "        total_loss += loss.item()\n",
    "        \n",
    "\n",
    "    if epoch % 1 == 0:\n",
    "        print(epoch)\n",
    "        print(total_loss)\n",
    "        \n",
    "    losses.append(total_loss)"
   ]
  },
  {
   "cell_type": "code",
   "execution_count": 21,
   "id": "ea59b9e4",
   "metadata": {
    "execution": {
     "iopub.execute_input": "2022-04-25T14:58:11.123653Z",
     "iopub.status.busy": "2022-04-25T14:58:11.123126Z",
     "iopub.status.idle": "2022-04-25T14:58:11.126380Z",
     "shell.execute_reply": "2022-04-25T14:58:11.126034Z"
    },
    "papermill": {
     "duration": 0.054142,
     "end_time": "2022-04-25T14:58:11.126451",
     "exception": false,
     "start_time": "2022-04-25T14:58:11.072309",
     "status": "completed"
    },
    "tags": []
   },
   "outputs": [
    {
     "data": {
      "text/plain": [
       "12242235.0"
      ]
     },
     "execution_count": 21,
     "metadata": {},
     "output_type": "execute_result"
    }
   ],
   "source": [
    "loss.item()"
   ]
  },
  {
   "cell_type": "code",
   "execution_count": 22,
   "id": "34182c99",
   "metadata": {
    "execution": {
     "iopub.execute_input": "2022-04-25T14:58:11.181463Z",
     "iopub.status.busy": "2022-04-25T14:58:11.177889Z",
     "iopub.status.idle": "2022-04-25T14:58:11.201576Z",
     "shell.execute_reply": "2022-04-25T14:58:11.201002Z"
    },
    "papermill": {
     "duration": 0.050237,
     "end_time": "2022-04-25T14:58:11.201681",
     "exception": false,
     "start_time": "2022-04-25T14:58:11.151444",
     "status": "completed"
    },
    "tags": []
   },
   "outputs": [],
   "source": [
    "np.save(f'./results/loss_curves/mf_rank{DECOMP_RANK}_L{LAPLACIAN_PARAM}_TV{TV_PARAM}_losses', np.array(losses))"
   ]
  },
  {
   "cell_type": "code",
   "execution_count": 23,
   "id": "ded19cca",
   "metadata": {
    "execution": {
     "iopub.execute_input": "2022-04-25T14:58:11.256574Z",
     "iopub.status.busy": "2022-04-25T14:58:11.256226Z",
     "iopub.status.idle": "2022-04-25T14:58:11.403438Z",
     "shell.execute_reply": "2022-04-25T14:58:11.403118Z"
    },
    "papermill": {
     "duration": 0.1768,
     "end_time": "2022-04-25T14:58:11.403512",
     "exception": false,
     "start_time": "2022-04-25T14:58:11.226712",
     "status": "completed"
    },
    "tags": []
   },
   "outputs": [],
   "source": [
    "torch.save(mf.state_dict(), f'./results/saved_models/mf_rank{DECOMP_RANK}_L{LAPLACIAN_PARAM}_TV{TV_PARAM}_state')"
   ]
  },
  {
   "cell_type": "code",
   "execution_count": 24,
   "id": "a155343a",
   "metadata": {
    "execution": {
     "iopub.execute_input": "2022-04-25T14:58:11.465800Z",
     "iopub.status.busy": "2022-04-25T14:58:11.465263Z",
     "iopub.status.idle": "2022-04-25T15:02:25.967211Z",
     "shell.execute_reply": "2022-04-25T15:02:25.956145Z"
    },
    "papermill": {
     "duration": 254.542294,
     "end_time": "2022-04-25T15:02:25.971546",
     "exception": false,
     "start_time": "2022-04-25T14:58:11.429252",
     "status": "completed"
    },
    "tags": []
   },
   "outputs": [],
   "source": [
    "final_output = mf.forward(torch.arange(0, data_dense_tensor.shape[0]), torch.arange(0, data_dense_tensor.shape[1]))\n",
    "\n",
    "final_squared_error = squared_loss(data_dense_tensor, final_output)\n",
    "final_laplacian = laplacian_loss(final_output, adjacency_to_laplacian(adjacency_dense_tensor).to(device=device))\n",
    "final_TV =  laplacian_loss(final_output, adjacency_to_laplacian(adjacency_to_L1_adjacency(final_output, adjacency_dense_tensor, 0.001, device)).to(device=device))"
   ]
  },
  {
   "cell_type": "code",
   "execution_count": 25,
   "id": "301ce629",
   "metadata": {
    "execution": {
     "iopub.execute_input": "2022-04-25T15:02:26.111164Z",
     "iopub.status.busy": "2022-04-25T15:02:26.109445Z",
     "iopub.status.idle": "2022-04-25T15:02:27.003962Z",
     "shell.execute_reply": "2022-04-25T15:02:27.002606Z"
    },
    "papermill": {
     "duration": 0.951548,
     "end_time": "2022-04-25T15:02:27.004048",
     "exception": false,
     "start_time": "2022-04-25T15:02:26.052500",
     "status": "completed"
    },
    "tags": []
   },
   "outputs": [],
   "source": [
    "np.save(f'./results/final_losses/mf_rank{DECOMP_RANK}_L{LAPLACIAN_PARAM}_TV{TV_PARAM}_losses', np.array([final_squared_error.item(), final_laplacian.item(), final_TV.item()]))"
   ]
  },
  {
   "cell_type": "code",
   "execution_count": null,
   "id": "f6207898",
   "metadata": {
    "papermill": {
     "duration": 0.025366,
     "end_time": "2022-04-25T15:02:27.055082",
     "exception": false,
     "start_time": "2022-04-25T15:02:27.029716",
     "status": "completed"
    },
    "tags": []
   },
   "outputs": [],
   "source": []
  }
 ],
 "metadata": {
  "interpreter": {
   "hash": "22ee4ece52021b4a120b95b326dd7a4d7938576e919f53927a7959ab5d7e1e45"
  },
  "kernelspec": {
   "display_name": "spatialSFT",
   "language": "python",
   "name": "spatialsft"
  },
  "language_info": {
   "codemirror_mode": {
    "name": "ipython",
    "version": 3
   },
   "file_extension": ".py",
   "mimetype": "text/x-python",
   "name": "python",
   "nbconvert_exporter": "python",
   "pygments_lexer": "ipython3",
   "version": "3.8.0"
  },
  "papermill": {
   "default_parameters": {},
   "duration": 3917.162244,
   "end_time": "2022-04-25T15:02:34.693861",
   "environment_variables": {},
   "exception": null,
   "input_path": "./notebooks/mf_param_template.ipynb",
   "output_path": "./papermill_output/mf_param_template_rank100_lap0.001_tv0.001.ipynb",
   "parameters": {
    "DECOMP_RANK": 100,
    "LAPLACIAN_PARAM": 0.001,
    "TV_PARAM": 0.001
   },
   "start_time": "2022-04-25T13:57:17.531617",
   "version": "2.3.4"
  }
 },
 "nbformat": 4,
 "nbformat_minor": 5
}