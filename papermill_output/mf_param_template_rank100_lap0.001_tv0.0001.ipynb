{
 "cells": [
  {
   "cell_type": "markdown",
   "id": "190725f4",
   "metadata": {
    "papermill": {
     "duration": 0.016071,
     "end_time": "2022-04-25T15:02:38.111415",
     "exception": false,
     "start_time": "2022-04-25T15:02:38.095344",
     "status": "completed"
    },
    "tags": []
   },
   "source": [
    "### setup"
   ]
  },
  {
   "cell_type": "code",
   "execution_count": 1,
   "id": "821d9de7",
   "metadata": {
    "execution": {
     "iopub.execute_input": "2022-04-25T15:02:38.146125Z",
     "iopub.status.busy": "2022-04-25T15:02:38.145736Z",
     "iopub.status.idle": "2022-04-25T15:02:41.987614Z",
     "shell.execute_reply": "2022-04-25T15:02:41.987164Z"
    },
    "papermill": {
     "duration": 3.861692,
     "end_time": "2022-04-25T15:02:41.987719",
     "exception": false,
     "start_time": "2022-04-25T15:02:38.126027",
     "status": "completed"
    },
    "tags": []
   },
   "outputs": [],
   "source": [
    "import numpy as np \n",
    "import matplotlib.pyplot as plt\n",
    "import pandas as pd\n",
    "\n",
    "import scipy\n",
    "\n",
    "\n",
    "from utils import *\n",
    "from pytorch_sparse_utils import *\n",
    "\n",
    "\n",
    "import torch\n",
    "from torch import nn\n",
    "import torch.nn.functional as F"
   ]
  },
  {
   "cell_type": "markdown",
   "id": "3dce63dd",
   "metadata": {
    "papermill": {
     "duration": 0.014506,
     "end_time": "2022-04-25T15:02:42.016776",
     "exception": false,
     "start_time": "2022-04-25T15:02:42.002270",
     "status": "completed"
    },
    "tags": []
   },
   "source": [
    "### set parameters"
   ]
  },
  {
   "cell_type": "code",
   "execution_count": 2,
   "id": "a74e6967",
   "metadata": {
    "execution": {
     "iopub.execute_input": "2022-04-25T15:02:42.046622Z",
     "iopub.status.busy": "2022-04-25T15:02:42.046270Z",
     "iopub.status.idle": "2022-04-25T15:02:42.048046Z",
     "shell.execute_reply": "2022-04-25T15:02:42.047736Z"
    },
    "papermill": {
     "duration": 0.018171,
     "end_time": "2022-04-25T15:02:42.048115",
     "exception": false,
     "start_time": "2022-04-25T15:02:42.029944",
     "status": "completed"
    },
    "tags": [
     "parameters"
    ]
   },
   "outputs": [],
   "source": [
    "DECOMP_RANK = 10\n",
    "LAPLACIAN_PARAM = 0.001\n",
    "TV_PARAM = 0.001"
   ]
  },
  {
   "cell_type": "code",
   "execution_count": 3,
   "id": "71510b48",
   "metadata": {
    "execution": {
     "iopub.execute_input": "2022-04-25T15:02:42.078672Z",
     "iopub.status.busy": "2022-04-25T15:02:42.078318Z",
     "iopub.status.idle": "2022-04-25T15:02:42.080438Z",
     "shell.execute_reply": "2022-04-25T15:02:42.080140Z"
    },
    "papermill": {
     "duration": 0.018658,
     "end_time": "2022-04-25T15:02:42.080505",
     "exception": false,
     "start_time": "2022-04-25T15:02:42.061847",
     "status": "completed"
    },
    "tags": [
     "injected-parameters"
    ]
   },
   "outputs": [],
   "source": [
    "# Parameters\n",
    "DECOMP_RANK = 100\n",
    "LAPLACIAN_PARAM = 0.001\n",
    "TV_PARAM = 0.0001\n"
   ]
  },
  {
   "cell_type": "code",
   "execution_count": 4,
   "id": "c88b3a5f",
   "metadata": {
    "execution": {
     "iopub.execute_input": "2022-04-25T15:02:42.111487Z",
     "iopub.status.busy": "2022-04-25T15:02:42.111140Z",
     "iopub.status.idle": "2022-04-25T15:02:59.983828Z",
     "shell.execute_reply": "2022-04-25T15:02:59.984199Z"
    },
    "papermill": {
     "duration": 17.889878,
     "end_time": "2022-04-25T15:02:59.984311",
     "exception": false,
     "start_time": "2022-04-25T15:02:42.094433",
     "status": "completed"
    },
    "tags": []
   },
   "outputs": [
    {
     "name": "stdout",
     "output_type": "stream",
     "text": [
      "Using cuda device\n"
     ]
    }
   ],
   "source": [
    "device = 'cuda' if torch.cuda.is_available() else 'cpu'\n",
    "print('Using {} device'.format(device))"
   ]
  },
  {
   "cell_type": "markdown",
   "id": "a1262ffa",
   "metadata": {
    "papermill": {
     "duration": 0.01403,
     "end_time": "2022-04-25T15:03:00.014074",
     "exception": false,
     "start_time": "2022-04-25T15:03:00.000044",
     "status": "completed"
    },
    "tags": []
   },
   "source": [
    "### loading data"
   ]
  },
  {
   "cell_type": "code",
   "execution_count": 5,
   "id": "ab70573a",
   "metadata": {
    "execution": {
     "iopub.execute_input": "2022-04-25T15:03:00.048378Z",
     "iopub.status.busy": "2022-04-25T15:03:00.047908Z",
     "iopub.status.idle": "2022-04-25T15:03:02.313288Z",
     "shell.execute_reply": "2022-04-25T15:03:02.313586Z"
    },
    "papermill": {
     "duration": 2.285493,
     "end_time": "2022-04-25T15:03:02.313693",
     "exception": false,
     "start_time": "2022-04-25T15:03:00.028200",
     "status": "completed"
    },
    "tags": []
   },
   "outputs": [
    {
     "data": {
      "text/html": [
       "<div>\n",
       "<style scoped>\n",
       "    .dataframe tbody tr th:only-of-type {\n",
       "        vertical-align: middle;\n",
       "    }\n",
       "\n",
       "    .dataframe tbody tr th {\n",
       "        vertical-align: top;\n",
       "    }\n",
       "\n",
       "    .dataframe thead th {\n",
       "        text-align: right;\n",
       "    }\n",
       "</style>\n",
       "<table border=\"1\" class=\"dataframe\">\n",
       "  <thead>\n",
       "    <tr style=\"text-align: right;\">\n",
       "      <th></th>\n",
       "      <th>1110008P14Rik</th>\n",
       "      <th>1500009C09Rik</th>\n",
       "      <th>1500012F01Rik</th>\n",
       "      <th>1700020I14Rik</th>\n",
       "      <th>2010107E04Rik</th>\n",
       "      <th>2010300C02Rik</th>\n",
       "      <th>2210016L21Rik</th>\n",
       "      <th>2310036O22Rik</th>\n",
       "      <th>2900011O08Rik</th>\n",
       "      <th>3110035E14Rik</th>\n",
       "      <th>...</th>\n",
       "      <th>Zrsr1</th>\n",
       "      <th>Zwint</th>\n",
       "      <th>mt-Co1</th>\n",
       "      <th>mt-Cytb</th>\n",
       "      <th>mt-Nd1</th>\n",
       "      <th>mt-Nd2</th>\n",
       "      <th>mt-Nd4</th>\n",
       "      <th>mt-Nd5</th>\n",
       "      <th>mt-Rnr1</th>\n",
       "      <th>mt-Rnr2</th>\n",
       "    </tr>\n",
       "  </thead>\n",
       "  <tbody>\n",
       "    <tr>\n",
       "      <th>AAAAAAAGGTAGTA</th>\n",
       "      <td>0</td>\n",
       "      <td>0</td>\n",
       "      <td>0</td>\n",
       "      <td>0</td>\n",
       "      <td>0</td>\n",
       "      <td>0</td>\n",
       "      <td>0</td>\n",
       "      <td>0</td>\n",
       "      <td>0</td>\n",
       "      <td>0</td>\n",
       "      <td>...</td>\n",
       "      <td>0</td>\n",
       "      <td>0</td>\n",
       "      <td>0</td>\n",
       "      <td>0</td>\n",
       "      <td>0</td>\n",
       "      <td>0</td>\n",
       "      <td>0</td>\n",
       "      <td>0</td>\n",
       "      <td>1</td>\n",
       "      <td>0</td>\n",
       "    </tr>\n",
       "    <tr>\n",
       "      <th>AAAAAAAGTCCCAA</th>\n",
       "      <td>0</td>\n",
       "      <td>0</td>\n",
       "      <td>0</td>\n",
       "      <td>0</td>\n",
       "      <td>0</td>\n",
       "      <td>0</td>\n",
       "      <td>0</td>\n",
       "      <td>0</td>\n",
       "      <td>0</td>\n",
       "      <td>0</td>\n",
       "      <td>...</td>\n",
       "      <td>0</td>\n",
       "      <td>0</td>\n",
       "      <td>2</td>\n",
       "      <td>2</td>\n",
       "      <td>5</td>\n",
       "      <td>0</td>\n",
       "      <td>1</td>\n",
       "      <td>0</td>\n",
       "      <td>2</td>\n",
       "      <td>4</td>\n",
       "    </tr>\n",
       "    <tr>\n",
       "      <th>AAAAAAATCTTAGT</th>\n",
       "      <td>0</td>\n",
       "      <td>0</td>\n",
       "      <td>0</td>\n",
       "      <td>0</td>\n",
       "      <td>0</td>\n",
       "      <td>0</td>\n",
       "      <td>0</td>\n",
       "      <td>0</td>\n",
       "      <td>0</td>\n",
       "      <td>0</td>\n",
       "      <td>...</td>\n",
       "      <td>0</td>\n",
       "      <td>0</td>\n",
       "      <td>0</td>\n",
       "      <td>0</td>\n",
       "      <td>0</td>\n",
       "      <td>0</td>\n",
       "      <td>0</td>\n",
       "      <td>0</td>\n",
       "      <td>0</td>\n",
       "      <td>0</td>\n",
       "    </tr>\n",
       "    <tr>\n",
       "      <th>AAAAAACATCTTTC</th>\n",
       "      <td>0</td>\n",
       "      <td>0</td>\n",
       "      <td>0</td>\n",
       "      <td>0</td>\n",
       "      <td>0</td>\n",
       "      <td>0</td>\n",
       "      <td>0</td>\n",
       "      <td>0</td>\n",
       "      <td>0</td>\n",
       "      <td>0</td>\n",
       "      <td>...</td>\n",
       "      <td>0</td>\n",
       "      <td>0</td>\n",
       "      <td>0</td>\n",
       "      <td>0</td>\n",
       "      <td>0</td>\n",
       "      <td>0</td>\n",
       "      <td>0</td>\n",
       "      <td>0</td>\n",
       "      <td>1</td>\n",
       "      <td>0</td>\n",
       "    </tr>\n",
       "    <tr>\n",
       "      <th>AAAAAACGAAATAG</th>\n",
       "      <td>0</td>\n",
       "      <td>0</td>\n",
       "      <td>0</td>\n",
       "      <td>0</td>\n",
       "      <td>0</td>\n",
       "      <td>0</td>\n",
       "      <td>0</td>\n",
       "      <td>0</td>\n",
       "      <td>0</td>\n",
       "      <td>0</td>\n",
       "      <td>...</td>\n",
       "      <td>0</td>\n",
       "      <td>0</td>\n",
       "      <td>1</td>\n",
       "      <td>0</td>\n",
       "      <td>0</td>\n",
       "      <td>0</td>\n",
       "      <td>0</td>\n",
       "      <td>0</td>\n",
       "      <td>0</td>\n",
       "      <td>0</td>\n",
       "    </tr>\n",
       "  </tbody>\n",
       "</table>\n",
       "<p>5 rows × 1222 columns</p>\n",
       "</div>"
      ],
      "text/plain": [
       "                1110008P14Rik  1500009C09Rik  1500012F01Rik  1700020I14Rik  \\\n",
       "AAAAAAAGGTAGTA              0              0              0              0   \n",
       "AAAAAAAGTCCCAA              0              0              0              0   \n",
       "AAAAAAATCTTAGT              0              0              0              0   \n",
       "AAAAAACATCTTTC              0              0              0              0   \n",
       "AAAAAACGAAATAG              0              0              0              0   \n",
       "\n",
       "                2010107E04Rik  2010300C02Rik  2210016L21Rik  2310036O22Rik  \\\n",
       "AAAAAAAGGTAGTA              0              0              0              0   \n",
       "AAAAAAAGTCCCAA              0              0              0              0   \n",
       "AAAAAAATCTTAGT              0              0              0              0   \n",
       "AAAAAACATCTTTC              0              0              0              0   \n",
       "AAAAAACGAAATAG              0              0              0              0   \n",
       "\n",
       "                2900011O08Rik  3110035E14Rik  ...  Zrsr1  Zwint  mt-Co1  \\\n",
       "AAAAAAAGGTAGTA              0              0  ...      0      0       0   \n",
       "AAAAAAAGTCCCAA              0              0  ...      0      0       2   \n",
       "AAAAAAATCTTAGT              0              0  ...      0      0       0   \n",
       "AAAAAACATCTTTC              0              0  ...      0      0       0   \n",
       "AAAAAACGAAATAG              0              0  ...      0      0       1   \n",
       "\n",
       "                mt-Cytb  mt-Nd1  mt-Nd2  mt-Nd4  mt-Nd5  mt-Rnr1  mt-Rnr2  \n",
       "AAAAAAAGGTAGTA        0       0       0       0       0        1        0  \n",
       "AAAAAAAGTCCCAA        2       5       0       1       0        2        4  \n",
       "AAAAAAATCTTAGT        0       0       0       0       0        0        0  \n",
       "AAAAAACATCTTTC        0       0       0       0       0        1        0  \n",
       "AAAAAACGAAATAG        0       0       0       0       0        0        0  \n",
       "\n",
       "[5 rows x 1222 columns]"
      ]
     },
     "execution_count": 5,
     "metadata": {},
     "output_type": "execute_result"
    }
   ],
   "source": [
    "bead_reads_subset = pd.read_csv('./data/bead_reads_subset.csv', index_col='Unnamed: 0')\n",
    "bead_reads_subset.head()"
   ]
  },
  {
   "cell_type": "code",
   "execution_count": 6,
   "id": "e1e10e3b",
   "metadata": {
    "execution": {
     "iopub.execute_input": "2022-04-25T15:03:02.348156Z",
     "iopub.status.busy": "2022-04-25T15:03:02.346284Z",
     "iopub.status.idle": "2022-04-25T15:03:02.896675Z",
     "shell.execute_reply": "2022-04-25T15:03:02.896986Z"
    },
    "papermill": {
     "duration": 0.568417,
     "end_time": "2022-04-25T15:03:02.897113",
     "exception": false,
     "start_time": "2022-04-25T15:03:02.328696",
     "status": "completed"
    },
    "tags": []
   },
   "outputs": [],
   "source": [
    "data_scipy_sparse = scipy.sparse.coo_matrix( bead_reads_subset.to_numpy() )"
   ]
  },
  {
   "cell_type": "code",
   "execution_count": 7,
   "id": "27117944",
   "metadata": {
    "execution": {
     "iopub.execute_input": "2022-04-25T15:03:02.930724Z",
     "iopub.status.busy": "2022-04-25T15:03:02.930371Z",
     "iopub.status.idle": "2022-04-25T15:03:07.602470Z",
     "shell.execute_reply": "2022-04-25T15:03:07.602779Z"
    },
    "papermill": {
     "duration": 4.6907,
     "end_time": "2022-04-25T15:03:07.602895",
     "exception": false,
     "start_time": "2022-04-25T15:03:02.912195",
     "status": "completed"
    },
    "tags": []
   },
   "outputs": [],
   "source": [
    "data_sparse_tensor = scipy_sparse_to_pytorch_sparse(data_scipy_sparse).to(device=device)"
   ]
  },
  {
   "cell_type": "code",
   "execution_count": 8,
   "id": "cb63b6d4",
   "metadata": {
    "execution": {
     "iopub.execute_input": "2022-04-25T15:03:07.639373Z",
     "iopub.status.busy": "2022-04-25T15:03:07.639019Z",
     "iopub.status.idle": "2022-04-25T15:03:07.645885Z",
     "shell.execute_reply": "2022-04-25T15:03:07.646173Z"
    },
    "papermill": {
     "duration": 0.026858,
     "end_time": "2022-04-25T15:03:07.646255",
     "exception": false,
     "start_time": "2022-04-25T15:03:07.619397",
     "status": "completed"
    },
    "tags": []
   },
   "outputs": [
    {
     "data": {
      "text/plain": [
       "tensor(indices=tensor([[    0,     0,     0,  ..., 53207, 53207, 53207],\n",
       "                       [   84,   412,   528,  ...,  1219,  1220,  1221]]),\n",
       "       values=tensor([ 1.,  1.,  1.,  ..., 12., 26., 71.]),\n",
       "       device='cuda:0', size=(53208, 1222), nnz=9552845, layout=torch.sparse_coo)"
      ]
     },
     "execution_count": 8,
     "metadata": {},
     "output_type": "execute_result"
    }
   ],
   "source": [
    "data_sparse_tensor"
   ]
  },
  {
   "cell_type": "code",
   "execution_count": 9,
   "id": "38515390",
   "metadata": {
    "execution": {
     "iopub.execute_input": "2022-04-25T15:03:07.678232Z",
     "iopub.status.busy": "2022-04-25T15:03:07.677883Z",
     "iopub.status.idle": "2022-04-25T15:03:07.680509Z",
     "shell.execute_reply": "2022-04-25T15:03:07.680168Z"
    },
    "papermill": {
     "duration": 0.019638,
     "end_time": "2022-04-25T15:03:07.680580",
     "exception": false,
     "start_time": "2022-04-25T15:03:07.660942",
     "status": "completed"
    },
    "tags": []
   },
   "outputs": [],
   "source": [
    "data_dense_tensor = data_sparse_tensor.to_dense()"
   ]
  },
  {
   "cell_type": "code",
   "execution_count": 10,
   "id": "65610135",
   "metadata": {
    "execution": {
     "iopub.execute_input": "2022-04-25T15:03:07.713571Z",
     "iopub.status.busy": "2022-04-25T15:03:07.713202Z",
     "iopub.status.idle": "2022-04-25T15:03:07.837336Z",
     "shell.execute_reply": "2022-04-25T15:03:07.837693Z"
    },
    "papermill": {
     "duration": 0.142242,
     "end_time": "2022-04-25T15:03:07.837814",
     "exception": false,
     "start_time": "2022-04-25T15:03:07.695572",
     "status": "completed"
    },
    "tags": []
   },
   "outputs": [],
   "source": [
    "mask_scipy_sparse = (data_scipy_sparse != 0).astype(np.int64).tocoo()"
   ]
  },
  {
   "cell_type": "code",
   "execution_count": 11,
   "id": "cf660d1e",
   "metadata": {
    "execution": {
     "iopub.execute_input": "2022-04-25T15:03:07.871100Z",
     "iopub.status.busy": "2022-04-25T15:03:07.870740Z",
     "iopub.status.idle": "2022-04-25T15:03:07.906752Z",
     "shell.execute_reply": "2022-04-25T15:03:07.906391Z"
    },
    "papermill": {
     "duration": 0.053686,
     "end_time": "2022-04-25T15:03:07.906847",
     "exception": false,
     "start_time": "2022-04-25T15:03:07.853161",
     "status": "completed"
    },
    "tags": []
   },
   "outputs": [],
   "source": [
    "mask_sparse_tensor = scipy_sparse_to_pytorch_sparse(mask_scipy_sparse)"
   ]
  },
  {
   "cell_type": "code",
   "execution_count": 12,
   "id": "2063a8a9",
   "metadata": {
    "execution": {
     "iopub.execute_input": "2022-04-25T15:03:07.942955Z",
     "iopub.status.busy": "2022-04-25T15:03:07.942596Z",
     "iopub.status.idle": "2022-04-25T15:03:08.843496Z",
     "shell.execute_reply": "2022-04-25T15:03:08.843834Z"
    },
    "papermill": {
     "duration": 0.919883,
     "end_time": "2022-04-25T15:03:08.843962",
     "exception": false,
     "start_time": "2022-04-25T15:03:07.924079",
     "status": "completed"
    },
    "tags": []
   },
   "outputs": [],
   "source": [
    "mask_dense_tensor = mask_sparse_tensor.to_dense().bool()"
   ]
  },
  {
   "cell_type": "code",
   "execution_count": 13,
   "id": "4719d9ba",
   "metadata": {
    "execution": {
     "iopub.execute_input": "2022-04-25T15:03:08.884824Z",
     "iopub.status.busy": "2022-04-25T15:03:08.883745Z",
     "iopub.status.idle": "2022-04-25T15:03:34.693030Z",
     "shell.execute_reply": "2022-04-25T15:03:34.692632Z"
    },
    "papermill": {
     "duration": 25.832741,
     "end_time": "2022-04-25T15:03:34.693133",
     "exception": false,
     "start_time": "2022-04-25T15:03:08.860392",
     "status": "completed"
    },
    "tags": []
   },
   "outputs": [],
   "source": [
    "distances = np.load('./data/macosko_distance_matrix.npy')"
   ]
  },
  {
   "cell_type": "code",
   "execution_count": 14,
   "id": "627398f3",
   "metadata": {
    "execution": {
     "iopub.execute_input": "2022-04-25T15:03:34.731331Z",
     "iopub.status.busy": "2022-04-25T15:03:34.730968Z",
     "iopub.status.idle": "2022-04-25T15:03:42.439058Z",
     "shell.execute_reply": "2022-04-25T15:03:42.439492Z"
    },
    "papermill": {
     "duration": 7.727869,
     "end_time": "2022-04-25T15:03:42.439608",
     "exception": false,
     "start_time": "2022-04-25T15:03:34.711739",
     "status": "completed"
    },
    "tags": []
   },
   "outputs": [],
   "source": [
    "adjacency = scipy.sparse.coo_matrix( distances <= 20 , dtype=np.float32)\n",
    "degree = scipy.sparse.diags( adjacency.sum(axis=0).A1 )\n",
    "laplacian = (degree - adjacency).tocoo()"
   ]
  },
  {
   "cell_type": "code",
   "execution_count": 15,
   "id": "7b5a0f84",
   "metadata": {
    "execution": {
     "iopub.execute_input": "2022-04-25T15:03:42.484596Z",
     "iopub.status.busy": "2022-04-25T15:03:42.484164Z",
     "iopub.status.idle": "2022-04-25T15:03:42.485300Z",
     "shell.execute_reply": "2022-04-25T15:03:42.484955Z"
    },
    "papermill": {
     "duration": 0.029253,
     "end_time": "2022-04-25T15:03:42.485392",
     "exception": false,
     "start_time": "2022-04-25T15:03:42.456139",
     "status": "completed"
    },
    "tags": []
   },
   "outputs": [],
   "source": [
    "adjacency_sparse_tensor = scipy_sparse_to_pytorch_sparse(adjacency)"
   ]
  },
  {
   "cell_type": "code",
   "execution_count": 16,
   "id": "95d051e9",
   "metadata": {
    "execution": {
     "iopub.execute_input": "2022-04-25T15:03:42.553207Z",
     "iopub.status.busy": "2022-04-25T15:03:42.552701Z",
     "iopub.status.idle": "2022-04-25T15:03:44.792993Z",
     "shell.execute_reply": "2022-04-25T15:03:44.793322Z"
    },
    "papermill": {
     "duration": 2.278619,
     "end_time": "2022-04-25T15:03:44.793431",
     "exception": false,
     "start_time": "2022-04-25T15:03:42.514812",
     "status": "completed"
    },
    "tags": []
   },
   "outputs": [],
   "source": [
    "adjacency_dense_tensor = adjacency_sparse_tensor.to_dense()"
   ]
  },
  {
   "cell_type": "code",
   "execution_count": 17,
   "id": "0353c4d8",
   "metadata": {
    "execution": {
     "iopub.execute_input": "2022-04-25T15:03:44.835503Z",
     "iopub.status.busy": "2022-04-25T15:03:44.835132Z",
     "iopub.status.idle": "2022-04-25T15:03:44.836551Z",
     "shell.execute_reply": "2022-04-25T15:03:44.836875Z"
    },
    "papermill": {
     "duration": 0.027677,
     "end_time": "2022-04-25T15:03:44.836957",
     "exception": false,
     "start_time": "2022-04-25T15:03:44.809280",
     "status": "completed"
    },
    "tags": []
   },
   "outputs": [],
   "source": [
    "def laplacian_loss(x, x_lap):\n",
    "    \n",
    "    lap_sum = 0\n",
    "    for ii in range(x.shape[1]):\n",
    "        lap_sum = lap_sum + (x[:,ii].T @ x_lap @ x[:,ii])\n",
    "        \n",
    "    return lap_sum"
   ]
  },
  {
   "cell_type": "code",
   "execution_count": 18,
   "id": "7dbc04b7",
   "metadata": {
    "execution": {
     "iopub.execute_input": "2022-04-25T15:03:44.891248Z",
     "iopub.status.busy": "2022-04-25T15:03:44.890884Z",
     "iopub.status.idle": "2022-04-25T15:03:44.903506Z",
     "shell.execute_reply": "2022-04-25T15:03:44.903201Z"
    },
    "papermill": {
     "duration": 0.043,
     "end_time": "2022-04-25T15:03:44.903575",
     "exception": false,
     "start_time": "2022-04-25T15:03:44.860575",
     "status": "completed"
    },
    "tags": []
   },
   "outputs": [],
   "source": [
    "mf = MatrixFactorization(mask_sparse_tensor.shape[0], mask_sparse_tensor.shape[1], DECOMP_RANK).to(device=device)"
   ]
  },
  {
   "cell_type": "code",
   "execution_count": 19,
   "id": "fae567da",
   "metadata": {
    "execution": {
     "iopub.execute_input": "2022-04-25T15:03:44.945176Z",
     "iopub.status.busy": "2022-04-25T15:03:44.944786Z",
     "iopub.status.idle": "2022-04-25T15:03:44.946612Z",
     "shell.execute_reply": "2022-04-25T15:03:44.946266Z"
    },
    "papermill": {
     "duration": 0.027746,
     "end_time": "2022-04-25T15:03:44.946683",
     "exception": false,
     "start_time": "2022-04-25T15:03:44.918937",
     "status": "completed"
    },
    "tags": []
   },
   "outputs": [],
   "source": [
    "import torch.optim as optim\n",
    "\n",
    "optimizer = optim.Adam(mf.parameters(), lr=0.001)"
   ]
  },
  {
   "cell_type": "code",
   "execution_count": 20,
   "id": "7f4889b4",
   "metadata": {
    "execution": {
     "iopub.execute_input": "2022-04-25T15:03:45.000577Z",
     "iopub.status.busy": "2022-04-25T15:03:45.000205Z",
     "iopub.status.idle": "2022-04-25T16:03:45.588094Z",
     "shell.execute_reply": "2022-04-25T16:03:45.588649Z"
    },
    "papermill": {
     "duration": 3600.621488,
     "end_time": "2022-04-25T16:03:45.591540",
     "exception": false,
     "start_time": "2022-04-25T15:03:44.970052",
     "status": "completed"
    },
    "tags": []
   },
   "outputs": [
    {
     "name": "stdout",
     "output_type": "stream",
     "text": [
      "0\n",
      "215980310.0\n"
     ]
    },
    {
     "name": "stdout",
     "output_type": "stream",
     "text": [
      "1\n",
      "215790736.0\n"
     ]
    },
    {
     "name": "stdout",
     "output_type": "stream",
     "text": [
      "2\n",
      "215301374.0\n"
     ]
    },
    {
     "name": "stdout",
     "output_type": "stream",
     "text": [
      "3\n",
      "214378566.0\n"
     ]
    },
    {
     "name": "stdout",
     "output_type": "stream",
     "text": [
      "4\n",
      "212954986.0\n"
     ]
    },
    {
     "name": "stdout",
     "output_type": "stream",
     "text": [
      "5\n",
      "211010822.0\n"
     ]
    },
    {
     "name": "stdout",
     "output_type": "stream",
     "text": [
      "6\n",
      "208577320.0\n"
     ]
    },
    {
     "name": "stdout",
     "output_type": "stream",
     "text": [
      "7\n",
      "205751356.0\n"
     ]
    },
    {
     "name": "stdout",
     "output_type": "stream",
     "text": [
      "8\n",
      "202619051.0\n"
     ]
    },
    {
     "name": "stdout",
     "output_type": "stream",
     "text": [
      "9\n",
      "199339703.0\n"
     ]
    },
    {
     "name": "stdout",
     "output_type": "stream",
     "text": [
      "10\n",
      "196080769.0\n"
     ]
    },
    {
     "name": "stdout",
     "output_type": "stream",
     "text": [
      "11\n",
      "192939601.0\n"
     ]
    },
    {
     "name": "stdout",
     "output_type": "stream",
     "text": [
      "12\n",
      "190093721.0\n"
     ]
    },
    {
     "name": "stdout",
     "output_type": "stream",
     "text": [
      "13\n",
      "187558074.0\n"
     ]
    },
    {
     "name": "stdout",
     "output_type": "stream",
     "text": [
      "14\n",
      "185374033.0\n"
     ]
    },
    {
     "name": "stdout",
     "output_type": "stream",
     "text": [
      "15\n",
      "183501278.0\n"
     ]
    },
    {
     "name": "stdout",
     "output_type": "stream",
     "text": [
      "16\n",
      "181882457.0\n"
     ]
    },
    {
     "name": "stdout",
     "output_type": "stream",
     "text": [
      "17\n",
      "180420351.0\n"
     ]
    },
    {
     "name": "stdout",
     "output_type": "stream",
     "text": [
      "18\n",
      "179073165.0\n"
     ]
    },
    {
     "name": "stdout",
     "output_type": "stream",
     "text": [
      "19\n",
      "177820330.0\n"
     ]
    },
    {
     "name": "stdout",
     "output_type": "stream",
     "text": [
      "20\n",
      "176613742.0\n"
     ]
    },
    {
     "name": "stdout",
     "output_type": "stream",
     "text": [
      "21\n",
      "175476993.0\n"
     ]
    },
    {
     "name": "stdout",
     "output_type": "stream",
     "text": [
      "22\n",
      "174359781.5\n"
     ]
    },
    {
     "name": "stdout",
     "output_type": "stream",
     "text": [
      "23\n",
      "173284239.0\n"
     ]
    },
    {
     "name": "stdout",
     "output_type": "stream",
     "text": [
      "24\n",
      "172240361.0\n"
     ]
    },
    {
     "name": "stdout",
     "output_type": "stream",
     "text": [
      "25\n",
      "171219666.0\n"
     ]
    },
    {
     "name": "stdout",
     "output_type": "stream",
     "text": [
      "26\n",
      "170223136.0\n"
     ]
    },
    {
     "name": "stdout",
     "output_type": "stream",
     "text": [
      "27\n",
      "169251757.5\n"
     ]
    },
    {
     "name": "stdout",
     "output_type": "stream",
     "text": [
      "28\n",
      "168299429.0\n"
     ]
    },
    {
     "name": "stdout",
     "output_type": "stream",
     "text": [
      "29\n",
      "167360716.0\n"
     ]
    },
    {
     "name": "stdout",
     "output_type": "stream",
     "text": [
      "30\n",
      "166442563.0\n"
     ]
    },
    {
     "name": "stdout",
     "output_type": "stream",
     "text": [
      "31\n",
      "165534969.0\n"
     ]
    },
    {
     "name": "stdout",
     "output_type": "stream",
     "text": [
      "32\n",
      "164640018.0\n"
     ]
    },
    {
     "name": "stdout",
     "output_type": "stream",
     "text": [
      "33\n",
      "163773726.0\n"
     ]
    },
    {
     "name": "stdout",
     "output_type": "stream",
     "text": [
      "34\n",
      "162903037.0\n"
     ]
    },
    {
     "name": "stdout",
     "output_type": "stream",
     "text": [
      "35\n",
      "162051278.0\n"
     ]
    },
    {
     "name": "stdout",
     "output_type": "stream",
     "text": [
      "36\n",
      "161207769.0\n"
     ]
    },
    {
     "name": "stdout",
     "output_type": "stream",
     "text": [
      "37\n",
      "160376953.0\n"
     ]
    },
    {
     "name": "stdout",
     "output_type": "stream",
     "text": [
      "38\n",
      "159562967.0\n"
     ]
    },
    {
     "name": "stdout",
     "output_type": "stream",
     "text": [
      "39\n",
      "158750830.0\n"
     ]
    },
    {
     "name": "stdout",
     "output_type": "stream",
     "text": [
      "40\n",
      "157951498.0\n"
     ]
    },
    {
     "name": "stdout",
     "output_type": "stream",
     "text": [
      "41\n",
      "157167794.0\n"
     ]
    },
    {
     "name": "stdout",
     "output_type": "stream",
     "text": [
      "42\n",
      "156387771.0\n"
     ]
    },
    {
     "name": "stdout",
     "output_type": "stream",
     "text": [
      "43\n",
      "155622681.0\n"
     ]
    },
    {
     "name": "stdout",
     "output_type": "stream",
     "text": [
      "44\n",
      "154865326.0\n"
     ]
    },
    {
     "name": "stdout",
     "output_type": "stream",
     "text": [
      "45\n",
      "154119436.0\n"
     ]
    },
    {
     "name": "stdout",
     "output_type": "stream",
     "text": [
      "46\n",
      "153386554.0\n"
     ]
    },
    {
     "name": "stdout",
     "output_type": "stream",
     "text": [
      "47\n",
      "152662282.0\n"
     ]
    },
    {
     "name": "stdout",
     "output_type": "stream",
     "text": [
      "48\n",
      "151936133.0\n"
     ]
    },
    {
     "name": "stdout",
     "output_type": "stream",
     "text": [
      "49\n",
      "151240235.0\n"
     ]
    }
   ],
   "source": [
    "losses = []\n",
    "\n",
    "for epoch in range(50):\n",
    "    \n",
    "    batcher = data_adjacency_batcher(data_dense_tensor, adjacency_dense_tensor, 5000)\n",
    "    \n",
    "    total_loss = 0\n",
    "    \n",
    "    \n",
    "    for (data_batch, mask_batch, adjacency_batch, row_batch) in batcher:\n",
    "        \n",
    "        \n",
    "        \n",
    "        data_batch = data_batch.to(device=device)\n",
    "        mask_batch = mask_batch.to(device=device)\n",
    "        adjacency_batch = adjacency_batch.to(device=device)\n",
    "        row_batch = row_batch.to(device=device)\n",
    "        \n",
    "        laplacian_tensor = adjacency_to_laplacian(adjacency_batch).to(device=device)\n",
    "    \n",
    "        optimizer.zero_grad()\n",
    "\n",
    "        output = mf.forward(row_batch, torch.arange(0, data_batch.shape[1]))\n",
    "        \n",
    "        L1_laplacian_tensor = adjacency_to_laplacian(adjacency_to_L1_adjacency(output, adjacency_batch, 0.001, device)).to(device=device)\n",
    "        \n",
    "        loss = squared_loss(data_batch[mask_batch], output[mask_batch]) + LAPLACIAN_PARAM*laplacian_loss(output, laplacian_tensor) + TV_PARAM*laplacian_loss(output, L1_laplacian_tensor)\n",
    "        loss.backward()\n",
    "        optimizer.step()\n",
    "        \n",
    "        total_loss += loss.item()\n",
    "        \n",
    "\n",
    "    if epoch % 1 == 0:\n",
    "        print(epoch)\n",
    "        print(total_loss)\n",
    "        \n",
    "    losses.append(total_loss)"
   ]
  },
  {
   "cell_type": "code",
   "execution_count": 21,
   "id": "34bf44b0",
   "metadata": {
    "execution": {
     "iopub.execute_input": "2022-04-25T16:03:45.677369Z",
     "iopub.status.busy": "2022-04-25T16:03:45.663538Z",
     "iopub.status.idle": "2022-04-25T16:03:45.694161Z",
     "shell.execute_reply": "2022-04-25T16:03:45.693826Z"
    },
    "papermill": {
     "duration": 0.074476,
     "end_time": "2022-04-25T16:03:45.694246",
     "exception": false,
     "start_time": "2022-04-25T16:03:45.619770",
     "status": "completed"
    },
    "tags": []
   },
   "outputs": [
    {
     "data": {
      "text/plain": [
       "10881931.0"
      ]
     },
     "execution_count": 21,
     "metadata": {},
     "output_type": "execute_result"
    }
   ],
   "source": [
    "loss.item()"
   ]
  },
  {
   "cell_type": "code",
   "execution_count": 22,
   "id": "aa1d94d9",
   "metadata": {
    "execution": {
     "iopub.execute_input": "2022-04-25T16:03:45.758140Z",
     "iopub.status.busy": "2022-04-25T16:03:45.757691Z",
     "iopub.status.idle": "2022-04-25T16:03:45.771193Z",
     "shell.execute_reply": "2022-04-25T16:03:45.770816Z"
    },
    "papermill": {
     "duration": 0.051504,
     "end_time": "2022-04-25T16:03:45.771284",
     "exception": false,
     "start_time": "2022-04-25T16:03:45.719780",
     "status": "completed"
    },
    "tags": []
   },
   "outputs": [],
   "source": [
    "np.save(f'./results/loss_curves/mf_rank{DECOMP_RANK}_L{LAPLACIAN_PARAM}_TV{TV_PARAM}_losses', np.array(losses))"
   ]
  },
  {
   "cell_type": "code",
   "execution_count": 23,
   "id": "223de894",
   "metadata": {
    "execution": {
     "iopub.execute_input": "2022-04-25T16:03:45.829090Z",
     "iopub.status.busy": "2022-04-25T16:03:45.827359Z",
     "iopub.status.idle": "2022-04-25T16:03:46.196366Z",
     "shell.execute_reply": "2022-04-25T16:03:46.195994Z"
    },
    "papermill": {
     "duration": 0.399631,
     "end_time": "2022-04-25T16:03:46.196464",
     "exception": false,
     "start_time": "2022-04-25T16:03:45.796833",
     "status": "completed"
    },
    "tags": []
   },
   "outputs": [],
   "source": [
    "torch.save(mf.state_dict(), f'./results/saved_models/mf_rank{DECOMP_RANK}_L{LAPLACIAN_PARAM}_TV{TV_PARAM}_state')"
   ]
  },
  {
   "cell_type": "code",
   "execution_count": 24,
   "id": "cc003699",
   "metadata": {
    "execution": {
     "iopub.execute_input": "2022-04-25T16:03:46.264070Z",
     "iopub.status.busy": "2022-04-25T16:03:46.263442Z",
     "iopub.status.idle": "2022-04-25T16:07:55.151030Z",
     "shell.execute_reply": "2022-04-25T16:07:55.133831Z"
    },
    "papermill": {
     "duration": 248.933865,
     "end_time": "2022-04-25T16:07:55.155649",
     "exception": false,
     "start_time": "2022-04-25T16:03:46.221784",
     "status": "completed"
    },
    "tags": []
   },
   "outputs": [],
   "source": [
    "final_output = mf.forward(torch.arange(0, data_dense_tensor.shape[0]), torch.arange(0, data_dense_tensor.shape[1]))\n",
    "\n",
    "final_squared_error = squared_loss(data_dense_tensor, final_output)\n",
    "final_laplacian = laplacian_loss(final_output, adjacency_to_laplacian(adjacency_dense_tensor).to(device=device))\n",
    "final_TV =  laplacian_loss(final_output, adjacency_to_laplacian(adjacency_to_L1_adjacency(final_output, adjacency_dense_tensor, 0.001, device)).to(device=device))"
   ]
  },
  {
   "cell_type": "code",
   "execution_count": 25,
   "id": "66396604",
   "metadata": {
    "execution": {
     "iopub.execute_input": "2022-04-25T16:07:55.326980Z",
     "iopub.status.busy": "2022-04-25T16:07:55.316076Z",
     "iopub.status.idle": "2022-04-25T16:07:56.207564Z",
     "shell.execute_reply": "2022-04-25T16:07:56.208304Z"
    },
    "papermill": {
     "duration": 0.96145,
     "end_time": "2022-04-25T16:07:56.208400",
     "exception": false,
     "start_time": "2022-04-25T16:07:55.246950",
     "status": "completed"
    },
    "tags": []
   },
   "outputs": [],
   "source": [
    "np.save(f'./results/final_losses/mf_rank{DECOMP_RANK}_L{LAPLACIAN_PARAM}_TV{TV_PARAM}_losses', np.array([final_squared_error.item(), final_laplacian.item(), final_TV.item()]))"
   ]
  },
  {
   "cell_type": "code",
   "execution_count": null,
   "id": "dbd1544e",
   "metadata": {
    "papermill": {
     "duration": 0.025556,
     "end_time": "2022-04-25T16:07:56.261627",
     "exception": false,
     "start_time": "2022-04-25T16:07:56.236071",
     "status": "completed"
    },
    "tags": []
   },
   "outputs": [],
   "source": []
  }
 ],
 "metadata": {
  "interpreter": {
   "hash": "22ee4ece52021b4a120b95b326dd7a4d7938576e919f53927a7959ab5d7e1e45"
  },
  "kernelspec": {
   "display_name": "spatialSFT",
   "language": "python",
   "name": "spatialsft"
  },
  "language_info": {
   "codemirror_mode": {
    "name": "ipython",
    "version": 3
   },
   "file_extension": ".py",
   "mimetype": "text/x-python",
   "name": "python",
   "nbconvert_exporter": "python",
   "pygments_lexer": "ipython3",
   "version": "3.8.0"
  },
  "papermill": {
   "default_parameters": {},
   "duration": 3927.612284,
   "end_time": "2022-04-25T16:08:03.890086",
   "environment_variables": {},
   "exception": null,
   "input_path": "./notebooks/mf_param_template.ipynb",
   "output_path": "./papermill_output/mf_param_template_rank100_lap0.001_tv0.0001.ipynb",
   "parameters": {
    "DECOMP_RANK": 100,
    "LAPLACIAN_PARAM": 0.001,
    "TV_PARAM": 0.0001
   },
   "start_time": "2022-04-25T15:02:36.277802",
   "version": "2.3.4"
  }
 },
 "nbformat": 4,
 "nbformat_minor": 5
}